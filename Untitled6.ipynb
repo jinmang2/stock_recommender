{
 "cells": [
  {
   "cell_type": "code",
   "execution_count": 1,
   "metadata": {},
   "outputs": [],
   "source": [
    "from mnist_user import *"
   ]
  },
  {
   "cell_type": "code",
   "execution_count": 2,
   "metadata": {},
   "outputs": [
    {
     "name": "stdout",
     "output_type": "stream",
     "text": [
      "<2018년 7월 2일 Hands on Machin Learning 세미나 chap.3 mnist 예시 program>\n",
      "\n",
      "본 프로그램은 mnist dataset의 숫자들을 유저가 알아맞추는 프로그램입니다.\n",
      "중간에 \"0\"을 눌러 프로그램을 종료할 수 있습니다.\n",
      "본 프로그램의 오더에 따라 알맞은 값을 입력해주세요.\n",
      "\n",
      "1~70000까지의 숫자를 입력하세요 : 54\n"
     ]
    },
    {
     "data": {
      "image/png": "[encoded data removed]",
      "text/plain": [
       "<matplotlib.figure.Figure at 0x25243caab00>"
      ]
     },
     "metadata": {},
     "output_type": "display_data"
    },
    {
     "name": "stdout",
     "output_type": "stream",
     "text": [
      "다음 그림의 숫자는 무엇일까요? [0~9] :0\n",
      "맞았습니다! 재도전?(Y/N) :0\n",
      "잘못된 입력값입니다. 다시 입력해주세요.\n",
      "맞았습니다! 재도전?(Y/N) :n\n",
      "프로그램을 종료합니다.\n"
     ]
    }
   ],
   "source": [
    "main()"
   ]
  },
  {
   "cell_type": "code",
   "execution_count": 3,
   "metadata": {},
   "outputs": [
    {
     "ename": "AttributeError",
     "evalue": "'int' object has no attribute 'upper'",
     "output_type": "error",
     "traceback": [
      "\u001b[1;31m---------------------------------------------------------------------------\u001b[0m",
      "\u001b[1;31mAttributeError\u001b[0m                            Traceback (most recent call last)",
      "\u001b[1;32m<ipython-input-3-1e2874faa870>\u001b[0m in \u001b[0;36m<module>\u001b[1;34m()\u001b[0m\n\u001b[1;32m----> 1\u001b[1;33m \u001b[0mis_no\u001b[0m\u001b[1;33m(\u001b[0m\u001b[1;36m0\u001b[0m\u001b[1;33m)\u001b[0m\u001b[1;33m\u001b[0m\u001b[0m\n\u001b[0m",
      "\u001b[1;32m~\\workspace\\handson-ml-master\\Untitled Folder\\mnist_user.py\u001b[0m in \u001b[0;36mis_no\u001b[1;34m(yes_or_no)\u001b[0m\n\u001b[0;32m     65\u001b[0m \u001b[1;33m\u001b[0m\u001b[0m\n\u001b[0;32m     66\u001b[0m \u001b[1;32mdef\u001b[0m \u001b[0mis_no\u001b[0m\u001b[1;33m(\u001b[0m\u001b[0myes_or_no\u001b[0m\u001b[1;33m)\u001b[0m\u001b[1;33m:\u001b[0m\u001b[1;33m\u001b[0m\u001b[0m\n\u001b[1;32m---> 67\u001b[1;33m     \u001b[0mno\u001b[0m \u001b[1;33m=\u001b[0m \u001b[0myes_or_no\u001b[0m\u001b[1;33m.\u001b[0m\u001b[0mupper\u001b[0m\u001b[1;33m(\u001b[0m\u001b[1;33m)\u001b[0m\u001b[1;33m\u001b[0m\u001b[0m\n\u001b[0m\u001b[0;32m     68\u001b[0m     \u001b[1;32mif\u001b[0m \u001b[0mno\u001b[0m \u001b[1;33m==\u001b[0m \u001b[1;34m\"NO\"\u001b[0m \u001b[1;32mor\u001b[0m \u001b[0mno\u001b[0m \u001b[1;33m==\u001b[0m \u001b[1;34m\"N\"\u001b[0m \u001b[1;32mor\u001b[0m \u001b[0mno\u001b[0m \u001b[1;33m==\u001b[0m \u001b[1;34m'0'\u001b[0m\u001b[1;33m:\u001b[0m\u001b[1;33m\u001b[0m\u001b[0m\n\u001b[0;32m     69\u001b[0m         \u001b[0mresult\u001b[0m \u001b[1;33m=\u001b[0m \u001b[1;32mTrue\u001b[0m\u001b[1;33m\u001b[0m\u001b[0m\n",
      "\u001b[1;31mAttributeError\u001b[0m: 'int' object has no attribute 'upper'"
     ]
    }
   ],
   "source": [
    "is_no(0)"
   ]
  },
  {
   "cell_type": "code",
   "execution_count": null,
   "metadata": {},
   "outputs": [],
   "source": []
  }
 ],
 "metadata": {
  "kernelspec": {
   "display_name": "Python 3",
   "language": "python",
   "name": "python3"
  },
  "language_info": {
   "codemirror_mode": {
    "name": "ipython",
    "version": 3
   },
   "file_extension": ".py",
   "mimetype": "text/x-python",
   "name": "python",
   "nbconvert_exporter": "python",
   "pygments_lexer": "ipython3",
   "version": "3.6.5"
  }
 },
 "nbformat": 4,
 "nbformat_minor": 2
}
