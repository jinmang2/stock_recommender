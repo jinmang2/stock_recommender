{
 "cells": [
  {
   "cell_type": "code",
   "execution_count": 1,
   "metadata": {},
   "outputs": [],
   "source": [
    "%run moon_code\n",
    "with open('학습준비파일_20181013.pickle', 'rb') as handle:\n",
    "    store = pickle.load(handle)\n",
    "train, test, X_li, scl_X_li, target_li = store\n",
    "%run xgb_modelfit\n",
    "scl_li = scl_X_li.copy()\n",
    "for ix, i in enumerate(scl_X_li):\n",
    "    if (i.find('returns') != -1) or (i.find('his') != -1) or (i.find('pct') != -1):\n",
    "        scl_li[ix] = scl_X_li[ix][4:]\n",
    "origin_X = [i for i in X_li if i.find('returns') != 0]\n",
    "origin_scl_X = [i for i in scl_li if i.find('returns') != 0]"
   ]
  },
  {
   "cell_type": "code",
   "execution_count": 2,
   "metadata": {},
   "outputs": [],
   "source": [
    "import warnings\n",
    "warnings.filterwarnings(action='ignore')"
   ]
  },
  {
   "cell_type": "markdown",
   "metadata": {},
   "source": [
    "# 대조실험 -Y3\n",
    "- predictors : returns~를 제외한 feature\n",
    "- target : Y3"
   ]
  },
  {
   "cell_type": "code",
   "execution_count": 3,
   "metadata": {},
   "outputs": [],
   "source": [
    "predictors = origin_scl_X.copy()\n",
    "target = 'Y3'"
   ]
  },
  {
   "cell_type": "code",
   "execution_count": 4,
   "metadata": {},
   "outputs": [],
   "source": [
    "result, fi_dict = temp_calc_feature_importance(alg, train, test, predictors, target)"
   ]
  },
  {
   "cell_type": "code",
   "execution_count": 5,
   "metadata": {},
   "outputs": [
    {
     "data": {
      "text/html": [
       "<div>\n",
       "<style scoped>\n",
       "    .dataframe tbody tr th:only-of-type {\n",
       "        vertical-align: middle;\n",
       "    }\n",
       "\n",
       "    .dataframe tbody tr th {\n",
       "        vertical-align: top;\n",
       "    }\n",
       "\n",
       "    .dataframe thead th {\n",
       "        text-align: right;\n",
       "    }\n",
       "</style>\n",
       "<table border=\"1\" class=\"dataframe\">\n",
       "  <thead>\n",
       "    <tr style=\"text-align: right;\">\n",
       "      <th></th>\n",
       "      <th>KB금융</th>\n",
       "      <th>LG화학</th>\n",
       "      <th>NAVER</th>\n",
       "      <th>POSCO</th>\n",
       "      <th>SK텔레콤</th>\n",
       "      <th>SK하이닉스</th>\n",
       "      <th>삼성전자</th>\n",
       "      <th>삼성중공업</th>\n",
       "      <th>셀트리온</th>\n",
       "      <th>현대건설</th>\n",
       "      <th>현대글로비스</th>\n",
       "      <th>현대차</th>\n",
       "    </tr>\n",
       "  </thead>\n",
       "  <tbody>\n",
       "    <tr>\n",
       "      <th>acc</th>\n",
       "      <td>0.590909</td>\n",
       "      <td>0.566116</td>\n",
       "      <td>0.647059</td>\n",
       "      <td>0.644628</td>\n",
       "      <td>0.669421</td>\n",
       "      <td>0.574380</td>\n",
       "      <td>0.502075</td>\n",
       "      <td>0.628099</td>\n",
       "      <td>0.628099</td>\n",
       "      <td>0.706612</td>\n",
       "      <td>0.590909</td>\n",
       "      <td>0.685950</td>\n",
       "    </tr>\n",
       "    <tr>\n",
       "      <th>f1</th>\n",
       "      <td>0.640000</td>\n",
       "      <td>0.482759</td>\n",
       "      <td>0.655738</td>\n",
       "      <td>0.705479</td>\n",
       "      <td>0.696970</td>\n",
       "      <td>0.630824</td>\n",
       "      <td>0.469027</td>\n",
       "      <td>0.645669</td>\n",
       "      <td>0.711538</td>\n",
       "      <td>0.700422</td>\n",
       "      <td>0.634686</td>\n",
       "      <td>0.657658</td>\n",
       "    </tr>\n",
       "    <tr>\n",
       "      <th>pre</th>\n",
       "      <td>0.727273</td>\n",
       "      <td>0.355072</td>\n",
       "      <td>0.776699</td>\n",
       "      <td>0.804688</td>\n",
       "      <td>0.814159</td>\n",
       "      <td>0.633094</td>\n",
       "      <td>0.441667</td>\n",
       "      <td>0.766355</td>\n",
       "      <td>0.816176</td>\n",
       "      <td>0.624060</td>\n",
       "      <td>0.796296</td>\n",
       "      <td>0.675926</td>\n",
       "    </tr>\n",
       "    <tr>\n",
       "      <th>rec</th>\n",
       "      <td>0.571429</td>\n",
       "      <td>0.753846</td>\n",
       "      <td>0.567376</td>\n",
       "      <td>0.628049</td>\n",
       "      <td>0.609272</td>\n",
       "      <td>0.628571</td>\n",
       "      <td>0.500000</td>\n",
       "      <td>0.557823</td>\n",
       "      <td>0.630682</td>\n",
       "      <td>0.798077</td>\n",
       "      <td>0.527607</td>\n",
       "      <td>0.640351</td>\n",
       "    </tr>\n",
       "    <tr>\n",
       "      <th>auc</th>\n",
       "      <td>0.598214</td>\n",
       "      <td>0.625511</td>\n",
       "      <td>0.665131</td>\n",
       "      <td>0.653768</td>\n",
       "      <td>0.689251</td>\n",
       "      <td>0.564286</td>\n",
       "      <td>0.501852</td>\n",
       "      <td>0.647333</td>\n",
       "      <td>0.625947</td>\n",
       "      <td>0.717879</td>\n",
       "      <td>0.624563</td>\n",
       "      <td>0.683457</td>\n",
       "    </tr>\n",
       "  </tbody>\n",
       "</table>\n",
       "</div>"
      ],
      "text/plain": [
       "         KB금융      LG화학     NAVER     POSCO     SK텔레콤    SK하이닉스      삼성전자  \\\n",
       "acc  0.590909  0.566116  0.647059  0.644628  0.669421  0.574380  0.502075   \n",
       "f1   0.640000  0.482759  0.655738  0.705479  0.696970  0.630824  0.469027   \n",
       "pre  0.727273  0.355072  0.776699  0.804688  0.814159  0.633094  0.441667   \n",
       "rec  0.571429  0.753846  0.567376  0.628049  0.609272  0.628571  0.500000   \n",
       "auc  0.598214  0.625511  0.665131  0.653768  0.689251  0.564286  0.501852   \n",
       "\n",
       "        삼성중공업      셀트리온      현대건설    현대글로비스       현대차  \n",
       "acc  0.628099  0.628099  0.706612  0.590909  0.685950  \n",
       "f1   0.645669  0.711538  0.700422  0.634686  0.657658  \n",
       "pre  0.766355  0.816176  0.624060  0.796296  0.675926  \n",
       "rec  0.557823  0.630682  0.798077  0.527607  0.640351  \n",
       "auc  0.647333  0.625947  0.717879  0.624563  0.683457  "
      ]
     },
     "execution_count": 5,
     "metadata": {},
     "output_type": "execute_result"
    }
   ],
   "source": [
    "pd.DataFrame(result, index=['acc','f1','pre','rec','auc'])"
   ]
  },
  {
   "cell_type": "code",
   "execution_count": 6,
   "metadata": {},
   "outputs": [
    {
     "data": {
      "text/plain": [
       "acc    0.619521\n",
       "f1     0.635898\n",
       "pre    0.685955\n",
       "rec    0.617757\n",
       "auc    0.633099\n",
       "dtype: float64"
      ]
     },
     "execution_count": 6,
     "metadata": {},
     "output_type": "execute_result"
    }
   ],
   "source": [
    "pd.DataFrame(result, index=['acc','f1','pre','rec','auc']).mean(1)"
   ]
  },
  {
   "cell_type": "code",
   "execution_count": 7,
   "metadata": {},
   "outputs": [
    {
     "data": {
      "text/plain": [
       "pct_change     12\n",
       "his_vol_120    10\n",
       "scl_Close      10\n",
       "scl_Low         9\n",
       "his_vol_7       9\n",
       "scl_Volume      9\n",
       "his_vol_21      6\n",
       "his_vol_30      6\n",
       "his_vol_91      6\n",
       "scl_Open        6\n",
       "dtype: int64"
      ]
     },
     "execution_count": 7,
     "metadata": {},
     "output_type": "execute_result"
    }
   ],
   "source": [
    "pd.DataFrame(fi_dict).count(1).sort_values(ascending=False)[:10]"
   ]
  },
  {
   "cell_type": "code",
   "execution_count": null,
   "metadata": {},
   "outputs": [],
   "source": []
  }
 ],
 "metadata": {
  "kernelspec": {
   "display_name": "Python 3",
   "language": "python",
   "name": "python3"
  },
  "language_info": {
   "codemirror_mode": {
    "name": "ipython",
    "version": 3
   },
   "file_extension": ".py",
   "mimetype": "text/x-python",
   "name": "python",
   "nbconvert_exporter": "python",
   "pygments_lexer": "ipython3",
   "version": "3.6.5"
  }
 },
 "nbformat": 4,
 "nbformat_minor": 2
}
