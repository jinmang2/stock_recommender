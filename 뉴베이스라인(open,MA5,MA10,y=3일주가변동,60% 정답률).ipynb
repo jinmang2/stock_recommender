{
 "cells": [
  {
   "cell_type": "code",
   "execution_count": 1,
   "metadata": {},
   "outputs": [],
   "source": [
    "import numpy as np\n",
    "import pandas as pd\n",
    "import matplotlib.pyplot as plt\n",
    "%matplotlib inline\n",
    "import matplotlib"
   ]
  },
  {
   "cell_type": "code",
   "execution_count": 2,
   "metadata": {},
   "outputs": [],
   "source": [
    "from matplotlib import font_manager, rc\n",
    "font_name = font_manager.FontProperties(fname=\"c:/Windows/Fonts/malgun.ttf\").get_name()\n",
    "rc('font', family=font_name)\n",
    "matplotlib.rcParams['axes.unicode_minus']=False"
   ]
  },
  {
   "cell_type": "code",
   "execution_count": 3,
   "metadata": {},
   "outputs": [],
   "source": [
    "plt.rcParams['axes.labelsize'] = 14\n",
    "plt.rcParams['xtick.labelsize'] = 12\n",
    "plt.rcParams['ytick.labelsize'] = 12"
   ]
  },
  {
   "cell_type": "code",
   "execution_count": 4,
   "metadata": {},
   "outputs": [],
   "source": [
    "import pickle\n",
    "with open('raw_data_20180811.pickle','rb') as handle:\n",
    "\n",
    "    raw_data = pickle.load(handle)"
   ]
  },
  {
   "cell_type": "code",
   "execution_count": 5,
   "metadata": {},
   "outputs": [],
   "source": [
    "kospi200 = pd.read_excel(\"C:\\\\Users\\\\axasd\\\\Downloads\\\\상장법인목록.xlsx\")\n",
    "kospi200 = kospi200[kospi200.columns[:2]]\n",
    "kospi200[\"종목코드\"] = kospi200[\"종목코드\"].map('{:06d}'.format)"
   ]
  },
  {
   "cell_type": "code",
   "execution_count": 6,
   "metadata": {},
   "outputs": [],
   "source": [
    "code_dict = {\n",
    "    i : j for i, j in zip(kospi200[\"회사명\"], kospi200[\"종목코드\"])\n",
    "}"
   ]
  },
  {
   "cell_type": "code",
   "execution_count": 7,
   "metadata": {},
   "outputs": [],
   "source": [
    "for i in raw_data.keys():\n",
    "    raw_data[i] = raw_data[i].assign(sum_close_3 = raw_data[i].Close.rolling(window = 3).sum())\n",
    "    raw_data[i] = raw_data[i].assign(sum_close_5 = raw_data[i].Close.rolling(window =5).sum())\n",
    "    raw_data[i] = raw_data[i].assign(ma_5 = raw_data[i].Close.rolling(window = 5).mean())\n",
    "    raw_data[i] = raw_data[i].assign(ma_10 = raw_data[i].Close.rolling(window = 10).mean())"
   ]
  },
  {
   "cell_type": "code",
   "execution_count": 8,
   "metadata": {},
   "outputs": [],
   "source": [
    "for i in raw_data.keys():\n",
    "    raw_data[i] = raw_data[i].assign(pct_change = raw_data[i].Close.pct_change().fillna(0))\n",
    "    raw_data[i] = raw_data[i].assign(Y = np.where(raw_data[i][\"pct_change\"].fillna(0)>=0, 1,0))"
   ]
  },
  {
   "cell_type": "code",
   "execution_count": 9,
   "metadata": {},
   "outputs": [],
   "source": [
    "for i in raw_data.keys():\n",
    "    raw_data[i] = raw_data[i].assign(pct_change2 = raw_data[i].sum_close_3.pct_change().fillna(0))\n",
    "    raw_data[i] = raw_data[i].assign(pct_change3 = raw_data[i].sum_close_5.pct_change().fillna(0))\n",
    "    raw_data[i] = raw_data[i].assign(sencond_Y = np.where(raw_data[i][\"pct_change2\"].fillna(0)>=0, 1,0))\n",
    "    raw_data[i] = raw_data[i].assign(third_Y = np.where(raw_data[i][\"pct_change3\"].fillna(0)>=0, 1,0))"
   ]
  },
  {
   "cell_type": "code",
   "execution_count": 10,
   "metadata": {},
   "outputs": [],
   "source": [
    "copy_keys = kospi200[\"종목코드\"]"
   ]
  },
  {
   "cell_type": "code",
   "execution_count": 11,
   "metadata": {},
   "outputs": [],
   "source": [
    "for i in raw_data.keys():\n",
    "    raw_data[i] = raw_data[i].dropna(axis=0)"
   ]
  },
  {
   "cell_type": "code",
   "execution_count": 12,
   "metadata": {},
   "outputs": [],
   "source": [
    "for i in copy_keys:\n",
    "    if (len(raw_data[i]) < 252):\n",
    "        del raw_data[i]"
   ]
  },
  {
   "cell_type": "markdown",
   "metadata": {},
   "source": [
    "### Train, Test Split"
   ]
  },
  {
   "cell_type": "code",
   "execution_count": null,
   "metadata": {},
   "outputs": [],
   "source": [
    "train = {}\n",
    "train_idx = {}\n",
    "test = {}\n",
    "test_idx = {}\n",
    "for code, df in raw_data.items():\n",
    "    train[code] = df.iloc[:int(len(df)*0.8)][[\"Open\",\"ma_5\", \"ma_10\"]]\n",
    "    train_idx[code] = df.iloc[:int(len(df)*0.8)][\"sencond_Y\"]\n",
    "    test[code] = df.iloc[int(len(df)*0.8):][[\"Open\",\"ma_5\", \"ma_10\"]]\n",
    "    test_idx[code] = df.iloc[int(len(df)*0.8):][\"sencond_Y\"]"
   ]
  },
  {
   "cell_type": "markdown",
   "metadata": {},
   "source": [
    "### Scale 조정"
   ]
  },
  {
   "cell_type": "code",
   "execution_count": 16,
   "metadata": {},
   "outputs": [],
   "source": [
    "from sklearn.preprocessing import StandardScaler\n",
    "\n",
    "std_scaler = StandardScaler()\n",
    "li = [\"Open\",\"ma_5\", \"ma_10\"]\n",
    "for code in raw_data.keys():\n",
    "    train[code][li] = std_scaler.fit_transform(train[code][li].values)\n",
    "    test[code][li] = std_scaler.fit_transform(test[code][li].values)"
   ]
  },
  {
   "cell_type": "markdown",
   "metadata": {},
   "source": [
    "### model 호출"
   ]
  },
  {
   "cell_type": "code",
   "execution_count": 17,
   "metadata": {},
   "outputs": [],
   "source": [
    "from sklearn.linear_model import LogisticRegression\n",
    "from sklearn.tree import DecisionTreeClassifier\n",
    "from sklearn.svm import SVC\n",
    "\n",
    "from sklearn.metrics import accuracy_score\n",
    "\n",
    "log_clf = LogisticRegression()\n",
    "DTC_clf = DecisionTreeClassifier()\n",
    "svm_clf = SVC()"
   ]
  },
  {
   "cell_type": "markdown",
   "metadata": {},
   "source": [
    "### Predict"
   ]
  },
  {
   "cell_type": "code",
   "execution_count": 22,
   "metadata": {},
   "outputs": [],
   "source": [
    "from sklearn.metrics import accuracy_score\n",
    "from sklearn.model_selection import cross_val_predict\n",
    "from sklearn.metrics import confusion_matrix\n",
    "from sklearn.metrics import roc_curve\n",
    "from sklearn.metrics import auc\n",
    "score_list = pd.DataFrame(columns=('LR','DT','SVM'))\n",
    "CM = pd.DataFrame(columns=('LR','DT','SVM'))\n",
    "roc_auc_score = pd.DataFrame(columns=('LR','DT','SVM'))\n",
    "\n",
    "for i in raw_data.keys():\n",
    "    a=[]\n",
    "    a1=[]\n",
    "    X_train = train[i].values\n",
    "    y_train = train_idx[i].values\n",
    "    X_test = test[i].values\n",
    "    y_test = test_idx[i].values\n",
    "    for clf in (log_clf, DTC_clf, svm_clf):\n",
    "        clf.fit(X_train, y_train)\n",
    "        y_pred = clf.predict(X_test)\n",
    "        a.append(accuracy_score(y_test, y_pred))\n",
    "        y_train_pred = cross_val_predict(clf, X_train, y_train, cv=3)\n",
    "        a1.append([confusion_matrix(y_train, y_train_pred)])\n",
    "    score_list.loc[i] = a\n",
    "    CM.loc[i] = a1"
   ]
  },
  {
   "cell_type": "code",
   "execution_count": 55,
   "metadata": {},
   "outputs": [],
   "source": [
    "roc_auc_score = pd.DataFrame(columns=('LR','SVM'))\n",
    "\n",
    "for i in raw_data.keys():\n",
    "    a2=[]\n",
    "    X_train = train[i].values\n",
    "    y_train = train_idx[i].values\n",
    "    score=cross_val_predict(log_clf, X_train, y_train, cv=3,method=\"decision_function\")\n",
    "    fpr, tpr, thresholds = roc_curve(y_train, score)\n",
    "    a2.append([auc(fpr, tpr)])\n",
    "    \n",
    "    score=cross_val_predict(svm_clf, X_train, y_train, cv=3,method=\"decision_function\")\n",
    "    fpr, tpr, thresholds = roc_curve(y_train, score)\n",
    "    a2.append([auc(fpr, tpr)])\n",
    "    roc_auc_score.loc[i] = a2"
   ]
  },
  {
   "cell_type": "code",
   "execution_count": 24,
   "metadata": {},
   "outputs": [
    {
     "data": {
      "text/plain": [
       "(array([ 1.,  0.,  0.,  0.,  1.,  0.,  3., 42., 89., 61.]),\n",
       " array([0.33126935, 0.374613  , 0.41795666, 0.46130031, 0.50464396,\n",
       "        0.54798762, 0.59133127, 0.63467492, 0.67801858, 0.72136223,\n",
       "        0.76470588]),\n",
       " <a list of 10 Patch objects>)"
      ]
     },
     "execution_count": 24,
     "metadata": {},
     "output_type": "execute_result"
    },
    {
     "data": {
      "image/png": "[encoded data removed]",
      "text/plain": [
       "<Figure size 432x288 with 1 Axes>"
      ]
     },
     "metadata": {},
     "output_type": "display_data"
    }
   ],
   "source": [
    "plt.axis([0.5,1,0,80])\n",
    "plt.hist(score_list['LR'],bins=10,rwidth=0.9)"
   ]
  },
  {
   "cell_type": "code",
   "execution_count": 25,
   "metadata": {},
   "outputs": [
    {
     "data": {
      "text/html": [
       "<div>\n",
       "<style scoped>\n",
       "    .dataframe tbody tr th:only-of-type {\n",
       "        vertical-align: middle;\n",
       "    }\n",
       "\n",
       "    .dataframe tbody tr th {\n",
       "        vertical-align: top;\n",
       "    }\n",
       "\n",
       "    .dataframe thead th {\n",
       "        text-align: right;\n",
       "    }\n",
       "</style>\n",
       "<table border=\"1\" class=\"dataframe\">\n",
       "  <thead>\n",
       "    <tr style=\"text-align: right;\">\n",
       "      <th></th>\n",
       "      <th>LR</th>\n",
       "      <th>DT</th>\n",
       "      <th>SVM</th>\n",
       "    </tr>\n",
       "  </thead>\n",
       "  <tbody>\n",
       "    <tr>\n",
       "      <th>count</th>\n",
       "      <td>197.000000</td>\n",
       "      <td>197.000000</td>\n",
       "      <td>197.000000</td>\n",
       "    </tr>\n",
       "    <tr>\n",
       "      <th>mean</th>\n",
       "      <td>0.697263</td>\n",
       "      <td>0.615050</td>\n",
       "      <td>0.669055</td>\n",
       "    </tr>\n",
       "    <tr>\n",
       "      <th>std</th>\n",
       "      <td>0.042074</td>\n",
       "      <td>0.041125</td>\n",
       "      <td>0.051077</td>\n",
       "    </tr>\n",
       "    <tr>\n",
       "      <th>min</th>\n",
       "      <td>0.331269</td>\n",
       "      <td>0.303406</td>\n",
       "      <td>0.436533</td>\n",
       "    </tr>\n",
       "    <tr>\n",
       "      <th>25%</th>\n",
       "      <td>0.678019</td>\n",
       "      <td>0.591331</td>\n",
       "      <td>0.647059</td>\n",
       "    </tr>\n",
       "    <tr>\n",
       "      <th>50%</th>\n",
       "      <td>0.702786</td>\n",
       "      <td>0.620438</td>\n",
       "      <td>0.678019</td>\n",
       "    </tr>\n",
       "    <tr>\n",
       "      <th>75%</th>\n",
       "      <td>0.721362</td>\n",
       "      <td>0.643963</td>\n",
       "      <td>0.702786</td>\n",
       "    </tr>\n",
       "    <tr>\n",
       "      <th>max</th>\n",
       "      <td>0.764706</td>\n",
       "      <td>0.699690</td>\n",
       "      <td>0.743034</td>\n",
       "    </tr>\n",
       "  </tbody>\n",
       "</table>\n",
       "</div>"
      ],
      "text/plain": [
       "               LR          DT         SVM\n",
       "count  197.000000  197.000000  197.000000\n",
       "mean     0.697263    0.615050    0.669055\n",
       "std      0.042074    0.041125    0.051077\n",
       "min      0.331269    0.303406    0.436533\n",
       "25%      0.678019    0.591331    0.647059\n",
       "50%      0.702786    0.620438    0.678019\n",
       "75%      0.721362    0.643963    0.702786\n",
       "max      0.764706    0.699690    0.743034"
      ]
     },
     "execution_count": 25,
     "metadata": {},
     "output_type": "execute_result"
    }
   ],
   "source": [
    "score_list.describe()"
   ]
  },
  {
   "cell_type": "code",
   "execution_count": 56,
   "metadata": {
    "collapsed": true
   },
   "outputs": [
    {
     "data": {
      "text/html": [
       "<div>\n",
       "<style scoped>\n",
       "    .dataframe tbody tr th:only-of-type {\n",
       "        vertical-align: middle;\n",
       "    }\n",
       "\n",
       "    .dataframe tbody tr th {\n",
       "        vertical-align: top;\n",
       "    }\n",
       "\n",
       "    .dataframe thead th {\n",
       "        text-align: right;\n",
       "    }\n",
       "</style>\n",
       "<table border=\"1\" class=\"dataframe\">\n",
       "  <thead>\n",
       "    <tr style=\"text-align: right;\">\n",
       "      <th></th>\n",
       "      <th>LR</th>\n",
       "      <th>SVM</th>\n",
       "    </tr>\n",
       "  </thead>\n",
       "  <tbody>\n",
       "    <tr>\n",
       "      <th>006840</th>\n",
       "      <td>[0.6907301135882722]</td>\n",
       "      <td>[0.6060213633978297]</td>\n",
       "    </tr>\n",
       "    <tr>\n",
       "      <th>027410</th>\n",
       "      <td>[0.7139381658456088]</td>\n",
       "      <td>[0.6024583201883176]</td>\n",
       "    </tr>\n",
       "    <tr>\n",
       "      <th>138930</th>\n",
       "      <td>[0.7223267708936498]</td>\n",
       "      <td>[0.5706933989577301]</td>\n",
       "    </tr>\n",
       "    <tr>\n",
       "      <th>001040</th>\n",
       "      <td>[0.6076380813953488]</td>\n",
       "      <td>[0.4995687984496124]</td>\n",
       "    </tr>\n",
       "    <tr>\n",
       "      <th>079160</th>\n",
       "      <td>[0.6435020229232448]</td>\n",
       "      <td>[0.48206647161631083]</td>\n",
       "    </tr>\n",
       "    <tr>\n",
       "      <th>000120</th>\n",
       "      <td>[0.7419004992669206]</td>\n",
       "      <td>[0.5748115370029976]</td>\n",
       "    </tr>\n",
       "    <tr>\n",
       "      <th>097950</th>\n",
       "      <td>[0.7795106775512173]</td>\n",
       "      <td>[0.7236232530658017]</td>\n",
       "    </tr>\n",
       "    <tr>\n",
       "      <th>005830</th>\n",
       "      <td>[0.732626440402987]</td>\n",
       "      <td>[0.6028145347616047]</td>\n",
       "    </tr>\n",
       "    <tr>\n",
       "      <th>000990</th>\n",
       "      <td>[0.6543685105459283]</td>\n",
       "      <td>[0.5741953378435416]</td>\n",
       "    </tr>\n",
       "    <tr>\n",
       "      <th>114090</th>\n",
       "      <td>[0.7511793476687987]</td>\n",
       "      <td>[0.6038621827337713]</td>\n",
       "    </tr>\n",
       "    <tr>\n",
       "      <th>078930</th>\n",
       "      <td>[0.8087863334418364]</td>\n",
       "      <td>[0.7218778255994792]</td>\n",
       "    </tr>\n",
       "    <tr>\n",
       "      <th>006360</th>\n",
       "      <td>[0.7731995362990872]</td>\n",
       "      <td>[0.5879534366999952]</td>\n",
       "    </tr>\n",
       "    <tr>\n",
       "      <th>007070</th>\n",
       "      <td>[0.6653158232990166]</td>\n",
       "      <td>[0.5972643602895704]</td>\n",
       "    </tr>\n",
       "    <tr>\n",
       "      <th>012630</th>\n",
       "      <td>[0.7379737336740283]</td>\n",
       "      <td>[0.5638815095778229]</td>\n",
       "    </tr>\n",
       "    <tr>\n",
       "      <th>001060</th>\n",
       "      <td>[0.6592394411728518]</td>\n",
       "      <td>[0.5831256589089312]</td>\n",
       "    </tr>\n",
       "    <tr>\n",
       "      <th>096760</th>\n",
       "      <td>[0.6156920924398128]</td>\n",
       "      <td>[0.5957277946639649]</td>\n",
       "    </tr>\n",
       "    <tr>\n",
       "      <th>105560</th>\n",
       "      <td>[0.8204168043074118]</td>\n",
       "      <td>[0.805320126251727]</td>\n",
       "    </tr>\n",
       "    <tr>\n",
       "      <th>002380</th>\n",
       "      <td>[0.7344836075069509]</td>\n",
       "      <td>[0.5719681611059624]</td>\n",
       "    </tr>\n",
       "    <tr>\n",
       "      <th>030200</th>\n",
       "      <td>[0.7976567271919596]</td>\n",
       "      <td>[0.6673330001665834]</td>\n",
       "    </tr>\n",
       "    <tr>\n",
       "      <th>033780</th>\n",
       "      <td>[0.7465650743748726]</td>\n",
       "      <td>[0.5830034252224454]</td>\n",
       "    </tr>\n",
       "    <tr>\n",
       "      <th>093050</th>\n",
       "      <td>[0.7384075218176601]</td>\n",
       "      <td>[0.6786926043015575]</td>\n",
       "    </tr>\n",
       "    <tr>\n",
       "      <th>003550</th>\n",
       "      <td>[0.777600675186882]</td>\n",
       "      <td>[0.7644321196045334]</td>\n",
       "    </tr>\n",
       "    <tr>\n",
       "      <th>034220</th>\n",
       "      <td>[0.8151655221520897]</td>\n",
       "      <td>[0.7935553168635875]</td>\n",
       "    </tr>\n",
       "    <tr>\n",
       "      <th>001120</th>\n",
       "      <td>[0.7913674966222737]</td>\n",
       "      <td>[0.71241314418066]</td>\n",
       "    </tr>\n",
       "    <tr>\n",
       "      <th>051900</th>\n",
       "      <td>[0.7389549929950187]</td>\n",
       "      <td>[0.6291081296699876]</td>\n",
       "    </tr>\n",
       "    <tr>\n",
       "      <th>032640</th>\n",
       "      <td>[0.7663246933720017]</td>\n",
       "      <td>[0.6711811975107245]</td>\n",
       "    </tr>\n",
       "    <tr>\n",
       "      <th>011070</th>\n",
       "      <td>[0.7834304569311514]</td>\n",
       "      <td>[0.7558901281259647]</td>\n",
       "    </tr>\n",
       "    <tr>\n",
       "      <th>066570</th>\n",
       "      <td>[0.7738692617086282]</td>\n",
       "      <td>[0.6469017094017093]</td>\n",
       "    </tr>\n",
       "    <tr>\n",
       "      <th>108670</th>\n",
       "      <td>[0.7524481078620342]</td>\n",
       "      <td>[0.5846958147283593]</td>\n",
       "    </tr>\n",
       "    <tr>\n",
       "      <th>051910</th>\n",
       "      <td>[0.826848788868058]</td>\n",
       "      <td>[0.7948543480831083]</td>\n",
       "    </tr>\n",
       "    <tr>\n",
       "      <th>...</th>\n",
       "      <td>...</td>\n",
       "      <td>...</td>\n",
       "    </tr>\n",
       "    <tr>\n",
       "      <th>018880</th>\n",
       "      <td>[0.7218228380000775]</td>\n",
       "      <td>[0.6006738701057279]</td>\n",
       "    </tr>\n",
       "    <tr>\n",
       "      <th>009420</th>\n",
       "      <td>[0.7489627056496357]</td>\n",
       "      <td>[0.5936073720268249]</td>\n",
       "    </tr>\n",
       "    <tr>\n",
       "      <th>003300</th>\n",
       "      <td>[0.713443678092943]</td>\n",
       "      <td>[0.5047496544025785]</td>\n",
       "    </tr>\n",
       "    <tr>\n",
       "      <th>051600</th>\n",
       "      <td>[0.5977584752216261]</td>\n",
       "      <td>[0.45818536094786133]</td>\n",
       "    </tr>\n",
       "    <tr>\n",
       "      <th>052690</th>\n",
       "      <td>[0.7735556884841]</td>\n",
       "      <td>[0.6179496951219512]</td>\n",
       "    </tr>\n",
       "    <tr>\n",
       "      <th>097230</th>\n",
       "      <td>[0.7800704567541302]</td>\n",
       "      <td>[0.601120019436346]</td>\n",
       "    </tr>\n",
       "    <tr>\n",
       "      <th>000880</th>\n",
       "      <td>[0.7896640440578983]</td>\n",
       "      <td>[0.7235265608460506]</td>\n",
       "    </tr>\n",
       "    <tr>\n",
       "      <th>088350</th>\n",
       "      <td>[0.7355801232888607]</td>\n",
       "      <td>[0.703609913273329]</td>\n",
       "    </tr>\n",
       "    <tr>\n",
       "      <th>012450</th>\n",
       "      <td>[0.7768948714237469]</td>\n",
       "      <td>[0.5932165774111062]</td>\n",
       "    </tr>\n",
       "    <tr>\n",
       "      <th>009830</th>\n",
       "      <td>[0.8148971342383108]</td>\n",
       "      <td>[0.7491788838612368]</td>\n",
       "    </tr>\n",
       "    <tr>\n",
       "      <th>000720</th>\n",
       "      <td>[0.7754328430190499]</td>\n",
       "      <td>[0.6415915119363395]</td>\n",
       "    </tr>\n",
       "    <tr>\n",
       "      <th>005440</th>\n",
       "      <td>[0.7100391379522386]</td>\n",
       "      <td>[0.6534808180627799]</td>\n",
       "    </tr>\n",
       "    <tr>\n",
       "      <th>086280</th>\n",
       "      <td>[0.7362409488651571]</td>\n",
       "      <td>[0.6803487595454359]</td>\n",
       "    </tr>\n",
       "    <tr>\n",
       "      <th>064350</th>\n",
       "      <td>[0.7730957372466807]</td>\n",
       "      <td>[0.6851246214768227]</td>\n",
       "    </tr>\n",
       "    <tr>\n",
       "      <th>079430</th>\n",
       "      <td>[0.6225468418002705]</td>\n",
       "      <td>[0.49346870774579876]</td>\n",
       "    </tr>\n",
       "    <tr>\n",
       "      <th>012330</th>\n",
       "      <td>[0.7772220613781122]</td>\n",
       "      <td>[0.7064731712024706]</td>\n",
       "    </tr>\n",
       "    <tr>\n",
       "      <th>010620</th>\n",
       "      <td>[0.7887175825872182]</td>\n",
       "      <td>[0.5972546503550479]</td>\n",
       "    </tr>\n",
       "    <tr>\n",
       "      <th>069960</th>\n",
       "      <td>[0.7933070438840851]</td>\n",
       "      <td>[0.7334708102697683]</td>\n",
       "    </tr>\n",
       "    <tr>\n",
       "      <th>017800</th>\n",
       "      <td>[0.7650349853591902]</td>\n",
       "      <td>[0.6776696771755952]</td>\n",
       "    </tr>\n",
       "    <tr>\n",
       "      <th>011210</th>\n",
       "      <td>[0.7519891402714933]</td>\n",
       "      <td>[0.5913303167420814]</td>\n",
       "    </tr>\n",
       "    <tr>\n",
       "      <th>004020</th>\n",
       "      <td>[0.8106278815762766]</td>\n",
       "      <td>[0.6734696836427956]</td>\n",
       "    </tr>\n",
       "    <tr>\n",
       "      <th>009540</th>\n",
       "      <td>[0.8155728200371057]</td>\n",
       "      <td>[0.5796348368893012]</td>\n",
       "    </tr>\n",
       "    <tr>\n",
       "      <th>267250</th>\n",
       "      <td>[0.8244870651204281]</td>\n",
       "      <td>[0.7792893250074338]</td>\n",
       "    </tr>\n",
       "    <tr>\n",
       "      <th>005380</th>\n",
       "      <td>[0.7819838711234232]</td>\n",
       "      <td>[0.6396520853643234]</td>\n",
       "    </tr>\n",
       "    <tr>\n",
       "      <th>001450</th>\n",
       "      <td>[0.7556687210053721]</td>\n",
       "      <td>[0.7115583075335398]</td>\n",
       "    </tr>\n",
       "    <tr>\n",
       "      <th>057050</th>\n",
       "      <td>[0.7537711100180358]</td>\n",
       "      <td>[0.7021835787930519]</td>\n",
       "    </tr>\n",
       "    <tr>\n",
       "      <th>008770</th>\n",
       "      <td>[0.738224775482902]</td>\n",
       "      <td>[0.49567628003119935]</td>\n",
       "    </tr>\n",
       "    <tr>\n",
       "      <th>004800</th>\n",
       "      <td>[0.6901758164635844]</td>\n",
       "      <td>[0.5931391648415474]</td>\n",
       "    </tr>\n",
       "    <tr>\n",
       "      <th>093370</th>\n",
       "      <td>[0.7523536398134469]</td>\n",
       "      <td>[0.6455804679277348]</td>\n",
       "    </tr>\n",
       "    <tr>\n",
       "      <th>069260</th>\n",
       "      <td>[0.7155568423084346]</td>\n",
       "      <td>[0.697823779193206]</td>\n",
       "    </tr>\n",
       "  </tbody>\n",
       "</table>\n",
       "<p>197 rows × 2 columns</p>\n",
       "</div>"
      ],
      "text/plain": [
       "                          LR                    SVM\n",
       "006840  [0.6907301135882722]   [0.6060213633978297]\n",
       "027410  [0.7139381658456088]   [0.6024583201883176]\n",
       "138930  [0.7223267708936498]   [0.5706933989577301]\n",
       "001040  [0.6076380813953488]   [0.4995687984496124]\n",
       "079160  [0.6435020229232448]  [0.48206647161631083]\n",
       "000120  [0.7419004992669206]   [0.5748115370029976]\n",
       "097950  [0.7795106775512173]   [0.7236232530658017]\n",
       "005830   [0.732626440402987]   [0.6028145347616047]\n",
       "000990  [0.6543685105459283]   [0.5741953378435416]\n",
       "114090  [0.7511793476687987]   [0.6038621827337713]\n",
       "078930  [0.8087863334418364]   [0.7218778255994792]\n",
       "006360  [0.7731995362990872]   [0.5879534366999952]\n",
       "007070  [0.6653158232990166]   [0.5972643602895704]\n",
       "012630  [0.7379737336740283]   [0.5638815095778229]\n",
       "001060  [0.6592394411728518]   [0.5831256589089312]\n",
       "096760  [0.6156920924398128]   [0.5957277946639649]\n",
       "105560  [0.8204168043074118]    [0.805320126251727]\n",
       "002380  [0.7344836075069509]   [0.5719681611059624]\n",
       "030200  [0.7976567271919596]   [0.6673330001665834]\n",
       "033780  [0.7465650743748726]   [0.5830034252224454]\n",
       "093050  [0.7384075218176601]   [0.6786926043015575]\n",
       "003550   [0.777600675186882]   [0.7644321196045334]\n",
       "034220  [0.8151655221520897]   [0.7935553168635875]\n",
       "001120  [0.7913674966222737]     [0.71241314418066]\n",
       "051900  [0.7389549929950187]   [0.6291081296699876]\n",
       "032640  [0.7663246933720017]   [0.6711811975107245]\n",
       "011070  [0.7834304569311514]   [0.7558901281259647]\n",
       "066570  [0.7738692617086282]   [0.6469017094017093]\n",
       "108670  [0.7524481078620342]   [0.5846958147283593]\n",
       "051910   [0.826848788868058]   [0.7948543480831083]\n",
       "...                      ...                    ...\n",
       "018880  [0.7218228380000775]   [0.6006738701057279]\n",
       "009420  [0.7489627056496357]   [0.5936073720268249]\n",
       "003300   [0.713443678092943]   [0.5047496544025785]\n",
       "051600  [0.5977584752216261]  [0.45818536094786133]\n",
       "052690     [0.7735556884841]   [0.6179496951219512]\n",
       "097230  [0.7800704567541302]    [0.601120019436346]\n",
       "000880  [0.7896640440578983]   [0.7235265608460506]\n",
       "088350  [0.7355801232888607]    [0.703609913273329]\n",
       "012450  [0.7768948714237469]   [0.5932165774111062]\n",
       "009830  [0.8148971342383108]   [0.7491788838612368]\n",
       "000720  [0.7754328430190499]   [0.6415915119363395]\n",
       "005440  [0.7100391379522386]   [0.6534808180627799]\n",
       "086280  [0.7362409488651571]   [0.6803487595454359]\n",
       "064350  [0.7730957372466807]   [0.6851246214768227]\n",
       "079430  [0.6225468418002705]  [0.49346870774579876]\n",
       "012330  [0.7772220613781122]   [0.7064731712024706]\n",
       "010620  [0.7887175825872182]   [0.5972546503550479]\n",
       "069960  [0.7933070438840851]   [0.7334708102697683]\n",
       "017800  [0.7650349853591902]   [0.6776696771755952]\n",
       "011210  [0.7519891402714933]   [0.5913303167420814]\n",
       "004020  [0.8106278815762766]   [0.6734696836427956]\n",
       "009540  [0.8155728200371057]   [0.5796348368893012]\n",
       "267250  [0.8244870651204281]   [0.7792893250074338]\n",
       "005380  [0.7819838711234232]   [0.6396520853643234]\n",
       "001450  [0.7556687210053721]   [0.7115583075335398]\n",
       "057050  [0.7537711100180358]   [0.7021835787930519]\n",
       "008770   [0.738224775482902]  [0.49567628003119935]\n",
       "004800  [0.6901758164635844]   [0.5931391648415474]\n",
       "093370  [0.7523536398134469]   [0.6455804679277348]\n",
       "069260  [0.7155568423084346]    [0.697823779193206]\n",
       "\n",
       "[197 rows x 2 columns]"
      ]
     },
     "execution_count": 56,
     "metadata": {},
     "output_type": "execute_result"
    }
   ],
   "source": [
    "roc_auc_score"
   ]
  },
  {
   "cell_type": "code",
   "execution_count": 60,
   "metadata": {},
   "outputs": [
    {
     "data": {
      "text/plain": [
       "LR     [[[254, 355], [119, 560]]]\n",
       "DT     [[[256, 353], [192, 487]]]\n",
       "SVM     [[[129, 480], [93, 586]]]\n",
       "Name: 006840, dtype: object"
      ]
     },
     "execution_count": 60,
     "metadata": {},
     "output_type": "execute_result"
    }
   ],
   "source": [
    "CM.loc[\"006840\"]"
   ]
  },
  {
   "cell_type": "code",
   "execution_count": 57,
   "metadata": {},
   "outputs": [
    {
     "data": {
      "text/plain": [
       "[array([[254, 355],\n",
       "        [119, 560]], dtype=int64)]"
      ]
     },
     "execution_count": 57,
     "metadata": {},
     "output_type": "execute_result"
    }
   ],
   "source": [
    "CM.loc[\"006840\"]['LR']"
   ]
  },
  {
   "cell_type": "code",
   "execution_count": 58,
   "metadata": {},
   "outputs": [
    {
     "data": {
      "text/plain": [
       "[array([[256, 353],\n",
       "        [192, 487]], dtype=int64)]"
      ]
     },
     "execution_count": 58,
     "metadata": {},
     "output_type": "execute_result"
    }
   ],
   "source": [
    "CM.loc[\"006840\"]['DT']"
   ]
  },
  {
   "cell_type": "code",
   "execution_count": 59,
   "metadata": {},
   "outputs": [
    {
     "data": {
      "text/plain": [
       "[array([[129, 480],\n",
       "        [ 93, 586]], dtype=int64)]"
      ]
     },
     "execution_count": 59,
     "metadata": {},
     "output_type": "execute_result"
    }
   ],
   "source": [
    "CM.loc[\"006840\"]['SVM']"
   ]
  },
  {
   "cell_type": "code",
   "execution_count": null,
   "metadata": {},
   "outputs": [],
   "source": []
  }
 ],
 "metadata": {
  "kernelspec": {
   "display_name": "Python 3",
   "language": "python",
   "name": "python3"
  },
  "language_info": {
   "codemirror_mode": {
    "name": "ipython",
    "version": 3
   },
   "file_extension": ".py",
   "mimetype": "text/x-python",
   "name": "python",
   "nbconvert_exporter": "python",
   "pygments_lexer": "ipython3",
   "version": "3.6.5"
  }
 },
 "nbformat": 4,
 "nbformat_minor": 2
}
