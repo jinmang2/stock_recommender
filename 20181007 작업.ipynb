{
 "cells": [
  {
   "cell_type": "code",
   "execution_count": 23,
   "metadata": {},
   "outputs": [],
   "source": [
    "%run moon_code"
   ]
  },
  {
   "cell_type": "code",
   "execution_count": 28,
   "metadata": {},
   "outputs": [],
   "source": [
    "raw_data = load_raw_data('raw_data_20180824.pickle')\n",
    "kospi200, name_dict, code_dict = load_code_name_data(\"./data/data.csv\", True)\n",
    "party_df = load_party_data('party_df.csv')"
   ]
  },
  {
   "cell_type": "code",
   "execution_count": 48,
   "metadata": {},
   "outputs": [],
   "source": [
    "import datetime"
   ]
  },
  {
   "cell_type": "code",
   "execution_count": 52,
   "metadata": {},
   "outputs": [],
   "source": [
    "data = pd.DataFrame()\n",
    "for key, df in raw_data.items():\n",
    "    a = df.copy()\n",
    "    a['Date'] = pd.to_datetime(a.index)\n",
    "    a.index = range(len(a))\n",
    "    a['stockName'] = code_dict[key]\n",
    "    a['stockCode'] = key\n",
    "    data = pd.concat((data,a))\n",
    "    del a"
   ]
  },
  {
   "cell_type": "code",
   "execution_count": 53,
   "metadata": {},
   "outputs": [],
   "source": [
    "data = data[['stockName','stockCode','Date','Open','High','Low','Volume']]"
   ]
  },
  {
   "cell_type": "code",
   "execution_count": 60,
   "metadata": {},
   "outputs": [],
   "source": [
    "# from pandas_datareader import data as pdr\n",
    "# import fix_yahoo_finance as yf\n",
    "# yf.pdr_override()\n",
    "# ks11 = pdr.get_data_yahoo(\"^KS11\", start=\"2000-01-01\", end=\"2018-08-01\")\n",
    "\n",
    "ks11 = pd.read_csv('^ks11.csv')"
   ]
  },
  {
   "cell_type": "code",
   "execution_count": 132,
   "metadata": {},
   "outputs": [],
   "source": [
    "del_li = [code_dict[key] for key, df in raw_data.items() if len(df) < 252*2]\n",
    "del_li2 = ['BGF', 'HDC', 'SK디스커버리', '대우조선해양', '대한항공', '동아쏘시오홀딩스', '동양', '롯데지주', '오리온홀딩스', '우리은행', '쿠쿠홀딩스', '팬오션', '한국타이어월드와이드', '한라홀딩스', '현대중공업', '효성'] "
   ]
  },
  {
   "cell_type": "code",
   "execution_count": 139,
   "metadata": {},
   "outputs": [],
   "source": [
    "for stockName in set(del_li + del_li2):\n",
    "    del raw_data[name_dict[stockName]]"
   ]
  },
  {
   "cell_type": "code",
   "execution_count": 140,
   "metadata": {},
   "outputs": [
    {
     "data": {
      "text/plain": [
       "177"
      ]
     },
     "execution_count": 140,
     "metadata": {},
     "output_type": "execute_result"
    }
   ],
   "source": [
    "len(raw_data)"
   ]
  },
  {
   "cell_type": "code",
   "execution_count": 204,
   "metadata": {},
   "outputs": [
    {
     "data": {
      "text/plain": [
       "Timestamp('2000-01-04 00:00:00')"
      ]
     },
     "execution_count": 204,
     "metadata": {},
     "output_type": "execute_result"
    }
   ],
   "source": [
    "raw_data['005930'].index[0]"
   ]
  },
  {
   "cell_type": "code",
   "execution_count": 178,
   "metadata": {},
   "outputs": [
    {
     "data": {
      "text/plain": [
       "<matplotlib.axes._subplots.AxesSubplot at 0x15533915d68>"
      ]
     },
     "execution_count": 178,
     "metadata": {},
     "output_type": "execute_result"
    },
    {
     "data": {
      "image/png": "[encoded data removed]",
      "text/plain": [
       "<matplotlib.figure.Figure at 0x15533308d68>"
      ]
     },
     "metadata": {},
     "output_type": "display_data"
    }
   ],
   "source": [
    "df.Close.loc['2013-08-01':'2013-08-28'].plot()"
   ]
  },
  {
   "cell_type": "code",
   "execution_count": 175,
   "metadata": {},
   "outputs": [
    {
     "data": {
      "text/html": [
       "<div>\n",
       "<style scoped>\n",
       "    .dataframe tbody tr th:only-of-type {\n",
       "        vertical-align: middle;\n",
       "    }\n",
       "\n",
       "    .dataframe tbody tr th {\n",
       "        vertical-align: top;\n",
       "    }\n",
       "\n",
       "    .dataframe thead th {\n",
       "        text-align: right;\n",
       "    }\n",
       "</style>\n",
       "<table border=\"1\" class=\"dataframe\">\n",
       "  <thead>\n",
       "    <tr style=\"text-align: right;\">\n",
       "      <th></th>\n",
       "      <th>Open</th>\n",
       "      <th>High</th>\n",
       "      <th>Low</th>\n",
       "      <th>Close</th>\n",
       "      <th>Adj Close</th>\n",
       "      <th>Volume</th>\n",
       "    </tr>\n",
       "    <tr>\n",
       "      <th>Date</th>\n",
       "      <th></th>\n",
       "      <th></th>\n",
       "      <th></th>\n",
       "      <th></th>\n",
       "      <th></th>\n",
       "      <th></th>\n",
       "    </tr>\n",
       "  </thead>\n",
       "  <tbody>\n",
       "    <tr>\n",
       "      <th>2013-07-30</th>\n",
       "      <td>525260.0</td>\n",
       "      <td>525260.0</td>\n",
       "      <td>525260.0</td>\n",
       "      <td>525260.0</td>\n",
       "      <td>521631.96875</td>\n",
       "      <td>0</td>\n",
       "    </tr>\n",
       "    <tr>\n",
       "      <th>2013-07-31</th>\n",
       "      <td>525260.0</td>\n",
       "      <td>525260.0</td>\n",
       "      <td>525260.0</td>\n",
       "      <td>525260.0</td>\n",
       "      <td>521631.96875</td>\n",
       "      <td>0</td>\n",
       "    </tr>\n",
       "    <tr>\n",
       "      <th>2013-08-01</th>\n",
       "      <td>359750.0</td>\n",
       "      <td>359750.0</td>\n",
       "      <td>359750.0</td>\n",
       "      <td>359750.0</td>\n",
       "      <td>357265.15625</td>\n",
       "      <td>0</td>\n",
       "    </tr>\n",
       "    <tr>\n",
       "      <th>2013-08-02</th>\n",
       "      <td>359750.0</td>\n",
       "      <td>359750.0</td>\n",
       "      <td>359750.0</td>\n",
       "      <td>359750.0</td>\n",
       "      <td>357265.15625</td>\n",
       "      <td>0</td>\n",
       "    </tr>\n",
       "    <tr>\n",
       "      <th>2013-08-05</th>\n",
       "      <td>359750.0</td>\n",
       "      <td>359750.0</td>\n",
       "      <td>359750.0</td>\n",
       "      <td>359750.0</td>\n",
       "      <td>357265.15625</td>\n",
       "      <td>0</td>\n",
       "    </tr>\n",
       "    <tr>\n",
       "      <th>2013-08-06</th>\n",
       "      <td>359750.0</td>\n",
       "      <td>359750.0</td>\n",
       "      <td>359750.0</td>\n",
       "      <td>359750.0</td>\n",
       "      <td>357265.15625</td>\n",
       "      <td>0</td>\n",
       "    </tr>\n",
       "    <tr>\n",
       "      <th>2013-08-07</th>\n",
       "      <td>359750.0</td>\n",
       "      <td>359750.0</td>\n",
       "      <td>359750.0</td>\n",
       "      <td>359750.0</td>\n",
       "      <td>357265.15625</td>\n",
       "      <td>0</td>\n",
       "    </tr>\n",
       "    <tr>\n",
       "      <th>2013-08-08</th>\n",
       "      <td>359750.0</td>\n",
       "      <td>359750.0</td>\n",
       "      <td>359750.0</td>\n",
       "      <td>359750.0</td>\n",
       "      <td>357265.15625</td>\n",
       "      <td>0</td>\n",
       "    </tr>\n",
       "    <tr>\n",
       "      <th>2013-08-09</th>\n",
       "      <td>359750.0</td>\n",
       "      <td>359750.0</td>\n",
       "      <td>359750.0</td>\n",
       "      <td>359750.0</td>\n",
       "      <td>357265.15625</td>\n",
       "      <td>0</td>\n",
       "    </tr>\n",
       "    <tr>\n",
       "      <th>2013-08-12</th>\n",
       "      <td>359750.0</td>\n",
       "      <td>359750.0</td>\n",
       "      <td>359750.0</td>\n",
       "      <td>359750.0</td>\n",
       "      <td>357265.15625</td>\n",
       "      <td>0</td>\n",
       "    </tr>\n",
       "    <tr>\n",
       "      <th>2013-08-13</th>\n",
       "      <td>359750.0</td>\n",
       "      <td>359750.0</td>\n",
       "      <td>359750.0</td>\n",
       "      <td>359750.0</td>\n",
       "      <td>357265.15625</td>\n",
       "      <td>0</td>\n",
       "    </tr>\n",
       "    <tr>\n",
       "      <th>2013-08-14</th>\n",
       "      <td>359750.0</td>\n",
       "      <td>359750.0</td>\n",
       "      <td>359750.0</td>\n",
       "      <td>359750.0</td>\n",
       "      <td>357265.15625</td>\n",
       "      <td>0</td>\n",
       "    </tr>\n",
       "    <tr>\n",
       "      <th>2013-08-16</th>\n",
       "      <td>359750.0</td>\n",
       "      <td>359750.0</td>\n",
       "      <td>359750.0</td>\n",
       "      <td>359750.0</td>\n",
       "      <td>357265.15625</td>\n",
       "      <td>0</td>\n",
       "    </tr>\n",
       "    <tr>\n",
       "      <th>2013-08-19</th>\n",
       "      <td>359750.0</td>\n",
       "      <td>359750.0</td>\n",
       "      <td>359750.0</td>\n",
       "      <td>359750.0</td>\n",
       "      <td>357265.15625</td>\n",
       "      <td>0</td>\n",
       "    </tr>\n",
       "    <tr>\n",
       "      <th>2013-08-20</th>\n",
       "      <td>359750.0</td>\n",
       "      <td>359750.0</td>\n",
       "      <td>359750.0</td>\n",
       "      <td>359750.0</td>\n",
       "      <td>357265.15625</td>\n",
       "      <td>0</td>\n",
       "    </tr>\n",
       "    <tr>\n",
       "      <th>2013-08-21</th>\n",
       "      <td>359750.0</td>\n",
       "      <td>359750.0</td>\n",
       "      <td>359750.0</td>\n",
       "      <td>359750.0</td>\n",
       "      <td>357265.15625</td>\n",
       "      <td>0</td>\n",
       "    </tr>\n",
       "    <tr>\n",
       "      <th>2013-08-22</th>\n",
       "      <td>359750.0</td>\n",
       "      <td>359750.0</td>\n",
       "      <td>359750.0</td>\n",
       "      <td>359750.0</td>\n",
       "      <td>357265.15625</td>\n",
       "      <td>0</td>\n",
       "    </tr>\n",
       "    <tr>\n",
       "      <th>2013-08-23</th>\n",
       "      <td>359750.0</td>\n",
       "      <td>359750.0</td>\n",
       "      <td>359750.0</td>\n",
       "      <td>359750.0</td>\n",
       "      <td>357265.15625</td>\n",
       "      <td>0</td>\n",
       "    </tr>\n",
       "    <tr>\n",
       "      <th>2013-08-26</th>\n",
       "      <td>359750.0</td>\n",
       "      <td>359750.0</td>\n",
       "      <td>359750.0</td>\n",
       "      <td>359750.0</td>\n",
       "      <td>357265.15625</td>\n",
       "      <td>0</td>\n",
       "    </tr>\n",
       "    <tr>\n",
       "      <th>2013-08-27</th>\n",
       "      <td>359750.0</td>\n",
       "      <td>359750.0</td>\n",
       "      <td>359750.0</td>\n",
       "      <td>359750.0</td>\n",
       "      <td>357265.15625</td>\n",
       "      <td>0</td>\n",
       "    </tr>\n",
       "    <tr>\n",
       "      <th>2013-08-28</th>\n",
       "      <td>359750.0</td>\n",
       "      <td>359750.0</td>\n",
       "      <td>359750.0</td>\n",
       "      <td>359750.0</td>\n",
       "      <td>357265.15625</td>\n",
       "      <td>0</td>\n",
       "    </tr>\n",
       "    <tr>\n",
       "      <th>2015-08-14</th>\n",
       "      <td>519000.0</td>\n",
       "      <td>519000.0</td>\n",
       "      <td>519000.0</td>\n",
       "      <td>519000.0</td>\n",
       "      <td>516494.37500</td>\n",
       "      <td>0</td>\n",
       "    </tr>\n",
       "    <tr>\n",
       "      <th>2017-09-26</th>\n",
       "      <td>754000.0</td>\n",
       "      <td>754000.0</td>\n",
       "      <td>754000.0</td>\n",
       "      <td>754000.0</td>\n",
       "      <td>752752.56250</td>\n",
       "      <td>0</td>\n",
       "    </tr>\n",
       "  </tbody>\n",
       "</table>\n",
       "</div>"
      ],
      "text/plain": [
       "                Open      High       Low     Close     Adj Close  Volume\n",
       "Date                                                                    \n",
       "2013-07-30  525260.0  525260.0  525260.0  525260.0  521631.96875       0\n",
       "2013-07-31  525260.0  525260.0  525260.0  525260.0  521631.96875       0\n",
       "2013-08-01  359750.0  359750.0  359750.0  359750.0  357265.15625       0\n",
       "2013-08-02  359750.0  359750.0  359750.0  359750.0  357265.15625       0\n",
       "2013-08-05  359750.0  359750.0  359750.0  359750.0  357265.15625       0\n",
       "2013-08-06  359750.0  359750.0  359750.0  359750.0  357265.15625       0\n",
       "2013-08-07  359750.0  359750.0  359750.0  359750.0  357265.15625       0\n",
       "2013-08-08  359750.0  359750.0  359750.0  359750.0  357265.15625       0\n",
       "2013-08-09  359750.0  359750.0  359750.0  359750.0  357265.15625       0\n",
       "2013-08-12  359750.0  359750.0  359750.0  359750.0  357265.15625       0\n",
       "2013-08-13  359750.0  359750.0  359750.0  359750.0  357265.15625       0\n",
       "2013-08-14  359750.0  359750.0  359750.0  359750.0  357265.15625       0\n",
       "2013-08-16  359750.0  359750.0  359750.0  359750.0  357265.15625       0\n",
       "2013-08-19  359750.0  359750.0  359750.0  359750.0  357265.15625       0\n",
       "2013-08-20  359750.0  359750.0  359750.0  359750.0  357265.15625       0\n",
       "2013-08-21  359750.0  359750.0  359750.0  359750.0  357265.15625       0\n",
       "2013-08-22  359750.0  359750.0  359750.0  359750.0  357265.15625       0\n",
       "2013-08-23  359750.0  359750.0  359750.0  359750.0  357265.15625       0\n",
       "2013-08-26  359750.0  359750.0  359750.0  359750.0  357265.15625       0\n",
       "2013-08-27  359750.0  359750.0  359750.0  359750.0  357265.15625       0\n",
       "2013-08-28  359750.0  359750.0  359750.0  359750.0  357265.15625       0\n",
       "2015-08-14  519000.0  519000.0  519000.0  519000.0  516494.37500       0\n",
       "2017-09-26  754000.0  754000.0  754000.0  754000.0  752752.56250       0"
      ]
     },
     "execution_count": 175,
     "metadata": {},
     "output_type": "execute_result"
    }
   ],
   "source": [
    "df = raw_data[name_dict['NAVER']].loc['2012-01-01':]\n",
    "df[df.Volume==0]"
   ]
  },
  {
   "cell_type": "code",
   "execution_count": 164,
   "metadata": {},
   "outputs": [],
   "source": [
    "from collections import defaultdict\n",
    "d = defaultdict(int)\n",
    "for key, df in raw_data.items():\n",
    "    a = df.loc['2012-01-01':].copy()\n",
    "    for date in a[a.Volume == 0].index:\n",
    "        d[date] += 1"
   ]
  },
  {
   "cell_type": "code",
   "execution_count": 124,
   "metadata": {},
   "outputs": [
    {
     "data": {
      "text/html": [
       "<div>\n",
       "<style scoped>\n",
       "    .dataframe tbody tr th:only-of-type {\n",
       "        vertical-align: middle;\n",
       "    }\n",
       "\n",
       "    .dataframe tbody tr th {\n",
       "        vertical-align: top;\n",
       "    }\n",
       "\n",
       "    .dataframe thead th {\n",
       "        text-align: right;\n",
       "    }\n",
       "</style>\n",
       "<table border=\"1\" class=\"dataframe\">\n",
       "  <thead>\n",
       "    <tr style=\"text-align: right;\">\n",
       "      <th></th>\n",
       "      <th>Open</th>\n",
       "      <th>High</th>\n",
       "      <th>Low</th>\n",
       "      <th>Close</th>\n",
       "      <th>Adj Close</th>\n",
       "      <th>Volume</th>\n",
       "    </tr>\n",
       "    <tr>\n",
       "      <th>Date</th>\n",
       "      <th></th>\n",
       "      <th></th>\n",
       "      <th></th>\n",
       "      <th></th>\n",
       "      <th></th>\n",
       "      <th></th>\n",
       "    </tr>\n",
       "  </thead>\n",
       "  <tbody>\n",
       "    <tr>\n",
       "      <th>2017-09-25</th>\n",
       "      <td>760000.0</td>\n",
       "      <td>763000.0</td>\n",
       "      <td>749000.0</td>\n",
       "      <td>754000.0</td>\n",
       "      <td>752752.5625</td>\n",
       "      <td>73864</td>\n",
       "    </tr>\n",
       "    <tr>\n",
       "      <th>2017-09-26</th>\n",
       "      <td>754000.0</td>\n",
       "      <td>754000.0</td>\n",
       "      <td>754000.0</td>\n",
       "      <td>754000.0</td>\n",
       "      <td>752752.5625</td>\n",
       "      <td>0</td>\n",
       "    </tr>\n",
       "    <tr>\n",
       "      <th>2017-09-27</th>\n",
       "      <td>750000.0</td>\n",
       "      <td>752000.0</td>\n",
       "      <td>734000.0</td>\n",
       "      <td>734000.0</td>\n",
       "      <td>732785.6250</td>\n",
       "      <td>92054</td>\n",
       "    </tr>\n",
       "  </tbody>\n",
       "</table>\n",
       "</div>"
      ],
      "text/plain": [
       "                Open      High       Low     Close    Adj Close  Volume\n",
       "Date                                                                   \n",
       "2017-09-25  760000.0  763000.0  749000.0  754000.0  752752.5625   73864\n",
       "2017-09-26  754000.0  754000.0  754000.0  754000.0  752752.5625       0\n",
       "2017-09-27  750000.0  752000.0  734000.0  734000.0  732785.6250   92054"
      ]
     },
     "execution_count": 124,
     "metadata": {},
     "output_type": "execute_result"
    }
   ],
   "source": [
    "raw_data[name_dict['NAVER']].loc['2017-09-24':'2017-09-27']"
   ]
  },
  {
   "cell_type": "code",
   "execution_count": 181,
   "metadata": {},
   "outputs": [],
   "source": [
    "data = pd.DataFrame()\n",
    "for key, df in raw_data.items():\n",
    "    a = df.copy()\n",
    "    a['Date'] = pd.to_datetime(a.index)\n",
    "    a.index = range(len(a))\n",
    "    a['stockName'] = code_dict[key]\n",
    "    a['stockCode'] = key\n",
    "    data = pd.concat((data,a))\n",
    "    del a\n",
    "data = data[['stockName','stockCode','Date','Open','High','Low','Volume']]"
   ]
  },
  {
   "cell_type": "code",
   "execution_count": 188,
   "metadata": {},
   "outputs": [],
   "source": [
    "def dict_test():\n",
    "    a=0\n",
    "    for key in raw_data.keys():\n",
    "        a+=1\n",
    "def panel_test():\n",
    "    a=0\n",
    "    for code in data.stockCode.unique():\n",
    "        a+=1"
   ]
  },
  {
   "cell_type": "code",
   "execution_count": 191,
   "metadata": {},
   "outputs": [
    {
     "name": "stdout",
     "output_type": "stream",
     "text": [
      "5.93 µs ± 89.7 ns per loop (mean ± std. dev. of 7 runs, 100000 loops each)\n"
     ]
    }
   ],
   "source": [
    "%timeit dict_test()"
   ]
  },
  {
   "cell_type": "code",
   "execution_count": 192,
   "metadata": {},
   "outputs": [
    {
     "name": "stdout",
     "output_type": "stream",
     "text": [
      "18.7 ms ± 135 µs per loop (mean ± std. dev. of 7 runs, 100 loops each)\n"
     ]
    }
   ],
   "source": [
    "%timeit panel_test()"
   ]
  },
  {
   "cell_type": "code",
   "execution_count": null,
   "metadata": {},
   "outputs": [],
   "source": []
  }
 ],
 "metadata": {
  "kernelspec": {
   "display_name": "Python 3",
   "language": "python",
   "name": "python3"
  },
  "language_info": {
   "codemirror_mode": {
    "name": "ipython",
    "version": 3
   },
   "file_extension": ".py",
   "mimetype": "text/x-python",
   "name": "python",
   "nbconvert_exporter": "python",
   "pygments_lexer": "ipython3",
   "version": "3.6.5"
  }
 },
 "nbformat": 4,
 "nbformat_minor": 2
}
