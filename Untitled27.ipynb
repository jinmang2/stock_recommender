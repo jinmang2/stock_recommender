{
 "cells": [
  {
   "cell_type": "code",
   "execution_count": 1,
   "metadata": {},
   "outputs": [],
   "source": [
    "import numpy as np\n",
    "import pandas as pd\n",
    "import matplotlib.pyplot as plt\n",
    "%matplotlib inline\n",
    "\n",
    "import matplotlib\n",
    "matplotlib.rcParams['axes.unicode_minus'] = False\n",
    "\n",
    "from matplotlib import font_manager, rc\n",
    "font_name = font_manager.FontProperties(fname=\"c:/Windows/Fonts/malgun.ttf\").get_name()\n",
    "rc('font', family=font_name)"
   ]
  },
  {
   "cell_type": "code",
   "execution_count": 2,
   "metadata": {},
   "outputs": [],
   "source": [
    "import pickle\n",
    "with open('raw_data_20181008.pickle', 'rb') as handle:\n",
    "    raw_data = pickle.load(handle)\n",
    "    \n",
    "copy_keys = list(raw_data.keys())\n",
    "for stock in copy_keys:\n",
    "    if len(raw_data[stock].loc[:'2013-01-01']) < 1:\n",
    "        del raw_data[stock]\n",
    "del copy_keys\n",
    "\n",
    "# stock에서 Volume==0인 index, stock에서 제외\n",
    "for key, df in raw_data.items():\n",
    "    raw_data[key] = df.drop(df.index[np.where(df.Volume==0)[0]], axis=0)\n",
    "    del df['Adj Close']\n",
    "    df.Volume = df.Volume / 1e7"
   ]
  },
  {
   "cell_type": "code",
   "execution_count": 3,
   "metadata": {
    "scrolled": true
   },
   "outputs": [
    {
     "name": "stdout",
     "output_type": "stream",
     "text": [
      "AK홀딩스\n",
      "BNK금융지주\n",
      "CJ\n",
      "CJ CGV\n",
      "CJ대한통운\n",
      "CJ제일제당\n",
      "DB손해보험\n",
      "DB하이텍\n",
      "GKL\n",
      "GS\n",
      "GS건설\n",
      "GS리테일\n",
      "HDC\n",
      "JW중외제약\n",
      "JW홀딩스\n",
      "KB금융\n",
      "KCC\n",
      "KT\n",
      "KT&G\n",
      "LF\n",
      "LG\n",
      "LG디스플레이\n",
      "LG상사\n",
      "LG생활건강\n",
      "LG유플러스\n",
      "LG이노텍\n",
      "LG전자\n",
      "LG하우시스\n",
      "LG화학\n",
      "LS\n",
      "LS산전\n",
      "NAVER\n",
      "NH투자증권\n",
      "OCI\n",
      "POSCO\n",
      "S&T모티브\n",
      "S-Oil\n",
      "SBS\n",
      "SK\n",
      "SKC\n",
      "SK네트웍스\n",
      "SK디스커버리\n",
      "SK이노베이션\n",
      "SK텔레콤\n",
      "SK하이닉스\n",
      "SPC삼립\n",
      "강원랜드\n",
      "고려아연\n",
      "고려제강\n",
      "금호석유\n",
      "금호타이어\n",
      "기아차\n",
      "기업은행\n",
      "남양유업\n",
      "남해화학\n",
      "넥센타이어\n",
      "녹십자\n",
      "녹십자홀딩스\n",
      "농심\n",
      "대교\n",
      "대덕전자\n",
      "대림산업\n",
      "대상\n",
      "대우건설\n",
      "대우조선해양\n",
      "대웅제약\n",
      "대한유화\n",
      "대한항공\n",
      "동국제강\n",
      "동서\n",
      "동아쏘시오홀딩스\n",
      "동양\n",
      "동원F&B\n",
      "동원시스템즈\n",
      "두산\n",
      "두산인프라코어\n",
      "두산중공업\n",
      "락앤락\n",
      "롯데쇼핑\n",
      "롯데정밀화학\n",
      "롯데지주\n",
      "롯데칠성\n",
      "롯데케미칼\n",
      "롯데푸드\n",
      "롯데하이마트\n",
      "메리츠종금증권\n",
      "무학\n",
      "미래에셋대우\n",
      "보령제약\n",
      "부광약품\n",
      "빙그레\n",
      "삼성SDI\n",
      "삼성생명\n",
      "삼성엔지니어링\n",
      "삼성전기\n",
      "삼성전자\n",
      "삼성중공업\n",
      "삼성증권\n",
      "삼성카드\n",
      "삼성화재\n",
      "삼양사\n",
      "삼양홀딩스\n",
      "세방전지\n",
      "세아베스틸\n",
      "세아제강\n",
      "셀트리온\n",
      "신세계\n",
      "신한지주\n",
      "쌍용양회\n",
      "쌍용차\n",
      "아모레G\n",
      "아모레퍼시픽\n",
      "아이에스동서\n",
      "에스엘\n",
      "에스원\n",
      "엔씨소프트\n",
      "영원무역\n",
      "영진약품\n",
      "영풍\n",
      "오뚜기\n",
      "오리온홀딩스\n",
      "우리은행\n",
      "유니드\n",
      "유한양행\n",
      "이마트\n",
      "일양약품\n",
      "일진머티리얼즈\n",
      "제일기획\n",
      "카카오\n",
      "코오롱인더\n",
      "코웨이\n",
      "태광산업\n",
      "팜스코\n",
      "팬오션\n",
      "포스코대우\n",
      "풍산\n",
      "하나금융지주\n",
      "하이트진로\n",
      "한국가스공사\n",
      "한국금융지주\n",
      "한국단자\n",
      "한국쉘석유\n",
      "한국전력\n",
      "한국콜마\n",
      "한국타이어\n",
      "한국타이어월드와이드\n",
      "한국항공우주\n",
      "한라홀딩스\n",
      "한미사이언스\n",
      "한미약품\n",
      "한샘\n",
      "한섬\n",
      "한세실업\n",
      "한솔케미칼\n",
      "한온시스템\n",
      "한올바이오파마\n",
      "한일시멘트\n",
      "한전KPS\n",
      "한전기술\n",
      "한진중공업\n",
      "한화\n",
      "한화생명\n",
      "한화에어로스페이스\n",
      "한화케미칼\n",
      "현대건설\n",
      "현대그린푸드\n",
      "현대글로비스\n",
      "현대리바트\n",
      "현대모비스\n",
      "현대미포조선\n",
      "현대백화점\n",
      "현대엘리베이\n",
      "현대위아\n",
      "현대제철\n",
      "현대중공업\n",
      "현대차\n",
      "현대해상\n",
      "현대홈쇼핑\n",
      "호텔신라\n",
      "효성\n",
      "후성\n",
      "휴켐스\n"
     ]
    }
   ],
   "source": [
    "for key, df in raw_data.items():\n",
    "    print(key)\n",
    "    for i in range(1, 11):\n",
    "        df['returnsCloseNext{}'.format(i)] = np.log(df['Close'].shift(-1*i) / df['Open'])\n",
    "\n",
    "    # Moving Average\n",
    "    df['close_ma_50'] = df.Close.rolling(50).mean()\n",
    "\n",
    "    # Return of Change\n",
    "    df['roc_1'] = df.Close.pct_change(periods=1)\n",
    "    df['roc_2'] = df.Close.pct_change(periods=2)\n",
    "\n",
    "    # RSI\n",
    "    U = np.where(df.Close.diff(1) > 0, df.Close.diff(1), 0)\n",
    "    D = np.where(df.Close.diff(1) < 0, df.Close.diff(1)*(-1), 0)\n",
    "    m_N = 10\n",
    "    AU = pd.DataFrame(U).rolling(window=m_N, min_periods=m_N).mean()\n",
    "    AD = pd.DataFrame(D).rolling(window=m_N, min_periods=m_N).mean()\n",
    "    RSI = AU.div(AD+AU)*100\n",
    "    df['rsi_10'] = RSI.values\n",
    "\n",
    "    # CV\n",
    "    df['his_vol_10'] = df.Close.rolling(10).std() / df.Close.rolling(10).mean()\n",
    "\n",
    "    # William%R\n",
    "    n = 14\n",
    "    W_R = -100 * ((df.High.rolling(n).max() - df.Close) / \n",
    "       (df.High.rolling(n).max() - df.Low.rolling(n).min()))\n",
    "    df['w_r'] = W_R\n",
    "\n",
    "    # Stochastic Oscillator\n",
    "    percent_K = 100 * ((df.Close - df.Low.rolling(n).min()) / \n",
    "       (df.High.rolling(n).max() - df.Low.rolling(n).min()))\n",
    "    sto_slowD = percent_K.rolling(3).mean().rolling(3).mean()\n",
    "    df['sto_slowD'] = sto_slowD\n",
    "\n",
    "    # Commodity Channel Index\n",
    "    TP = (df.Close + df.Low + df.High) / 3\n",
    "    window = 20\n",
    "    dataX = []\n",
    "    for i in range(len(TP) - window+1):\n",
    "        a = TP.values[i:(i+window)]\n",
    "        dataX.append(a)\n",
    "    dataMean = [i.mean() for i in dataX]\n",
    "    AVEDEV = [abs(x - mean).mean() for x, mean \n",
    "              in zip(dataX, dataMean)]\n",
    "    for i in range(window-1):\n",
    "        AVEDEV.insert(0,np.nan)\n",
    "    AVEDEV = pd.Series(AVEDEV, index = TP.index)\n",
    "    CCI = (TP - TP.rolling(20).mean()) / (0.015 * AVEDEV)\n",
    "    df['cci'] = CCI\n",
    "\n",
    "    # Disparity Index\n",
    "    DI5 = 100 * ((df.Close - df.Close.rolling(5).mean()) / \n",
    "                df.Close.rolling(5).mean())\n",
    "    DI10 = 100 * ((df.Close - df.Close.rolling(10).mean()) / \n",
    "                df.Close.rolling(10).mean())\n",
    "    df['di5'] = DI5\n",
    "    df['di10'] = DI10\n",
    "\n",
    "    # Volume Prce Trend\n",
    "    VPT = pd.Series(index=df.index)\n",
    "    VPT.iloc[0] = 0\n",
    "    for n in range(1, len(VPT)):\n",
    "        VPT.iloc[n] = VPT.iloc[n-1] + ((df.Close.diff(1) / df.Close) * df.Volume).iloc[n]\n",
    "    df['vpt'] = VPT"
   ]
  },
  {
   "cell_type": "code",
   "execution_count": 4,
   "metadata": {},
   "outputs": [
    {
     "data": {
      "text/html": [
       "<div>\n",
       "<style scoped>\n",
       "    .dataframe tbody tr th:only-of-type {\n",
       "        vertical-align: middle;\n",
       "    }\n",
       "\n",
       "    .dataframe tbody tr th {\n",
       "        vertical-align: top;\n",
       "    }\n",
       "\n",
       "    .dataframe thead th {\n",
       "        text-align: right;\n",
       "    }\n",
       "</style>\n",
       "<table border=\"1\" class=\"dataframe\">\n",
       "  <thead>\n",
       "    <tr style=\"text-align: right;\">\n",
       "      <th></th>\n",
       "      <th>Open</th>\n",
       "      <th>High</th>\n",
       "      <th>Low</th>\n",
       "      <th>Close</th>\n",
       "      <th>Adj Close</th>\n",
       "      <th>Volume</th>\n",
       "      <th>returnsCloseNext1</th>\n",
       "      <th>returnsCloseNext2</th>\n",
       "      <th>returnsCloseNext3</th>\n",
       "      <th>returnsCloseNext4</th>\n",
       "      <th>...</th>\n",
       "      <th>roc_1</th>\n",
       "      <th>roc_2</th>\n",
       "      <th>rsi_10</th>\n",
       "      <th>his_vol_10</th>\n",
       "      <th>w_r</th>\n",
       "      <th>sto_slowD</th>\n",
       "      <th>cci</th>\n",
       "      <th>di5</th>\n",
       "      <th>di10</th>\n",
       "      <th>vpt</th>\n",
       "    </tr>\n",
       "    <tr>\n",
       "      <th>Date</th>\n",
       "      <th></th>\n",
       "      <th></th>\n",
       "      <th></th>\n",
       "      <th></th>\n",
       "      <th></th>\n",
       "      <th></th>\n",
       "      <th></th>\n",
       "      <th></th>\n",
       "      <th></th>\n",
       "      <th></th>\n",
       "      <th></th>\n",
       "      <th></th>\n",
       "      <th></th>\n",
       "      <th></th>\n",
       "      <th></th>\n",
       "      <th></th>\n",
       "      <th></th>\n",
       "      <th></th>\n",
       "      <th></th>\n",
       "      <th></th>\n",
       "      <th></th>\n",
       "    </tr>\n",
       "  </thead>\n",
       "  <tbody>\n",
       "    <tr>\n",
       "      <th>2010-01-04</th>\n",
       "      <td>16060.0</td>\n",
       "      <td>16180.0</td>\n",
       "      <td>16000.0</td>\n",
       "      <td>16180.0</td>\n",
       "      <td>5.953252</td>\n",
       "      <td>11950800</td>\n",
       "      <td>0.023386</td>\n",
       "      <td>0.046237</td>\n",
       "      <td>0.012376</td>\n",
       "      <td>0.022168</td>\n",
       "      <td>...</td>\n",
       "      <td>NaN</td>\n",
       "      <td>NaN</td>\n",
       "      <td>NaN</td>\n",
       "      <td>NaN</td>\n",
       "      <td>NaN</td>\n",
       "      <td>NaN</td>\n",
       "      <td>NaN</td>\n",
       "      <td>NaN</td>\n",
       "      <td>NaN</td>\n",
       "      <td>0.000000</td>\n",
       "    </tr>\n",
       "    <tr>\n",
       "      <th>2010-01-05</th>\n",
       "      <td>16520.0</td>\n",
       "      <td>16580.0</td>\n",
       "      <td>16300.0</td>\n",
       "      <td>16440.0</td>\n",
       "      <td>6.048919</td>\n",
       "      <td>27925850</td>\n",
       "      <td>0.017997</td>\n",
       "      <td>-0.015864</td>\n",
       "      <td>-0.006072</td>\n",
       "      <td>-0.035740</td>\n",
       "      <td>...</td>\n",
       "      <td>0.016069</td>\n",
       "      <td>NaN</td>\n",
       "      <td>NaN</td>\n",
       "      <td>NaN</td>\n",
       "      <td>NaN</td>\n",
       "      <td>NaN</td>\n",
       "      <td>NaN</td>\n",
       "      <td>NaN</td>\n",
       "      <td>NaN</td>\n",
       "      <td>441649.695864</td>\n",
       "    </tr>\n",
       "    <tr>\n",
       "      <th>2010-01-06</th>\n",
       "      <td>16580.0</td>\n",
       "      <td>16820.0</td>\n",
       "      <td>16520.0</td>\n",
       "      <td>16820.0</td>\n",
       "      <td>6.188735</td>\n",
       "      <td>22948850</td>\n",
       "      <td>-0.019489</td>\n",
       "      <td>-0.009697</td>\n",
       "      <td>-0.039365</td>\n",
       "      <td>-0.024421</td>\n",
       "      <td>...</td>\n",
       "      <td>0.023114</td>\n",
       "      <td>0.039555</td>\n",
       "      <td>NaN</td>\n",
       "      <td>NaN</td>\n",
       "      <td>NaN</td>\n",
       "      <td>NaN</td>\n",
       "      <td>NaN</td>\n",
       "      <td>NaN</td>\n",
       "      <td>NaN</td>\n",
       "      <td>960113.607873</td>\n",
       "    </tr>\n",
       "    <tr>\n",
       "      <th>2010-01-07</th>\n",
       "      <td>16820.0</td>\n",
       "      <td>16820.0</td>\n",
       "      <td>16260.0</td>\n",
       "      <td>16260.0</td>\n",
       "      <td>5.982689</td>\n",
       "      <td>22107950</td>\n",
       "      <td>-0.024069</td>\n",
       "      <td>-0.053737</td>\n",
       "      <td>-0.038793</td>\n",
       "      <td>-0.053737</td>\n",
       "      <td>...</td>\n",
       "      <td>-0.033294</td>\n",
       "      <td>-0.010949</td>\n",
       "      <td>NaN</td>\n",
       "      <td>NaN</td>\n",
       "      <td>NaN</td>\n",
       "      <td>NaN</td>\n",
       "      <td>NaN</td>\n",
       "      <td>NaN</td>\n",
       "      <td>NaN</td>\n",
       "      <td>198708.195819</td>\n",
       "    </tr>\n",
       "    <tr>\n",
       "      <th>2010-01-08</th>\n",
       "      <td>16400.0</td>\n",
       "      <td>16420.0</td>\n",
       "      <td>16120.0</td>\n",
       "      <td>16420.0</td>\n",
       "      <td>6.041558</td>\n",
       "      <td>14777550</td>\n",
       "      <td>-0.028450</td>\n",
       "      <td>-0.013505</td>\n",
       "      <td>-0.028450</td>\n",
       "      <td>0.008500</td>\n",
       "      <td>...</td>\n",
       "      <td>0.009840</td>\n",
       "      <td>-0.023781</td>\n",
       "      <td>NaN</td>\n",
       "      <td>NaN</td>\n",
       "      <td>NaN</td>\n",
       "      <td>NaN</td>\n",
       "      <td>NaN</td>\n",
       "      <td>-0.024355</td>\n",
       "      <td>NaN</td>\n",
       "      <td>342703.810923</td>\n",
       "    </tr>\n",
       "  </tbody>\n",
       "</table>\n",
       "<p>5 rows × 27 columns</p>\n",
       "</div>"
      ],
      "text/plain": [
       "               Open     High      Low    Close  Adj Close    Volume  \\\n",
       "Date                                                                  \n",
       "2010-01-04  16060.0  16180.0  16000.0  16180.0   5.953252  11950800   \n",
       "2010-01-05  16520.0  16580.0  16300.0  16440.0   6.048919  27925850   \n",
       "2010-01-06  16580.0  16820.0  16520.0  16820.0   6.188735  22948850   \n",
       "2010-01-07  16820.0  16820.0  16260.0  16260.0   5.982689  22107950   \n",
       "2010-01-08  16400.0  16420.0  16120.0  16420.0   6.041558  14777550   \n",
       "\n",
       "            returnsCloseNext1  returnsCloseNext2  returnsCloseNext3  \\\n",
       "Date                                                                  \n",
       "2010-01-04           0.023386           0.046237           0.012376   \n",
       "2010-01-05           0.017997          -0.015864          -0.006072   \n",
       "2010-01-06          -0.019489          -0.009697          -0.039365   \n",
       "2010-01-07          -0.024069          -0.053737          -0.038793   \n",
       "2010-01-08          -0.028450          -0.013505          -0.028450   \n",
       "\n",
       "            returnsCloseNext4      ...           roc_1     roc_2  rsi_10  \\\n",
       "Date                               ...                                     \n",
       "2010-01-04           0.022168      ...             NaN       NaN     NaN   \n",
       "2010-01-05          -0.035740      ...        0.016069       NaN     NaN   \n",
       "2010-01-06          -0.024421      ...        0.023114  0.039555     NaN   \n",
       "2010-01-07          -0.053737      ...       -0.033294 -0.010949     NaN   \n",
       "2010-01-08           0.008500      ...        0.009840 -0.023781     NaN   \n",
       "\n",
       "            his_vol_10  w_r  sto_slowD  cci       di5  di10            vpt  \n",
       "Date                                                                        \n",
       "2010-01-04         NaN  NaN        NaN  NaN       NaN   NaN       0.000000  \n",
       "2010-01-05         NaN  NaN        NaN  NaN       NaN   NaN  441649.695864  \n",
       "2010-01-06         NaN  NaN        NaN  NaN       NaN   NaN  960113.607873  \n",
       "2010-01-07         NaN  NaN        NaN  NaN       NaN   NaN  198708.195819  \n",
       "2010-01-08         NaN  NaN        NaN  NaN -0.024355   NaN  342703.810923  \n",
       "\n",
       "[5 rows x 27 columns]"
      ]
     },
     "execution_count": 4,
     "metadata": {},
     "output_type": "execute_result"
    }
   ],
   "source": [
    "raw_data['삼성전자'].head()"
   ]
  },
  {
   "cell_type": "code",
   "execution_count": 5,
   "metadata": {},
   "outputs": [],
   "source": [
    "for key, df in raw_data.items():\n",
    "    raw_data[key] = df.dropna()"
   ]
  },
  {
   "cell_type": "code",
   "execution_count": 6,
   "metadata": {},
   "outputs": [],
   "source": [
    "y_li = [col for col in raw_data['삼성전자'].columns if col.find('Next') != -1]\n",
    "X_li = [col for col in raw_data['삼성전자'].columns if col.find('Next') == -1]"
   ]
  },
  {
   "cell_type": "code",
   "execution_count": 7,
   "metadata": {},
   "outputs": [],
   "source": [
    "from xgboost import XGBRegressor\n",
    "xgb_reg = XGBRegressor()"
   ]
  },
  {
   "cell_type": "code",
   "execution_count": 8,
   "metadata": {},
   "outputs": [],
   "source": [
    "for key, df in raw_data.items():\n",
    "    raw_data[key] = df.loc['2013-01-01':]"
   ]
  },
  {
   "cell_type": "code",
   "execution_count": 9,
   "metadata": {},
   "outputs": [],
   "source": [
    "from sklearn import metrics"
   ]
  },
  {
   "cell_type": "code",
   "execution_count": 20,
   "metadata": {},
   "outputs": [
    {
     "name": "stderr",
     "output_type": "stream",
     "text": [
      "C:\\Users\\JinMyungHun\\Anaconda3\\envs\\ds\\lib\\site-packages\\sklearn\\model_selection\\_search.py:841: DeprecationWarning: The default of the `iid` parameter will change from True to False in version 0.22 and will be removed in 0.24. This will change numeric results when test-set sizes are unequal.\n",
      "  DeprecationWarning)\n"
     ]
    },
    {
     "name": "stdout",
     "output_type": "stream",
     "text": [
      "Done : AK홀딩스 \t0.28266347171987616 \n",
      "\t {'colsample_bytree': 0.7, 'learning_rate': 0.07, 'max_depth': 5, 'min_child_weight': 4, 'n_estimators': 100, 'nthread': 4, 'objective': 'reg:linear', 'subsample': 0.7} \n",
      "\t13.5388 sec\n"
     ]
    },
    {
     "name": "stderr",
     "output_type": "stream",
     "text": [
      "C:\\Users\\JinMyungHun\\Anaconda3\\envs\\ds\\lib\\site-packages\\sklearn\\model_selection\\_search.py:841: DeprecationWarning: The default of the `iid` parameter will change from True to False in version 0.22 and will be removed in 0.24. This will change numeric results when test-set sizes are unequal.\n",
      "  DeprecationWarning)\n"
     ]
    },
    {
     "name": "stdout",
     "output_type": "stream",
     "text": [
      "Done : BNK금융지주 \t0.09723057746582527 \n",
      "\t {'colsample_bytree': 0.7, 'learning_rate': 0.03, 'max_depth': 6, 'min_child_weight': 4, 'n_estimators': 200, 'nthread': 4, 'objective': 'reg:linear', 'subsample': 0.7} \n",
      "\t16.7368 sec\n"
     ]
    },
    {
     "name": "stderr",
     "output_type": "stream",
     "text": [
      "C:\\Users\\JinMyungHun\\Anaconda3\\envs\\ds\\lib\\site-packages\\sklearn\\model_selection\\_search.py:841: DeprecationWarning: The default of the `iid` parameter will change from True to False in version 0.22 and will be removed in 0.24. This will change numeric results when test-set sizes are unequal.\n",
      "  DeprecationWarning)\n"
     ]
    },
    {
     "name": "stdout",
     "output_type": "stream",
     "text": [
      "Done : CJ \t0.11748408943050684 \n",
      "\t {'colsample_bytree': 0.7, 'learning_rate': 0.1, 'max_depth': 6, 'min_child_weight': 4, 'n_estimators': 50, 'nthread': 4, 'objective': 'reg:linear', 'subsample': 0.7} \n",
      "\t10.4511 sec\n"
     ]
    },
    {
     "name": "stderr",
     "output_type": "stream",
     "text": [
      "C:\\Users\\JinMyungHun\\Anaconda3\\envs\\ds\\lib\\site-packages\\sklearn\\model_selection\\_search.py:841: DeprecationWarning: The default of the `iid` parameter will change from True to False in version 0.22 and will be removed in 0.24. This will change numeric results when test-set sizes are unequal.\n",
      "  DeprecationWarning)\n"
     ]
    },
    {
     "name": "stdout",
     "output_type": "stream",
     "text": [
      "Done : CJ CGV \t0.043531341566575066 \n",
      "\t {'colsample_bytree': 0.7, 'learning_rate': 0.03, 'max_depth': 6, 'min_child_weight': 4, 'n_estimators': 200, 'nthread': 4, 'objective': 'reg:linear', 'subsample': 0.7} \n",
      "\t10.6924 sec\n"
     ]
    },
    {
     "name": "stderr",
     "output_type": "stream",
     "text": [
      "C:\\Users\\JinMyungHun\\Anaconda3\\envs\\ds\\lib\\site-packages\\sklearn\\model_selection\\_search.py:841: DeprecationWarning: The default of the `iid` parameter will change from True to False in version 0.22 and will be removed in 0.24. This will change numeric results when test-set sizes are unequal.\n",
      "  DeprecationWarning)\n"
     ]
    },
    {
     "name": "stdout",
     "output_type": "stream",
     "text": [
      "Done : CJ대한통운 \t0.21355782973045154 \n",
      "\t {'colsample_bytree': 0.7, 'learning_rate': 0.05, 'max_depth': 5, 'min_child_weight': 4, 'n_estimators': 100, 'nthread': 4, 'objective': 'reg:linear', 'subsample': 0.7} \n",
      "\t11.0185 sec\n"
     ]
    },
    {
     "name": "stderr",
     "output_type": "stream",
     "text": [
      "C:\\Users\\JinMyungHun\\Anaconda3\\envs\\ds\\lib\\site-packages\\sklearn\\model_selection\\_search.py:841: DeprecationWarning: The default of the `iid` parameter will change from True to False in version 0.22 and will be removed in 0.24. This will change numeric results when test-set sizes are unequal.\n",
      "  DeprecationWarning)\n"
     ]
    },
    {
     "name": "stdout",
     "output_type": "stream",
     "text": [
      "Done : CJ제일제당 \t0.10165615615614283 \n",
      "\t {'colsample_bytree': 0.7, 'learning_rate': 0.03, 'max_depth': 5, 'min_child_weight': 4, 'n_estimators': 200, 'nthread': 4, 'objective': 'reg:linear', 'subsample': 0.7} \n",
      "\t11.7078 sec\n"
     ]
    },
    {
     "name": "stderr",
     "output_type": "stream",
     "text": [
      "C:\\Users\\JinMyungHun\\Anaconda3\\envs\\ds\\lib\\site-packages\\sklearn\\model_selection\\_search.py:841: DeprecationWarning: The default of the `iid` parameter will change from True to False in version 0.22 and will be removed in 0.24. This will change numeric results when test-set sizes are unequal.\n",
      "  DeprecationWarning)\n"
     ]
    },
    {
     "name": "stdout",
     "output_type": "stream",
     "text": [
      "Done : DB손해보험 \t-0.13909780808745767 \n",
      "\t {'colsample_bytree': 0.7, 'learning_rate': 0.1, 'max_depth': 5, 'min_child_weight': 4, 'n_estimators': 50, 'nthread': 4, 'objective': 'reg:linear', 'subsample': 0.7} \n",
      "\t10.2875 sec\n"
     ]
    },
    {
     "name": "stderr",
     "output_type": "stream",
     "text": [
      "C:\\Users\\JinMyungHun\\Anaconda3\\envs\\ds\\lib\\site-packages\\sklearn\\model_selection\\_search.py:841: DeprecationWarning: The default of the `iid` parameter will change from True to False in version 0.22 and will be removed in 0.24. This will change numeric results when test-set sizes are unequal.\n",
      "  DeprecationWarning)\n"
     ]
    },
    {
     "name": "stdout",
     "output_type": "stream",
     "text": [
      "Done : DB하이텍 \t-0.08716133006817149 \n",
      "\t {'colsample_bytree': 0.7, 'learning_rate': 0.07, 'max_depth': 5, 'min_child_weight': 4, 'n_estimators': 50, 'nthread': 4, 'objective': 'reg:linear', 'subsample': 0.7} \n",
      "\t10.7383 sec\n"
     ]
    },
    {
     "name": "stderr",
     "output_type": "stream",
     "text": [
      "C:\\Users\\JinMyungHun\\Anaconda3\\envs\\ds\\lib\\site-packages\\sklearn\\model_selection\\_search.py:841: DeprecationWarning: The default of the `iid` parameter will change from True to False in version 0.22 and will be removed in 0.24. This will change numeric results when test-set sizes are unequal.\n",
      "  DeprecationWarning)\n"
     ]
    },
    {
     "name": "stdout",
     "output_type": "stream",
     "text": [
      "Done : GKL \t0.008451157112181097 \n",
      "\t {'colsample_bytree': 0.7, 'learning_rate': 0.1, 'max_depth': 5, 'min_child_weight': 4, 'n_estimators': 50, 'nthread': 4, 'objective': 'reg:linear', 'subsample': 0.7} \n",
      "\t10.4211 sec\n"
     ]
    },
    {
     "name": "stderr",
     "output_type": "stream",
     "text": [
      "C:\\Users\\JinMyungHun\\Anaconda3\\envs\\ds\\lib\\site-packages\\sklearn\\model_selection\\_search.py:841: DeprecationWarning: The default of the `iid` parameter will change from True to False in version 0.22 and will be removed in 0.24. This will change numeric results when test-set sizes are unequal.\n",
      "  DeprecationWarning)\n"
     ]
    },
    {
     "name": "stdout",
     "output_type": "stream",
     "text": [
      "Done : GS \t0.1271161692279635 \n",
      "\t {'colsample_bytree': 0.7, 'learning_rate': 0.03, 'max_depth': 5, 'min_child_weight': 4, 'n_estimators': 200, 'nthread': 4, 'objective': 'reg:linear', 'subsample': 0.7} \n",
      "\t10.3354 sec\n",
      "Done : GS건설 \t0.21601860559209432 \n",
      "\t {'colsample_bytree': 0.7, 'learning_rate': 0.03, 'max_depth': 5, 'min_child_weight': 4, 'n_estimators': 200, 'nthread': 4, 'objective': 'reg:linear', 'subsample': 0.7} \n",
      "\t11.4045 sec\n"
     ]
    },
    {
     "name": "stderr",
     "output_type": "stream",
     "text": [
      "C:\\Users\\JinMyungHun\\Anaconda3\\envs\\ds\\lib\\site-packages\\sklearn\\model_selection\\_search.py:841: DeprecationWarning: The default of the `iid` parameter will change from True to False in version 0.22 and will be removed in 0.24. This will change numeric results when test-set sizes are unequal.\n",
      "  DeprecationWarning)\n"
     ]
    },
    {
     "name": "stdout",
     "output_type": "stream",
     "text": [
      "Done : GS리테일 \t0.0167454739639496 \n",
      "\t {'colsample_bytree': 0.7, 'learning_rate': 0.03, 'max_depth': 7, 'min_child_weight': 4, 'n_estimators': 200, 'nthread': 4, 'objective': 'reg:linear', 'subsample': 0.7} \n",
      "\t10.9228 sec\n",
      "Done : HDC \t-0.12784812256126865 \n",
      "\t {'colsample_bytree': 0.7, 'learning_rate': 0.07, 'max_depth': 5, 'min_child_weight': 4, 'n_estimators': 150, 'nthread': 4, 'objective': 'reg:linear', 'subsample': 0.7} \n",
      "\t10.5637 sec\n"
     ]
    },
    {
     "name": "stderr",
     "output_type": "stream",
     "text": [
      "C:\\Users\\JinMyungHun\\Anaconda3\\envs\\ds\\lib\\site-packages\\sklearn\\model_selection\\_search.py:841: DeprecationWarning: The default of the `iid` parameter will change from True to False in version 0.22 and will be removed in 0.24. This will change numeric results when test-set sizes are unequal.\n",
      "  DeprecationWarning)\n"
     ]
    },
    {
     "name": "stdout",
     "output_type": "stream",
     "text": [
      "Done : JW중외제약 \t-1.5873598531093425 \n",
      "\t {'colsample_bytree': 0.7, 'learning_rate': 0.1, 'max_depth': 6, 'min_child_weight': 4, 'n_estimators': 50, 'nthread': 4, 'objective': 'reg:linear', 'subsample': 0.7} \n",
      "\t10.7881 sec\n",
      "Done : JW홀딩스 \t-0.33769628071356556 \n",
      "\t {'colsample_bytree': 0.7, 'learning_rate': 0.1, 'max_depth': 5, 'min_child_weight': 4, 'n_estimators': 100, 'nthread': 4, 'objective': 'reg:linear', 'subsample': 0.7} \n",
      "\t10.7772 sec\n"
     ]
    },
    {
     "name": "stderr",
     "output_type": "stream",
     "text": [
      "C:\\Users\\JinMyungHun\\Anaconda3\\envs\\ds\\lib\\site-packages\\sklearn\\model_selection\\_search.py:841: DeprecationWarning: The default of the `iid` parameter will change from True to False in version 0.22 and will be removed in 0.24. This will change numeric results when test-set sizes are unequal.\n",
      "  DeprecationWarning)\n"
     ]
    },
    {
     "name": "stdout",
     "output_type": "stream",
     "text": [
      "Done : KB금융 \t0.1662548224393561 \n",
      "\t {'colsample_bytree': 0.7, 'learning_rate': 0.03, 'max_depth': 5, 'min_child_weight': 4, 'n_estimators': 200, 'nthread': 4, 'objective': 'reg:linear', 'subsample': 0.7} \n",
      "\t10.3463 sec\n"
     ]
    },
    {
     "name": "stderr",
     "output_type": "stream",
     "text": [
      "C:\\Users\\JinMyungHun\\Anaconda3\\envs\\ds\\lib\\site-packages\\sklearn\\model_selection\\_search.py:841: DeprecationWarning: The default of the `iid` parameter will change from True to False in version 0.22 and will be removed in 0.24. This will change numeric results when test-set sizes are unequal.\n",
      "  DeprecationWarning)\n"
     ]
    },
    {
     "name": "stdout",
     "output_type": "stream",
     "text": [
      "Done : KCC \t0.08459548130587902 \n",
      "\t {'colsample_bytree': 0.7, 'learning_rate': 0.03, 'max_depth': 5, 'min_child_weight': 4, 'n_estimators': 150, 'nthread': 4, 'objective': 'reg:linear', 'subsample': 0.7} \n",
      "\t10.2316 sec\n"
     ]
    },
    {
     "name": "stderr",
     "output_type": "stream",
     "text": [
      "C:\\Users\\JinMyungHun\\Anaconda3\\envs\\ds\\lib\\site-packages\\sklearn\\model_selection\\_search.py:841: DeprecationWarning: The default of the `iid` parameter will change from True to False in version 0.22 and will be removed in 0.24. This will change numeric results when test-set sizes are unequal.\n",
      "  DeprecationWarning)\n"
     ]
    },
    {
     "name": "stdout",
     "output_type": "stream",
     "text": [
      "Done : KT \t0.22556300246697905 \n",
      "\t {'colsample_bytree': 0.7, 'learning_rate': 0.07, 'max_depth': 5, 'min_child_weight': 4, 'n_estimators': 100, 'nthread': 4, 'objective': 'reg:linear', 'subsample': 0.7} \n",
      "\t9.7689 sec\n"
     ]
    },
    {
     "name": "stderr",
     "output_type": "stream",
     "text": [
      "C:\\Users\\JinMyungHun\\Anaconda3\\envs\\ds\\lib\\site-packages\\sklearn\\model_selection\\_search.py:841: DeprecationWarning: The default of the `iid` parameter will change from True to False in version 0.22 and will be removed in 0.24. This will change numeric results when test-set sizes are unequal.\n",
      "  DeprecationWarning)\n"
     ]
    },
    {
     "name": "stdout",
     "output_type": "stream",
     "text": [
      "Done : KT&G \t-0.20785053161510808 \n",
      "\t {'colsample_bytree': 0.7, 'learning_rate': 0.1, 'max_depth': 6, 'min_child_weight': 4, 'n_estimators': 100, 'nthread': 4, 'objective': 'reg:linear', 'subsample': 0.7} \n",
      "\t10.0372 sec\n"
     ]
    },
    {
     "name": "stderr",
     "output_type": "stream",
     "text": [
      "C:\\Users\\JinMyungHun\\Anaconda3\\envs\\ds\\lib\\site-packages\\sklearn\\model_selection\\_search.py:841: DeprecationWarning: The default of the `iid` parameter will change from True to False in version 0.22 and will be removed in 0.24. This will change numeric results when test-set sizes are unequal.\n",
      "  DeprecationWarning)\n"
     ]
    },
    {
     "name": "stdout",
     "output_type": "stream",
     "text": [
      "Done : LF \t0.11758978902698383 \n",
      "\t {'colsample_bytree': 0.7, 'learning_rate': 0.1, 'max_depth': 5, 'min_child_weight': 4, 'n_estimators': 50, 'nthread': 4, 'objective': 'reg:linear', 'subsample': 0.7} \n",
      "\t9.9673 sec\n"
     ]
    },
    {
     "name": "stderr",
     "output_type": "stream",
     "text": [
      "C:\\Users\\JinMyungHun\\Anaconda3\\envs\\ds\\lib\\site-packages\\sklearn\\model_selection\\_search.py:841: DeprecationWarning: The default of the `iid` parameter will change from True to False in version 0.22 and will be removed in 0.24. This will change numeric results when test-set sizes are unequal.\n",
      "  DeprecationWarning)\n"
     ]
    },
    {
     "name": "stdout",
     "output_type": "stream",
     "text": [
      "Done : LG \t-0.1818556952938863 \n",
      "\t {'colsample_bytree': 0.7, 'learning_rate': 0.03, 'max_depth': 5, 'min_child_weight': 4, 'n_estimators': 200, 'nthread': 4, 'objective': 'reg:linear', 'subsample': 0.7} \n",
      "\t10.2955 sec\n"
     ]
    },
    {
     "name": "stderr",
     "output_type": "stream",
     "text": [
      "C:\\Users\\JinMyungHun\\Anaconda3\\envs\\ds\\lib\\site-packages\\sklearn\\model_selection\\_search.py:841: DeprecationWarning: The default of the `iid` parameter will change from True to False in version 0.22 and will be removed in 0.24. This will change numeric results when test-set sizes are unequal.\n",
      "  DeprecationWarning)\n"
     ]
    },
    {
     "name": "stdout",
     "output_type": "stream",
     "text": [
      "Done : LG디스플레이 \t0.2973239116964126 \n",
      "\t {'colsample_bytree': 0.7, 'learning_rate': 0.03, 'max_depth': 5, 'min_child_weight': 4, 'n_estimators': 200, 'nthread': 4, 'objective': 'reg:linear', 'subsample': 0.7} \n",
      "\t10.6854 sec\n"
     ]
    },
    {
     "name": "stderr",
     "output_type": "stream",
     "text": [
      "C:\\Users\\JinMyungHun\\Anaconda3\\envs\\ds\\lib\\site-packages\\sklearn\\model_selection\\_search.py:841: DeprecationWarning: The default of the `iid` parameter will change from True to False in version 0.22 and will be removed in 0.24. This will change numeric results when test-set sizes are unequal.\n",
      "  DeprecationWarning)\n"
     ]
    },
    {
     "name": "stdout",
     "output_type": "stream",
     "text": [
      "Done : LG상사 \t0.2645400055853144 \n",
      "\t {'colsample_bytree': 0.7, 'learning_rate': 0.03, 'max_depth': 5, 'min_child_weight': 4, 'n_estimators': 200, 'nthread': 4, 'objective': 'reg:linear', 'subsample': 0.7} \n",
      "\t11.0435 sec\n"
     ]
    },
    {
     "name": "stderr",
     "output_type": "stream",
     "text": [
      "C:\\Users\\JinMyungHun\\Anaconda3\\envs\\ds\\lib\\site-packages\\sklearn\\model_selection\\_search.py:841: DeprecationWarning: The default of the `iid` parameter will change from True to False in version 0.22 and will be removed in 0.24. This will change numeric results when test-set sizes are unequal.\n",
      "  DeprecationWarning)\n"
     ]
    },
    {
     "name": "stdout",
     "output_type": "stream",
     "text": [
      "Done : LG생활건강 \t-0.10934278548854984 \n",
      "\t {'colsample_bytree': 0.7, 'learning_rate': 0.1, 'max_depth': 5, 'min_child_weight': 4, 'n_estimators': 50, 'nthread': 4, 'objective': 'reg:linear', 'subsample': 0.7} \n",
      "\t10.6595 sec\n",
      "Done : LG유플러스 \t0.27749541151412876 \n",
      "\t {'colsample_bytree': 0.7, 'learning_rate': 0.03, 'max_depth': 5, 'min_child_weight': 4, 'n_estimators': 200, 'nthread': 4, 'objective': 'reg:linear', 'subsample': 0.7} \n",
      "\t10.7193 sec\n"
     ]
    },
    {
     "name": "stderr",
     "output_type": "stream",
     "text": [
      "C:\\Users\\JinMyungHun\\Anaconda3\\envs\\ds\\lib\\site-packages\\sklearn\\model_selection\\_search.py:841: DeprecationWarning: The default of the `iid` parameter will change from True to False in version 0.22 and will be removed in 0.24. This will change numeric results when test-set sizes are unequal.\n",
      "  DeprecationWarning)\n"
     ]
    },
    {
     "name": "stdout",
     "output_type": "stream",
     "text": [
      "Done : LG이노텍 \t0.17521795666816203 \n",
      "\t {'colsample_bytree': 0.7, 'learning_rate': 0.05, 'max_depth': 5, 'min_child_weight': 4, 'n_estimators': 100, 'nthread': 4, 'objective': 'reg:linear', 'subsample': 0.7} \n",
      "\t12.4567 sec\n"
     ]
    },
    {
     "name": "stderr",
     "output_type": "stream",
     "text": [
      "C:\\Users\\JinMyungHun\\Anaconda3\\envs\\ds\\lib\\site-packages\\sklearn\\model_selection\\_search.py:841: DeprecationWarning: The default of the `iid` parameter will change from True to False in version 0.22 and will be removed in 0.24. This will change numeric results when test-set sizes are unequal.\n",
      "  DeprecationWarning)\n"
     ]
    },
    {
     "name": "stdout",
     "output_type": "stream",
     "text": [
      "Done : LG전자 \t0.2976768188505567 \n",
      "\t {'colsample_bytree': 0.7, 'learning_rate': 0.03, 'max_depth': 5, 'min_child_weight': 4, 'n_estimators': 200, 'nthread': 4, 'objective': 'reg:linear', 'subsample': 0.7} \n",
      "\t12.2014 sec\n"
     ]
    },
    {
     "name": "stderr",
     "output_type": "stream",
     "text": [
      "C:\\Users\\JinMyungHun\\Anaconda3\\envs\\ds\\lib\\site-packages\\sklearn\\model_selection\\_search.py:841: DeprecationWarning: The default of the `iid` parameter will change from True to False in version 0.22 and will be removed in 0.24. This will change numeric results when test-set sizes are unequal.\n",
      "  DeprecationWarning)\n"
     ]
    },
    {
     "name": "stdout",
     "output_type": "stream",
     "text": [
      "Done : LG하우시스 \t0.20089762649898352 \n",
      "\t {'colsample_bytree': 0.7, 'learning_rate': 0.05, 'max_depth': 5, 'min_child_weight': 4, 'n_estimators': 100, 'nthread': 4, 'objective': 'reg:linear', 'subsample': 0.7} \n",
      "\t10.6236 sec\n"
     ]
    },
    {
     "name": "stderr",
     "output_type": "stream",
     "text": [
      "C:\\Users\\JinMyungHun\\Anaconda3\\envs\\ds\\lib\\site-packages\\sklearn\\model_selection\\_search.py:841: DeprecationWarning: The default of the `iid` parameter will change from True to False in version 0.22 and will be removed in 0.24. This will change numeric results when test-set sizes are unequal.\n",
      "  DeprecationWarning)\n"
     ]
    },
    {
     "name": "stdout",
     "output_type": "stream",
     "text": [
      "Done : LG화학 \t0.20250313579569848 \n",
      "\t {'colsample_bytree': 0.7, 'learning_rate': 0.03, 'max_depth': 5, 'min_child_weight': 4, 'n_estimators': 200, 'nthread': 4, 'objective': 'reg:linear', 'subsample': 0.7} \n",
      "\t10.5637 sec\n"
     ]
    },
    {
     "name": "stderr",
     "output_type": "stream",
     "text": [
      "C:\\Users\\JinMyungHun\\Anaconda3\\envs\\ds\\lib\\site-packages\\sklearn\\model_selection\\_search.py:841: DeprecationWarning: The default of the `iid` parameter will change from True to False in version 0.22 and will be removed in 0.24. This will change numeric results when test-set sizes are unequal.\n",
      "  DeprecationWarning)\n"
     ]
    },
    {
     "name": "stdout",
     "output_type": "stream",
     "text": [
      "Done : LS \t0.2902753049384342 \n",
      "\t {'colsample_bytree': 0.7, 'learning_rate': 0.07, 'max_depth': 5, 'min_child_weight': 4, 'n_estimators': 100, 'nthread': 4, 'objective': 'reg:linear', 'subsample': 0.7} \n",
      "\t10.5139 sec\n"
     ]
    },
    {
     "name": "stderr",
     "output_type": "stream",
     "text": [
      "C:\\Users\\JinMyungHun\\Anaconda3\\envs\\ds\\lib\\site-packages\\sklearn\\model_selection\\_search.py:841: DeprecationWarning: The default of the `iid` parameter will change from True to False in version 0.22 and will be removed in 0.24. This will change numeric results when test-set sizes are unequal.\n",
      "  DeprecationWarning)\n"
     ]
    },
    {
     "name": "stdout",
     "output_type": "stream",
     "text": [
      "Done : LS산전 \t-0.18771625735938818 \n",
      "\t {'colsample_bytree': 0.7, 'learning_rate': 0.1, 'max_depth': 7, 'min_child_weight': 4, 'n_estimators': 50, 'nthread': 4, 'objective': 'reg:linear', 'subsample': 0.7} \n",
      "\t14.3586 sec\n",
      "Done : NAVER \t0.13609430762020533 \n",
      "\t {'colsample_bytree': 0.7, 'learning_rate': 0.03, 'max_depth': 5, 'min_child_weight': 4, 'n_estimators': 150, 'nthread': 4, 'objective': 'reg:linear', 'subsample': 0.7} \n",
      "\t10.5428 sec\n"
     ]
    },
    {
     "name": "stderr",
     "output_type": "stream",
     "text": [
      "C:\\Users\\JinMyungHun\\Anaconda3\\envs\\ds\\lib\\site-packages\\sklearn\\model_selection\\_search.py:841: DeprecationWarning: The default of the `iid` parameter will change from True to False in version 0.22 and will be removed in 0.24. This will change numeric results when test-set sizes are unequal.\n",
      "  DeprecationWarning)\n"
     ]
    },
    {
     "name": "stdout",
     "output_type": "stream",
     "text": [
      "Done : NH투자증권 \t0.12976156909081535 \n",
      "\t {'colsample_bytree': 0.7, 'learning_rate': 0.07, 'max_depth': 5, 'min_child_weight': 4, 'n_estimators': 100, 'nthread': 4, 'objective': 'reg:linear', 'subsample': 0.7} \n",
      "\t10.3832 sec\n"
     ]
    },
    {
     "name": "stderr",
     "output_type": "stream",
     "text": [
      "C:\\Users\\JinMyungHun\\Anaconda3\\envs\\ds\\lib\\site-packages\\sklearn\\model_selection\\_search.py:841: DeprecationWarning: The default of the `iid` parameter will change from True to False in version 0.22 and will be removed in 0.24. This will change numeric results when test-set sizes are unequal.\n",
      "  DeprecationWarning)\n"
     ]
    },
    {
     "name": "stdout",
     "output_type": "stream",
     "text": [
      "Done : OCI \t0.16356544504101006 \n",
      "\t {'colsample_bytree': 0.7, 'learning_rate': 0.07, 'max_depth': 5, 'min_child_weight': 4, 'n_estimators': 50, 'nthread': 4, 'objective': 'reg:linear', 'subsample': 0.7} \n",
      "\t10.5677 sec\n"
     ]
    },
    {
     "name": "stderr",
     "output_type": "stream",
     "text": [
      "C:\\Users\\JinMyungHun\\Anaconda3\\envs\\ds\\lib\\site-packages\\sklearn\\model_selection\\_search.py:841: DeprecationWarning: The default of the `iid` parameter will change from True to False in version 0.22 and will be removed in 0.24. This will change numeric results when test-set sizes are unequal.\n",
      "  DeprecationWarning)\n"
     ]
    },
    {
     "name": "stdout",
     "output_type": "stream",
     "text": [
      "Done : POSCO \t0.18391088850453358 \n",
      "\t {'colsample_bytree': 0.7, 'learning_rate': 0.03, 'max_depth': 5, 'min_child_weight': 4, 'n_estimators': 200, 'nthread': 4, 'objective': 'reg:linear', 'subsample': 0.7} \n",
      "\t10.4520 sec\n"
     ]
    },
    {
     "name": "stderr",
     "output_type": "stream",
     "text": [
      "C:\\Users\\JinMyungHun\\Anaconda3\\envs\\ds\\lib\\site-packages\\sklearn\\model_selection\\_search.py:841: DeprecationWarning: The default of the `iid` parameter will change from True to False in version 0.22 and will be removed in 0.24. This will change numeric results when test-set sizes are unequal.\n",
      "  DeprecationWarning)\n"
     ]
    },
    {
     "name": "stdout",
     "output_type": "stream",
     "text": [
      "Done : S&T모티브 \t-0.29089830050467097 \n",
      "\t {'colsample_bytree': 0.7, 'learning_rate': 0.1, 'max_depth': 6, 'min_child_weight': 4, 'n_estimators': 50, 'nthread': 4, 'objective': 'reg:linear', 'subsample': 0.7} \n",
      "\t10.4451 sec\n"
     ]
    },
    {
     "name": "stderr",
     "output_type": "stream",
     "text": [
      "C:\\Users\\JinMyungHun\\Anaconda3\\envs\\ds\\lib\\site-packages\\sklearn\\model_selection\\_search.py:841: DeprecationWarning: The default of the `iid` parameter will change from True to False in version 0.22 and will be removed in 0.24. This will change numeric results when test-set sizes are unequal.\n",
      "  DeprecationWarning)\n"
     ]
    },
    {
     "name": "stdout",
     "output_type": "stream",
     "text": [
      "Done : S-Oil \t0.05002700582902521 \n",
      "\t {'colsample_bytree': 0.7, 'learning_rate': 0.07, 'max_depth': 6, 'min_child_weight': 4, 'n_estimators': 100, 'nthread': 4, 'objective': 'reg:linear', 'subsample': 0.7} \n",
      "\t10.8590 sec\n"
     ]
    },
    {
     "name": "stderr",
     "output_type": "stream",
     "text": [
      "C:\\Users\\JinMyungHun\\Anaconda3\\envs\\ds\\lib\\site-packages\\sklearn\\model_selection\\_search.py:841: DeprecationWarning: The default of the `iid` parameter will change from True to False in version 0.22 and will be removed in 0.24. This will change numeric results when test-set sizes are unequal.\n",
      "  DeprecationWarning)\n"
     ]
    },
    {
     "name": "stdout",
     "output_type": "stream",
     "text": [
      "Done : SBS \t0.2984340395478141 \n",
      "\t {'colsample_bytree': 0.7, 'learning_rate': 0.1, 'max_depth': 5, 'min_child_weight': 4, 'n_estimators': 50, 'nthread': 4, 'objective': 'reg:linear', 'subsample': 0.7} \n",
      "\t11.2778 sec\n"
     ]
    },
    {
     "name": "stderr",
     "output_type": "stream",
     "text": [
      "C:\\Users\\JinMyungHun\\Anaconda3\\envs\\ds\\lib\\site-packages\\sklearn\\model_selection\\_search.py:841: DeprecationWarning: The default of the `iid` parameter will change from True to False in version 0.22 and will be removed in 0.24. This will change numeric results when test-set sizes are unequal.\n",
      "  DeprecationWarning)\n"
     ]
    },
    {
     "name": "stdout",
     "output_type": "stream",
     "text": [
      "Done : SK \t0.19444826306205973 \n",
      "\t {'colsample_bytree': 0.7, 'learning_rate': 0.03, 'max_depth': 5, 'min_child_weight': 4, 'n_estimators': 150, 'nthread': 4, 'objective': 'reg:linear', 'subsample': 0.7} \n",
      "\t12.5464 sec\n"
     ]
    },
    {
     "name": "stderr",
     "output_type": "stream",
     "text": [
      "C:\\Users\\JinMyungHun\\Anaconda3\\envs\\ds\\lib\\site-packages\\sklearn\\model_selection\\_search.py:841: DeprecationWarning: The default of the `iid` parameter will change from True to False in version 0.22 and will be removed in 0.24. This will change numeric results when test-set sizes are unequal.\n",
      "  DeprecationWarning)\n"
     ]
    },
    {
     "name": "stdout",
     "output_type": "stream",
     "text": [
      "Done : SKC \t0.20978280799526314 \n",
      "\t {'colsample_bytree': 0.7, 'learning_rate': 0.07, 'max_depth': 5, 'min_child_weight': 4, 'n_estimators': 100, 'nthread': 4, 'objective': 'reg:linear', 'subsample': 0.7} \n",
      "\t11.5501 sec\n"
     ]
    },
    {
     "name": "stderr",
     "output_type": "stream",
     "text": [
      "C:\\Users\\JinMyungHun\\Anaconda3\\envs\\ds\\lib\\site-packages\\sklearn\\model_selection\\_search.py:841: DeprecationWarning: The default of the `iid` parameter will change from True to False in version 0.22 and will be removed in 0.24. This will change numeric results when test-set sizes are unequal.\n",
      "  DeprecationWarning)\n"
     ]
    },
    {
     "name": "stdout",
     "output_type": "stream",
     "text": [
      "Done : SK네트웍스 \t0.15053741872563514 \n",
      "\t {'colsample_bytree': 0.7, 'learning_rate': 0.03, 'max_depth': 5, 'min_child_weight': 4, 'n_estimators': 200, 'nthread': 4, 'objective': 'reg:linear', 'subsample': 0.7} \n",
      "\t12.5335 sec\n",
      "Done : SK디스커버리 \t0.14096562226977488 \n",
      "\t {'colsample_bytree': 0.7, 'learning_rate': 0.07, 'max_depth': 5, 'min_child_weight': 4, 'n_estimators': 100, 'nthread': 4, 'objective': 'reg:linear', 'subsample': 0.7} \n",
      "\t12.8466 sec\n"
     ]
    },
    {
     "name": "stderr",
     "output_type": "stream",
     "text": [
      "C:\\Users\\JinMyungHun\\Anaconda3\\envs\\ds\\lib\\site-packages\\sklearn\\model_selection\\_search.py:841: DeprecationWarning: The default of the `iid` parameter will change from True to False in version 0.22 and will be removed in 0.24. This will change numeric results when test-set sizes are unequal.\n",
      "  DeprecationWarning)\n"
     ]
    },
    {
     "name": "stdout",
     "output_type": "stream",
     "text": [
      "Done : SK이노베이션 \t-0.00634394512114915 \n",
      "\t {'colsample_bytree': 0.7, 'learning_rate': 0.03, 'max_depth': 5, 'min_child_weight': 4, 'n_estimators': 200, 'nthread': 4, 'objective': 'reg:linear', 'subsample': 0.7} \n",
      "\t11.5750 sec\n"
     ]
    },
    {
     "name": "stderr",
     "output_type": "stream",
     "text": [
      "C:\\Users\\JinMyungHun\\Anaconda3\\envs\\ds\\lib\\site-packages\\sklearn\\model_selection\\_search.py:841: DeprecationWarning: The default of the `iid` parameter will change from True to False in version 0.22 and will be removed in 0.24. This will change numeric results when test-set sizes are unequal.\n",
      "  DeprecationWarning)\n"
     ]
    },
    {
     "name": "stdout",
     "output_type": "stream",
     "text": [
      "Done : SK텔레콤 \t0.29486645726149774 \n",
      "\t {'colsample_bytree': 0.7, 'learning_rate': 0.03, 'max_depth': 5, 'min_child_weight': 4, 'n_estimators': 200, 'nthread': 4, 'objective': 'reg:linear', 'subsample': 0.7} \n",
      "\t10.3573 sec\n",
      "Done : SK하이닉스 \t0.14280483300309116 \n",
      "\t {'colsample_bytree': 0.7, 'learning_rate': 0.07, 'max_depth': 7, 'min_child_weight': 4, 'n_estimators': 100, 'nthread': 4, 'objective': 'reg:linear', 'subsample': 0.7} \n",
      "\t11.0983 sec\n"
     ]
    },
    {
     "name": "stderr",
     "output_type": "stream",
     "text": [
      "C:\\Users\\JinMyungHun\\Anaconda3\\envs\\ds\\lib\\site-packages\\sklearn\\model_selection\\_search.py:841: DeprecationWarning: The default of the `iid` parameter will change from True to False in version 0.22 and will be removed in 0.24. This will change numeric results when test-set sizes are unequal.\n",
      "  DeprecationWarning)\n"
     ]
    },
    {
     "name": "stdout",
     "output_type": "stream",
     "text": [
      "Done : SPC삼립 \t0.21535451544730447 \n",
      "\t {'colsample_bytree': 0.7, 'learning_rate': 0.1, 'max_depth': 5, 'min_child_weight': 4, 'n_estimators': 50, 'nthread': 4, 'objective': 'reg:linear', 'subsample': 0.7} \n",
      "\t12.1615 sec\n"
     ]
    },
    {
     "name": "stderr",
     "output_type": "stream",
     "text": [
      "C:\\Users\\JinMyungHun\\Anaconda3\\envs\\ds\\lib\\site-packages\\sklearn\\model_selection\\_search.py:841: DeprecationWarning: The default of the `iid` parameter will change from True to False in version 0.22 and will be removed in 0.24. This will change numeric results when test-set sizes are unequal.\n",
      "  DeprecationWarning)\n"
     ]
    },
    {
     "name": "stdout",
     "output_type": "stream",
     "text": [
      "Done : 강원랜드 \t0.0161369416825324 \n",
      "\t {'colsample_bytree': 0.7, 'learning_rate': 0.05, 'max_depth': 5, 'min_child_weight': 4, 'n_estimators': 100, 'nthread': 4, 'objective': 'reg:linear', 'subsample': 0.7} \n",
      "\t10.7433 sec\n"
     ]
    },
    {
     "name": "stderr",
     "output_type": "stream",
     "text": [
      "C:\\Users\\JinMyungHun\\Anaconda3\\envs\\ds\\lib\\site-packages\\sklearn\\model_selection\\_search.py:841: DeprecationWarning: The default of the `iid` parameter will change from True to False in version 0.22 and will be removed in 0.24. This will change numeric results when test-set sizes are unequal.\n",
      "  DeprecationWarning)\n"
     ]
    },
    {
     "name": "stdout",
     "output_type": "stream",
     "text": [
      "Done : 고려아연 \t0.14600418361960119 \n",
      "\t {'colsample_bytree': 0.7, 'learning_rate': 0.03, 'max_depth': 5, 'min_child_weight': 4, 'n_estimators': 200, 'nthread': 4, 'objective': 'reg:linear', 'subsample': 0.7} \n",
      "\t11.3317 sec\n"
     ]
    },
    {
     "name": "stderr",
     "output_type": "stream",
     "text": [
      "C:\\Users\\JinMyungHun\\Anaconda3\\envs\\ds\\lib\\site-packages\\sklearn\\model_selection\\_search.py:841: DeprecationWarning: The default of the `iid` parameter will change from True to False in version 0.22 and will be removed in 0.24. This will change numeric results when test-set sizes are unequal.\n",
      "  DeprecationWarning)\n"
     ]
    },
    {
     "name": "stdout",
     "output_type": "stream",
     "text": [
      "Done : 고려제강 \t0.16108800909786097 \n",
      "\t {'colsample_bytree': 0.7, 'learning_rate': 0.03, 'max_depth': 5, 'min_child_weight': 4, 'n_estimators': 200, 'nthread': 4, 'objective': 'reg:linear', 'subsample': 0.7} \n",
      "\t10.2795 sec\n"
     ]
    },
    {
     "name": "stderr",
     "output_type": "stream",
     "text": [
      "C:\\Users\\JinMyungHun\\Anaconda3\\envs\\ds\\lib\\site-packages\\sklearn\\model_selection\\_search.py:841: DeprecationWarning: The default of the `iid` parameter will change from True to False in version 0.22 and will be removed in 0.24. This will change numeric results when test-set sizes are unequal.\n",
      "  DeprecationWarning)\n"
     ]
    },
    {
     "name": "stdout",
     "output_type": "stream",
     "text": [
      "Done : 금호석유 \t0.23537953187867902 \n",
      "\t {'colsample_bytree': 0.7, 'learning_rate': 0.03, 'max_depth': 5, 'min_child_weight': 4, 'n_estimators': 200, 'nthread': 4, 'objective': 'reg:linear', 'subsample': 0.7} \n",
      "\t10.7722 sec\n"
     ]
    },
    {
     "name": "stderr",
     "output_type": "stream",
     "text": [
      "C:\\Users\\JinMyungHun\\Anaconda3\\envs\\ds\\lib\\site-packages\\sklearn\\model_selection\\_search.py:841: DeprecationWarning: The default of the `iid` parameter will change from True to False in version 0.22 and will be removed in 0.24. This will change numeric results when test-set sizes are unequal.\n",
      "  DeprecationWarning)\n"
     ]
    },
    {
     "name": "stdout",
     "output_type": "stream",
     "text": [
      "Done : 금호타이어 \t0.2699846686702816 \n",
      "\t {'colsample_bytree': 0.7, 'learning_rate': 0.03, 'max_depth': 5, 'min_child_weight': 4, 'n_estimators': 150, 'nthread': 4, 'objective': 'reg:linear', 'subsample': 0.7} \n",
      "\t10.6635 sec\n",
      "Done : 기아차 \t0.30598957865315174 \n",
      "\t {'colsample_bytree': 0.7, 'learning_rate': 0.03, 'max_depth': 5, 'min_child_weight': 4, 'n_estimators': 200, 'nthread': 4, 'objective': 'reg:linear', 'subsample': 0.7} \n",
      "\t10.4580 sec\n"
     ]
    },
    {
     "name": "stderr",
     "output_type": "stream",
     "text": [
      "C:\\Users\\JinMyungHun\\Anaconda3\\envs\\ds\\lib\\site-packages\\sklearn\\model_selection\\_search.py:841: DeprecationWarning: The default of the `iid` parameter will change from True to False in version 0.22 and will be removed in 0.24. This will change numeric results when test-set sizes are unequal.\n",
      "  DeprecationWarning)\n"
     ]
    },
    {
     "name": "stdout",
     "output_type": "stream",
     "text": [
      "Done : 기업은행 \t0.0710839059863195 \n",
      "\t {'colsample_bytree': 0.7, 'learning_rate': 0.03, 'max_depth': 6, 'min_child_weight': 4, 'n_estimators': 200, 'nthread': 4, 'objective': 'reg:linear', 'subsample': 0.7} \n",
      "\t10.3623 sec\n"
     ]
    },
    {
     "name": "stderr",
     "output_type": "stream",
     "text": [
      "C:\\Users\\JinMyungHun\\Anaconda3\\envs\\ds\\lib\\site-packages\\sklearn\\model_selection\\_search.py:841: DeprecationWarning: The default of the `iid` parameter will change from True to False in version 0.22 and will be removed in 0.24. This will change numeric results when test-set sizes are unequal.\n",
      "  DeprecationWarning)\n"
     ]
    },
    {
     "name": "stdout",
     "output_type": "stream",
     "text": [
      "Done : 남양유업 \t0.2219169805682984 \n",
      "\t {'colsample_bytree': 0.7, 'learning_rate': 0.03, 'max_depth': 5, 'min_child_weight': 4, 'n_estimators': 150, 'nthread': 4, 'objective': 'reg:linear', 'subsample': 0.7} \n",
      "\t10.3144 sec\n"
     ]
    },
    {
     "name": "stderr",
     "output_type": "stream",
     "text": [
      "C:\\Users\\JinMyungHun\\Anaconda3\\envs\\ds\\lib\\site-packages\\sklearn\\model_selection\\_search.py:841: DeprecationWarning: The default of the `iid` parameter will change from True to False in version 0.22 and will be removed in 0.24. This will change numeric results when test-set sizes are unequal.\n",
      "  DeprecationWarning)\n"
     ]
    },
    {
     "name": "stdout",
     "output_type": "stream",
     "text": [
      "Done : 남해화학 \t-0.25252652196145314 \n",
      "\t {'colsample_bytree': 0.7, 'learning_rate': 0.05, 'max_depth': 6, 'min_child_weight': 4, 'n_estimators': 100, 'nthread': 4, 'objective': 'reg:linear', 'subsample': 0.7} \n",
      "\t11.6409 sec\n"
     ]
    },
    {
     "name": "stderr",
     "output_type": "stream",
     "text": [
      "C:\\Users\\JinMyungHun\\Anaconda3\\envs\\ds\\lib\\site-packages\\sklearn\\model_selection\\_search.py:841: DeprecationWarning: The default of the `iid` parameter will change from True to False in version 0.22 and will be removed in 0.24. This will change numeric results when test-set sizes are unequal.\n",
      "  DeprecationWarning)\n"
     ]
    },
    {
     "name": "stdout",
     "output_type": "stream",
     "text": [
      "Done : 넥센타이어 \t0.21153114593712116 \n",
      "\t {'colsample_bytree': 0.7, 'learning_rate': 0.07, 'max_depth': 7, 'min_child_weight': 4, 'n_estimators': 100, 'nthread': 4, 'objective': 'reg:linear', 'subsample': 0.7} \n",
      "\t11.7097 sec\n"
     ]
    },
    {
     "name": "stderr",
     "output_type": "stream",
     "text": [
      "C:\\Users\\JinMyungHun\\Anaconda3\\envs\\ds\\lib\\site-packages\\sklearn\\model_selection\\_search.py:841: DeprecationWarning: The default of the `iid` parameter will change from True to False in version 0.22 and will be removed in 0.24. This will change numeric results when test-set sizes are unequal.\n",
      "  DeprecationWarning)\n"
     ]
    },
    {
     "name": "stdout",
     "output_type": "stream",
     "text": [
      "Done : 녹십자 \t-0.2668896948596898 \n",
      "\t {'colsample_bytree': 0.7, 'learning_rate': 0.03, 'max_depth': 5, 'min_child_weight': 4, 'n_estimators': 200, 'nthread': 4, 'objective': 'reg:linear', 'subsample': 0.7} \n",
      "\t11.6608 sec\n"
     ]
    },
    {
     "name": "stderr",
     "output_type": "stream",
     "text": [
      "C:\\Users\\JinMyungHun\\Anaconda3\\envs\\ds\\lib\\site-packages\\sklearn\\model_selection\\_search.py:841: DeprecationWarning: The default of the `iid` parameter will change from True to False in version 0.22 and will be removed in 0.24. This will change numeric results when test-set sizes are unequal.\n",
      "  DeprecationWarning)\n"
     ]
    },
    {
     "name": "stdout",
     "output_type": "stream",
     "text": [
      "Done : 녹십자홀딩스 \t0.037985718495714714 \n",
      "\t {'colsample_bytree': 0.7, 'learning_rate': 0.07, 'max_depth': 5, 'min_child_weight': 4, 'n_estimators': 100, 'nthread': 4, 'objective': 'reg:linear', 'subsample': 0.7} \n",
      "\t15.0976 sec\n"
     ]
    },
    {
     "name": "stderr",
     "output_type": "stream",
     "text": [
      "C:\\Users\\JinMyungHun\\Anaconda3\\envs\\ds\\lib\\site-packages\\sklearn\\model_selection\\_search.py:841: DeprecationWarning: The default of the `iid` parameter will change from True to False in version 0.22 and will be removed in 0.24. This will change numeric results when test-set sizes are unequal.\n",
      "  DeprecationWarning)\n"
     ]
    },
    {
     "name": "stdout",
     "output_type": "stream",
     "text": [
      "Done : 농심 \t0.1159095316732219 \n",
      "\t {'colsample_bytree': 0.7, 'learning_rate': 0.05, 'max_depth': 5, 'min_child_weight': 4, 'n_estimators': 100, 'nthread': 4, 'objective': 'reg:linear', 'subsample': 0.7} \n",
      "\t11.4065 sec\n"
     ]
    },
    {
     "name": "stderr",
     "output_type": "stream",
     "text": [
      "C:\\Users\\JinMyungHun\\Anaconda3\\envs\\ds\\lib\\site-packages\\sklearn\\model_selection\\_search.py:841: DeprecationWarning: The default of the `iid` parameter will change from True to False in version 0.22 and will be removed in 0.24. This will change numeric results when test-set sizes are unequal.\n",
      "  DeprecationWarning)\n"
     ]
    },
    {
     "name": "stdout",
     "output_type": "stream",
     "text": [
      "Done : 대교 \t-0.25689338086537683 \n",
      "\t {'colsample_bytree': 0.7, 'learning_rate': 0.07, 'max_depth': 5, 'min_child_weight': 4, 'n_estimators': 100, 'nthread': 4, 'objective': 'reg:linear', 'subsample': 0.7} \n",
      "\t11.6827 sec\n",
      "Done : 대덕전자 \t0.2704453666501959 \n",
      "\t {'colsample_bytree': 0.7, 'learning_rate': 0.03, 'max_depth': 5, 'min_child_weight': 4, 'n_estimators': 200, 'nthread': 4, 'objective': 'reg:linear', 'subsample': 0.7} \n",
      "\t11.1004 sec\n"
     ]
    },
    {
     "name": "stderr",
     "output_type": "stream",
     "text": [
      "C:\\Users\\JinMyungHun\\Anaconda3\\envs\\ds\\lib\\site-packages\\sklearn\\model_selection\\_search.py:841: DeprecationWarning: The default of the `iid` parameter will change from True to False in version 0.22 and will be removed in 0.24. This will change numeric results when test-set sizes are unequal.\n",
      "  DeprecationWarning)\n"
     ]
    },
    {
     "name": "stdout",
     "output_type": "stream",
     "text": [
      "Done : 대림산업 \t0.20686688393310954 \n",
      "\t {'colsample_bytree': 0.7, 'learning_rate': 0.05, 'max_depth': 5, 'min_child_weight': 4, 'n_estimators': 100, 'nthread': 4, 'objective': 'reg:linear', 'subsample': 0.7} \n",
      "\t11.6289 sec\n"
     ]
    },
    {
     "name": "stderr",
     "output_type": "stream",
     "text": [
      "C:\\Users\\JinMyungHun\\Anaconda3\\envs\\ds\\lib\\site-packages\\sklearn\\model_selection\\_search.py:841: DeprecationWarning: The default of the `iid` parameter will change from True to False in version 0.22 and will be removed in 0.24. This will change numeric results when test-set sizes are unequal.\n",
      "  DeprecationWarning)\n"
     ]
    },
    {
     "name": "stdout",
     "output_type": "stream",
     "text": [
      "Done : 대상 \t-0.011180735724510706 \n",
      "\t {'colsample_bytree': 0.7, 'learning_rate': 0.1, 'max_depth': 5, 'min_child_weight': 4, 'n_estimators': 50, 'nthread': 4, 'objective': 'reg:linear', 'subsample': 0.7} \n",
      "\t11.4524 sec\n"
     ]
    },
    {
     "name": "stderr",
     "output_type": "stream",
     "text": [
      "C:\\Users\\JinMyungHun\\Anaconda3\\envs\\ds\\lib\\site-packages\\sklearn\\model_selection\\_search.py:841: DeprecationWarning: The default of the `iid` parameter will change from True to False in version 0.22 and will be removed in 0.24. This will change numeric results when test-set sizes are unequal.\n",
      "  DeprecationWarning)\n"
     ]
    },
    {
     "name": "stdout",
     "output_type": "stream",
     "text": [
      "Done : 대우건설 \t0.23107744005822095 \n",
      "\t {'colsample_bytree': 0.7, 'learning_rate': 0.1, 'max_depth': 5, 'min_child_weight': 4, 'n_estimators': 50, 'nthread': 4, 'objective': 'reg:linear', 'subsample': 0.7} \n",
      "\t11.4703 sec\n",
      "Done : 대우조선해양 \t0.2696066393711425 \n",
      "\t {'colsample_bytree': 0.7, 'learning_rate': 0.03, 'max_depth': 5, 'min_child_weight': 4, 'n_estimators': 150, 'nthread': 4, 'objective': 'reg:linear', 'subsample': 0.7} \n",
      "\t11.4793 sec\n"
     ]
    },
    {
     "name": "stderr",
     "output_type": "stream",
     "text": [
      "C:\\Users\\JinMyungHun\\Anaconda3\\envs\\ds\\lib\\site-packages\\sklearn\\model_selection\\_search.py:841: DeprecationWarning: The default of the `iid` parameter will change from True to False in version 0.22 and will be removed in 0.24. This will change numeric results when test-set sizes are unequal.\n",
      "  DeprecationWarning)\n"
     ]
    },
    {
     "name": "stdout",
     "output_type": "stream",
     "text": [
      "Done : 대웅제약 \t0.2298393886680806 \n",
      "\t {'colsample_bytree': 0.7, 'learning_rate': 0.07, 'max_depth': 5, 'min_child_weight': 4, 'n_estimators': 100, 'nthread': 4, 'objective': 'reg:linear', 'subsample': 0.7} \n",
      "\t12.1535 sec\n"
     ]
    },
    {
     "name": "stderr",
     "output_type": "stream",
     "text": [
      "C:\\Users\\JinMyungHun\\Anaconda3\\envs\\ds\\lib\\site-packages\\sklearn\\model_selection\\_search.py:841: DeprecationWarning: The default of the `iid` parameter will change from True to False in version 0.22 and will be removed in 0.24. This will change numeric results when test-set sizes are unequal.\n",
      "  DeprecationWarning)\n"
     ]
    },
    {
     "name": "stdout",
     "output_type": "stream",
     "text": [
      "Done : 대한유화 \t-0.8650757733233385 \n",
      "\t {'colsample_bytree': 0.7, 'learning_rate': 0.07, 'max_depth': 7, 'min_child_weight': 4, 'n_estimators': 100, 'nthread': 4, 'objective': 'reg:linear', 'subsample': 0.7} \n",
      "\t11.7974 sec\n",
      "Done : 대한항공 \t0.18338495355119266 \n",
      "\t {'colsample_bytree': 0.7, 'learning_rate': 0.05, 'max_depth': 5, 'min_child_weight': 4, 'n_estimators': 100, 'nthread': 4, 'objective': 'reg:linear', 'subsample': 0.7} \n",
      "\t11.4215 sec\n"
     ]
    },
    {
     "name": "stderr",
     "output_type": "stream",
     "text": [
      "C:\\Users\\JinMyungHun\\Anaconda3\\envs\\ds\\lib\\site-packages\\sklearn\\model_selection\\_search.py:841: DeprecationWarning: The default of the `iid` parameter will change from True to False in version 0.22 and will be removed in 0.24. This will change numeric results when test-set sizes are unequal.\n",
      "  DeprecationWarning)\n"
     ]
    },
    {
     "name": "stdout",
     "output_type": "stream",
     "text": [
      "Done : 동국제강 \t0.22064575387858 \n",
      "\t {'colsample_bytree': 0.7, 'learning_rate': 0.1, 'max_depth': 5, 'min_child_weight': 4, 'n_estimators': 50, 'nthread': 4, 'objective': 'reg:linear', 'subsample': 0.7} \n",
      "\t12.0358 sec\n"
     ]
    },
    {
     "name": "stderr",
     "output_type": "stream",
     "text": [
      "C:\\Users\\JinMyungHun\\Anaconda3\\envs\\ds\\lib\\site-packages\\sklearn\\model_selection\\_search.py:841: DeprecationWarning: The default of the `iid` parameter will change from True to False in version 0.22 and will be removed in 0.24. This will change numeric results when test-set sizes are unequal.\n",
      "  DeprecationWarning)\n"
     ]
    },
    {
     "name": "stdout",
     "output_type": "stream",
     "text": [
      "Done : 동서 \t0.21662826443359393 \n",
      "\t {'colsample_bytree': 0.7, 'learning_rate': 0.1, 'max_depth': 6, 'min_child_weight': 4, 'n_estimators': 50, 'nthread': 4, 'objective': 'reg:linear', 'subsample': 0.7} \n",
      "\t12.0388 sec\n"
     ]
    },
    {
     "name": "stderr",
     "output_type": "stream",
     "text": [
      "C:\\Users\\JinMyungHun\\Anaconda3\\envs\\ds\\lib\\site-packages\\sklearn\\model_selection\\_search.py:841: DeprecationWarning: The default of the `iid` parameter will change from True to False in version 0.22 and will be removed in 0.24. This will change numeric results when test-set sizes are unequal.\n",
      "  DeprecationWarning)\n"
     ]
    },
    {
     "name": "stdout",
     "output_type": "stream",
     "text": [
      "Done : 동아쏘시오홀딩스 \t0.30203152106609205 \n",
      "\t {'colsample_bytree': 0.7, 'learning_rate': 0.07, 'max_depth': 5, 'min_child_weight': 4, 'n_estimators': 100, 'nthread': 4, 'objective': 'reg:linear', 'subsample': 0.7} \n",
      "\t11.6598 sec\n",
      "Done : 동양 \t0.0410127476934735 \n",
      "\t {'colsample_bytree': 0.7, 'learning_rate': 0.03, 'max_depth': 6, 'min_child_weight': 4, 'n_estimators': 150, 'nthread': 4, 'objective': 'reg:linear', 'subsample': 0.7} \n",
      "\t11.7177 sec\n",
      "Done : 동원F&B \t0.32795917457607854 \n",
      "\t {'colsample_bytree': 0.7, 'learning_rate': 0.1, 'max_depth': 6, 'min_child_weight': 4, 'n_estimators': 50, 'nthread': 4, 'objective': 'reg:linear', 'subsample': 0.7} \n",
      "\t11.7735 sec\n",
      "Done : 동원시스템즈 \t-0.12407863528566 \n",
      "\t {'colsample_bytree': 0.7, 'learning_rate': 0.1, 'max_depth': 5, 'min_child_weight': 4, 'n_estimators': 50, 'nthread': 4, 'objective': 'reg:linear', 'subsample': 0.7} \n",
      "\t11.5222 sec\n"
     ]
    },
    {
     "name": "stderr",
     "output_type": "stream",
     "text": [
      "C:\\Users\\JinMyungHun\\Anaconda3\\envs\\ds\\lib\\site-packages\\sklearn\\model_selection\\_search.py:841: DeprecationWarning: The default of the `iid` parameter will change from True to False in version 0.22 and will be removed in 0.24. This will change numeric results when test-set sizes are unequal.\n",
      "  DeprecationWarning)\n"
     ]
    },
    {
     "name": "stdout",
     "output_type": "stream",
     "text": [
      "Done : 두산 \t0.0038168126362297643 \n",
      "\t {'colsample_bytree': 0.7, 'learning_rate': 0.07, 'max_depth': 5, 'min_child_weight': 4, 'n_estimators': 50, 'nthread': 4, 'objective': 'reg:linear', 'subsample': 0.7} \n",
      "\t11.7306 sec\n"
     ]
    },
    {
     "name": "stderr",
     "output_type": "stream",
     "text": [
      "C:\\Users\\JinMyungHun\\Anaconda3\\envs\\ds\\lib\\site-packages\\sklearn\\model_selection\\_search.py:841: DeprecationWarning: The default of the `iid` parameter will change from True to False in version 0.22 and will be removed in 0.24. This will change numeric results when test-set sizes are unequal.\n",
      "  DeprecationWarning)\n"
     ]
    },
    {
     "name": "stdout",
     "output_type": "stream",
     "text": [
      "Done : 두산인프라코어 \t0.2107241881436253 \n",
      "\t {'colsample_bytree': 0.7, 'learning_rate': 0.1, 'max_depth': 5, 'min_child_weight': 4, 'n_estimators': 50, 'nthread': 4, 'objective': 'reg:linear', 'subsample': 0.7} \n",
      "\t11.8423 sec\n"
     ]
    },
    {
     "name": "stderr",
     "output_type": "stream",
     "text": [
      "C:\\Users\\JinMyungHun\\Anaconda3\\envs\\ds\\lib\\site-packages\\sklearn\\model_selection\\_search.py:841: DeprecationWarning: The default of the `iid` parameter will change from True to False in version 0.22 and will be removed in 0.24. This will change numeric results when test-set sizes are unequal.\n",
      "  DeprecationWarning)\n"
     ]
    },
    {
     "name": "stdout",
     "output_type": "stream",
     "text": [
      "Done : 두산중공업 \t0.2456974083436699 \n",
      "\t {'colsample_bytree': 0.7, 'learning_rate': 0.05, 'max_depth': 5, 'min_child_weight': 4, 'n_estimators': 100, 'nthread': 4, 'objective': 'reg:linear', 'subsample': 0.7} \n",
      "\t11.3397 sec\n"
     ]
    },
    {
     "name": "stderr",
     "output_type": "stream",
     "text": [
      "C:\\Users\\JinMyungHun\\Anaconda3\\envs\\ds\\lib\\site-packages\\sklearn\\model_selection\\_search.py:841: DeprecationWarning: The default of the `iid` parameter will change from True to False in version 0.22 and will be removed in 0.24. This will change numeric results when test-set sizes are unequal.\n",
      "  DeprecationWarning)\n"
     ]
    },
    {
     "name": "stdout",
     "output_type": "stream",
     "text": [
      "Done : 락앤락 \t0.2075170585325463 \n",
      "\t {'colsample_bytree': 0.7, 'learning_rate': 0.03, 'max_depth': 5, 'min_child_weight': 4, 'n_estimators': 150, 'nthread': 4, 'objective': 'reg:linear', 'subsample': 0.7} \n",
      "\t10.8869 sec\n",
      "Done : 롯데쇼핑 \t0.26688990620215125 \n",
      "\t {'colsample_bytree': 0.7, 'learning_rate': 0.03, 'max_depth': 5, 'min_child_weight': 4, 'n_estimators': 150, 'nthread': 4, 'objective': 'reg:linear', 'subsample': 0.7} \n",
      "\t10.5009 sec\n"
     ]
    },
    {
     "name": "stderr",
     "output_type": "stream",
     "text": [
      "C:\\Users\\JinMyungHun\\Anaconda3\\envs\\ds\\lib\\site-packages\\sklearn\\model_selection\\_search.py:841: DeprecationWarning: The default of the `iid` parameter will change from True to False in version 0.22 and will be removed in 0.24. This will change numeric results when test-set sizes are unequal.\n",
      "  DeprecationWarning)\n"
     ]
    },
    {
     "name": "stdout",
     "output_type": "stream",
     "text": [
      "Done : 롯데정밀화학 \t0.26665824882490036 \n",
      "\t {'colsample_bytree': 0.7, 'learning_rate': 0.03, 'max_depth': 5, 'min_child_weight': 4, 'n_estimators': 200, 'nthread': 4, 'objective': 'reg:linear', 'subsample': 0.7} \n",
      "\t10.6864 sec\n",
      "Done : 롯데지주 \t0.1917910684972449 \n",
      "\t {'colsample_bytree': 0.7, 'learning_rate': 0.05, 'max_depth': 5, 'min_child_weight': 4, 'n_estimators': 100, 'nthread': 4, 'objective': 'reg:linear', 'subsample': 0.7} \n",
      "\t10.2037 sec\n",
      "Done : 롯데칠성 \t0.3909324196925717 \n",
      "\t {'colsample_bytree': 0.7, 'learning_rate': 0.03, 'max_depth': 6, 'min_child_weight': 4, 'n_estimators': 200, 'nthread': 4, 'objective': 'reg:linear', 'subsample': 0.7} \n",
      "\t10.5608 sec\n"
     ]
    },
    {
     "name": "stderr",
     "output_type": "stream",
     "text": [
      "C:\\Users\\JinMyungHun\\Anaconda3\\envs\\ds\\lib\\site-packages\\sklearn\\model_selection\\_search.py:841: DeprecationWarning: The default of the `iid` parameter will change from True to False in version 0.22 and will be removed in 0.24. This will change numeric results when test-set sizes are unequal.\n",
      "  DeprecationWarning)\n"
     ]
    },
    {
     "name": "stdout",
     "output_type": "stream",
     "text": [
      "Done : 롯데케미칼 \t-0.17386694243307496 \n",
      "\t {'colsample_bytree': 0.7, 'learning_rate': 0.03, 'max_depth': 5, 'min_child_weight': 4, 'n_estimators': 200, 'nthread': 4, 'objective': 'reg:linear', 'subsample': 0.7} \n",
      "\t10.8659 sec\n",
      "Done : 롯데푸드 \t0.3563255254293407 \n",
      "\t {'colsample_bytree': 0.7, 'learning_rate': 0.1, 'max_depth': 5, 'min_child_weight': 4, 'n_estimators': 50, 'nthread': 4, 'objective': 'reg:linear', 'subsample': 0.7} \n",
      "\t10.4301 sec\n"
     ]
    },
    {
     "name": "stderr",
     "output_type": "stream",
     "text": [
      "C:\\Users\\JinMyungHun\\Anaconda3\\envs\\ds\\lib\\site-packages\\sklearn\\model_selection\\_search.py:841: DeprecationWarning: The default of the `iid` parameter will change from True to False in version 0.22 and will be removed in 0.24. This will change numeric results when test-set sizes are unequal.\n",
      "  DeprecationWarning)\n"
     ]
    },
    {
     "name": "stdout",
     "output_type": "stream",
     "text": [
      "Done : 롯데하이마트 \t0.19943357707463247 \n",
      "\t {'colsample_bytree': 0.7, 'learning_rate': 0.05, 'max_depth': 5, 'min_child_weight': 4, 'n_estimators': 150, 'nthread': 4, 'objective': 'reg:linear', 'subsample': 0.7} \n",
      "\t14.5561 sec\n"
     ]
    },
    {
     "name": "stderr",
     "output_type": "stream",
     "text": [
      "C:\\Users\\JinMyungHun\\Anaconda3\\envs\\ds\\lib\\site-packages\\sklearn\\model_selection\\_search.py:841: DeprecationWarning: The default of the `iid` parameter will change from True to False in version 0.22 and will be removed in 0.24. This will change numeric results when test-set sizes are unequal.\n",
      "  DeprecationWarning)\n"
     ]
    },
    {
     "name": "stdout",
     "output_type": "stream",
     "text": [
      "Done : 메리츠종금증권 \t-0.27706742992622224 \n",
      "\t {'colsample_bytree': 0.7, 'learning_rate': 0.07, 'max_depth': 5, 'min_child_weight': 4, 'n_estimators': 100, 'nthread': 4, 'objective': 'reg:linear', 'subsample': 0.7} \n",
      "\t11.0485 sec\n"
     ]
    },
    {
     "name": "stderr",
     "output_type": "stream",
     "text": [
      "C:\\Users\\JinMyungHun\\Anaconda3\\envs\\ds\\lib\\site-packages\\sklearn\\model_selection\\_search.py:841: DeprecationWarning: The default of the `iid` parameter will change from True to False in version 0.22 and will be removed in 0.24. This will change numeric results when test-set sizes are unequal.\n",
      "  DeprecationWarning)\n"
     ]
    },
    {
     "name": "stdout",
     "output_type": "stream",
     "text": [
      "Done : 무학 \t0.294360389093403 \n",
      "\t {'colsample_bytree': 0.7, 'learning_rate': 0.05, 'max_depth': 5, 'min_child_weight': 4, 'n_estimators': 150, 'nthread': 4, 'objective': 'reg:linear', 'subsample': 0.7} \n",
      "\t10.7792 sec\n"
     ]
    },
    {
     "name": "stderr",
     "output_type": "stream",
     "text": [
      "C:\\Users\\JinMyungHun\\Anaconda3\\envs\\ds\\lib\\site-packages\\sklearn\\model_selection\\_search.py:841: DeprecationWarning: The default of the `iid` parameter will change from True to False in version 0.22 and will be removed in 0.24. This will change numeric results when test-set sizes are unequal.\n",
      "  DeprecationWarning)\n"
     ]
    },
    {
     "name": "stdout",
     "output_type": "stream",
     "text": [
      "Done : 미래에셋대우 \t0.0902696923212631 \n",
      "\t {'colsample_bytree': 0.7, 'learning_rate': 0.05, 'max_depth': 5, 'min_child_weight': 4, 'n_estimators': 100, 'nthread': 4, 'objective': 'reg:linear', 'subsample': 0.7} \n",
      "\t10.4750 sec\n",
      "Done : 보령제약 \t0.1679671876577844 \n",
      "\t {'colsample_bytree': 0.7, 'learning_rate': 0.03, 'max_depth': 5, 'min_child_weight': 4, 'n_estimators': 200, 'nthread': 4, 'objective': 'reg:linear', 'subsample': 0.7} \n",
      "\t10.8041 sec\n"
     ]
    },
    {
     "name": "stderr",
     "output_type": "stream",
     "text": [
      "C:\\Users\\JinMyungHun\\Anaconda3\\envs\\ds\\lib\\site-packages\\sklearn\\model_selection\\_search.py:841: DeprecationWarning: The default of the `iid` parameter will change from True to False in version 0.22 and will be removed in 0.24. This will change numeric results when test-set sizes are unequal.\n",
      "  DeprecationWarning)\n"
     ]
    },
    {
     "name": "stdout",
     "output_type": "stream",
     "text": [
      "Done : 부광약품 \t0.06776487192580181 \n",
      "\t {'colsample_bytree': 0.7, 'learning_rate': 0.1, 'max_depth': 5, 'min_child_weight': 4, 'n_estimators': 100, 'nthread': 4, 'objective': 'reg:linear', 'subsample': 0.7} \n",
      "\t10.4092 sec\n"
     ]
    },
    {
     "name": "stderr",
     "output_type": "stream",
     "text": [
      "C:\\Users\\JinMyungHun\\Anaconda3\\envs\\ds\\lib\\site-packages\\sklearn\\model_selection\\_search.py:841: DeprecationWarning: The default of the `iid` parameter will change from True to False in version 0.22 and will be removed in 0.24. This will change numeric results when test-set sizes are unequal.\n",
      "  DeprecationWarning)\n"
     ]
    },
    {
     "name": "stdout",
     "output_type": "stream",
     "text": [
      "Done : 빙그레 \t0.2109811947529455 \n",
      "\t {'colsample_bytree': 0.7, 'learning_rate': 0.1, 'max_depth': 5, 'min_child_weight': 4, 'n_estimators': 50, 'nthread': 4, 'objective': 'reg:linear', 'subsample': 0.7} \n",
      "\t10.6884 sec\n"
     ]
    },
    {
     "name": "stderr",
     "output_type": "stream",
     "text": [
      "C:\\Users\\JinMyungHun\\Anaconda3\\envs\\ds\\lib\\site-packages\\sklearn\\model_selection\\_search.py:841: DeprecationWarning: The default of the `iid` parameter will change from True to False in version 0.22 and will be removed in 0.24. This will change numeric results when test-set sizes are unequal.\n",
      "  DeprecationWarning)\n"
     ]
    },
    {
     "name": "stdout",
     "output_type": "stream",
     "text": [
      "Done : 삼성SDI \t0.07245396465051734 \n",
      "\t {'colsample_bytree': 0.7, 'learning_rate': 0.03, 'max_depth': 5, 'min_child_weight': 4, 'n_estimators': 200, 'nthread': 4, 'objective': 'reg:linear', 'subsample': 0.7} \n",
      "\t11.7556 sec\n"
     ]
    },
    {
     "name": "stderr",
     "output_type": "stream",
     "text": [
      "C:\\Users\\JinMyungHun\\Anaconda3\\envs\\ds\\lib\\site-packages\\sklearn\\model_selection\\_search.py:841: DeprecationWarning: The default of the `iid` parameter will change from True to False in version 0.22 and will be removed in 0.24. This will change numeric results when test-set sizes are unequal.\n",
      "  DeprecationWarning)\n"
     ]
    },
    {
     "name": "stdout",
     "output_type": "stream",
     "text": [
      "Done : 삼성생명 \t0.02664604654407441 \n",
      "\t {'colsample_bytree': 0.7, 'learning_rate': 0.05, 'max_depth': 6, 'min_child_weight': 4, 'n_estimators': 150, 'nthread': 4, 'objective': 'reg:linear', 'subsample': 0.7} \n",
      "\t10.4421 sec\n"
     ]
    },
    {
     "name": "stderr",
     "output_type": "stream",
     "text": [
      "C:\\Users\\JinMyungHun\\Anaconda3\\envs\\ds\\lib\\site-packages\\sklearn\\model_selection\\_search.py:841: DeprecationWarning: The default of the `iid` parameter will change from True to False in version 0.22 and will be removed in 0.24. This will change numeric results when test-set sizes are unequal.\n",
      "  DeprecationWarning)\n"
     ]
    },
    {
     "name": "stdout",
     "output_type": "stream",
     "text": [
      "Done : 삼성엔지니어링 \t-0.008192832698285104 \n",
      "\t {'colsample_bytree': 0.7, 'learning_rate': 0.03, 'max_depth': 6, 'min_child_weight': 4, 'n_estimators': 200, 'nthread': 4, 'objective': 'reg:linear', 'subsample': 0.7} \n",
      "\t11.2479 sec\n"
     ]
    },
    {
     "name": "stderr",
     "output_type": "stream",
     "text": [
      "C:\\Users\\JinMyungHun\\Anaconda3\\envs\\ds\\lib\\site-packages\\sklearn\\model_selection\\_search.py:841: DeprecationWarning: The default of the `iid` parameter will change from True to False in version 0.22 and will be removed in 0.24. This will change numeric results when test-set sizes are unequal.\n",
      "  DeprecationWarning)\n"
     ]
    },
    {
     "name": "stdout",
     "output_type": "stream",
     "text": [
      "Done : 삼성전기 \t0.3002042112519338 \n",
      "\t {'colsample_bytree': 0.7, 'learning_rate': 0.03, 'max_depth': 5, 'min_child_weight': 4, 'n_estimators': 200, 'nthread': 4, 'objective': 'reg:linear', 'subsample': 0.7} \n",
      "\t10.9557 sec\n",
      "Done : 삼성전자 \t0.15716148784255035 \n",
      "\t {'colsample_bytree': 0.7, 'learning_rate': 0.05, 'max_depth': 5, 'min_child_weight': 4, 'n_estimators': 100, 'nthread': 4, 'objective': 'reg:linear', 'subsample': 0.7} \n",
      "\t12.1256 sec\n"
     ]
    },
    {
     "name": "stderr",
     "output_type": "stream",
     "text": [
      "C:\\Users\\JinMyungHun\\Anaconda3\\envs\\ds\\lib\\site-packages\\sklearn\\model_selection\\_search.py:841: DeprecationWarning: The default of the `iid` parameter will change from True to False in version 0.22 and will be removed in 0.24. This will change numeric results when test-set sizes are unequal.\n",
      "  DeprecationWarning)\n"
     ]
    },
    {
     "name": "stdout",
     "output_type": "stream",
     "text": [
      "Done : 삼성중공업 \t0.1817015586390222 \n",
      "\t {'colsample_bytree': 0.7, 'learning_rate': 0.05, 'max_depth': 5, 'min_child_weight': 4, 'n_estimators': 150, 'nthread': 4, 'objective': 'reg:linear', 'subsample': 0.7} \n",
      "\t11.1891 sec\n"
     ]
    },
    {
     "name": "stderr",
     "output_type": "stream",
     "text": [
      "C:\\Users\\JinMyungHun\\Anaconda3\\envs\\ds\\lib\\site-packages\\sklearn\\model_selection\\_search.py:841: DeprecationWarning: The default of the `iid` parameter will change from True to False in version 0.22 and will be removed in 0.24. This will change numeric results when test-set sizes are unequal.\n",
      "  DeprecationWarning)\n"
     ]
    },
    {
     "name": "stdout",
     "output_type": "stream",
     "text": [
      "Done : 삼성증권 \t-0.16743326164990574 \n",
      "\t {'colsample_bytree': 0.7, 'learning_rate': 0.1, 'max_depth': 5, 'min_child_weight': 4, 'n_estimators': 50, 'nthread': 4, 'objective': 'reg:linear', 'subsample': 0.7} \n",
      "\t9.9494 sec\n",
      "Done : 삼성카드 \t0.26523870601512467 \n",
      "\t {'colsample_bytree': 0.7, 'learning_rate': 0.03, 'max_depth': 5, 'min_child_weight': 4, 'n_estimators': 200, 'nthread': 4, 'objective': 'reg:linear', 'subsample': 0.7} \n",
      "\t10.7054 sec\n"
     ]
    },
    {
     "name": "stderr",
     "output_type": "stream",
     "text": [
      "C:\\Users\\JinMyungHun\\Anaconda3\\envs\\ds\\lib\\site-packages\\sklearn\\model_selection\\_search.py:841: DeprecationWarning: The default of the `iid` parameter will change from True to False in version 0.22 and will be removed in 0.24. This will change numeric results when test-set sizes are unequal.\n",
      "  DeprecationWarning)\n"
     ]
    },
    {
     "name": "stdout",
     "output_type": "stream",
     "text": [
      "Done : 삼성화재 \t0.03823396853609952 \n",
      "\t {'colsample_bytree': 0.7, 'learning_rate': 0.05, 'max_depth': 5, 'min_child_weight': 4, 'n_estimators': 100, 'nthread': 4, 'objective': 'reg:linear', 'subsample': 0.7} \n",
      "\t10.3703 sec\n"
     ]
    },
    {
     "name": "stderr",
     "output_type": "stream",
     "text": [
      "C:\\Users\\JinMyungHun\\Anaconda3\\envs\\ds\\lib\\site-packages\\sklearn\\model_selection\\_search.py:841: DeprecationWarning: The default of the `iid` parameter will change from True to False in version 0.22 and will be removed in 0.24. This will change numeric results when test-set sizes are unequal.\n",
      "  DeprecationWarning)\n"
     ]
    },
    {
     "name": "stdout",
     "output_type": "stream",
     "text": [
      "Done : 삼양사 \t-0.7047816893633642 \n",
      "\t {'colsample_bytree': 0.7, 'learning_rate': 0.03, 'max_depth': 5, 'min_child_weight': 4, 'n_estimators': 200, 'nthread': 4, 'objective': 'reg:linear', 'subsample': 0.7} \n",
      "\t10.7074 sec\n"
     ]
    },
    {
     "name": "stderr",
     "output_type": "stream",
     "text": [
      "C:\\Users\\JinMyungHun\\Anaconda3\\envs\\ds\\lib\\site-packages\\sklearn\\model_selection\\_search.py:841: DeprecationWarning: The default of the `iid` parameter will change from True to False in version 0.22 and will be removed in 0.24. This will change numeric results when test-set sizes are unequal.\n",
      "  DeprecationWarning)\n"
     ]
    },
    {
     "name": "stdout",
     "output_type": "stream",
     "text": [
      "Done : 삼양홀딩스 \t-0.5310764069953597 \n",
      "\t {'colsample_bytree': 0.7, 'learning_rate': 0.07, 'max_depth': 5, 'min_child_weight': 4, 'n_estimators': 200, 'nthread': 4, 'objective': 'reg:linear', 'subsample': 0.7} \n",
      "\t10.9766 sec\n"
     ]
    },
    {
     "name": "stderr",
     "output_type": "stream",
     "text": [
      "C:\\Users\\JinMyungHun\\Anaconda3\\envs\\ds\\lib\\site-packages\\sklearn\\model_selection\\_search.py:841: DeprecationWarning: The default of the `iid` parameter will change from True to False in version 0.22 and will be removed in 0.24. This will change numeric results when test-set sizes are unequal.\n",
      "  DeprecationWarning)\n"
     ]
    },
    {
     "name": "stdout",
     "output_type": "stream",
     "text": [
      "Done : 세방전지 \t0.16262124319938345 \n",
      "\t {'colsample_bytree': 0.7, 'learning_rate': 0.1, 'max_depth': 6, 'min_child_weight': 4, 'n_estimators': 50, 'nthread': 4, 'objective': 'reg:linear', 'subsample': 0.7} \n",
      "\t10.0970 sec\n",
      "Done : 세아베스틸 \t0.19538039940707075 \n",
      "\t {'colsample_bytree': 0.7, 'learning_rate': 0.05, 'max_depth': 5, 'min_child_weight': 4, 'n_estimators': 150, 'nthread': 4, 'objective': 'reg:linear', 'subsample': 0.7} \n",
      "\t10.5767 sec\n"
     ]
    },
    {
     "name": "stderr",
     "output_type": "stream",
     "text": [
      "C:\\Users\\JinMyungHun\\Anaconda3\\envs\\ds\\lib\\site-packages\\sklearn\\model_selection\\_search.py:841: DeprecationWarning: The default of the `iid` parameter will change from True to False in version 0.22 and will be removed in 0.24. This will change numeric results when test-set sizes are unequal.\n",
      "  DeprecationWarning)\n"
     ]
    },
    {
     "name": "stdout",
     "output_type": "stream",
     "text": [
      "Done : 세아제강 \t0.2704964124135833 \n",
      "\t {'colsample_bytree': 0.7, 'learning_rate': 0.1, 'max_depth': 6, 'min_child_weight': 4, 'n_estimators': 50, 'nthread': 4, 'objective': 'reg:linear', 'subsample': 0.7} \n",
      "\t11.2330 sec\n",
      "Done : 셀트리온 \t-0.10445954316300854 \n",
      "\t {'colsample_bytree': 0.7, 'learning_rate': 0.1, 'max_depth': 6, 'min_child_weight': 4, 'n_estimators': 100, 'nthread': 4, 'objective': 'reg:linear', 'subsample': 0.7} \n",
      "\t10.5618 sec\n"
     ]
    },
    {
     "name": "stderr",
     "output_type": "stream",
     "text": [
      "C:\\Users\\JinMyungHun\\Anaconda3\\envs\\ds\\lib\\site-packages\\sklearn\\model_selection\\_search.py:841: DeprecationWarning: The default of the `iid` parameter will change from True to False in version 0.22 and will be removed in 0.24. This will change numeric results when test-set sizes are unequal.\n",
      "  DeprecationWarning)\n"
     ]
    },
    {
     "name": "stdout",
     "output_type": "stream",
     "text": [
      "Done : 신세계 \t-0.2507255392098407 \n",
      "\t {'colsample_bytree': 0.7, 'learning_rate': 0.1, 'max_depth': 5, 'min_child_weight': 4, 'n_estimators': 50, 'nthread': 4, 'objective': 'reg:linear', 'subsample': 0.7} \n",
      "\t10.5528 sec\n"
     ]
    },
    {
     "name": "stderr",
     "output_type": "stream",
     "text": [
      "C:\\Users\\JinMyungHun\\Anaconda3\\envs\\ds\\lib\\site-packages\\sklearn\\model_selection\\_search.py:841: DeprecationWarning: The default of the `iid` parameter will change from True to False in version 0.22 and will be removed in 0.24. This will change numeric results when test-set sizes are unequal.\n",
      "  DeprecationWarning)\n"
     ]
    },
    {
     "name": "stdout",
     "output_type": "stream",
     "text": [
      "Done : 신한지주 \t0.19234907495765188 \n",
      "\t {'colsample_bytree': 0.7, 'learning_rate': 0.03, 'max_depth': 5, 'min_child_weight': 4, 'n_estimators': 200, 'nthread': 4, 'objective': 'reg:linear', 'subsample': 0.7} \n",
      "\t10.6126 sec\n",
      "Done : 쌍용양회 \t-1.2874888358138379 \n",
      "\t {'colsample_bytree': 0.7, 'learning_rate': 0.07, 'max_depth': 5, 'min_child_weight': 4, 'n_estimators': 50, 'nthread': 4, 'objective': 'reg:linear', 'subsample': 0.7} \n",
      "\t10.7383 sec\n"
     ]
    },
    {
     "name": "stderr",
     "output_type": "stream",
     "text": [
      "C:\\Users\\JinMyungHun\\Anaconda3\\envs\\ds\\lib\\site-packages\\sklearn\\model_selection\\_search.py:841: DeprecationWarning: The default of the `iid` parameter will change from True to False in version 0.22 and will be removed in 0.24. This will change numeric results when test-set sizes are unequal.\n",
      "  DeprecationWarning)\n"
     ]
    },
    {
     "name": "stdout",
     "output_type": "stream",
     "text": [
      "Done : 쌍용차 \t0.20315355606788313 \n",
      "\t {'colsample_bytree': 0.7, 'learning_rate': 0.03, 'max_depth': 5, 'min_child_weight': 4, 'n_estimators': 200, 'nthread': 4, 'objective': 'reg:linear', 'subsample': 0.7} \n",
      "\t10.3204 sec\n"
     ]
    },
    {
     "name": "stderr",
     "output_type": "stream",
     "text": [
      "C:\\Users\\JinMyungHun\\Anaconda3\\envs\\ds\\lib\\site-packages\\sklearn\\model_selection\\_search.py:841: DeprecationWarning: The default of the `iid` parameter will change from True to False in version 0.22 and will be removed in 0.24. This will change numeric results when test-set sizes are unequal.\n",
      "  DeprecationWarning)\n"
     ]
    },
    {
     "name": "stdout",
     "output_type": "stream",
     "text": [
      "Done : 아모레G \t0.2891363697359273 \n",
      "\t {'colsample_bytree': 0.7, 'learning_rate': 0.1, 'max_depth': 5, 'min_child_weight': 4, 'n_estimators': 50, 'nthread': 4, 'objective': 'reg:linear', 'subsample': 0.7} \n",
      "\t11.5052 sec\n"
     ]
    },
    {
     "name": "stderr",
     "output_type": "stream",
     "text": [
      "C:\\Users\\JinMyungHun\\Anaconda3\\envs\\ds\\lib\\site-packages\\sklearn\\model_selection\\_search.py:841: DeprecationWarning: The default of the `iid` parameter will change from True to False in version 0.22 and will be removed in 0.24. This will change numeric results when test-set sizes are unequal.\n",
      "  DeprecationWarning)\n"
     ]
    },
    {
     "name": "stdout",
     "output_type": "stream",
     "text": [
      "Done : 아모레퍼시픽 \t0.10359266943970459 \n",
      "\t {'colsample_bytree': 0.7, 'learning_rate': 0.1, 'max_depth': 5, 'min_child_weight': 4, 'n_estimators': 50, 'nthread': 4, 'objective': 'reg:linear', 'subsample': 0.7} \n",
      "\t11.6887 sec\n"
     ]
    },
    {
     "name": "stderr",
     "output_type": "stream",
     "text": [
      "C:\\Users\\JinMyungHun\\Anaconda3\\envs\\ds\\lib\\site-packages\\sklearn\\model_selection\\_search.py:841: DeprecationWarning: The default of the `iid` parameter will change from True to False in version 0.22 and will be removed in 0.24. This will change numeric results when test-set sizes are unequal.\n",
      "  DeprecationWarning)\n"
     ]
    },
    {
     "name": "stdout",
     "output_type": "stream",
     "text": [
      "Done : 아이에스동서 \t0.1765153866746495 \n",
      "\t {'colsample_bytree': 0.7, 'learning_rate': 0.1, 'max_depth': 5, 'min_child_weight': 4, 'n_estimators': 200, 'nthread': 4, 'objective': 'reg:linear', 'subsample': 0.7} \n",
      "\t12.0877 sec\n"
     ]
    },
    {
     "name": "stderr",
     "output_type": "stream",
     "text": [
      "C:\\Users\\JinMyungHun\\Anaconda3\\envs\\ds\\lib\\site-packages\\sklearn\\model_selection\\_search.py:841: DeprecationWarning: The default of the `iid` parameter will change from True to False in version 0.22 and will be removed in 0.24. This will change numeric results when test-set sizes are unequal.\n",
      "  DeprecationWarning)\n"
     ]
    },
    {
     "name": "stdout",
     "output_type": "stream",
     "text": [
      "Done : 에스엘 \t0.14176427740476227 \n",
      "\t {'colsample_bytree': 0.7, 'learning_rate': 0.05, 'max_depth': 5, 'min_child_weight': 4, 'n_estimators': 100, 'nthread': 4, 'objective': 'reg:linear', 'subsample': 0.7} \n",
      "\t14.1242 sec\n"
     ]
    },
    {
     "name": "stderr",
     "output_type": "stream",
     "text": [
      "C:\\Users\\JinMyungHun\\Anaconda3\\envs\\ds\\lib\\site-packages\\sklearn\\model_selection\\_search.py:841: DeprecationWarning: The default of the `iid` parameter will change from True to False in version 0.22 and will be removed in 0.24. This will change numeric results when test-set sizes are unequal.\n",
      "  DeprecationWarning)\n"
     ]
    },
    {
     "name": "stdout",
     "output_type": "stream",
     "text": [
      "Done : 에스원 \t0.15291993374381135 \n",
      "\t {'colsample_bytree': 0.7, 'learning_rate': 0.07, 'max_depth': 5, 'min_child_weight': 4, 'n_estimators': 100, 'nthread': 4, 'objective': 'reg:linear', 'subsample': 0.7} \n",
      "\t10.4042 sec\n"
     ]
    },
    {
     "name": "stderr",
     "output_type": "stream",
     "text": [
      "C:\\Users\\JinMyungHun\\Anaconda3\\envs\\ds\\lib\\site-packages\\sklearn\\model_selection\\_search.py:841: DeprecationWarning: The default of the `iid` parameter will change from True to False in version 0.22 and will be removed in 0.24. This will change numeric results when test-set sizes are unequal.\n",
      "  DeprecationWarning)\n"
     ]
    },
    {
     "name": "stdout",
     "output_type": "stream",
     "text": [
      "Done : 엔씨소프트 \t-0.18429080120844737 \n",
      "\t {'colsample_bytree': 0.7, 'learning_rate': 0.07, 'max_depth': 6, 'min_child_weight': 4, 'n_estimators': 100, 'nthread': 4, 'objective': 'reg:linear', 'subsample': 0.7} \n",
      "\t10.7592 sec\n",
      "Done : 영원무역 \t0.3218314785553605 \n",
      "\t {'colsample_bytree': 0.7, 'learning_rate': 0.1, 'max_depth': 5, 'min_child_weight': 4, 'n_estimators': 50, 'nthread': 4, 'objective': 'reg:linear', 'subsample': 0.7} \n",
      "\t10.6465 sec\n"
     ]
    },
    {
     "name": "stderr",
     "output_type": "stream",
     "text": [
      "C:\\Users\\JinMyungHun\\Anaconda3\\envs\\ds\\lib\\site-packages\\sklearn\\model_selection\\_search.py:841: DeprecationWarning: The default of the `iid` parameter will change from True to False in version 0.22 and will be removed in 0.24. This will change numeric results when test-set sizes are unequal.\n",
      "  DeprecationWarning)\n"
     ]
    },
    {
     "name": "stdout",
     "output_type": "stream",
     "text": [
      "Done : 영진약품 \t0.05271385884166796 \n",
      "\t {'colsample_bytree': 0.7, 'learning_rate': 0.03, 'max_depth': 5, 'min_child_weight': 4, 'n_estimators': 200, 'nthread': 4, 'objective': 'reg:linear', 'subsample': 0.7} \n",
      "\t12.8845 sec\n"
     ]
    },
    {
     "name": "stderr",
     "output_type": "stream",
     "text": [
      "C:\\Users\\JinMyungHun\\Anaconda3\\envs\\ds\\lib\\site-packages\\sklearn\\model_selection\\_search.py:841: DeprecationWarning: The default of the `iid` parameter will change from True to False in version 0.22 and will be removed in 0.24. This will change numeric results when test-set sizes are unequal.\n",
      "  DeprecationWarning)\n"
     ]
    },
    {
     "name": "stdout",
     "output_type": "stream",
     "text": [
      "Done : 영풍 \t0.22692076531119754 \n",
      "\t {'colsample_bytree': 0.7, 'learning_rate': 0.05, 'max_depth': 5, 'min_child_weight': 4, 'n_estimators': 150, 'nthread': 4, 'objective': 'reg:linear', 'subsample': 0.7} \n",
      "\t11.9820 sec\n"
     ]
    },
    {
     "name": "stderr",
     "output_type": "stream",
     "text": [
      "C:\\Users\\JinMyungHun\\Anaconda3\\envs\\ds\\lib\\site-packages\\sklearn\\model_selection\\_search.py:841: DeprecationWarning: The default of the `iid` parameter will change from True to False in version 0.22 and will be removed in 0.24. This will change numeric results when test-set sizes are unequal.\n",
      "  DeprecationWarning)\n"
     ]
    },
    {
     "name": "stdout",
     "output_type": "stream",
     "text": [
      "Done : 오뚜기 \t-0.14642537706235892 \n",
      "\t {'colsample_bytree': 0.7, 'learning_rate': 0.03, 'max_depth': 5, 'min_child_weight': 4, 'n_estimators': 150, 'nthread': 4, 'objective': 'reg:linear', 'subsample': 0.7} \n",
      "\t10.8849 sec\n"
     ]
    },
    {
     "name": "stderr",
     "output_type": "stream",
     "text": [
      "C:\\Users\\JinMyungHun\\Anaconda3\\envs\\ds\\lib\\site-packages\\sklearn\\model_selection\\_search.py:841: DeprecationWarning: The default of the `iid` parameter will change from True to False in version 0.22 and will be removed in 0.24. This will change numeric results when test-set sizes are unequal.\n",
      "  DeprecationWarning)\n"
     ]
    },
    {
     "name": "stdout",
     "output_type": "stream",
     "text": [
      "Done : 오리온홀딩스 \t0.18883533135080882 \n",
      "\t {'colsample_bytree': 0.7, 'learning_rate': 0.03, 'max_depth': 5, 'min_child_weight': 4, 'n_estimators': 200, 'nthread': 4, 'objective': 'reg:linear', 'subsample': 0.7} \n",
      "\t10.5498 sec\n",
      "Done : 우리은행 \t-0.031827908488668843 \n",
      "\t {'colsample_bytree': 0.7, 'learning_rate': 0.03, 'max_depth': 5, 'min_child_weight': 4, 'n_estimators': 150, 'nthread': 4, 'objective': 'reg:linear', 'subsample': 0.7} \n",
      "\t10.1319 sec\n"
     ]
    },
    {
     "name": "stderr",
     "output_type": "stream",
     "text": [
      "C:\\Users\\JinMyungHun\\Anaconda3\\envs\\ds\\lib\\site-packages\\sklearn\\model_selection\\_search.py:841: DeprecationWarning: The default of the `iid` parameter will change from True to False in version 0.22 and will be removed in 0.24. This will change numeric results when test-set sizes are unequal.\n",
      "  DeprecationWarning)\n"
     ]
    },
    {
     "name": "stdout",
     "output_type": "stream",
     "text": [
      "Done : 유니드 \t0.03328299150231346 \n",
      "\t {'colsample_bytree': 0.7, 'learning_rate': 0.03, 'max_depth': 5, 'min_child_weight': 4, 'n_estimators': 200, 'nthread': 4, 'objective': 'reg:linear', 'subsample': 0.7} \n",
      "\t11.3975 sec\n"
     ]
    },
    {
     "name": "stderr",
     "output_type": "stream",
     "text": [
      "C:\\Users\\JinMyungHun\\Anaconda3\\envs\\ds\\lib\\site-packages\\sklearn\\model_selection\\_search.py:841: DeprecationWarning: The default of the `iid` parameter will change from True to False in version 0.22 and will be removed in 0.24. This will change numeric results when test-set sizes are unequal.\n",
      "  DeprecationWarning)\n"
     ]
    },
    {
     "name": "stdout",
     "output_type": "stream",
     "text": [
      "Done : 유한양행 \t-0.033343423104736314 \n",
      "\t {'colsample_bytree': 0.7, 'learning_rate': 0.07, 'max_depth': 5, 'min_child_weight': 4, 'n_estimators': 100, 'nthread': 4, 'objective': 'reg:linear', 'subsample': 0.7} \n",
      "\t10.9288 sec\n"
     ]
    },
    {
     "name": "stderr",
     "output_type": "stream",
     "text": [
      "C:\\Users\\JinMyungHun\\Anaconda3\\envs\\ds\\lib\\site-packages\\sklearn\\model_selection\\_search.py:841: DeprecationWarning: The default of the `iid` parameter will change from True to False in version 0.22 and will be removed in 0.24. This will change numeric results when test-set sizes are unequal.\n",
      "  DeprecationWarning)\n"
     ]
    },
    {
     "name": "stdout",
     "output_type": "stream",
     "text": [
      "Done : 이마트 \t0.16500410677124608 \n",
      "\t {'colsample_bytree': 0.7, 'learning_rate': 0.03, 'max_depth': 5, 'min_child_weight': 4, 'n_estimators': 200, 'nthread': 4, 'objective': 'reg:linear', 'subsample': 0.7} \n",
      "\t10.5628 sec\n"
     ]
    },
    {
     "name": "stderr",
     "output_type": "stream",
     "text": [
      "C:\\Users\\JinMyungHun\\Anaconda3\\envs\\ds\\lib\\site-packages\\sklearn\\model_selection\\_search.py:841: DeprecationWarning: The default of the `iid` parameter will change from True to False in version 0.22 and will be removed in 0.24. This will change numeric results when test-set sizes are unequal.\n",
      "  DeprecationWarning)\n"
     ]
    },
    {
     "name": "stdout",
     "output_type": "stream",
     "text": [
      "Done : 일양약품 \t-0.050614850827349 \n",
      "\t {'colsample_bytree': 0.7, 'learning_rate': 0.1, 'max_depth': 5, 'min_child_weight': 4, 'n_estimators': 50, 'nthread': 4, 'objective': 'reg:linear', 'subsample': 0.7} \n",
      "\t11.5097 sec\n"
     ]
    },
    {
     "name": "stderr",
     "output_type": "stream",
     "text": [
      "C:\\Users\\JinMyungHun\\Anaconda3\\envs\\ds\\lib\\site-packages\\sklearn\\model_selection\\_search.py:841: DeprecationWarning: The default of the `iid` parameter will change from True to False in version 0.22 and will be removed in 0.24. This will change numeric results when test-set sizes are unequal.\n",
      "  DeprecationWarning)\n"
     ]
    },
    {
     "name": "stdout",
     "output_type": "stream",
     "text": [
      "Done : 일진머티리얼즈 \t0.26171842151744146 \n",
      "\t {'colsample_bytree': 0.7, 'learning_rate': 0.03, 'max_depth': 5, 'min_child_weight': 4, 'n_estimators': 150, 'nthread': 4, 'objective': 'reg:linear', 'subsample': 0.7} \n",
      "\t11.0983 sec\n"
     ]
    },
    {
     "name": "stderr",
     "output_type": "stream",
     "text": [
      "C:\\Users\\JinMyungHun\\Anaconda3\\envs\\ds\\lib\\site-packages\\sklearn\\model_selection\\_search.py:841: DeprecationWarning: The default of the `iid` parameter will change from True to False in version 0.22 and will be removed in 0.24. This will change numeric results when test-set sizes are unequal.\n",
      "  DeprecationWarning)\n"
     ]
    },
    {
     "name": "stdout",
     "output_type": "stream",
     "text": [
      "Done : 제일기획 \t0.19394395025133668 \n",
      "\t {'colsample_bytree': 0.7, 'learning_rate': 0.03, 'max_depth': 7, 'min_child_weight': 4, 'n_estimators': 200, 'nthread': 4, 'objective': 'reg:linear', 'subsample': 0.7} \n",
      "\t10.7572 sec\n",
      "Done : 카카오 \t0.30390566768143357 \n",
      "\t {'colsample_bytree': 0.7, 'learning_rate': 0.05, 'max_depth': 6, 'min_child_weight': 4, 'n_estimators': 100, 'nthread': 4, 'objective': 'reg:linear', 'subsample': 0.7} \n",
      "\t10.6485 sec\n"
     ]
    },
    {
     "name": "stderr",
     "output_type": "stream",
     "text": [
      "C:\\Users\\JinMyungHun\\Anaconda3\\envs\\ds\\lib\\site-packages\\sklearn\\model_selection\\_search.py:841: DeprecationWarning: The default of the `iid` parameter will change from True to False in version 0.22 and will be removed in 0.24. This will change numeric results when test-set sizes are unequal.\n",
      "  DeprecationWarning)\n"
     ]
    },
    {
     "name": "stdout",
     "output_type": "stream",
     "text": [
      "Done : 코오롱인더 \t-0.10292944907773123 \n",
      "\t {'colsample_bytree': 0.7, 'learning_rate': 0.1, 'max_depth': 5, 'min_child_weight': 4, 'n_estimators': 50, 'nthread': 4, 'objective': 'reg:linear', 'subsample': 0.7} \n",
      "\t10.5667 sec\n"
     ]
    },
    {
     "name": "stderr",
     "output_type": "stream",
     "text": [
      "C:\\Users\\JinMyungHun\\Anaconda3\\envs\\ds\\lib\\site-packages\\sklearn\\model_selection\\_search.py:841: DeprecationWarning: The default of the `iid` parameter will change from True to False in version 0.22 and will be removed in 0.24. This will change numeric results when test-set sizes are unequal.\n",
      "  DeprecationWarning)\n"
     ]
    },
    {
     "name": "stdout",
     "output_type": "stream",
     "text": [
      "Done : 코웨이 \t-0.038011503187697054 \n",
      "\t {'colsample_bytree': 0.7, 'learning_rate': 0.05, 'max_depth': 5, 'min_child_weight': 4, 'n_estimators': 150, 'nthread': 4, 'objective': 'reg:linear', 'subsample': 0.7} \n",
      "\t11.8832 sec\n"
     ]
    },
    {
     "name": "stderr",
     "output_type": "stream",
     "text": [
      "C:\\Users\\JinMyungHun\\Anaconda3\\envs\\ds\\lib\\site-packages\\sklearn\\model_selection\\_search.py:841: DeprecationWarning: The default of the `iid` parameter will change from True to False in version 0.22 and will be removed in 0.24. This will change numeric results when test-set sizes are unequal.\n",
      "  DeprecationWarning)\n"
     ]
    },
    {
     "name": "stdout",
     "output_type": "stream",
     "text": [
      "Done : 태광산업 \t0.2834084695743058 \n",
      "\t {'colsample_bytree': 0.7, 'learning_rate': 0.03, 'max_depth': 5, 'min_child_weight': 4, 'n_estimators': 200, 'nthread': 4, 'objective': 'reg:linear', 'subsample': 0.7} \n",
      "\t13.7233 sec\n"
     ]
    },
    {
     "name": "stderr",
     "output_type": "stream",
     "text": [
      "C:\\Users\\JinMyungHun\\Anaconda3\\envs\\ds\\lib\\site-packages\\sklearn\\model_selection\\_search.py:841: DeprecationWarning: The default of the `iid` parameter will change from True to False in version 0.22 and will be removed in 0.24. This will change numeric results when test-set sizes are unequal.\n",
      "  DeprecationWarning)\n"
     ]
    },
    {
     "name": "stdout",
     "output_type": "stream",
     "text": [
      "Done : 팜스코 \t0.24648430653549835 \n",
      "\t {'colsample_bytree': 0.7, 'learning_rate': 0.07, 'max_depth': 5, 'min_child_weight': 4, 'n_estimators': 100, 'nthread': 4, 'objective': 'reg:linear', 'subsample': 0.7} \n",
      "\t13.1239 sec\n"
     ]
    },
    {
     "name": "stderr",
     "output_type": "stream",
     "text": [
      "C:\\Users\\JinMyungHun\\Anaconda3\\envs\\ds\\lib\\site-packages\\sklearn\\model_selection\\_search.py:841: DeprecationWarning: The default of the `iid` parameter will change from True to False in version 0.22 and will be removed in 0.24. This will change numeric results when test-set sizes are unequal.\n",
      "  DeprecationWarning)\n"
     ]
    },
    {
     "name": "stdout",
     "output_type": "stream",
     "text": [
      "Done : 팬오션 \t0.16183511120648114 \n",
      "\t {'colsample_bytree': 0.7, 'learning_rate': 0.03, 'max_depth': 6, 'min_child_weight': 4, 'n_estimators': 200, 'nthread': 4, 'objective': 'reg:linear', 'subsample': 0.7} \n",
      "\t12.5454 sec\n"
     ]
    },
    {
     "name": "stderr",
     "output_type": "stream",
     "text": [
      "C:\\Users\\JinMyungHun\\Anaconda3\\envs\\ds\\lib\\site-packages\\sklearn\\model_selection\\_search.py:841: DeprecationWarning: The default of the `iid` parameter will change from True to False in version 0.22 and will be removed in 0.24. This will change numeric results when test-set sizes are unequal.\n",
      "  DeprecationWarning)\n"
     ]
    },
    {
     "name": "stdout",
     "output_type": "stream",
     "text": [
      "Done : 포스코대우 \t0.14970075266993813 \n",
      "\t {'colsample_bytree': 0.7, 'learning_rate': 0.03, 'max_depth': 6, 'min_child_weight': 4, 'n_estimators': 200, 'nthread': 4, 'objective': 'reg:linear', 'subsample': 0.7} \n",
      "\t12.6332 sec\n"
     ]
    },
    {
     "name": "stderr",
     "output_type": "stream",
     "text": [
      "C:\\Users\\JinMyungHun\\Anaconda3\\envs\\ds\\lib\\site-packages\\sklearn\\model_selection\\_search.py:841: DeprecationWarning: The default of the `iid` parameter will change from True to False in version 0.22 and will be removed in 0.24. This will change numeric results when test-set sizes are unequal.\n",
      "  DeprecationWarning)\n"
     ]
    },
    {
     "name": "stdout",
     "output_type": "stream",
     "text": [
      "Done : 풍산 \t0.08133074901038664 \n",
      "\t {'colsample_bytree': 0.7, 'learning_rate': 0.03, 'max_depth': 5, 'min_child_weight': 4, 'n_estimators': 150, 'nthread': 4, 'objective': 'reg:linear', 'subsample': 0.7} \n",
      "\t13.3009 sec\n"
     ]
    },
    {
     "name": "stderr",
     "output_type": "stream",
     "text": [
      "C:\\Users\\JinMyungHun\\Anaconda3\\envs\\ds\\lib\\site-packages\\sklearn\\model_selection\\_search.py:841: DeprecationWarning: The default of the `iid` parameter will change from True to False in version 0.22 and will be removed in 0.24. This will change numeric results when test-set sizes are unequal.\n",
      "  DeprecationWarning)\n"
     ]
    },
    {
     "name": "stdout",
     "output_type": "stream",
     "text": [
      "Done : 하나금융지주 \t0.19398383449959752 \n",
      "\t {'colsample_bytree': 0.7, 'learning_rate': 0.07, 'max_depth': 5, 'min_child_weight': 4, 'n_estimators': 100, 'nthread': 4, 'objective': 'reg:linear', 'subsample': 0.7} \n",
      "\t12.6043 sec\n",
      "Done : 하이트진로 \t0.2550303124683594 \n",
      "\t {'colsample_bytree': 0.7, 'learning_rate': 0.1, 'max_depth': 5, 'min_child_weight': 4, 'n_estimators': 50, 'nthread': 4, 'objective': 'reg:linear', 'subsample': 0.7} \n",
      "\t10.2117 sec\n"
     ]
    },
    {
     "name": "stderr",
     "output_type": "stream",
     "text": [
      "C:\\Users\\JinMyungHun\\Anaconda3\\envs\\ds\\lib\\site-packages\\sklearn\\model_selection\\_search.py:841: DeprecationWarning: The default of the `iid` parameter will change from True to False in version 0.22 and will be removed in 0.24. This will change numeric results when test-set sizes are unequal.\n",
      "  DeprecationWarning)\n"
     ]
    },
    {
     "name": "stdout",
     "output_type": "stream",
     "text": [
      "Done : 한국가스공사 \t0.18970904153911272 \n",
      "\t {'colsample_bytree': 0.7, 'learning_rate': 0.1, 'max_depth': 7, 'min_child_weight': 4, 'n_estimators': 50, 'nthread': 4, 'objective': 'reg:linear', 'subsample': 0.7} \n",
      "\t10.1199 sec\n"
     ]
    },
    {
     "name": "stderr",
     "output_type": "stream",
     "text": [
      "C:\\Users\\JinMyungHun\\Anaconda3\\envs\\ds\\lib\\site-packages\\sklearn\\model_selection\\_search.py:841: DeprecationWarning: The default of the `iid` parameter will change from True to False in version 0.22 and will be removed in 0.24. This will change numeric results when test-set sizes are unequal.\n",
      "  DeprecationWarning)\n"
     ]
    },
    {
     "name": "stdout",
     "output_type": "stream",
     "text": [
      "Done : 한국금융지주 \t0.11708477452543917 \n",
      "\t {'colsample_bytree': 0.7, 'learning_rate': 0.1, 'max_depth': 5, 'min_child_weight': 4, 'n_estimators': 50, 'nthread': 4, 'objective': 'reg:linear', 'subsample': 0.7} \n",
      "\t13.4969 sec\n"
     ]
    },
    {
     "name": "stderr",
     "output_type": "stream",
     "text": [
      "C:\\Users\\JinMyungHun\\Anaconda3\\envs\\ds\\lib\\site-packages\\sklearn\\model_selection\\_search.py:841: DeprecationWarning: The default of the `iid` parameter will change from True to False in version 0.22 and will be removed in 0.24. This will change numeric results when test-set sizes are unequal.\n",
      "  DeprecationWarning)\n"
     ]
    },
    {
     "name": "stdout",
     "output_type": "stream",
     "text": [
      "Done : 한국단자 \t0.14021524353026102 \n",
      "\t {'colsample_bytree': 0.7, 'learning_rate': 0.1, 'max_depth': 5, 'min_child_weight': 4, 'n_estimators': 100, 'nthread': 4, 'objective': 'reg:linear', 'subsample': 0.7} \n",
      "\t11.7625 sec\n"
     ]
    },
    {
     "name": "stderr",
     "output_type": "stream",
     "text": [
      "C:\\Users\\JinMyungHun\\Anaconda3\\envs\\ds\\lib\\site-packages\\sklearn\\model_selection\\_search.py:841: DeprecationWarning: The default of the `iid` parameter will change from True to False in version 0.22 and will be removed in 0.24. This will change numeric results when test-set sizes are unequal.\n",
      "  DeprecationWarning)\n"
     ]
    },
    {
     "name": "stdout",
     "output_type": "stream",
     "text": [
      "Done : 한국쉘석유 \t0.28707510754214277 \n",
      "\t {'colsample_bytree': 0.7, 'learning_rate': 0.1, 'max_depth': 5, 'min_child_weight': 4, 'n_estimators': 50, 'nthread': 4, 'objective': 'reg:linear', 'subsample': 0.7} \n",
      "\t10.0571 sec\n"
     ]
    },
    {
     "name": "stderr",
     "output_type": "stream",
     "text": [
      "C:\\Users\\JinMyungHun\\Anaconda3\\envs\\ds\\lib\\site-packages\\sklearn\\model_selection\\_search.py:841: DeprecationWarning: The default of the `iid` parameter will change from True to False in version 0.22 and will be removed in 0.24. This will change numeric results when test-set sizes are unequal.\n",
      "  DeprecationWarning)\n"
     ]
    },
    {
     "name": "stdout",
     "output_type": "stream",
     "text": [
      "Done : 한국전력 \t0.13267006838900147 \n",
      "\t {'colsample_bytree': 0.7, 'learning_rate': 0.05, 'max_depth': 5, 'min_child_weight': 4, 'n_estimators': 100, 'nthread': 4, 'objective': 'reg:linear', 'subsample': 0.7} \n",
      "\t10.2735 sec\n"
     ]
    },
    {
     "name": "stderr",
     "output_type": "stream",
     "text": [
      "C:\\Users\\JinMyungHun\\Anaconda3\\envs\\ds\\lib\\site-packages\\sklearn\\model_selection\\_search.py:841: DeprecationWarning: The default of the `iid` parameter will change from True to False in version 0.22 and will be removed in 0.24. This will change numeric results when test-set sizes are unequal.\n",
      "  DeprecationWarning)\n"
     ]
    },
    {
     "name": "stdout",
     "output_type": "stream",
     "text": [
      "Done : 한국콜마 \t0.24623095743836573 \n",
      "\t {'colsample_bytree': 0.7, 'learning_rate': 0.07, 'max_depth': 5, 'min_child_weight': 4, 'n_estimators': 100, 'nthread': 4, 'objective': 'reg:linear', 'subsample': 0.7} \n",
      "\t10.9487 sec\n"
     ]
    },
    {
     "name": "stderr",
     "output_type": "stream",
     "text": [
      "C:\\Users\\JinMyungHun\\Anaconda3\\envs\\ds\\lib\\site-packages\\sklearn\\model_selection\\_search.py:841: DeprecationWarning: The default of the `iid` parameter will change from True to False in version 0.22 and will be removed in 0.24. This will change numeric results when test-set sizes are unequal.\n",
      "  DeprecationWarning)\n"
     ]
    },
    {
     "name": "stdout",
     "output_type": "stream",
     "text": [
      "Done : 한국타이어 \t0.2638597386143759 \n",
      "\t {'colsample_bytree': 0.7, 'learning_rate': 0.03, 'max_depth': 5, 'min_child_weight': 4, 'n_estimators': 200, 'nthread': 4, 'objective': 'reg:linear', 'subsample': 0.7} \n",
      "\t10.8849 sec\n",
      "Done : 한국타이어월드와이드 \t0.2982760562568673 \n",
      "\t {'colsample_bytree': 0.7, 'learning_rate': 0.03, 'max_depth': 5, 'min_child_weight': 4, 'n_estimators': 200, 'nthread': 4, 'objective': 'reg:linear', 'subsample': 0.7} \n",
      "\t10.6994 sec\n",
      "Done : 한국항공우주 \t-0.14089630041858278 \n",
      "\t {'colsample_bytree': 0.7, 'learning_rate': 0.05, 'max_depth': 7, 'min_child_weight': 4, 'n_estimators': 150, 'nthread': 4, 'objective': 'reg:linear', 'subsample': 0.7} \n",
      "\t11.3686 sec\n",
      "Done : 한라홀딩스 \t0.2857095546115176 \n",
      "\t {'colsample_bytree': 0.7, 'learning_rate': 0.03, 'max_depth': 5, 'min_child_weight': 4, 'n_estimators': 200, 'nthread': 4, 'objective': 'reg:linear', 'subsample': 0.7} \n",
      "\t12.5614 sec\n"
     ]
    },
    {
     "name": "stderr",
     "output_type": "stream",
     "text": [
      "C:\\Users\\JinMyungHun\\Anaconda3\\envs\\ds\\lib\\site-packages\\sklearn\\model_selection\\_search.py:841: DeprecationWarning: The default of the `iid` parameter will change from True to False in version 0.22 and will be removed in 0.24. This will change numeric results when test-set sizes are unequal.\n",
      "  DeprecationWarning)\n"
     ]
    },
    {
     "name": "stdout",
     "output_type": "stream",
     "text": [
      "Done : 한미사이언스 \t0.29414527209799485 \n",
      "\t {'colsample_bytree': 0.7, 'learning_rate': 0.1, 'max_depth': 6, 'min_child_weight': 4, 'n_estimators': 50, 'nthread': 4, 'objective': 'reg:linear', 'subsample': 0.7} \n",
      "\t11.6439 sec\n"
     ]
    },
    {
     "name": "stderr",
     "output_type": "stream",
     "text": [
      "C:\\Users\\JinMyungHun\\Anaconda3\\envs\\ds\\lib\\site-packages\\sklearn\\model_selection\\_search.py:841: DeprecationWarning: The default of the `iid` parameter will change from True to False in version 0.22 and will be removed in 0.24. This will change numeric results when test-set sizes are unequal.\n",
      "  DeprecationWarning)\n"
     ]
    },
    {
     "name": "stdout",
     "output_type": "stream",
     "text": [
      "Done : 한미약품 \t0.21691597392711437 \n",
      "\t {'colsample_bytree': 0.7, 'learning_rate': 0.03, 'max_depth': 5, 'min_child_weight': 4, 'n_estimators': 200, 'nthread': 4, 'objective': 'reg:linear', 'subsample': 0.7} \n",
      "\t10.7692 sec\n"
     ]
    },
    {
     "name": "stderr",
     "output_type": "stream",
     "text": [
      "C:\\Users\\JinMyungHun\\Anaconda3\\envs\\ds\\lib\\site-packages\\sklearn\\model_selection\\_search.py:841: DeprecationWarning: The default of the `iid` parameter will change from True to False in version 0.22 and will be removed in 0.24. This will change numeric results when test-set sizes are unequal.\n",
      "  DeprecationWarning)\n"
     ]
    },
    {
     "name": "stdout",
     "output_type": "stream",
     "text": [
      "Done : 한샘 \t0.10823243354261461 \n",
      "\t {'colsample_bytree': 0.7, 'learning_rate': 0.1, 'max_depth': 5, 'min_child_weight': 4, 'n_estimators': 50, 'nthread': 4, 'objective': 'reg:linear', 'subsample': 0.7} \n",
      "\t10.8260 sec\n"
     ]
    },
    {
     "name": "stderr",
     "output_type": "stream",
     "text": [
      "C:\\Users\\JinMyungHun\\Anaconda3\\envs\\ds\\lib\\site-packages\\sklearn\\model_selection\\_search.py:841: DeprecationWarning: The default of the `iid` parameter will change from True to False in version 0.22 and will be removed in 0.24. This will change numeric results when test-set sizes are unequal.\n",
      "  DeprecationWarning)\n"
     ]
    },
    {
     "name": "stdout",
     "output_type": "stream",
     "text": [
      "Done : 한섬 \t0.23558525784497106 \n",
      "\t {'colsample_bytree': 0.7, 'learning_rate': 0.1, 'max_depth': 5, 'min_child_weight': 4, 'n_estimators': 50, 'nthread': 4, 'objective': 'reg:linear', 'subsample': 0.7} \n",
      "\t10.4351 sec\n"
     ]
    },
    {
     "name": "stderr",
     "output_type": "stream",
     "text": [
      "C:\\Users\\JinMyungHun\\Anaconda3\\envs\\ds\\lib\\site-packages\\sklearn\\model_selection\\_search.py:841: DeprecationWarning: The default of the `iid` parameter will change from True to False in version 0.22 and will be removed in 0.24. This will change numeric results when test-set sizes are unequal.\n",
      "  DeprecationWarning)\n"
     ]
    },
    {
     "name": "stdout",
     "output_type": "stream",
     "text": [
      "Done : 한세실업 \t0.09579837453407553 \n",
      "\t {'colsample_bytree': 0.7, 'learning_rate': 0.03, 'max_depth': 5, 'min_child_weight': 4, 'n_estimators': 200, 'nthread': 4, 'objective': 'reg:linear', 'subsample': 0.7} \n",
      "\t11.2499 sec\n"
     ]
    },
    {
     "name": "stderr",
     "output_type": "stream",
     "text": [
      "C:\\Users\\JinMyungHun\\Anaconda3\\envs\\ds\\lib\\site-packages\\sklearn\\model_selection\\_search.py:841: DeprecationWarning: The default of the `iid` parameter will change from True to False in version 0.22 and will be removed in 0.24. This will change numeric results when test-set sizes are unequal.\n",
      "  DeprecationWarning)\n"
     ]
    },
    {
     "name": "stdout",
     "output_type": "stream",
     "text": [
      "Done : 한솔케미칼 \t-0.36464353332210775 \n",
      "\t {'colsample_bytree': 0.7, 'learning_rate': 0.1, 'max_depth': 6, 'min_child_weight': 4, 'n_estimators': 100, 'nthread': 4, 'objective': 'reg:linear', 'subsample': 0.7} \n",
      "\t10.7991 sec\n",
      "Done : 한온시스템 \t0.2374779486904111 \n",
      "\t {'colsample_bytree': 0.7, 'learning_rate': 0.07, 'max_depth': 5, 'min_child_weight': 4, 'n_estimators': 100, 'nthread': 4, 'objective': 'reg:linear', 'subsample': 0.7} \n",
      "\t10.6745 sec\n"
     ]
    },
    {
     "name": "stderr",
     "output_type": "stream",
     "text": [
      "C:\\Users\\JinMyungHun\\Anaconda3\\envs\\ds\\lib\\site-packages\\sklearn\\model_selection\\_search.py:841: DeprecationWarning: The default of the `iid` parameter will change from True to False in version 0.22 and will be removed in 0.24. This will change numeric results when test-set sizes are unequal.\n",
      "  DeprecationWarning)\n"
     ]
    },
    {
     "name": "stdout",
     "output_type": "stream",
     "text": [
      "Done : 한올바이오파마 \t0.25172434364146756 \n",
      "\t {'colsample_bytree': 0.7, 'learning_rate': 0.05, 'max_depth': 5, 'min_child_weight': 4, 'n_estimators': 100, 'nthread': 4, 'objective': 'reg:linear', 'subsample': 0.7} \n",
      "\t10.9537 sec\n",
      "Done : 한일시멘트 \t0.37767239144533604 \n",
      "\t {'colsample_bytree': 0.7, 'learning_rate': 0.03, 'max_depth': 5, 'min_child_weight': 4, 'n_estimators': 200, 'nthread': 4, 'objective': 'reg:linear', 'subsample': 0.7} \n",
      "\t10.7981 sec\n"
     ]
    },
    {
     "name": "stderr",
     "output_type": "stream",
     "text": [
      "C:\\Users\\JinMyungHun\\Anaconda3\\envs\\ds\\lib\\site-packages\\sklearn\\model_selection\\_search.py:841: DeprecationWarning: The default of the `iid` parameter will change from True to False in version 0.22 and will be removed in 0.24. This will change numeric results when test-set sizes are unequal.\n",
      "  DeprecationWarning)\n"
     ]
    },
    {
     "name": "stdout",
     "output_type": "stream",
     "text": [
      "Done : 한전KPS \t0.22436788406977967 \n",
      "\t {'colsample_bytree': 0.7, 'learning_rate': 0.05, 'max_depth': 5, 'min_child_weight': 4, 'n_estimators': 100, 'nthread': 4, 'objective': 'reg:linear', 'subsample': 0.7} \n",
      "\t10.6585 sec\n"
     ]
    },
    {
     "name": "stderr",
     "output_type": "stream",
     "text": [
      "C:\\Users\\JinMyungHun\\Anaconda3\\envs\\ds\\lib\\site-packages\\sklearn\\model_selection\\_search.py:841: DeprecationWarning: The default of the `iid` parameter will change from True to False in version 0.22 and will be removed in 0.24. This will change numeric results when test-set sizes are unequal.\n",
      "  DeprecationWarning)\n"
     ]
    },
    {
     "name": "stdout",
     "output_type": "stream",
     "text": [
      "Done : 한전기술 \t0.17240937793785557 \n",
      "\t {'colsample_bytree': 0.7, 'learning_rate': 0.03, 'max_depth': 5, 'min_child_weight': 4, 'n_estimators': 200, 'nthread': 4, 'objective': 'reg:linear', 'subsample': 0.7} \n",
      "\t11.3736 sec\n"
     ]
    },
    {
     "name": "stderr",
     "output_type": "stream",
     "text": [
      "C:\\Users\\JinMyungHun\\Anaconda3\\envs\\ds\\lib\\site-packages\\sklearn\\model_selection\\_search.py:841: DeprecationWarning: The default of the `iid` parameter will change from True to False in version 0.22 and will be removed in 0.24. This will change numeric results when test-set sizes are unequal.\n",
      "  DeprecationWarning)\n"
     ]
    },
    {
     "name": "stdout",
     "output_type": "stream",
     "text": [
      "Done : 한진중공업 \t0.13323423598123216 \n",
      "\t {'colsample_bytree': 0.7, 'learning_rate': 0.1, 'max_depth': 6, 'min_child_weight': 4, 'n_estimators': 50, 'nthread': 4, 'objective': 'reg:linear', 'subsample': 0.7} \n",
      "\t11.8004 sec\n"
     ]
    },
    {
     "name": "stderr",
     "output_type": "stream",
     "text": [
      "C:\\Users\\JinMyungHun\\Anaconda3\\envs\\ds\\lib\\site-packages\\sklearn\\model_selection\\_search.py:841: DeprecationWarning: The default of the `iid` parameter will change from True to False in version 0.22 and will be removed in 0.24. This will change numeric results when test-set sizes are unequal.\n",
      "  DeprecationWarning)\n"
     ]
    },
    {
     "name": "stdout",
     "output_type": "stream",
     "text": [
      "Done : 한화 \t-0.33080842418878864 \n",
      "\t {'colsample_bytree': 0.7, 'learning_rate': 0.07, 'max_depth': 5, 'min_child_weight': 4, 'n_estimators': 100, 'nthread': 4, 'objective': 'reg:linear', 'subsample': 0.7} \n",
      "\t10.4989 sec\n",
      "Done : 한화생명 \t0.16984944004858074 \n",
      "\t {'colsample_bytree': 0.7, 'learning_rate': 0.03, 'max_depth': 5, 'min_child_weight': 4, 'n_estimators': 200, 'nthread': 4, 'objective': 'reg:linear', 'subsample': 0.7} \n",
      "\t10.2935 sec\n"
     ]
    },
    {
     "name": "stderr",
     "output_type": "stream",
     "text": [
      "C:\\Users\\JinMyungHun\\Anaconda3\\envs\\ds\\lib\\site-packages\\sklearn\\model_selection\\_search.py:841: DeprecationWarning: The default of the `iid` parameter will change from True to False in version 0.22 and will be removed in 0.24. This will change numeric results when test-set sizes are unequal.\n",
      "  DeprecationWarning)\n"
     ]
    },
    {
     "name": "stdout",
     "output_type": "stream",
     "text": [
      "Done : 한화에어로스페이스 \t-0.04734214837379338 \n",
      "\t {'colsample_bytree': 0.7, 'learning_rate': 0.07, 'max_depth': 6, 'min_child_weight': 4, 'n_estimators': 50, 'nthread': 4, 'objective': 'reg:linear', 'subsample': 0.7} \n",
      "\t10.8649 sec\n"
     ]
    },
    {
     "name": "stderr",
     "output_type": "stream",
     "text": [
      "C:\\Users\\JinMyungHun\\Anaconda3\\envs\\ds\\lib\\site-packages\\sklearn\\model_selection\\_search.py:841: DeprecationWarning: The default of the `iid` parameter will change from True to False in version 0.22 and will be removed in 0.24. This will change numeric results when test-set sizes are unequal.\n",
      "  DeprecationWarning)\n"
     ]
    },
    {
     "name": "stdout",
     "output_type": "stream",
     "text": [
      "Done : 한화케미칼 \t-0.16391099212435806 \n",
      "\t {'colsample_bytree': 0.7, 'learning_rate': 0.05, 'max_depth': 5, 'min_child_weight': 4, 'n_estimators': 100, 'nthread': 4, 'objective': 'reg:linear', 'subsample': 0.7} \n",
      "\t12.2223 sec\n"
     ]
    },
    {
     "name": "stderr",
     "output_type": "stream",
     "text": [
      "C:\\Users\\JinMyungHun\\Anaconda3\\envs\\ds\\lib\\site-packages\\sklearn\\model_selection\\_search.py:841: DeprecationWarning: The default of the `iid` parameter will change from True to False in version 0.22 and will be removed in 0.24. This will change numeric results when test-set sizes are unequal.\n",
      "  DeprecationWarning)\n"
     ]
    },
    {
     "name": "stdout",
     "output_type": "stream",
     "text": [
      "Done : 현대건설 \t0.25210884794514243 \n",
      "\t {'colsample_bytree': 0.7, 'learning_rate': 0.03, 'max_depth': 5, 'min_child_weight': 4, 'n_estimators': 150, 'nthread': 4, 'objective': 'reg:linear', 'subsample': 0.7} \n",
      "\t10.7921 sec\n"
     ]
    },
    {
     "name": "stderr",
     "output_type": "stream",
     "text": [
      "C:\\Users\\JinMyungHun\\Anaconda3\\envs\\ds\\lib\\site-packages\\sklearn\\model_selection\\_search.py:841: DeprecationWarning: The default of the `iid` parameter will change from True to False in version 0.22 and will be removed in 0.24. This will change numeric results when test-set sizes are unequal.\n",
      "  DeprecationWarning)\n"
     ]
    },
    {
     "name": "stdout",
     "output_type": "stream",
     "text": [
      "Done : 현대그린푸드 \t0.26749257424799366 \n",
      "\t {'colsample_bytree': 0.7, 'learning_rate': 0.1, 'max_depth': 6, 'min_child_weight': 4, 'n_estimators': 50, 'nthread': 4, 'objective': 'reg:linear', 'subsample': 0.7} \n",
      "\t11.0056 sec\n"
     ]
    },
    {
     "name": "stderr",
     "output_type": "stream",
     "text": [
      "C:\\Users\\JinMyungHun\\Anaconda3\\envs\\ds\\lib\\site-packages\\sklearn\\model_selection\\_search.py:841: DeprecationWarning: The default of the `iid` parameter will change from True to False in version 0.22 and will be removed in 0.24. This will change numeric results when test-set sizes are unequal.\n",
      "  DeprecationWarning)\n"
     ]
    },
    {
     "name": "stdout",
     "output_type": "stream",
     "text": [
      "Done : 현대글로비스 \t0.2332701579014788 \n",
      "\t {'colsample_bytree': 0.7, 'learning_rate': 0.1, 'max_depth': 5, 'min_child_weight': 4, 'n_estimators': 50, 'nthread': 4, 'objective': 'reg:linear', 'subsample': 0.7} \n",
      "\t10.6665 sec\n"
     ]
    },
    {
     "name": "stderr",
     "output_type": "stream",
     "text": [
      "C:\\Users\\JinMyungHun\\Anaconda3\\envs\\ds\\lib\\site-packages\\sklearn\\model_selection\\_search.py:841: DeprecationWarning: The default of the `iid` parameter will change from True to False in version 0.22 and will be removed in 0.24. This will change numeric results when test-set sizes are unequal.\n",
      "  DeprecationWarning)\n"
     ]
    },
    {
     "name": "stdout",
     "output_type": "stream",
     "text": [
      "Done : 현대리바트 \t0.16906082494158145 \n",
      "\t {'colsample_bytree': 0.7, 'learning_rate': 0.03, 'max_depth': 5, 'min_child_weight': 4, 'n_estimators': 200, 'nthread': 4, 'objective': 'reg:linear', 'subsample': 0.7} \n",
      "\t18.9449 sec\n"
     ]
    },
    {
     "name": "stderr",
     "output_type": "stream",
     "text": [
      "C:\\Users\\JinMyungHun\\Anaconda3\\envs\\ds\\lib\\site-packages\\sklearn\\model_selection\\_search.py:841: DeprecationWarning: The default of the `iid` parameter will change from True to False in version 0.22 and will be removed in 0.24. This will change numeric results when test-set sizes are unequal.\n",
      "  DeprecationWarning)\n"
     ]
    },
    {
     "name": "stdout",
     "output_type": "stream",
     "text": [
      "Done : 현대모비스 \t0.185017983502713 \n",
      "\t {'colsample_bytree': 0.7, 'learning_rate': 0.05, 'max_depth': 5, 'min_child_weight': 4, 'n_estimators': 100, 'nthread': 4, 'objective': 'reg:linear', 'subsample': 0.7} \n",
      "\t11.8543 sec\n"
     ]
    },
    {
     "name": "stderr",
     "output_type": "stream",
     "text": [
      "C:\\Users\\JinMyungHun\\Anaconda3\\envs\\ds\\lib\\site-packages\\sklearn\\model_selection\\_search.py:841: DeprecationWarning: The default of the `iid` parameter will change from True to False in version 0.22 and will be removed in 0.24. This will change numeric results when test-set sizes are unequal.\n",
      "  DeprecationWarning)\n"
     ]
    },
    {
     "name": "stdout",
     "output_type": "stream",
     "text": [
      "Done : 현대미포조선 \t0.20417253525577314 \n",
      "\t {'colsample_bytree': 0.7, 'learning_rate': 0.03, 'max_depth': 5, 'min_child_weight': 4, 'n_estimators': 150, 'nthread': 4, 'objective': 'reg:linear', 'subsample': 0.7} \n",
      "\t11.7765 sec\n"
     ]
    },
    {
     "name": "stderr",
     "output_type": "stream",
     "text": [
      "C:\\Users\\JinMyungHun\\Anaconda3\\envs\\ds\\lib\\site-packages\\sklearn\\model_selection\\_search.py:841: DeprecationWarning: The default of the `iid` parameter will change from True to False in version 0.22 and will be removed in 0.24. This will change numeric results when test-set sizes are unequal.\n",
      "  DeprecationWarning)\n"
     ]
    },
    {
     "name": "stdout",
     "output_type": "stream",
     "text": [
      "Done : 현대백화점 \t0.21715962996391058 \n",
      "\t {'colsample_bytree': 0.7, 'learning_rate': 0.03, 'max_depth': 5, 'min_child_weight': 4, 'n_estimators': 200, 'nthread': 4, 'objective': 'reg:linear', 'subsample': 0.7} \n",
      "\t10.5418 sec\n"
     ]
    },
    {
     "name": "stderr",
     "output_type": "stream",
     "text": [
      "C:\\Users\\JinMyungHun\\Anaconda3\\envs\\ds\\lib\\site-packages\\sklearn\\model_selection\\_search.py:841: DeprecationWarning: The default of the `iid` parameter will change from True to False in version 0.22 and will be removed in 0.24. This will change numeric results when test-set sizes are unequal.\n",
      "  DeprecationWarning)\n"
     ]
    },
    {
     "name": "stdout",
     "output_type": "stream",
     "text": [
      "Done : 현대엘리베이 \t0.1607267858539997 \n",
      "\t {'colsample_bytree': 0.7, 'learning_rate': 0.03, 'max_depth': 5, 'min_child_weight': 4, 'n_estimators': 200, 'nthread': 4, 'objective': 'reg:linear', 'subsample': 0.7} \n",
      "\t11.3347 sec\n"
     ]
    },
    {
     "name": "stderr",
     "output_type": "stream",
     "text": [
      "C:\\Users\\JinMyungHun\\Anaconda3\\envs\\ds\\lib\\site-packages\\sklearn\\model_selection\\_search.py:841: DeprecationWarning: The default of the `iid` parameter will change from True to False in version 0.22 and will be removed in 0.24. This will change numeric results when test-set sizes are unequal.\n",
      "  DeprecationWarning)\n"
     ]
    },
    {
     "name": "stdout",
     "output_type": "stream",
     "text": [
      "Done : 현대위아 \t0.15187621232586979 \n",
      "\t {'colsample_bytree': 0.7, 'learning_rate': 0.1, 'max_depth': 5, 'min_child_weight': 4, 'n_estimators': 50, 'nthread': 4, 'objective': 'reg:linear', 'subsample': 0.7} \n",
      "\t10.9198 sec\n"
     ]
    },
    {
     "name": "stderr",
     "output_type": "stream",
     "text": [
      "C:\\Users\\JinMyungHun\\Anaconda3\\envs\\ds\\lib\\site-packages\\sklearn\\model_selection\\_search.py:841: DeprecationWarning: The default of the `iid` parameter will change from True to False in version 0.22 and will be removed in 0.24. This will change numeric results when test-set sizes are unequal.\n",
      "  DeprecationWarning)\n"
     ]
    },
    {
     "name": "stdout",
     "output_type": "stream",
     "text": [
      "Done : 현대제철 \t0.09012202705797301 \n",
      "\t {'colsample_bytree': 0.7, 'learning_rate': 0.07, 'max_depth': 5, 'min_child_weight': 4, 'n_estimators': 100, 'nthread': 4, 'objective': 'reg:linear', 'subsample': 0.7} \n",
      "\t11.3137 sec\n"
     ]
    },
    {
     "name": "stderr",
     "output_type": "stream",
     "text": [
      "C:\\Users\\JinMyungHun\\Anaconda3\\envs\\ds\\lib\\site-packages\\sklearn\\model_selection\\_search.py:841: DeprecationWarning: The default of the `iid` parameter will change from True to False in version 0.22 and will be removed in 0.24. This will change numeric results when test-set sizes are unequal.\n",
      "  DeprecationWarning)\n"
     ]
    },
    {
     "name": "stdout",
     "output_type": "stream",
     "text": [
      "Done : 현대중공업 \t0.04622027699459022 \n",
      "\t {'colsample_bytree': 0.7, 'learning_rate': 0.1, 'max_depth': 5, 'min_child_weight': 4, 'n_estimators': 50, 'nthread': 4, 'objective': 'reg:linear', 'subsample': 0.7} \n",
      "\t12.3031 sec\n"
     ]
    },
    {
     "name": "stderr",
     "output_type": "stream",
     "text": [
      "C:\\Users\\JinMyungHun\\Anaconda3\\envs\\ds\\lib\\site-packages\\sklearn\\model_selection\\_search.py:841: DeprecationWarning: The default of the `iid` parameter will change from True to False in version 0.22 and will be removed in 0.24. This will change numeric results when test-set sizes are unequal.\n",
      "  DeprecationWarning)\n"
     ]
    },
    {
     "name": "stdout",
     "output_type": "stream",
     "text": [
      "Done : 현대차 \t0.2571015532517727 \n",
      "\t {'colsample_bytree': 0.7, 'learning_rate': 0.1, 'max_depth': 5, 'min_child_weight': 4, 'n_estimators': 50, 'nthread': 4, 'objective': 'reg:linear', 'subsample': 0.7} \n",
      "\t12.3599 sec\n"
     ]
    },
    {
     "name": "stderr",
     "output_type": "stream",
     "text": [
      "C:\\Users\\JinMyungHun\\Anaconda3\\envs\\ds\\lib\\site-packages\\sklearn\\model_selection\\_search.py:841: DeprecationWarning: The default of the `iid` parameter will change from True to False in version 0.22 and will be removed in 0.24. This will change numeric results when test-set sizes are unequal.\n",
      "  DeprecationWarning)\n"
     ]
    },
    {
     "name": "stdout",
     "output_type": "stream",
     "text": [
      "Done : 현대해상 \t0.21870349769634315 \n",
      "\t {'colsample_bytree': 0.7, 'learning_rate': 0.1, 'max_depth': 5, 'min_child_weight': 4, 'n_estimators': 50, 'nthread': 4, 'objective': 'reg:linear', 'subsample': 0.7} \n",
      "\t22.8928 sec\n"
     ]
    },
    {
     "name": "stderr",
     "output_type": "stream",
     "text": [
      "C:\\Users\\JinMyungHun\\Anaconda3\\envs\\ds\\lib\\site-packages\\sklearn\\model_selection\\_search.py:841: DeprecationWarning: The default of the `iid` parameter will change from True to False in version 0.22 and will be removed in 0.24. This will change numeric results when test-set sizes are unequal.\n",
      "  DeprecationWarning)\n"
     ]
    },
    {
     "name": "stdout",
     "output_type": "stream",
     "text": [
      "Done : 현대홈쇼핑 \t0.26285292906451513 \n",
      "\t {'colsample_bytree': 0.7, 'learning_rate': 0.05, 'max_depth': 5, 'min_child_weight': 4, 'n_estimators': 100, 'nthread': 4, 'objective': 'reg:linear', 'subsample': 0.7} \n",
      "\t18.3769 sec\n",
      "Done : 호텔신라 \t0.2758367517561642 \n",
      "\t {'colsample_bytree': 0.7, 'learning_rate': 0.05, 'max_depth': 5, 'min_child_weight': 4, 'n_estimators': 100, 'nthread': 4, 'objective': 'reg:linear', 'subsample': 0.7} \n",
      "\t14.7166 sec\n"
     ]
    },
    {
     "name": "stderr",
     "output_type": "stream",
     "text": [
      "C:\\Users\\JinMyungHun\\Anaconda3\\envs\\ds\\lib\\site-packages\\sklearn\\model_selection\\_search.py:841: DeprecationWarning: The default of the `iid` parameter will change from True to False in version 0.22 and will be removed in 0.24. This will change numeric results when test-set sizes are unequal.\n",
      "  DeprecationWarning)\n"
     ]
    },
    {
     "name": "stdout",
     "output_type": "stream",
     "text": [
      "Done : 효성 \t-0.006560943485314669 \n",
      "\t {'colsample_bytree': 0.7, 'learning_rate': 0.07, 'max_depth': 5, 'min_child_weight': 4, 'n_estimators': 100, 'nthread': 4, 'objective': 'reg:linear', 'subsample': 0.7} \n",
      "\t12.2841 sec\n"
     ]
    },
    {
     "name": "stderr",
     "output_type": "stream",
     "text": [
      "C:\\Users\\JinMyungHun\\Anaconda3\\envs\\ds\\lib\\site-packages\\sklearn\\model_selection\\_search.py:841: DeprecationWarning: The default of the `iid` parameter will change from True to False in version 0.22 and will be removed in 0.24. This will change numeric results when test-set sizes are unequal.\n",
      "  DeprecationWarning)\n"
     ]
    },
    {
     "name": "stdout",
     "output_type": "stream",
     "text": [
      "Done : 후성 \t0.04580138490798738 \n",
      "\t {'colsample_bytree': 0.7, 'learning_rate': 0.1, 'max_depth': 5, 'min_child_weight': 4, 'n_estimators': 50, 'nthread': 4, 'objective': 'reg:linear', 'subsample': 0.7} \n",
      "\t10.5657 sec\n",
      "Done : 휴켐스 \t0.22678748563895768 \n",
      "\t {'colsample_bytree': 0.7, 'learning_rate': 0.1, 'max_depth': 5, 'min_child_weight': 4, 'n_estimators': 50, 'nthread': 4, 'objective': 'reg:linear', 'subsample': 0.7} \n",
      "\t10.2426 sec\n"
     ]
    },
    {
     "name": "stderr",
     "output_type": "stream",
     "text": [
      "C:\\Users\\JinMyungHun\\Anaconda3\\envs\\ds\\lib\\site-packages\\sklearn\\model_selection\\_search.py:841: DeprecationWarning: The default of the `iid` parameter will change from True to False in version 0.22 and will be removed in 0.24. This will change numeric results when test-set sizes are unequal.\n",
      "  DeprecationWarning)\n"
     ]
    }
   ],
   "source": [
    "from sklearn.model_selection import GridSearchCV\n",
    "import time\n",
    "parameters = {'nthread':[4], #when use hyperthread, xgboost may become slower\n",
    "              'objective':['reg:linear'],\n",
    "              'learning_rate': [.03, 0.05, .07, .1], #so called `eta` value\n",
    "              'max_depth': [5, 6, 7],\n",
    "              'min_child_weight': [4],\n",
    "              'subsample': [0.7],\n",
    "              'colsample_bytree': [0.7],\n",
    "              'n_estimators': [i for i in range(50,201, 50)]}\n",
    "result = {}\n",
    "start = time.time()\n",
    "y = 'returnsCloseNext1'\n",
    "for key, df in raw_data.items():\n",
    "    semi_start = time.time()\n",
    "    \n",
    "    train_data = df.iloc[:int(0.8*len(df))][X_li].values\n",
    "    train_label = df.iloc[:int(0.8*len(df))][y].values\n",
    "    test_data = df.iloc[int(0.8*len(df)):][X_li].values\n",
    "    test_label = df.iloc[int(0.8*len(df)):][y]\n",
    "    xgb_reg = XGBRegressor()\n",
    "    xgb_grid = GridSearchCV(xgb_reg,\n",
    "                        parameters,\n",
    "                        cv = 2,\n",
    "                        n_jobs = -1)\n",
    "    xgb_grid.fit(train_data, train_label)\n",
    "    pred = pd.Series(xgb_grid.predict(test_data), index=test_label.index)\n",
    "    rmse = metrics.mean_squared_error(test_label.values, pred.values) ** .5\n",
    "    accuracy = metrics.accuracy_score(np.where(test_label.values>0, 1, 0), \n",
    "                       np.where(pred.values>0, 1, 0))\n",
    "    result[key] = [rmse, accuracy, pred]\n",
    "    \n",
    "    semi_elapse = time.time() - semi_start\n",
    "    print('Done :', key, '\\t{}'.format(xgb_grid.best_score_), '\\n\\t {}'.format(xgb_grid.best_params_), '\\n\\t{:.4f} sec'.format(semi_elapse))"
   ]
  },
  {
   "cell_type": "code",
   "execution_count": 21,
   "metadata": {},
   "outputs": [
    {
     "name": "stdout",
     "output_type": "stream",
     "text": [
      "AK홀딩스 \n",
      "\t RMSE:0.020\tAccuracy:0.6679\n",
      "BNK금융지주 \n",
      "\t RMSE:0.017\tAccuracy:0.6464\n",
      "CJ \n",
      "\t RMSE:0.020\tAccuracy:0.6679\n",
      "CJ CGV \n",
      "\t RMSE:0.025\tAccuracy:0.7250\n",
      "CJ대한통운 \n",
      "\t RMSE:0.023\tAccuracy:0.6179\n",
      "CJ제일제당 \n",
      "\t RMSE:0.018\tAccuracy:0.6929\n",
      "DB손해보험 \n",
      "\t RMSE:0.020\tAccuracy:0.6071\n",
      "DB하이텍 \n",
      "\t RMSE:0.032\tAccuracy:0.6321\n",
      "GKL \n",
      "\t RMSE:0.027\tAccuracy:0.6357\n",
      "GS \n",
      "\t RMSE:0.017\tAccuracy:0.6964\n",
      "GS건설 \n",
      "\t RMSE:0.031\tAccuracy:0.6929\n",
      "GS리테일 \n",
      "\t RMSE:0.034\tAccuracy:0.6250\n",
      "HDC \n",
      "\t RMSE:0.036\tAccuracy:0.6291\n",
      "JW중외제약 \n",
      "\t RMSE:0.026\tAccuracy:0.7036\n",
      "JW홀딩스 \n",
      "\t RMSE:0.028\tAccuracy:0.7107\n",
      "KB금융 \n",
      "\t RMSE:0.020\tAccuracy:0.6000\n",
      "KCC \n",
      "\t RMSE:0.022\tAccuracy:0.6429\n",
      "KT \n",
      "\t RMSE:0.011\tAccuracy:0.6679\n",
      "KT&G \n",
      "\t RMSE:0.016\tAccuracy:0.6571\n",
      "LF \n",
      "\t RMSE:0.025\tAccuracy:0.6179\n",
      "LG \n",
      "\t RMSE:0.018\tAccuracy:0.6929\n",
      "LG디스플레이 \n",
      "\t RMSE:0.026\tAccuracy:0.6929\n",
      "LG상사 \n",
      "\t RMSE:0.025\tAccuracy:0.6179\n",
      "LG생활건강 \n",
      "\t RMSE:0.026\tAccuracy:0.6536\n",
      "LG유플러스 \n",
      "\t RMSE:0.022\tAccuracy:0.6857\n",
      "LG이노텍 \n",
      "\t RMSE:0.032\tAccuracy:0.6750\n",
      "LG전자 \n",
      "\t RMSE:0.026\tAccuracy:0.6321\n",
      "LG하우시스 \n",
      "\t RMSE:0.018\tAccuracy:0.5857\n",
      "LG화학 \n",
      "\t RMSE:0.034\tAccuracy:0.5786\n",
      "LS \n",
      "\t RMSE:0.025\tAccuracy:0.7214\n",
      "LS산전 \n",
      "\t RMSE:0.027\tAccuracy:0.6500\n",
      "NAVER \n",
      "\t RMSE:0.019\tAccuracy:0.6268\n",
      "NH투자증권 \n",
      "\t RMSE:0.024\tAccuracy:0.6714\n",
      "OCI \n",
      "\t RMSE:0.034\tAccuracy:0.6321\n",
      "POSCO \n",
      "\t RMSE:0.023\tAccuracy:0.6321\n",
      "S&T모티브 \n",
      "\t RMSE:0.027\tAccuracy:0.6643\n",
      "S-Oil \n",
      "\t RMSE:0.021\tAccuracy:0.7000\n",
      "SBS \n",
      "\t RMSE:0.020\tAccuracy:0.6571\n",
      "SK \n",
      "\t RMSE:0.019\tAccuracy:0.6536\n",
      "SKC \n",
      "\t RMSE:0.023\tAccuracy:0.6821\n",
      "SK네트웍스 \n",
      "\t RMSE:0.019\tAccuracy:0.6929\n",
      "SK디스커버리 \n",
      "\t RMSE:0.022\tAccuracy:0.7065\n",
      "SK이노베이션 \n",
      "\t RMSE:0.021\tAccuracy:0.6464\n",
      "SK텔레콤 \n",
      "\t RMSE:0.015\tAccuracy:0.6786\n",
      "SK하이닉스 \n",
      "\t RMSE:0.027\tAccuracy:0.6393\n",
      "SPC삼립 \n",
      "\t RMSE:0.028\tAccuracy:0.6857\n",
      "강원랜드 \n",
      "\t RMSE:0.021\tAccuracy:0.5607\n",
      "고려아연 \n",
      "\t RMSE:0.019\tAccuracy:0.7000\n",
      "고려제강 \n",
      "\t RMSE:0.018\tAccuracy:0.7000\n",
      "금호석유 \n",
      "\t RMSE:0.027\tAccuracy:0.6714\n",
      "금호타이어 \n",
      "\t RMSE:0.071\tAccuracy:0.6214\n",
      "기아차 \n",
      "\t RMSE:0.018\tAccuracy:0.6536\n",
      "기업은행 \n",
      "\t RMSE:0.018\tAccuracy:0.6821\n",
      "남양유업 \n",
      "\t RMSE:0.017\tAccuracy:0.5964\n",
      "남해화학 \n",
      "\t RMSE:0.046\tAccuracy:0.6893\n",
      "넥센타이어 \n",
      "\t RMSE:0.020\tAccuracy:0.4893\n",
      "녹십자 \n",
      "\t RMSE:0.029\tAccuracy:0.6214\n",
      "녹십자홀딩스 \n",
      "\t RMSE:0.026\tAccuracy:0.6857\n",
      "농심 \n",
      "\t RMSE:0.017\tAccuracy:0.6643\n",
      "대교 \n",
      "\t RMSE:0.009\tAccuracy:0.7143\n",
      "대덕전자 \n",
      "\t RMSE:0.020\tAccuracy:0.6000\n",
      "대림산업 \n",
      "\t RMSE:0.023\tAccuracy:0.6464\n",
      "대상 \n",
      "\t RMSE:0.021\tAccuracy:0.6714\n",
      "대우건설 \n",
      "\t RMSE:0.033\tAccuracy:0.6429\n",
      "대우조선해양 \n",
      "\t RMSE:0.079\tAccuracy:0.5642\n",
      "대웅제약 \n",
      "\t RMSE:0.065\tAccuracy:0.6036\n",
      "대한유화 \n",
      "\t RMSE:0.028\tAccuracy:0.6857\n",
      "대한항공 \n",
      "\t RMSE:0.023\tAccuracy:0.6496\n",
      "동국제강 \n",
      "\t RMSE:0.033\tAccuracy:0.6714\n",
      "동서 \n",
      "\t RMSE:0.013\tAccuracy:0.6464\n",
      "동아쏘시오홀딩스 \n",
      "\t RMSE:0.020\tAccuracy:0.6949\n",
      "동양 \n",
      "\t RMSE:0.028\tAccuracy:0.6473\n",
      "동원F&B \n",
      "\t RMSE:0.028\tAccuracy:0.6679\n",
      "동원시스템즈 \n",
      "\t RMSE:0.026\tAccuracy:0.7437\n",
      "두산 \n",
      "\t RMSE:0.025\tAccuracy:0.5929\n",
      "두산인프라코어 \n",
      "\t RMSE:0.028\tAccuracy:0.6714\n",
      "두산중공업 \n",
      "\t RMSE:0.035\tAccuracy:0.5643\n",
      "락앤락 \n",
      "\t RMSE:0.030\tAccuracy:0.7321\n",
      "롯데쇼핑 \n",
      "\t RMSE:0.033\tAccuracy:0.6101\n",
      "롯데정밀화학 \n",
      "\t RMSE:0.027\tAccuracy:0.6857\n",
      "롯데지주 \n",
      "\t RMSE:0.026\tAccuracy:0.5964\n",
      "롯데칠성 \n",
      "\t RMSE:0.018\tAccuracy:0.6823\n",
      "롯데케미칼 \n",
      "\t RMSE:0.023\tAccuracy:0.7036\n",
      "롯데푸드 \n",
      "\t RMSE:0.025\tAccuracy:0.6209\n",
      "롯데하이마트 \n",
      "\t RMSE:0.022\tAccuracy:0.6821\n",
      "메리츠종금증권 \n",
      "\t RMSE:0.023\tAccuracy:0.6857\n",
      "무학 \n",
      "\t RMSE:0.020\tAccuracy:0.6500\n",
      "미래에셋대우 \n",
      "\t RMSE:0.024\tAccuracy:0.6821\n",
      "보령제약 \n",
      "\t RMSE:0.026\tAccuracy:0.7000\n",
      "부광약품 \n",
      "\t RMSE:0.033\tAccuracy:0.6964\n",
      "빙그레 \n",
      "\t RMSE:0.016\tAccuracy:0.6964\n",
      "삼성SDI \n",
      "\t RMSE:0.030\tAccuracy:0.6393\n",
      "삼성생명 \n",
      "\t RMSE:0.019\tAccuracy:0.6964\n",
      "삼성엔지니어링 \n",
      "\t RMSE:0.030\tAccuracy:0.6871\n",
      "삼성전기 \n",
      "\t RMSE:0.028\tAccuracy:0.7179\n",
      "삼성전자 \n",
      "\t RMSE:0.023\tAccuracy:0.5643\n",
      "삼성중공업 \n",
      "\t RMSE:0.041\tAccuracy:0.6607\n",
      "삼성증권 \n",
      "\t RMSE:0.020\tAccuracy:0.6250\n",
      "삼성카드 \n",
      "\t RMSE:0.015\tAccuracy:0.6679\n",
      "삼성화재 \n",
      "\t RMSE:0.014\tAccuracy:0.6071\n",
      "삼양사 \n",
      "\t RMSE:0.017\tAccuracy:0.6857\n",
      "삼양홀딩스 \n",
      "\t RMSE:0.033\tAccuracy:0.6679\n",
      "세방전지 \n",
      "\t RMSE:0.016\tAccuracy:0.6429\n",
      "세아베스틸 \n",
      "\t RMSE:0.022\tAccuracy:0.6964\n",
      "세아제강 \n",
      "\t RMSE:0.033\tAccuracy:0.6594\n",
      "셀트리온 \n",
      "\t RMSE:0.051\tAccuracy:0.6354\n",
      "신세계 \n",
      "\t RMSE:0.034\tAccuracy:0.6607\n",
      "신한지주 \n",
      "\t RMSE:0.017\tAccuracy:0.6643\n",
      "쌍용양회 \n",
      "\t RMSE:0.051\tAccuracy:0.6107\n",
      "쌍용차 \n",
      "\t RMSE:0.035\tAccuracy:0.4643\n",
      "아모레G \n",
      "\t RMSE:0.027\tAccuracy:0.7158\n",
      "아모레퍼시픽 \n",
      "\t RMSE:0.024\tAccuracy:0.6223\n",
      "아이에스동서 \n",
      "\t RMSE:0.048\tAccuracy:0.5786\n",
      "에스엘 \n",
      "\t RMSE:0.027\tAccuracy:0.6857\n",
      "에스원 \n",
      "\t RMSE:0.018\tAccuracy:0.6429\n",
      "엔씨소프트 \n",
      "\t RMSE:0.033\tAccuracy:0.6393\n",
      "영원무역 \n",
      "\t RMSE:0.024\tAccuracy:0.6393\n",
      "영진약품 \n",
      "\t RMSE:0.034\tAccuracy:0.7036\n",
      "영풍 \n",
      "\t RMSE:0.021\tAccuracy:0.6679\n",
      "오뚜기 \n",
      "\t RMSE:0.021\tAccuracy:0.6464\n",
      "오리온홀딩스 \n",
      "\t RMSE:0.025\tAccuracy:0.6909\n",
      "우리은행 \n",
      "\t RMSE:0.021\tAccuracy:0.5891\n",
      "유니드 \n",
      "\t RMSE:0.018\tAccuracy:0.6929\n",
      "유한양행 \n",
      "\t RMSE:0.021\tAccuracy:0.6536\n",
      "이마트 \n",
      "\t RMSE:0.025\tAccuracy:0.6679\n",
      "일양약품 \n",
      "\t RMSE:0.023\tAccuracy:0.6786\n",
      "일진머티리얼즈 \n",
      "\t RMSE:0.055\tAccuracy:0.5786\n",
      "제일기획 \n",
      "\t RMSE:0.019\tAccuracy:0.6893\n",
      "카카오 \n",
      "\t RMSE:0.027\tAccuracy:0.6964\n",
      "코오롱인더 \n",
      "\t RMSE:0.024\tAccuracy:0.6571\n",
      "코웨이 \n",
      "\t RMSE:0.021\tAccuracy:0.6571\n",
      "태광산업 \n",
      "\t RMSE:0.024\tAccuracy:0.7071\n",
      "팜스코 \n",
      "\t RMSE:0.020\tAccuracy:0.7143\n",
      "팬오션 \n",
      "\t RMSE:0.028\tAccuracy:0.7283\n",
      "포스코대우 \n",
      "\t RMSE:0.030\tAccuracy:0.6750\n",
      "풍산 \n",
      "\t RMSE:0.028\tAccuracy:0.6250\n",
      "하나금융지주 \n",
      "\t RMSE:0.023\tAccuracy:0.6464\n",
      "하이트진로 \n",
      "\t RMSE:0.019\tAccuracy:0.6786\n",
      "한국가스공사 \n",
      "\t RMSE:0.023\tAccuracy:0.7071\n",
      "한국금융지주 \n",
      "\t RMSE:0.026\tAccuracy:0.6536\n",
      "한국단자 \n",
      "\t RMSE:0.017\tAccuracy:0.6607\n",
      "한국쉘석유 \n",
      "\t RMSE:0.012\tAccuracy:0.6250\n",
      "한국전력 \n",
      "\t RMSE:0.017\tAccuracy:0.6607\n",
      "한국콜마 \n",
      "\t RMSE:0.029\tAccuracy:0.6357\n",
      "한국타이어 \n",
      "\t RMSE:0.021\tAccuracy:0.5964\n",
      "한국타이어월드와이드 \n",
      "\t RMSE:0.014\tAccuracy:0.6179\n",
      "한국항공우주 \n",
      "\t RMSE:0.039\tAccuracy:0.6703\n",
      "한라홀딩스 \n",
      "\t RMSE:0.020\tAccuracy:0.6667\n",
      "한미사이언스 \n",
      "\t RMSE:0.034\tAccuracy:0.6250\n",
      "한미약품 \n",
      "\t RMSE:0.031\tAccuracy:0.6607\n",
      "한샘 \n",
      "\t RMSE:0.027\tAccuracy:0.6679\n",
      "한섬 \n",
      "\t RMSE:0.024\tAccuracy:0.7250\n",
      "한세실업 \n",
      "\t RMSE:0.029\tAccuracy:0.6857\n",
      "한솔케미칼 \n",
      "\t RMSE:0.021\tAccuracy:0.6821\n",
      "한온시스템 \n",
      "\t RMSE:0.030\tAccuracy:0.7076\n",
      "한올바이오파마 \n",
      "\t RMSE:0.046\tAccuracy:0.6893\n",
      "한일시멘트 \n",
      "\t RMSE:0.051\tAccuracy:0.7200\n",
      "한전KPS \n",
      "\t RMSE:0.027\tAccuracy:0.7071\n",
      "한전기술 \n",
      "\t RMSE:0.039\tAccuracy:0.7571\n",
      "한진중공업 \n",
      "\t RMSE:0.029\tAccuracy:0.6607\n",
      "한화 \n",
      "\t RMSE:0.022\tAccuracy:0.6607\n",
      "한화생명 \n",
      "\t RMSE:0.019\tAccuracy:0.6000\n",
      "한화에어로스페이스 \n",
      "\t RMSE:0.033\tAccuracy:0.6179\n",
      "한화케미칼 \n",
      "\t RMSE:0.025\tAccuracy:0.7107\n",
      "현대건설 \n",
      "\t RMSE:0.042\tAccuracy:0.6750\n",
      "현대그린푸드 \n",
      "\t RMSE:0.021\tAccuracy:0.6107\n",
      "현대글로비스 \n",
      "\t RMSE:0.026\tAccuracy:0.6964\n",
      "현대리바트 \n",
      "\t RMSE:0.025\tAccuracy:0.6821\n",
      "현대모비스 \n",
      "\t RMSE:0.022\tAccuracy:0.6857\n",
      "현대미포조선 \n",
      "\t RMSE:0.032\tAccuracy:0.6429\n",
      "현대백화점 \n",
      "\t RMSE:0.021\tAccuracy:0.6357\n",
      "현대엘리베이 \n",
      "\t RMSE:0.048\tAccuracy:0.6929\n",
      "현대위아 \n",
      "\t RMSE:0.026\tAccuracy:0.6393\n",
      "현대제철 \n",
      "\t RMSE:0.027\tAccuracy:0.6500\n",
      "현대중공업 \n",
      "\t RMSE:0.038\tAccuracy:0.6218\n",
      "현대차 \n",
      "\t RMSE:0.021\tAccuracy:0.6286\n",
      "현대해상 \n",
      "\t RMSE:0.024\tAccuracy:0.6071\n",
      "현대홈쇼핑 \n",
      "\t RMSE:0.016\tAccuracy:0.6571\n",
      "호텔신라 \n",
      "\t RMSE:0.031\tAccuracy:0.6786\n",
      "효성 \n",
      "\t RMSE:0.038\tAccuracy:0.7263\n",
      "후성 \n",
      "\t RMSE:0.031\tAccuracy:0.5929\n",
      "휴켐스 \n",
      "\t RMSE:0.021\tAccuracy:0.6964\n"
     ]
    }
   ],
   "source": [
    "for key, data in result.items():\n",
    "    print(key, '\\n\\t RMSE:{:.3f}\\tAccuracy:{:.4f}'.format(data[0], data[1]))"
   ]
  },
  {
   "cell_type": "code",
   "execution_count": 22,
   "metadata": {},
   "outputs": [],
   "source": [
    "rmse = [data[0] for key, data in result.items()]\n",
    "acc = [data[1] for key, data in result.items()]"
   ]
  },
  {
   "cell_type": "code",
   "execution_count": 23,
   "metadata": {},
   "outputs": [
    {
     "data": {
      "text/plain": [
       "(0.6579190628559967, 0.02634867249428973)"
      ]
     },
     "execution_count": 23,
     "metadata": {},
     "output_type": "execute_result"
    }
   ],
   "source": [
    "np.mean(acc), np.mean(rmse)"
   ]
  },
  {
   "cell_type": "code",
   "execution_count": 25,
   "metadata": {},
   "outputs": [
    {
     "data": {
      "text/plain": [
       "<matplotlib.legend.Legend at 0x1fdf5889390>"
      ]
     },
     "execution_count": 25,
     "metadata": {},
     "output_type": "execute_result"
    },
    {
     "data": {
      "image/png": "[encoded data removed]",
      "text/plain": [
       "<matplotlib.figure.Figure at 0x1fdf5857978>"
      ]
     },
     "metadata": {},
     "output_type": "display_data"
    }
   ],
   "source": [
    "plt.figure(figsize=(25,7))\n",
    "plt.plot(result['효성'][2], label='Predict', alpha=1)\n",
    "plt.plot(raw_data['효성'].iloc[int(0.8*len(df)):][y], label='real', alpha=.5)\n",
    "plt.grid(True)\n",
    "plt.legend(fontsize=18)"
   ]
  },
  {
   "cell_type": "code",
   "execution_count": 27,
   "metadata": {},
   "outputs": [
    {
     "data": {
      "text/plain": [
       "Text(0.5,1,'1일 후 예측')"
      ]
     },
     "execution_count": 27,
     "metadata": {},
     "output_type": "execute_result"
    },
    {
     "data": {
      "image/png": "[encoded data removed]",
      "text/plain": [
       "<matplotlib.figure.Figure at 0x1fdf57717f0>"
      ]
     },
     "metadata": {},
     "output_type": "display_data"
    }
   ],
   "source": [
    "stock = '롯데정밀화학'\n",
    "real = raw_data[stock].iloc[int(0.8*len(raw_data[stock])):]\n",
    "t = pd.concat((np.exp(real[y] + np.log(real['Open'])), \n",
    "               np.exp(result[stock][2] + np.log(real['Open']))), \n",
    "              axis=1)\n",
    "t.columns = ['real', 'pred']\n",
    "t.plot(figsize=(25,4))\n",
    "plt.legend(fontsize=15)\n",
    "plt.title('1일 후 예측')"
   ]
  },
  {
   "cell_type": "code",
   "execution_count": null,
   "metadata": {},
   "outputs": [],
   "source": []
  }
 ],
 "metadata": {
  "kernelspec": {
   "display_name": "Python 3",
   "language": "python",
   "name": "python3"
  },
  "language_info": {
   "codemirror_mode": {
    "name": "ipython",
    "version": 3
   },
   "file_extension": ".py",
   "mimetype": "text/x-python",
   "name": "python",
   "nbconvert_exporter": "python",
   "pygments_lexer": "ipython3",
   "version": "3.6.5"
  }
 },
 "nbformat": 4,
 "nbformat_minor": 2
}
