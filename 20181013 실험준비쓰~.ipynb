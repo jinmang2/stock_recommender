{
 "cells": [
  {
   "cell_type": "code",
   "execution_count": 20,
   "metadata": {},
   "outputs": [],
   "source": [
    "import warnings\n",
    "warnings.filterwarnings(action='ignore')"
   ]
  },
  {
   "cell_type": "code",
   "execution_count": 1,
   "metadata": {},
   "outputs": [],
   "source": [
    "%run moon_code"
   ]
  },
  {
   "cell_type": "code",
   "execution_count": 2,
   "metadata": {},
   "outputs": [],
   "source": [
    "import matplotlib\n",
    "matplotlib.rcParams['axes.unicode_minus'] = False"
   ]
  },
  {
   "cell_type": "code",
   "execution_count": 3,
   "metadata": {},
   "outputs": [],
   "source": [
    "kospi200, name_dict, code_dict = load_code_name_data(\"./data/data.csv\", True)\n",
    "party_df = load_party_data('party_df.csv')"
   ]
  },
  {
   "cell_type": "code",
   "execution_count": 5,
   "metadata": {},
   "outputs": [],
   "source": [
    "with open('학습준비파일_20181013.pickle', 'rb') as handle:\n",
    "    store = pickle.load(handle)"
   ]
  },
  {
   "cell_type": "code",
   "execution_count": 6,
   "metadata": {},
   "outputs": [],
   "source": [
    "train, test, X_li, scl_X_li, target_li = store"
   ]
  },
  {
   "cell_type": "code",
   "execution_count": 183,
   "metadata": {},
   "outputs": [],
   "source": [
    "%run xgb_modelfit"
   ]
  },
  {
   "cell_type": "code",
   "execution_count": 125,
   "metadata": {},
   "outputs": [
    {
     "data": {
      "text/plain": [
       "XGBClassifier(base_score=0.5, booster='gbtree', colsample_bylevel=1,\n",
       "       colsample_bytree=0.8, gamma=0, learning_rate=0.15, max_delta_step=0,\n",
       "       max_depth=5, min_child_weight=2, missing=None, n_estimators=1000,\n",
       "       n_jobs=1, nthread=4, objective='binary:logistic', random_state=0,\n",
       "       reg_alpha=0, reg_lambda=1, scale_pos_weight=1, seed=27, silent=True,\n",
       "       subsample=0.8)"
      ]
     },
     "execution_count": 125,
     "metadata": {},
     "output_type": "execute_result"
    }
   ],
   "source": [
    "alg"
   ]
  },
  {
   "cell_type": "code",
   "execution_count": 29,
   "metadata": {},
   "outputs": [
    {
     "data": {
      "text/plain": [
       "-1"
      ]
     },
     "execution_count": 29,
     "metadata": {},
     "output_type": "execute_result"
    }
   ],
   "source": [
    "'scl_close_ma_3'.find('vol')"
   ]
  },
  {
   "cell_type": "code",
   "execution_count": 91,
   "metadata": {
    "scrolled": true
   },
   "outputs": [],
   "source": [
    "scl_li = scl_X_li.copy()\n",
    "for ix, i in enumerate(scl_X_li):\n",
    "    if (i.find('returns') != -1) or (i.find('his') != -1) or (i.find('pct') != -1):\n",
    "        scl_li[ix] = scl_X_li[ix][4:]"
   ]
  },
  {
   "cell_type": "markdown",
   "metadata": {},
   "source": [
    "# 실험 1\n",
    "- Predictors : Not-Scaled\n",
    "- Target : Y1"
   ]
  },
  {
   "cell_type": "code",
   "execution_count": 188,
   "metadata": {},
   "outputs": [],
   "source": [
    "alg = XGBClassifier(\n",
    " learning_rate =0.15,\n",
    " n_estimators=1000,\n",
    " max_depth=5,\n",
    " min_child_weight=2,\n",
    " gamma=0,\n",
    " subsample=0.8,\n",
    " colsample_bytree=0.8,\n",
    " objective= 'binary:logistic',\n",
    " nthread=4,\n",
    " scale_pos_weight=1,\n",
    " seed=27)"
   ]
  },
  {
   "cell_type": "code",
   "execution_count": 189,
   "metadata": {},
   "outputs": [],
   "source": [
    "predictors = X_li.copy()\n",
    "target = 'Y1'"
   ]
  },
  {
   "cell_type": "code",
   "execution_count": 190,
   "metadata": {},
   "outputs": [
    {
     "ename": "TypeError",
     "evalue": "modelfit() got multiple values for argument 'alg'",
     "output_type": "error",
     "traceback": [
      "\u001b[1;31m---------------------------------------------------------------------------\u001b[0m",
      "\u001b[1;31mTypeError\u001b[0m                                 Traceback (most recent call last)",
      "\u001b[1;32m<ipython-input-190-700260f5942b>\u001b[0m in \u001b[0;36m<module>\u001b[1;34m()\u001b[0m\n\u001b[1;32m----> 1\u001b[1;33m \u001b[0mresult1\u001b[0m\u001b[1;33m,\u001b[0m \u001b[0mfi_dict1\u001b[0m \u001b[1;33m=\u001b[0m \u001b[0mtemp_calc_feature_importance\u001b[0m\u001b[1;33m(\u001b[0m\u001b[0malg\u001b[0m\u001b[1;33m,\u001b[0m \u001b[0mtrain\u001b[0m\u001b[1;33m,\u001b[0m \u001b[0mtest\u001b[0m\u001b[1;33m,\u001b[0m \u001b[0mpredictors\u001b[0m\u001b[1;33m,\u001b[0m \u001b[0mtarget\u001b[0m\u001b[1;33m)\u001b[0m\u001b[1;33m\u001b[0m\u001b[0m\n\u001b[0m",
      "\u001b[1;32m~\\workspace\\handson-ml-master\\make_article\\xgb_modelfit.py\u001b[0m in \u001b[0;36mtemp_calc_feature_importance\u001b[1;34m(alg, train, test, predictors, target)\u001b[0m\n\u001b[0;32m     70\u001b[0m                                             \u001b[0mtarget\u001b[0m\u001b[1;33m=\u001b[0m\u001b[0mtarget\u001b[0m\u001b[1;33m,\u001b[0m\u001b[1;33m\u001b[0m\u001b[0m\n\u001b[0;32m     71\u001b[0m                                                   \u001b[0mcv_folds\u001b[0m\u001b[1;33m=\u001b[0m\u001b[1;36m5\u001b[0m\u001b[1;33m,\u001b[0m \u001b[0mearly_stopping_rounds\u001b[0m\u001b[1;33m=\u001b[0m\u001b[1;36m20\u001b[0m\u001b[1;33m,\u001b[0m\u001b[1;33m\u001b[0m\u001b[0m\n\u001b[1;32m---> 72\u001b[1;33m                                                   figure=False, model_report=False)\n\u001b[0m\u001b[0;32m     73\u001b[0m         \u001b[0mpred\u001b[0m \u001b[1;33m=\u001b[0m \u001b[0mmodel\u001b[0m\u001b[1;33m.\u001b[0m\u001b[0mpredict\u001b[0m\u001b[1;33m(\u001b[0m\u001b[0mtest\u001b[0m\u001b[1;33m[\u001b[0m\u001b[0mi\u001b[0m\u001b[1;33m]\u001b[0m\u001b[1;33m[\u001b[0m\u001b[0mpredictors\u001b[0m\u001b[1;33m]\u001b[0m\u001b[1;33m)\u001b[0m\u001b[1;33m\u001b[0m\u001b[0m\n\u001b[0;32m     74\u001b[0m         \u001b[1;31m# Calculating Score\u001b[0m\u001b[1;33m\u001b[0m\u001b[1;33m\u001b[0m\u001b[0m\n",
      "\u001b[1;31mTypeError\u001b[0m: modelfit() got multiple values for argument 'alg'"
     ]
    }
   ],
   "source": [
    "result1, fi_dict1 = temp_calc_feature_importance(alg, train, test, predictors, target)"
   ]
  },
  {
   "cell_type": "code",
   "execution_count": 187,
   "metadata": {},
   "outputs": [
    {
     "data": {
      "text/html": [
       "<div>\n",
       "<style scoped>\n",
       "    .dataframe tbody tr th:only-of-type {\n",
       "        vertical-align: middle;\n",
       "    }\n",
       "\n",
       "    .dataframe tbody tr th {\n",
       "        vertical-align: top;\n",
       "    }\n",
       "\n",
       "    .dataframe thead th {\n",
       "        text-align: right;\n",
       "    }\n",
       "</style>\n",
       "<table border=\"1\" class=\"dataframe\">\n",
       "  <thead>\n",
       "    <tr style=\"text-align: right;\">\n",
       "      <th></th>\n",
       "      <th>KB금융</th>\n",
       "      <th>LG화학</th>\n",
       "      <th>NAVER</th>\n",
       "      <th>POSCO</th>\n",
       "      <th>SK텔레콤</th>\n",
       "      <th>SK하이닉스</th>\n",
       "      <th>삼성전자</th>\n",
       "      <th>삼성중공업</th>\n",
       "      <th>셀트리온</th>\n",
       "      <th>현대건설</th>\n",
       "      <th>현대글로비스</th>\n",
       "      <th>현대차</th>\n",
       "    </tr>\n",
       "  </thead>\n",
       "  <tbody>\n",
       "    <tr>\n",
       "      <th>acc</th>\n",
       "      <td>0.541322</td>\n",
       "      <td>0.475207</td>\n",
       "      <td>0.525210</td>\n",
       "      <td>0.541322</td>\n",
       "      <td>0.429752</td>\n",
       "      <td>0.561983</td>\n",
       "      <td>0.551867</td>\n",
       "      <td>0.574380</td>\n",
       "      <td>0.400826</td>\n",
       "      <td>0.495868</td>\n",
       "      <td>0.438017</td>\n",
       "      <td>0.450413</td>\n",
       "    </tr>\n",
       "    <tr>\n",
       "      <th>f1</th>\n",
       "      <td>0.623729</td>\n",
       "      <td>0.086331</td>\n",
       "      <td>0.600707</td>\n",
       "      <td>0.310559</td>\n",
       "      <td>0.434426</td>\n",
       "      <td>0.670807</td>\n",
       "      <td>0.593985</td>\n",
       "      <td>0.225564</td>\n",
       "      <td>0.013605</td>\n",
       "      <td>0.460177</td>\n",
       "      <td>0.531034</td>\n",
       "      <td>0.273224</td>\n",
       "    </tr>\n",
       "    <tr>\n",
       "      <th>pre</th>\n",
       "      <td>0.779661</td>\n",
       "      <td>0.047244</td>\n",
       "      <td>0.809524</td>\n",
       "      <td>0.195312</td>\n",
       "      <td>0.495327</td>\n",
       "      <td>0.824427</td>\n",
       "      <td>0.699115</td>\n",
       "      <td>0.142857</td>\n",
       "      <td>0.007143</td>\n",
       "      <td>0.419355</td>\n",
       "      <td>0.785714</td>\n",
       "      <td>0.255102</td>\n",
       "    </tr>\n",
       "    <tr>\n",
       "      <th>rec</th>\n",
       "      <td>0.519774</td>\n",
       "      <td>0.500000</td>\n",
       "      <td>0.477528</td>\n",
       "      <td>0.757576</td>\n",
       "      <td>0.386861</td>\n",
       "      <td>0.565445</td>\n",
       "      <td>0.516340</td>\n",
       "      <td>0.535714</td>\n",
       "      <td>0.142857</td>\n",
       "      <td>0.509804</td>\n",
       "      <td>0.401042</td>\n",
       "      <td>0.294118</td>\n",
       "    </tr>\n",
       "    <tr>\n",
       "      <th>auc</th>\n",
       "      <td>0.559887</td>\n",
       "      <td>0.486957</td>\n",
       "      <td>0.572097</td>\n",
       "      <td>0.632376</td>\n",
       "      <td>0.436288</td>\n",
       "      <td>0.557232</td>\n",
       "      <td>0.564988</td>\n",
       "      <td>0.557577</td>\n",
       "      <td>0.275684</td>\n",
       "      <td>0.497759</td>\n",
       "      <td>0.490521</td>\n",
       "      <td>0.414575</td>\n",
       "    </tr>\n",
       "  </tbody>\n",
       "</table>\n",
       "</div>"
      ],
      "text/plain": [
       "         KB금융      LG화학     NAVER     POSCO     SK텔레콤    SK하이닉스      삼성전자  \\\n",
       "acc  0.541322  0.475207  0.525210  0.541322  0.429752  0.561983  0.551867   \n",
       "f1   0.623729  0.086331  0.600707  0.310559  0.434426  0.670807  0.593985   \n",
       "pre  0.779661  0.047244  0.809524  0.195312  0.495327  0.824427  0.699115   \n",
       "rec  0.519774  0.500000  0.477528  0.757576  0.386861  0.565445  0.516340   \n",
       "auc  0.559887  0.486957  0.572097  0.632376  0.436288  0.557232  0.564988   \n",
       "\n",
       "        삼성중공업      셀트리온      현대건설    현대글로비스       현대차  \n",
       "acc  0.574380  0.400826  0.495868  0.438017  0.450413  \n",
       "f1   0.225564  0.013605  0.460177  0.531034  0.273224  \n",
       "pre  0.142857  0.007143  0.419355  0.785714  0.255102  \n",
       "rec  0.535714  0.142857  0.509804  0.401042  0.294118  \n",
       "auc  0.557577  0.275684  0.497759  0.490521  0.414575  "
      ]
     },
     "execution_count": 187,
     "metadata": {},
     "output_type": "execute_result"
    }
   ],
   "source": [
    "pd.DataFrame(result1, index=['acc','f1','pre','rec','auc'])"
   ]
  },
  {
   "cell_type": "code",
   "execution_count": 143,
   "metadata": {},
   "outputs": [
    {
     "data": {
      "text/plain": [
       "acc    0.498847\n",
       "f1     0.402012\n",
       "pre    0.455065\n",
       "rec    0.467255\n",
       "auc    0.503828\n",
       "dtype: float64"
      ]
     },
     "execution_count": 143,
     "metadata": {},
     "output_type": "execute_result"
    }
   ],
   "source": [
    "pd.DataFrame(result1, index=['acc','f1','pre','rec','auc']).mean(1)"
   ]
  },
  {
   "cell_type": "code",
   "execution_count": 144,
   "metadata": {},
   "outputs": [
    {
     "data": {
      "text/plain": [
       "his_vol_7              10\n",
       "his_vol_60             10\n",
       "his_vol_30             10\n",
       "his_vol_21              9\n",
       "his_vol_120             8\n",
       "his_vol_100             8\n",
       "volume_ma_3             6\n",
       "his_vol_91              6\n",
       "his_vol_90              6\n",
       "returnsOpenPrevRaw1     5\n",
       "dtype: int64"
      ]
     },
     "execution_count": 144,
     "metadata": {},
     "output_type": "execute_result"
    }
   ],
   "source": [
    "pd.DataFrame(fi_dict1).count(1).sort_values(ascending=False)[:10]"
   ]
  },
  {
   "cell_type": "markdown",
   "metadata": {},
   "source": [
    "# 실험 1-1\n",
    "- predictors : Scaled\n",
    "- target : Y1"
   ]
  },
  {
   "cell_type": "code",
   "execution_count": 145,
   "metadata": {},
   "outputs": [],
   "source": [
    "predictors = scl_li.copy()\n",
    "target = 'Y1'"
   ]
  },
  {
   "cell_type": "code",
   "execution_count": 146,
   "metadata": {},
   "outputs": [],
   "source": [
    "result1_1, fi_dict1_1 = temp_calc_feature_importance(alg, train, test, predictors, target)"
   ]
  },
  {
   "cell_type": "code",
   "execution_count": 147,
   "metadata": {},
   "outputs": [
    {
     "data": {
      "text/html": [
       "<div>\n",
       "<style scoped>\n",
       "    .dataframe tbody tr th:only-of-type {\n",
       "        vertical-align: middle;\n",
       "    }\n",
       "\n",
       "    .dataframe tbody tr th {\n",
       "        vertical-align: top;\n",
       "    }\n",
       "\n",
       "    .dataframe thead th {\n",
       "        text-align: right;\n",
       "    }\n",
       "</style>\n",
       "<table border=\"1\" class=\"dataframe\">\n",
       "  <thead>\n",
       "    <tr style=\"text-align: right;\">\n",
       "      <th></th>\n",
       "      <th>KB금융</th>\n",
       "      <th>LG화학</th>\n",
       "      <th>NAVER</th>\n",
       "      <th>POSCO</th>\n",
       "      <th>SK텔레콤</th>\n",
       "      <th>SK하이닉스</th>\n",
       "      <th>삼성전자</th>\n",
       "      <th>삼성중공업</th>\n",
       "      <th>셀트리온</th>\n",
       "      <th>현대건설</th>\n",
       "      <th>현대글로비스</th>\n",
       "      <th>현대차</th>\n",
       "    </tr>\n",
       "  </thead>\n",
       "  <tbody>\n",
       "    <tr>\n",
       "      <th>acc</th>\n",
       "      <td>0.541322</td>\n",
       "      <td>0.475207</td>\n",
       "      <td>0.525210</td>\n",
       "      <td>0.541322</td>\n",
       "      <td>0.429752</td>\n",
       "      <td>0.561983</td>\n",
       "      <td>0.551867</td>\n",
       "      <td>0.578512</td>\n",
       "      <td>0.396694</td>\n",
       "      <td>0.495868</td>\n",
       "      <td>0.446281</td>\n",
       "      <td>0.450413</td>\n",
       "    </tr>\n",
       "    <tr>\n",
       "      <th>f1</th>\n",
       "      <td>0.626263</td>\n",
       "      <td>0.099291</td>\n",
       "      <td>0.600707</td>\n",
       "      <td>0.310559</td>\n",
       "      <td>0.434426</td>\n",
       "      <td>0.672840</td>\n",
       "      <td>0.593985</td>\n",
       "      <td>0.260870</td>\n",
       "      <td>0.000000</td>\n",
       "      <td>0.460177</td>\n",
       "      <td>0.547297</td>\n",
       "      <td>0.273224</td>\n",
       "    </tr>\n",
       "    <tr>\n",
       "      <th>pre</th>\n",
       "      <td>0.788136</td>\n",
       "      <td>0.055118</td>\n",
       "      <td>0.809524</td>\n",
       "      <td>0.195312</td>\n",
       "      <td>0.495327</td>\n",
       "      <td>0.832061</td>\n",
       "      <td>0.699115</td>\n",
       "      <td>0.171429</td>\n",
       "      <td>0.000000</td>\n",
       "      <td>0.419355</td>\n",
       "      <td>0.826531</td>\n",
       "      <td>0.255102</td>\n",
       "    </tr>\n",
       "    <tr>\n",
       "      <th>rec</th>\n",
       "      <td>0.519553</td>\n",
       "      <td>0.500000</td>\n",
       "      <td>0.477528</td>\n",
       "      <td>0.757576</td>\n",
       "      <td>0.386861</td>\n",
       "      <td>0.564767</td>\n",
       "      <td>0.516340</td>\n",
       "      <td>0.545455</td>\n",
       "      <td>0.000000</td>\n",
       "      <td>0.509804</td>\n",
       "      <td>0.409091</td>\n",
       "      <td>0.294118</td>\n",
       "    </tr>\n",
       "    <tr>\n",
       "      <th>auc</th>\n",
       "      <td>0.561364</td>\n",
       "      <td>0.486842</td>\n",
       "      <td>0.572097</td>\n",
       "      <td>0.632376</td>\n",
       "      <td>0.436288</td>\n",
       "      <td>0.557894</td>\n",
       "      <td>0.564988</td>\n",
       "      <td>0.564593</td>\n",
       "      <td>0.203390</td>\n",
       "      <td>0.497759</td>\n",
       "      <td>0.511364</td>\n",
       "      <td>0.414575</td>\n",
       "    </tr>\n",
       "  </tbody>\n",
       "</table>\n",
       "</div>"
      ],
      "text/plain": [
       "         KB금융      LG화학     NAVER     POSCO     SK텔레콤    SK하이닉스      삼성전자  \\\n",
       "acc  0.541322  0.475207  0.525210  0.541322  0.429752  0.561983  0.551867   \n",
       "f1   0.626263  0.099291  0.600707  0.310559  0.434426  0.672840  0.593985   \n",
       "pre  0.788136  0.055118  0.809524  0.195312  0.495327  0.832061  0.699115   \n",
       "rec  0.519553  0.500000  0.477528  0.757576  0.386861  0.564767  0.516340   \n",
       "auc  0.561364  0.486842  0.572097  0.632376  0.436288  0.557894  0.564988   \n",
       "\n",
       "        삼성중공업      셀트리온      현대건설    현대글로비스       현대차  \n",
       "acc  0.578512  0.396694  0.495868  0.446281  0.450413  \n",
       "f1   0.260870  0.000000  0.460177  0.547297  0.273224  \n",
       "pre  0.171429  0.000000  0.419355  0.826531  0.255102  \n",
       "rec  0.545455  0.000000  0.509804  0.409091  0.294118  \n",
       "auc  0.564593  0.203390  0.497759  0.511364  0.414575  "
      ]
     },
     "execution_count": 147,
     "metadata": {},
     "output_type": "execute_result"
    }
   ],
   "source": [
    "pd.DataFrame(result1_1, index=['acc','f1','pre','rec','auc'])"
   ]
  },
  {
   "cell_type": "code",
   "execution_count": 148,
   "metadata": {},
   "outputs": [
    {
     "data": {
      "text/plain": [
       "acc    0.499536\n",
       "f1     0.406636\n",
       "pre    0.462251\n",
       "rec    0.456758\n",
       "auc    0.500294\n",
       "dtype: float64"
      ]
     },
     "execution_count": 148,
     "metadata": {},
     "output_type": "execute_result"
    }
   ],
   "source": [
    "pd.DataFrame(result1_1, index=['acc','f1','pre','rec','auc']).mean(1)"
   ]
  },
  {
   "cell_type": "code",
   "execution_count": 149,
   "metadata": {},
   "outputs": [
    {
     "data": {
      "text/plain": [
       "his_vol_30              10\n",
       "his_vol_60              10\n",
       "his_vol_7               10\n",
       "his_vol_21               9\n",
       "his_vol_91               8\n",
       "his_vol_100              7\n",
       "his_vol_120              6\n",
       "his_vol_90               6\n",
       "scl_volume_ma_3          5\n",
       "returnsOpenPrevRaw10     4\n",
       "dtype: int64"
      ]
     },
     "execution_count": 149,
     "metadata": {},
     "output_type": "execute_result"
    }
   ],
   "source": [
    "pd.DataFrame(fi_dict1_1).count(1).sort_values(ascending=False)[:10]"
   ]
  },
  {
   "cell_type": "markdown",
   "metadata": {},
   "source": [
    "# 실험 2\n",
    "- predictors : not_scaled\n",
    "- target : Y2"
   ]
  },
  {
   "cell_type": "code",
   "execution_count": 150,
   "metadata": {},
   "outputs": [],
   "source": [
    "predictors = X_li.copy()\n",
    "target = 'Y2'"
   ]
  },
  {
   "cell_type": "code",
   "execution_count": 151,
   "metadata": {},
   "outputs": [],
   "source": [
    "result2, fi_dict2 = temp_calc_feature_importance(alg, train, test, predictors, target)"
   ]
  },
  {
   "cell_type": "code",
   "execution_count": 152,
   "metadata": {},
   "outputs": [
    {
     "data": {
      "text/html": [
       "<div>\n",
       "<style scoped>\n",
       "    .dataframe tbody tr th:only-of-type {\n",
       "        vertical-align: middle;\n",
       "    }\n",
       "\n",
       "    .dataframe tbody tr th {\n",
       "        vertical-align: top;\n",
       "    }\n",
       "\n",
       "    .dataframe thead th {\n",
       "        text-align: right;\n",
       "    }\n",
       "</style>\n",
       "<table border=\"1\" class=\"dataframe\">\n",
       "  <thead>\n",
       "    <tr style=\"text-align: right;\">\n",
       "      <th></th>\n",
       "      <th>KB금융</th>\n",
       "      <th>LG화학</th>\n",
       "      <th>NAVER</th>\n",
       "      <th>POSCO</th>\n",
       "      <th>SK텔레콤</th>\n",
       "      <th>SK하이닉스</th>\n",
       "      <th>삼성전자</th>\n",
       "      <th>삼성중공업</th>\n",
       "      <th>셀트리온</th>\n",
       "      <th>현대건설</th>\n",
       "      <th>현대글로비스</th>\n",
       "      <th>현대차</th>\n",
       "    </tr>\n",
       "  </thead>\n",
       "  <tbody>\n",
       "    <tr>\n",
       "      <th>acc</th>\n",
       "      <td>0.520661</td>\n",
       "      <td>0.549587</td>\n",
       "      <td>0.529412</td>\n",
       "      <td>0.520661</td>\n",
       "      <td>0.553719</td>\n",
       "      <td>0.471074</td>\n",
       "      <td>0.539419</td>\n",
       "      <td>0.636364</td>\n",
       "      <td>0.479339</td>\n",
       "      <td>0.500000</td>\n",
       "      <td>0.471074</td>\n",
       "      <td>0.533058</td>\n",
       "    </tr>\n",
       "    <tr>\n",
       "      <th>f1</th>\n",
       "      <td>0.602740</td>\n",
       "      <td>0.524017</td>\n",
       "      <td>0.559055</td>\n",
       "      <td>0.325581</td>\n",
       "      <td>0.142857</td>\n",
       "      <td>0.438596</td>\n",
       "      <td>0.543210</td>\n",
       "      <td>0.639344</td>\n",
       "      <td>0.483607</td>\n",
       "      <td>0.437209</td>\n",
       "      <td>0.396226</td>\n",
       "      <td>0.553360</td>\n",
       "    </tr>\n",
       "    <tr>\n",
       "      <th>pre</th>\n",
       "      <td>0.721311</td>\n",
       "      <td>0.495868</td>\n",
       "      <td>0.639640</td>\n",
       "      <td>0.235294</td>\n",
       "      <td>0.081081</td>\n",
       "      <td>0.438596</td>\n",
       "      <td>0.554622</td>\n",
       "      <td>0.639344</td>\n",
       "      <td>0.536364</td>\n",
       "      <td>0.443396</td>\n",
       "      <td>0.341463</td>\n",
       "      <td>0.603448</td>\n",
       "    </tr>\n",
       "    <tr>\n",
       "      <th>rec</th>\n",
       "      <td>0.517647</td>\n",
       "      <td>0.555556</td>\n",
       "      <td>0.496503</td>\n",
       "      <td>0.528302</td>\n",
       "      <td>0.600000</td>\n",
       "      <td>0.438596</td>\n",
       "      <td>0.532258</td>\n",
       "      <td>0.639344</td>\n",
       "      <td>0.440299</td>\n",
       "      <td>0.431193</td>\n",
       "      <td>0.471910</td>\n",
       "      <td>0.510949</td>\n",
       "    </tr>\n",
       "    <tr>\n",
       "      <th>auc</th>\n",
       "      <td>0.522712</td>\n",
       "      <td>0.550166</td>\n",
       "      <td>0.537725</td>\n",
       "      <td>0.523410</td>\n",
       "      <td>0.575330</td>\n",
       "      <td>0.469298</td>\n",
       "      <td>0.539633</td>\n",
       "      <td>0.636339</td>\n",
       "      <td>0.484038</td>\n",
       "      <td>0.493792</td>\n",
       "      <td>0.471249</td>\n",
       "      <td>0.536427</td>\n",
       "    </tr>\n",
       "  </tbody>\n",
       "</table>\n",
       "</div>"
      ],
      "text/plain": [
       "         KB금융      LG화학     NAVER     POSCO     SK텔레콤    SK하이닉스      삼성전자  \\\n",
       "acc  0.520661  0.549587  0.529412  0.520661  0.553719  0.471074  0.539419   \n",
       "f1   0.602740  0.524017  0.559055  0.325581  0.142857  0.438596  0.543210   \n",
       "pre  0.721311  0.495868  0.639640  0.235294  0.081081  0.438596  0.554622   \n",
       "rec  0.517647  0.555556  0.496503  0.528302  0.600000  0.438596  0.532258   \n",
       "auc  0.522712  0.550166  0.537725  0.523410  0.575330  0.469298  0.539633   \n",
       "\n",
       "        삼성중공업      셀트리온      현대건설    현대글로비스       현대차  \n",
       "acc  0.636364  0.479339  0.500000  0.471074  0.533058  \n",
       "f1   0.639344  0.483607  0.437209  0.396226  0.553360  \n",
       "pre  0.639344  0.536364  0.443396  0.341463  0.603448  \n",
       "rec  0.639344  0.440299  0.431193  0.471910  0.510949  \n",
       "auc  0.636339  0.484038  0.493792  0.471249  0.536427  "
      ]
     },
     "execution_count": 152,
     "metadata": {},
     "output_type": "execute_result"
    }
   ],
   "source": [
    "pd.DataFrame(result2, index=['acc','f1','pre','rec','auc'])"
   ]
  },
  {
   "cell_type": "code",
   "execution_count": 153,
   "metadata": {},
   "outputs": [
    {
     "data": {
      "text/plain": [
       "acc    0.525364\n",
       "f1     0.470484\n",
       "pre    0.477536\n",
       "rec    0.513546\n",
       "auc    0.528343\n",
       "dtype: float64"
      ]
     },
     "execution_count": 153,
     "metadata": {},
     "output_type": "execute_result"
    }
   ],
   "source": [
    "pd.DataFrame(result2, index=['acc','f1','pre','rec','auc']).mean(1)"
   ]
  },
  {
   "cell_type": "code",
   "execution_count": 154,
   "metadata": {},
   "outputs": [
    {
     "data": {
      "text/plain": [
       "returnsOpenPrevRaw1         8\n",
       "returnsClosePrevMktres1     8\n",
       "returnsClosePrevMktres10    8\n",
       "his_vol_21                  7\n",
       "returnsClosePrevRaw1        7\n",
       "returnsOpenPrevMktres1      7\n",
       "pct_change                  6\n",
       "his_vol_120                 5\n",
       "returnsOpenPrevMktres10     5\n",
       "volume_ma_17                4\n",
       "dtype: int64"
      ]
     },
     "execution_count": 154,
     "metadata": {},
     "output_type": "execute_result"
    }
   ],
   "source": [
    "pd.DataFrame(fi_dict2).count(1).sort_values(ascending=False)[:10]"
   ]
  },
  {
   "cell_type": "markdown",
   "metadata": {},
   "source": [
    "##### 실험 2-1\n",
    "- predictors : scaled\n",
    "- target : Y2"
   ]
  },
  {
   "cell_type": "code",
   "execution_count": 155,
   "metadata": {},
   "outputs": [],
   "source": [
    "predictors = scl_li.copy()\n",
    "target = 'Y2'"
   ]
  },
  {
   "cell_type": "code",
   "execution_count": 156,
   "metadata": {},
   "outputs": [],
   "source": [
    "result2_1, fi_dict2_1 = temp_calc_feature_importance(alg, train, test, predictors, target)"
   ]
  },
  {
   "cell_type": "code",
   "execution_count": 157,
   "metadata": {},
   "outputs": [
    {
     "data": {
      "text/html": [
       "<div>\n",
       "<style scoped>\n",
       "    .dataframe tbody tr th:only-of-type {\n",
       "        vertical-align: middle;\n",
       "    }\n",
       "\n",
       "    .dataframe tbody tr th {\n",
       "        vertical-align: top;\n",
       "    }\n",
       "\n",
       "    .dataframe thead th {\n",
       "        text-align: right;\n",
       "    }\n",
       "</style>\n",
       "<table border=\"1\" class=\"dataframe\">\n",
       "  <thead>\n",
       "    <tr style=\"text-align: right;\">\n",
       "      <th></th>\n",
       "      <th>KB금융</th>\n",
       "      <th>LG화학</th>\n",
       "      <th>NAVER</th>\n",
       "      <th>POSCO</th>\n",
       "      <th>SK텔레콤</th>\n",
       "      <th>SK하이닉스</th>\n",
       "      <th>삼성전자</th>\n",
       "      <th>삼성중공업</th>\n",
       "      <th>셀트리온</th>\n",
       "      <th>현대건설</th>\n",
       "      <th>현대글로비스</th>\n",
       "      <th>현대차</th>\n",
       "    </tr>\n",
       "  </thead>\n",
       "  <tbody>\n",
       "    <tr>\n",
       "      <th>acc</th>\n",
       "      <td>0.520661</td>\n",
       "      <td>0.549587</td>\n",
       "      <td>0.529412</td>\n",
       "      <td>0.520661</td>\n",
       "      <td>0.553719</td>\n",
       "      <td>0.471074</td>\n",
       "      <td>0.539419</td>\n",
       "      <td>0.636364</td>\n",
       "      <td>0.479339</td>\n",
       "      <td>0.500000</td>\n",
       "      <td>0.471074</td>\n",
       "      <td>0.533058</td>\n",
       "    </tr>\n",
       "    <tr>\n",
       "      <th>f1</th>\n",
       "      <td>0.602740</td>\n",
       "      <td>0.524017</td>\n",
       "      <td>0.559055</td>\n",
       "      <td>0.325581</td>\n",
       "      <td>0.142857</td>\n",
       "      <td>0.438596</td>\n",
       "      <td>0.543210</td>\n",
       "      <td>0.639344</td>\n",
       "      <td>0.483607</td>\n",
       "      <td>0.437209</td>\n",
       "      <td>0.396226</td>\n",
       "      <td>0.553360</td>\n",
       "    </tr>\n",
       "    <tr>\n",
       "      <th>pre</th>\n",
       "      <td>0.721311</td>\n",
       "      <td>0.495868</td>\n",
       "      <td>0.639640</td>\n",
       "      <td>0.235294</td>\n",
       "      <td>0.081081</td>\n",
       "      <td>0.438596</td>\n",
       "      <td>0.554622</td>\n",
       "      <td>0.639344</td>\n",
       "      <td>0.536364</td>\n",
       "      <td>0.443396</td>\n",
       "      <td>0.341463</td>\n",
       "      <td>0.603448</td>\n",
       "    </tr>\n",
       "    <tr>\n",
       "      <th>rec</th>\n",
       "      <td>0.517647</td>\n",
       "      <td>0.555556</td>\n",
       "      <td>0.496503</td>\n",
       "      <td>0.528302</td>\n",
       "      <td>0.600000</td>\n",
       "      <td>0.438596</td>\n",
       "      <td>0.532258</td>\n",
       "      <td>0.639344</td>\n",
       "      <td>0.440299</td>\n",
       "      <td>0.431193</td>\n",
       "      <td>0.471910</td>\n",
       "      <td>0.510949</td>\n",
       "    </tr>\n",
       "    <tr>\n",
       "      <th>auc</th>\n",
       "      <td>0.522712</td>\n",
       "      <td>0.550166</td>\n",
       "      <td>0.537725</td>\n",
       "      <td>0.523410</td>\n",
       "      <td>0.575330</td>\n",
       "      <td>0.469298</td>\n",
       "      <td>0.539633</td>\n",
       "      <td>0.636339</td>\n",
       "      <td>0.484038</td>\n",
       "      <td>0.493792</td>\n",
       "      <td>0.471249</td>\n",
       "      <td>0.536427</td>\n",
       "    </tr>\n",
       "  </tbody>\n",
       "</table>\n",
       "</div>"
      ],
      "text/plain": [
       "         KB금융      LG화학     NAVER     POSCO     SK텔레콤    SK하이닉스      삼성전자  \\\n",
       "acc  0.520661  0.549587  0.529412  0.520661  0.553719  0.471074  0.539419   \n",
       "f1   0.602740  0.524017  0.559055  0.325581  0.142857  0.438596  0.543210   \n",
       "pre  0.721311  0.495868  0.639640  0.235294  0.081081  0.438596  0.554622   \n",
       "rec  0.517647  0.555556  0.496503  0.528302  0.600000  0.438596  0.532258   \n",
       "auc  0.522712  0.550166  0.537725  0.523410  0.575330  0.469298  0.539633   \n",
       "\n",
       "        삼성중공업      셀트리온      현대건설    현대글로비스       현대차  \n",
       "acc  0.636364  0.479339  0.500000  0.471074  0.533058  \n",
       "f1   0.639344  0.483607  0.437209  0.396226  0.553360  \n",
       "pre  0.639344  0.536364  0.443396  0.341463  0.603448  \n",
       "rec  0.639344  0.440299  0.431193  0.471910  0.510949  \n",
       "auc  0.636339  0.484038  0.493792  0.471249  0.536427  "
      ]
     },
     "execution_count": 157,
     "metadata": {},
     "output_type": "execute_result"
    }
   ],
   "source": [
    "pd.DataFrame(result2_1, index=['acc','f1','pre','rec','auc'])"
   ]
  },
  {
   "cell_type": "code",
   "execution_count": 158,
   "metadata": {},
   "outputs": [
    {
     "data": {
      "text/plain": [
       "acc    0.525364\n",
       "f1     0.470484\n",
       "pre    0.477536\n",
       "rec    0.513546\n",
       "auc    0.528343\n",
       "dtype: float64"
      ]
     },
     "execution_count": 158,
     "metadata": {},
     "output_type": "execute_result"
    }
   ],
   "source": [
    "pd.DataFrame(result2_1, index=['acc','f1','pre','rec','auc']).mean(1)"
   ]
  },
  {
   "cell_type": "code",
   "execution_count": 159,
   "metadata": {},
   "outputs": [
    {
     "data": {
      "text/plain": [
       "returnsClosePrevMktres1     8\n",
       "returnsClosePrevMktres10    8\n",
       "returnsOpenPrevRaw1         8\n",
       "his_vol_21                  7\n",
       "returnsClosePrevRaw1        7\n",
       "returnsOpenPrevMktres1      7\n",
       "pct_change                  6\n",
       "his_vol_120                 5\n",
       "returnsOpenPrevMktres10     5\n",
       "scl_volume_ma_17            4\n",
       "dtype: int64"
      ]
     },
     "execution_count": 159,
     "metadata": {},
     "output_type": "execute_result"
    }
   ],
   "source": [
    "pd.DataFrame(fi_dict2_1).count(1).sort_values(ascending=False)[:10]"
   ]
  },
  {
   "cell_type": "markdown",
   "metadata": {},
   "source": [
    "# 실험 3\n",
    "- predictors : not_scaled\n",
    "- target : Y3"
   ]
  },
  {
   "cell_type": "code",
   "execution_count": 160,
   "metadata": {},
   "outputs": [],
   "source": [
    "predictors = X_li.copy()\n",
    "target = 'Y3'"
   ]
  },
  {
   "cell_type": "code",
   "execution_count": 161,
   "metadata": {},
   "outputs": [],
   "source": [
    "result3, fi_dict3 = temp_calc_feature_importance(alg, train, test, predictors, target)"
   ]
  },
  {
   "cell_type": "code",
   "execution_count": 162,
   "metadata": {},
   "outputs": [
    {
     "data": {
      "text/html": [
       "<div>\n",
       "<style scoped>\n",
       "    .dataframe tbody tr th:only-of-type {\n",
       "        vertical-align: middle;\n",
       "    }\n",
       "\n",
       "    .dataframe tbody tr th {\n",
       "        vertical-align: top;\n",
       "    }\n",
       "\n",
       "    .dataframe thead th {\n",
       "        text-align: right;\n",
       "    }\n",
       "</style>\n",
       "<table border=\"1\" class=\"dataframe\">\n",
       "  <thead>\n",
       "    <tr style=\"text-align: right;\">\n",
       "      <th></th>\n",
       "      <th>KB금융</th>\n",
       "      <th>LG화학</th>\n",
       "      <th>NAVER</th>\n",
       "      <th>POSCO</th>\n",
       "      <th>SK텔레콤</th>\n",
       "      <th>SK하이닉스</th>\n",
       "      <th>삼성전자</th>\n",
       "      <th>삼성중공업</th>\n",
       "      <th>셀트리온</th>\n",
       "      <th>현대건설</th>\n",
       "      <th>현대글로비스</th>\n",
       "      <th>현대차</th>\n",
       "    </tr>\n",
       "  </thead>\n",
       "  <tbody>\n",
       "    <tr>\n",
       "      <th>acc</th>\n",
       "      <td>0.640496</td>\n",
       "      <td>0.706612</td>\n",
       "      <td>0.726891</td>\n",
       "      <td>0.628099</td>\n",
       "      <td>0.685950</td>\n",
       "      <td>0.578512</td>\n",
       "      <td>0.668050</td>\n",
       "      <td>0.619835</td>\n",
       "      <td>0.619835</td>\n",
       "      <td>0.702479</td>\n",
       "      <td>0.603306</td>\n",
       "      <td>0.644628</td>\n",
       "    </tr>\n",
       "    <tr>\n",
       "      <th>f1</th>\n",
       "      <td>0.599078</td>\n",
       "      <td>0.732075</td>\n",
       "      <td>0.673367</td>\n",
       "      <td>0.625000</td>\n",
       "      <td>0.644860</td>\n",
       "      <td>0.625000</td>\n",
       "      <td>0.694656</td>\n",
       "      <td>0.439024</td>\n",
       "      <td>0.659259</td>\n",
       "      <td>0.714286</td>\n",
       "      <td>0.606557</td>\n",
       "      <td>0.626087</td>\n",
       "    </tr>\n",
       "    <tr>\n",
       "      <th>pre</th>\n",
       "      <td>0.537190</td>\n",
       "      <td>0.702899</td>\n",
       "      <td>0.650485</td>\n",
       "      <td>0.585938</td>\n",
       "      <td>0.610619</td>\n",
       "      <td>0.611511</td>\n",
       "      <td>0.758333</td>\n",
       "      <td>0.336449</td>\n",
       "      <td>0.654412</td>\n",
       "      <td>0.676692</td>\n",
       "      <td>0.685185</td>\n",
       "      <td>0.666667</td>\n",
       "    </tr>\n",
       "    <tr>\n",
       "      <th>rec</th>\n",
       "      <td>0.677083</td>\n",
       "      <td>0.763780</td>\n",
       "      <td>0.697917</td>\n",
       "      <td>0.669643</td>\n",
       "      <td>0.683168</td>\n",
       "      <td>0.639098</td>\n",
       "      <td>0.640845</td>\n",
       "      <td>0.631579</td>\n",
       "      <td>0.664179</td>\n",
       "      <td>0.756303</td>\n",
       "      <td>0.544118</td>\n",
       "      <td>0.590164</td>\n",
       "    </tr>\n",
       "    <tr>\n",
       "      <th>auc</th>\n",
       "      <td>0.646761</td>\n",
       "      <td>0.703629</td>\n",
       "      <td>0.722198</td>\n",
       "      <td>0.630975</td>\n",
       "      <td>0.685556</td>\n",
       "      <td>0.571842</td>\n",
       "      <td>0.673958</td>\n",
       "      <td>0.623898</td>\n",
       "      <td>0.614497</td>\n",
       "      <td>0.703355</td>\n",
       "      <td>0.611681</td>\n",
       "      <td>0.645082</td>\n",
       "    </tr>\n",
       "  </tbody>\n",
       "</table>\n",
       "</div>"
      ],
      "text/plain": [
       "         KB금융      LG화학     NAVER     POSCO     SK텔레콤    SK하이닉스      삼성전자  \\\n",
       "acc  0.640496  0.706612  0.726891  0.628099  0.685950  0.578512  0.668050   \n",
       "f1   0.599078  0.732075  0.673367  0.625000  0.644860  0.625000  0.694656   \n",
       "pre  0.537190  0.702899  0.650485  0.585938  0.610619  0.611511  0.758333   \n",
       "rec  0.677083  0.763780  0.697917  0.669643  0.683168  0.639098  0.640845   \n",
       "auc  0.646761  0.703629  0.722198  0.630975  0.685556  0.571842  0.673958   \n",
       "\n",
       "        삼성중공업      셀트리온      현대건설    현대글로비스       현대차  \n",
       "acc  0.619835  0.619835  0.702479  0.603306  0.644628  \n",
       "f1   0.439024  0.659259  0.714286  0.606557  0.626087  \n",
       "pre  0.336449  0.654412  0.676692  0.685185  0.666667  \n",
       "rec  0.631579  0.664179  0.756303  0.544118  0.590164  \n",
       "auc  0.623898  0.614497  0.703355  0.611681  0.645082  "
      ]
     },
     "execution_count": 162,
     "metadata": {},
     "output_type": "execute_result"
    }
   ],
   "source": [
    "pd.DataFrame(result3, index=['acc','f1','pre','rec','auc'])"
   ]
  },
  {
   "cell_type": "code",
   "execution_count": 163,
   "metadata": {},
   "outputs": [
    {
     "data": {
      "text/plain": [
       "acc    0.652058\n",
       "f1     0.636604\n",
       "pre    0.623032\n",
       "rec    0.663156\n",
       "auc    0.652786\n",
       "dtype: float64"
      ]
     },
     "execution_count": 163,
     "metadata": {},
     "output_type": "execute_result"
    }
   ],
   "source": [
    "pd.DataFrame(result3, index=['acc','f1','pre','rec','auc']).mean(1)"
   ]
  },
  {
   "cell_type": "code",
   "execution_count": 164,
   "metadata": {},
   "outputs": [
    {
     "data": {
      "text/plain": [
       "pct_change                  12\n",
       "returnsClosePrevMktres10    11\n",
       "returnsOpenPrevMktres10      8\n",
       "returnsOpenPrevRaw1          8\n",
       "Volume                       7\n",
       "his_vol_21                   5\n",
       "returnsOpenPrevMktres1       5\n",
       "volume_ma_3                  5\n",
       "volume_ma_11                 4\n",
       "close_ma_17                  3\n",
       "dtype: int64"
      ]
     },
     "execution_count": 164,
     "metadata": {},
     "output_type": "execute_result"
    }
   ],
   "source": [
    "pd.DataFrame(fi_dict3).count(1).sort_values(ascending=False)[:10]"
   ]
  },
  {
   "cell_type": "markdown",
   "metadata": {},
   "source": [
    "##### 실험 3-1\n",
    "- predictors : scaled\n",
    "- target : Y3"
   ]
  },
  {
   "cell_type": "code",
   "execution_count": 178,
   "metadata": {},
   "outputs": [],
   "source": [
    "predictors = scl_li.copy()\n",
    "target = 'Y3'\n",
    "result3_1, fi_dict3_1 = temp_calc_feature_importance(alg, train, test, predictors, target)"
   ]
  },
  {
   "cell_type": "code",
   "execution_count": 179,
   "metadata": {},
   "outputs": [
    {
     "data": {
      "text/html": [
       "<div>\n",
       "<style scoped>\n",
       "    .dataframe tbody tr th:only-of-type {\n",
       "        vertical-align: middle;\n",
       "    }\n",
       "\n",
       "    .dataframe tbody tr th {\n",
       "        vertical-align: top;\n",
       "    }\n",
       "\n",
       "    .dataframe thead th {\n",
       "        text-align: right;\n",
       "    }\n",
       "</style>\n",
       "<table border=\"1\" class=\"dataframe\">\n",
       "  <thead>\n",
       "    <tr style=\"text-align: right;\">\n",
       "      <th></th>\n",
       "      <th>KB금융</th>\n",
       "      <th>LG화학</th>\n",
       "      <th>NAVER</th>\n",
       "      <th>POSCO</th>\n",
       "      <th>SK텔레콤</th>\n",
       "      <th>SK하이닉스</th>\n",
       "      <th>삼성전자</th>\n",
       "      <th>삼성중공업</th>\n",
       "      <th>셀트리온</th>\n",
       "      <th>현대건설</th>\n",
       "      <th>현대글로비스</th>\n",
       "      <th>현대차</th>\n",
       "    </tr>\n",
       "  </thead>\n",
       "  <tbody>\n",
       "    <tr>\n",
       "      <th>acc</th>\n",
       "      <td>0.640496</td>\n",
       "      <td>0.706612</td>\n",
       "      <td>0.726891</td>\n",
       "      <td>0.628099</td>\n",
       "      <td>0.685950</td>\n",
       "      <td>0.578512</td>\n",
       "      <td>0.668050</td>\n",
       "      <td>0.619835</td>\n",
       "      <td>0.619835</td>\n",
       "      <td>0.702479</td>\n",
       "      <td>0.603306</td>\n",
       "      <td>0.644628</td>\n",
       "    </tr>\n",
       "    <tr>\n",
       "      <th>f1</th>\n",
       "      <td>0.599078</td>\n",
       "      <td>0.732075</td>\n",
       "      <td>0.673367</td>\n",
       "      <td>0.625000</td>\n",
       "      <td>0.644860</td>\n",
       "      <td>0.625000</td>\n",
       "      <td>0.694656</td>\n",
       "      <td>0.439024</td>\n",
       "      <td>0.659259</td>\n",
       "      <td>0.714286</td>\n",
       "      <td>0.606557</td>\n",
       "      <td>0.626087</td>\n",
       "    </tr>\n",
       "    <tr>\n",
       "      <th>pre</th>\n",
       "      <td>0.537190</td>\n",
       "      <td>0.702899</td>\n",
       "      <td>0.650485</td>\n",
       "      <td>0.585938</td>\n",
       "      <td>0.610619</td>\n",
       "      <td>0.611511</td>\n",
       "      <td>0.758333</td>\n",
       "      <td>0.336449</td>\n",
       "      <td>0.654412</td>\n",
       "      <td>0.676692</td>\n",
       "      <td>0.685185</td>\n",
       "      <td>0.666667</td>\n",
       "    </tr>\n",
       "    <tr>\n",
       "      <th>rec</th>\n",
       "      <td>0.677083</td>\n",
       "      <td>0.763780</td>\n",
       "      <td>0.697917</td>\n",
       "      <td>0.669643</td>\n",
       "      <td>0.683168</td>\n",
       "      <td>0.639098</td>\n",
       "      <td>0.640845</td>\n",
       "      <td>0.631579</td>\n",
       "      <td>0.664179</td>\n",
       "      <td>0.756303</td>\n",
       "      <td>0.544118</td>\n",
       "      <td>0.590164</td>\n",
       "    </tr>\n",
       "    <tr>\n",
       "      <th>auc</th>\n",
       "      <td>0.646761</td>\n",
       "      <td>0.703629</td>\n",
       "      <td>0.722198</td>\n",
       "      <td>0.630975</td>\n",
       "      <td>0.685556</td>\n",
       "      <td>0.571842</td>\n",
       "      <td>0.673958</td>\n",
       "      <td>0.623898</td>\n",
       "      <td>0.614497</td>\n",
       "      <td>0.703355</td>\n",
       "      <td>0.611681</td>\n",
       "      <td>0.645082</td>\n",
       "    </tr>\n",
       "  </tbody>\n",
       "</table>\n",
       "</div>"
      ],
      "text/plain": [
       "         KB금융      LG화학     NAVER     POSCO     SK텔레콤    SK하이닉스      삼성전자  \\\n",
       "acc  0.640496  0.706612  0.726891  0.628099  0.685950  0.578512  0.668050   \n",
       "f1   0.599078  0.732075  0.673367  0.625000  0.644860  0.625000  0.694656   \n",
       "pre  0.537190  0.702899  0.650485  0.585938  0.610619  0.611511  0.758333   \n",
       "rec  0.677083  0.763780  0.697917  0.669643  0.683168  0.639098  0.640845   \n",
       "auc  0.646761  0.703629  0.722198  0.630975  0.685556  0.571842  0.673958   \n",
       "\n",
       "        삼성중공업      셀트리온      현대건설    현대글로비스       현대차  \n",
       "acc  0.619835  0.619835  0.702479  0.603306  0.644628  \n",
       "f1   0.439024  0.659259  0.714286  0.606557  0.626087  \n",
       "pre  0.336449  0.654412  0.676692  0.685185  0.666667  \n",
       "rec  0.631579  0.664179  0.756303  0.544118  0.590164  \n",
       "auc  0.623898  0.614497  0.703355  0.611681  0.645082  "
      ]
     },
     "execution_count": 179,
     "metadata": {},
     "output_type": "execute_result"
    }
   ],
   "source": [
    "pd.DataFrame(result3_1, index=['acc','f1','pre','rec','auc'])"
   ]
  },
  {
   "cell_type": "code",
   "execution_count": 180,
   "metadata": {},
   "outputs": [
    {
     "data": {
      "text/plain": [
       "acc    0.652058\n",
       "f1     0.636604\n",
       "pre    0.623032\n",
       "rec    0.663156\n",
       "auc    0.652786\n",
       "dtype: float64"
      ]
     },
     "execution_count": 180,
     "metadata": {},
     "output_type": "execute_result"
    }
   ],
   "source": [
    "pd.DataFrame(result3_1, index=['acc','f1','pre','rec','auc']).mean(1)"
   ]
  },
  {
   "cell_type": "code",
   "execution_count": 181,
   "metadata": {},
   "outputs": [
    {
     "data": {
      "text/plain": [
       "pct_change                  12\n",
       "returnsClosePrevMktres10    11\n",
       "returnsOpenPrevMktres10      8\n",
       "returnsOpenPrevRaw1          8\n",
       "scl_Volume                   7\n",
       "his_vol_21                   5\n",
       "scl_volume_ma_3              5\n",
       "returnsOpenPrevMktres1       5\n",
       "scl_volume_ma_11             4\n",
       "scl_close_ma_17              3\n",
       "dtype: int64"
      ]
     },
     "execution_count": 181,
     "metadata": {},
     "output_type": "execute_result"
    }
   ],
   "source": [
    "pd.DataFrame(fi_dict3_1).count(1).sort_values(ascending=False)[:10]"
   ]
  },
  {
   "cell_type": "markdown",
   "metadata": {},
   "source": [
    "# 대조 실험 - Y3"
   ]
  },
  {
   "cell_type": "code",
   "execution_count": 169,
   "metadata": {},
   "outputs": [],
   "source": [
    "origin_X = [i for i in X_li if i.find('returns') != 0]\n",
    "origin_scl_X = [i for i in scl_li if i.find('returns') != 0]"
   ]
  },
  {
   "cell_type": "markdown",
   "metadata": {},
   "source": [
    "## 대조실험 1\n",
    "- predictors : returns~를 제외한 feature\n",
    "- target : Y3"
   ]
  },
  {
   "cell_type": "code",
   "execution_count": 170,
   "metadata": {},
   "outputs": [],
   "source": [
    "predictors = origin_X.copy()\n",
    "target = 'Y3'\n",
    "try:\n",
    "    result, fi_dict = temp_calc_feature_importance(alg, train, test, predictors, target)\n",
    "except ValueError:\n",
    "    pass"
   ]
  },
  {
   "cell_type": "code",
   "execution_count": 171,
   "metadata": {},
   "outputs": [
    {
     "data": {
      "text/html": [
       "<div>\n",
       "<style scoped>\n",
       "    .dataframe tbody tr th:only-of-type {\n",
       "        vertical-align: middle;\n",
       "    }\n",
       "\n",
       "    .dataframe tbody tr th {\n",
       "        vertical-align: top;\n",
       "    }\n",
       "\n",
       "    .dataframe thead th {\n",
       "        text-align: right;\n",
       "    }\n",
       "</style>\n",
       "<table border=\"1\" class=\"dataframe\">\n",
       "  <thead>\n",
       "    <tr style=\"text-align: right;\">\n",
       "      <th></th>\n",
       "      <th>KB금융</th>\n",
       "      <th>LG화학</th>\n",
       "      <th>NAVER</th>\n",
       "      <th>POSCO</th>\n",
       "      <th>SK텔레콤</th>\n",
       "      <th>SK하이닉스</th>\n",
       "      <th>삼성전자</th>\n",
       "      <th>삼성중공업</th>\n",
       "      <th>셀트리온</th>\n",
       "      <th>현대건설</th>\n",
       "      <th>현대글로비스</th>\n",
       "      <th>현대차</th>\n",
       "    </tr>\n",
       "  </thead>\n",
       "  <tbody>\n",
       "    <tr>\n",
       "      <th>acc</th>\n",
       "      <td>0.595041</td>\n",
       "      <td>0.545455</td>\n",
       "      <td>0.647059</td>\n",
       "      <td>0.648760</td>\n",
       "      <td>0.677686</td>\n",
       "      <td>0.566116</td>\n",
       "      <td>0.510373</td>\n",
       "      <td>0.632231</td>\n",
       "      <td>0.595041</td>\n",
       "      <td>0.723140</td>\n",
       "      <td>0.615702</td>\n",
       "      <td>0.694215</td>\n",
       "    </tr>\n",
       "    <tr>\n",
       "      <th>f1</th>\n",
       "      <td>0.644928</td>\n",
       "      <td>0.444444</td>\n",
       "      <td>0.655738</td>\n",
       "      <td>0.709898</td>\n",
       "      <td>0.706767</td>\n",
       "      <td>0.620939</td>\n",
       "      <td>0.473214</td>\n",
       "      <td>0.648221</td>\n",
       "      <td>0.715116</td>\n",
       "      <td>0.721992</td>\n",
       "      <td>0.640927</td>\n",
       "      <td>0.660550</td>\n",
       "    </tr>\n",
       "    <tr>\n",
       "      <th>pre</th>\n",
       "      <td>0.735537</td>\n",
       "      <td>0.318841</td>\n",
       "      <td>0.776699</td>\n",
       "      <td>0.812500</td>\n",
       "      <td>0.831858</td>\n",
       "      <td>0.618705</td>\n",
       "      <td>0.441667</td>\n",
       "      <td>0.766355</td>\n",
       "      <td>0.904412</td>\n",
       "      <td>0.654135</td>\n",
       "      <td>0.768519</td>\n",
       "      <td>0.666667</td>\n",
       "    </tr>\n",
       "    <tr>\n",
       "      <th>rec</th>\n",
       "      <td>0.574194</td>\n",
       "      <td>0.733333</td>\n",
       "      <td>0.567376</td>\n",
       "      <td>0.630303</td>\n",
       "      <td>0.614379</td>\n",
       "      <td>0.623188</td>\n",
       "      <td>0.509615</td>\n",
       "      <td>0.561644</td>\n",
       "      <td>0.591346</td>\n",
       "      <td>0.805556</td>\n",
       "      <td>0.549669</td>\n",
       "      <td>0.654545</td>\n",
       "    </tr>\n",
       "    <tr>\n",
       "      <th>auc</th>\n",
       "      <td>0.603189</td>\n",
       "      <td>0.608425</td>\n",
       "      <td>0.665131</td>\n",
       "      <td>0.659307</td>\n",
       "      <td>0.700448</td>\n",
       "      <td>0.556787</td>\n",
       "      <td>0.510282</td>\n",
       "      <td>0.650614</td>\n",
       "      <td>0.604497</td>\n",
       "      <td>0.731136</td>\n",
       "      <td>0.637472</td>\n",
       "      <td>0.690909</td>\n",
       "    </tr>\n",
       "  </tbody>\n",
       "</table>\n",
       "</div>"
      ],
      "text/plain": [
       "         KB금융      LG화학     NAVER     POSCO     SK텔레콤    SK하이닉스      삼성전자  \\\n",
       "acc  0.595041  0.545455  0.647059  0.648760  0.677686  0.566116  0.510373   \n",
       "f1   0.644928  0.444444  0.655738  0.709898  0.706767  0.620939  0.473214   \n",
       "pre  0.735537  0.318841  0.776699  0.812500  0.831858  0.618705  0.441667   \n",
       "rec  0.574194  0.733333  0.567376  0.630303  0.614379  0.623188  0.509615   \n",
       "auc  0.603189  0.608425  0.665131  0.659307  0.700448  0.556787  0.510282   \n",
       "\n",
       "        삼성중공업      셀트리온      현대건설    현대글로비스       현대차  \n",
       "acc  0.632231  0.595041  0.723140  0.615702  0.694215  \n",
       "f1   0.648221  0.715116  0.721992  0.640927  0.660550  \n",
       "pre  0.766355  0.904412  0.654135  0.768519  0.666667  \n",
       "rec  0.561644  0.591346  0.805556  0.549669  0.654545  \n",
       "auc  0.650614  0.604497  0.731136  0.637472  0.690909  "
      ]
     },
     "execution_count": 171,
     "metadata": {},
     "output_type": "execute_result"
    }
   ],
   "source": [
    "pd.DataFrame(result, index=['acc','f1','pre','rec','auc'])"
   ]
  },
  {
   "cell_type": "code",
   "execution_count": 172,
   "metadata": {},
   "outputs": [
    {
     "data": {
      "text/plain": [
       "acc    0.620902\n",
       "f1     0.636894\n",
       "pre    0.691325\n",
       "rec    0.617929\n",
       "auc    0.634850\n",
       "dtype: float64"
      ]
     },
     "execution_count": 172,
     "metadata": {},
     "output_type": "execute_result"
    }
   ],
   "source": [
    "pd.DataFrame(result, index=['acc','f1','pre','rec','auc']).mean(1)"
   ]
  },
  {
   "cell_type": "code",
   "execution_count": 173,
   "metadata": {},
   "outputs": [
    {
     "data": {
      "text/plain": [
       "pct_change     12\n",
       "Close          10\n",
       "his_vol_120    10\n",
       "his_vol_7       9\n",
       "Low             9\n",
       "Volume          9\n",
       "his_vol_21      8\n",
       "his_vol_30      6\n",
       "High            5\n",
       "Open            5\n",
       "dtype: int64"
      ]
     },
     "execution_count": 173,
     "metadata": {},
     "output_type": "execute_result"
    }
   ],
   "source": [
    "pd.DataFrame(fi_dict).count(1).sort_values(ascending=False)[:10]"
   ]
  },
  {
   "cell_type": "code",
   "execution_count": null,
   "metadata": {},
   "outputs": [],
   "source": []
  },
  {
   "cell_type": "code",
   "execution_count": null,
   "metadata": {},
   "outputs": [],
   "source": []
  },
  {
   "cell_type": "code",
   "execution_count": null,
   "metadata": {},
   "outputs": [],
   "source": []
  },
  {
   "cell_type": "code",
   "execution_count": null,
   "metadata": {},
   "outputs": [],
   "source": []
  }
 ],
 "metadata": {
  "kernelspec": {
   "display_name": "Python 3",
   "language": "python",
   "name": "python3"
  },
  "language_info": {
   "codemirror_mode": {
    "name": "ipython",
    "version": 3
   },
   "file_extension": ".py",
   "mimetype": "text/x-python",
   "name": "python",
   "nbconvert_exporter": "python",
   "pygments_lexer": "ipython3",
   "version": "3.6.5"
  }
 },
 "nbformat": 4,
 "nbformat_minor": 2
}
