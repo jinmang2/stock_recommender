{
 "cells": [
  {
   "cell_type": "code",
   "execution_count": 1,
   "metadata": {},
   "outputs": [],
   "source": [
    "import numpy as np\n",
    "import pandas as pd\n",
    "import matplotlib.pyplot as plt\n",
    "%matplotlib inline\n",
    "\n",
    "import matplotlib\n",
    "matplotlib.rcParams['axes.unicode_minus'] = False\n",
    "\n",
    "from matplotlib import font_manager, rc\n",
    "font_name = font_manager.FontProperties(fname=\"c:/Windows/Fonts/malgun.ttf\").get_name()\n",
    "rc('font', family=font_name)"
   ]
  },
  {
   "cell_type": "code",
   "execution_count": null,
   "metadata": {},
   "outputs": [],
   "source": [
    "fig = plt.figure(figsize=(100, 6))\n",
    "\n",
    "top_axes = plt.subplot2grid((4,4), (0,0), rowspan=3, colspan=4)\n",
    "bottom_axes = plt.subplot2grid((4,4), (3,0), rowspan=1, colspan=4)\n",
    "bottom_axes.get_yaxis().get_major_formatter().set_scientific(False)\n",
    "\n",
    "top_axes.plot(df.index, df['Close'], label='Close')\n",
    "bottom_axes.plot(df.index, df['cci'], color='r')\n",
    "bottom_axes.plot(df.index, np.ones(len(df.index))*100, color='g')\n",
    "bottom_axes.plot(df.index, np.ones(len(df.index))*0, color='y')\n",
    "bottom_axes.plot(df.index, np.ones(len(df.index))*(-100), color='c')\n",
    "\n",
    "plt.tight_layout()\n",
    "plt.show()"
   ]
  },
  {
   "cell_type": "code",
   "execution_count": 33,
   "metadata": {},
   "outputs": [],
   "source": [
    "import pickle\n",
    "with open('raw_data_20181008.pickle', 'rb') as handle:\n",
    "    raw_data = pickle.load(handle)\n",
    "    \n",
    "copy_keys = list(raw_data.keys())\n",
    "for stock in copy_keys:\n",
    "    if len(raw_data[stock].loc[:'2013-01-01']) < 1:\n",
    "        del raw_data[stock]\n",
    "del copy_keys\n",
    "\n",
    "# stock에서 Volume==0인 index, stock에서 제외\n",
    "for key, df in raw_data.items():\n",
    "    raw_data[key] = df.drop(df.index[np.where(df.Volume==0)[0]], axis=0)\n",
    "    del df['Adj Close']\n",
    "    df.Volume = df.Volume / 1e7"
   ]
  },
  {
   "cell_type": "code",
   "execution_count": 74,
   "metadata": {},
   "outputs": [],
   "source": [
    "df = raw_data['롯데정밀화학']"
   ]
  },
  {
   "cell_type": "code",
   "execution_count": 75,
   "metadata": {
    "scrolled": true
   },
   "outputs": [
    {
     "name": "stdout",
     "output_type": "stream",
     "text": [
      "dict_keys([1])\n",
      "dict_keys([1, 2])\n",
      "dict_keys([1, 2, 3])\n",
      "dict_keys([1, 2, 3, 4])\n",
      "dict_keys([1, 2, 3, 4, 5])\n",
      "dict_keys([1, 2, 3, 4, 5, 6])\n",
      "dict_keys([1, 2, 3, 4, 5, 6, 7])\n",
      "dict_keys([1, 2, 3, 4, 5, 6, 7, 8])\n",
      "dict_keys([1, 2, 3, 4, 5, 6, 7, 8, 9])\n",
      "dict_keys([1, 2, 3, 4, 5, 6, 7, 8, 9, 10])\n",
      "dict_keys([1, 2, 3, 4, 5, 6, 7, 8, 9, 10, 11])\n",
      "dict_keys([1, 2, 3, 4, 5, 6, 7, 8, 9, 10, 11, 12])\n",
      "dict_keys([1, 2, 3, 4, 5, 6, 7, 8, 9, 10, 11, 12, 13])\n",
      "dict_keys([1, 2, 3, 4, 5, 6, 7, 8, 9, 10, 11, 12, 13, 14])\n",
      "dict_keys([1, 2, 3, 4, 5, 6, 7, 8, 9, 10, 11, 12, 13, 14, 15])\n",
      "dict_keys([1, 2, 3, 4, 5, 6, 7, 8, 9, 10, 11, 12, 13, 14, 15, 16])\n",
      "dict_keys([1, 2, 3, 4, 5, 6, 7, 8, 9, 10, 11, 12, 13, 14, 15, 16, 17])\n",
      "dict_keys([1, 2, 3, 4, 5, 6, 7, 8, 9, 10, 11, 12, 13, 14, 15, 16, 17, 18])\n",
      "dict_keys([1, 2, 3, 4, 5, 6, 7, 8, 9, 10, 11, 12, 13, 14, 15, 16, 17, 18, 19])\n",
      "dict_keys([1, 2, 3, 4, 5, 6, 7, 8, 9, 10, 11, 12, 13, 14, 15, 16, 17, 18, 19, 20])\n",
      "dict_keys([1, 2, 3, 4, 5, 6, 7, 8, 9, 10, 11, 12, 13, 14, 15, 16, 17, 18, 19, 20, 21])\n",
      "dict_keys([1, 2, 3, 4, 5, 6, 7, 8, 9, 10, 11, 12, 13, 14, 15, 16, 17, 18, 19, 20, 21, 22])\n",
      "dict_keys([1, 2, 3, 4, 5, 6, 7, 8, 9, 10, 11, 12, 13, 14, 15, 16, 17, 18, 19, 20, 21, 22, 23])\n",
      "dict_keys([1, 2, 3, 4, 5, 6, 7, 8, 9, 10, 11, 12, 13, 14, 15, 16, 17, 18, 19, 20, 21, 22, 23, 24])\n",
      "dict_keys([1, 2, 3, 4, 5, 6, 7, 8, 9, 10, 11, 12, 13, 14, 15, 16, 17, 18, 19, 20, 21, 22, 23, 24, 25])\n",
      "dict_keys([1, 2, 3, 4, 5, 6, 7, 8, 9, 10, 11, 12, 13, 14, 15, 16, 17, 18, 19, 20, 21, 22, 23, 24, 25, 26])\n",
      "dict_keys([1, 2, 3, 4, 5, 6, 7, 8, 9, 10, 11, 12, 13, 14, 15, 16, 17, 18, 19, 20, 21, 22, 23, 24, 25, 26, 27])\n",
      "dict_keys([1, 2, 3, 4, 5, 6, 7, 8, 9, 10, 11, 12, 13, 14, 15, 16, 17, 18, 19, 20, 21, 22, 23, 24, 25, 26, 27, 28])\n",
      "dict_keys([1, 2, 3, 4, 5, 6, 7, 8, 9, 10, 11, 12, 13, 14, 15, 16, 17, 18, 19, 20, 21, 22, 23, 24, 25, 26, 27, 28, 29])\n",
      "dict_keys([1, 2, 3, 4, 5, 6, 7, 8, 9, 10, 11, 12, 13, 14, 15, 16, 17, 18, 19, 20, 21, 22, 23, 24, 25, 26, 27, 28, 29, 30])\n"
     ]
    }
   ],
   "source": [
    "data_dict = {}\n",
    "for k in range(1, 91):\n",
    "    raw = pd.DataFrame(index=df.index)\n",
    "    raw['returnsCloseNext{}'.format(k)] = np.log(df['Close'].shift(-1*k) / df['Open'])\n",
    "\n",
    "    # Moving Average\n",
    "    for j in range(1, k+1):\n",
    "        raw['close_ma_{}'.format(j)] = df.Close.rolling(j).mean()\n",
    "\n",
    "    # Return of Change\n",
    "    raw['roc_1'] = df.Close.pct_change(periods=1)\n",
    "    raw['roc_2'] = df.Close.pct_change(periods=2)\n",
    "\n",
    "    # RSI\n",
    "    U = np.where(df.Close.diff(1) > 0, df.Close.diff(1), 0)\n",
    "    D = np.where(df.Close.diff(1) < 0, df.Close.diff(1)*(-1), 0)\n",
    "    for j in range(1, k+1):\n",
    "        m_N = i\n",
    "        AU = pd.DataFrame(U).rolling(window=m_N, min_periods=m_N).mean()\n",
    "        AD = pd.DataFrame(D).rolling(window=m_N, min_periods=m_N).mean()\n",
    "        RSI = AU.div(AD+AU)*100\n",
    "        raw['rsi_{}'.format(j)] = RSI.values\n",
    "\n",
    "        # CV\n",
    "        if j < 5:\n",
    "            pass\n",
    "        else:\n",
    "            raw['his_vol_{}'.format(j)] = df.Close.rolling(j).std() / df.Close.rolling(j).mean()\n",
    "\n",
    "    \n",
    "    for n in [7, 14, 21, 28]:\n",
    "        # William%R\n",
    "        W_R = -100 * ((df.High.rolling(n).max() - df.Close) / \n",
    "           (df.High.rolling(n).max() - df.Low.rolling(n).min()))\n",
    "        raw['w_r'] = W_R\n",
    "\n",
    "        # Stochastic Oscillator\n",
    "        percent_K = 100 * ((df.Close - df.Low.rolling(n).min()) / \n",
    "           (df.High.rolling(n).max() - df.Low.rolling(n).min()))\n",
    "        sto_slowD = percent_K.rolling(3).mean().rolling(3).mean()\n",
    "        raw['sto_slowD'] = sto_slowD\n",
    "        \n",
    "        # Volume Prce Trend\n",
    "        VPT = pd.Series(index=df.index)\n",
    "        VPT.iloc[0] = 0\n",
    "        for n in range(1, len(VPT)):\n",
    "            VPT.iloc[n] = VPT.iloc[n-1] + ((df.Close.diff(1) / df.Close) * df.Volume).iloc[n]\n",
    "        raw['vpt'] = VPT\n",
    "\n",
    "    # Commodity Channel Index\n",
    "    TP = (df.Close + df.Low + df.High) / 3\n",
    "    for window in [10, 20, 30]:\n",
    "        dataX = []\n",
    "        for i in range(len(TP) - window+1):\n",
    "            a = TP.values[i:(i+window)]\n",
    "            dataX.append(a)\n",
    "        dataMean = [i.mean() for i in dataX]\n",
    "        AVEDEV = [abs(x - mean).mean() for x, mean \n",
    "                  in zip(dataX, dataMean)]\n",
    "        for i in range(window-1):\n",
    "            AVEDEV.insert(0,np.nan)\n",
    "        AVEDEV = pd.Series(AVEDEV, index = TP.index)\n",
    "        CCI = (TP - TP.rolling(window).mean()) / (0.015 * AVEDEV)\n",
    "        raw['cci'] = CCI\n",
    "\n",
    "    # Disparity Index\n",
    "    for j in range(5, 31, 5):\n",
    "        DI = 100 * ((df.Close - df.Close.rolling(j).mean()) / \n",
    "                    df.Close.rolling(j).mean())\n",
    "        raw['di{}'.format(j)] = DI\n",
    "    data_dict[k] = raw\n",
    "    print(data_dict.keys())"
   ]
  },
  {
   "cell_type": "code",
   "execution_count": 76,
   "metadata": {},
   "outputs": [],
   "source": [
    "for ix, df2 in data_dict.items():\n",
    "    data_dict[ix] = df2.dropna()"
   ]
  },
  {
   "cell_type": "code",
   "execution_count": 88,
   "metadata": {},
   "outputs": [],
   "source": [
    "for i,j in data_dict.items():\n",
    "    data_dict[i] = j.loc['2013-01-01':'2018-07-31']"
   ]
  },
  {
   "cell_type": "code",
   "execution_count": 89,
   "metadata": {},
   "outputs": [],
   "source": [
    "from xgboost import XGBRegressor\n",
    "xgb_reg = XGBRegressor()"
   ]
  },
  {
   "cell_type": "code",
   "execution_count": 91,
   "metadata": {
    "collapsed": true
   },
   "outputs": [
    {
     "name": "stdout",
     "output_type": "stream",
     "text": [
      "Done : 휴켐스 \n",
      "\t0.1247 sec\n",
      "Done : 휴켐스 \n",
      "\t0.1097 sec\n",
      "Done : 휴켐스 \n",
      "\t0.1416 sec\n",
      "Done : 휴켐스 \n",
      "\t0.1337 sec\n",
      "Done : 휴켐스 \n",
      "\t0.1606 sec\n",
      "Done : 휴켐스 \n",
      "\t0.1735 sec\n",
      "Done : 휴켐스 \n",
      "\t0.2075 sec\n",
      "Done : 휴켐스 \n",
      "\t0.2154 sec\n",
      "Done : 휴켐스 \n",
      "\t0.2344 sec\n",
      "Done : 휴켐스 \n",
      "\t0.2443 sec\n",
      "Done : 휴켐스 \n",
      "\t0.2573 sec\n",
      "Done : 휴켐스 \n",
      "\t0.2972 sec\n",
      "Done : 휴켐스 \n",
      "\t0.3341 sec\n",
      "Done : 휴켐스 \n",
      "\t0.3371 sec\n",
      "Done : 휴켐스 \n",
      "\t0.3271 sec\n",
      "Done : 휴켐스 \n",
      "\t0.3490 sec\n",
      "Done : 휴켐스 \n",
      "\t0.3610 sec\n",
      "Done : 휴켐스 \n",
      "\t0.3930 sec\n",
      "Done : 휴켐스 \n",
      "\t0.4009 sec\n",
      "Done : 휴켐스 \n",
      "\t0.4059 sec\n",
      "Done : 휴켐스 \n",
      "\t0.4528 sec\n",
      "Done : 휴켐스 \n",
      "\t0.4408 sec\n",
      "Done : 휴켐스 \n",
      "\t0.5007 sec\n",
      "Done : 휴켐스 \n",
      "\t0.4727 sec\n",
      "Done : 휴켐스 \n",
      "\t0.4986 sec\n",
      "Done : 휴켐스 \n",
      "\t0.5386 sec\n",
      "Done : 휴켐스 \n",
      "\t0.5336 sec\n",
      "Done : 휴켐스 \n",
      "\t0.5316 sec\n",
      "Done : 휴켐스 \n",
      "\t0.5575 sec\n",
      "Done : 휴켐스 \n",
      "\t0.5715 sec\n"
     ]
    }
   ],
   "source": [
    "import time\n",
    "from sklearn import metrics\n",
    "\n",
    "result = {}\n",
    "start = time.time()\n",
    "for i in data_dict.keys():\n",
    "    semi_start = time.time()\n",
    "    y = 'returnsCloseNext{}'.format(i)\n",
    "    X = [col for col in data_dict[i].columns if col.find('Next') == -1]\n",
    "    train_data = data_dict[i].iloc[:int(0.8*len(data_dict[i]))][X].values\n",
    "    train_label = data_dict[i].iloc[:int(0.8*len(data_dict[i]))][y].values\n",
    "    test_data = data_dict[i].iloc[int(0.8*len(data_dict[i])):][X].values\n",
    "    test_label = data_dict[i].iloc[int(0.8*len(data_dict[i])):][y]\n",
    "    xgb_reg = XGBRegressor()\n",
    "    xgb_reg.fit(train_data, train_label)\n",
    "    pred = pd.Series(xgb_reg.predict(test_data), index=test_label.index)\n",
    "    rmse = metrics.mean_squared_error(test_label.values, pred.values) ** .5\n",
    "    accuracy = metrics.accuracy_score(np.where(test_label.values>0, 1, 0), \n",
    "                       np.where(pred.values>0, 1, 0))\n",
    "    result[i] = [rmse, accuracy, pred]\n",
    "    semi_elapse = time.time() - semi_start\n",
    "    print('Done :', key, '\\n\\t{:.4f} sec'.format(semi_elapse))\n"
   ]
  },
  {
   "cell_type": "code",
   "execution_count": 93,
   "metadata": {},
   "outputs": [],
   "source": [
    "rmse = [data[0] for key, data in result.items()]\n",
    "acc = [data[1] for key, data in result.items()]"
   ]
  },
  {
   "cell_type": "code",
   "execution_count": 95,
   "metadata": {},
   "outputs": [
    {
     "data": {
      "text/plain": [
       "[<matplotlib.lines.Line2D at 0x1f7ad1ab5f8>]"
      ]
     },
     "execution_count": 95,
     "metadata": {},
     "output_type": "execute_result"
    },
    {
     "data": {
      "image/png": "[encoded data removed]",
      "text/plain": [
       "<matplotlib.figure.Figure at 0x1f7acf724e0>"
      ]
     },
     "metadata": {},
     "output_type": "display_data"
    }
   ],
   "source": [
    "plt.plot(acc)"
   ]
  },
  {
   "cell_type": "code",
   "execution_count": null,
   "metadata": {},
   "outputs": [],
   "source": []
  }
 ],
 "metadata": {
  "kernelspec": {
   "display_name": "Python 3",
   "language": "python",
   "name": "python3"
  },
  "language_info": {
   "codemirror_mode": {
    "name": "ipython",
    "version": 3
   },
   "file_extension": ".py",
   "mimetype": "text/x-python",
   "name": "python",
   "nbconvert_exporter": "python",
   "pygments_lexer": "ipython3",
   "version": "3.6.5"
  }
 },
 "nbformat": 4,
 "nbformat_minor": 2
}
