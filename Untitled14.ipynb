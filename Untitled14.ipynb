{
 "cells": [
  {
   "cell_type": "code",
   "execution_count": null,
   "metadata": {},
   "outputs": [],
   "source": [
    "from moon_code import *"
   ]
  },
  {
   "cell_type": "code",
   "execution_count": null,
   "metadata": {},
   "outputs": [],
   "source": [
    "import_all()"
   ]
  },
  {
   "cell_type": "code",
   "execution_count": null,
   "metadata": {},
   "outputs": [],
   "source": [
    "raw_data = load_raw_data('./data/data/raw_data0824.pickle')\n",
    "kospi200, name_dict, code_dict = load_code_name_data('./data/kospi200', return_dict=True)\n",
    "party = load_party_data('./data/party.csv')"
   ]
  },
  {
   "cell_type": "code",
   "execution_count": null,
   "metadata": {},
   "outputs": [],
   "source": [
    "for i in raw_data.keys():\n",
    "    raw_data[i] = raw_data[i].assign(pct_change = raw_data[i].Close.shift(1).pct_change().fillna(0))\n",
    "    raw_data[i] = raw_data[i].assign(pct_change_real = raw_data[i].Close.pct_change().fillna(0))\n",
    "    \n",
    "    raw_data[i] = raw_data[i].assign(close_ma_3 = raw_data[i].Close.rolling(window =3).mean().shift(1))\n",
    "    raw_data[i] = raw_data[i].assign(his_vol_7 = raw_data[i][\"pct_change\"].rolling(window = 7).std()*(252**0.5))\n",
    "    raw_data[i] = raw_data[i].assign(his_vol_21 = raw_data[i][\"pct_change\"].rolling(window = 21).std()*(252**0.5))\n",
    "    \n",
    "    raw_data[i] = raw_data[i].assign(shift_volume = raw_data[i].Volume.shift(1))\n",
    "for i in raw_data.keys():\n",
    "    raw_data[i] = raw_data[i].assign(Y = raw_data[i].Close.rolling(window =7).mean() - raw_data[i].Close.rolling(window =7).mean().shift(1))\n",
    "for i in raw_data.keys():\n",
    "    raw_data[i] = raw_data[i].assign(Y = np.where(raw_data[i].Y>=0, 1, 0))\n",
    "for i in raw_data.keys():\n",
    "    raw_data[i] = raw_data[i].dropna(axis=0)"
   ]
  },
  {
   "cell_type": "code",
   "execution_count": null,
   "metadata": {},
   "outputs": [],
   "source": [
    "data = shift_dataset_make_new(raw_data, feature_list=raw_data.columns, target, shift)\n",
    "df = adjust_window(data, '2012-01-01', '2018-07-31')"
   ]
  },
  {
   "cell_type": "code",
   "execution_count": null,
   "metadata": {},
   "outputs": [],
   "source": [
    "predictors=['his7','close']\n",
    "target='Y2'\n",
    "train, train_idx, test, test_idx = multi_train_test_split(df, 0.8, predictors, target)\n",
    "train, test = multi_train_test_split(df, 0.8, dtrain=True)"
   ]
  },
  {
   "cell_type": "code",
   "execution_count": null,
   "metadata": {},
   "outputs": [],
   "source": [
    "multi_apply_standard_scale(train, test, predictors)"
   ]
  },
  {
   "cell_type": "code",
   "execution_count": null,
   "metadata": {},
   "outputs": [],
   "source": [
    "result, conf = multi_modelfit_with_score(~~)"
   ]
  }
 ],
 "metadata": {
  "kernelspec": {
   "display_name": "Python 3",
   "language": "python",
   "name": "python3"
  },
  "language_info": {
   "codemirror_mode": {
    "name": "ipython",
    "version": 3
   },
   "file_extension": ".py",
   "mimetype": "text/x-python",
   "name": "python",
   "nbconvert_exporter": "python",
   "pygments_lexer": "ipython3",
   "version": "3.6.5"
  }
 },
 "nbformat": 4,
 "nbformat_minor": 2
}
