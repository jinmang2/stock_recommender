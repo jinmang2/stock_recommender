{
 "cells": [
  {
   "cell_type": "raw",
   "metadata": {},
   "source": [
    "% Default to the notebook output style\n",
    "((* if not cell_style is defined *))\n",
    "    ((* set cell_style = 'style_ipython.tplx' *))\n",
    "((* endif *))\n",
    "\n",
    "% Inherit from the specified cell style.\n",
    "((* extends cell_style *))\n",
    "%===============================================================================\n",
    "% Latex Article\n",
    "%===============================================================================\n",
    "\n",
    "((* block docclass *))\n",
    "\\documentclass[11pt]{oblivoir}\n",
    "((* endblock docclass *))"
   ]
  }
 ],
 "metadata": {
  "kernelspec": {
   "display_name": "Python 3",
   "language": "python",
   "name": "python3"
  },
  "language_info": {
   "codemirror_mode": {
    "name": "ipython",
    "version": 3
   },
   "file_extension": ".py",
   "mimetype": "text/x-python",
   "name": "python",
   "nbconvert_exporter": "python",
   "pygments_lexer": "ipython3",
   "version": "3.6.5"
  }
 },
 "nbformat": 4,
 "nbformat_minor": 2
}
