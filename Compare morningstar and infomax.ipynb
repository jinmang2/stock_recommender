{
 "cells": [
  {
   "cell_type": "code",
   "execution_count": 2,
   "metadata": {},
   "outputs": [],
   "source": [
    "import numpy as np\n",
    "import pandas as pd\n",
    "import matplotlib.pyplot as plt\n",
    "%matplotlib inline\n",
    "import matplotlib"
   ]
  },
  {
   "cell_type": "code",
   "execution_count": 3,
   "metadata": {},
   "outputs": [],
   "source": [
    "from matplotlib import font_manager, rc\n",
    "font_name = font_manager.FontProperties(fname=\"c:/Windows/Fonts/malgun.ttf\").get_name()\n",
    "rc('font', family=font_name)\n",
    "matplotlib.rcParams['axes.unicode_minus']=False"
   ]
  },
  {
   "cell_type": "code",
   "execution_count": 34,
   "metadata": {},
   "outputs": [],
   "source": [
    "import pandas_datareader.data\n",
    "from datetime import datetime\n",
    "\n",
    "start = datetime(2017, 2, 9)\n",
    "\n",
    "end = datetime(2017, 5, 24)"
   ]
  },
  {
   "cell_type": "code",
   "execution_count": 39,
   "metadata": {},
   "outputs": [
    {
     "ename": "TypeError",
     "evalue": "close() missing 1 required positional argument: 'self'",
     "output_type": "error",
     "traceback": [
      "\u001b[1;31m---------------------------------------------------------------------------\u001b[0m",
      "\u001b[1;31mTypeError\u001b[0m                                 Traceback (most recent call last)",
      "\u001b[1;32m<ipython-input-39-4de616935677>\u001b[0m in \u001b[0;36m<module>\u001b[1;34m()\u001b[0m\n\u001b[1;32m----> 1\u001b[1;33m \u001b[0mpandas_datareader\u001b[0m\u001b[1;33m.\u001b[0m\u001b[0mmstar\u001b[0m\u001b[1;33m.\u001b[0m\u001b[0mdaily\u001b[0m\u001b[1;33m.\u001b[0m\u001b[0mMorningstarDailyReader\u001b[0m\u001b[1;33m.\u001b[0m\u001b[0mclose\u001b[0m\u001b[1;33m(\u001b[0m\u001b[1;33m)\u001b[0m\u001b[1;33m\u001b[0m\u001b[0m\n\u001b[0m",
      "\u001b[1;31mTypeError\u001b[0m: close() missing 1 required positional argument: 'self'"
     ]
    }
   ],
   "source": [
    "pandas_datareader.mstar.daily.MorningstarDailyReader.close()"
   ]
  },
  {
   "cell_type": "code",
   "execution_count": 55,
   "metadata": {},
   "outputs": [],
   "source": [
    "f1 = pandas_datareader.mstar.daily.MorningstarDailyReader(\"AAPL\", start, end).url"
   ]
  },
  {
   "cell_type": "code",
   "execution_count": 56,
   "metadata": {},
   "outputs": [
    {
     "data": {
      "text/plain": [
       "'http://globalquote.morningstar.com/globalcomponent/RealtimeHistoricalStockData.ashx'"
      ]
     },
     "execution_count": 56,
     "metadata": {},
     "output_type": "execute_result"
    }
   ],
   "source": [
    "f"
   ]
  },
  {
   "cell_type": "code",
   "execution_count": 57,
   "metadata": {},
   "outputs": [
    {
     "data": {
      "text/plain": [
       "'http://globalquote.morningstar.com/globalcomponent/RealtimeHistoricalStockData.ashx'"
      ]
     },
     "execution_count": 57,
     "metadata": {},
     "output_type": "execute_result"
    }
   ],
   "source": [
    "f1"
   ]
  },
  {
   "cell_type": "code",
   "execution_count": null,
   "metadata": {},
   "outputs": [],
   "source": []
  },
  {
   "cell_type": "code",
   "execution_count": 58,
   "metadata": {},
   "outputs": [],
   "source": [
    "code_df = pd.read_html('http://kind.krx.co.kr/corpgeneral/corpList.do?method=download&searchType=13', header=0)[0]\n",
    "\n",
    "# 종목코드가 6자리이기 때문에 6자리를 맞춰주기 위해 설정해줌 \n",
    "\n",
    "code_df.종목코드 = code_df.종목코드.map('{:06d}'.format) \n",
    "\n",
    "# 우리가 필요한 것은 회사명과 종목코드이기 때문에 필요없는 column들은 제외해준다. \n",
    "\n",
    "code_df = code_df[['회사명', '종목코드']] \n",
    "\n",
    "# 한글로된 컬럼명을 영어로 바꿔준다. \n",
    "\n",
    "code_df = code_df.rename(columns={'회사명': 'name', '종목코드': 'code'})"
   ]
  },
  {
   "cell_type": "code",
   "execution_count": 59,
   "metadata": {},
   "outputs": [
    {
     "data": {
      "text/html": [
       "<div>\n",
       "<style scoped>\n",
       "    .dataframe tbody tr th:only-of-type {\n",
       "        vertical-align: middle;\n",
       "    }\n",
       "\n",
       "    .dataframe tbody tr th {\n",
       "        vertical-align: top;\n",
       "    }\n",
       "\n",
       "    .dataframe thead th {\n",
       "        text-align: right;\n",
       "    }\n",
       "</style>\n",
       "<table border=\"1\" class=\"dataframe\">\n",
       "  <thead>\n",
       "    <tr style=\"text-align: right;\">\n",
       "      <th></th>\n",
       "      <th>name</th>\n",
       "      <th>code</th>\n",
       "    </tr>\n",
       "  </thead>\n",
       "  <tbody>\n",
       "    <tr>\n",
       "      <th>0</th>\n",
       "      <td>CJ</td>\n",
       "      <td>001040</td>\n",
       "    </tr>\n",
       "    <tr>\n",
       "      <th>1</th>\n",
       "      <td>HDC</td>\n",
       "      <td>012630</td>\n",
       "    </tr>\n",
       "    <tr>\n",
       "      <th>2</th>\n",
       "      <td>HSD엔진</td>\n",
       "      <td>082740</td>\n",
       "    </tr>\n",
       "    <tr>\n",
       "      <th>3</th>\n",
       "      <td>KG케미칼</td>\n",
       "      <td>001390</td>\n",
       "    </tr>\n",
       "    <tr>\n",
       "      <th>4</th>\n",
       "      <td>LG이노텍</td>\n",
       "      <td>011070</td>\n",
       "    </tr>\n",
       "  </tbody>\n",
       "</table>\n",
       "</div>"
      ],
      "text/plain": [
       "    name    code\n",
       "0     CJ  001040\n",
       "1    HDC  012630\n",
       "2  HSD엔진  082740\n",
       "3  KG케미칼  001390\n",
       "4  LG이노텍  011070"
      ]
     },
     "execution_count": 59,
     "metadata": {},
     "output_type": "execute_result"
    }
   ],
   "source": [
    "code_df.head()"
   ]
  },
  {
   "cell_type": "code",
   "execution_count": 69,
   "metadata": {},
   "outputs": [
    {
     "name": "stdout",
     "output_type": "stream",
     "text": [
      "요청 URL = http://finance.naver.com/item/sise_day.nhn?code=215600\n"
     ]
    },
    {
     "data": {
      "text/html": [
       "<div>\n",
       "<style scoped>\n",
       "    .dataframe tbody tr th:only-of-type {\n",
       "        vertical-align: middle;\n",
       "    }\n",
       "\n",
       "    .dataframe tbody tr th {\n",
       "        vertical-align: top;\n",
       "    }\n",
       "\n",
       "    .dataframe thead th {\n",
       "        text-align: right;\n",
       "    }\n",
       "</style>\n",
       "<table border=\"1\" class=\"dataframe\">\n",
       "  <thead>\n",
       "    <tr style=\"text-align: right;\">\n",
       "      <th></th>\n",
       "      <th>날짜</th>\n",
       "      <th>종가</th>\n",
       "      <th>전일비</th>\n",
       "      <th>시가</th>\n",
       "      <th>고가</th>\n",
       "      <th>저가</th>\n",
       "      <th>거래량</th>\n",
       "    </tr>\n",
       "  </thead>\n",
       "  <tbody>\n",
       "    <tr>\n",
       "      <th>1</th>\n",
       "      <td>2018.08.03</td>\n",
       "      <td>59200.0</td>\n",
       "      <td>700.0</td>\n",
       "      <td>59000.0</td>\n",
       "      <td>60300.0</td>\n",
       "      <td>58200.0</td>\n",
       "      <td>1586942.0</td>\n",
       "    </tr>\n",
       "    <tr>\n",
       "      <th>2</th>\n",
       "      <td>2018.08.02</td>\n",
       "      <td>58500.0</td>\n",
       "      <td>200.0</td>\n",
       "      <td>58600.0</td>\n",
       "      <td>58700.0</td>\n",
       "      <td>55700.0</td>\n",
       "      <td>2381023.0</td>\n",
       "    </tr>\n",
       "    <tr>\n",
       "      <th>3</th>\n",
       "      <td>2018.08.01</td>\n",
       "      <td>58300.0</td>\n",
       "      <td>6100.0</td>\n",
       "      <td>52500.0</td>\n",
       "      <td>60400.0</td>\n",
       "      <td>52400.0</td>\n",
       "      <td>5787849.0</td>\n",
       "    </tr>\n",
       "    <tr>\n",
       "      <th>4</th>\n",
       "      <td>2018.07.31</td>\n",
       "      <td>52200.0</td>\n",
       "      <td>2000.0</td>\n",
       "      <td>49900.0</td>\n",
       "      <td>52700.0</td>\n",
       "      <td>49750.0</td>\n",
       "      <td>1991424.0</td>\n",
       "    </tr>\n",
       "    <tr>\n",
       "      <th>5</th>\n",
       "      <td>2018.07.30</td>\n",
       "      <td>50200.0</td>\n",
       "      <td>800.0</td>\n",
       "      <td>48800.0</td>\n",
       "      <td>51000.0</td>\n",
       "      <td>47550.0</td>\n",
       "      <td>2050824.0</td>\n",
       "    </tr>\n",
       "  </tbody>\n",
       "</table>\n",
       "</div>"
      ],
      "text/plain": [
       "           날짜       종가     전일비       시가       고가       저가        거래량\n",
       "1  2018.08.03  59200.0   700.0  59000.0  60300.0  58200.0  1586942.0\n",
       "2  2018.08.02  58500.0   200.0  58600.0  58700.0  55700.0  2381023.0\n",
       "3  2018.08.01  58300.0  6100.0  52500.0  60400.0  52400.0  5787849.0\n",
       "4  2018.07.31  52200.0  2000.0  49900.0  52700.0  49750.0  1991424.0\n",
       "5  2018.07.30  50200.0   800.0  48800.0  51000.0  47550.0  2050824.0"
      ]
     },
     "execution_count": 69,
     "metadata": {},
     "output_type": "execute_result"
    }
   ],
   "source": [
    "# 종목 이름을 입력하면 종목에 해당하는 코드를 불러와 \n",
    "# 네이버 금융(http://finance.naver.com)에 넣어줌 \n",
    "def get_url(item_name, code_df): \n",
    "    code = code_df.query(\"name=='{}'\".format(item_name))['code'].to_string(index=False) \n",
    "    url = 'http://finance.naver.com/item/sise_day.nhn?code={code}'.format(code=code) \n",
    "    \n",
    "    print(\"요청 URL = {}\".format(url)) \n",
    "    return url \n",
    "\n",
    "# 신라젠의 일자데이터 url 가져오기 \n",
    "item_name='신라젠' \n",
    "url = get_url(item_name, code_df) \n",
    "\n",
    "# 일자 데이터를 담을 df라는 DataFrame 정의 \n",
    "df = pd.DataFrame() \n",
    "\n",
    "# 1페이지에서 20페이지의 데이터만 가져오기 \n",
    "for page in range(1, 1000): \n",
    "    pg_url = '{url}&page={page}'.format(url=url, page=page) \n",
    "    df = df.append(pd.read_html(pg_url, header=0)[0], ignore_index=True) \n",
    "\n",
    "# df.dropna()를 이용해 결측값 있는 행 제거 \n",
    "df = df.dropna() \n",
    "\n",
    "# 상위 5개 데이터 확인하기 \n",
    "df.head()"
   ]
  },
  {
   "cell_type": "code",
   "execution_count": 72,
   "metadata": {},
   "outputs": [
    {
     "data": {
      "text/plain": [
       "1        2018.08.03\n",
       "2        2018.08.02\n",
       "3        2018.08.01\n",
       "4        2018.07.31\n",
       "5        2018.07.30\n",
       "9        2018.07.27\n",
       "10       2018.07.26\n",
       "11       2018.07.25\n",
       "12       2018.07.24\n",
       "13       2018.07.23\n",
       "16       2018.07.20\n",
       "17       2018.07.19\n",
       "18       2018.07.18\n",
       "19       2018.07.17\n",
       "20       2018.07.16\n",
       "24       2018.07.13\n",
       "25       2018.07.12\n",
       "26       2018.07.11\n",
       "27       2018.07.10\n",
       "28       2018.07.09\n",
       "31       2018.07.06\n",
       "32       2018.07.05\n",
       "33       2018.07.04\n",
       "34       2018.07.03\n",
       "35       2018.07.02\n",
       "39       2018.06.29\n",
       "40       2018.06.28\n",
       "41       2018.06.27\n",
       "42       2018.06.26\n",
       "43       2018.06.25\n",
       "            ...    \n",
       "14919    2016.12.07\n",
       "14920    2016.12.06\n",
       "14926    2016.12.14\n",
       "14927    2016.12.13\n",
       "14928    2016.12.12\n",
       "14929    2016.12.09\n",
       "14930    2016.12.08\n",
       "14934    2016.12.07\n",
       "14935    2016.12.06\n",
       "14941    2016.12.14\n",
       "14942    2016.12.13\n",
       "14943    2016.12.12\n",
       "14944    2016.12.09\n",
       "14945    2016.12.08\n",
       "14949    2016.12.07\n",
       "14950    2016.12.06\n",
       "14956    2016.12.14\n",
       "14957    2016.12.13\n",
       "14958    2016.12.12\n",
       "14959    2016.12.09\n",
       "14960    2016.12.08\n",
       "14964    2016.12.07\n",
       "14965    2016.12.06\n",
       "14971    2016.12.14\n",
       "14972    2016.12.13\n",
       "14973    2016.12.12\n",
       "14974    2016.12.09\n",
       "14975    2016.12.08\n",
       "14979    2016.12.07\n",
       "14980    2016.12.06\n",
       "Name: 날짜, Length: 7113, dtype: object"
      ]
     },
     "execution_count": 72,
     "metadata": {},
     "output_type": "execute_result"
    }
   ],
   "source": [
    "df.날짜"
   ]
  },
  {
   "cell_type": "code",
   "execution_count": null,
   "metadata": {},
   "outputs": [],
   "source": []
  }
 ],
 "metadata": {
  "kernelspec": {
   "display_name": "Python 3",
   "language": "python",
   "name": "python3"
  },
  "language_info": {
   "codemirror_mode": {
    "name": "ipython",
    "version": 3
   },
   "file_extension": ".py",
   "mimetype": "text/x-python",
   "name": "python",
   "nbconvert_exporter": "python",
   "pygments_lexer": "ipython3",
   "version": "3.6.5"
  }
 },
 "nbformat": 4,
 "nbformat_minor": 2
}
