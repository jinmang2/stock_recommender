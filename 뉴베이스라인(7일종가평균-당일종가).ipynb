{
 "cells": [
  {
   "cell_type": "code",
   "execution_count": 10,
   "metadata": {},
   "outputs": [],
   "source": [
    "import numpy as np\n",
    "import pandas as pd\n",
    "import matplotlib.pyplot as plt\n",
    "%matplotlib inline\n",
    "import matplotlib"
   ]
  },
  {
   "cell_type": "code",
   "execution_count": 11,
   "metadata": {},
   "outputs": [],
   "source": [
    "from matplotlib import font_manager, rc\n",
    "font_name = font_manager.FontProperties(fname=\"c:/Windows/Fonts/malgun.ttf\").get_name()\n",
    "rc('font', family=font_name)\n",
    "matplotlib.rcParams['axes.unicode_minus']=False"
   ]
  },
  {
   "cell_type": "code",
   "execution_count": 12,
   "metadata": {},
   "outputs": [],
   "source": [
    "plt.rcParams['axes.labelsize'] = 14\n",
    "plt.rcParams['xtick.labelsize'] = 12\n",
    "plt.rcParams['ytick.labelsize'] = 12"
   ]
  },
  {
   "cell_type": "markdown",
   "metadata": {},
   "source": [
    "# 3. Base Line"
   ]
  },
  {
   "cell_type": "code",
   "execution_count": 13,
   "metadata": {},
   "outputs": [],
   "source": [
    "import pickle\n",
    "with open('raw_data_20180811.pickle','rb') as handle:\n",
    "\n",
    "    raw_data = pickle.load(handle)"
   ]
  },
  {
   "cell_type": "code",
   "execution_count": 14,
   "metadata": {},
   "outputs": [],
   "source": [
    "kospi200 = pd.read_excel(\"C:\\\\Users\\\\axasd\\\\Downloads\\\\상장법인목록.xlsx\")\n",
    "kospi200 = kospi200[kospi200.columns[:2]]\n",
    "kospi200[\"종목코드\"] = kospi200[\"종목코드\"].map('{:06d}'.format)"
   ]
  },
  {
   "cell_type": "code",
   "execution_count": 15,
   "metadata": {},
   "outputs": [],
   "source": [
    "code_dict = {\n",
    "    i : j for i, j in zip(kospi200[\"회사명\"], kospi200[\"종목코드\"])\n",
    "}"
   ]
  },
  {
   "cell_type": "code",
   "execution_count": 16,
   "metadata": {},
   "outputs": [],
   "source": [
    "for i in raw_data.keys():\n",
    "    raw_data[i] = raw_data[i].assign(ma_7 = raw_data[i].Close.rolling(window =7).mean())\n",
    "    raw_data[i] = raw_data[i].assign(ma_3 = raw_data[i].Close.rolling(window = 3).mean())\n",
    "    raw_data[i] = raw_data[i].assign(ma_5 = raw_data[i].Close.rolling(window = 5).mean())\n",
    "    raw_data[i] = raw_data[i].assign(ma_10 = raw_data[i].Close.rolling(window = 10).mean())\n",
    "    \n"
   ]
  },
  {
   "cell_type": "code",
   "execution_count": 18,
   "metadata": {},
   "outputs": [],
   "source": [
    "#Y값 계산하는 코드 이거하고 아래 2개\n",
    "for i in raw_data.keys():\n",
    "    raw_data[i] = raw_data[i].assign(ma_close_diff = raw_data[i].Close-raw_data[i].ma_7)"
   ]
  },
  {
   "cell_type": "code",
   "execution_count": 20,
   "metadata": {},
   "outputs": [],
   "source": [
    "for i in raw_data.keys():\n",
    "    raw_data[i] = raw_data[i].assign(Y = np.where(raw_data[i][\"ma_close_diff\"].fillna(0)>=0, 1,0))"
   ]
  },
  {
   "cell_type": "code",
   "execution_count": 21,
   "metadata": {},
   "outputs": [],
   "source": [
    "for i in raw_data.keys():\n",
    "    raw_data[i] = raw_data[i].dropna(axis=0)"
   ]
  },
  {
   "cell_type": "code",
   "execution_count": 23,
   "metadata": {},
   "outputs": [],
   "source": [
    "copy_keys = kospi200[\"종목코드\"]\n",
    "for i in copy_keys:\n",
    "    if (len(raw_data[i]) < 252):\n",
    "        del raw_data[i]"
   ]
  },
  {
   "cell_type": "markdown",
   "metadata": {},
   "source": [
    "### Train, Test Split"
   ]
  },
  {
   "cell_type": "code",
   "execution_count": 24,
   "metadata": {},
   "outputs": [],
   "source": [
    "train = {}\n",
    "train_idx = {}\n",
    "test = {}\n",
    "test_idx = {}\n",
    "for code, df in raw_data.items():\n",
    "    train[code] = df.iloc[:int(len(df)*0.8)][[\"Open\",\"ma_3\",\"ma_5\", \"ma_10\"]]\n",
    "    train_idx[code] = df.iloc[:int(len(df)*0.8)][\"Y\"]\n",
    "    test[code] = df.iloc[int(len(df)*0.8):][[\"Open\",\"ma_3\",\"ma_5\", \"ma_10\"]]\n",
    "    test_idx[code] = df.iloc[int(len(df)*0.8):][\"Y\"]"
   ]
  },
  {
   "cell_type": "markdown",
   "metadata": {},
   "source": [
    "### Scale 조정"
   ]
  },
  {
   "cell_type": "code",
   "execution_count": 25,
   "metadata": {},
   "outputs": [],
   "source": [
    "from sklearn.preprocessing import StandardScaler\n",
    "\n",
    "std_scaler = StandardScaler()\n",
    "li = [\"Open\",\"ma_3\",\"ma_5\", \"ma_10\"]\n",
    "for code in raw_data.keys():\n",
    "    train[code][li] = std_scaler.fit_transform(train[code][li].values)\n",
    "    test[code][li] = std_scaler.fit_transform(test[code][li].values)"
   ]
  },
  {
   "cell_type": "markdown",
   "metadata": {},
   "source": [
    "### model 호출"
   ]
  },
  {
   "cell_type": "code",
   "execution_count": 26,
   "metadata": {},
   "outputs": [],
   "source": [
    "from sklearn.linear_model import LogisticRegression\n",
    "from sklearn.tree import DecisionTreeClassifier\n",
    "from sklearn.svm import SVC\n",
    "from sklearn.metrics import accuracy_score\n",
    "\n",
    "log_clf = LogisticRegression()\n",
    "DTC_clf = DecisionTreeClassifier()\n",
    "svm_clf = SVC()"
   ]
  },
  {
   "cell_type": "markdown",
   "metadata": {},
   "source": [
    "### Predict"
   ]
  },
  {
   "cell_type": "code",
   "execution_count": 30,
   "metadata": {
    "scrolled": true
   },
   "outputs": [],
   "source": [
    "from sklearn.metrics import accuracy_score\n",
    "score_list = pd.DataFrame(columns=('LR','DT','SVM'))\n",
    "\n",
    "for i in raw_data.keys():\n",
    "    a=[]\n",
    "    X_train = train[i].values\n",
    "    y_train = train_idx[i].values\n",
    "    X_test = test[i].values\n",
    "    y_test = test_idx[i].values\n",
    "    for clf in (log_clf, DTC_clf, svm_clf):\n",
    "        clf.fit(X_train, y_train)\n",
    "        y_pred = clf.predict(X_test)\n",
    "        a.append(accuracy_score(y_test, y_pred))\n",
    "    score_list.loc[i] = a"
   ]
  },
  {
   "cell_type": "code",
   "execution_count": 31,
   "metadata": {},
   "outputs": [
    {
     "data": {
      "text/html": [
       "<div>\n",
       "<style scoped>\n",
       "    .dataframe tbody tr th:only-of-type {\n",
       "        vertical-align: middle;\n",
       "    }\n",
       "\n",
       "    .dataframe tbody tr th {\n",
       "        vertical-align: top;\n",
       "    }\n",
       "\n",
       "    .dataframe thead th {\n",
       "        text-align: right;\n",
       "    }\n",
       "</style>\n",
       "<table border=\"1\" class=\"dataframe\">\n",
       "  <thead>\n",
       "    <tr style=\"text-align: right;\">\n",
       "      <th></th>\n",
       "      <th>LR</th>\n",
       "      <th>DT</th>\n",
       "      <th>SVM</th>\n",
       "    </tr>\n",
       "  </thead>\n",
       "  <tbody>\n",
       "    <tr>\n",
       "      <th>count</th>\n",
       "      <td>197.000000</td>\n",
       "      <td>197.000000</td>\n",
       "      <td>197.000000</td>\n",
       "    </tr>\n",
       "    <tr>\n",
       "      <th>mean</th>\n",
       "      <td>0.772219</td>\n",
       "      <td>0.705328</td>\n",
       "      <td>0.732106</td>\n",
       "    </tr>\n",
       "    <tr>\n",
       "      <th>std</th>\n",
       "      <td>0.050259</td>\n",
       "      <td>0.041973</td>\n",
       "      <td>0.068172</td>\n",
       "    </tr>\n",
       "    <tr>\n",
       "      <th>min</th>\n",
       "      <td>0.371517</td>\n",
       "      <td>0.443902</td>\n",
       "      <td>0.312195</td>\n",
       "    </tr>\n",
       "    <tr>\n",
       "      <th>25%</th>\n",
       "      <td>0.761610</td>\n",
       "      <td>0.687307</td>\n",
       "      <td>0.708978</td>\n",
       "    </tr>\n",
       "    <tr>\n",
       "      <th>50%</th>\n",
       "      <td>0.780186</td>\n",
       "      <td>0.708978</td>\n",
       "      <td>0.752322</td>\n",
       "    </tr>\n",
       "    <tr>\n",
       "      <th>75%</th>\n",
       "      <td>0.795666</td>\n",
       "      <td>0.730650</td>\n",
       "      <td>0.773994</td>\n",
       "    </tr>\n",
       "    <tr>\n",
       "      <th>max</th>\n",
       "      <td>0.835913</td>\n",
       "      <td>0.792570</td>\n",
       "      <td>0.832817</td>\n",
       "    </tr>\n",
       "  </tbody>\n",
       "</table>\n",
       "</div>"
      ],
      "text/plain": [
       "               LR          DT         SVM\n",
       "count  197.000000  197.000000  197.000000\n",
       "mean     0.772219    0.705328    0.732106\n",
       "std      0.050259    0.041973    0.068172\n",
       "min      0.371517    0.443902    0.312195\n",
       "25%      0.761610    0.687307    0.708978\n",
       "50%      0.780186    0.708978    0.752322\n",
       "75%      0.795666    0.730650    0.773994\n",
       "max      0.835913    0.792570    0.832817"
      ]
     },
     "execution_count": 31,
     "metadata": {},
     "output_type": "execute_result"
    }
   ],
   "source": [
    "score_list.describe()"
   ]
  },
  {
   "cell_type": "code",
   "execution_count": null,
   "metadata": {},
   "outputs": [],
   "source": []
  }
 ],
 "metadata": {
  "kernelspec": {
   "display_name": "Python 3",
   "language": "python",
   "name": "python3"
  },
  "language_info": {
   "codemirror_mode": {
    "name": "ipython",
    "version": 3
   },
   "file_extension": ".py",
   "mimetype": "text/x-python",
   "name": "python",
   "nbconvert_exporter": "python",
   "pygments_lexer": "ipython3",
   "version": "3.6.5"
  }
 },
 "nbformat": 4,
 "nbformat_minor": 2
}
