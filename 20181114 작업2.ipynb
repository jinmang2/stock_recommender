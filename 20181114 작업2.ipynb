{
 "cells": [
  {
   "cell_type": "markdown",
   "metadata": {},
   "source": [
    "# Import Library"
   ]
  },
  {
   "cell_type": "code",
   "execution_count": 1,
   "metadata": {},
   "outputs": [],
   "source": [
    "import numpy as np\n",
    "import pandas as pd\n",
    "import matplotlib.pyplot as plt\n",
    "%matplotlib inline"
   ]
  },
  {
   "cell_type": "code",
   "execution_count": 2,
   "metadata": {},
   "outputs": [],
   "source": [
    "import matplotlib\n",
    "matplotlib.rcParams['axes.unicode_minus'] = False\n",
    "\n",
    "from matplotlib import font_manager, rc\n",
    "font_name = font_manager.FontProperties(fname=\"c:/Windows/Fonts/malgun.ttf\").get_name()\n",
    "rc('font', family=font_name)"
   ]
  },
  {
   "cell_type": "markdown",
   "metadata": {},
   "source": [
    "# Load DataSet"
   ]
  },
  {
   "cell_type": "code",
   "execution_count": 25,
   "metadata": {},
   "outputs": [
    {
     "name": "stdout",
     "output_type": "stream",
     "text": [
      "[*********************100%***********************]  1 of 1 downloaded\n"
     ]
    }
   ],
   "source": [
    "from pandas_datareader import data as pdr\n",
    "import fix_yahoo_finance\n",
    "sp500 = fix_yahoo_finance.download(\"^GSPC\", start=\"2011-01-01\", end=\"2018-10-30\")"
   ]
  },
  {
   "cell_type": "code",
   "execution_count": 26,
   "metadata": {},
   "outputs": [],
   "source": [
    "sp = sp500.copy()"
   ]
  },
  {
   "cell_type": "code",
   "execution_count": 27,
   "metadata": {},
   "outputs": [
    {
     "data": {
      "text/html": [
       "<div>\n",
       "<style scoped>\n",
       "    .dataframe tbody tr th:only-of-type {\n",
       "        vertical-align: middle;\n",
       "    }\n",
       "\n",
       "    .dataframe tbody tr th {\n",
       "        vertical-align: top;\n",
       "    }\n",
       "\n",
       "    .dataframe thead th {\n",
       "        text-align: right;\n",
       "    }\n",
       "</style>\n",
       "<table border=\"1\" class=\"dataframe\">\n",
       "  <thead>\n",
       "    <tr style=\"text-align: right;\">\n",
       "      <th></th>\n",
       "      <th>Open</th>\n",
       "      <th>High</th>\n",
       "      <th>Low</th>\n",
       "      <th>Close</th>\n",
       "      <th>Adj Close</th>\n",
       "      <th>Volume</th>\n",
       "    </tr>\n",
       "    <tr>\n",
       "      <th>Date</th>\n",
       "      <th></th>\n",
       "      <th></th>\n",
       "      <th></th>\n",
       "      <th></th>\n",
       "      <th></th>\n",
       "      <th></th>\n",
       "    </tr>\n",
       "  </thead>\n",
       "  <tbody>\n",
       "    <tr>\n",
       "      <th>2010-12-31</th>\n",
       "      <td>1256.760010</td>\n",
       "      <td>1259.339966</td>\n",
       "      <td>1254.189941</td>\n",
       "      <td>1257.640015</td>\n",
       "      <td>1257.640015</td>\n",
       "      <td>1799770000</td>\n",
       "    </tr>\n",
       "    <tr>\n",
       "      <th>2011-01-03</th>\n",
       "      <td>1257.619995</td>\n",
       "      <td>1276.170044</td>\n",
       "      <td>1257.619995</td>\n",
       "      <td>1271.869995</td>\n",
       "      <td>1271.869995</td>\n",
       "      <td>-8297296</td>\n",
       "    </tr>\n",
       "    <tr>\n",
       "      <th>2011-01-04</th>\n",
       "      <td>1272.949951</td>\n",
       "      <td>1274.119995</td>\n",
       "      <td>1262.660034</td>\n",
       "      <td>1270.199951</td>\n",
       "      <td>1270.199951</td>\n",
       "      <td>501452704</td>\n",
       "    </tr>\n",
       "    <tr>\n",
       "      <th>2011-01-05</th>\n",
       "      <td>1268.780029</td>\n",
       "      <td>1277.630005</td>\n",
       "      <td>1265.359985</td>\n",
       "      <td>1276.560059</td>\n",
       "      <td>1276.560059</td>\n",
       "      <td>469952704</td>\n",
       "    </tr>\n",
       "    <tr>\n",
       "      <th>2011-01-06</th>\n",
       "      <td>1276.290039</td>\n",
       "      <td>1278.170044</td>\n",
       "      <td>1270.430054</td>\n",
       "      <td>1273.849976</td>\n",
       "      <td>1273.849976</td>\n",
       "      <td>549132704</td>\n",
       "    </tr>\n",
       "  </tbody>\n",
       "</table>\n",
       "</div>"
      ],
      "text/plain": [
       "                   Open         High          Low        Close    Adj Close  \\\n",
       "Date                                                                          \n",
       "2010-12-31  1256.760010  1259.339966  1254.189941  1257.640015  1257.640015   \n",
       "2011-01-03  1257.619995  1276.170044  1257.619995  1271.869995  1271.869995   \n",
       "2011-01-04  1272.949951  1274.119995  1262.660034  1270.199951  1270.199951   \n",
       "2011-01-05  1268.780029  1277.630005  1265.359985  1276.560059  1276.560059   \n",
       "2011-01-06  1276.290039  1278.170044  1270.430054  1273.849976  1273.849976   \n",
       "\n",
       "                Volume  \n",
       "Date                    \n",
       "2010-12-31  1799770000  \n",
       "2011-01-03    -8297296  \n",
       "2011-01-04   501452704  \n",
       "2011-01-05   469952704  \n",
       "2011-01-06   549132704  "
      ]
     },
     "execution_count": 27,
     "metadata": {},
     "output_type": "execute_result"
    }
   ],
   "source": [
    "sp500.head()"
   ]
  },
  {
   "cell_type": "code",
   "execution_count": 28,
   "metadata": {},
   "outputs": [],
   "source": [
    "del sp500['Volume']"
   ]
  },
  {
   "cell_type": "code",
   "execution_count": 29,
   "metadata": {},
   "outputs": [],
   "source": [
    "sp500[\"pct_change\"] = sp500.Close.pct_change()\n",
    "for i in range(3, 31, 2):\n",
    "    sp500[\"close_ma_{}\".format(i)] = \\\n",
    "      sp500.Close.rolling(window = i).mean()\n",
    "for i in [7, 21, 30, 60, 90, 91, 100, 120]:\n",
    "    sp500[\"his_vol_{}\".format(i)] = \\\n",
    "      sp500[\"pct_change\"].rolling(window = i).std()*(252**0.5)\n",
    "for i in [1, 3, 5, 7, 10, 12, 14]:\n",
    "    sp500['returnsCC{}'.format(i)] = \\\n",
    "      np.log(sp500.Close / sp500.Close.shift(i))\n",
    "    sp500['returnsOO{}'.format(i)] = \\\n",
    "      np.log(sp500.Open / sp500.Open.shift(i))\n",
    "    sp500['returnsCO{}'.format(i)] = \\\n",
    "      np.log(sp500.Open / sp500.Close.shift(i))\n",
    "    sp500['returnsOC{}'.format(i)] = \\\n",
    "      np.log(sp500.Close / sp500.Open.shift(i))\n",
    "for i in [1, 3, 5, 7, 10, 15, 20, 25, 30, 35, 40, \n",
    "          45, 50, 55, 60, 65, 70, 75, 80, 85, 90, \n",
    "          95, 100, 105, 110, 115, 120]:\n",
    "    for shift in [1, 2, 3, 4, 5, 6, 7, 8, 9, 10]:\n",
    "        sp500['Y1_{}_s{}'.format(i, shift)] = \\\n",
    "          (sp500.Close - sp500.Close.shift(shift).rolling(i).mean())\n",
    "        sp500['Y3_{}_s{}'.format(i, shift)] = \\\n",
    "          (sp500.Close.rolling(i).mean() - sp500.Close.shift(shift).rolling(i).mean())\n",
    "        sp500['sh{}_Y1_{}'.format(shift, i)] = \\\n",
    "          np.where((sp500['Y1_{}_s{}'.format(i, shift)]).shift(-1*shift)>=0, 1, 0)\n",
    "        sp500['sh{}_Y3_{}'.format(shift, i)] = \\\n",
    "          np.where((sp500['Y3_{}_s{}'.format(i, shift)]).shift(-1*shift)>=0, 1, 0)\n",
    "        sp500['sh{}_Y_val'.format(shift)] = \\\n",
    "          (sp500.Close - sp500.Close.shift(shift)).shift(-1*shift)\n",
    "        \n",
    "sp500_test = sp500.loc['2018-07-01':'2018-10-01']\n",
    "sp500 = sp500.loc['2013-07-01':'2018-07-01']"
   ]
  },
  {
   "cell_type": "code",
   "execution_count": 59,
   "metadata": {},
   "outputs": [],
   "source": [
    "sp1 = sp500.copy()\n"
   ]
  }
 ],
 "metadata": {
  "kernelspec": {
   "display_name": "Python 3",
   "language": "python",
   "name": "python3"
  },
  "language_info": {
   "codemirror_mode": {
    "name": "ipython",
    "version": 3
   },
   "file_extension": ".py",
   "mimetype": "text/x-python",
   "name": "python",
   "nbconvert_exporter": "python",
   "pygments_lexer": "ipython3",
   "version": "3.6.5"
  }
 },
 "nbformat": 4,
 "nbformat_minor": 2
}
