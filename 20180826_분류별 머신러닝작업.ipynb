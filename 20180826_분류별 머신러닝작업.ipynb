{
 "cells": [
  {
   "cell_type": "code",
   "execution_count": 1,
   "metadata": {},
   "outputs": [],
   "source": [
    "import numpy as np\n",
    "import pandas as pd\n",
    "import matplotlib.pyplot as plt\n",
    "%matplotlib inline\n",
    "\n",
    "import matplotlib\n",
    "from matplotlib import font_manager, rc\n",
    "font_name = font_manager.FontProperties(fname=\"c:/Windows/Fonts/malgun.ttf\").get_name()\n",
    "rc('font', family=font_name)\n",
    "matplotlib.rcParams['axes.unicode_minus']=False\n",
    "\n",
    "plt.rcParams['axes.labelsize'] = 14\n",
    "plt.rcParams['xtick.labelsize'] = 12\n",
    "plt.rcParams['ytick.labelsize'] = 12"
   ]
  },
  {
   "cell_type": "code",
   "execution_count": 2,
   "metadata": {},
   "outputs": [],
   "source": [
    "def train_test_split(df, train_ratio, X, y, random = False, dtrain = False):\n",
    "    \"\"\"\n",
    "    Argument\n",
    "    df : DataFrame object\n",
    "    train_ratio : float, in range(0,1)\n",
    "    X : sequence data, such as list, tuple (Train Features)\n",
    "    y : str\n",
    "    random : boolean, you need \"numpy\" library cause we use np.random.permutation function.\n",
    "    \n",
    "    Return\n",
    "    train : 학습시킬 Feature data\n",
    "    train_idx : 지도학습의 Y value\n",
    "    test : test 검증할 Feature data\n",
    "    test_idx : test set의 Y value\n",
    "    \"\"\"\n",
    "    train_size = int(len(df)*train_ratio)\n",
    "    if random:\n",
    "        shuffle_indicies = np.random.permutation(len(df))\n",
    "        train_indicies = shuffle_indicies[:train_size]\n",
    "        test_indicies = shuffle_indicies[train_size:]\n",
    "    else:\n",
    "        normal_indicies = np.arange(len(df))\n",
    "        train_indicies = normal_indicies[:train_size]\n",
    "        test_indicies = normal_indicies[train_size:]\n",
    "    if dtrain:\n",
    "        train = df.iloc[:train_size]\n",
    "        train_idx = df.iloc[:train_size]\n",
    "        test = df.iloc[train_size:]\n",
    "        test_idx = df.iloc[train_size:]\n",
    "    else:\n",
    "        train = df.iloc[:train_size][X]\n",
    "        train_idx = df.iloc[:train_size][y]\n",
    "        test = df.iloc[train_size:][X]\n",
    "        test_idx = df.iloc[train_size:][y]\n",
    "    return train, train_idx, test, test_idx"
   ]
  },
  {
   "cell_type": "code",
   "execution_count": 3,
   "metadata": {},
   "outputs": [],
   "source": [
    "kospi200 = pd.read_csv(\"./data/data.csv\", encoding=\"cp949\")\n",
    "kospi200 = kospi200[kospi200.columns[:2]]\n",
    "kospi200[\"종목코드\"] = kospi200[\"종목코드\"].map('{:06d}'.format)\n",
    "\n",
    "name_dict = { i : j for i, j in zip(kospi200[\"종목명\"], kospi200[\"종목코드\"]) }\n",
    "code_dict = { j : i for i, j in zip(kospi200[\"종목명\"], kospi200[\"종목코드\"]) }"
   ]
  },
  {
   "cell_type": "code",
   "execution_count": 4,
   "metadata": {},
   "outputs": [],
   "source": [
    "import pickle\n",
    "with open('raw_data_20180824.pickle','rb') as handle:\n",
    "    raw_data = pickle.load(handle)"
   ]
  },
  {
   "cell_type": "code",
   "execution_count": 5,
   "metadata": {},
   "outputs": [
    {
     "data": {
      "text/html": [
       "<div>\n",
       "<style scoped>\n",
       "    .dataframe tbody tr th:only-of-type {\n",
       "        vertical-align: middle;\n",
       "    }\n",
       "\n",
       "    .dataframe tbody tr th {\n",
       "        vertical-align: top;\n",
       "    }\n",
       "\n",
       "    .dataframe thead th {\n",
       "        text-align: right;\n",
       "    }\n",
       "</style>\n",
       "<table border=\"1\" class=\"dataframe\">\n",
       "  <thead>\n",
       "    <tr style=\"text-align: right;\">\n",
       "      <th></th>\n",
       "      <th>Open</th>\n",
       "      <th>High</th>\n",
       "      <th>Low</th>\n",
       "      <th>Close</th>\n",
       "      <th>Adj Close</th>\n",
       "      <th>Volume</th>\n",
       "    </tr>\n",
       "    <tr>\n",
       "      <th>Date</th>\n",
       "      <th></th>\n",
       "      <th></th>\n",
       "      <th></th>\n",
       "      <th></th>\n",
       "      <th></th>\n",
       "      <th></th>\n",
       "    </tr>\n",
       "  </thead>\n",
       "  <tbody>\n",
       "    <tr>\n",
       "      <th>2000-01-04</th>\n",
       "      <td>6000.0</td>\n",
       "      <td>6110.0</td>\n",
       "      <td>5660.0</td>\n",
       "      <td>6110.0</td>\n",
       "      <td>0.092131</td>\n",
       "      <td>74195000</td>\n",
       "    </tr>\n",
       "    <tr>\n",
       "      <th>2000-01-05</th>\n",
       "      <td>5800.0</td>\n",
       "      <td>6060.0</td>\n",
       "      <td>5520.0</td>\n",
       "      <td>5580.0</td>\n",
       "      <td>0.084139</td>\n",
       "      <td>74680000</td>\n",
       "    </tr>\n",
       "    <tr>\n",
       "      <th>2000-01-06</th>\n",
       "      <td>5750.0</td>\n",
       "      <td>5780.0</td>\n",
       "      <td>5580.0</td>\n",
       "      <td>5620.0</td>\n",
       "      <td>0.084743</td>\n",
       "      <td>54390000</td>\n",
       "    </tr>\n",
       "    <tr>\n",
       "      <th>2000-01-07</th>\n",
       "      <td>5560.0</td>\n",
       "      <td>5670.0</td>\n",
       "      <td>5360.0</td>\n",
       "      <td>5540.0</td>\n",
       "      <td>0.083536</td>\n",
       "      <td>40305000</td>\n",
       "    </tr>\n",
       "    <tr>\n",
       "      <th>2000-01-10</th>\n",
       "      <td>5600.0</td>\n",
       "      <td>5770.0</td>\n",
       "      <td>5580.0</td>\n",
       "      <td>5770.0</td>\n",
       "      <td>0.087004</td>\n",
       "      <td>46880000</td>\n",
       "    </tr>\n",
       "  </tbody>\n",
       "</table>\n",
       "</div>"
      ],
      "text/plain": [
       "              Open    High     Low   Close  Adj Close    Volume\n",
       "Date                                                           \n",
       "2000-01-04  6000.0  6110.0  5660.0  6110.0   0.092131  74195000\n",
       "2000-01-05  5800.0  6060.0  5520.0  5580.0   0.084139  74680000\n",
       "2000-01-06  5750.0  5780.0  5580.0  5620.0   0.084743  54390000\n",
       "2000-01-07  5560.0  5670.0  5360.0  5540.0   0.083536  40305000\n",
       "2000-01-10  5600.0  5770.0  5580.0  5770.0   0.087004  46880000"
      ]
     },
     "execution_count": 5,
     "metadata": {},
     "output_type": "execute_result"
    }
   ],
   "source": [
    "raw_data[name_dict['삼성전자']].head()"
   ]
  },
  {
   "cell_type": "code",
   "execution_count": 6,
   "metadata": {},
   "outputs": [],
   "source": [
    "party_df = pd.read_csv('party_df.csv')"
   ]
  },
  {
   "cell_type": "code",
   "execution_count": 7,
   "metadata": {},
   "outputs": [],
   "source": [
    "party_df[\"종목코드\"] = party_df[\"종목코드\"].map('{:06d}'.format)"
   ]
  },
  {
   "cell_type": "code",
   "execution_count": 8,
   "metadata": {},
   "outputs": [
    {
     "data": {
      "text/html": [
       "<div>\n",
       "<style scoped>\n",
       "    .dataframe tbody tr th:only-of-type {\n",
       "        vertical-align: middle;\n",
       "    }\n",
       "\n",
       "    .dataframe tbody tr th {\n",
       "        vertical-align: top;\n",
       "    }\n",
       "\n",
       "    .dataframe thead th {\n",
       "        text-align: right;\n",
       "    }\n",
       "</style>\n",
       "<table border=\"1\" class=\"dataframe\">\n",
       "  <thead>\n",
       "    <tr style=\"text-align: right;\">\n",
       "      <th></th>\n",
       "      <th>업종</th>\n",
       "      <th>영문코드</th>\n",
       "      <th>종목명</th>\n",
       "      <th>종목코드</th>\n",
       "      <th>시가총액</th>\n",
       "      <th>income</th>\n",
       "    </tr>\n",
       "  </thead>\n",
       "  <tbody>\n",
       "    <tr>\n",
       "      <th>0</th>\n",
       "      <td>정보기술</td>\n",
       "      <td>SEC</td>\n",
       "      <td>삼성전자</td>\n",
       "      <td>005930</td>\n",
       "      <td>296893767375000</td>\n",
       "      <td>high</td>\n",
       "    </tr>\n",
       "    <tr>\n",
       "      <th>1</th>\n",
       "      <td>정보기술</td>\n",
       "      <td>SKH</td>\n",
       "      <td>SK하이닉스</td>\n",
       "      <td>000660</td>\n",
       "      <td>62826604099500</td>\n",
       "      <td>high</td>\n",
       "    </tr>\n",
       "    <tr>\n",
       "      <th>2</th>\n",
       "      <td>헬스케어</td>\n",
       "      <td>CTRN</td>\n",
       "      <td>셀트리온</td>\n",
       "      <td>068270</td>\n",
       "      <td>34044987664500</td>\n",
       "      <td>high</td>\n",
       "    </tr>\n",
       "    <tr>\n",
       "      <th>3</th>\n",
       "      <td>철강소재</td>\n",
       "      <td>POSCO</td>\n",
       "      <td>POSCO</td>\n",
       "      <td>005490</td>\n",
       "      <td>28815248967500</td>\n",
       "      <td>high</td>\n",
       "    </tr>\n",
       "    <tr>\n",
       "      <th>4</th>\n",
       "      <td>경기소비재</td>\n",
       "      <td>HMC</td>\n",
       "      <td>현대차</td>\n",
       "      <td>005380</td>\n",
       "      <td>28525804030500</td>\n",
       "      <td>high</td>\n",
       "    </tr>\n",
       "  </tbody>\n",
       "</table>\n",
       "</div>"
      ],
      "text/plain": [
       "      업종   영문코드     종목명    종목코드             시가총액 income\n",
       "0   정보기술    SEC    삼성전자  005930  296893767375000   high\n",
       "1   정보기술    SKH  SK하이닉스  000660   62826604099500   high\n",
       "2   헬스케어   CTRN    셀트리온  068270   34044987664500   high\n",
       "3   철강소재  POSCO   POSCO  005490   28815248967500   high\n",
       "4  경기소비재    HMC     현대차  005380   28525804030500   high"
      ]
     },
     "execution_count": 8,
     "metadata": {},
     "output_type": "execute_result"
    }
   ],
   "source": [
    "party_df.head()"
   ]
  },
  {
   "cell_type": "code",
   "execution_count": 9,
   "metadata": {},
   "outputs": [],
   "source": [
    "del_list = []\n",
    "for key, df in raw_data.items():\n",
    "    if len(df) < 252*2:\n",
    "        del_list.append(key)\n",
    "for code in del_list:\n",
    "    del raw_data[code]"
   ]
  },
  {
   "cell_type": "code",
   "execution_count": 10,
   "metadata": {},
   "outputs": [
    {
     "data": {
      "text/plain": [
       "['BGF리테일',\n",
       " 'HDC현대산업개발',\n",
       " 'SK케미칼',\n",
       " '넷마블',\n",
       " '두산밥캣',\n",
       " '삼성바이오로직스',\n",
       " '오리온',\n",
       " '현대중공업지주',\n",
       " '효성중공업']"
      ]
     },
     "execution_count": 10,
     "metadata": {},
     "output_type": "execute_result"
    }
   ],
   "source": [
    "[code_dict[i] for i in del_list]"
   ]
  },
  {
   "cell_type": "code",
   "execution_count": 245,
   "metadata": {},
   "outputs": [],
   "source": [
    "import sys\n",
    "mod = sys.modules[__name__]\n",
    "for code in raw_data.keys():\n",
    "    \"\"\"\n",
    "    X\n",
    "    \"\"\"\n",
    "    raw_data[code][\"pct_change\"] = raw_data[code].Close.pct_change().shift(1)\n",
    "    for i in range(3, 30):\n",
    "        raw_data[code][\"close_ma_{}\".format(i)] = raw_data[code].Close.rolling(window = i).mean().shift(1)\n",
    "        raw_data[code][\"volume_ma_{}\".format(i)] =  raw_data[code].Volume.rolling(window = i).mean().shift(1)\n",
    "        #raw_data[code][\"close_ewm_{}\".format(i)] = raw_data[code].Close.ewm(span = i).mean()\n",
    "        #raw_data[code][\"volume_ewm_{}\".format(i)] = raw_data[code].Volume.ewm(span = i).mean()\n",
    "        if i in [7, 21, 30, 60, 90, 91, 100, 120]:\n",
    "            raw_data[code][\"his_vol_{}\".format(i)] = raw_data[code][\"pct_change\"].fillna(0).rolling(window = i).std().shift(1)/(252**0.5)\n",
    "    \"\"\"\n",
    "    Y\n",
    "    \"\"\"\n",
    "    \n",
    "    raw_data[code] = raw_data[code].assign(Y1 = raw_data[code].Close - raw_data[code].close_ma_7.shift(1))\n",
    "    raw_data[code] = raw_data[code].assign(Y2 =\n",
    "                                           raw_data[code][\"pct_change\"] - raw_data[code][\"pct_change\"].rolling(window = 7).mean().shift(1))\n",
    "    raw_data[code] = raw_data[code].assign(Y3 = raw_data[code].Close.rolling(window=7).sum().pct_change())\n",
    "    \n",
    "    raw_data[code] = raw_data[code].assign(Y1 = np.where(raw_data[code].Y1>=0, 1, 0))\n",
    "    raw_data[code] = raw_data[code].assign(Y2 = np.where(raw_data[code].Y2>=0, 1, 0))\n",
    "    raw_data[code] = raw_data[code].assign(Y3 = np.where(raw_data[code].Y3>=0, 1, 0))\n",
    "    \"\"\"\n",
    "    Drop NaN\n",
    "    \"\"\"\n",
    "    raw_data[code] = raw_data[code].dropna(axis=0)"
   ]
  },
  {
   "cell_type": "code",
   "execution_count": 175,
   "metadata": {},
   "outputs": [],
   "source": [
    "test = {}\n",
    "for code in raw_data.keys():\n",
    "    test[code] = raw_data[code][['Close', 'Y2']]\n",
    "    test[code] = test[code].assign(change = (test[code]['Y2']-test[code]['Y2'].shift(1)).fillna(0))\n",
    "    test[code] = test[code].assign(close_change = (test[code]['Close']-test[code]['Close'].shift(1)).fillna(0))\n",
    "    test[code] = test[code].assign(return_price = np.where(test[code]['change']==0, 0, test[code]['close_change']))\n",
    "    test[code] = test[code].assign(balance = test[code]['return_price'].cumsum())\n",
    "    test[code] = test[code].assign(compare = test[code]['Close']-test[code]['Close'][0])"
   ]
  },
  {
   "cell_type": "code",
   "execution_count": 242,
   "metadata": {},
   "outputs": [
    {
     "data": {
      "text/plain": [
       "<matplotlib.axes._subplots.AxesSubplot at 0x1c3f7de1828>"
      ]
     },
     "execution_count": 242,
     "metadata": {},
     "output_type": "execute_result"
    },
    {
     "data": {
      "image/png": "[encoded data removed]",
      "text/plain": [
       "<matplotlib.figure.Figure at 0x1c3f7c22eb8>"
      ]
     },
     "metadata": {},
     "output_type": "display_data"
    }
   ],
   "source": [
    "raw_data[name_dict['SK하이닉스']].Close.plot()"
   ]
  },
  {
   "cell_type": "code",
   "execution_count": 184,
   "metadata": {},
   "outputs": [
    {
     "data": {
      "text/plain": [
       "<matplotlib.legend.Legend at 0x1c3ea0a1390>"
      ]
     },
     "execution_count": 184,
     "metadata": {},
     "output_type": "execute_result"
    },
    {
     "data": {
      "image/png": "[encoded data removed]",
      "text/plain": [
       "<matplotlib.figure.Figure at 0x1c3e3da8390>"
      ]
     },
     "metadata": {},
     "output_type": "display_data"
    }
   ],
   "source": [
    "plt.figure(figsize=(10,5))\n",
    "plt.subplot(121)\n",
    "test[name_dict['SK하이닉스']].compare.plot()\n",
    "plt.legend(fontsize=12)\n",
    "plt.subplot(122)\n",
    "test[name_dict['SK하이닉스']].balance.plot()\n",
    "plt.legend(fontsize=12)"
   ]
  },
  {
   "cell_type": "code",
   "execution_count": 183,
   "metadata": {},
   "outputs": [
    {
     "data": {
      "text/plain": [
       "<matplotlib.legend.Legend at 0x1c3e46803c8>"
      ]
     },
     "execution_count": 183,
     "metadata": {},
     "output_type": "execute_result"
    },
    {
     "data": {
      "image/png": "[encoded data removed]",
      "text/plain": [
       "<matplotlib.figure.Figure at 0x1c3e18dc940>"
      ]
     },
     "metadata": {},
     "output_type": "display_data"
    }
   ],
   "source": [
    "plt.figure(figsize=(10,5))\n",
    "plt.subplot(121)\n",
    "test[name_dict['삼성전자']].compare.plot()\n",
    "plt.legend(fontsize=12)\n",
    "plt.subplot(122)\n",
    "test[name_dict['삼성전자']].balance.plot()\n",
    "plt.legend(fontsize=12)"
   ]
  },
  {
   "cell_type": "code",
   "execution_count": 182,
   "metadata": {},
   "outputs": [
    {
     "data": {
      "text/plain": [
       "<matplotlib.legend.Legend at 0x1c3e369c0f0>"
      ]
     },
     "execution_count": 182,
     "metadata": {},
     "output_type": "execute_result"
    },
    {
     "data": {
      "image/png": "[encoded data removed]",
      "text/plain": [
       "<matplotlib.figure.Figure at 0x1c3e85580b8>"
      ]
     },
     "metadata": {},
     "output_type": "display_data"
    }
   ],
   "source": [
    "plt.figure(figsize=(10,5))\n",
    "plt.subplot(121)\n",
    "test[name_dict['동양']].compare.plot()\n",
    "plt.legend(fontsize=12)\n",
    "plt.subplot(122)\n",
    "test[name_dict['동양']].balance.plot()\n",
    "plt.legend(fontsize=12)"
   ]
  },
  {
   "cell_type": "code",
   "execution_count": 181,
   "metadata": {},
   "outputs": [
    {
     "data": {
      "text/plain": [
       "<matplotlib.legend.Legend at 0x1c3e853b240>"
      ]
     },
     "execution_count": 181,
     "metadata": {},
     "output_type": "execute_result"
    },
    {
     "data": {
      "image/png": "[encoded data removed]",
      "text/plain": [
       "<matplotlib.figure.Figure at 0x1c3e1f6c5f8>"
      ]
     },
     "metadata": {},
     "output_type": "display_data"
    }
   ],
   "source": [
    "plt.figure(figsize=(10,5))\n",
    "plt.subplot(121)\n",
    "test[name_dict['BGF']].compare.plot()\n",
    "plt.legend(fontsize=12)\n",
    "plt.subplot(122)\n",
    "test[name_dict['BGF']].balance.plot()\n",
    "plt.legend(fontsize=12)"
   ]
  },
  {
   "cell_type": "code",
   "execution_count": 180,
   "metadata": {},
   "outputs": [
    {
     "data": {
      "text/plain": [
       "<matplotlib.legend.Legend at 0x1c3e5919e48>"
      ]
     },
     "execution_count": 180,
     "metadata": {},
     "output_type": "execute_result"
    },
    {
     "data": {
      "image/png": "[encoded data removed]",
      "text/plain": [
       "<matplotlib.figure.Figure at 0x1c3e3206f98>"
      ]
     },
     "metadata": {},
     "output_type": "display_data"
    }
   ],
   "source": [
    "plt.figure(figsize=(10,5))\n",
    "plt.subplot(121)\n",
    "test[name_dict['대우조선해양']].compare.plot()\n",
    "plt.legend(fontsize=12)\n",
    "plt.subplot(122)\n",
    "test[name_dict['대우조선해양']].balance.plot()\n",
    "plt.legend(fontsize=12)"
   ]
  },
  {
   "cell_type": "code",
   "execution_count": 246,
   "metadata": {},
   "outputs": [],
   "source": [
    "def modelfit(alg, dtrain, predictors, target, useTrainCV = True, \n",
    "             cv_folds = 5, early_stopping_rounds = 50, top = 10, \n",
    "             figure = True, model_report = True):\n",
    "    \n",
    "    start = time.time()\n",
    "    \n",
    "    if useTrainCV:\n",
    "        xgb_param = alg.get_xgb_params()\n",
    "        xgtrain = xgb.DMatrix(dtrain[predictors].values, label=dtrain[target].values)\n",
    "        cvresult = xgb.cv(xgb_param, xgtrain, num_boost_round=alg.get_params()['n_estimators'], nfold=cv_folds,\n",
    "            metrics='auc', early_stopping_rounds=early_stopping_rounds, show_stdv=False)\n",
    "        alg.set_params(n_estimators=cvresult.shape[0])\n",
    "    \n",
    "    #Fit the algorithm on the data\n",
    "    alg.fit(dtrain[predictors], dtrain[target], eval_metric='auc')\n",
    "        \n",
    "    #Predict training set:\n",
    "    dtrain_predictions = alg.predict(dtrain[predictors])\n",
    "    dtrain_predprob = alg.predict_proba(dtrain[predictors])[:,1]\n",
    "        \n",
    "    if model_report:\n",
    "        #Print model report:\n",
    "        print(\"Model Report\")\n",
    "        print(\"Accuracy : %.4g\" % metrics.accuracy_score(dtrain[target].values, dtrain_predictions))\n",
    "        print(\"AUC Score (Train): %f\" % metrics.roc_auc_score(dtrain[target], dtrain_predprob))\n",
    "                    \n",
    "    imp_fear_name = pd.Series(predictors)[alg.feature_importances_ > 0.01]\n",
    "    imp_fear_name.index = range(len(imp_fear_name))\n",
    "    imp_fear = pd.concat((imp_fear_name, \n",
    "               pd.Series(alg.feature_importances_[alg.feature_importances_ > 0.01])),axis=1).sort_values(by=1,ascending=True)\n",
    "    imp_fear.index = range(len(imp_fear))\n",
    "    imp_fear.columns = [\"feature_name\", \"feature_importance\"]\n",
    "#     {i:j for i,j in zip(imp_fear.index, imp_fear[\"feature_name\"])}\n",
    "    if figure:\n",
    "        if top:\n",
    "            imp_fear.iloc[-top:].plot(y='feature_importance', x='feature_name', kind='barh', legend=False, figsize=(8,5))\n",
    "        else:\n",
    "            imp_fear.plot(y='feature_importance', x='feature_name', kind='barh', legend=False, figsize=(8,5))\n",
    "    \n",
    "#     feat_imp = pd.Series(alg.feature_importances_).sort_values(ascending=False)\n",
    "#     feat_imp.plot(kind='bar', title='Feature Importances', figsize=(200,5))\n",
    "#     plt.ylabel('Feature Importance Score')\n",
    "    \n",
    "    elapse = time.time() - start\n",
    "    print(\"elapse time : {} sec\".format(round(elapse,2)))\n",
    "    \n",
    "    return alg, imp_fear, elapse"
   ]
  },
  {
   "cell_type": "code",
   "execution_count": 13,
   "metadata": {},
   "outputs": [],
   "source": [
    "import xgboost as xgb"
   ]
  },
  {
   "cell_type": "code",
   "execution_count": 14,
   "metadata": {},
   "outputs": [],
   "source": [
    "from xgboost.sklearn import XGBClassifier\n",
    "#from sklearn.model_selection import cross_validation, metrics   #Additional scklearn functions\n",
    "from sklearn.model_selection import GridSearchCV   #Perforing grid search\n",
    "\n",
    "xgb_clf = XGBClassifier(random_state=42)"
   ]
  },
  {
   "cell_type": "code",
   "execution_count": 247,
   "metadata": {},
   "outputs": [],
   "source": [
    "alg = XGBClassifier(\n",
    " learning_rate =0.1,\n",
    " n_estimators=1000,\n",
    " max_depth=5,\n",
    " min_child_weight=1,\n",
    " gamma=0,\n",
    " subsample=0.8,\n",
    " colsample_bytree=0.8,\n",
    " objective= 'binary:logistic',\n",
    " nthread=4,\n",
    " scale_pos_weight=1,\n",
    " seed=27)\n",
    "top10 = ['삼성전자', 'SK하이닉스', '셀트리온', 'POSCO', \n",
    "         '현대차', 'LG화학', 'NAVER', '삼성물산', \n",
    "         '현대모비스']\n",
    "predictors = [x for x in df.columns if x not in ['Y1','Y2','Y3']]\n",
    "target = \"Y2\""
   ]
  },
  {
   "cell_type": "code",
   "execution_count": 248,
   "metadata": {},
   "outputs": [
    {
     "data": {
      "text/plain": [
       "'Y2'"
      ]
     },
     "execution_count": 248,
     "metadata": {},
     "output_type": "execute_result"
    }
   ],
   "source": [
    "target"
   ]
  },
  {
   "cell_type": "code",
   "execution_count": 19,
   "metadata": {},
   "outputs": [],
   "source": [
    "import time\n",
    "from sklearn import metrics"
   ]
  },
  {
   "cell_type": "code",
   "execution_count": 249,
   "metadata": {},
   "outputs": [],
   "source": [
    "data = {}\n",
    "for code in raw_data.keys():\n",
    "    data[code] = raw_data[code].loc['2012-01-01':]"
   ]
  },
  {
   "cell_type": "code",
   "execution_count": 250,
   "metadata": {},
   "outputs": [],
   "source": [
    "train = {}\n",
    "train_y = {}\n",
    "test = {}\n",
    "test_y = {}\n",
    "for code, df in data.items():\n",
    "    X_train, y_train, X_test, y_test = train_test_split(df, 0.8, predictors, target, dtrain=True)\n",
    "    train[code] = X_train\n",
    "    train_y[code] = y_train\n",
    "    test[code] = X_test\n",
    "    test_y[code] = y_test"
   ]
  },
  {
   "cell_type": "code",
   "execution_count": 251,
   "metadata": {},
   "outputs": [
    {
     "name": "stdout",
     "output_type": "stream",
     "text": [
      "Model Report\n",
      "Accuracy : 0.9985\n",
      "AUC Score (Train): 1.000000\n",
      "elapse time : 1.94 sec\n"
     ]
    },
    {
     "data": {
      "image/png": "[encoded data removed]",
      "text/plain": [
       "<matplotlib.figure.Figure at 0x1c3f72ac470>"
      ]
     },
     "metadata": {},
     "output_type": "display_data"
    }
   ],
   "source": [
    "model, fear_importance, elapse = modelfit(alg, train[\"005930\"], predictors, target, cv_folds=5, early_stopping_rounds=5)"
   ]
  },
  {
   "cell_type": "code",
   "execution_count": 252,
   "metadata": {},
   "outputs": [
    {
     "name": "stdout",
     "output_type": "stream",
     "text": [
      "elapse time : 1.84 sec\n"
     ]
    }
   ],
   "source": [
    "model, fear_importance, elapse = modelfit(alg, train[\"005930\"], predictors, target, cv_folds=5, early_stopping_rounds=5, \n",
    "                                  figure=False, model_report=False)"
   ]
  },
  {
   "cell_type": "code",
   "execution_count": 253,
   "metadata": {
    "scrolled": true
   },
   "outputs": [
    {
     "name": "stdout",
     "output_type": "stream",
     "text": [
      "elapse time : 1.9 sec\n",
      "elapse time : 1.3 sec\n",
      "elapse time : 1.92 sec\n",
      "elapse time : 1.73 sec\n",
      "elapse time : 1.72 sec\n",
      "elapse time : 1.7 sec\n",
      "elapse time : 1.7 sec\n",
      "elapse time : 1.7 sec\n",
      "elapse time : 1.75 sec\n",
      "elapse time : 1.91 sec\n",
      "elapse time : 1.71 sec\n",
      "elapse time : 1.72 sec\n",
      "elapse time : 1.71 sec\n",
      "elapse time : 1.67 sec\n",
      "elapse time : 1.72 sec\n",
      "elapse time : 1.82 sec\n",
      "elapse time : 1.75 sec\n",
      "elapse time : 1.69 sec\n",
      "elapse time : 1.71 sec\n",
      "elapse time : 1.79 sec\n",
      "elapse time : 1.81 sec\n",
      "elapse time : 1.68 sec\n",
      "elapse time : 1.68 sec\n",
      "elapse time : 1.77 sec\n",
      "elapse time : 1.72 sec\n",
      "elapse time : 1.75 sec\n",
      "elapse time : 1.7 sec\n",
      "elapse time : 1.71 sec\n",
      "elapse time : 1.68 sec\n",
      "elapse time : 1.6 sec\n",
      "elapse time : 0.62 sec\n",
      "elapse time : 0.85 sec\n",
      "elapse time : 0.83 sec\n",
      "elapse time : 0.89 sec\n",
      "elapse time : 0.75 sec\n",
      "elapse time : 0.8 sec\n",
      "elapse time : 0.8 sec\n",
      "elapse time : 0.75 sec\n",
      "elapse time : 0.75 sec\n",
      "elapse time : 0.8 sec\n",
      "elapse time : 0.74 sec\n",
      "elapse time : 0.74 sec\n",
      "elapse time : 0.77 sec\n",
      "elapse time : 0.77 sec\n",
      "elapse time : 0.8 sec\n",
      "elapse time : 0.83 sec\n",
      "elapse time : 0.78 sec\n",
      "elapse time : 0.79 sec\n",
      "elapse time : 0.77 sec\n",
      "elapse time : 0.8 sec\n",
      "elapse time : 0.81 sec\n",
      "elapse time : 0.78 sec\n",
      "elapse time : 0.78 sec\n",
      "elapse time : 0.8 sec\n",
      "elapse time : 0.82 sec\n",
      "elapse time : 0.81 sec\n",
      "elapse time : 0.77 sec\n",
      "elapse time : 0.75 sec\n",
      "elapse time : 0.76 sec\n",
      "elapse time : 0.79 sec\n",
      "elapse time : 0.79 sec\n",
      "elapse time : 0.77 sec\n",
      "elapse time : 0.73 sec\n",
      "elapse time : 0.79 sec\n",
      "elapse time : 0.74 sec\n",
      "elapse time : 0.78 sec\n",
      "elapse time : 0.75 sec\n",
      "elapse time : 0.81 sec\n",
      "elapse time : 0.76 sec\n",
      "elapse time : 0.8 sec\n",
      "elapse time : 0.78 sec\n",
      "elapse time : 0.79 sec\n",
      "elapse time : 0.77 sec\n",
      "elapse time : 0.67 sec\n",
      "elapse time : 0.81 sec\n",
      "elapse time : 0.82 sec\n",
      "elapse time : 0.76 sec\n",
      "elapse time : 0.78 sec\n",
      "elapse time : 0.75 sec\n",
      "elapse time : 0.8 sec\n",
      "elapse time : 0.76 sec\n",
      "elapse time : 0.76 sec\n",
      "elapse time : 0.78 sec\n",
      "elapse time : 0.79 sec\n",
      "elapse time : 0.77 sec\n",
      "elapse time : 0.8 sec\n",
      "elapse time : 0.81 sec\n",
      "elapse time : 0.82 sec\n",
      "elapse time : 0.54 sec\n",
      "elapse time : 0.85 sec\n",
      "elapse time : 0.92 sec\n",
      "elapse time : 0.88 sec\n",
      "elapse time : 0.81 sec\n",
      "elapse time : 0.91 sec\n",
      "elapse time : 0.87 sec\n",
      "elapse time : 0.87 sec\n",
      "elapse time : 0.5 sec\n",
      "elapse time : 0.76 sec\n",
      "elapse time : 0.55 sec\n",
      "elapse time : 0.76 sec\n",
      "elapse time : 0.78 sec\n",
      "elapse time : 0.77 sec\n",
      "elapse time : 0.78 sec\n",
      "elapse time : 0.8 sec\n",
      "elapse time : 0.8 sec\n",
      "elapse time : 0.76 sec\n",
      "elapse time : 0.8 sec\n",
      "elapse time : 0.79 sec\n",
      "elapse time : 0.78 sec\n",
      "elapse time : 0.77 sec\n",
      "elapse time : 0.82 sec\n",
      "elapse time : 0.83 sec\n",
      "elapse time : 0.79 sec\n",
      "elapse time : 0.78 sec\n",
      "elapse time : 0.8 sec\n",
      "elapse time : 0.81 sec\n",
      "elapse time : 0.79 sec\n",
      "elapse time : 0.78 sec\n",
      "elapse time : 0.77 sec\n",
      "elapse time : 0.79 sec\n",
      "elapse time : 0.81 sec\n",
      "elapse time : 0.76 sec\n",
      "elapse time : 0.78 sec\n",
      "elapse time : 0.79 sec\n",
      "elapse time : 0.76 sec\n",
      "elapse time : 0.76 sec\n",
      "elapse time : 0.75 sec\n",
      "elapse time : 0.76 sec\n",
      "elapse time : 0.76 sec\n",
      "elapse time : 0.81 sec\n",
      "elapse time : 0.45 sec\n",
      "elapse time : 0.77 sec\n",
      "elapse time : 0.79 sec\n",
      "elapse time : 0.79 sec\n",
      "elapse time : 0.75 sec\n",
      "elapse time : 0.58 sec\n",
      "elapse time : 0.79 sec\n",
      "elapse time : 0.57 sec\n",
      "elapse time : 0.77 sec\n",
      "elapse time : 0.73 sec\n",
      "elapse time : 0.53 sec\n",
      "elapse time : 0.8 sec\n",
      "elapse time : 0.78 sec\n",
      "elapse time : 0.78 sec\n",
      "elapse time : 0.77 sec\n",
      "elapse time : 0.76 sec\n",
      "elapse time : 0.8 sec\n",
      "elapse time : 0.76 sec\n",
      "elapse time : 0.77 sec\n",
      "elapse time : 0.75 sec\n",
      "elapse time : 0.79 sec\n",
      "elapse time : 0.8 sec\n",
      "elapse time : 0.79 sec\n",
      "elapse time : 0.88 sec\n",
      "elapse time : 0.68 sec\n",
      "elapse time : 0.79 sec\n",
      "elapse time : 0.8 sec\n",
      "elapse time : 0.81 sec\n",
      "elapse time : 0.77 sec\n",
      "elapse time : 0.78 sec\n",
      "elapse time : 0.77 sec\n",
      "elapse time : 0.78 sec\n",
      "elapse time : 0.76 sec\n",
      "elapse time : 0.77 sec\n",
      "elapse time : 0.79 sec\n",
      "elapse time : 0.79 sec\n",
      "elapse time : 0.76 sec\n",
      "elapse time : 0.75 sec\n",
      "elapse time : 0.82 sec\n",
      "elapse time : 0.79 sec\n",
      "elapse time : 0.82 sec\n",
      "elapse time : 0.75 sec\n",
      "elapse time : 0.82 sec\n",
      "elapse time : 0.78 sec\n",
      "elapse time : 0.78 sec\n",
      "elapse time : 0.8 sec\n",
      "elapse time : 0.79 sec\n",
      "elapse time : 0.62 sec\n",
      "elapse time : 0.82 sec\n",
      "elapse time : 0.8 sec\n",
      "elapse time : 0.75 sec\n",
      "elapse time : 0.78 sec\n",
      "elapse time : 0.82 sec\n",
      "elapse time : 0.84 sec\n",
      "elapse time : 0.78 sec\n",
      "elapse time : 0.77 sec\n",
      "elapse time : 0.79 sec\n",
      "elapse time : 0.78 sec\n",
      "elapse time : 0.79 sec\n",
      "elapse time : 0.79 sec\n",
      "elapse time : 0.89 sec\n",
      "elapse time : 0.89 sec\n",
      "elapse time : 0.85 sec\n",
      "\n",
      "total time : 3.0 minute\n"
     ]
    }
   ],
   "source": [
    "import warnings\n",
    "warnings.simplefilter(\"ignore\", DeprecationWarning)\n",
    "\n",
    "total_time = 0\n",
    "test_result = {}\n",
    "fi_dict = {}\n",
    "for i in raw_data.keys():\n",
    "    model, fear_importance, elapse = modelfit(alg, train[i], predictors, target, \n",
    "                                              cv_folds=5, early_stopping_rounds=20,\n",
    "                                              figure=False, model_report=False)\n",
    "    start = time.time()\n",
    "    pred = model.predict(test[i][predictors])\n",
    "    # Calculating Score\n",
    "    test_result[i] = np.array([\n",
    "        metrics.accuracy_score(pred, test[i][target]),\n",
    "        metrics.f1_score(pred, test[i][target]),\n",
    "        metrics.precision_score(pred, test[i][target]),\n",
    "        metrics.recall_score(pred, test[i][target]),\n",
    "        metrics.roc_auc_score(pred, test[i][target])\n",
    "    ])\n",
    "    fi_dict[i] = {feature:value for feature,value in fear_importance.iloc[-10:].values}\n",
    "    #print(\"test accuracy {} : {}\".format(code_dict[i], accuracy[i]))\n",
    "    total_time += elapse + time.time() - start\n",
    "print(\"\\ntotal time : {} minute\".format(round(total_time / 60,2)))\n",
    "\n",
    "result = pd.DataFrame(test_result, index = score_li).T"
   ]
  },
  {
   "cell_type": "code",
   "execution_count": 254,
   "metadata": {},
   "outputs": [],
   "source": [
    "score_li = ['accuracy_score', 'f1_score', 'precision_score', 'recall_score', 'roc_auc_score']"
   ]
  },
  {
   "cell_type": "code",
   "execution_count": 223,
   "metadata": {},
   "outputs": [
    {
     "data": {
      "text/plain": [
       "<matplotlib.axes._subplots.AxesSubplot at 0x1c3f5f06550>"
      ]
     },
     "execution_count": 223,
     "metadata": {},
     "output_type": "execute_result"
    },
    {
     "data": {
      "image/png": "[encoded data removed]",
      "text/plain": [
       "<matplotlib.figure.Figure at 0x1c3e8012a90>"
      ]
     },
     "metadata": {},
     "output_type": "display_data"
    }
   ],
   "source": [
    "raw_data['000030'].Close.plot()"
   ]
  },
  {
   "cell_type": "code",
   "execution_count": 224,
   "metadata": {},
   "outputs": [
    {
     "data": {
      "text/plain": [
       "'우리은행'"
      ]
     },
     "execution_count": 224,
     "metadata": {},
     "output_type": "execute_result"
    }
   ],
   "source": [
    "code_dict['000030']"
   ]
  },
  {
   "cell_type": "code",
   "execution_count": 255,
   "metadata": {},
   "outputs": [
    {
     "data": {
      "text/plain": [
       "accuracy_score     0.876270\n",
       "f1_score           0.871108\n",
       "precision_score    0.861949\n",
       "recall_score       0.885164\n",
       "roc_auc_score      0.879649\n",
       "dtype: float64"
      ]
     },
     "execution_count": 255,
     "metadata": {},
     "output_type": "execute_result"
    }
   ],
   "source": [
    "result.apply(np.mean)"
   ]
  },
  {
   "cell_type": "code",
   "execution_count": 256,
   "metadata": {},
   "outputs": [
    {
     "data": {
      "text/html": [
       "<div>\n",
       "<style scoped>\n",
       "    .dataframe tbody tr th:only-of-type {\n",
       "        vertical-align: middle;\n",
       "    }\n",
       "\n",
       "    .dataframe tbody tr th {\n",
       "        vertical-align: top;\n",
       "    }\n",
       "\n",
       "    .dataframe thead th {\n",
       "        text-align: right;\n",
       "    }\n",
       "</style>\n",
       "<table border=\"1\" class=\"dataframe\">\n",
       "  <thead>\n",
       "    <tr style=\"text-align: right;\">\n",
       "      <th></th>\n",
       "      <th>업종</th>\n",
       "      <th>영문코드</th>\n",
       "      <th>종목명</th>\n",
       "      <th>종목코드</th>\n",
       "      <th>시가총액</th>\n",
       "      <th>income</th>\n",
       "    </tr>\n",
       "  </thead>\n",
       "  <tbody>\n",
       "    <tr>\n",
       "      <th>0</th>\n",
       "      <td>정보기술</td>\n",
       "      <td>SEC</td>\n",
       "      <td>삼성전자</td>\n",
       "      <td>005930</td>\n",
       "      <td>296893767375000</td>\n",
       "      <td>high</td>\n",
       "    </tr>\n",
       "    <tr>\n",
       "      <th>1</th>\n",
       "      <td>정보기술</td>\n",
       "      <td>SKH</td>\n",
       "      <td>SK하이닉스</td>\n",
       "      <td>000660</td>\n",
       "      <td>62826604099500</td>\n",
       "      <td>high</td>\n",
       "    </tr>\n",
       "    <tr>\n",
       "      <th>2</th>\n",
       "      <td>헬스케어</td>\n",
       "      <td>CTRN</td>\n",
       "      <td>셀트리온</td>\n",
       "      <td>068270</td>\n",
       "      <td>34044987664500</td>\n",
       "      <td>high</td>\n",
       "    </tr>\n",
       "    <tr>\n",
       "      <th>3</th>\n",
       "      <td>철강소재</td>\n",
       "      <td>POSCO</td>\n",
       "      <td>POSCO</td>\n",
       "      <td>005490</td>\n",
       "      <td>28815248967500</td>\n",
       "      <td>high</td>\n",
       "    </tr>\n",
       "    <tr>\n",
       "      <th>4</th>\n",
       "      <td>경기소비재</td>\n",
       "      <td>HMC</td>\n",
       "      <td>현대차</td>\n",
       "      <td>005380</td>\n",
       "      <td>28525804030500</td>\n",
       "      <td>high</td>\n",
       "    </tr>\n",
       "  </tbody>\n",
       "</table>\n",
       "</div>"
      ],
      "text/plain": [
       "      업종   영문코드     종목명    종목코드             시가총액 income\n",
       "0   정보기술    SEC    삼성전자  005930  296893767375000   high\n",
       "1   정보기술    SKH  SK하이닉스  000660   62826604099500   high\n",
       "2   헬스케어   CTRN    셀트리온  068270   34044987664500   high\n",
       "3   철강소재  POSCO   POSCO  005490   28815248967500   high\n",
       "4  경기소비재    HMC     현대차  005380   28525804030500   high"
      ]
     },
     "execution_count": 256,
     "metadata": {},
     "output_type": "execute_result"
    }
   ],
   "source": [
    "party_df.head()"
   ]
  },
  {
   "cell_type": "code",
   "execution_count": 257,
   "metadata": {},
   "outputs": [],
   "source": [
    "result['income'] = np.NaN\n",
    "result['업종'] = np.NaN\n",
    "for i in result.index:\n",
    "    result.loc[i, 'income'] = party_df[party_df['종목코드'] == i]['income'].values[0]\n",
    "    result.loc[i, '업종'] = party_df[party_df['종목코드'] == i]['업종'].values[0]"
   ]
  },
  {
   "cell_type": "code",
   "execution_count": 258,
   "metadata": {},
   "outputs": [
    {
     "data": {
      "text/html": [
       "<div>\n",
       "<style scoped>\n",
       "    .dataframe tbody tr th:only-of-type {\n",
       "        vertical-align: middle;\n",
       "    }\n",
       "\n",
       "    .dataframe tbody tr th {\n",
       "        vertical-align: top;\n",
       "    }\n",
       "\n",
       "    .dataframe thead th {\n",
       "        text-align: right;\n",
       "    }\n",
       "</style>\n",
       "<table border=\"1\" class=\"dataframe\">\n",
       "  <thead>\n",
       "    <tr style=\"text-align: right;\">\n",
       "      <th></th>\n",
       "      <th>accuracy_score</th>\n",
       "      <th>f1_score</th>\n",
       "      <th>precision_score</th>\n",
       "      <th>recall_score</th>\n",
       "      <th>roc_auc_score</th>\n",
       "    </tr>\n",
       "  </thead>\n",
       "  <tbody>\n",
       "    <tr>\n",
       "      <th>count</th>\n",
       "      <td>193.000000</td>\n",
       "      <td>193.000000</td>\n",
       "      <td>193.000000</td>\n",
       "      <td>193.000000</td>\n",
       "      <td>193.000000</td>\n",
       "    </tr>\n",
       "    <tr>\n",
       "      <th>mean</th>\n",
       "      <td>0.876270</td>\n",
       "      <td>0.871108</td>\n",
       "      <td>0.861949</td>\n",
       "      <td>0.885164</td>\n",
       "      <td>0.879649</td>\n",
       "    </tr>\n",
       "    <tr>\n",
       "      <th>std</th>\n",
       "      <td>0.028807</td>\n",
       "      <td>0.031483</td>\n",
       "      <td>0.060504</td>\n",
       "      <td>0.044232</td>\n",
       "      <td>0.026927</td>\n",
       "    </tr>\n",
       "    <tr>\n",
       "      <th>min</th>\n",
       "      <td>0.698980</td>\n",
       "      <td>0.697436</td>\n",
       "      <td>0.586207</td>\n",
       "      <td>0.726744</td>\n",
       "      <td>0.725252</td>\n",
       "    </tr>\n",
       "    <tr>\n",
       "      <th>25%</th>\n",
       "      <td>0.861111</td>\n",
       "      <td>0.856250</td>\n",
       "      <td>0.833333</td>\n",
       "      <td>0.854430</td>\n",
       "      <td>0.865326</td>\n",
       "    </tr>\n",
       "    <tr>\n",
       "      <th>50%</th>\n",
       "      <td>0.882716</td>\n",
       "      <td>0.875000</td>\n",
       "      <td>0.869281</td>\n",
       "      <td>0.887574</td>\n",
       "      <td>0.883908</td>\n",
       "    </tr>\n",
       "    <tr>\n",
       "      <th>75%</th>\n",
       "      <td>0.895062</td>\n",
       "      <td>0.892617</td>\n",
       "      <td>0.900000</td>\n",
       "      <td>0.916667</td>\n",
       "      <td>0.898626</td>\n",
       "    </tr>\n",
       "    <tr>\n",
       "      <th>max</th>\n",
       "      <td>0.932099</td>\n",
       "      <td>0.934211</td>\n",
       "      <td>0.976048</td>\n",
       "      <td>0.984252</td>\n",
       "      <td>0.931545</td>\n",
       "    </tr>\n",
       "  </tbody>\n",
       "</table>\n",
       "</div>"
      ],
      "text/plain": [
       "       accuracy_score    f1_score  precision_score  recall_score  \\\n",
       "count      193.000000  193.000000       193.000000    193.000000   \n",
       "mean         0.876270    0.871108         0.861949      0.885164   \n",
       "std          0.028807    0.031483         0.060504      0.044232   \n",
       "min          0.698980    0.697436         0.586207      0.726744   \n",
       "25%          0.861111    0.856250         0.833333      0.854430   \n",
       "50%          0.882716    0.875000         0.869281      0.887574   \n",
       "75%          0.895062    0.892617         0.900000      0.916667   \n",
       "max          0.932099    0.934211         0.976048      0.984252   \n",
       "\n",
       "       roc_auc_score  \n",
       "count     193.000000  \n",
       "mean        0.879649  \n",
       "std         0.026927  \n",
       "min         0.725252  \n",
       "25%         0.865326  \n",
       "50%         0.883908  \n",
       "75%         0.898626  \n",
       "max         0.931545  "
      ]
     },
     "execution_count": 258,
     "metadata": {},
     "output_type": "execute_result"
    }
   ],
   "source": [
    "result.describe()"
   ]
  },
  {
   "cell_type": "code",
   "execution_count": 259,
   "metadata": {},
   "outputs": [
    {
     "name": "stdout",
     "output_type": "stream",
     "text": [
      "high\n",
      "       accuracy_score   f1_score  precision_score  recall_score  roc_auc_score\n",
      "count       30.000000  30.000000        30.000000     30.000000      30.000000\n",
      "mean         0.880804   0.873363         0.842269      0.909818       0.885094\n",
      "std          0.016595   0.019910         0.046568      0.030339       0.015354\n",
      "min          0.839506   0.815603         0.723270      0.837989       0.846210\n",
      "25%          0.873655   0.868757         0.814691      0.894327       0.878753\n",
      "50%          0.884259   0.875462         0.848947      0.912916       0.886957\n",
      "75%          0.891204   0.882465         0.863517      0.930489       0.895241\n",
      "max          0.907407   0.908537         0.925926      0.961240       0.909398 \n",
      "\n",
      "low\n",
      "       accuracy_score   f1_score  precision_score  recall_score  roc_auc_score\n",
      "count       49.000000  49.000000        49.000000     49.000000      49.000000\n",
      "mean         0.875055   0.868907         0.853212      0.890582       0.879099\n",
      "std          0.036794   0.038862         0.069531      0.045359       0.033824\n",
      "min          0.698980   0.697436         0.586207      0.802395       0.725252\n",
      "25%          0.861111   0.851613         0.833333      0.853659       0.868194\n",
      "50%          0.879630   0.875000         0.859873      0.894737       0.880125\n",
      "75%          0.898148   0.894040         0.897590      0.923077       0.900402\n",
      "max          0.932099   0.927632         0.965517      0.984252       0.931545 \n",
      "\n",
      "lower middle\n",
      "       accuracy_score   f1_score  precision_score  recall_score  roc_auc_score\n",
      "count       43.000000  43.000000        43.000000     43.000000      43.000000\n",
      "mean         0.877173   0.874598         0.880555      0.871774       0.879423\n",
      "std          0.030340   0.031732         0.055807      0.039952       0.030074\n",
      "min          0.772973   0.760943         0.693252      0.766990       0.773739\n",
      "25%          0.868827   0.863184         0.853797      0.849629       0.871722\n",
      "50%          0.884793   0.877493         0.885417      0.871795       0.884656\n",
      "75%          0.898148   0.896217         0.916567      0.893542       0.900875\n",
      "max          0.916667   0.916923         0.976048      0.966387       0.916924 \n",
      "\n",
      "middle\n",
      "       accuracy_score   f1_score  precision_score  recall_score  roc_auc_score\n",
      "count       49.000000  49.000000        49.000000     49.000000      49.000000\n",
      "mean         0.873283   0.868509         0.866723      0.875967       0.876778\n",
      "std          0.027474   0.031506         0.061108      0.052065       0.024459\n",
      "min          0.796296   0.791139         0.684848      0.726744       0.800872\n",
      "25%          0.854938   0.850932         0.850932      0.838926       0.859472\n",
      "50%          0.876543   0.872852         0.875776      0.882716       0.877318\n",
      "75%          0.895062   0.892617         0.901961      0.909677       0.895667\n",
      "max          0.919753   0.934211         0.961290      0.973684       0.919497 \n",
      "\n",
      "upper middle\n",
      "       accuracy_score   f1_score  precision_score  recall_score  roc_auc_score\n",
      "count       22.000000  22.000000        22.000000     22.000000      22.000000\n",
      "mean         0.877682   0.871903         0.861242      0.886131       0.880287\n",
      "std          0.022106   0.026836         0.056267      0.031995       0.021205\n",
      "min          0.827160   0.816479         0.726667      0.814607       0.827559\n",
      "25%          0.864969   0.856881         0.823188      0.867543       0.866876\n",
      "50%          0.879630   0.872732         0.866196      0.887395       0.881775\n",
      "75%          0.891975   0.884793         0.896507      0.908982       0.891387\n",
      "max          0.922840   0.925816         0.962963      0.931624       0.925580 \n",
      "\n"
     ]
    }
   ],
   "source": [
    "for income in result.income.unique():\n",
    "    print(income)\n",
    "    print(result.groupby('income').get_group(income).describe(), '\\n')"
   ]
  },
  {
   "cell_type": "code",
   "execution_count": 260,
   "metadata": {
    "scrolled": false
   },
   "outputs": [
    {
     "name": "stdout",
     "output_type": "stream",
     "text": [
      "금융\n",
      "       accuracy_score   f1_score  precision_score  recall_score  roc_auc_score\n",
      "count       17.000000  17.000000        17.000000     17.000000      17.000000\n",
      "mean         0.872186   0.864759         0.842081      0.894556       0.876773\n",
      "std          0.027865   0.032285         0.055880      0.059186       0.026158\n",
      "min          0.796296   0.791139         0.707006      0.726744       0.800872\n",
      "25%          0.854938   0.850932         0.827381      0.864516       0.866778\n",
      "50%          0.876543   0.874598         0.858974      0.917241       0.880000\n",
      "75%          0.891975   0.882943         0.871951      0.931624       0.895351\n",
      "max          0.910494   0.908517         0.920245      0.973684       0.911262 \n",
      "\n",
      "생활소비재\n",
      "       accuracy_score   f1_score  precision_score  recall_score  roc_auc_score\n",
      "count       35.000000  35.000000        35.000000     35.000000      35.000000\n",
      "mean         0.868637   0.862297         0.849481      0.881873       0.872992\n",
      "std          0.039891   0.042074         0.078535      0.043705       0.035790\n",
      "min          0.698980   0.697436         0.586207      0.806818       0.725252\n",
      "25%          0.856481   0.845673         0.826713      0.850478       0.858632\n",
      "50%          0.876543   0.872131         0.862069      0.877698       0.879644\n",
      "75%          0.891975   0.886309         0.902029      0.918983       0.894851\n",
      "max          0.922840   0.920128         0.961290      0.966387       0.922848 \n",
      "\n",
      "헬스케어\n",
      "       accuracy_score   f1_score  precision_score  recall_score  roc_auc_score\n",
      "count       17.000000  17.000000        17.000000     17.000000      17.000000\n",
      "mean         0.882538   0.880910         0.892416      0.872836       0.885073\n",
      "std          0.023023   0.024947         0.041259      0.049409       0.022701\n",
      "min          0.827160   0.829268         0.836735      0.739130       0.840994\n",
      "25%          0.864198   0.860681         0.865031      0.850575       0.863687\n",
      "50%          0.888889   0.892405         0.883436      0.860656       0.892063\n",
      "75%          0.898148   0.899696         0.921687      0.911111       0.901903\n",
      "max          0.913580   0.914110         0.976048      0.956204       0.914022 \n",
      "\n",
      "산업재\n",
      "       accuracy_score   f1_score  precision_score  recall_score  roc_auc_score\n",
      "count       15.000000  15.000000        15.000000     15.000000      15.000000\n",
      "mean         0.886535   0.881019         0.877702      0.886821       0.888241\n",
      "std          0.019995   0.025823         0.055231      0.021738       0.018806\n",
      "min          0.854938   0.832740         0.769737      0.823529       0.860481\n",
      "25%          0.867284   0.860305         0.838109      0.880394       0.869626\n",
      "50%          0.890625   0.888158         0.882353      0.889535       0.894194\n",
      "75%          0.899691   0.898209         0.919606      0.902830       0.900769\n",
      "max          0.919753   0.917197         0.965517      0.912162       0.919497 \n",
      "\n",
      "건설\n",
      "       accuracy_score   f1_score  precision_score  recall_score  roc_auc_score\n",
      "count       13.000000  13.000000        13.000000     13.000000      13.000000\n",
      "mean         0.868611   0.862919         0.859743      0.870724       0.871689\n",
      "std          0.023244   0.026330         0.055895      0.046383       0.020947\n",
      "min          0.830247   0.814286         0.716981      0.775281       0.836271\n",
      "25%          0.858025   0.851613         0.837349      0.837349       0.858629\n",
      "50%          0.862928   0.863354         0.886667      0.878049       0.863836\n",
      "75%          0.888889   0.888889         0.900000      0.898649       0.889024\n",
      "max          0.901235   0.899371         0.910828      0.942149       0.904861 \n",
      "\n",
      "경기소비재\n",
      "       accuracy_score   f1_score  precision_score  recall_score  roc_auc_score\n",
      "count       38.000000  38.000000        38.000000     38.000000      38.000000\n",
      "mean         0.875422   0.872468         0.871365      0.877138       0.877871\n",
      "std          0.034035   0.035566         0.060299      0.042807       0.032856\n",
      "min          0.772973   0.782313         0.688623      0.766990       0.773739\n",
      "25%          0.864969   0.861104         0.835256      0.852679       0.866949\n",
      "50%          0.881358   0.877360         0.882183      0.884691       0.882560\n",
      "75%          0.897377   0.898602         0.912707      0.904940       0.898506\n",
      "max          0.932099   0.927632         0.962963      0.953846       0.931545 \n",
      "\n",
      "정보기술\n",
      "       accuracy_score   f1_score  precision_score  recall_score  roc_auc_score\n",
      "count       15.000000  15.000000        15.000000     15.000000      15.000000\n",
      "mean         0.876781   0.866351         0.830041      0.910909       0.883060\n",
      "std          0.020437   0.023965         0.055279      0.042514       0.018641\n",
      "min          0.839506   0.812950         0.706250      0.821429       0.846210\n",
      "25%          0.865741   0.852615         0.809649      0.890366       0.878469\n",
      "50%          0.885802   0.872852         0.838509      0.913669       0.887899\n",
      "75%          0.890432   0.880367         0.868288      0.945180       0.890755\n",
      "max          0.907407   0.901961         0.900000      0.961240       0.909398 \n",
      "\n",
      "철강소재\n",
      "       accuracy_score   f1_score  precision_score  recall_score  roc_auc_score\n",
      "count       10.000000  10.000000        10.000000     10.000000      10.000000\n",
      "mean         0.880556   0.871844         0.835124      0.915235       0.885913\n",
      "std          0.013179   0.015888         0.042232      0.040866       0.015598\n",
      "min          0.864198   0.846975         0.788462      0.853659       0.871452\n",
      "25%          0.874228   0.864432         0.805871      0.890351       0.877025\n",
      "50%          0.878086   0.872421         0.820673      0.921793       0.883042\n",
      "75%          0.882716   0.883436         0.864129      0.934420       0.886224\n",
      "max          0.910494   0.896057         0.905660      0.984252       0.923598 \n",
      "\n",
      "에너지화학\n",
      "       accuracy_score   f1_score  precision_score  recall_score  roc_auc_score\n",
      "count       24.000000  24.000000        24.000000     24.000000      24.000000\n",
      "mean         0.883616   0.878055         0.868794      0.890973       0.886261\n",
      "std          0.019015   0.020765         0.049869      0.034967       0.016432\n",
      "min          0.839506   0.815603         0.723270      0.809783       0.844177\n",
      "25%          0.878086   0.869784         0.850556      0.882039       0.879724\n",
      "50%          0.885802   0.877336         0.870528      0.896875       0.886419\n",
      "75%          0.894290   0.890810         0.911012      0.907895       0.899631\n",
      "max          0.916667   0.916923         0.931250      0.948529       0.916924 \n",
      "\n",
      "중공업\n",
      "       accuracy_score  f1_score  precision_score  recall_score  roc_auc_score\n",
      "count        9.000000  9.000000         9.000000      9.000000       9.000000\n",
      "mean         0.874161  0.877003         0.892314      0.863676       0.875135\n",
      "std          0.029092  0.034513         0.047717      0.040764       0.029594\n",
      "min          0.827160  0.828221         0.808383      0.818966       0.827559\n",
      "25%          0.858025  0.852018         0.865385      0.838150       0.857519\n",
      "50%          0.861111  0.863095         0.887850      0.849057       0.860892\n",
      "75%          0.901235  0.903226         0.935065      0.874317       0.905128\n",
      "max          0.907407  0.934211         0.959459      0.945946       0.910473 \n",
      "\n"
     ]
    }
   ],
   "source": [
    "for income in result['업종'].unique():\n",
    "    print(income)\n",
    "    print(result.groupby('업종').get_group(income).describe(), '\\n')"
   ]
  },
  {
   "cell_type": "code",
   "execution_count": 261,
   "metadata": {},
   "outputs": [],
   "source": [
    "predictors = pd.DataFrame(fi_dict).T.notnull().sum().sort_values(ascending=False).index[:5].tolist()\n",
    "targets = 'Y2'\n",
    "\n",
    "alg = XGBClassifier(\n",
    " learning_rate =0.1,\n",
    " n_estimators=1000,\n",
    " max_depth=5,\n",
    " min_child_weight=1,\n",
    " gamma=0,\n",
    " subsample=0.8,\n",
    " colsample_bytree=0.8,\n",
    " objective= 'binary:logistic',\n",
    " nthread=4,\n",
    " scale_pos_weight=1,\n",
    " seed=27)"
   ]
  },
  {
   "cell_type": "code",
   "execution_count": 262,
   "metadata": {},
   "outputs": [
    {
     "data": {
      "text/plain": [
       "['pct_change', 'his_vol_7', 'his_vol_21', 'Volume', 'Open']"
      ]
     },
     "execution_count": 262,
     "metadata": {},
     "output_type": "execute_result"
    }
   ],
   "source": [
    "predictors"
   ]
  },
  {
   "cell_type": "code",
   "execution_count": 263,
   "metadata": {},
   "outputs": [
    {
     "name": "stdout",
     "output_type": "stream",
     "text": [
      "elapse time : 0.7 sec\n",
      "elapse time : 0.45 sec\n",
      "elapse time : 0.52 sec\n",
      "elapse time : 0.39 sec\n",
      "elapse time : 0.43 sec\n",
      "elapse time : 0.35 sec\n",
      "elapse time : 0.35 sec\n",
      "elapse time : 0.42 sec\n",
      "elapse time : 0.34 sec\n",
      "elapse time : 0.35 sec\n",
      "elapse time : 0.33 sec\n",
      "elapse time : 0.36 sec\n",
      "elapse time : 0.34 sec\n",
      "elapse time : 0.34 sec\n",
      "elapse time : 0.35 sec\n",
      "elapse time : 0.38 sec\n",
      "elapse time : 0.33 sec\n",
      "elapse time : 0.33 sec\n",
      "elapse time : 0.33 sec\n",
      "elapse time : 0.33 sec\n",
      "elapse time : 0.34 sec\n",
      "elapse time : 0.33 sec\n",
      "elapse time : 0.33 sec\n",
      "elapse time : 0.35 sec\n",
      "elapse time : 0.34 sec\n",
      "elapse time : 0.33 sec\n",
      "elapse time : 0.33 sec\n",
      "elapse time : 0.34 sec\n",
      "elapse time : 0.32 sec\n",
      "elapse time : 0.33 sec\n",
      "elapse time : 0.25 sec\n",
      "elapse time : 0.33 sec\n",
      "elapse time : 0.33 sec\n",
      "elapse time : 0.33 sec\n",
      "elapse time : 0.32 sec\n",
      "elapse time : 0.33 sec\n",
      "elapse time : 0.35 sec\n",
      "elapse time : 0.33 sec\n",
      "elapse time : 0.33 sec\n",
      "elapse time : 0.34 sec\n",
      "elapse time : 0.35 sec\n",
      "elapse time : 0.35 sec\n",
      "elapse time : 0.33 sec\n",
      "elapse time : 0.33 sec\n",
      "elapse time : 0.33 sec\n",
      "elapse time : 0.33 sec\n",
      "elapse time : 0.33 sec\n",
      "elapse time : 0.34 sec\n",
      "elapse time : 0.32 sec\n",
      "elapse time : 0.33 sec\n",
      "elapse time : 0.33 sec\n",
      "elapse time : 0.33 sec\n",
      "elapse time : 0.33 sec\n",
      "elapse time : 0.33 sec\n",
      "elapse time : 0.33 sec\n",
      "elapse time : 0.38 sec\n",
      "elapse time : 0.42 sec\n",
      "elapse time : 0.36 sec\n",
      "elapse time : 0.37 sec\n",
      "elapse time : 0.41 sec\n",
      "elapse time : 0.36 sec\n",
      "elapse time : 0.42 sec\n",
      "elapse time : 0.35 sec\n",
      "elapse time : 0.38 sec\n",
      "elapse time : 0.41 sec\n",
      "elapse time : 0.37 sec\n",
      "elapse time : 0.38 sec\n",
      "elapse time : 0.37 sec\n",
      "elapse time : 0.43 sec\n",
      "elapse time : 0.38 sec\n",
      "elapse time : 0.38 sec\n",
      "elapse time : 0.38 sec\n",
      "elapse time : 0.35 sec\n",
      "elapse time : 0.42 sec\n",
      "elapse time : 0.39 sec\n",
      "elapse time : 0.43 sec\n",
      "elapse time : 0.38 sec\n",
      "elapse time : 0.36 sec\n",
      "elapse time : 0.4 sec\n",
      "elapse time : 0.39 sec\n",
      "elapse time : 0.33 sec\n",
      "elapse time : 0.34 sec\n",
      "elapse time : 0.34 sec\n",
      "elapse time : 0.33 sec\n",
      "elapse time : 0.33 sec\n",
      "elapse time : 0.33 sec\n",
      "elapse time : 0.34 sec\n",
      "elapse time : 0.33 sec\n",
      "elapse time : 0.27 sec\n",
      "elapse time : 0.33 sec\n",
      "elapse time : 0.35 sec\n",
      "elapse time : 0.33 sec\n",
      "elapse time : 0.32 sec\n",
      "elapse time : 0.33 sec\n",
      "elapse time : 0.33 sec\n",
      "elapse time : 0.33 sec\n",
      "elapse time : 0.27 sec\n",
      "elapse time : 0.34 sec\n",
      "elapse time : 0.27 sec\n",
      "elapse time : 0.36 sec\n",
      "elapse time : 0.33 sec\n",
      "elapse time : 0.32 sec\n",
      "elapse time : 0.33 sec\n",
      "elapse time : 0.33 sec\n",
      "elapse time : 0.33 sec\n",
      "elapse time : 0.33 sec\n",
      "elapse time : 0.35 sec\n",
      "elapse time : 0.33 sec\n",
      "elapse time : 0.34 sec\n",
      "elapse time : 0.32 sec\n",
      "elapse time : 0.34 sec\n",
      "elapse time : 0.35 sec\n",
      "elapse time : 0.32 sec\n",
      "elapse time : 0.34 sec\n",
      "elapse time : 0.34 sec\n",
      "elapse time : 0.39 sec\n",
      "elapse time : 0.43 sec\n",
      "elapse time : 0.43 sec\n",
      "elapse time : 0.36 sec\n",
      "elapse time : 0.35 sec\n",
      "elapse time : 0.32 sec\n",
      "elapse time : 0.32 sec\n",
      "elapse time : 0.33 sec\n",
      "elapse time : 0.33 sec\n",
      "elapse time : 0.35 sec\n",
      "elapse time : 0.34 sec\n",
      "elapse time : 0.31 sec\n",
      "elapse time : 0.33 sec\n",
      "elapse time : 0.32 sec\n",
      "elapse time : 0.32 sec\n",
      "elapse time : 0.26 sec\n",
      "elapse time : 0.33 sec\n",
      "elapse time : 0.33 sec\n",
      "elapse time : 0.34 sec\n",
      "elapse time : 0.32 sec\n",
      "elapse time : 0.28 sec\n",
      "elapse time : 0.33 sec\n",
      "elapse time : 0.28 sec\n",
      "elapse time : 0.33 sec\n",
      "elapse time : 0.32 sec\n",
      "elapse time : 0.29 sec\n",
      "elapse time : 0.33 sec\n",
      "elapse time : 0.33 sec\n",
      "elapse time : 0.32 sec\n",
      "elapse time : 0.36 sec\n",
      "elapse time : 0.32 sec\n",
      "elapse time : 0.35 sec\n",
      "elapse time : 0.32 sec\n",
      "elapse time : 0.32 sec\n",
      "elapse time : 0.33 sec\n",
      "elapse time : 0.32 sec\n",
      "elapse time : 0.34 sec\n",
      "elapse time : 0.33 sec\n",
      "elapse time : 0.29 sec\n",
      "elapse time : 0.3 sec\n",
      "elapse time : 0.32 sec\n",
      "elapse time : 0.33 sec\n",
      "elapse time : 0.32 sec\n",
      "elapse time : 0.33 sec\n",
      "elapse time : 0.33 sec\n",
      "elapse time : 0.33 sec\n",
      "elapse time : 0.34 sec\n",
      "elapse time : 0.35 sec\n",
      "elapse time : 0.32 sec\n",
      "elapse time : 0.32 sec\n",
      "elapse time : 0.32 sec\n",
      "elapse time : 0.32 sec\n",
      "elapse time : 0.33 sec\n",
      "elapse time : 0.33 sec\n",
      "elapse time : 0.33 sec\n",
      "elapse time : 0.35 sec\n",
      "elapse time : 0.32 sec\n",
      "elapse time : 0.32 sec\n",
      "elapse time : 0.32 sec\n",
      "elapse time : 0.32 sec\n",
      "elapse time : 0.31 sec\n",
      "elapse time : 0.34 sec\n",
      "elapse time : 0.27 sec\n",
      "elapse time : 0.33 sec\n",
      "elapse time : 0.33 sec\n",
      "elapse time : 0.33 sec\n",
      "elapse time : 0.32 sec\n",
      "elapse time : 0.37 sec\n",
      "elapse time : 0.33 sec\n",
      "elapse time : 0.33 sec\n",
      "elapse time : 0.34 sec\n",
      "elapse time : 0.33 sec\n",
      "elapse time : 0.33 sec\n",
      "elapse time : 0.34 sec\n",
      "elapse time : 0.32 sec\n",
      "elapse time : 0.32 sec\n",
      "elapse time : 0.34 sec\n",
      "elapse time : 0.32 sec\n",
      "\n",
      "total time : 1.13 minute\n"
     ]
    }
   ],
   "source": [
    "import warnings\n",
    "warnings.simplefilter(\"ignore\", DeprecationWarning)\n",
    "\n",
    "total_time = 0\n",
    "test_result = {}\n",
    "fi_dict = {}\n",
    "for i in raw_data.keys():\n",
    "    model, fear_importance, elapse = modelfit(alg, train[i], predictors, target, \n",
    "                                              cv_folds=5, early_stopping_rounds=20,\n",
    "                                              figure=False, model_report=False)\n",
    "    start = time.time()\n",
    "    pred = model.predict(test[i][predictors])\n",
    "    # Calculating Score\n",
    "    test_result[i] = np.array([\n",
    "        metrics.accuracy_score(pred, test[i][target]),\n",
    "        metrics.f1_score(pred, test[i][target]),\n",
    "        metrics.precision_score(pred, test[i][target]),\n",
    "        metrics.recall_score(pred, test[i][target]),\n",
    "        metrics.roc_auc_score(pred, test[i][target])\n",
    "    ])\n",
    "    #fi_dict[i] = {feature:value for feature,value in fear_importance.iloc[-10:].values}\n",
    "    #print(\"test accuracy {} : {}\".format(code_dict[i], accuracy[i]))\n",
    "    total_time += elapse + time.time() - start\n",
    "print(\"\\ntotal time : {} minute\".format(round(total_time / 60,2)))\n",
    "\n",
    "result = pd.DataFrame(test_result, index = score_li).T"
   ]
  },
  {
   "cell_type": "code",
   "execution_count": 264,
   "metadata": {},
   "outputs": [],
   "source": [
    "result['income'] = np.NaN\n",
    "result['업종'] = np.NaN\n",
    "for i in result.index:\n",
    "    result.loc[i, 'income'] = party_df[party_df['종목코드'] == i]['income'].values[0]\n",
    "    result.loc[i, '업종'] = party_df[party_df['종목코드'] == i]['업종'].values[0]"
   ]
  },
  {
   "cell_type": "code",
   "execution_count": 265,
   "metadata": {},
   "outputs": [
    {
     "data": {
      "text/html": [
       "<div>\n",
       "<style scoped>\n",
       "    .dataframe tbody tr th:only-of-type {\n",
       "        vertical-align: middle;\n",
       "    }\n",
       "\n",
       "    .dataframe tbody tr th {\n",
       "        vertical-align: top;\n",
       "    }\n",
       "\n",
       "    .dataframe thead th {\n",
       "        text-align: right;\n",
       "    }\n",
       "</style>\n",
       "<table border=\"1\" class=\"dataframe\">\n",
       "  <thead>\n",
       "    <tr style=\"text-align: right;\">\n",
       "      <th></th>\n",
       "      <th>accuracy_score</th>\n",
       "      <th>f1_score</th>\n",
       "      <th>precision_score</th>\n",
       "      <th>recall_score</th>\n",
       "      <th>roc_auc_score</th>\n",
       "    </tr>\n",
       "  </thead>\n",
       "  <tbody>\n",
       "    <tr>\n",
       "      <th>count</th>\n",
       "      <td>193.000000</td>\n",
       "      <td>193.000000</td>\n",
       "      <td>193.000000</td>\n",
       "      <td>193.000000</td>\n",
       "      <td>193.000000</td>\n",
       "    </tr>\n",
       "    <tr>\n",
       "      <th>mean</th>\n",
       "      <td>0.863834</td>\n",
       "      <td>0.857158</td>\n",
       "      <td>0.843037</td>\n",
       "      <td>0.876806</td>\n",
       "      <td>0.867663</td>\n",
       "    </tr>\n",
       "    <tr>\n",
       "      <th>std</th>\n",
       "      <td>0.030262</td>\n",
       "      <td>0.033660</td>\n",
       "      <td>0.065427</td>\n",
       "      <td>0.042256</td>\n",
       "      <td>0.028726</td>\n",
       "    </tr>\n",
       "    <tr>\n",
       "      <th>min</th>\n",
       "      <td>0.698980</td>\n",
       "      <td>0.691099</td>\n",
       "      <td>0.568966</td>\n",
       "      <td>0.755556</td>\n",
       "      <td>0.725146</td>\n",
       "    </tr>\n",
       "    <tr>\n",
       "      <th>25%</th>\n",
       "      <td>0.854938</td>\n",
       "      <td>0.843972</td>\n",
       "      <td>0.805195</td>\n",
       "      <td>0.847826</td>\n",
       "      <td>0.856985</td>\n",
       "    </tr>\n",
       "    <tr>\n",
       "      <th>50%</th>\n",
       "      <td>0.867284</td>\n",
       "      <td>0.861538</td>\n",
       "      <td>0.848101</td>\n",
       "      <td>0.877301</td>\n",
       "      <td>0.871035</td>\n",
       "    </tr>\n",
       "    <tr>\n",
       "      <th>75%</th>\n",
       "      <td>0.879630</td>\n",
       "      <td>0.875776</td>\n",
       "      <td>0.884956</td>\n",
       "      <td>0.910448</td>\n",
       "      <td>0.884496</td>\n",
       "    </tr>\n",
       "    <tr>\n",
       "      <th>max</th>\n",
       "      <td>0.922840</td>\n",
       "      <td>0.937634</td>\n",
       "      <td>0.981982</td>\n",
       "      <td>0.965517</td>\n",
       "      <td>0.925215</td>\n",
       "    </tr>\n",
       "  </tbody>\n",
       "</table>\n",
       "</div>"
      ],
      "text/plain": [
       "       accuracy_score    f1_score  precision_score  recall_score  \\\n",
       "count      193.000000  193.000000       193.000000    193.000000   \n",
       "mean         0.863834    0.857158         0.843037      0.876806   \n",
       "std          0.030262    0.033660         0.065427      0.042256   \n",
       "min          0.698980    0.691099         0.568966      0.755556   \n",
       "25%          0.854938    0.843972         0.805195      0.847826   \n",
       "50%          0.867284    0.861538         0.848101      0.877301   \n",
       "75%          0.879630    0.875776         0.884956      0.910448   \n",
       "max          0.922840    0.937634         0.981982      0.965517   \n",
       "\n",
       "       roc_auc_score  \n",
       "count     193.000000  \n",
       "mean        0.867663  \n",
       "std         0.028726  \n",
       "min         0.725146  \n",
       "25%         0.856985  \n",
       "50%         0.871035  \n",
       "75%         0.884496  \n",
       "max         0.925215  "
      ]
     },
     "execution_count": 265,
     "metadata": {},
     "output_type": "execute_result"
    }
   ],
   "source": [
    "result.describe()"
   ]
  },
  {
   "cell_type": "code",
   "execution_count": 266,
   "metadata": {},
   "outputs": [
    {
     "data": {
      "text/plain": [
       "low             49\n",
       "middle          49\n",
       "lower middle    43\n",
       "high            30\n",
       "upper middle    22\n",
       "Name: income, dtype: int64"
      ]
     },
     "execution_count": 266,
     "metadata": {},
     "output_type": "execute_result"
    }
   ],
   "source": [
    "result.income.value_counts()"
   ]
  },
  {
   "cell_type": "code",
   "execution_count": 267,
   "metadata": {},
   "outputs": [
    {
     "data": {
      "text/plain": [
       "경기소비재    38\n",
       "생활소비재    35\n",
       "에너지화학    24\n",
       "금융       17\n",
       "헬스케어     17\n",
       "정보기술     15\n",
       "산업재      15\n",
       "건설       13\n",
       "철강소재     10\n",
       "중공업       9\n",
       "Name: 업종, dtype: int64"
      ]
     },
     "execution_count": 267,
     "metadata": {},
     "output_type": "execute_result"
    }
   ],
   "source": [
    "result['업종'].value_counts()"
   ]
  },
  {
   "cell_type": "code",
   "execution_count": 268,
   "metadata": {},
   "outputs": [
    {
     "name": "stdout",
     "output_type": "stream",
     "text": [
      "high\n",
      "       accuracy_score   f1_score  precision_score  recall_score  roc_auc_score\n",
      "count       30.000000  30.000000        30.000000     30.000000      30.000000\n",
      "mean         0.864030   0.854350         0.816809      0.898398       0.869018\n",
      "std          0.018202   0.021372         0.046747      0.029614       0.017316\n",
      "min          0.820988   0.804054         0.734568      0.813725       0.830872\n",
      "25%          0.858025   0.841694         0.786631      0.882792       0.867250\n",
      "50%          0.870370   0.859498         0.816319      0.896678       0.873039\n",
      "75%          0.875772   0.866879         0.847859      0.921392       0.878708\n",
      "max          0.885802   0.893372         0.945122      0.945736       0.891582 \n",
      "\n",
      "low\n",
      "       accuracy_score   f1_score  precision_score  recall_score  roc_auc_score\n",
      "count       49.000000  49.000000        49.000000     49.000000      49.000000\n",
      "mean         0.857658   0.848789         0.826271      0.879674       0.863067\n",
      "std          0.038864   0.043387         0.080258      0.044239       0.034199\n",
      "min          0.698980   0.691099         0.568966      0.792593       0.733388\n",
      "25%          0.845679   0.841379         0.791139      0.857143       0.850275\n",
      "50%          0.864198   0.849315         0.836601      0.885714       0.867336\n",
      "75%          0.873457   0.871951         0.878049      0.915493       0.878183\n",
      "max          0.922840   0.926686         0.957576      0.951613       0.925215 \n",
      "\n",
      "lower middle\n",
      "       accuracy_score   f1_score  precision_score  recall_score  roc_auc_score\n",
      "count       43.000000  43.000000        43.000000     43.000000      43.000000\n",
      "mean         0.862685   0.859740         0.865212      0.857793       0.865058\n",
      "std          0.033570   0.034777         0.061597      0.041556       0.033927\n",
      "min          0.724324   0.727273         0.701031      0.755556       0.725146\n",
      "25%          0.858919   0.854767         0.846620      0.826852       0.860211\n",
      "50%          0.870056   0.863222         0.881250      0.860759       0.871514\n",
      "75%          0.879630   0.878033         0.897203      0.877753       0.885322\n",
      "max          0.907407   0.905063         0.975000      0.957143       0.907594 \n",
      "\n",
      "middle\n",
      "       accuracy_score   f1_score  precision_score  recall_score  roc_auc_score\n",
      "count       49.000000  49.000000        49.000000     49.000000      49.000000\n",
      "mean         0.868725   0.862506         0.852524      0.877393       0.872213\n",
      "std          0.024131   0.027904         0.059557      0.042666       0.024030\n",
      "min          0.802469   0.804878         0.713376      0.785714       0.803114\n",
      "25%          0.854938   0.845679         0.825000      0.845714       0.856510\n",
      "50%          0.867284   0.862974         0.850932      0.869565       0.869754\n",
      "75%          0.879630   0.870968         0.889610      0.907285       0.883630\n",
      "max          0.922840   0.937634         0.981982      0.965517       0.924798 \n",
      "\n",
      "upper middle\n",
      "       accuracy_score   f1_score  precision_score  recall_score  roc_auc_score\n",
      "count       22.000000  22.000000        22.000000     22.000000      22.000000\n",
      "mean         0.868673   0.862673         0.851670      0.876833       0.871006\n",
      "std          0.026571   0.030652         0.052611      0.039998       0.026641\n",
      "min          0.811728   0.795699         0.740000      0.806818       0.814598\n",
      "25%          0.858025   0.843519         0.826844      0.848842       0.860317\n",
      "50%          0.870370   0.864367         0.845798      0.864873       0.871563\n",
      "75%          0.891204   0.885617         0.890242      0.904916       0.892871\n",
      "max          0.916364   0.911197         0.952096      0.951613       0.919515 \n",
      "\n"
     ]
    }
   ],
   "source": [
    "for income in result.income.unique():\n",
    "    print(income)\n",
    "    print(result.groupby('income').get_group(income).describe(), '\\n')"
   ]
  },
  {
   "cell_type": "code",
   "execution_count": 269,
   "metadata": {
    "scrolled": false
   },
   "outputs": [
    {
     "name": "stdout",
     "output_type": "stream",
     "text": [
      "금융\n",
      "       accuracy_score   f1_score  precision_score  recall_score  roc_auc_score\n",
      "count       17.000000  17.000000        17.000000     17.000000      17.000000\n",
      "mean         0.860748   0.851594         0.821904      0.887005       0.864736\n",
      "std          0.018418   0.023218         0.049552      0.036783       0.018581\n",
      "min          0.824074   0.795699         0.713376      0.836478       0.830233\n",
      "25%          0.851852   0.844595         0.785276      0.860465       0.855743\n",
      "50%          0.864198   0.858108         0.831081      0.885135       0.869754\n",
      "75%          0.873457   0.865031         0.850932      0.917197       0.874586\n",
      "max          0.885802   0.886154         0.892617      0.965517       0.894853 \n",
      "\n",
      "생활소비재\n",
      "       accuracy_score   f1_score  precision_score  recall_score  roc_auc_score\n",
      "count       35.000000  35.000000        35.000000     35.000000      35.000000\n",
      "mean         0.857498   0.849388         0.829684      0.875419       0.861459\n",
      "std          0.037946   0.040208         0.074160      0.036450       0.033833\n",
      "min          0.698980   0.691099         0.568966      0.798611       0.733388\n",
      "25%          0.858025   0.843225         0.796305      0.854430       0.858504\n",
      "50%          0.864198   0.856250         0.830065      0.870748       0.867260\n",
      "75%          0.875000   0.869122         0.883117      0.896701       0.876721\n",
      "max          0.898148   0.899083         0.954839      0.952381       0.898285 \n",
      "\n",
      "헬스케어\n",
      "       accuracy_score   f1_score  precision_score  recall_score  roc_auc_score\n",
      "count       17.000000  17.000000        17.000000     17.000000      17.000000\n",
      "mean         0.869184   0.865153         0.863099      0.869419       0.870696\n",
      "std          0.018662   0.022626         0.043807      0.031119       0.017725\n",
      "min          0.828000   0.815603         0.737179      0.792593       0.831079\n",
      "25%          0.861111   0.854305         0.846626      0.854054       0.859237\n",
      "50%          0.870968   0.867925         0.866242      0.878205       0.871197\n",
      "75%          0.882716   0.878205         0.884354      0.890323       0.884278\n",
      "max          0.891975   0.897727         0.946108      0.912698       0.894653 \n",
      "\n",
      "산업재\n",
      "       accuracy_score   f1_score  precision_score  recall_score  roc_auc_score\n",
      "count       15.000000  15.000000        15.000000     15.000000      15.000000\n",
      "mean         0.869226   0.861896         0.849521      0.877497       0.871742\n",
      "std          0.024617   0.028006         0.050652      0.039575       0.025341\n",
      "min          0.802469   0.804878         0.763514      0.785714       0.803114\n",
      "25%          0.863329   0.848948         0.821305      0.858301       0.862943\n",
      "50%          0.873457   0.864353         0.845679      0.870588       0.878076\n",
      "75%          0.884259   0.878840         0.875817      0.905465       0.886088\n",
      "max          0.898148   0.903409         0.952096      0.944056       0.900953 \n",
      "\n",
      "건설\n",
      "       accuracy_score   f1_score  precision_score  recall_score  roc_auc_score\n",
      "count       13.000000  13.000000        13.000000     13.000000      13.000000\n",
      "mean         0.851277   0.842576         0.832846      0.858307       0.854953\n",
      "std          0.040783   0.047885         0.085442      0.037861       0.037360\n",
      "min          0.753086   0.735099         0.654088      0.809524       0.761812\n",
      "25%          0.842593   0.839117         0.822785      0.831325       0.842949\n",
      "50%          0.859813   0.854489         0.853333      0.851064       0.859958\n",
      "75%          0.867284   0.865031         0.888889      0.882353       0.866997\n",
      "max          0.907407   0.909091         0.937500      0.927536       0.908709 \n",
      "\n",
      "경기소비재\n",
      "       accuracy_score   f1_score  precision_score  recall_score  roc_auc_score\n",
      "count       38.000000  38.000000        38.000000     38.000000      38.000000\n",
      "mean         0.866425   0.863919         0.868590      0.865496       0.870502\n",
      "std          0.037692   0.040024         0.074699      0.052435       0.036330\n",
      "min          0.724324   0.727273         0.628743      0.755556       0.725146\n",
      "25%          0.845679   0.846890         0.840592      0.821863       0.848340\n",
      "50%          0.867284   0.862532         0.876524      0.865723       0.873771\n",
      "75%          0.891204   0.888889         0.922106      0.904054       0.895312\n",
      "max          0.922840   0.926686         0.975000      0.957143       0.925215 \n",
      "\n",
      "정보기술\n",
      "       accuracy_score   f1_score  precision_score  recall_score  roc_auc_score\n",
      "count       15.000000  15.000000        15.000000     15.000000      15.000000\n",
      "mean         0.868274   0.856004         0.815443      0.905946       0.875453\n",
      "std          0.018296   0.023344         0.059075      0.037990       0.016398\n",
      "min          0.829670   0.818505         0.725000      0.813725       0.831863\n",
      "25%          0.858025   0.837405         0.775189      0.887417       0.871000\n",
      "50%          0.873457   0.864686         0.829114      0.904110       0.876264\n",
      "75%          0.881173   0.868588         0.846411      0.932665       0.887845\n",
      "max          0.891975   0.892857         0.937500      0.958678       0.895529 \n",
      "\n",
      "철강소재\n",
      "       accuracy_score   f1_score  precision_score  recall_score  roc_auc_score\n",
      "count       10.000000  10.000000        10.000000     10.000000      10.000000\n",
      "mean         0.859568   0.849762         0.816774      0.889178       0.864444\n",
      "std          0.015277   0.017681         0.045414      0.040208       0.014880\n",
      "min          0.833333   0.817568         0.746914      0.804734       0.834625\n",
      "25%          0.858025   0.841201         0.788185      0.888249       0.861700\n",
      "50%          0.862654   0.846306         0.806362      0.898861       0.869148\n",
      "75%          0.869599   0.862801         0.843755      0.916346       0.872344\n",
      "max          0.879630   0.876972         0.899371      0.926667       0.882874 \n",
      "\n",
      "에너지화학\n",
      "       accuracy_score   f1_score  precision_score  recall_score  roc_auc_score\n",
      "count       24.000000  24.000000        24.000000     24.000000      24.000000\n",
      "mean         0.867413   0.859552         0.839565      0.884287       0.870674\n",
      "std          0.023602   0.023906         0.049219      0.042342       0.023110\n",
      "min          0.811728   0.804054         0.734568      0.796610       0.813271\n",
      "25%          0.861111   0.845688         0.802183      0.854773       0.862810\n",
      "50%          0.871914   0.862069         0.849869      0.886705       0.872148\n",
      "75%          0.882716   0.873413         0.880123      0.919860       0.886479\n",
      "max          0.910494   0.906149         0.915584      0.951613       0.911108 \n",
      "\n",
      "중공업\n",
      "       accuracy_score  f1_score  precision_score  recall_score  roc_auc_score\n",
      "count        9.000000  9.000000         9.000000      9.000000       9.000000\n",
      "mean         0.870201  0.871165         0.877437      0.867957       0.873720\n",
      "std          0.034128  0.040862         0.066216      0.043686       0.036207\n",
      "min          0.811728  0.807571         0.766467      0.809917       0.814598\n",
      "25%          0.854938  0.853147         0.852564      0.840491       0.854938\n",
      "50%          0.867284  0.859649         0.888889      0.858025       0.867450\n",
      "75%          0.891975  0.900850         0.915888      0.897119       0.896351\n",
      "max          0.922840  0.937634         0.981982      0.953642       0.924798 \n",
      "\n"
     ]
    }
   ],
   "source": [
    "for income in result['업종'].unique():\n",
    "    print(income)\n",
    "    print(result.groupby('업종').get_group(income).describe(), '\\n')"
   ]
  },
  {
   "cell_type": "code",
   "execution_count": null,
   "metadata": {},
   "outputs": [],
   "source": []
  }
 ],
 "metadata": {
  "kernelspec": {
   "display_name": "Python 3",
   "language": "python",
   "name": "python3"
  },
  "language_info": {
   "codemirror_mode": {
    "name": "ipython",
    "version": 3
   },
   "file_extension": ".py",
   "mimetype": "text/x-python",
   "name": "python",
   "nbconvert_exporter": "python",
   "pygments_lexer": "ipython3",
   "version": "3.6.5"
  }
 },
 "nbformat": 4,
 "nbformat_minor": 2
}
