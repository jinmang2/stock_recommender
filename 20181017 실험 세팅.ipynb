{
 "cells": [
  {
   "cell_type": "code",
   "execution_count": 1,
   "metadata": {},
   "outputs": [],
   "source": [
    "%run moon_code\n",
    "%run xgb_modelfit"
   ]
  },
  {
   "cell_type": "code",
   "execution_count": 2,
   "metadata": {},
   "outputs": [],
   "source": [
    "import warnings\n",
    "warnings.filterwarnings(action='ignore')"
   ]
  },
  {
   "cell_type": "code",
   "execution_count": null,
   "metadata": {},
   "outputs": [],
   "source": [
    "# Data load\n",
    "with open('raw_data_20181008.pickle', 'rb') as handle:\n",
    "    raw_data = pickle.load(handle)\n",
    "# 사용할 12개 주식 목록 \n",
    "stock_li = ['현대차', 'SK텔레콤', 'LG화학', '셀트리온', \n",
    "            'KB금융', '삼성전자', 'SK하이닉스', 'NAVER', \n",
    "            '현대글로비스', '현대건설', '삼성중공업', 'POSCO']\n",
    "# 12개 주식만 남기기\n",
    "key_li = list(raw_data.keys())\n",
    "for i in key_li:\n",
    "    if i not in stock_li:\n",
    "        del raw_data[i]\n",
    "# KOSPI data load\n",
    "with open('ks11_20181008.pickle', 'rb') as handle:\n",
    "    ks11 = pickle.load(handle)\n",
    "# KOSPI 수익률 추가\n",
    "for i in [1,3,5,7,10]:\n",
    "    ks11['returnsClosePrevRaw{}'.format(i)] = np.log(ks11.Open / ks11.Close.shift(i))\n",
    "    ks11['returnsOpenPrevRaw{}'.format(i)] = np.log(ks11.Open / ks11.Open.shift(i))\n",
    "# KOSPI Volume==0인 index 저장\n",
    "kospi_index_del = ks11[ks11.Volume == 0][ks11.columns[:6]].index\n",
    "# KOSPI Volume ==0인 index, stock에서 제외\n",
    "for key, df in raw_data.items():\n",
    "    raw_data[key] = df.drop(ks11[ks11.Volume == 0][ks11.columns[:6]].index, axis=0)\n",
    "# stock에서 Volume==0인 index, stock에서 제외\n",
    "for key, df in raw_data.items():\n",
    "    raw_data[key] = df.drop(df.index[np.where(df.Volume==0)[0]], axis=0)\n",
    "# feature 생성\n",
    "for key, df in raw_data.items():\n",
    "    df[\"pct_change\"] = df.Close.pct_change()\n",
    "    for i in range(3, 31, 2):\n",
    "        df[\"close_ma_{}\".format(i)] = df.Close.rolling(window = i).mean()\n",
    "        df[\"volume_ma_{}\".format(i)] = df.Volume.rolling(window = i).mean()\n",
    "    for i in [7, 21, 30, 60, 90, 91, 100, 120]:\n",
    "        df[\"his_vol_{}\".format(i)] = df[\"pct_change\"].rolling(window = i).std()*(252**0.5)\n",
    "    for i in [1, 3, 5, 7, 10]:\n",
    "        df['returnsClosePrevRaw{}'.format(i) ]= np.log(df.Open / df.Close.shift(i))\n",
    "        df['returnsOpenPrevRaw{}'.format(i) ] = np.log(df.Open / df.Open.shift(i))\n",
    "        df['returnsClosePrevMktres{}'.format(i)] = df['returnsClosePrevRaw{}'.format(i)] - ks11['returnsClosePrevRaw{}'.format(i)]\n",
    "        df['returnsOpenPrevMktres{}'.format(i)] = df['returnsOpenPrevRaw{}'.format(i)] - ks11['returnsOpenPrevRaw{}'.format(i)]\n",
    "    for i in [1, 3, 5, 7, 10]:\n",
    "        df['Y3_{}'.format(i)] = np.where(df.Close.rolling(i).mean() - df.Close.shift(1).rolling(i).mean()>=0,1,0)\n",
    "        df['sh1_Y3_{}'.format(i)] = df['Y3_{}'.format(i)].shift(-1)\n",
    "        df['sh5_Y3_{}'.format(i)] = df['Y3_{}'.format(i)].shift(-5)\n",
    "# 날짜 조정\n",
    "data = adjust_window(raw_data, '2013-07-01', '2018-07-01')\n",
    "\n",
    "li = ['Y3_{}'.format(i) for i in [1,3,5,7,10]]\n",
    "li.extend(['sh1_Y3_{}'.format(i) for i in [1,3,5,7,10]])\n",
    "li.extend(['sh5_Y3_{}'.format(i) for i in [1,3,5,7,10]])\n",
    "target_li = li\n",
    "\n",
    "X_li = [i for i in data['삼성전자'].columns if i not in target_li]\n",
    "scl_X_li = ['scl_'+i for i in X_li]\n",
    "\n",
    "for key, df in data.items():\n",
    "    for X in X_li:\n",
    "        df['scl_{}'.format(X)] = df[X]\n",
    "        \n",
    "train, test = multi_train_test_split(data, 0.8, dtrain=True)\n",
    "\n",
    "multi_apply_standard_scale(train, test, scl_X_li)\n",
    "\n",
    "scl_li = scl_X_li.copy()\n",
    "for ix, i in enumerate(scl_X_li):\n",
    "    if (i.find('returns') != -1) or (i.find('his') != -1) or (i.find('pct') != -1):\n",
    "        scl_li[ix] = scl_X_li[ix][4:]\n",
    "origin_X = [i for i in X_li if i.find('returns') != 0]\n",
    "origin_scl_X = [i for i in scl_li if i.find('returns') != 0]"
   ]
  },
  {
   "cell_type": "markdown",
   "metadata": {},
   "source": [
    "# 세부 내용 정리"
   ]
  },
  {
   "cell_type": "code",
   "execution_count": 3,
   "metadata": {},
   "outputs": [],
   "source": [
    "# Data load\n",
    "with open('raw_data_20181008.pickle', 'rb') as handle:\n",
    "    raw_data = pickle.load(handle)"
   ]
  },
  {
   "cell_type": "code",
   "execution_count": 4,
   "metadata": {},
   "outputs": [
    {
     "data": {
      "text/plain": [
       "202"
      ]
     },
     "execution_count": 4,
     "metadata": {},
     "output_type": "execute_result"
    }
   ],
   "source": [
    "len(raw_data)"
   ]
  },
  {
   "cell_type": "code",
   "execution_count": 5,
   "metadata": {},
   "outputs": [
    {
     "data": {
      "text/html": [
       "<div>\n",
       "<style scoped>\n",
       "    .dataframe tbody tr th:only-of-type {\n",
       "        vertical-align: middle;\n",
       "    }\n",
       "\n",
       "    .dataframe tbody tr th {\n",
       "        vertical-align: top;\n",
       "    }\n",
       "\n",
       "    .dataframe thead th {\n",
       "        text-align: right;\n",
       "    }\n",
       "</style>\n",
       "<table border=\"1\" class=\"dataframe\">\n",
       "  <thead>\n",
       "    <tr style=\"text-align: right;\">\n",
       "      <th></th>\n",
       "      <th>Open</th>\n",
       "      <th>High</th>\n",
       "      <th>Low</th>\n",
       "      <th>Close</th>\n",
       "      <th>Adj Close</th>\n",
       "      <th>Volume</th>\n",
       "    </tr>\n",
       "    <tr>\n",
       "      <th>Date</th>\n",
       "      <th></th>\n",
       "      <th></th>\n",
       "      <th></th>\n",
       "      <th></th>\n",
       "      <th></th>\n",
       "      <th></th>\n",
       "    </tr>\n",
       "  </thead>\n",
       "  <tbody>\n",
       "    <tr>\n",
       "      <th>2010-01-04</th>\n",
       "      <td>16060.0</td>\n",
       "      <td>16180.0</td>\n",
       "      <td>16000.0</td>\n",
       "      <td>16180.0</td>\n",
       "      <td>5.953252</td>\n",
       "      <td>11950800</td>\n",
       "    </tr>\n",
       "    <tr>\n",
       "      <th>2010-01-05</th>\n",
       "      <td>16520.0</td>\n",
       "      <td>16580.0</td>\n",
       "      <td>16300.0</td>\n",
       "      <td>16440.0</td>\n",
       "      <td>6.048919</td>\n",
       "      <td>27925850</td>\n",
       "    </tr>\n",
       "    <tr>\n",
       "      <th>2010-01-06</th>\n",
       "      <td>16580.0</td>\n",
       "      <td>16820.0</td>\n",
       "      <td>16520.0</td>\n",
       "      <td>16820.0</td>\n",
       "      <td>6.188735</td>\n",
       "      <td>22948850</td>\n",
       "    </tr>\n",
       "    <tr>\n",
       "      <th>2010-01-07</th>\n",
       "      <td>16820.0</td>\n",
       "      <td>16820.0</td>\n",
       "      <td>16260.0</td>\n",
       "      <td>16260.0</td>\n",
       "      <td>5.982689</td>\n",
       "      <td>22107950</td>\n",
       "    </tr>\n",
       "    <tr>\n",
       "      <th>2010-01-08</th>\n",
       "      <td>16400.0</td>\n",
       "      <td>16420.0</td>\n",
       "      <td>16120.0</td>\n",
       "      <td>16420.0</td>\n",
       "      <td>6.041558</td>\n",
       "      <td>14777550</td>\n",
       "    </tr>\n",
       "  </tbody>\n",
       "</table>\n",
       "</div>"
      ],
      "text/plain": [
       "               Open     High      Low    Close  Adj Close    Volume\n",
       "Date                                                               \n",
       "2010-01-04  16060.0  16180.0  16000.0  16180.0   5.953252  11950800\n",
       "2010-01-05  16520.0  16580.0  16300.0  16440.0   6.048919  27925850\n",
       "2010-01-06  16580.0  16820.0  16520.0  16820.0   6.188735  22948850\n",
       "2010-01-07  16820.0  16820.0  16260.0  16260.0   5.982689  22107950\n",
       "2010-01-08  16400.0  16420.0  16120.0  16420.0   6.041558  14777550"
      ]
     },
     "execution_count": 5,
     "metadata": {},
     "output_type": "execute_result"
    }
   ],
   "source": [
    "raw_data['삼성전자'].head()"
   ]
  },
  {
   "cell_type": "code",
   "execution_count": 6,
   "metadata": {},
   "outputs": [],
   "source": [
    "# 사용할 12개 주식 목록 \n",
    "stock_li = ['현대차', 'SK텔레콤', 'LG화학', '셀트리온', \n",
    "            'KB금융', '삼성전자', 'SK하이닉스', 'NAVER', \n",
    "            '현대글로비스', '현대건설', '삼성중공업', 'POSCO']\n",
    "# 12개 주식만 남기기\n",
    "key_li = list(raw_data.keys())\n",
    "for i in key_li:\n",
    "    if i not in stock_li:\n",
    "        del raw_data[i]"
   ]
  },
  {
   "cell_type": "code",
   "execution_count": 7,
   "metadata": {},
   "outputs": [
    {
     "data": {
      "text/plain": [
       "12"
      ]
     },
     "execution_count": 7,
     "metadata": {},
     "output_type": "execute_result"
    }
   ],
   "source": [
    "len(raw_data)"
   ]
  },
  {
   "cell_type": "code",
   "execution_count": 8,
   "metadata": {},
   "outputs": [
    {
     "data": {
      "text/plain": [
       "True"
      ]
     },
     "execution_count": 8,
     "metadata": {},
     "output_type": "execute_result"
    }
   ],
   "source": [
    "set(raw_data.keys()) == set(stock_li)"
   ]
  },
  {
   "cell_type": "code",
   "execution_count": 9,
   "metadata": {},
   "outputs": [],
   "source": [
    "# KOSPI data load\n",
    "with open('ks11_20181008.pickle', 'rb') as handle:\n",
    "    ks11 = pickle.load(handle)"
   ]
  },
  {
   "cell_type": "code",
   "execution_count": 10,
   "metadata": {},
   "outputs": [
    {
     "data": {
      "text/html": [
       "<div>\n",
       "<style scoped>\n",
       "    .dataframe tbody tr th:only-of-type {\n",
       "        vertical-align: middle;\n",
       "    }\n",
       "\n",
       "    .dataframe tbody tr th {\n",
       "        vertical-align: top;\n",
       "    }\n",
       "\n",
       "    .dataframe thead th {\n",
       "        text-align: right;\n",
       "    }\n",
       "</style>\n",
       "<table border=\"1\" class=\"dataframe\">\n",
       "  <thead>\n",
       "    <tr style=\"text-align: right;\">\n",
       "      <th></th>\n",
       "      <th>Open</th>\n",
       "      <th>High</th>\n",
       "      <th>Low</th>\n",
       "      <th>Close</th>\n",
       "      <th>Adj Close</th>\n",
       "      <th>Volume</th>\n",
       "    </tr>\n",
       "    <tr>\n",
       "      <th>Date</th>\n",
       "      <th></th>\n",
       "      <th></th>\n",
       "      <th></th>\n",
       "      <th></th>\n",
       "      <th></th>\n",
       "      <th></th>\n",
       "    </tr>\n",
       "  </thead>\n",
       "  <tbody>\n",
       "    <tr>\n",
       "      <th>2010-01-04</th>\n",
       "      <td>1681.709961</td>\n",
       "      <td>1696.140015</td>\n",
       "      <td>1681.709961</td>\n",
       "      <td>1696.140015</td>\n",
       "      <td>1696.140015</td>\n",
       "      <td>295600</td>\n",
       "    </tr>\n",
       "    <tr>\n",
       "      <th>2010-01-05</th>\n",
       "      <td>1701.619995</td>\n",
       "      <td>1702.390015</td>\n",
       "      <td>1686.449951</td>\n",
       "      <td>1690.619995</td>\n",
       "      <td>1690.619995</td>\n",
       "      <td>407600</td>\n",
       "    </tr>\n",
       "    <tr>\n",
       "      <th>2010-01-06</th>\n",
       "      <td>1697.880005</td>\n",
       "      <td>1706.890015</td>\n",
       "      <td>1696.099976</td>\n",
       "      <td>1705.319946</td>\n",
       "      <td>1705.319946</td>\n",
       "      <td>425400</td>\n",
       "    </tr>\n",
       "    <tr>\n",
       "      <th>2010-01-07</th>\n",
       "      <td>1702.920044</td>\n",
       "      <td>1707.900024</td>\n",
       "      <td>1683.449951</td>\n",
       "      <td>1683.449951</td>\n",
       "      <td>1683.449951</td>\n",
       "      <td>461600</td>\n",
       "    </tr>\n",
       "    <tr>\n",
       "      <th>2010-01-08</th>\n",
       "      <td>1694.060059</td>\n",
       "      <td>1695.260010</td>\n",
       "      <td>1668.839966</td>\n",
       "      <td>1695.260010</td>\n",
       "      <td>1695.260010</td>\n",
       "      <td>379200</td>\n",
       "    </tr>\n",
       "  </tbody>\n",
       "</table>\n",
       "</div>"
      ],
      "text/plain": [
       "                   Open         High          Low        Close    Adj Close  \\\n",
       "Date                                                                          \n",
       "2010-01-04  1681.709961  1696.140015  1681.709961  1696.140015  1696.140015   \n",
       "2010-01-05  1701.619995  1702.390015  1686.449951  1690.619995  1690.619995   \n",
       "2010-01-06  1697.880005  1706.890015  1696.099976  1705.319946  1705.319946   \n",
       "2010-01-07  1702.920044  1707.900024  1683.449951  1683.449951  1683.449951   \n",
       "2010-01-08  1694.060059  1695.260010  1668.839966  1695.260010  1695.260010   \n",
       "\n",
       "            Volume  \n",
       "Date                \n",
       "2010-01-04  295600  \n",
       "2010-01-05  407600  \n",
       "2010-01-06  425400  \n",
       "2010-01-07  461600  \n",
       "2010-01-08  379200  "
      ]
     },
     "execution_count": 10,
     "metadata": {},
     "output_type": "execute_result"
    }
   ],
   "source": [
    "ks11.head()"
   ]
  },
  {
   "cell_type": "code",
   "execution_count": 11,
   "metadata": {},
   "outputs": [],
   "source": [
    "# KOSPI 수익률 추가\n",
    "for i in [1,3,5,7,10]:\n",
    "    ks11['returnsClosePrevRaw{}'.format(i)] = np.log(ks11.Open / ks11.Close.shift(i))\n",
    "    ks11['returnsOpenPrevRaw{}'.format(i)] = np.log(ks11.Open / ks11.Open.shift(i))"
   ]
  },
  {
   "cell_type": "code",
   "execution_count": 12,
   "metadata": {},
   "outputs": [
    {
     "data": {
      "text/html": [
       "<div>\n",
       "<style scoped>\n",
       "    .dataframe tbody tr th:only-of-type {\n",
       "        vertical-align: middle;\n",
       "    }\n",
       "\n",
       "    .dataframe tbody tr th {\n",
       "        vertical-align: top;\n",
       "    }\n",
       "\n",
       "    .dataframe thead th {\n",
       "        text-align: right;\n",
       "    }\n",
       "</style>\n",
       "<table border=\"1\" class=\"dataframe\">\n",
       "  <thead>\n",
       "    <tr style=\"text-align: right;\">\n",
       "      <th></th>\n",
       "      <th>returnsClosePrevRaw3</th>\n",
       "      <th>returnsOpenPrevRaw3</th>\n",
       "    </tr>\n",
       "    <tr>\n",
       "      <th>Date</th>\n",
       "      <th></th>\n",
       "      <th></th>\n",
       "    </tr>\n",
       "  </thead>\n",
       "  <tbody>\n",
       "    <tr>\n",
       "      <th>2010-01-11</th>\n",
       "      <td>-0.002660</td>\n",
       "      <td>0.001712</td>\n",
       "    </tr>\n",
       "    <tr>\n",
       "      <th>2010-01-12</th>\n",
       "      <td>0.007327</td>\n",
       "      <td>-0.004172</td>\n",
       "    </tr>\n",
       "    <tr>\n",
       "      <th>2010-01-13</th>\n",
       "      <td>-0.006955</td>\n",
       "      <td>-0.006247</td>\n",
       "    </tr>\n",
       "    <tr>\n",
       "      <th>2010-01-14</th>\n",
       "      <td>-0.007965</td>\n",
       "      <td>-0.011894</td>\n",
       "    </tr>\n",
       "    <tr>\n",
       "      <th>2010-01-15</th>\n",
       "      <td>-0.002352</td>\n",
       "      <td>-0.000696</td>\n",
       "    </tr>\n",
       "  </tbody>\n",
       "</table>\n",
       "</div>"
      ],
      "text/plain": [
       "            returnsClosePrevRaw3  returnsOpenPrevRaw3\n",
       "Date                                                 \n",
       "2010-01-11             -0.002660             0.001712\n",
       "2010-01-12              0.007327            -0.004172\n",
       "2010-01-13             -0.006955            -0.006247\n",
       "2010-01-14             -0.007965            -0.011894\n",
       "2010-01-15             -0.002352            -0.000696"
      ]
     },
     "execution_count": 12,
     "metadata": {},
     "output_type": "execute_result"
    }
   ],
   "source": [
    "ks11[['returnsClosePrevRaw3','returnsOpenPrevRaw3']].iloc[5:10]"
   ]
  },
  {
   "cell_type": "code",
   "execution_count": 13,
   "metadata": {},
   "outputs": [
    {
     "data": {
      "text/html": [
       "<div>\n",
       "<style scoped>\n",
       "    .dataframe tbody tr th:only-of-type {\n",
       "        vertical-align: middle;\n",
       "    }\n",
       "\n",
       "    .dataframe tbody tr th {\n",
       "        vertical-align: top;\n",
       "    }\n",
       "\n",
       "    .dataframe thead th {\n",
       "        text-align: right;\n",
       "    }\n",
       "</style>\n",
       "<table border=\"1\" class=\"dataframe\">\n",
       "  <thead>\n",
       "    <tr style=\"text-align: right;\">\n",
       "      <th></th>\n",
       "      <th>Close</th>\n",
       "      <th>Open</th>\n",
       "    </tr>\n",
       "    <tr>\n",
       "      <th>Date</th>\n",
       "      <th></th>\n",
       "      <th></th>\n",
       "    </tr>\n",
       "  </thead>\n",
       "  <tbody>\n",
       "    <tr>\n",
       "      <th>2010-01-04</th>\n",
       "      <td>1696.140015</td>\n",
       "      <td>1681.709961</td>\n",
       "    </tr>\n",
       "    <tr>\n",
       "      <th>2010-01-05</th>\n",
       "      <td>1690.619995</td>\n",
       "      <td>1701.619995</td>\n",
       "    </tr>\n",
       "    <tr>\n",
       "      <th>2010-01-06</th>\n",
       "      <td>1705.319946</td>\n",
       "      <td>1697.880005</td>\n",
       "    </tr>\n",
       "    <tr>\n",
       "      <th>2010-01-07</th>\n",
       "      <td>1683.449951</td>\n",
       "      <td>1702.920044</td>\n",
       "    </tr>\n",
       "    <tr>\n",
       "      <th>2010-01-08</th>\n",
       "      <td>1695.260010</td>\n",
       "      <td>1694.060059</td>\n",
       "    </tr>\n",
       "    <tr>\n",
       "      <th>2010-01-11</th>\n",
       "      <td>1694.119995</td>\n",
       "      <td>1700.790039</td>\n",
       "    </tr>\n",
       "    <tr>\n",
       "      <th>2010-01-12</th>\n",
       "      <td>1698.640015</td>\n",
       "      <td>1695.829956</td>\n",
       "    </tr>\n",
       "    <tr>\n",
       "      <th>2010-01-13</th>\n",
       "      <td>1671.410034</td>\n",
       "      <td>1683.510010</td>\n",
       "    </tr>\n",
       "    <tr>\n",
       "      <th>2010-01-14</th>\n",
       "      <td>1685.770020</td>\n",
       "      <td>1680.680054</td>\n",
       "    </tr>\n",
       "    <tr>\n",
       "      <th>2010-01-15</th>\n",
       "      <td>1701.800049</td>\n",
       "      <td>1694.650024</td>\n",
       "    </tr>\n",
       "  </tbody>\n",
       "</table>\n",
       "</div>"
      ],
      "text/plain": [
       "                  Close         Open\n",
       "Date                                \n",
       "2010-01-04  1696.140015  1681.709961\n",
       "2010-01-05  1690.619995  1701.619995\n",
       "2010-01-06  1705.319946  1697.880005\n",
       "2010-01-07  1683.449951  1702.920044\n",
       "2010-01-08  1695.260010  1694.060059\n",
       "2010-01-11  1694.119995  1700.790039\n",
       "2010-01-12  1698.640015  1695.829956\n",
       "2010-01-13  1671.410034  1683.510010\n",
       "2010-01-14  1685.770020  1680.680054\n",
       "2010-01-15  1701.800049  1694.650024"
      ]
     },
     "execution_count": 13,
     "metadata": {},
     "output_type": "execute_result"
    }
   ],
   "source": [
    "ks11[['Close','Open']].iloc[:10]"
   ]
  },
  {
   "cell_type": "code",
   "execution_count": 14,
   "metadata": {},
   "outputs": [
    {
     "data": {
      "text/plain": [
       "1.0126122122672019"
      ]
     },
     "execution_count": 14,
     "metadata": {},
     "output_type": "execute_result"
    }
   ],
   "source": [
    "1702.920044 / 1681.709961"
   ]
  },
  {
   "cell_type": "code",
   "execution_count": 15,
   "metadata": {},
   "outputs": [
    {
     "data": {
      "text/plain": [
       "Date\n",
       "2010-01-11    0.001712\n",
       "2010-01-12   -0.004172\n",
       "2010-01-13   -0.006247\n",
       "2010-01-14   -0.011894\n",
       "2010-01-15   -0.000696\n",
       "Name: Open, dtype: float64"
      ]
     },
     "execution_count": 15,
     "metadata": {},
     "output_type": "execute_result"
    }
   ],
   "source": [
    "(np.log(ks11.Open / ks11.Open.shift(3))).iloc[5:10]"
   ]
  },
  {
   "cell_type": "code",
   "execution_count": 16,
   "metadata": {},
   "outputs": [
    {
     "data": {
      "text/plain": [
       "DatetimeIndex(['2014-01-20', '2014-03-19', '2014-04-14', '2014-11-27',\n",
       "               '2014-12-03', '2014-12-09', '2014-12-15', '2014-12-18',\n",
       "               '2016-03-25', '2016-12-26', '2017-04-14', '2017-11-23'],\n",
       "              dtype='datetime64[ns]', name='Date', freq=None)"
      ]
     },
     "execution_count": 16,
     "metadata": {},
     "output_type": "execute_result"
    }
   ],
   "source": [
    "# KOSPI Volume==0인 index 저장\n",
    "kospi_index_del = ks11[ks11.Volume == 0][ks11.columns[:6]].index\n",
    "kospi_index_del"
   ]
  },
  {
   "cell_type": "code",
   "execution_count": 17,
   "metadata": {},
   "outputs": [
    {
     "data": {
      "text/plain": [
       "Date\n",
       "2014-01-20    0\n",
       "2014-03-19    0\n",
       "2014-04-14    0\n",
       "2014-11-27    0\n",
       "2014-12-03    0\n",
       "2014-12-09    0\n",
       "2014-12-15    0\n",
       "2014-12-18    0\n",
       "2016-03-25    0\n",
       "2016-12-26    0\n",
       "2017-04-14    0\n",
       "2017-11-23    0\n",
       "Name: Volume, dtype: int32"
      ]
     },
     "execution_count": 17,
     "metadata": {},
     "output_type": "execute_result"
    }
   ],
   "source": [
    "ks11.loc[kospi_index_del,'Volume']"
   ]
  },
  {
   "cell_type": "code",
   "execution_count": 18,
   "metadata": {},
   "outputs": [
    {
     "data": {
      "text/html": [
       "<div>\n",
       "<style scoped>\n",
       "    .dataframe tbody tr th:only-of-type {\n",
       "        vertical-align: middle;\n",
       "    }\n",
       "\n",
       "    .dataframe tbody tr th {\n",
       "        vertical-align: top;\n",
       "    }\n",
       "\n",
       "    .dataframe thead th {\n",
       "        text-align: right;\n",
       "    }\n",
       "</style>\n",
       "<table border=\"1\" class=\"dataframe\">\n",
       "  <thead>\n",
       "    <tr style=\"text-align: right;\">\n",
       "      <th></th>\n",
       "      <th>Open</th>\n",
       "      <th>High</th>\n",
       "      <th>Low</th>\n",
       "      <th>Close</th>\n",
       "      <th>Adj Close</th>\n",
       "      <th>Volume</th>\n",
       "    </tr>\n",
       "    <tr>\n",
       "      <th>Date</th>\n",
       "      <th></th>\n",
       "      <th></th>\n",
       "      <th></th>\n",
       "      <th></th>\n",
       "      <th></th>\n",
       "      <th></th>\n",
       "    </tr>\n",
       "  </thead>\n",
       "  <tbody>\n",
       "    <tr>\n",
       "      <th>2014-01-20</th>\n",
       "      <td>26100.0</td>\n",
       "      <td>26380.0</td>\n",
       "      <td>25920.0</td>\n",
       "      <td>26320.0</td>\n",
       "      <td>71.011551</td>\n",
       "      <td>8682800</td>\n",
       "    </tr>\n",
       "    <tr>\n",
       "      <th>2014-03-19</th>\n",
       "      <td>25600.0</td>\n",
       "      <td>25700.0</td>\n",
       "      <td>25360.0</td>\n",
       "      <td>25380.0</td>\n",
       "      <td>68.475433</td>\n",
       "      <td>7638550</td>\n",
       "    </tr>\n",
       "    <tr>\n",
       "      <th>2014-04-14</th>\n",
       "      <td>27300.0</td>\n",
       "      <td>27720.0</td>\n",
       "      <td>27300.0</td>\n",
       "      <td>27400.0</td>\n",
       "      <td>73.925407</td>\n",
       "      <td>10586000</td>\n",
       "    </tr>\n",
       "    <tr>\n",
       "      <th>2014-11-27</th>\n",
       "      <td>25460.0</td>\n",
       "      <td>26020.0</td>\n",
       "      <td>25280.0</td>\n",
       "      <td>25280.0</td>\n",
       "      <td>69.517273</td>\n",
       "      <td>44377800</td>\n",
       "    </tr>\n",
       "    <tr>\n",
       "      <th>2014-12-03</th>\n",
       "      <td>26000.0</td>\n",
       "      <td>26020.0</td>\n",
       "      <td>25900.0</td>\n",
       "      <td>25960.0</td>\n",
       "      <td>71.387207</td>\n",
       "      <td>9735500</td>\n",
       "    </tr>\n",
       "    <tr>\n",
       "      <th>2014-12-09</th>\n",
       "      <td>26380.0</td>\n",
       "      <td>27140.0</td>\n",
       "      <td>26380.0</td>\n",
       "      <td>26980.0</td>\n",
       "      <td>74.192093</td>\n",
       "      <td>13553100</td>\n",
       "    </tr>\n",
       "    <tr>\n",
       "      <th>2014-12-15</th>\n",
       "      <td>25600.0</td>\n",
       "      <td>25600.0</td>\n",
       "      <td>25200.0</td>\n",
       "      <td>25460.0</td>\n",
       "      <td>70.012260</td>\n",
       "      <td>14337950</td>\n",
       "    </tr>\n",
       "    <tr>\n",
       "      <th>2014-12-18</th>\n",
       "      <td>25320.0</td>\n",
       "      <td>25580.0</td>\n",
       "      <td>25040.0</td>\n",
       "      <td>25320.0</td>\n",
       "      <td>69.627281</td>\n",
       "      <td>11808250</td>\n",
       "    </tr>\n",
       "    <tr>\n",
       "      <th>2016-03-25</th>\n",
       "      <td>25660.0</td>\n",
       "      <td>25800.0</td>\n",
       "      <td>25560.0</td>\n",
       "      <td>25760.0</td>\n",
       "      <td>1258.291992</td>\n",
       "      <td>7172300</td>\n",
       "    </tr>\n",
       "    <tr>\n",
       "      <th>2016-12-26</th>\n",
       "      <td>35600.0</td>\n",
       "      <td>36000.0</td>\n",
       "      <td>35560.0</td>\n",
       "      <td>35960.0</td>\n",
       "      <td>1821.633545</td>\n",
       "      <td>4823600</td>\n",
       "    </tr>\n",
       "    <tr>\n",
       "      <th>2017-04-14</th>\n",
       "      <td>42160.0</td>\n",
       "      <td>42260.0</td>\n",
       "      <td>41760.0</td>\n",
       "      <td>42020.0</td>\n",
       "      <td>10849.295898</td>\n",
       "      <td>5462850</td>\n",
       "    </tr>\n",
       "    <tr>\n",
       "      <th>2017-11-23</th>\n",
       "      <td>55960.0</td>\n",
       "      <td>55980.0</td>\n",
       "      <td>55020.0</td>\n",
       "      <td>55300.0</td>\n",
       "      <td>19355.480469</td>\n",
       "      <td>6272900</td>\n",
       "    </tr>\n",
       "  </tbody>\n",
       "</table>\n",
       "</div>"
      ],
      "text/plain": [
       "               Open     High      Low    Close     Adj Close    Volume\n",
       "Date                                                                  \n",
       "2014-01-20  26100.0  26380.0  25920.0  26320.0     71.011551   8682800\n",
       "2014-03-19  25600.0  25700.0  25360.0  25380.0     68.475433   7638550\n",
       "2014-04-14  27300.0  27720.0  27300.0  27400.0     73.925407  10586000\n",
       "2014-11-27  25460.0  26020.0  25280.0  25280.0     69.517273  44377800\n",
       "2014-12-03  26000.0  26020.0  25900.0  25960.0     71.387207   9735500\n",
       "2014-12-09  26380.0  27140.0  26380.0  26980.0     74.192093  13553100\n",
       "2014-12-15  25600.0  25600.0  25200.0  25460.0     70.012260  14337950\n",
       "2014-12-18  25320.0  25580.0  25040.0  25320.0     69.627281  11808250\n",
       "2016-03-25  25660.0  25800.0  25560.0  25760.0   1258.291992   7172300\n",
       "2016-12-26  35600.0  36000.0  35560.0  35960.0   1821.633545   4823600\n",
       "2017-04-14  42160.0  42260.0  41760.0  42020.0  10849.295898   5462850\n",
       "2017-11-23  55960.0  55980.0  55020.0  55300.0  19355.480469   6272900"
      ]
     },
     "execution_count": 18,
     "metadata": {},
     "output_type": "execute_result"
    }
   ],
   "source": [
    "raw_data['삼성전자'].loc[kospi_index_del]"
   ]
  },
  {
   "cell_type": "code",
   "execution_count": 19,
   "metadata": {},
   "outputs": [],
   "source": [
    "# KOSPI Volume ==0인 index, stock에서 제외\n",
    "for key, df in raw_data.items():\n",
    "    raw_data[key] = df.drop(kospi_index_del, axis=0)"
   ]
  },
  {
   "cell_type": "code",
   "execution_count": 20,
   "metadata": {},
   "outputs": [
    {
     "name": "stdout",
     "output_type": "stream",
     "text": [
      "KeyError\n"
     ]
    }
   ],
   "source": [
    "try:\n",
    "    raw_data['삼성전자'].loc[kospi_index_del]\n",
    "except KeyError:\n",
    "    print('KeyError')"
   ]
  },
  {
   "cell_type": "code",
   "execution_count": 21,
   "metadata": {},
   "outputs": [],
   "source": [
    "# stock에서 Volume==0인 index, stock에서 제외\n",
    "for key, df in raw_data.items():\n",
    "    raw_data[key] = df.drop(df.index[np.where(df.Volume==0)[0]], axis=0)"
   ]
  },
  {
   "cell_type": "code",
   "execution_count": 22,
   "metadata": {},
   "outputs": [
    {
     "name": "stdout",
     "output_type": "stream",
     "text": [
      "2144 \t KB금융\n",
      "2144 \t LG화학\n",
      "2123 \t NAVER\n",
      "2144 \t POSCO\n",
      "2144 \t SK텔레콤\n",
      "2144 \t SK하이닉스\n",
      "2141 \t 삼성전자\n",
      "2144 \t 삼성중공업\n",
      "2130 \t 셀트리온\n",
      "2144 \t 현대건설\n",
      "2144 \t 현대글로비스\n",
      "2144 \t 현대차\n",
      "2151 \t KOSPI\n"
     ]
    }
   ],
   "source": [
    "for key, df in raw_data.items():\n",
    "    print(len(df),'\\t', key)\n",
    "print(len(ks11), '\\t', 'KOSPI')"
   ]
  },
  {
   "cell_type": "code",
   "execution_count": 23,
   "metadata": {},
   "outputs": [],
   "source": [
    "# feature 생성\n",
    "for key, df in raw_data.items():\n",
    "    df[\"pct_change\"] = df.Close.pct_change()\n",
    "    for i in range(3, 31, 2):\n",
    "        df[\"close_ma_{}\".format(i)] = df.Close.rolling(window = i).mean()\n",
    "        df[\"volume_ma_{}\".format(i)] = df.Volume.rolling(window = i).mean()\n",
    "    for i in [7, 21, 30, 60, 90, 91, 100, 120]:\n",
    "        df[\"his_vol_{}\".format(i)] = df[\"pct_change\"].rolling(window = i).std()*(252**0.5)\n",
    "    for i in [1, 3, 5, 7, 10]:\n",
    "        df['returnsClosePrevRaw{}'.format(i) ]= np.log(df.Open / df.Close.shift(i))\n",
    "        df['returnsOpenPrevRaw{}'.format(i) ] = np.log(df.Open / df.Open.shift(i))\n",
    "        df['returnsClosePrevMktres{}'.format(i)] = df['returnsClosePrevRaw{}'.format(i)] - ks11['returnsClosePrevRaw{}'.format(i)]\n",
    "        df['returnsOpenPrevMktres{}'.format(i)] = df['returnsOpenPrevRaw{}'.format(i)] - ks11['returnsOpenPrevRaw{}'.format(i)]\n",
    "    for i in [1, 3, 5, 7, 10]:\n",
    "        df['Y3_{}'.format(i)] = np.where(df.Close.rolling(i).mean() - df.Close.shift(1).rolling(i).mean()>=0,1,0)\n",
    "        df['sh1_Y3_{}'.format(i)] = df['Y3_{}'.format(i)].shift(-1)\n",
    "        df['sh5_Y3_{}'.format(i)] = df['Y3_{}'.format(i)].shift(-5)"
   ]
  },
  {
   "cell_type": "code",
   "execution_count": 26,
   "metadata": {},
   "outputs": [],
   "source": [
    "raw_data['삼성전자'].to_excel('잘됬는지 Test.xlsx')"
   ]
  },
  {
   "cell_type": "code",
   "execution_count": null,
   "metadata": {},
   "outputs": [],
   "source": []
  }
 ],
 "metadata": {
  "kernelspec": {
   "display_name": "Python 3",
   "language": "python",
   "name": "python3"
  },
  "language_info": {
   "codemirror_mode": {
    "name": "ipython",
    "version": 3
   },
   "file_extension": ".py",
   "mimetype": "text/x-python",
   "name": "python",
   "nbconvert_exporter": "python",
   "pygments_lexer": "ipython3",
   "version": "3.6.5"
  }
 },
 "nbformat": 4,
 "nbformat_minor": 2
}
