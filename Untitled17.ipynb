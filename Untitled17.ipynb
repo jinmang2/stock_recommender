{
 "cells": [
  {
   "cell_type": "markdown",
   "metadata": {},
   "source": [
    "# New Approach"
   ]
  },
  {
   "cell_type": "markdown",
   "metadata": {},
   "source": [
    "# Import Library"
   ]
  },
  {
   "cell_type": "code",
   "execution_count": 1,
   "metadata": {},
   "outputs": [],
   "source": [
    "import numpy as np\n",
    "import pandas as pd\n",
    "import matplotlib.pyplot as plt\n",
    "%matplotlib inline"
   ]
  },
  {
   "cell_type": "markdown",
   "metadata": {},
   "source": [
    "# Load DataSet of S&P500"
   ]
  },
  {
   "cell_type": "code",
   "execution_count": 2,
   "metadata": {},
   "outputs": [],
   "source": [
    "sp500 = pd.read_csv('^GSPC.csv')"
   ]
  },
  {
   "cell_type": "code",
   "execution_count": 3,
   "metadata": {},
   "outputs": [
    {
     "data": {
      "text/html": [
       "<div>\n",
       "<style scoped>\n",
       "    .dataframe tbody tr th:only-of-type {\n",
       "        vertical-align: middle;\n",
       "    }\n",
       "\n",
       "    .dataframe tbody tr th {\n",
       "        vertical-align: top;\n",
       "    }\n",
       "\n",
       "    .dataframe thead th {\n",
       "        text-align: right;\n",
       "    }\n",
       "</style>\n",
       "<table border=\"1\" class=\"dataframe\">\n",
       "  <thead>\n",
       "    <tr style=\"text-align: right;\">\n",
       "      <th></th>\n",
       "      <th>Date</th>\n",
       "      <th>Open</th>\n",
       "      <th>High</th>\n",
       "      <th>Low</th>\n",
       "      <th>Close</th>\n",
       "      <th>Adj Close</th>\n",
       "      <th>Volume</th>\n",
       "    </tr>\n",
       "  </thead>\n",
       "  <tbody>\n",
       "    <tr>\n",
       "      <th>0</th>\n",
       "      <td>2010-12-31</td>\n",
       "      <td>1256.760010</td>\n",
       "      <td>1259.339966</td>\n",
       "      <td>1254.189941</td>\n",
       "      <td>1257.640015</td>\n",
       "      <td>1257.640015</td>\n",
       "      <td>1799770000</td>\n",
       "    </tr>\n",
       "    <tr>\n",
       "      <th>1</th>\n",
       "      <td>2011-01-03</td>\n",
       "      <td>1257.619995</td>\n",
       "      <td>1276.170044</td>\n",
       "      <td>1257.619995</td>\n",
       "      <td>1271.869995</td>\n",
       "      <td>1271.869995</td>\n",
       "      <td>4286670000</td>\n",
       "    </tr>\n",
       "    <tr>\n",
       "      <th>2</th>\n",
       "      <td>2011-01-04</td>\n",
       "      <td>1272.949951</td>\n",
       "      <td>1274.119995</td>\n",
       "      <td>1262.660034</td>\n",
       "      <td>1270.199951</td>\n",
       "      <td>1270.199951</td>\n",
       "      <td>4796420000</td>\n",
       "    </tr>\n",
       "    <tr>\n",
       "      <th>3</th>\n",
       "      <td>2011-01-05</td>\n",
       "      <td>1268.780029</td>\n",
       "      <td>1277.630005</td>\n",
       "      <td>1265.359985</td>\n",
       "      <td>1276.560059</td>\n",
       "      <td>1276.560059</td>\n",
       "      <td>4764920000</td>\n",
       "    </tr>\n",
       "    <tr>\n",
       "      <th>4</th>\n",
       "      <td>2011-01-06</td>\n",
       "      <td>1276.290039</td>\n",
       "      <td>1278.170044</td>\n",
       "      <td>1270.430054</td>\n",
       "      <td>1273.849976</td>\n",
       "      <td>1273.849976</td>\n",
       "      <td>4844100000</td>\n",
       "    </tr>\n",
       "  </tbody>\n",
       "</table>\n",
       "</div>"
      ],
      "text/plain": [
       "         Date         Open         High          Low        Close  \\\n",
       "0  2010-12-31  1256.760010  1259.339966  1254.189941  1257.640015   \n",
       "1  2011-01-03  1257.619995  1276.170044  1257.619995  1271.869995   \n",
       "2  2011-01-04  1272.949951  1274.119995  1262.660034  1270.199951   \n",
       "3  2011-01-05  1268.780029  1277.630005  1265.359985  1276.560059   \n",
       "4  2011-01-06  1276.290039  1278.170044  1270.430054  1273.849976   \n",
       "\n",
       "     Adj Close      Volume  \n",
       "0  1257.640015  1799770000  \n",
       "1  1271.869995  4286670000  \n",
       "2  1270.199951  4796420000  \n",
       "3  1276.560059  4764920000  \n",
       "4  1273.849976  4844100000  "
      ]
     },
     "execution_count": 3,
     "metadata": {},
     "output_type": "execute_result"
    }
   ],
   "source": [
    "sp500.head()"
   ]
  },
  {
   "cell_type": "code",
   "execution_count": 4,
   "metadata": {},
   "outputs": [
    {
     "data": {
      "text/plain": [
       "<matplotlib.axes._subplots.AxesSubplot at 0x1cb0f32cdd8>"
      ]
     },
     "execution_count": 4,
     "metadata": {},
     "output_type": "execute_result"
    },
    {
     "data": {
      "image/png": "[encoded data removed]",
      "text/plain": [
       "<matplotlib.figure.Figure at 0x1cb0f32c860>"
      ]
     },
     "metadata": {},
     "output_type": "display_data"
    }
   ],
   "source": [
    "sp500[['Close','Adj Close']].plot()"
   ]
  },
  {
   "cell_type": "code",
   "execution_count": 5,
   "metadata": {},
   "outputs": [
    {
     "data": {
      "text/plain": [
       "True"
      ]
     },
     "execution_count": 5,
     "metadata": {},
     "output_type": "execute_result"
    }
   ],
   "source": [
    "all(sp500['Close'] == sp500['Adj Close'])"
   ]
  },
  {
   "cell_type": "code",
   "execution_count": 6,
   "metadata": {},
   "outputs": [],
   "source": [
    "del sp500['Adj Close']"
   ]
  },
  {
   "cell_type": "code",
   "execution_count": 7,
   "metadata": {},
   "outputs": [],
   "source": [
    "sp500.Date = sp500.Date.map(lambda x : pd.Timestamp(x))"
   ]
  },
  {
   "cell_type": "code",
   "execution_count": 8,
   "metadata": {},
   "outputs": [
    {
     "data": {
      "text/html": [
       "<div>\n",
       "<style scoped>\n",
       "    .dataframe tbody tr th:only-of-type {\n",
       "        vertical-align: middle;\n",
       "    }\n",
       "\n",
       "    .dataframe tbody tr th {\n",
       "        vertical-align: top;\n",
       "    }\n",
       "\n",
       "    .dataframe thead th {\n",
       "        text-align: right;\n",
       "    }\n",
       "</style>\n",
       "<table border=\"1\" class=\"dataframe\">\n",
       "  <thead>\n",
       "    <tr style=\"text-align: right;\">\n",
       "      <th></th>\n",
       "      <th>Date</th>\n",
       "      <th>Open</th>\n",
       "      <th>High</th>\n",
       "      <th>Low</th>\n",
       "      <th>Close</th>\n",
       "      <th>Volume</th>\n",
       "    </tr>\n",
       "  </thead>\n",
       "  <tbody>\n",
       "    <tr>\n",
       "      <th>0</th>\n",
       "      <td>2010-12-31</td>\n",
       "      <td>1256.760010</td>\n",
       "      <td>1259.339966</td>\n",
       "      <td>1254.189941</td>\n",
       "      <td>1257.640015</td>\n",
       "      <td>1799770000</td>\n",
       "    </tr>\n",
       "    <tr>\n",
       "      <th>1</th>\n",
       "      <td>2011-01-03</td>\n",
       "      <td>1257.619995</td>\n",
       "      <td>1276.170044</td>\n",
       "      <td>1257.619995</td>\n",
       "      <td>1271.869995</td>\n",
       "      <td>4286670000</td>\n",
       "    </tr>\n",
       "    <tr>\n",
       "      <th>2</th>\n",
       "      <td>2011-01-04</td>\n",
       "      <td>1272.949951</td>\n",
       "      <td>1274.119995</td>\n",
       "      <td>1262.660034</td>\n",
       "      <td>1270.199951</td>\n",
       "      <td>4796420000</td>\n",
       "    </tr>\n",
       "    <tr>\n",
       "      <th>3</th>\n",
       "      <td>2011-01-05</td>\n",
       "      <td>1268.780029</td>\n",
       "      <td>1277.630005</td>\n",
       "      <td>1265.359985</td>\n",
       "      <td>1276.560059</td>\n",
       "      <td>4764920000</td>\n",
       "    </tr>\n",
       "    <tr>\n",
       "      <th>4</th>\n",
       "      <td>2011-01-06</td>\n",
       "      <td>1276.290039</td>\n",
       "      <td>1278.170044</td>\n",
       "      <td>1270.430054</td>\n",
       "      <td>1273.849976</td>\n",
       "      <td>4844100000</td>\n",
       "    </tr>\n",
       "  </tbody>\n",
       "</table>\n",
       "</div>"
      ],
      "text/plain": [
       "        Date         Open         High          Low        Close      Volume\n",
       "0 2010-12-31  1256.760010  1259.339966  1254.189941  1257.640015  1799770000\n",
       "1 2011-01-03  1257.619995  1276.170044  1257.619995  1271.869995  4286670000\n",
       "2 2011-01-04  1272.949951  1274.119995  1262.660034  1270.199951  4796420000\n",
       "3 2011-01-05  1268.780029  1277.630005  1265.359985  1276.560059  4764920000\n",
       "4 2011-01-06  1276.290039  1278.170044  1270.430054  1273.849976  4844100000"
      ]
     },
     "execution_count": 8,
     "metadata": {},
     "output_type": "execute_result"
    }
   ],
   "source": [
    "sp500.head()"
   ]
  },
  {
   "cell_type": "markdown",
   "metadata": {},
   "source": [
    "# Make Y Label"
   ]
  },
  {
   "cell_type": "code",
   "execution_count": 9,
   "metadata": {},
   "outputs": [],
   "source": [
    "sp500_label = pd.DataFrame()\n",
    "sp500_label.loc[:,'Date'] = sp500['Date']\n",
    "sp500_label.loc[:,'FinalYPred1'] = np.log(sp500['Close'] / sp500['Close'].shift(1))\n",
    "sp500_label.loc[:,'FinalYPred5'] = np.log(sp500['Close'] / sp500['Close'].shift(5))\n",
    "sp500_label.loc[:,'FinalYPred10'] = np.log(sp500['Close'] / sp500['Close'].shift(10))\n",
    "sp500_label.loc[:,'FinalYPred100'] = np.log(sp500['Close'] / sp500['Close'].shift(100))"
   ]
  },
  {
   "cell_type": "code",
   "execution_count": 10,
   "metadata": {
    "scrolled": true
   },
   "outputs": [
    {
     "data": {
      "text/html": [
       "<div>\n",
       "<style scoped>\n",
       "    .dataframe tbody tr th:only-of-type {\n",
       "        vertical-align: middle;\n",
       "    }\n",
       "\n",
       "    .dataframe tbody tr th {\n",
       "        vertical-align: top;\n",
       "    }\n",
       "\n",
       "    .dataframe thead th {\n",
       "        text-align: right;\n",
       "    }\n",
       "</style>\n",
       "<table border=\"1\" class=\"dataframe\">\n",
       "  <thead>\n",
       "    <tr style=\"text-align: right;\">\n",
       "      <th></th>\n",
       "      <th>Date</th>\n",
       "      <th>FinalYPred1</th>\n",
       "      <th>FinalYPred5</th>\n",
       "      <th>FinalYPred10</th>\n",
       "      <th>FinalYPred100</th>\n",
       "    </tr>\n",
       "  </thead>\n",
       "  <tbody>\n",
       "    <tr>\n",
       "      <th>0</th>\n",
       "      <td>2010-12-31</td>\n",
       "      <td>NaN</td>\n",
       "      <td>NaN</td>\n",
       "      <td>NaN</td>\n",
       "      <td>NaN</td>\n",
       "    </tr>\n",
       "    <tr>\n",
       "      <th>1</th>\n",
       "      <td>2011-01-03</td>\n",
       "      <td>0.011251</td>\n",
       "      <td>NaN</td>\n",
       "      <td>NaN</td>\n",
       "      <td>NaN</td>\n",
       "    </tr>\n",
       "    <tr>\n",
       "      <th>2</th>\n",
       "      <td>2011-01-04</td>\n",
       "      <td>-0.001314</td>\n",
       "      <td>NaN</td>\n",
       "      <td>NaN</td>\n",
       "      <td>NaN</td>\n",
       "    </tr>\n",
       "    <tr>\n",
       "      <th>3</th>\n",
       "      <td>2011-01-05</td>\n",
       "      <td>0.004995</td>\n",
       "      <td>NaN</td>\n",
       "      <td>NaN</td>\n",
       "      <td>NaN</td>\n",
       "    </tr>\n",
       "    <tr>\n",
       "      <th>4</th>\n",
       "      <td>2011-01-06</td>\n",
       "      <td>-0.002125</td>\n",
       "      <td>NaN</td>\n",
       "      <td>NaN</td>\n",
       "      <td>NaN</td>\n",
       "    </tr>\n",
       "    <tr>\n",
       "      <th>5</th>\n",
       "      <td>2011-01-07</td>\n",
       "      <td>-0.001846</td>\n",
       "      <td>0.010960</td>\n",
       "      <td>NaN</td>\n",
       "      <td>NaN</td>\n",
       "    </tr>\n",
       "    <tr>\n",
       "      <th>6</th>\n",
       "      <td>2011-01-10</td>\n",
       "      <td>-0.001377</td>\n",
       "      <td>-0.001668</td>\n",
       "      <td>NaN</td>\n",
       "      <td>NaN</td>\n",
       "    </tr>\n",
       "    <tr>\n",
       "      <th>7</th>\n",
       "      <td>2011-01-11</td>\n",
       "      <td>0.003718</td>\n",
       "      <td>0.003364</td>\n",
       "      <td>NaN</td>\n",
       "      <td>NaN</td>\n",
       "    </tr>\n",
       "    <tr>\n",
       "      <th>8</th>\n",
       "      <td>2011-01-12</td>\n",
       "      <td>0.008967</td>\n",
       "      <td>0.007336</td>\n",
       "      <td>NaN</td>\n",
       "      <td>NaN</td>\n",
       "    </tr>\n",
       "    <tr>\n",
       "      <th>9</th>\n",
       "      <td>2011-01-13</td>\n",
       "      <td>-0.001712</td>\n",
       "      <td>0.007749</td>\n",
       "      <td>NaN</td>\n",
       "      <td>NaN</td>\n",
       "    </tr>\n",
       "    <tr>\n",
       "      <th>10</th>\n",
       "      <td>2011-01-14</td>\n",
       "      <td>0.007357</td>\n",
       "      <td>0.016953</td>\n",
       "      <td>0.027914</td>\n",
       "      <td>NaN</td>\n",
       "    </tr>\n",
       "    <tr>\n",
       "      <th>11</th>\n",
       "      <td>2011-01-18</td>\n",
       "      <td>0.001375</td>\n",
       "      <td>0.019706</td>\n",
       "      <td>0.018038</td>\n",
       "      <td>NaN</td>\n",
       "    </tr>\n",
       "    <tr>\n",
       "      <th>12</th>\n",
       "      <td>2011-01-19</td>\n",
       "      <td>-0.010167</td>\n",
       "      <td>0.005821</td>\n",
       "      <td>0.009185</td>\n",
       "      <td>NaN</td>\n",
       "    </tr>\n",
       "    <tr>\n",
       "      <th>13</th>\n",
       "      <td>2011-01-20</td>\n",
       "      <td>-0.001296</td>\n",
       "      <td>-0.004442</td>\n",
       "      <td>0.002894</td>\n",
       "      <td>NaN</td>\n",
       "    </tr>\n",
       "    <tr>\n",
       "      <th>14</th>\n",
       "      <td>2011-01-21</td>\n",
       "      <td>0.002411</td>\n",
       "      <td>-0.000319</td>\n",
       "      <td>0.007430</td>\n",
       "      <td>NaN</td>\n",
       "    </tr>\n",
       "    <tr>\n",
       "      <th>15</th>\n",
       "      <td>2011-01-24</td>\n",
       "      <td>0.005819</td>\n",
       "      <td>-0.001858</td>\n",
       "      <td>0.015096</td>\n",
       "      <td>NaN</td>\n",
       "    </tr>\n",
       "    <tr>\n",
       "      <th>16</th>\n",
       "      <td>2011-01-25</td>\n",
       "      <td>0.000263</td>\n",
       "      <td>-0.002970</td>\n",
       "      <td>0.016737</td>\n",
       "      <td>NaN</td>\n",
       "    </tr>\n",
       "    <tr>\n",
       "      <th>17</th>\n",
       "      <td>2011-01-26</td>\n",
       "      <td>0.004212</td>\n",
       "      <td>0.011410</td>\n",
       "      <td>0.017230</td>\n",
       "      <td>NaN</td>\n",
       "    </tr>\n",
       "    <tr>\n",
       "      <th>18</th>\n",
       "      <td>2011-01-27</td>\n",
       "      <td>0.002242</td>\n",
       "      <td>0.014947</td>\n",
       "      <td>0.010505</td>\n",
       "      <td>NaN</td>\n",
       "    </tr>\n",
       "    <tr>\n",
       "      <th>19</th>\n",
       "      <td>2011-01-28</td>\n",
       "      <td>-0.018014</td>\n",
       "      <td>-0.005477</td>\n",
       "      <td>-0.005797</td>\n",
       "      <td>NaN</td>\n",
       "    </tr>\n",
       "    <tr>\n",
       "      <th>20</th>\n",
       "      <td>2011-01-31</td>\n",
       "      <td>0.007633</td>\n",
       "      <td>-0.003663</td>\n",
       "      <td>-0.005521</td>\n",
       "      <td>NaN</td>\n",
       "    </tr>\n",
       "    <tr>\n",
       "      <th>21</th>\n",
       "      <td>2011-02-01</td>\n",
       "      <td>0.016556</td>\n",
       "      <td>0.012629</td>\n",
       "      <td>0.009660</td>\n",
       "      <td>NaN</td>\n",
       "    </tr>\n",
       "    <tr>\n",
       "      <th>22</th>\n",
       "      <td>2011-02-02</td>\n",
       "      <td>-0.002726</td>\n",
       "      <td>0.005691</td>\n",
       "      <td>0.017101</td>\n",
       "      <td>NaN</td>\n",
       "    </tr>\n",
       "    <tr>\n",
       "      <th>23</th>\n",
       "      <td>2011-02-03</td>\n",
       "      <td>0.002351</td>\n",
       "      <td>0.005801</td>\n",
       "      <td>0.020748</td>\n",
       "      <td>NaN</td>\n",
       "    </tr>\n",
       "    <tr>\n",
       "      <th>24</th>\n",
       "      <td>2011-02-04</td>\n",
       "      <td>0.002880</td>\n",
       "      <td>0.026694</td>\n",
       "      <td>0.021217</td>\n",
       "      <td>NaN</td>\n",
       "    </tr>\n",
       "    <tr>\n",
       "      <th>25</th>\n",
       "      <td>2011-02-07</td>\n",
       "      <td>0.006221</td>\n",
       "      <td>0.025282</td>\n",
       "      <td>0.021619</td>\n",
       "      <td>NaN</td>\n",
       "    </tr>\n",
       "    <tr>\n",
       "      <th>26</th>\n",
       "      <td>2011-02-08</td>\n",
       "      <td>0.004176</td>\n",
       "      <td>0.012902</td>\n",
       "      <td>0.025531</td>\n",
       "      <td>NaN</td>\n",
       "    </tr>\n",
       "    <tr>\n",
       "      <th>27</th>\n",
       "      <td>2011-02-09</td>\n",
       "      <td>-0.002790</td>\n",
       "      <td>0.012839</td>\n",
       "      <td>0.018530</td>\n",
       "      <td>NaN</td>\n",
       "    </tr>\n",
       "    <tr>\n",
       "      <th>28</th>\n",
       "      <td>2011-02-10</td>\n",
       "      <td>0.000749</td>\n",
       "      <td>0.011236</td>\n",
       "      <td>0.017037</td>\n",
       "      <td>NaN</td>\n",
       "    </tr>\n",
       "    <tr>\n",
       "      <th>29</th>\n",
       "      <td>2011-02-11</td>\n",
       "      <td>0.005492</td>\n",
       "      <td>0.013849</td>\n",
       "      <td>0.040543</td>\n",
       "      <td>NaN</td>\n",
       "    </tr>\n",
       "    <tr>\n",
       "      <th>...</th>\n",
       "      <td>...</td>\n",
       "      <td>...</td>\n",
       "      <td>...</td>\n",
       "      <td>...</td>\n",
       "      <td>...</td>\n",
       "    </tr>\n",
       "    <tr>\n",
       "      <th>1956</th>\n",
       "      <td>2018-10-09</td>\n",
       "      <td>-0.001419</td>\n",
       "      <td>-0.014849</td>\n",
       "      <td>-0.012154</td>\n",
       "      <td>0.057229</td>\n",
       "    </tr>\n",
       "    <tr>\n",
       "      <th>1957</th>\n",
       "      <td>2018-10-10</td>\n",
       "      <td>-0.033416</td>\n",
       "      <td>-0.048977</td>\n",
       "      <td>-0.042275</td>\n",
       "      <td>0.026448</td>\n",
       "    </tr>\n",
       "    <tr>\n",
       "      <th>1958</th>\n",
       "      <td>2018-10-11</td>\n",
       "      <td>-0.020788</td>\n",
       "      <td>-0.061561</td>\n",
       "      <td>-0.065822</td>\n",
       "      <td>-0.001699</td>\n",
       "    </tr>\n",
       "    <tr>\n",
       "      <th>1959</th>\n",
       "      <td>2018-10-12</td>\n",
       "      <td>0.014106</td>\n",
       "      <td>-0.041912</td>\n",
       "      <td>-0.051709</td>\n",
       "      <td>0.015548</td>\n",
       "    </tr>\n",
       "    <tr>\n",
       "      <th>1960</th>\n",
       "      <td>2018-10-15</td>\n",
       "      <td>-0.005922</td>\n",
       "      <td>-0.047439</td>\n",
       "      <td>-0.061266</td>\n",
       "      <td>0.006382</td>\n",
       "    </tr>\n",
       "    <tr>\n",
       "      <th>1961</th>\n",
       "      <td>2018-10-16</td>\n",
       "      <td>0.021268</td>\n",
       "      <td>-0.024752</td>\n",
       "      <td>-0.039602</td>\n",
       "      <td>0.029675</td>\n",
       "    </tr>\n",
       "    <tr>\n",
       "      <th>1962</th>\n",
       "      <td>2018-10-17</td>\n",
       "      <td>-0.000253</td>\n",
       "      <td>0.008411</td>\n",
       "      <td>-0.040566</td>\n",
       "      <td>0.031783</td>\n",
       "    </tr>\n",
       "    <tr>\n",
       "      <th>1963</th>\n",
       "      <td>2018-10-18</td>\n",
       "      <td>-0.014496</td>\n",
       "      <td>0.014702</td>\n",
       "      <td>-0.046859</td>\n",
       "      <td>0.028918</td>\n",
       "    </tr>\n",
       "    <tr>\n",
       "      <th>1964</th>\n",
       "      <td>2018-10-19</td>\n",
       "      <td>-0.000361</td>\n",
       "      <td>0.000235</td>\n",
       "      <td>-0.041677</td>\n",
       "      <td>0.015941</td>\n",
       "    </tr>\n",
       "    <tr>\n",
       "      <th>1965</th>\n",
       "      <td>2018-10-22</td>\n",
       "      <td>-0.004309</td>\n",
       "      <td>0.001849</td>\n",
       "      <td>-0.045591</td>\n",
       "      <td>0.018535</td>\n",
       "    </tr>\n",
       "    <tr>\n",
       "      <th>1966</th>\n",
       "      <td>2018-10-23</td>\n",
       "      <td>-0.005527</td>\n",
       "      <td>-0.024946</td>\n",
       "      <td>-0.049699</td>\n",
       "      <td>0.002217</td>\n",
       "    </tr>\n",
       "    <tr>\n",
       "      <th>1967</th>\n",
       "      <td>2018-10-24</td>\n",
       "      <td>-0.031351</td>\n",
       "      <td>-0.056044</td>\n",
       "      <td>-0.047633</td>\n",
       "      <td>-0.033603</td>\n",
       "    </tr>\n",
       "    <tr>\n",
       "      <th>1968</th>\n",
       "      <td>2018-10-25</td>\n",
       "      <td>0.018454</td>\n",
       "      <td>-0.023094</td>\n",
       "      <td>-0.008392</td>\n",
       "      <td>-0.015852</td>\n",
       "    </tr>\n",
       "    <tr>\n",
       "      <th>1969</th>\n",
       "      <td>2018-10-26</td>\n",
       "      <td>-0.017479</td>\n",
       "      <td>-0.040212</td>\n",
       "      <td>-0.039977</td>\n",
       "      <td>-0.041862</td>\n",
       "    </tr>\n",
       "    <tr>\n",
       "      <th>1970</th>\n",
       "      <td>2018-10-29</td>\n",
       "      <td>-0.006581</td>\n",
       "      <td>-0.042484</td>\n",
       "      <td>-0.040636</td>\n",
       "      <td>-0.047729</td>\n",
       "    </tr>\n",
       "    <tr>\n",
       "      <th>1971</th>\n",
       "      <td>2018-10-30</td>\n",
       "      <td>0.015545</td>\n",
       "      <td>-0.021412</td>\n",
       "      <td>-0.046358</td>\n",
       "      <td>-0.035304</td>\n",
       "    </tr>\n",
       "    <tr>\n",
       "      <th>1972</th>\n",
       "      <td>2018-10-31</td>\n",
       "      <td>0.010793</td>\n",
       "      <td>0.020732</td>\n",
       "      <td>-0.035313</td>\n",
       "      <td>-0.025580</td>\n",
       "    </tr>\n",
       "    <tr>\n",
       "      <th>1973</th>\n",
       "      <td>2018-11-01</td>\n",
       "      <td>0.010502</td>\n",
       "      <td>0.012780</td>\n",
       "      <td>-0.010314</td>\n",
       "      <td>-0.016819</td>\n",
       "    </tr>\n",
       "    <tr>\n",
       "      <th>1974</th>\n",
       "      <td>2018-11-02</td>\n",
       "      <td>-0.006337</td>\n",
       "      <td>0.023923</td>\n",
       "      <td>-0.016289</td>\n",
       "      <td>-0.019121</td>\n",
       "    </tr>\n",
       "    <tr>\n",
       "      <th>1975</th>\n",
       "      <td>2018-11-05</td>\n",
       "      <td>0.005585</td>\n",
       "      <td>0.036089</td>\n",
       "      <td>-0.006396</td>\n",
       "      <td>-0.016005</td>\n",
       "    </tr>\n",
       "    <tr>\n",
       "      <th>1976</th>\n",
       "      <td>2018-11-06</td>\n",
       "      <td>0.006240</td>\n",
       "      <td>0.026783</td>\n",
       "      <td>0.005371</td>\n",
       "      <td>-0.008748</td>\n",
       "    </tr>\n",
       "    <tr>\n",
       "      <th>1977</th>\n",
       "      <td>2018-11-07</td>\n",
       "      <td>0.020987</td>\n",
       "      <td>0.036977</td>\n",
       "      <td>0.057709</td>\n",
       "      <td>0.014368</td>\n",
       "    </tr>\n",
       "    <tr>\n",
       "      <th>1978</th>\n",
       "      <td>2018-11-08</td>\n",
       "      <td>-0.002512</td>\n",
       "      <td>0.023963</td>\n",
       "      <td>0.036743</td>\n",
       "      <td>0.015887</td>\n",
       "    </tr>\n",
       "    <tr>\n",
       "      <th>1979</th>\n",
       "      <td>2018-11-09</td>\n",
       "      <td>-0.009242</td>\n",
       "      <td>0.021058</td>\n",
       "      <td>0.044981</td>\n",
       "      <td>0.004935</td>\n",
       "    </tr>\n",
       "    <tr>\n",
       "      <th>1980</th>\n",
       "      <td>2018-11-12</td>\n",
       "      <td>-0.019898</td>\n",
       "      <td>-0.004425</td>\n",
       "      <td>0.031664</td>\n",
       "      <td>-0.008598</td>\n",
       "    </tr>\n",
       "    <tr>\n",
       "      <th>1981</th>\n",
       "      <td>2018-11-13</td>\n",
       "      <td>-0.001483</td>\n",
       "      <td>-0.012148</td>\n",
       "      <td>0.014635</td>\n",
       "      <td>-0.011941</td>\n",
       "    </tr>\n",
       "    <tr>\n",
       "      <th>1982</th>\n",
       "      <td>2018-11-14</td>\n",
       "      <td>-0.007596</td>\n",
       "      <td>-0.040731</td>\n",
       "      <td>-0.003754</td>\n",
       "      <td>-0.005717</td>\n",
       "    </tr>\n",
       "    <tr>\n",
       "      <th>1983</th>\n",
       "      <td>2018-11-15</td>\n",
       "      <td>0.010538</td>\n",
       "      <td>-0.027681</td>\n",
       "      <td>-0.003718</td>\n",
       "      <td>0.002619</td>\n",
       "    </tr>\n",
       "    <tr>\n",
       "      <th>1984</th>\n",
       "      <td>2018-11-16</td>\n",
       "      <td>0.002221</td>\n",
       "      <td>-0.016218</td>\n",
       "      <td>0.004839</td>\n",
       "      <td>0.013481</td>\n",
       "    </tr>\n",
       "    <tr>\n",
       "      <th>1985</th>\n",
       "      <td>2018-11-19</td>\n",
       "      <td>-0.016783</td>\n",
       "      <td>-0.013103</td>\n",
       "      <td>-0.017528</td>\n",
       "      <td>-0.009462</td>\n",
       "    </tr>\n",
       "  </tbody>\n",
       "</table>\n",
       "<p>1986 rows × 5 columns</p>\n",
       "</div>"
      ],
      "text/plain": [
       "           Date  FinalYPred1  FinalYPred5  FinalYPred10  FinalYPred100\n",
       "0    2010-12-31          NaN          NaN           NaN            NaN\n",
       "1    2011-01-03     0.011251          NaN           NaN            NaN\n",
       "2    2011-01-04    -0.001314          NaN           NaN            NaN\n",
       "3    2011-01-05     0.004995          NaN           NaN            NaN\n",
       "4    2011-01-06    -0.002125          NaN           NaN            NaN\n",
       "5    2011-01-07    -0.001846     0.010960           NaN            NaN\n",
       "6    2011-01-10    -0.001377    -0.001668           NaN            NaN\n",
       "7    2011-01-11     0.003718     0.003364           NaN            NaN\n",
       "8    2011-01-12     0.008967     0.007336           NaN            NaN\n",
       "9    2011-01-13    -0.001712     0.007749           NaN            NaN\n",
       "10   2011-01-14     0.007357     0.016953      0.027914            NaN\n",
       "11   2011-01-18     0.001375     0.019706      0.018038            NaN\n",
       "12   2011-01-19    -0.010167     0.005821      0.009185            NaN\n",
       "13   2011-01-20    -0.001296    -0.004442      0.002894            NaN\n",
       "14   2011-01-21     0.002411    -0.000319      0.007430            NaN\n",
       "15   2011-01-24     0.005819    -0.001858      0.015096            NaN\n",
       "16   2011-01-25     0.000263    -0.002970      0.016737            NaN\n",
       "17   2011-01-26     0.004212     0.011410      0.017230            NaN\n",
       "18   2011-01-27     0.002242     0.014947      0.010505            NaN\n",
       "19   2011-01-28    -0.018014    -0.005477     -0.005797            NaN\n",
       "20   2011-01-31     0.007633    -0.003663     -0.005521            NaN\n",
       "21   2011-02-01     0.016556     0.012629      0.009660            NaN\n",
       "22   2011-02-02    -0.002726     0.005691      0.017101            NaN\n",
       "23   2011-02-03     0.002351     0.005801      0.020748            NaN\n",
       "24   2011-02-04     0.002880     0.026694      0.021217            NaN\n",
       "25   2011-02-07     0.006221     0.025282      0.021619            NaN\n",
       "26   2011-02-08     0.004176     0.012902      0.025531            NaN\n",
       "27   2011-02-09    -0.002790     0.012839      0.018530            NaN\n",
       "28   2011-02-10     0.000749     0.011236      0.017037            NaN\n",
       "29   2011-02-11     0.005492     0.013849      0.040543            NaN\n",
       "...         ...          ...          ...           ...            ...\n",
       "1956 2018-10-09    -0.001419    -0.014849     -0.012154       0.057229\n",
       "1957 2018-10-10    -0.033416    -0.048977     -0.042275       0.026448\n",
       "1958 2018-10-11    -0.020788    -0.061561     -0.065822      -0.001699\n",
       "1959 2018-10-12     0.014106    -0.041912     -0.051709       0.015548\n",
       "1960 2018-10-15    -0.005922    -0.047439     -0.061266       0.006382\n",
       "1961 2018-10-16     0.021268    -0.024752     -0.039602       0.029675\n",
       "1962 2018-10-17    -0.000253     0.008411     -0.040566       0.031783\n",
       "1963 2018-10-18    -0.014496     0.014702     -0.046859       0.028918\n",
       "1964 2018-10-19    -0.000361     0.000235     -0.041677       0.015941\n",
       "1965 2018-10-22    -0.004309     0.001849     -0.045591       0.018535\n",
       "1966 2018-10-23    -0.005527    -0.024946     -0.049699       0.002217\n",
       "1967 2018-10-24    -0.031351    -0.056044     -0.047633      -0.033603\n",
       "1968 2018-10-25     0.018454    -0.023094     -0.008392      -0.015852\n",
       "1969 2018-10-26    -0.017479    -0.040212     -0.039977      -0.041862\n",
       "1970 2018-10-29    -0.006581    -0.042484     -0.040636      -0.047729\n",
       "1971 2018-10-30     0.015545    -0.021412     -0.046358      -0.035304\n",
       "1972 2018-10-31     0.010793     0.020732     -0.035313      -0.025580\n",
       "1973 2018-11-01     0.010502     0.012780     -0.010314      -0.016819\n",
       "1974 2018-11-02    -0.006337     0.023923     -0.016289      -0.019121\n",
       "1975 2018-11-05     0.005585     0.036089     -0.006396      -0.016005\n",
       "1976 2018-11-06     0.006240     0.026783      0.005371      -0.008748\n",
       "1977 2018-11-07     0.020987     0.036977      0.057709       0.014368\n",
       "1978 2018-11-08    -0.002512     0.023963      0.036743       0.015887\n",
       "1979 2018-11-09    -0.009242     0.021058      0.044981       0.004935\n",
       "1980 2018-11-12    -0.019898    -0.004425      0.031664      -0.008598\n",
       "1981 2018-11-13    -0.001483    -0.012148      0.014635      -0.011941\n",
       "1982 2018-11-14    -0.007596    -0.040731     -0.003754      -0.005717\n",
       "1983 2018-11-15     0.010538    -0.027681     -0.003718       0.002619\n",
       "1984 2018-11-16     0.002221    -0.016218      0.004839       0.013481\n",
       "1985 2018-11-19    -0.016783    -0.013103     -0.017528      -0.009462\n",
       "\n",
       "[1986 rows x 5 columns]"
      ]
     },
     "execution_count": 10,
     "metadata": {},
     "output_type": "execute_result"
    }
   ],
   "source": [
    "sp500_label"
   ]
  },
  {
   "cell_type": "markdown",
   "metadata": {},
   "source": [
    "# Make X Features"
   ]
  },
  {
   "cell_type": "code",
   "execution_count": 11,
   "metadata": {},
   "outputs": [],
   "source": [
    "sp500['year'] = sp500.Date.map(lambda x : x.year)\n",
    "sp500['month'] = sp500.Date.map(lambda x : x.month)\n",
    "sp500['day'] = sp500.Date.map(lambda x : x.day)"
   ]
  },
  {
   "cell_type": "code",
   "execution_count": 12,
   "metadata": {},
   "outputs": [
    {
     "data": {
      "text/html": [
       "<div>\n",
       "<style scoped>\n",
       "    .dataframe tbody tr th:only-of-type {\n",
       "        vertical-align: middle;\n",
       "    }\n",
       "\n",
       "    .dataframe tbody tr th {\n",
       "        vertical-align: top;\n",
       "    }\n",
       "\n",
       "    .dataframe thead th {\n",
       "        text-align: right;\n",
       "    }\n",
       "</style>\n",
       "<table border=\"1\" class=\"dataframe\">\n",
       "  <thead>\n",
       "    <tr style=\"text-align: right;\">\n",
       "      <th></th>\n",
       "      <th>Date</th>\n",
       "      <th>Open</th>\n",
       "      <th>High</th>\n",
       "      <th>Low</th>\n",
       "      <th>Close</th>\n",
       "      <th>Volume</th>\n",
       "      <th>year</th>\n",
       "      <th>month</th>\n",
       "      <th>day</th>\n",
       "    </tr>\n",
       "  </thead>\n",
       "  <tbody>\n",
       "    <tr>\n",
       "      <th>0</th>\n",
       "      <td>2010-12-31</td>\n",
       "      <td>1256.760010</td>\n",
       "      <td>1259.339966</td>\n",
       "      <td>1254.189941</td>\n",
       "      <td>1257.640015</td>\n",
       "      <td>1799770000</td>\n",
       "      <td>2010</td>\n",
       "      <td>12</td>\n",
       "      <td>31</td>\n",
       "    </tr>\n",
       "    <tr>\n",
       "      <th>1</th>\n",
       "      <td>2011-01-03</td>\n",
       "      <td>1257.619995</td>\n",
       "      <td>1276.170044</td>\n",
       "      <td>1257.619995</td>\n",
       "      <td>1271.869995</td>\n",
       "      <td>4286670000</td>\n",
       "      <td>2011</td>\n",
       "      <td>1</td>\n",
       "      <td>3</td>\n",
       "    </tr>\n",
       "    <tr>\n",
       "      <th>2</th>\n",
       "      <td>2011-01-04</td>\n",
       "      <td>1272.949951</td>\n",
       "      <td>1274.119995</td>\n",
       "      <td>1262.660034</td>\n",
       "      <td>1270.199951</td>\n",
       "      <td>4796420000</td>\n",
       "      <td>2011</td>\n",
       "      <td>1</td>\n",
       "      <td>4</td>\n",
       "    </tr>\n",
       "    <tr>\n",
       "      <th>3</th>\n",
       "      <td>2011-01-05</td>\n",
       "      <td>1268.780029</td>\n",
       "      <td>1277.630005</td>\n",
       "      <td>1265.359985</td>\n",
       "      <td>1276.560059</td>\n",
       "      <td>4764920000</td>\n",
       "      <td>2011</td>\n",
       "      <td>1</td>\n",
       "      <td>5</td>\n",
       "    </tr>\n",
       "    <tr>\n",
       "      <th>4</th>\n",
       "      <td>2011-01-06</td>\n",
       "      <td>1276.290039</td>\n",
       "      <td>1278.170044</td>\n",
       "      <td>1270.430054</td>\n",
       "      <td>1273.849976</td>\n",
       "      <td>4844100000</td>\n",
       "      <td>2011</td>\n",
       "      <td>1</td>\n",
       "      <td>6</td>\n",
       "    </tr>\n",
       "  </tbody>\n",
       "</table>\n",
       "</div>"
      ],
      "text/plain": [
       "        Date         Open         High          Low        Close      Volume  \\\n",
       "0 2010-12-31  1256.760010  1259.339966  1254.189941  1257.640015  1799770000   \n",
       "1 2011-01-03  1257.619995  1276.170044  1257.619995  1271.869995  4286670000   \n",
       "2 2011-01-04  1272.949951  1274.119995  1262.660034  1270.199951  4796420000   \n",
       "3 2011-01-05  1268.780029  1277.630005  1265.359985  1276.560059  4764920000   \n",
       "4 2011-01-06  1276.290039  1278.170044  1270.430054  1273.849976  4844100000   \n",
       "\n",
       "   year  month  day  \n",
       "0  2010     12   31  \n",
       "1  2011      1    3  \n",
       "2  2011      1    4  \n",
       "3  2011      1    5  \n",
       "4  2011      1    6  "
      ]
     },
     "execution_count": 12,
     "metadata": {},
     "output_type": "execute_result"
    }
   ],
   "source": [
    "sp500.head()"
   ]
  },
  {
   "cell_type": "code",
   "execution_count": 13,
   "metadata": {},
   "outputs": [],
   "source": [
    "sp500['UpAndDown'] = np.where(sp500['Close'] - sp500['Open'] > 0, 1, -1)"
   ]
  },
  {
   "cell_type": "code",
   "execution_count": 14,
   "metadata": {},
   "outputs": [],
   "source": [
    "sp500['weekday'] = sp500['Date'].map(lambda x : x.weekday())"
   ]
  },
  {
   "cell_type": "code",
   "execution_count": 15,
   "metadata": {},
   "outputs": [],
   "source": [
    "weekday = pd.get_dummies(sp500['weekday'].replace(\n",
    "    {0:'mon',1:'tue',2:'wed',3:'thu',4:'fri'})\n",
    "                         , prefix='weekday_')\n",
    "del sp500['weekday']\n",
    "sp500 = pd.concat((sp500, weekday), axis=1)"
   ]
  },
  {
   "cell_type": "code",
   "execution_count": 16,
   "metadata": {},
   "outputs": [],
   "source": [
    "del sp500['day']\n",
    "month = pd.get_dummies(sp500['month'], prefix='month_')\n",
    "sp500 =pd.concat((sp500, month), axis=1)"
   ]
  },
  {
   "cell_type": "code",
   "execution_count": 17,
   "metadata": {},
   "outputs": [],
   "source": [
    "del sp500['month']"
   ]
  },
  {
   "cell_type": "code",
   "execution_count": 18,
   "metadata": {},
   "outputs": [
    {
     "data": {
      "text/html": [
       "<div>\n",
       "<style scoped>\n",
       "    .dataframe tbody tr th:only-of-type {\n",
       "        vertical-align: middle;\n",
       "    }\n",
       "\n",
       "    .dataframe tbody tr th {\n",
       "        vertical-align: top;\n",
       "    }\n",
       "\n",
       "    .dataframe thead th {\n",
       "        text-align: right;\n",
       "    }\n",
       "</style>\n",
       "<table border=\"1\" class=\"dataframe\">\n",
       "  <thead>\n",
       "    <tr style=\"text-align: right;\">\n",
       "      <th></th>\n",
       "      <th>Date</th>\n",
       "      <th>Open</th>\n",
       "      <th>High</th>\n",
       "      <th>Low</th>\n",
       "      <th>Close</th>\n",
       "      <th>Volume</th>\n",
       "      <th>year</th>\n",
       "      <th>UpAndDown</th>\n",
       "      <th>weekday__fri</th>\n",
       "      <th>weekday__mon</th>\n",
       "      <th>...</th>\n",
       "      <th>month__3</th>\n",
       "      <th>month__4</th>\n",
       "      <th>month__5</th>\n",
       "      <th>month__6</th>\n",
       "      <th>month__7</th>\n",
       "      <th>month__8</th>\n",
       "      <th>month__9</th>\n",
       "      <th>month__10</th>\n",
       "      <th>month__11</th>\n",
       "      <th>month__12</th>\n",
       "    </tr>\n",
       "  </thead>\n",
       "  <tbody>\n",
       "    <tr>\n",
       "      <th>0</th>\n",
       "      <td>2010-12-31</td>\n",
       "      <td>1256.760010</td>\n",
       "      <td>1259.339966</td>\n",
       "      <td>1254.189941</td>\n",
       "      <td>1257.640015</td>\n",
       "      <td>1799770000</td>\n",
       "      <td>2010</td>\n",
       "      <td>1</td>\n",
       "      <td>1</td>\n",
       "      <td>0</td>\n",
       "      <td>...</td>\n",
       "      <td>0</td>\n",
       "      <td>0</td>\n",
       "      <td>0</td>\n",
       "      <td>0</td>\n",
       "      <td>0</td>\n",
       "      <td>0</td>\n",
       "      <td>0</td>\n",
       "      <td>0</td>\n",
       "      <td>0</td>\n",
       "      <td>1</td>\n",
       "    </tr>\n",
       "    <tr>\n",
       "      <th>1</th>\n",
       "      <td>2011-01-03</td>\n",
       "      <td>1257.619995</td>\n",
       "      <td>1276.170044</td>\n",
       "      <td>1257.619995</td>\n",
       "      <td>1271.869995</td>\n",
       "      <td>4286670000</td>\n",
       "      <td>2011</td>\n",
       "      <td>1</td>\n",
       "      <td>0</td>\n",
       "      <td>1</td>\n",
       "      <td>...</td>\n",
       "      <td>0</td>\n",
       "      <td>0</td>\n",
       "      <td>0</td>\n",
       "      <td>0</td>\n",
       "      <td>0</td>\n",
       "      <td>0</td>\n",
       "      <td>0</td>\n",
       "      <td>0</td>\n",
       "      <td>0</td>\n",
       "      <td>0</td>\n",
       "    </tr>\n",
       "    <tr>\n",
       "      <th>2</th>\n",
       "      <td>2011-01-04</td>\n",
       "      <td>1272.949951</td>\n",
       "      <td>1274.119995</td>\n",
       "      <td>1262.660034</td>\n",
       "      <td>1270.199951</td>\n",
       "      <td>4796420000</td>\n",
       "      <td>2011</td>\n",
       "      <td>-1</td>\n",
       "      <td>0</td>\n",
       "      <td>0</td>\n",
       "      <td>...</td>\n",
       "      <td>0</td>\n",
       "      <td>0</td>\n",
       "      <td>0</td>\n",
       "      <td>0</td>\n",
       "      <td>0</td>\n",
       "      <td>0</td>\n",
       "      <td>0</td>\n",
       "      <td>0</td>\n",
       "      <td>0</td>\n",
       "      <td>0</td>\n",
       "    </tr>\n",
       "    <tr>\n",
       "      <th>3</th>\n",
       "      <td>2011-01-05</td>\n",
       "      <td>1268.780029</td>\n",
       "      <td>1277.630005</td>\n",
       "      <td>1265.359985</td>\n",
       "      <td>1276.560059</td>\n",
       "      <td>4764920000</td>\n",
       "      <td>2011</td>\n",
       "      <td>1</td>\n",
       "      <td>0</td>\n",
       "      <td>0</td>\n",
       "      <td>...</td>\n",
       "      <td>0</td>\n",
       "      <td>0</td>\n",
       "      <td>0</td>\n",
       "      <td>0</td>\n",
       "      <td>0</td>\n",
       "      <td>0</td>\n",
       "      <td>0</td>\n",
       "      <td>0</td>\n",
       "      <td>0</td>\n",
       "      <td>0</td>\n",
       "    </tr>\n",
       "    <tr>\n",
       "      <th>4</th>\n",
       "      <td>2011-01-06</td>\n",
       "      <td>1276.290039</td>\n",
       "      <td>1278.170044</td>\n",
       "      <td>1270.430054</td>\n",
       "      <td>1273.849976</td>\n",
       "      <td>4844100000</td>\n",
       "      <td>2011</td>\n",
       "      <td>-1</td>\n",
       "      <td>0</td>\n",
       "      <td>0</td>\n",
       "      <td>...</td>\n",
       "      <td>0</td>\n",
       "      <td>0</td>\n",
       "      <td>0</td>\n",
       "      <td>0</td>\n",
       "      <td>0</td>\n",
       "      <td>0</td>\n",
       "      <td>0</td>\n",
       "      <td>0</td>\n",
       "      <td>0</td>\n",
       "      <td>0</td>\n",
       "    </tr>\n",
       "  </tbody>\n",
       "</table>\n",
       "<p>5 rows × 25 columns</p>\n",
       "</div>"
      ],
      "text/plain": [
       "        Date         Open         High          Low        Close      Volume  \\\n",
       "0 2010-12-31  1256.760010  1259.339966  1254.189941  1257.640015  1799770000   \n",
       "1 2011-01-03  1257.619995  1276.170044  1257.619995  1271.869995  4286670000   \n",
       "2 2011-01-04  1272.949951  1274.119995  1262.660034  1270.199951  4796420000   \n",
       "3 2011-01-05  1268.780029  1277.630005  1265.359985  1276.560059  4764920000   \n",
       "4 2011-01-06  1276.290039  1278.170044  1270.430054  1273.849976  4844100000   \n",
       "\n",
       "   year  UpAndDown  weekday__fri  weekday__mon    ...      month__3  month__4  \\\n",
       "0  2010          1             1             0    ...             0         0   \n",
       "1  2011          1             0             1    ...             0         0   \n",
       "2  2011         -1             0             0    ...             0         0   \n",
       "3  2011          1             0             0    ...             0         0   \n",
       "4  2011         -1             0             0    ...             0         0   \n",
       "\n",
       "   month__5  month__6  month__7  month__8  month__9  month__10  month__11  \\\n",
       "0         0         0         0         0         0          0          0   \n",
       "1         0         0         0         0         0          0          0   \n",
       "2         0         0         0         0         0          0          0   \n",
       "3         0         0         0         0         0          0          0   \n",
       "4         0         0         0         0         0          0          0   \n",
       "\n",
       "   month__12  \n",
       "0          1  \n",
       "1          0  \n",
       "2          0  \n",
       "3          0  \n",
       "4          0  \n",
       "\n",
       "[5 rows x 25 columns]"
      ]
     },
     "execution_count": 18,
     "metadata": {},
     "output_type": "execute_result"
    }
   ],
   "source": [
    "sp500.head()"
   ]
  },
  {
   "cell_type": "code",
   "execution_count": 19,
   "metadata": {},
   "outputs": [],
   "source": [
    "sp500['stock_state'] = ((sp500.Close - sp500.Low) / (sp500.High - sp500.Low))"
   ]
  },
  {
   "cell_type": "code",
   "execution_count": 20,
   "metadata": {},
   "outputs": [
    {
     "data": {
      "image/png": "[encoded data removed]",
      "text/plain": [
       "<matplotlib.figure.Figure at 0x1cb0efad6a0>"
      ]
     },
     "metadata": {},
     "output_type": "display_data"
    }
   ],
   "source": [
    "plt.scatter(sp500['Close'], sp500_label['FinalYPred1'], alpha=0.7)\n",
    "plt.grid(True)"
   ]
  },
  {
   "cell_type": "code",
   "execution_count": 21,
   "metadata": {},
   "outputs": [
    {
     "data": {
      "image/png": "[encoded data removed]",
      "text/plain": [
       "<matplotlib.figure.Figure at 0x1cb0efc5828>"
      ]
     },
     "metadata": {},
     "output_type": "display_data"
    }
   ],
   "source": [
    "plt.hist(sp500_label['FinalYPred1'].fillna(0), bins=100, alpha=0.9, label='Pred 1')\n",
    "plt.hist(sp500_label['FinalYPred5'].fillna(0), bins=100, alpha=0.7, label='Pred 5')\n",
    "plt.hist(sp500_label['FinalYPred10'].fillna(0), bins=100, alpha=0.5, label='Pred 10')\n",
    "plt.grid(True)\n",
    "plt.xlim([-0.1,0.1])\n",
    "plt.legend(shadow=True)\n",
    "plt.xlabel('returns')\n",
    "plt.ylabel('frequency')\n",
    "plt.show()"
   ]
  },
  {
   "cell_type": "code",
   "execution_count": 22,
   "metadata": {},
   "outputs": [
    {
     "data": {
      "image/png": "[encoded data removed]",
      "text/plain": [
       "<matplotlib.figure.Figure at 0x1cb0f15da20>"
      ]
     },
     "metadata": {},
     "output_type": "display_data"
    }
   ],
   "source": [
    "plt.hist(sp500_label['FinalYPred100'].fillna(0), bins=100, alpha=0.5, label='Pred 100')\n",
    "plt.grid(True)\n",
    "plt.legend(shadow=True)\n",
    "plt.xlabel('returns')\n",
    "plt.ylabel('frequency')\n",
    "plt.show()"
   ]
  },
  {
   "cell_type": "code",
   "execution_count": 23,
   "metadata": {},
   "outputs": [
    {
     "data": {
      "image/png": "[encoded data removed]",
      "text/plain": [
       "<matplotlib.figure.Figure at 0x1cb0f4df2e8>"
      ]
     },
     "metadata": {},
     "output_type": "display_data"
    }
   ],
   "source": [
    "fig = plt.figure(figsize=(6, 6))\n",
    "span_ = (6,4)\n",
    "first_axes = plt.subplot2grid(span_, (0,0), rowspan=3, colspan=4)\n",
    "second_axes = plt.subplot2grid(span_, (3,0), rowspan=1, colspan=4)\n",
    "third_axes = plt.subplot2grid(span_, (4,0), rowspan=1, colspan=4)\n",
    "volume_axes = plt.subplot2grid(span_, (5,0), rowspan=1, colspan=4)\n",
    "volume_axes.get_yaxis().get_major_formatter().set_scientific(False)\n",
    "plt.tight_layout()\n",
    "first_axes.plot(sp500.Close)\n",
    "first_axes.grid(True)\n",
    "second_axes.plot((sp500.Close - sp500.Close.shift(100)).fillna(0), color='green')\n",
    "second_axes.grid(True)\n",
    "third_axes.plot((sp500_label['FinalYPred100'].fillna(0)), color='red')\n",
    "third_axes.grid(True)\n",
    "volume_axes.plot((sp500['Volume'] / 1e8), color='black')\n",
    "volume_axes.grid(True)"
   ]
  },
  {
   "cell_type": "code",
   "execution_count": 24,
   "metadata": {},
   "outputs": [],
   "source": [
    "a = (sp500.Close - sp500.Close.shift(100)) > 0\n",
    "b = sp500_label['FinalYPred100'].fillna(0) > 0\n",
    "a = a.iloc[100:]\n",
    "b = b.iloc[100:]"
   ]
  },
  {
   "cell_type": "code",
   "execution_count": 25,
   "metadata": {},
   "outputs": [
    {
     "data": {
      "text/plain": [
       "True"
      ]
     },
     "execution_count": 25,
     "metadata": {},
     "output_type": "execute_result"
    }
   ],
   "source": [
    "all(a == b)"
   ]
  },
  {
   "cell_type": "code",
   "execution_count": 26,
   "metadata": {},
   "outputs": [
    {
     "data": {
      "image/png": "[encoded data removed]",
      "text/plain": [
       "<matplotlib.figure.Figure at 0x1cb0ef547b8>"
      ]
     },
     "metadata": {},
     "output_type": "display_data"
    }
   ],
   "source": [
    "(sp500.Close - sp500.Close.shift(100)).plot(grid=True)\n",
    "plt.show()"
   ]
  },
  {
   "cell_type": "code",
   "execution_count": 27,
   "metadata": {},
   "outputs": [
    {
     "data": {
      "image/png": "[encoded data removed]",
      "text/plain": [
       "<matplotlib.figure.Figure at 0x1cb106f0550>"
      ]
     },
     "metadata": {},
     "output_type": "display_data"
    }
   ],
   "source": [
    "w = 10\n",
    "(sp500.Close.rolling(window=w).mean() - sp500.Close.rolling(window=w).mean().shift(100)).plot(grid=True)\n",
    "plt.show()"
   ]
  },
  {
   "cell_type": "markdown",
   "metadata": {},
   "source": [
    "# Moving Average를 가하여 주식의 Trend를 더욱 정확하게 확인할 수 있다."
   ]
  },
  {
   "cell_type": "code",
   "execution_count": 28,
   "metadata": {},
   "outputs": [
    {
     "data": {
      "image/png": "[encoded data removed]",
      "text/plain": [
       "<matplotlib.figure.Figure at 0x1cb0f64d1d0>"
      ]
     },
     "metadata": {},
     "output_type": "display_data"
    }
   ],
   "source": [
    "(np.log(sp500.Close / \n",
    "        sp500.Close.shift(100))).plot(grid=True)\n",
    "plt.show()"
   ]
  },
  {
   "cell_type": "code",
   "execution_count": 29,
   "metadata": {},
   "outputs": [
    {
     "data": {
      "image/png": "[encoded data removed]",
      "text/plain": [
       "<matplotlib.figure.Figure at 0x1cb107395f8>"
      ]
     },
     "metadata": {},
     "output_type": "display_data"
    }
   ],
   "source": [
    "w = 20\n",
    "(np.log(sp500.Close.rolling(window=w).mean() / \n",
    "        sp500.Close.rolling(window=w).mean().shift(100))).plot(grid=True)\n",
    "plt.show()"
   ]
  },
  {
   "cell_type": "code",
   "execution_count": 30,
   "metadata": {},
   "outputs": [
    {
     "data": {
      "text/plain": [
       "Text(0.5,1,'Historical Volatility (90)')"
      ]
     },
     "execution_count": 30,
     "metadata": {},
     "output_type": "execute_result"
    },
    {
     "data": {
      "image/png": "[encoded data removed]",
      "text/plain": [
       "<matplotlib.figure.Figure at 0x1cb10835278>"
      ]
     },
     "metadata": {},
     "output_type": "display_data"
    }
   ],
   "source": [
    "(np.log(sp500.Close / sp500.Close.shift(1)).rolling(window=90).std()*(252**0.5)).plot(grid=True)\n",
    "plt.title('Historical Volatility (90)')"
   ]
  },
  {
   "cell_type": "code",
   "execution_count": 31,
   "metadata": {},
   "outputs": [
    {
     "data": {
      "text/plain": [
       "Text(0.5,1,'S&P500 Close Chart')"
      ]
     },
     "execution_count": 31,
     "metadata": {},
     "output_type": "execute_result"
    },
    {
     "data": {
      "image/png": "[encoded data removed]",
      "text/plain": [
       "<matplotlib.figure.Figure at 0x1cb108a0550>"
      ]
     },
     "metadata": {},
     "output_type": "display_data"
    }
   ],
   "source": [
    "sp500.Close.iloc[100:].plot(grid=True)\n",
    "plt.title('S&P500 Close Chart')"
   ]
  },
  {
   "cell_type": "markdown",
   "metadata": {},
   "source": [
    "# Another Issue\n",
    "- Can machine learning algorithms/models predict the stock prices? If yes, which are the best machine learning algorithm/models to predict the stock prices?\n",
    "- https://www.quantinsti.com/blog/machine-learning-classification-strategy-python?utm_medium=answer_is&utm_source=quora"
   ]
  },
  {
   "cell_type": "markdown",
   "metadata": {},
   "source": [
    "### Step 1: Import the libraries"
   ]
  },
  {
   "cell_type": "code",
   "execution_count": 32,
   "metadata": {},
   "outputs": [],
   "source": [
    "# Machine learning classification libraries\n",
    "from sklearn.svm import SVC\n",
    "from sklearn.metrics import scorer\n",
    "from sklearn.metrics import accuracy_score\n",
    " \n",
    "# For data manipulation\n",
    "import pandas as pd\n",
    "import numpy as np\n",
    " \n",
    "# To plot\n",
    "import matplotlib.pyplot as plt\n",
    "import seaborn"
   ]
  },
  {
   "cell_type": "markdown",
   "metadata": {},
   "source": [
    "### Step 2: Fetch data"
   ]
  },
  {
   "cell_type": "code",
   "execution_count": 33,
   "metadata": {},
   "outputs": [
    {
     "name": "stdout",
     "output_type": "stream",
     "text": [
      "[*********************100%***********************]  1 of 1 downloaded\n"
     ]
    },
    {
     "data": {
      "image/png": "[encoded data removed]",
      "text/plain": [
       "<matplotlib.figure.Figure at 0x1cb118dfef0>"
      ]
     },
     "metadata": {},
     "output_type": "display_data"
    }
   ],
   "source": [
    "from pandas_datareader import data as pdr\n",
    "import fix_yahoo_finance\n",
    "Df = fix_yahoo_finance.download(\"^GSPC\", start=\"2012-01-01\", end=\"2017-10-01\")\n",
    "Df= Df.dropna()\n",
    "Df.Close.plot(figsize=(10,5))\n",
    "plt.ylabel(\"S&P500 Price\")\n",
    "plt.show()"
   ]
  },
  {
   "cell_type": "markdown",
   "metadata": {},
   "source": [
    "### Step 3: Determine the target variable"
   ]
  },
  {
   "cell_type": "code",
   "execution_count": 34,
   "metadata": {},
   "outputs": [],
   "source": [
    "y = np.where(Df['Close'].shift(-1) > Df['Close'],1,-1)"
   ]
  },
  {
   "cell_type": "code",
   "execution_count": 35,
   "metadata": {
    "scrolled": true
   },
   "outputs": [],
   "source": [
    "test = pd.concat((((Df['Close'] - Df['Close'].shift(1))>0).shift(-1), Df['Close'].shift(-1) > Df['Close']), axis=1)"
   ]
  },
  {
   "cell_type": "code",
   "execution_count": 36,
   "metadata": {},
   "outputs": [],
   "source": [
    "test.columns = ['a','b']"
   ]
  },
  {
   "cell_type": "code",
   "execution_count": 37,
   "metadata": {},
   "outputs": [
    {
     "data": {
      "text/plain": [
       "True"
      ]
     },
     "execution_count": 37,
     "metadata": {},
     "output_type": "execute_result"
    }
   ],
   "source": [
    "all(test.iloc[:-1]['a'] == test.iloc[:-1]['b'])"
   ]
  },
  {
   "cell_type": "markdown",
   "metadata": {},
   "source": [
    "### Step 4: Creation of predictors variables"
   ]
  },
  {
   "cell_type": "code",
   "execution_count": 38,
   "metadata": {},
   "outputs": [],
   "source": [
    "Df['Open-Close'] = Df.Open - Df.Close\n",
    "Df['High-Low'] = Df.High - Df.Low\n",
    " \n",
    "X=Df[['Open-Close','High-Low']]"
   ]
  },
  {
   "cell_type": "code",
   "execution_count": 39,
   "metadata": {},
   "outputs": [
    {
     "data": {
      "text/html": [
       "<div>\n",
       "<style scoped>\n",
       "    .dataframe tbody tr th:only-of-type {\n",
       "        vertical-align: middle;\n",
       "    }\n",
       "\n",
       "    .dataframe tbody tr th {\n",
       "        vertical-align: top;\n",
       "    }\n",
       "\n",
       "    .dataframe thead th {\n",
       "        text-align: right;\n",
       "    }\n",
       "</style>\n",
       "<table border=\"1\" class=\"dataframe\">\n",
       "  <thead>\n",
       "    <tr style=\"text-align: right;\">\n",
       "      <th></th>\n",
       "      <th>Open-Close</th>\n",
       "      <th>High-Low</th>\n",
       "    </tr>\n",
       "    <tr>\n",
       "      <th>Date</th>\n",
       "      <th></th>\n",
       "      <th></th>\n",
       "    </tr>\n",
       "  </thead>\n",
       "  <tbody>\n",
       "    <tr>\n",
       "      <th>2012-01-03</th>\n",
       "      <td>-18.200074</td>\n",
       "      <td>25.760010</td>\n",
       "    </tr>\n",
       "    <tr>\n",
       "      <th>2012-01-04</th>\n",
       "      <td>-0.270020</td>\n",
       "      <td>10.630004</td>\n",
       "    </tr>\n",
       "    <tr>\n",
       "      <th>2012-01-05</th>\n",
       "      <td>-3.760010</td>\n",
       "      <td>17.790039</td>\n",
       "    </tr>\n",
       "    <tr>\n",
       "      <th>2012-01-06</th>\n",
       "      <td>3.119995</td>\n",
       "      <td>8.500000</td>\n",
       "    </tr>\n",
       "    <tr>\n",
       "      <th>2012-01-09</th>\n",
       "      <td>-2.869995</td>\n",
       "      <td>7.439941</td>\n",
       "    </tr>\n",
       "  </tbody>\n",
       "</table>\n",
       "</div>"
      ],
      "text/plain": [
       "            Open-Close   High-Low\n",
       "Date                             \n",
       "2012-01-03  -18.200074  25.760010\n",
       "2012-01-04   -0.270020  10.630004\n",
       "2012-01-05   -3.760010  17.790039\n",
       "2012-01-06    3.119995   8.500000\n",
       "2012-01-09   -2.869995   7.439941"
      ]
     },
     "execution_count": 39,
     "metadata": {},
     "output_type": "execute_result"
    }
   ],
   "source": [
    "X.head()"
   ]
  },
  {
   "cell_type": "markdown",
   "metadata": {},
   "source": [
    "### Step 5: Test and train dataset split"
   ]
  },
  {
   "cell_type": "code",
   "execution_count": 40,
   "metadata": {},
   "outputs": [],
   "source": [
    "split_percentage = 0.8\n",
    "split = int(split_percentage*len(Df))\n",
    "\n",
    "# Train data set\n",
    "X_train = X[:split]\n",
    "y_train = y[:split]\n",
    "# Test data set\n",
    "X_test = X[split:]\n",
    "y_test = y[split:]"
   ]
  },
  {
   "cell_type": "markdown",
   "metadata": {},
   "source": [
    "### Step 6: Create the machine learning classification model using the train dataset"
   ]
  },
  {
   "cell_type": "code",
   "execution_count": 41,
   "metadata": {},
   "outputs": [],
   "source": [
    "cls = SVC().fit(X_train, y_train)"
   ]
  },
  {
   "cell_type": "markdown",
   "metadata": {},
   "source": [
    "### Step 7: The classification model accuracy"
   ]
  },
  {
   "cell_type": "code",
   "execution_count": 42,
   "metadata": {},
   "outputs": [
    {
     "name": "stdout",
     "output_type": "stream",
     "text": [
      "\n",
      "Train Accuracy: 72.58%\n",
      "Test Accuracy: 54.14%\n"
     ]
    }
   ],
   "source": [
    "accuracy_train = accuracy_score(y_train, cls.predict(X_train))\n",
    " \n",
    "accuracy_test = accuracy_score(y_test, cls.predict(X_test))\n",
    "print('\\nTrain Accuracy:{: .2f}%'.format(accuracy_train*100))\n",
    "print('Test Accuracy:{: .2f}%'.format(accuracy_test*100))"
   ]
  },
  {
   "cell_type": "markdown",
   "metadata": {},
   "source": [
    "### Step 8: Prediction"
   ]
  },
  {
   "cell_type": "code",
   "execution_count": 43,
   "metadata": {},
   "outputs": [
    {
     "data": {
      "image/png": "[encoded data removed]",
      "text/plain": [
       "<matplotlib.figure.Figure at 0x1cb1198ecc0>"
      ]
     },
     "metadata": {},
     "output_type": "display_data"
    }
   ],
   "source": [
    "Df['Predicted_Signal'] = cls.predict(X)\n",
    " \n",
    "# Calculate log returns\n",
    "Df['Return'] = np.log(Df.Close.shift(-1) / Df.Close)*100\n",
    "Df['Strategy_Return'] = Df.Return * Df.Predicted_Signal\n",
    "Df.Strategy_Return.iloc[split:].cumsum().plot(figsize=(10,5))\n",
    "plt.ylabel(\"Strategy Returns (%)\")\n",
    "plt.show()"
   ]
  },
  {
   "cell_type": "markdown",
   "metadata": {},
   "source": [
    "# Another Issues:\n",
    "- Trading Using Machine Learning In Python PART 1\n",
    "- https://www.quantinsti.com/blog/trading-using-machine-learning-python"
   ]
  },
  {
   "cell_type": "code",
   "execution_count": 211,
   "metadata": {},
   "outputs": [],
   "source": [
    "from pandas_datareader import data as web\n",
    "import numpy as np\n",
    "from sklearn.linear_model import Lasso\n",
    "from sklearn.preprocessing import StandardScaler\n",
    "from sklearn.model_selection import RandomizedSearchCV as rcv\n",
    "from sklearn.pipeline import Pipeline\n",
    "from sklearn.preprocessing import Imputer\n",
    "import matplotlib.pyplot as plt"
   ]
  },
  {
   "cell_type": "code",
   "execution_count": null,
   "metadata": {},
   "outputs": [],
   "source": [
    "df = sp500.copy()\n",
    "df.index = df.Date.map(lambda x : pd.Timestamp(x))\n",
    "del df['Date']"
   ]
  },
  {
   "cell_type": "code",
   "execution_count": 223,
   "metadata": {},
   "outputs": [
    {
     "name": "stdout",
     "output_type": "stream",
     "text": [
      "[*********************100%***********************]  1 of 1 downloaded\n"
     ]
    }
   ],
   "source": [
    "df = fix_yahoo_finance.download(\"^GSPC\", start=\"2012-01-01\", end=\"2017-10-01\")\n",
    "df = df[['Open','High','Low','Close']]"
   ]
  },
  {
   "cell_type": "code",
   "execution_count": 194,
   "metadata": {},
   "outputs": [],
   "source": [
    "# 보험\n",
    "a = df.copy()"
   ]
  },
  {
   "cell_type": "code",
   "execution_count": 224,
   "metadata": {},
   "outputs": [],
   "source": [
    "df = df[['Open','High','Low','Close']]"
   ]
  },
  {
   "cell_type": "code",
   "execution_count": 225,
   "metadata": {},
   "outputs": [
    {
     "data": {
      "text/html": [
       "<div>\n",
       "<style scoped>\n",
       "    .dataframe tbody tr th:only-of-type {\n",
       "        vertical-align: middle;\n",
       "    }\n",
       "\n",
       "    .dataframe tbody tr th {\n",
       "        vertical-align: top;\n",
       "    }\n",
       "\n",
       "    .dataframe thead th {\n",
       "        text-align: right;\n",
       "    }\n",
       "</style>\n",
       "<table border=\"1\" class=\"dataframe\">\n",
       "  <thead>\n",
       "    <tr style=\"text-align: right;\">\n",
       "      <th></th>\n",
       "      <th>Open</th>\n",
       "      <th>High</th>\n",
       "      <th>Low</th>\n",
       "      <th>Close</th>\n",
       "    </tr>\n",
       "    <tr>\n",
       "      <th>Date</th>\n",
       "      <th></th>\n",
       "      <th></th>\n",
       "      <th></th>\n",
       "      <th></th>\n",
       "    </tr>\n",
       "  </thead>\n",
       "  <tbody>\n",
       "    <tr>\n",
       "      <th>2012-01-03</th>\n",
       "      <td>1258.859985</td>\n",
       "      <td>1284.619995</td>\n",
       "      <td>1258.859985</td>\n",
       "      <td>1277.060059</td>\n",
       "    </tr>\n",
       "    <tr>\n",
       "      <th>2012-01-04</th>\n",
       "      <td>1277.030029</td>\n",
       "      <td>1278.729980</td>\n",
       "      <td>1268.099976</td>\n",
       "      <td>1277.300049</td>\n",
       "    </tr>\n",
       "    <tr>\n",
       "      <th>2012-01-05</th>\n",
       "      <td>1277.300049</td>\n",
       "      <td>1283.050049</td>\n",
       "      <td>1265.260010</td>\n",
       "      <td>1281.060059</td>\n",
       "    </tr>\n",
       "    <tr>\n",
       "      <th>2012-01-06</th>\n",
       "      <td>1280.930054</td>\n",
       "      <td>1281.839966</td>\n",
       "      <td>1273.339966</td>\n",
       "      <td>1277.810059</td>\n",
       "    </tr>\n",
       "    <tr>\n",
       "      <th>2012-01-09</th>\n",
       "      <td>1277.829956</td>\n",
       "      <td>1281.989990</td>\n",
       "      <td>1274.550049</td>\n",
       "      <td>1280.699951</td>\n",
       "    </tr>\n",
       "  </tbody>\n",
       "</table>\n",
       "</div>"
      ],
      "text/plain": [
       "                   Open         High          Low        Close\n",
       "Date                                                          \n",
       "2012-01-03  1258.859985  1284.619995  1258.859985  1277.060059\n",
       "2012-01-04  1277.030029  1278.729980  1268.099976  1277.300049\n",
       "2012-01-05  1277.300049  1283.050049  1265.260010  1281.060059\n",
       "2012-01-06  1280.930054  1281.839966  1273.339966  1277.810059\n",
       "2012-01-09  1277.829956  1281.989990  1274.550049  1280.699951"
      ]
     },
     "execution_count": 225,
     "metadata": {},
     "output_type": "execute_result"
    }
   ],
   "source": [
    "df.head()"
   ]
  },
  {
   "cell_type": "code",
   "execution_count": 226,
   "metadata": {},
   "outputs": [],
   "source": [
    "df['open'] = df['Open'].shift(1)\n",
    "df['high'] = df['High'].shift(1)\n",
    "df['low'] = df['Low'].shift(1)\n",
    "df['close'] = df['Close'].shift(1)"
   ]
  },
  {
   "cell_type": "code",
   "execution_count": 227,
   "metadata": {},
   "outputs": [
    {
     "data": {
      "text/html": [
       "<div>\n",
       "<style scoped>\n",
       "    .dataframe tbody tr th:only-of-type {\n",
       "        vertical-align: middle;\n",
       "    }\n",
       "\n",
       "    .dataframe tbody tr th {\n",
       "        vertical-align: top;\n",
       "    }\n",
       "\n",
       "    .dataframe thead th {\n",
       "        text-align: right;\n",
       "    }\n",
       "</style>\n",
       "<table border=\"1\" class=\"dataframe\">\n",
       "  <thead>\n",
       "    <tr style=\"text-align: right;\">\n",
       "      <th></th>\n",
       "      <th>Open</th>\n",
       "      <th>High</th>\n",
       "      <th>Low</th>\n",
       "      <th>Close</th>\n",
       "      <th>open</th>\n",
       "      <th>high</th>\n",
       "      <th>low</th>\n",
       "      <th>close</th>\n",
       "    </tr>\n",
       "    <tr>\n",
       "      <th>Date</th>\n",
       "      <th></th>\n",
       "      <th></th>\n",
       "      <th></th>\n",
       "      <th></th>\n",
       "      <th></th>\n",
       "      <th></th>\n",
       "      <th></th>\n",
       "      <th></th>\n",
       "    </tr>\n",
       "  </thead>\n",
       "  <tbody>\n",
       "    <tr>\n",
       "      <th>2012-01-03</th>\n",
       "      <td>1258.859985</td>\n",
       "      <td>1284.619995</td>\n",
       "      <td>1258.859985</td>\n",
       "      <td>1277.060059</td>\n",
       "      <td>NaN</td>\n",
       "      <td>NaN</td>\n",
       "      <td>NaN</td>\n",
       "      <td>NaN</td>\n",
       "    </tr>\n",
       "    <tr>\n",
       "      <th>2012-01-04</th>\n",
       "      <td>1277.030029</td>\n",
       "      <td>1278.729980</td>\n",
       "      <td>1268.099976</td>\n",
       "      <td>1277.300049</td>\n",
       "      <td>1258.859985</td>\n",
       "      <td>1284.619995</td>\n",
       "      <td>1258.859985</td>\n",
       "      <td>1277.060059</td>\n",
       "    </tr>\n",
       "    <tr>\n",
       "      <th>2012-01-05</th>\n",
       "      <td>1277.300049</td>\n",
       "      <td>1283.050049</td>\n",
       "      <td>1265.260010</td>\n",
       "      <td>1281.060059</td>\n",
       "      <td>1277.030029</td>\n",
       "      <td>1278.729980</td>\n",
       "      <td>1268.099976</td>\n",
       "      <td>1277.300049</td>\n",
       "    </tr>\n",
       "    <tr>\n",
       "      <th>2012-01-06</th>\n",
       "      <td>1280.930054</td>\n",
       "      <td>1281.839966</td>\n",
       "      <td>1273.339966</td>\n",
       "      <td>1277.810059</td>\n",
       "      <td>1277.300049</td>\n",
       "      <td>1283.050049</td>\n",
       "      <td>1265.260010</td>\n",
       "      <td>1281.060059</td>\n",
       "    </tr>\n",
       "    <tr>\n",
       "      <th>2012-01-09</th>\n",
       "      <td>1277.829956</td>\n",
       "      <td>1281.989990</td>\n",
       "      <td>1274.550049</td>\n",
       "      <td>1280.699951</td>\n",
       "      <td>1280.930054</td>\n",
       "      <td>1281.839966</td>\n",
       "      <td>1273.339966</td>\n",
       "      <td>1277.810059</td>\n",
       "    </tr>\n",
       "  </tbody>\n",
       "</table>\n",
       "</div>"
      ],
      "text/plain": [
       "                   Open         High          Low        Close         open  \\\n",
       "Date                                                                          \n",
       "2012-01-03  1258.859985  1284.619995  1258.859985  1277.060059          NaN   \n",
       "2012-01-04  1277.030029  1278.729980  1268.099976  1277.300049  1258.859985   \n",
       "2012-01-05  1277.300049  1283.050049  1265.260010  1281.060059  1277.030029   \n",
       "2012-01-06  1280.930054  1281.839966  1273.339966  1277.810059  1277.300049   \n",
       "2012-01-09  1277.829956  1281.989990  1274.550049  1280.699951  1280.930054   \n",
       "\n",
       "                   high          low        close  \n",
       "Date                                               \n",
       "2012-01-03          NaN          NaN          NaN  \n",
       "2012-01-04  1284.619995  1258.859985  1277.060059  \n",
       "2012-01-05  1278.729980  1268.099976  1277.300049  \n",
       "2012-01-06  1283.050049  1265.260010  1281.060059  \n",
       "2012-01-09  1281.839966  1273.339966  1277.810059  "
      ]
     },
     "execution_count": 227,
     "metadata": {},
     "output_type": "execute_result"
    }
   ],
   "source": [
    "df.head()"
   ]
  },
  {
   "cell_type": "code",
   "execution_count": 228,
   "metadata": {},
   "outputs": [],
   "source": [
    "imp = Imputer(missing_values='NaN', strategy='mean', axis=0)\n",
    "steps = [\n",
    "    ('imputation', imp),\n",
    "    ('scaler', StandardScaler()),\n",
    "    ('lasso', Lasso())\n",
    "]\n",
    "pipeline = Pipeline(steps)\n",
    "parameters = {\n",
    "    'lasso__alpha':np.arange(0.0001, 10, 0.0001),\n",
    "    'lasso__max_iter':np.random.uniform(100, 100000, 4)\n",
    "}\n",
    "reg = rcv(pipeline, parameters, cv=5)"
   ]
  },
  {
   "cell_type": "code",
   "execution_count": 229,
   "metadata": {},
   "outputs": [],
   "source": [
    "X = df[['open','high','low','close']]\n",
    "y = df['Close']"
   ]
  },
  {
   "cell_type": "code",
   "execution_count": 230,
   "metadata": {},
   "outputs": [
    {
     "data": {
      "text/html": [
       "<div>\n",
       "<style scoped>\n",
       "    .dataframe tbody tr th:only-of-type {\n",
       "        vertical-align: middle;\n",
       "    }\n",
       "\n",
       "    .dataframe tbody tr th {\n",
       "        vertical-align: top;\n",
       "    }\n",
       "\n",
       "    .dataframe thead th {\n",
       "        text-align: right;\n",
       "    }\n",
       "</style>\n",
       "<table border=\"1\" class=\"dataframe\">\n",
       "  <thead>\n",
       "    <tr style=\"text-align: right;\">\n",
       "      <th></th>\n",
       "      <th>open</th>\n",
       "      <th>high</th>\n",
       "      <th>low</th>\n",
       "      <th>close</th>\n",
       "    </tr>\n",
       "    <tr>\n",
       "      <th>Date</th>\n",
       "      <th></th>\n",
       "      <th></th>\n",
       "      <th></th>\n",
       "      <th></th>\n",
       "    </tr>\n",
       "  </thead>\n",
       "  <tbody>\n",
       "    <tr>\n",
       "      <th>2012-01-03</th>\n",
       "      <td>NaN</td>\n",
       "      <td>NaN</td>\n",
       "      <td>NaN</td>\n",
       "      <td>NaN</td>\n",
       "    </tr>\n",
       "    <tr>\n",
       "      <th>2012-01-04</th>\n",
       "      <td>1258.859985</td>\n",
       "      <td>1284.619995</td>\n",
       "      <td>1258.859985</td>\n",
       "      <td>1277.060059</td>\n",
       "    </tr>\n",
       "    <tr>\n",
       "      <th>2012-01-05</th>\n",
       "      <td>1277.030029</td>\n",
       "      <td>1278.729980</td>\n",
       "      <td>1268.099976</td>\n",
       "      <td>1277.300049</td>\n",
       "    </tr>\n",
       "    <tr>\n",
       "      <th>2012-01-06</th>\n",
       "      <td>1277.300049</td>\n",
       "      <td>1283.050049</td>\n",
       "      <td>1265.260010</td>\n",
       "      <td>1281.060059</td>\n",
       "    </tr>\n",
       "    <tr>\n",
       "      <th>2012-01-09</th>\n",
       "      <td>1280.930054</td>\n",
       "      <td>1281.839966</td>\n",
       "      <td>1273.339966</td>\n",
       "      <td>1277.810059</td>\n",
       "    </tr>\n",
       "  </tbody>\n",
       "</table>\n",
       "</div>"
      ],
      "text/plain": [
       "                   open         high          low        close\n",
       "Date                                                          \n",
       "2012-01-03          NaN          NaN          NaN          NaN\n",
       "2012-01-04  1258.859985  1284.619995  1258.859985  1277.060059\n",
       "2012-01-05  1277.030029  1278.729980  1268.099976  1277.300049\n",
       "2012-01-06  1277.300049  1283.050049  1265.260010  1281.060059\n",
       "2012-01-09  1280.930054  1281.839966  1273.339966  1277.810059"
      ]
     },
     "execution_count": 230,
     "metadata": {},
     "output_type": "execute_result"
    }
   ],
   "source": [
    "X.head()"
   ]
  },
  {
   "cell_type": "code",
   "execution_count": 231,
   "metadata": {},
   "outputs": [
    {
     "data": {
      "text/plain": [
       "Date\n",
       "2012-01-03    1277.060059\n",
       "2012-01-04    1277.300049\n",
       "2012-01-05    1281.060059\n",
       "2012-01-06    1277.810059\n",
       "2012-01-09    1280.699951\n",
       "Name: Close, dtype: float64"
      ]
     },
     "execution_count": 231,
     "metadata": {},
     "output_type": "execute_result"
    }
   ],
   "source": [
    "y.head()"
   ]
  },
  {
   "cell_type": "markdown",
   "metadata": {},
   "source": [
    "#### Real trial"
   ]
  },
  {
   "cell_type": "code",
   "execution_count": 232,
   "metadata": {},
   "outputs": [
    {
     "name": "stderr",
     "output_type": "stream",
     "text": [
      "C:\\Users\\JinMyungHun\\Anaconda3\\envs\\ds\\lib\\site-packages\\sklearn\\linear_model\\coordinate_descent.py:491: ConvergenceWarning: Objective did not converge. You might want to increase the number of iterations. Fitting data with very small alpha may cause precision problems.\n",
      "  ConvergenceWarning)\n",
      "C:\\Users\\JinMyungHun\\Anaconda3\\envs\\ds\\lib\\site-packages\\sklearn\\linear_model\\coordinate_descent.py:491: ConvergenceWarning: Objective did not converge. You might want to increase the number of iterations. Fitting data with very small alpha may cause precision problems.\n",
      "  ConvergenceWarning)\n",
      "C:\\Users\\JinMyungHun\\Anaconda3\\envs\\ds\\lib\\site-packages\\sklearn\\linear_model\\coordinate_descent.py:491: ConvergenceWarning: Objective did not converge. You might want to increase the number of iterations. Fitting data with very small alpha may cause precision problems.\n",
      "  ConvergenceWarning)\n",
      "C:\\Users\\JinMyungHun\\Anaconda3\\envs\\ds\\lib\\site-packages\\sklearn\\linear_model\\coordinate_descent.py:491: ConvergenceWarning: Objective did not converge. You might want to increase the number of iterations. Fitting data with very small alpha may cause precision problems.\n",
      "  ConvergenceWarning)\n"
     ]
    }
   ],
   "source": [
    "avg_err = {}\n",
    "for t in np.arange(50, 97, 3):\n",
    "    split = int(t*len(X)/100)\n",
    "    reg.fit(X[:split], y[:split])\n",
    "    best_alpha = reg.best_params_['lasso__alpha']\n",
    "    best_iter = reg.best_params_['lasso__max_iter']\n",
    "    reg1 = Lasso(alpha=best_alpha, max_iter=best_iter)\n",
    "    X = imp.fit_transform(X, y)\n",
    "    reg1.fit(X[:split], y[:split])\n",
    "    df['P_C_{}'.format(t)] = 0\n",
    "    df.iloc[split:, df.columns.get_loc('P_C_{}'.format(t))]=reg1.predict(X[split:])\n",
    "    df['Error_{}'.format(t)] = np.abs(df['P_C_{}'.format(t)]-df['Close'])\n",
    "    e = np.mean(df['Error_{}'.format(t)][split:])\n",
    "    avg_err[t] = e"
   ]
  },
  {
   "cell_type": "code",
   "execution_count": 233,
   "metadata": {},
   "outputs": [
    {
     "data": {
      "text/plain": [
       "{50: 12.115427066840883,\n",
       " 53: 11.922294822947137,\n",
       " 56: 11.684365843707713,\n",
       " 59: 11.60926724716361,\n",
       " 62: 11.757508805617435,\n",
       " 65: 11.149103570496356,\n",
       " 68: 10.98287321493227,\n",
       " 71: 9.853715394244245,\n",
       " 74: 9.197978065367739,\n",
       " 77: 8.922749874969485,\n",
       " 80: 8.306004043411418,\n",
       " 83: 8.05052007602712,\n",
       " 86: 7.716953311771538,\n",
       " 89: 7.608055407894492,\n",
       " 92: 7.6800872366273145,\n",
       " 95: 7.8918419582928}"
      ]
     },
     "execution_count": 233,
     "metadata": {},
     "output_type": "execute_result"
    }
   ],
   "source": [
    "avg_err"
   ]
  },
  {
   "cell_type": "code",
   "execution_count": 234,
   "metadata": {},
   "outputs": [
    {
     "name": "stdout",
     "output_type": "stream",
     "text": [
      "\n",
      "Average Range of the Day: 12.26863160273975\n"
     ]
    },
    {
     "data": {
      "image/png": "[encoded data removed]",
      "text/plain": [
       "<matplotlib.figure.Figure at 0x1cb1301c780>"
      ]
     },
     "metadata": {},
     "output_type": "display_data"
    }
   ],
   "source": [
    "Range = df['high'][split:]-df['low'][split:]\n",
    "plt.scatter(avg_err.keys(), avg_err.values())\n",
    "print('\\nAverage Range of the Day:', np.average(Range))"
   ]
  },
  {
   "cell_type": "code",
   "execution_count": null,
   "metadata": {},
   "outputs": [],
   "source": []
  }
 ],
 "metadata": {
  "kernelspec": {
   "display_name": "Python 3",
   "language": "python",
   "name": "python3"
  },
  "language_info": {
   "codemirror_mode": {
    "name": "ipython",
    "version": 3
   },
   "file_extension": ".py",
   "mimetype": "text/x-python",
   "name": "python",
   "nbconvert_exporter": "python",
   "pygments_lexer": "ipython3",
   "version": "3.6.5"
  }
 },
 "nbformat": 4,
 "nbformat_minor": 2
}
