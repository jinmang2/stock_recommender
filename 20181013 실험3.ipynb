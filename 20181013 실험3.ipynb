{
 "cells": [
  {
   "cell_type": "code",
   "execution_count": 1,
   "metadata": {},
   "outputs": [],
   "source": [
    "%run moon_code\n",
    "with open('학습준비파일_20181013.pickle', 'rb') as handle:\n",
    "    store = pickle.load(handle)\n",
    "train, test, X_li, scl_X_li, target_li = store\n",
    "%run xgb_modelfit\n",
    "scl_li = scl_X_li.copy()\n",
    "for ix, i in enumerate(scl_X_li):\n",
    "    if (i.find('returns') != -1) or (i.find('his') != -1) or (i.find('pct') != -1):\n",
    "        scl_li[ix] = scl_X_li[ix][4:]\n",
    "origin_X = [i for i in X_li if i.find('returns') != 0]\n",
    "origin_scl_X = [i for i in scl_li if i.find('returns') != 0]"
   ]
  },
  {
   "cell_type": "code",
   "execution_count": 2,
   "metadata": {},
   "outputs": [],
   "source": [
    "import warnings\n",
    "warnings.filterwarnings(action='ignore')"
   ]
  },
  {
   "cell_type": "markdown",
   "metadata": {},
   "source": [
    "# 실험 3\n",
    "- predictors : not_scaled\n",
    "- target : Y3"
   ]
  },
  {
   "cell_type": "code",
   "execution_count": 3,
   "metadata": {},
   "outputs": [],
   "source": [
    "predictors = X_li.copy()\n",
    "target = 'Y3'"
   ]
  },
  {
   "cell_type": "code",
   "execution_count": 4,
   "metadata": {},
   "outputs": [],
   "source": [
    "result, fi_dict = temp_calc_feature_importance(alg, train, test, predictors, target)"
   ]
  },
  {
   "cell_type": "code",
   "execution_count": 5,
   "metadata": {},
   "outputs": [
    {
     "data": {
      "text/html": [
       "<div>\n",
       "<style scoped>\n",
       "    .dataframe tbody tr th:only-of-type {\n",
       "        vertical-align: middle;\n",
       "    }\n",
       "\n",
       "    .dataframe tbody tr th {\n",
       "        vertical-align: top;\n",
       "    }\n",
       "\n",
       "    .dataframe thead th {\n",
       "        text-align: right;\n",
       "    }\n",
       "</style>\n",
       "<table border=\"1\" class=\"dataframe\">\n",
       "  <thead>\n",
       "    <tr style=\"text-align: right;\">\n",
       "      <th></th>\n",
       "      <th>KB금융</th>\n",
       "      <th>LG화학</th>\n",
       "      <th>NAVER</th>\n",
       "      <th>POSCO</th>\n",
       "      <th>SK텔레콤</th>\n",
       "      <th>SK하이닉스</th>\n",
       "      <th>삼성전자</th>\n",
       "      <th>삼성중공업</th>\n",
       "      <th>셀트리온</th>\n",
       "      <th>현대건설</th>\n",
       "      <th>현대글로비스</th>\n",
       "      <th>현대차</th>\n",
       "    </tr>\n",
       "  </thead>\n",
       "  <tbody>\n",
       "    <tr>\n",
       "      <th>acc</th>\n",
       "      <td>0.681818</td>\n",
       "      <td>0.685950</td>\n",
       "      <td>0.710084</td>\n",
       "      <td>0.739669</td>\n",
       "      <td>0.735537</td>\n",
       "      <td>0.723140</td>\n",
       "      <td>0.717842</td>\n",
       "      <td>0.719008</td>\n",
       "      <td>0.706612</td>\n",
       "      <td>0.797521</td>\n",
       "      <td>0.785124</td>\n",
       "      <td>0.657025</td>\n",
       "    </tr>\n",
       "    <tr>\n",
       "      <th>f1</th>\n",
       "      <td>0.685714</td>\n",
       "      <td>0.669565</td>\n",
       "      <td>0.693333</td>\n",
       "      <td>0.756757</td>\n",
       "      <td>0.748031</td>\n",
       "      <td>0.761566</td>\n",
       "      <td>0.716667</td>\n",
       "      <td>0.688073</td>\n",
       "      <td>0.757679</td>\n",
       "      <td>0.810811</td>\n",
       "      <td>0.781513</td>\n",
       "      <td>0.631111</td>\n",
       "    </tr>\n",
       "    <tr>\n",
       "      <th>pre</th>\n",
       "      <td>0.694215</td>\n",
       "      <td>0.557971</td>\n",
       "      <td>0.757282</td>\n",
       "      <td>0.765625</td>\n",
       "      <td>0.840708</td>\n",
       "      <td>0.769784</td>\n",
       "      <td>0.716667</td>\n",
       "      <td>0.700935</td>\n",
       "      <td>0.816176</td>\n",
       "      <td>0.789474</td>\n",
       "      <td>0.861111</td>\n",
       "      <td>0.657407</td>\n",
       "    </tr>\n",
       "    <tr>\n",
       "      <th>rec</th>\n",
       "      <td>0.677419</td>\n",
       "      <td>0.836957</td>\n",
       "      <td>0.639344</td>\n",
       "      <td>0.748092</td>\n",
       "      <td>0.673759</td>\n",
       "      <td>0.753521</td>\n",
       "      <td>0.716667</td>\n",
       "      <td>0.675676</td>\n",
       "      <td>0.707006</td>\n",
       "      <td>0.833333</td>\n",
       "      <td>0.715385</td>\n",
       "      <td>0.606838</td>\n",
       "    </tr>\n",
       "    <tr>\n",
       "      <th>auc</th>\n",
       "      <td>0.681930</td>\n",
       "      <td>0.715145</td>\n",
       "      <td>0.711914</td>\n",
       "      <td>0.738911</td>\n",
       "      <td>0.747771</td>\n",
       "      <td>0.716761</td>\n",
       "      <td>0.717837</td>\n",
       "      <td>0.715700</td>\n",
       "      <td>0.706444</td>\n",
       "      <td>0.795977</td>\n",
       "      <td>0.790728</td>\n",
       "      <td>0.655419</td>\n",
       "    </tr>\n",
       "  </tbody>\n",
       "</table>\n",
       "</div>"
      ],
      "text/plain": [
       "         KB금융      LG화학     NAVER     POSCO     SK텔레콤    SK하이닉스      삼성전자  \\\n",
       "acc  0.681818  0.685950  0.710084  0.739669  0.735537  0.723140  0.717842   \n",
       "f1   0.685714  0.669565  0.693333  0.756757  0.748031  0.761566  0.716667   \n",
       "pre  0.694215  0.557971  0.757282  0.765625  0.840708  0.769784  0.716667   \n",
       "rec  0.677419  0.836957  0.639344  0.748092  0.673759  0.753521  0.716667   \n",
       "auc  0.681930  0.715145  0.711914  0.738911  0.747771  0.716761  0.717837   \n",
       "\n",
       "        삼성중공업      셀트리온      현대건설    현대글로비스       현대차  \n",
       "acc  0.719008  0.706612  0.797521  0.785124  0.657025  \n",
       "f1   0.688073  0.757679  0.810811  0.781513  0.631111  \n",
       "pre  0.700935  0.816176  0.789474  0.861111  0.657407  \n",
       "rec  0.675676  0.707006  0.833333  0.715385  0.606838  \n",
       "auc  0.715700  0.706444  0.795977  0.790728  0.655419  "
      ]
     },
     "execution_count": 5,
     "metadata": {},
     "output_type": "execute_result"
    }
   ],
   "source": [
    "pd.DataFrame(result, index=['acc','f1','pre','rec','auc'])"
   ]
  },
  {
   "cell_type": "code",
   "execution_count": 6,
   "metadata": {},
   "outputs": [
    {
     "data": {
      "text/plain": [
       "acc    0.721611\n",
       "f1     0.725068\n",
       "pre    0.743946\n",
       "rec    0.715333\n",
       "auc    0.724545\n",
       "dtype: float64"
      ]
     },
     "execution_count": 6,
     "metadata": {},
     "output_type": "execute_result"
    }
   ],
   "source": [
    "pd.DataFrame(result, index=['acc','f1','pre','rec','auc']).mean(1)"
   ]
  },
  {
   "cell_type": "code",
   "execution_count": 7,
   "metadata": {},
   "outputs": [
    {
     "data": {
      "text/plain": [
       "returnsClosePrevRaw10     12\n",
       "Volume                    12\n",
       "pct_change                12\n",
       "returnsOpenPrevRaw10      11\n",
       "his_vol_7                 11\n",
       "returnsOpenPrevRaw1        9\n",
       "returnsClosePrevRaw1       8\n",
       "his_vol_21                 8\n",
       "returnsOpenPrevMktres1     7\n",
       "volume_ma_3                5\n",
       "dtype: int64"
      ]
     },
     "execution_count": 7,
     "metadata": {},
     "output_type": "execute_result"
    }
   ],
   "source": [
    "pd.DataFrame(fi_dict).count(1).sort_values(ascending=False)[:10]"
   ]
  },
  {
   "cell_type": "code",
   "execution_count": null,
   "metadata": {},
   "outputs": [],
   "source": []
  }
 ],
 "metadata": {
  "kernelspec": {
   "display_name": "Python 3",
   "language": "python",
   "name": "python3"
  },
  "language_info": {
   "codemirror_mode": {
    "name": "ipython",
    "version": 3
   },
   "file_extension": ".py",
   "mimetype": "text/x-python",
   "name": "python",
   "nbconvert_exporter": "python",
   "pygments_lexer": "ipython3",
   "version": "3.6.5"
  }
 },
 "nbformat": 4,
 "nbformat_minor": 2
}
