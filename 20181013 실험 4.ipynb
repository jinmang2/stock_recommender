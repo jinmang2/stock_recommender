{
 "cells": [
  {
   "cell_type": "code",
   "execution_count": 1,
   "metadata": {},
   "outputs": [],
   "source": [
    "%run moon_code\n",
    "with open('학습준비파일_20181013.pickle', 'rb') as handle:\n",
    "    store = pickle.load(handle)\n",
    "train, test, X_li, scl_X_li, target_li = store\n",
    "%run xgb_modelfit\n",
    "scl_li = scl_X_li.copy()\n",
    "for ix, i in enumerate(scl_X_li):\n",
    "    if (i.find('returns') != -1) or (i.find('his') != -1) or (i.find('pct') != -1):\n",
    "        scl_li[ix] = scl_X_li[ix][4:]\n",
    "origin_X = [i for i in X_li if i.find('returns') != 0]\n",
    "origin_scl_X = [i for i in scl_li if i.find('returns') != 0]"
   ]
  },
  {
   "cell_type": "code",
   "execution_count": 2,
   "metadata": {},
   "outputs": [],
   "source": [
    "import warnings\n",
    "warnings.filterwarnings(action='ignore')"
   ]
  },
  {
   "cell_type": "markdown",
   "metadata": {},
   "source": [
    "# 실험 4\n",
    "- predictors : not_scaled\n",
    "- target : Y"
   ]
  },
  {
   "cell_type": "code",
   "execution_count": 4,
   "metadata": {},
   "outputs": [],
   "source": [
    "predictors = X_li.copy()\n",
    "target = 'Y'"
   ]
  },
  {
   "cell_type": "code",
   "execution_count": 5,
   "metadata": {},
   "outputs": [],
   "source": [
    "result, fi_dict = temp_calc_feature_importance(alg, train, test, predictors, target)"
   ]
  },
  {
   "cell_type": "code",
   "execution_count": 6,
   "metadata": {},
   "outputs": [
    {
     "data": {
      "text/html": [
       "<div>\n",
       "<style scoped>\n",
       "    .dataframe tbody tr th:only-of-type {\n",
       "        vertical-align: middle;\n",
       "    }\n",
       "\n",
       "    .dataframe tbody tr th {\n",
       "        vertical-align: top;\n",
       "    }\n",
       "\n",
       "    .dataframe thead th {\n",
       "        text-align: right;\n",
       "    }\n",
       "</style>\n",
       "<table border=\"1\" class=\"dataframe\">\n",
       "  <thead>\n",
       "    <tr style=\"text-align: right;\">\n",
       "      <th></th>\n",
       "      <th>KB금융</th>\n",
       "      <th>LG화학</th>\n",
       "      <th>NAVER</th>\n",
       "      <th>POSCO</th>\n",
       "      <th>SK텔레콤</th>\n",
       "      <th>SK하이닉스</th>\n",
       "      <th>삼성전자</th>\n",
       "      <th>삼성중공업</th>\n",
       "      <th>셀트리온</th>\n",
       "      <th>현대건설</th>\n",
       "      <th>현대글로비스</th>\n",
       "      <th>현대차</th>\n",
       "    </tr>\n",
       "  </thead>\n",
       "  <tbody>\n",
       "    <tr>\n",
       "      <th>acc</th>\n",
       "      <td>0.545455</td>\n",
       "      <td>0.442149</td>\n",
       "      <td>0.621849</td>\n",
       "      <td>0.471074</td>\n",
       "      <td>0.570248</td>\n",
       "      <td>0.623967</td>\n",
       "      <td>0.543568</td>\n",
       "      <td>0.636364</td>\n",
       "      <td>0.438017</td>\n",
       "      <td>0.466942</td>\n",
       "      <td>0.450413</td>\n",
       "      <td>0.479339</td>\n",
       "    </tr>\n",
       "    <tr>\n",
       "      <th>f1</th>\n",
       "      <td>0.517544</td>\n",
       "      <td>0.028777</td>\n",
       "      <td>0.598214</td>\n",
       "      <td>0.228916</td>\n",
       "      <td>0.333333</td>\n",
       "      <td>0.723404</td>\n",
       "      <td>0.432990</td>\n",
       "      <td>0.482353</td>\n",
       "      <td>0.014493</td>\n",
       "      <td>0.431718</td>\n",
       "      <td>0.461538</td>\n",
       "      <td>0.411215</td>\n",
       "    </tr>\n",
       "    <tr>\n",
       "      <th>pre</th>\n",
       "      <td>0.513043</td>\n",
       "      <td>0.014599</td>\n",
       "      <td>0.705263</td>\n",
       "      <td>0.141791</td>\n",
       "      <td>0.270833</td>\n",
       "      <td>0.826389</td>\n",
       "      <td>0.341463</td>\n",
       "      <td>0.390476</td>\n",
       "      <td>0.007353</td>\n",
       "      <td>0.429825</td>\n",
       "      <td>0.570000</td>\n",
       "      <td>0.435644</td>\n",
       "    </tr>\n",
       "    <tr>\n",
       "      <th>rec</th>\n",
       "      <td>0.522124</td>\n",
       "      <td>1.000000</td>\n",
       "      <td>0.519380</td>\n",
       "      <td>0.593750</td>\n",
       "      <td>0.433333</td>\n",
       "      <td>0.643243</td>\n",
       "      <td>0.591549</td>\n",
       "      <td>0.630769</td>\n",
       "      <td>0.500000</td>\n",
       "      <td>0.433628</td>\n",
       "      <td>0.387755</td>\n",
       "      <td>0.389381</td>\n",
       "    </tr>\n",
       "    <tr>\n",
       "      <th>auc</th>\n",
       "      <td>0.544008</td>\n",
       "      <td>0.718750</td>\n",
       "      <td>0.631250</td>\n",
       "      <td>0.523065</td>\n",
       "      <td>0.524359</td>\n",
       "      <td>0.602323</td>\n",
       "      <td>0.557539</td>\n",
       "      <td>0.634594</td>\n",
       "      <td>0.468750</td>\n",
       "      <td>0.464876</td>\n",
       "      <td>0.467562</td>\n",
       "      <td>0.473760</td>\n",
       "    </tr>\n",
       "  </tbody>\n",
       "</table>\n",
       "</div>"
      ],
      "text/plain": [
       "         KB금융      LG화학     NAVER     POSCO     SK텔레콤    SK하이닉스      삼성전자  \\\n",
       "acc  0.545455  0.442149  0.621849  0.471074  0.570248  0.623967  0.543568   \n",
       "f1   0.517544  0.028777  0.598214  0.228916  0.333333  0.723404  0.432990   \n",
       "pre  0.513043  0.014599  0.705263  0.141791  0.270833  0.826389  0.341463   \n",
       "rec  0.522124  1.000000  0.519380  0.593750  0.433333  0.643243  0.591549   \n",
       "auc  0.544008  0.718750  0.631250  0.523065  0.524359  0.602323  0.557539   \n",
       "\n",
       "        삼성중공업      셀트리온      현대건설    현대글로비스       현대차  \n",
       "acc  0.636364  0.438017  0.466942  0.450413  0.479339  \n",
       "f1   0.482353  0.014493  0.431718  0.461538  0.411215  \n",
       "pre  0.390476  0.007353  0.429825  0.570000  0.435644  \n",
       "rec  0.630769  0.500000  0.433628  0.387755  0.389381  \n",
       "auc  0.634594  0.468750  0.464876  0.467562  0.473760  "
      ]
     },
     "execution_count": 6,
     "metadata": {},
     "output_type": "execute_result"
    }
   ],
   "source": [
    "pd.DataFrame(result, index=['acc','f1','pre','rec','auc'])"
   ]
  },
  {
   "cell_type": "code",
   "execution_count": 7,
   "metadata": {},
   "outputs": [
    {
     "data": {
      "text/plain": [
       "acc    0.524115\n",
       "f1     0.388708\n",
       "pre    0.387223\n",
       "rec    0.553743\n",
       "auc    0.550903\n",
       "dtype: float64"
      ]
     },
     "execution_count": 7,
     "metadata": {},
     "output_type": "execute_result"
    }
   ],
   "source": [
    "pd.DataFrame(result, index=['acc','f1','pre','rec','auc']).mean(1)"
   ]
  },
  {
   "cell_type": "code",
   "execution_count": 8,
   "metadata": {},
   "outputs": [
    {
     "data": {
      "text/plain": [
       "pct_change                12\n",
       "his_vol_60                11\n",
       "his_vol_120               10\n",
       "his_vol_7                 10\n",
       "his_vol_21                10\n",
       "his_vol_100                8\n",
       "his_vol_30                 8\n",
       "his_vol_91                 7\n",
       "his_vol_90                 7\n",
       "returnsOpenPrevMktres1     6\n",
       "dtype: int64"
      ]
     },
     "execution_count": 8,
     "metadata": {},
     "output_type": "execute_result"
    }
   ],
   "source": [
    "pd.DataFrame(fi_dict).count(1).sort_values(ascending=False)[:10]"
   ]
  },
  {
   "cell_type": "code",
   "execution_count": null,
   "metadata": {},
   "outputs": [],
   "source": []
  }
 ],
 "metadata": {
  "kernelspec": {
   "display_name": "Python 3",
   "language": "python",
   "name": "python3"
  },
  "language_info": {
   "codemirror_mode": {
    "name": "ipython",
    "version": 3
   },
   "file_extension": ".py",
   "mimetype": "text/x-python",
   "name": "python",
   "nbconvert_exporter": "python",
   "pygments_lexer": "ipython3",
   "version": "3.6.5"
  }
 },
 "nbformat": 4,
 "nbformat_minor": 2
}
