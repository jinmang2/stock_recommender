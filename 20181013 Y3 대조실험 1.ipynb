{
 "cells": [
  {
   "cell_type": "code",
   "execution_count": 1,
   "metadata": {},
   "outputs": [],
   "source": [
    "%run moon_code\n",
    "with open('학습준비파일_20181013.pickle', 'rb') as handle:\n",
    "    store = pickle.load(handle)\n",
    "train, test, X_li, scl_X_li, target_li = store\n",
    "%run xgb_modelfit\n",
    "scl_li = scl_X_li.copy()\n",
    "for ix, i in enumerate(scl_X_li):\n",
    "    if (i.find('returns') != -1) or (i.find('his') != -1) or (i.find('pct') != -1):\n",
    "        scl_li[ix] = scl_X_li[ix][4:]\n",
    "origin_X = [i for i in X_li if i.find('returns') != 0]\n",
    "origin_scl_X = [i for i in scl_li if i.find('returns') != 0]"
   ]
  },
  {
   "cell_type": "code",
   "execution_count": 2,
   "metadata": {},
   "outputs": [],
   "source": [
    "import warnings\n",
    "warnings.filterwarnings(action='ignore')"
   ]
  },
  {
   "cell_type": "markdown",
   "metadata": {},
   "source": [
    "# 대조실험 -Y3\n",
    "- predictors : returns~를 제외한 feature\n",
    "- target : Y3"
   ]
  },
  {
   "cell_type": "code",
   "execution_count": 3,
   "metadata": {},
   "outputs": [],
   "source": [
    "predictors = origin_X.copy()\n",
    "target = 'Y3'"
   ]
  },
  {
   "cell_type": "code",
   "execution_count": 4,
   "metadata": {},
   "outputs": [],
   "source": [
    "result, fi_dict = temp_calc_feature_importance(alg, train, test, predictors, target)"
   ]
  },
  {
   "cell_type": "code",
   "execution_count": 5,
   "metadata": {},
   "outputs": [
    {
     "data": {
      "text/html": [
       "<div>\n",
       "<style scoped>\n",
       "    .dataframe tbody tr th:only-of-type {\n",
       "        vertical-align: middle;\n",
       "    }\n",
       "\n",
       "    .dataframe tbody tr th {\n",
       "        vertical-align: top;\n",
       "    }\n",
       "\n",
       "    .dataframe thead th {\n",
       "        text-align: right;\n",
       "    }\n",
       "</style>\n",
       "<table border=\"1\" class=\"dataframe\">\n",
       "  <thead>\n",
       "    <tr style=\"text-align: right;\">\n",
       "      <th></th>\n",
       "      <th>KB금융</th>\n",
       "      <th>LG화학</th>\n",
       "      <th>NAVER</th>\n",
       "      <th>POSCO</th>\n",
       "      <th>SK텔레콤</th>\n",
       "      <th>SK하이닉스</th>\n",
       "      <th>삼성전자</th>\n",
       "      <th>삼성중공업</th>\n",
       "      <th>셀트리온</th>\n",
       "      <th>현대건설</th>\n",
       "      <th>현대글로비스</th>\n",
       "      <th>현대차</th>\n",
       "    </tr>\n",
       "  </thead>\n",
       "  <tbody>\n",
       "    <tr>\n",
       "      <th>acc</th>\n",
       "      <td>0.595041</td>\n",
       "      <td>0.545455</td>\n",
       "      <td>0.647059</td>\n",
       "      <td>0.648760</td>\n",
       "      <td>0.677686</td>\n",
       "      <td>0.566116</td>\n",
       "      <td>0.510373</td>\n",
       "      <td>0.632231</td>\n",
       "      <td>0.595041</td>\n",
       "      <td>0.723140</td>\n",
       "      <td>0.615702</td>\n",
       "      <td>0.694215</td>\n",
       "    </tr>\n",
       "    <tr>\n",
       "      <th>f1</th>\n",
       "      <td>0.644928</td>\n",
       "      <td>0.444444</td>\n",
       "      <td>0.655738</td>\n",
       "      <td>0.709898</td>\n",
       "      <td>0.706767</td>\n",
       "      <td>0.620939</td>\n",
       "      <td>0.473214</td>\n",
       "      <td>0.648221</td>\n",
       "      <td>0.715116</td>\n",
       "      <td>0.721992</td>\n",
       "      <td>0.640927</td>\n",
       "      <td>0.660550</td>\n",
       "    </tr>\n",
       "    <tr>\n",
       "      <th>pre</th>\n",
       "      <td>0.735537</td>\n",
       "      <td>0.318841</td>\n",
       "      <td>0.776699</td>\n",
       "      <td>0.812500</td>\n",
       "      <td>0.831858</td>\n",
       "      <td>0.618705</td>\n",
       "      <td>0.441667</td>\n",
       "      <td>0.766355</td>\n",
       "      <td>0.904412</td>\n",
       "      <td>0.654135</td>\n",
       "      <td>0.768519</td>\n",
       "      <td>0.666667</td>\n",
       "    </tr>\n",
       "    <tr>\n",
       "      <th>rec</th>\n",
       "      <td>0.574194</td>\n",
       "      <td>0.733333</td>\n",
       "      <td>0.567376</td>\n",
       "      <td>0.630303</td>\n",
       "      <td>0.614379</td>\n",
       "      <td>0.623188</td>\n",
       "      <td>0.509615</td>\n",
       "      <td>0.561644</td>\n",
       "      <td>0.591346</td>\n",
       "      <td>0.805556</td>\n",
       "      <td>0.549669</td>\n",
       "      <td>0.654545</td>\n",
       "    </tr>\n",
       "    <tr>\n",
       "      <th>auc</th>\n",
       "      <td>0.603189</td>\n",
       "      <td>0.608425</td>\n",
       "      <td>0.665131</td>\n",
       "      <td>0.659307</td>\n",
       "      <td>0.700448</td>\n",
       "      <td>0.556787</td>\n",
       "      <td>0.510282</td>\n",
       "      <td>0.650614</td>\n",
       "      <td>0.604497</td>\n",
       "      <td>0.731136</td>\n",
       "      <td>0.637472</td>\n",
       "      <td>0.690909</td>\n",
       "    </tr>\n",
       "  </tbody>\n",
       "</table>\n",
       "</div>"
      ],
      "text/plain": [
       "         KB금융      LG화학     NAVER     POSCO     SK텔레콤    SK하이닉스      삼성전자  \\\n",
       "acc  0.595041  0.545455  0.647059  0.648760  0.677686  0.566116  0.510373   \n",
       "f1   0.644928  0.444444  0.655738  0.709898  0.706767  0.620939  0.473214   \n",
       "pre  0.735537  0.318841  0.776699  0.812500  0.831858  0.618705  0.441667   \n",
       "rec  0.574194  0.733333  0.567376  0.630303  0.614379  0.623188  0.509615   \n",
       "auc  0.603189  0.608425  0.665131  0.659307  0.700448  0.556787  0.510282   \n",
       "\n",
       "        삼성중공업      셀트리온      현대건설    현대글로비스       현대차  \n",
       "acc  0.632231  0.595041  0.723140  0.615702  0.694215  \n",
       "f1   0.648221  0.715116  0.721992  0.640927  0.660550  \n",
       "pre  0.766355  0.904412  0.654135  0.768519  0.666667  \n",
       "rec  0.561644  0.591346  0.805556  0.549669  0.654545  \n",
       "auc  0.650614  0.604497  0.731136  0.637472  0.690909  "
      ]
     },
     "execution_count": 5,
     "metadata": {},
     "output_type": "execute_result"
    }
   ],
   "source": [
    "pd.DataFrame(result, index=['acc','f1','pre','rec','auc'])"
   ]
  },
  {
   "cell_type": "code",
   "execution_count": 6,
   "metadata": {},
   "outputs": [
    {
     "data": {
      "text/plain": [
       "acc    0.620902\n",
       "f1     0.636894\n",
       "pre    0.691325\n",
       "rec    0.617929\n",
       "auc    0.634850\n",
       "dtype: float64"
      ]
     },
     "execution_count": 6,
     "metadata": {},
     "output_type": "execute_result"
    }
   ],
   "source": [
    "pd.DataFrame(result, index=['acc','f1','pre','rec','auc']).mean(1)"
   ]
  },
  {
   "cell_type": "code",
   "execution_count": 7,
   "metadata": {},
   "outputs": [
    {
     "data": {
      "text/plain": [
       "pct_change     12\n",
       "Close          10\n",
       "his_vol_120    10\n",
       "his_vol_7       9\n",
       "Low             9\n",
       "Volume          9\n",
       "his_vol_21      8\n",
       "his_vol_30      6\n",
       "High            5\n",
       "Open            5\n",
       "dtype: int64"
      ]
     },
     "execution_count": 7,
     "metadata": {},
     "output_type": "execute_result"
    }
   ],
   "source": [
    "pd.DataFrame(fi_dict).count(1).sort_values(ascending=False)[:10]"
   ]
  },
  {
   "cell_type": "code",
   "execution_count": null,
   "metadata": {},
   "outputs": [],
   "source": [
    "\n"
   ]
  }
 ],
 "metadata": {
  "kernelspec": {
   "display_name": "Python 3",
   "language": "python",
   "name": "python3"
  },
  "language_info": {
   "codemirror_mode": {
    "name": "ipython",
    "version": 3
   },
   "file_extension": ".py",
   "mimetype": "text/x-python",
   "name": "python",
   "nbconvert_exporter": "python",
   "pygments_lexer": "ipython3",
   "version": "3.6.5"
  }
 },
 "nbformat": 4,
 "nbformat_minor": 2
}
