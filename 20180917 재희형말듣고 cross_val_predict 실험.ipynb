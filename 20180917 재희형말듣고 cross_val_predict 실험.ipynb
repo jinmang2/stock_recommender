{
 "cells": [
  {
   "cell_type": "code",
   "execution_count": 2,
   "metadata": {},
   "outputs": [],
   "source": [
    "import numpy as np\n",
    "import pandas as pd\n",
    "import matplotlib.pyplot as plt\n",
    "%matplotlib inline"
   ]
  },
  {
   "cell_type": "code",
   "execution_count": 3,
   "metadata": {},
   "outputs": [],
   "source": [
    "X = np.array([[0], [1], [2], [3], [4], [5]])\n",
    "labels = np.array(['a', 'a', 'a', 'b', 'b', 'b'])"
   ]
  },
  {
   "cell_type": "code",
   "execution_count": 8,
   "metadata": {},
   "outputs": [],
   "source": [
    "from sklearn.model_selection import KFold\n",
    "cv = KFold(3)"
   ]
  },
  {
   "cell_type": "code",
   "execution_count": 9,
   "metadata": {},
   "outputs": [],
   "source": [
    "from sklearn.svm import SVC\n",
    "clf = SVC()"
   ]
  },
  {
   "cell_type": "code",
   "execution_count": 10,
   "metadata": {},
   "outputs": [],
   "source": [
    "ypred_all = np.chararray((labels.shape))"
   ]
  },
  {
   "cell_type": "code",
   "execution_count": 13,
   "metadata": {},
   "outputs": [
    {
     "data": {
      "text/plain": [
       "chararray([b'\\x01', b'\\x01', b'\\x01', b'\\x01', b'\\x01', b'\\x01'],\n",
       "          dtype='|S1')"
      ]
     },
     "execution_count": 13,
     "metadata": {},
     "output_type": "execute_result"
    }
   ],
   "source": [
    "ypred_all"
   ]
  },
  {
   "cell_type": "code",
   "execution_count": 15,
   "metadata": {},
   "outputs": [
    {
     "name": "stdout",
     "output_type": "stream",
     "text": [
      "iteration 1 :\n",
      "train indices: [2 3 4 5]\n",
      "train data: [[2]\n",
      " [3]\n",
      " [4]\n",
      " [5]]\n",
      "test indices: [0 1]\n",
      "test data: [[0]\n",
      " [1]]\n",
      "predicted labels for data of indices [0 1] are: ['b' 'b']\n",
      "merged predicted labels: [b'b' b'b' b'\\x01' b'\\x01' b'\\x01' b'\\x01']\n",
      "=====================================\n",
      "iteration 2 :\n",
      "train indices: [0 1 4 5]\n",
      "train data: [[0]\n",
      " [1]\n",
      " [4]\n",
      " [5]]\n",
      "test indices: [2 3]\n",
      "test data: [[2]\n",
      " [3]]\n",
      "predicted labels for data of indices [2 3] are: ['a' 'b']\n",
      "merged predicted labels: [b'b' b'b' b'a' b'b' b'\\x01' b'\\x01']\n",
      "=====================================\n",
      "iteration 3 :\n",
      "train indices: [0 1 2 3]\n",
      "train data: [[0]\n",
      " [1]\n",
      " [2]\n",
      " [3]]\n",
      "test indices: [4 5]\n",
      "test data: [[4]\n",
      " [5]]\n",
      "predicted labels for data of indices [4 5] are: ['a' 'a']\n",
      "merged predicted labels: [b'b' b'b' b'a' b'b' b'a' b'a']\n",
      "=====================================\n"
     ]
    }
   ],
   "source": [
    "i = 1\n",
    "for train_index, test_index in cv.split(X):\n",
    "    print(\"iteration\", i, \":\")\n",
    "    print(\"train indices:\", train_index)\n",
    "    print(\"train data:\", X[train_index])\n",
    "    print(\"test indices:\", test_index)\n",
    "    print(\"test data:\", X[test_index])\n",
    "    clf.fit(X[train_index], labels[train_index])\n",
    "    ypred = clf.predict(X[test_index])\n",
    "    print(\"predicted labels for data of indices\", test_index, \"are:\", ypred)\n",
    "    ypred_all[test_index] = ypred\n",
    "    print(\"merged predicted labels:\", ypred_all)\n",
    "    i = i+1\n",
    "    print(\"=====================================\")"
   ]
  },
  {
   "cell_type": "code",
   "execution_count": 17,
   "metadata": {},
   "outputs": [
    {
     "name": "stdout",
     "output_type": "stream",
     "text": [
      "predicted labels by cross_val_predict: ['b' 'b' 'a' 'b' 'a' 'a']\n"
     ]
    }
   ],
   "source": [
    "from sklearn.model_selection import cross_val_predict\n",
    "\n",
    "y_cross_val_predict = cross_val_predict(clf, X, labels, cv=cv)\n",
    "print(\"predicted labels by cross_val_predict:\", y_cross_val_predict)"
   ]
  },
  {
   "cell_type": "code",
   "execution_count": null,
   "metadata": {},
   "outputs": [],
   "source": []
  }
 ],
 "metadata": {
  "kernelspec": {
   "display_name": "Python 3",
   "language": "python",
   "name": "python3"
  },
  "language_info": {
   "codemirror_mode": {
    "name": "ipython",
    "version": 3
   },
   "file_extension": ".py",
   "mimetype": "text/x-python",
   "name": "python",
   "nbconvert_exporter": "python",
   "pygments_lexer": "ipython3",
   "version": "3.6.5"
  }
 },
 "nbformat": 4,
 "nbformat_minor": 2
}
