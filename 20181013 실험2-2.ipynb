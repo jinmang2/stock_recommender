{
 "cells": [
  {
   "cell_type": "code",
   "execution_count": 1,
   "metadata": {},
   "outputs": [],
   "source": [
    "%run moon_code\n",
    "with open('학습준비파일_20181013.pickle', 'rb') as handle:\n",
    "    store = pickle.load(handle)\n",
    "train, test, X_li, scl_X_li, target_li = store\n",
    "%run xgb_modelfit\n",
    "scl_li = scl_X_li.copy()\n",
    "for ix, i in enumerate(scl_X_li):\n",
    "    if (i.find('returns') != -1) or (i.find('his') != -1) or (i.find('pct') != -1):\n",
    "        scl_li[ix] = scl_X_li[ix][4:]\n",
    "origin_X = [i for i in X_li if i.find('returns') != 0]\n",
    "origin_scl_X = [i for i in scl_li if i.find('returns') != 0]"
   ]
  },
  {
   "cell_type": "code",
   "execution_count": 2,
   "metadata": {},
   "outputs": [],
   "source": [
    "import warnings\n",
    "warnings.filterwarnings(action='ignore')"
   ]
  },
  {
   "cell_type": "markdown",
   "metadata": {},
   "source": [
    "# 실험 2-1\n",
    "- Predictors : Scaled\n",
    "- Target : Y2"
   ]
  },
  {
   "cell_type": "code",
   "execution_count": 3,
   "metadata": {},
   "outputs": [],
   "source": [
    "predictors = scl_li.copy()\n",
    "target = 'Y2'"
   ]
  },
  {
   "cell_type": "code",
   "execution_count": 4,
   "metadata": {},
   "outputs": [],
   "source": [
    "result, fi_dict = temp_calc_feature_importance(alg, train, test, predictors, target)"
   ]
  },
  {
   "cell_type": "code",
   "execution_count": 5,
   "metadata": {},
   "outputs": [
    {
     "data": {
      "text/html": [
       "<div>\n",
       "<style scoped>\n",
       "    .dataframe tbody tr th:only-of-type {\n",
       "        vertical-align: middle;\n",
       "    }\n",
       "\n",
       "    .dataframe tbody tr th {\n",
       "        vertical-align: top;\n",
       "    }\n",
       "\n",
       "    .dataframe thead th {\n",
       "        text-align: right;\n",
       "    }\n",
       "</style>\n",
       "<table border=\"1\" class=\"dataframe\">\n",
       "  <thead>\n",
       "    <tr style=\"text-align: right;\">\n",
       "      <th></th>\n",
       "      <th>KB금융</th>\n",
       "      <th>LG화학</th>\n",
       "      <th>NAVER</th>\n",
       "      <th>POSCO</th>\n",
       "      <th>SK텔레콤</th>\n",
       "      <th>SK하이닉스</th>\n",
       "      <th>삼성전자</th>\n",
       "      <th>삼성중공업</th>\n",
       "      <th>셀트리온</th>\n",
       "      <th>현대건설</th>\n",
       "      <th>현대글로비스</th>\n",
       "      <th>현대차</th>\n",
       "    </tr>\n",
       "  </thead>\n",
       "  <tbody>\n",
       "    <tr>\n",
       "      <th>acc</th>\n",
       "      <td>0.520661</td>\n",
       "      <td>0.549587</td>\n",
       "      <td>0.529412</td>\n",
       "      <td>0.520661</td>\n",
       "      <td>0.553719</td>\n",
       "      <td>0.471074</td>\n",
       "      <td>0.539419</td>\n",
       "      <td>0.636364</td>\n",
       "      <td>0.479339</td>\n",
       "      <td>0.500000</td>\n",
       "      <td>0.471074</td>\n",
       "      <td>0.533058</td>\n",
       "    </tr>\n",
       "    <tr>\n",
       "      <th>f1</th>\n",
       "      <td>0.602740</td>\n",
       "      <td>0.524017</td>\n",
       "      <td>0.559055</td>\n",
       "      <td>0.325581</td>\n",
       "      <td>0.142857</td>\n",
       "      <td>0.438596</td>\n",
       "      <td>0.543210</td>\n",
       "      <td>0.639344</td>\n",
       "      <td>0.483607</td>\n",
       "      <td>0.437209</td>\n",
       "      <td>0.396226</td>\n",
       "      <td>0.553360</td>\n",
       "    </tr>\n",
       "    <tr>\n",
       "      <th>pre</th>\n",
       "      <td>0.721311</td>\n",
       "      <td>0.495868</td>\n",
       "      <td>0.639640</td>\n",
       "      <td>0.235294</td>\n",
       "      <td>0.081081</td>\n",
       "      <td>0.438596</td>\n",
       "      <td>0.554622</td>\n",
       "      <td>0.639344</td>\n",
       "      <td>0.536364</td>\n",
       "      <td>0.443396</td>\n",
       "      <td>0.341463</td>\n",
       "      <td>0.603448</td>\n",
       "    </tr>\n",
       "    <tr>\n",
       "      <th>rec</th>\n",
       "      <td>0.517647</td>\n",
       "      <td>0.555556</td>\n",
       "      <td>0.496503</td>\n",
       "      <td>0.528302</td>\n",
       "      <td>0.600000</td>\n",
       "      <td>0.438596</td>\n",
       "      <td>0.532258</td>\n",
       "      <td>0.639344</td>\n",
       "      <td>0.440299</td>\n",
       "      <td>0.431193</td>\n",
       "      <td>0.471910</td>\n",
       "      <td>0.510949</td>\n",
       "    </tr>\n",
       "    <tr>\n",
       "      <th>auc</th>\n",
       "      <td>0.522712</td>\n",
       "      <td>0.550166</td>\n",
       "      <td>0.537725</td>\n",
       "      <td>0.523410</td>\n",
       "      <td>0.575330</td>\n",
       "      <td>0.469298</td>\n",
       "      <td>0.539633</td>\n",
       "      <td>0.636339</td>\n",
       "      <td>0.484038</td>\n",
       "      <td>0.493792</td>\n",
       "      <td>0.471249</td>\n",
       "      <td>0.536427</td>\n",
       "    </tr>\n",
       "  </tbody>\n",
       "</table>\n",
       "</div>"
      ],
      "text/plain": [
       "         KB금융      LG화학     NAVER     POSCO     SK텔레콤    SK하이닉스      삼성전자  \\\n",
       "acc  0.520661  0.549587  0.529412  0.520661  0.553719  0.471074  0.539419   \n",
       "f1   0.602740  0.524017  0.559055  0.325581  0.142857  0.438596  0.543210   \n",
       "pre  0.721311  0.495868  0.639640  0.235294  0.081081  0.438596  0.554622   \n",
       "rec  0.517647  0.555556  0.496503  0.528302  0.600000  0.438596  0.532258   \n",
       "auc  0.522712  0.550166  0.537725  0.523410  0.575330  0.469298  0.539633   \n",
       "\n",
       "        삼성중공업      셀트리온      현대건설    현대글로비스       현대차  \n",
       "acc  0.636364  0.479339  0.500000  0.471074  0.533058  \n",
       "f1   0.639344  0.483607  0.437209  0.396226  0.553360  \n",
       "pre  0.639344  0.536364  0.443396  0.341463  0.603448  \n",
       "rec  0.639344  0.440299  0.431193  0.471910  0.510949  \n",
       "auc  0.636339  0.484038  0.493792  0.471249  0.536427  "
      ]
     },
     "execution_count": 5,
     "metadata": {},
     "output_type": "execute_result"
    }
   ],
   "source": [
    "pd.DataFrame(result, index=['acc','f1','pre','rec','auc'])"
   ]
  },
  {
   "cell_type": "code",
   "execution_count": 7,
   "metadata": {},
   "outputs": [
    {
     "data": {
      "text/plain": [
       "acc    0.525364\n",
       "f1     0.470484\n",
       "pre    0.477536\n",
       "rec    0.513546\n",
       "auc    0.528343\n",
       "dtype: float64"
      ]
     },
     "execution_count": 7,
     "metadata": {},
     "output_type": "execute_result"
    }
   ],
   "source": [
    "pd.DataFrame(result, index=['acc','f1','pre','rec','auc']).mean(1)"
   ]
  },
  {
   "cell_type": "code",
   "execution_count": 6,
   "metadata": {},
   "outputs": [
    {
     "data": {
      "text/plain": [
       "returnsClosePrevMktres1     8\n",
       "returnsClosePrevMktres10    8\n",
       "returnsOpenPrevRaw1         8\n",
       "his_vol_21                  7\n",
       "returnsClosePrevRaw1        7\n",
       "returnsOpenPrevMktres1      7\n",
       "pct_change                  6\n",
       "his_vol_120                 5\n",
       "returnsOpenPrevMktres10     5\n",
       "scl_volume_ma_17            4\n",
       "dtype: int64"
      ]
     },
     "execution_count": 6,
     "metadata": {},
     "output_type": "execute_result"
    }
   ],
   "source": [
    "pd.DataFrame(fi_dict).count(1).sort_values(ascending=False)[:10]"
   ]
  },
  {
   "cell_type": "code",
   "execution_count": null,
   "metadata": {},
   "outputs": [],
   "source": []
  }
 ],
 "metadata": {
  "kernelspec": {
   "display_name": "Python 3",
   "language": "python",
   "name": "python3"
  },
  "language_info": {
   "codemirror_mode": {
    "name": "ipython",
    "version": 3
   },
   "file_extension": ".py",
   "mimetype": "text/x-python",
   "name": "python",
   "nbconvert_exporter": "python",
   "pygments_lexer": "ipython3",
   "version": "3.6.5"
  }
 },
 "nbformat": 4,
 "nbformat_minor": 2
}
