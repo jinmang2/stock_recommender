{
 "cells": [
  {
   "cell_type": "code",
   "execution_count": 1,
   "metadata": {},
   "outputs": [],
   "source": [
    "import numpy as np\n",
    "import pandas as pd\n",
    "import matplotlib.pyplot as plt\n",
    "import matplotlib\n",
    "%matplotlib inline"
   ]
  },
  {
   "cell_type": "code",
   "execution_count": 2,
   "metadata": {},
   "outputs": [],
   "source": [
    "from matplotlib import font_manager, rc\n",
    "font_name = font_manager.FontProperties(fname=\"c:/Windows/Fonts/malgun.ttf\").get_name()\n",
    "rc('font', family=font_name)"
   ]
  },
  {
   "cell_type": "code",
   "execution_count": 3,
   "metadata": {},
   "outputs": [],
   "source": [
    "from sklearn.datasets import fetch_mldata\n",
    "mnist = fetch_mldata('MNIST original')"
   ]
  },
  {
   "cell_type": "code",
   "execution_count": 4,
   "metadata": {},
   "outputs": [
    {
     "data": {
      "text/plain": [
       "{'DESCR': 'mldata.org dataset: mnist-original',\n",
       " 'COL_NAMES': ['label', 'data'],\n",
       " 'target': array([0., 0., 0., ..., 9., 9., 9.]),\n",
       " 'data': array([[0, 0, 0, ..., 0, 0, 0],\n",
       "        [0, 0, 0, ..., 0, 0, 0],\n",
       "        [0, 0, 0, ..., 0, 0, 0],\n",
       "        ...,\n",
       "        [0, 0, 0, ..., 0, 0, 0],\n",
       "        [0, 0, 0, ..., 0, 0, 0],\n",
       "        [0, 0, 0, ..., 0, 0, 0]], dtype=uint8)}"
      ]
     },
     "execution_count": 4,
     "metadata": {},
     "output_type": "execute_result"
    }
   ],
   "source": [
    "mnist"
   ]
  },
  {
   "cell_type": "code",
   "execution_count": 10,
   "metadata": {},
   "outputs": [
    {
     "data": {
      "text/plain": [
       "255"
      ]
     },
     "execution_count": 10,
     "metadata": {},
     "output_type": "execute_result"
    }
   ],
   "source": [
    "mnist[\"data\"].flatten().max()"
   ]
  },
  {
   "cell_type": "code",
   "execution_count": 66,
   "metadata": {
    "scrolled": true
   },
   "outputs": [
    {
     "name": "stdout",
     "output_type": "stream",
     "text": [
      "data_0   min : 0, max : 0\n",
      "data_1   min : 0, max : 0\n",
      "data_2   min : 0, max : 0\n",
      "data_3   min : 0, max : 0\n",
      "data_4   min : 0, max : 0\n",
      "data_5   min : 0, max : 0\n",
      "data_6   min : 0, max : 0\n",
      "data_7   min : 0, max : 0\n",
      "data_8   min : 0, max : 0\n",
      "data_9   min : 0, max : 0\n",
      "data_10   min : 0, max : 0\n",
      "data_11   min : 0, max : 0\n",
      "data_12   min : 0, max : 116\n",
      "data_13   min : 0, max : 254\n",
      "data_14   min : 0, max : 216\n",
      "data_15   min : 0, max : 9\n",
      "data_16   min : 0, max : 0\n",
      "data_17   min : 0, max : 0\n",
      "data_18   min : 0, max : 0\n",
      "data_19   min : 0, max : 0\n",
      "data_20   min : 0, max : 0\n",
      "data_21   min : 0, max : 0\n",
      "data_22   min : 0, max : 0\n",
      "data_23   min : 0, max : 0\n",
      "data_24   min : 0, max : 0\n",
      "data_25   min : 0, max : 0\n",
      "data_26   min : 0, max : 0\n",
      "data_27   min : 0, max : 0\n",
      "data_28   min : 0, max : 0\n",
      "data_29   min : 0, max : 0\n",
      "data_30   min : 0, max : 0\n",
      "data_31   min : 0, max : 0\n",
      "data_32   min : 0, max : 16\n",
      "data_33   min : 0, max : 47\n",
      "data_34   min : 0, max : 236\n",
      "data_35   min : 0, max : 254\n",
      "data_36   min : 0, max : 255\n",
      "data_37   min : 0, max : 254\n",
      "data_38   min : 0, max : 255\n",
      "data_39   min : 0, max : 255\n",
      "data_40   min : 0, max : 255\n",
      "data_41   min : 0, max : 255\n",
      "data_42   min : 0, max : 255\n",
      "data_43   min : 0, max : 255\n",
      "data_44   min : 0, max : 255\n",
      "data_45   min : 0, max : 255\n",
      "data_46   min : 0, max : 255\n",
      "data_47   min : 0, max : 255\n",
      "data_48   min : 0, max : 244\n",
      "data_49   min : 0, max : 255\n",
      "data_50   min : 0, max : 184\n",
      "data_51   min : 0, max : 197\n",
      "data_52   min : 0, max : 0\n",
      "data_53   min : 0, max : 0\n",
      "data_54   min : 0, max : 0\n",
      "data_55   min : 0, max : 0\n",
      "data_56   min : 0, max : 0\n",
      "data_57   min : 0, max : 0\n",
      "data_58   min : 0, max : 64\n",
      "data_59   min : 0, max : 29\n",
      "data_60   min : 0, max : 134\n",
      "data_61   min : 0, max : 192\n",
      "data_62   min : 0, max : 254\n",
      "data_63   min : 0, max : 255\n",
      "data_64   min : 0, max : 255\n",
      "data_65   min : 0, max : 255\n",
      "data_66   min : 0, max : 255\n",
      "data_67   min : 0, max : 255\n",
      "data_68   min : 0, max : 255\n",
      "data_69   min : 0, max : 255\n",
      "data_70   min : 0, max : 255\n",
      "data_71   min : 0, max : 255\n",
      "data_72   min : 0, max : 255\n",
      "data_73   min : 0, max : 255\n",
      "data_74   min : 0, max : 255\n",
      "data_75   min : 0, max : 255\n",
      "data_76   min : 0, max : 255\n",
      "data_77   min : 0, max : 255\n",
      "data_78   min : 0, max : 255\n",
      "data_79   min : 0, max : 255\n",
      "data_80   min : 0, max : 255\n",
      "data_81   min : 0, max : 165\n",
      "data_82   min : 0, max : 0\n",
      "data_83   min : 0, max : 0\n",
      "data_84   min : 0, max : 0\n",
      "data_85   min : 0, max : 0\n",
      "data_86   min : 0, max : 141\n",
      "data_87   min : 0, max : 101\n",
      "data_88   min : 0, max : 139\n",
      "data_89   min : 0, max : 255\n",
      "data_90   min : 0, max : 255\n",
      "data_91   min : 0, max : 255\n",
      "data_92   min : 0, max : 255\n",
      "data_93   min : 0, max : 255\n",
      "data_94   min : 0, max : 255\n",
      "data_95   min : 0, max : 255\n",
      "data_96   min : 0, max : 255\n",
      "data_97   min : 0, max : 255\n",
      "data_98   min : 0, max : 255\n",
      "data_99   min : 0, max : 255\n",
      "data_100   min : 0, max : 255\n",
      "data_101   min : 0, max : 255\n",
      "data_102   min : 0, max : 255\n",
      "data_103   min : 0, max : 255\n",
      "data_104   min : 0, max : 255\n",
      "data_105   min : 0, max : 255\n",
      "data_106   min : 0, max : 255\n",
      "data_107   min : 0, max : 255\n",
      "data_108   min : 0, max : 255\n",
      "data_109   min : 0, max : 234\n",
      "data_110   min : 0, max : 163\n",
      "data_111   min : 0, max : 0\n",
      "data_112   min : 0, max : 0\n",
      "data_113   min : 0, max : 38\n",
      "data_114   min : 0, max : 144\n",
      "data_115   min : 0, max : 114\n",
      "data_116   min : 0, max : 254\n",
      "data_117   min : 0, max : 255\n",
      "data_118   min : 0, max : 255\n",
      "data_119   min : 0, max : 255\n",
      "data_120   min : 0, max : 255\n",
      "data_121   min : 0, max : 255\n",
      "data_122   min : 0, max : 255\n",
      "data_123   min : 0, max : 255\n",
      "data_124   min : 0, max : 255\n",
      "data_125   min : 0, max : 255\n",
      "data_126   min : 0, max : 255\n",
      "data_127   min : 0, max : 255\n",
      "data_128   min : 0, max : 255\n",
      "data_129   min : 0, max : 255\n",
      "data_130   min : 0, max : 255\n",
      "data_131   min : 0, max : 255\n",
      "data_132   min : 0, max : 255\n",
      "data_133   min : 0, max : 255\n",
      "data_134   min : 0, max : 255\n",
      "data_135   min : 0, max : 255\n",
      "data_136   min : 0, max : 255\n",
      "data_137   min : 0, max : 255\n",
      "data_138   min : 0, max : 246\n",
      "data_139   min : 0, max : 63\n",
      "data_140   min : 0, max : 0\n",
      "data_141   min : 0, max : 24\n",
      "data_142   min : 0, max : 95\n",
      "data_143   min : 0, max : 255\n",
      "data_144   min : 0, max : 255\n",
      "data_145   min : 0, max : 255\n",
      "data_146   min : 0, max : 255\n",
      "data_147   min : 0, max : 255\n",
      "data_148   min : 0, max : 255\n",
      "data_149   min : 0, max : 255\n",
      "data_150   min : 0, max : 255\n",
      "data_151   min : 0, max : 255\n",
      "data_152   min : 0, max : 255\n",
      "data_153   min : 0, max : 255\n",
      "data_154   min : 0, max : 255\n",
      "data_155   min : 0, max : 255\n",
      "data_156   min : 0, max : 255\n",
      "data_157   min : 0, max : 255\n",
      "data_158   min : 0, max : 255\n",
      "data_159   min : 0, max : 255\n",
      "data_160   min : 0, max : 255\n",
      "data_161   min : 0, max : 255\n",
      "data_162   min : 0, max : 255\n",
      "data_163   min : 0, max : 255\n",
      "data_164   min : 0, max : 255\n",
      "data_165   min : 0, max : 255\n",
      "data_166   min : 0, max : 255\n",
      "data_167   min : 0, max : 93\n",
      "data_168   min : 0, max : 0\n",
      "data_169   min : 0, max : 7\n",
      "data_170   min : 0, max : 210\n",
      "data_171   min : 0, max : 255\n",
      "data_172   min : 0, max : 255\n",
      "data_173   min : 0, max : 255\n",
      "data_174   min : 0, max : 255\n",
      "data_175   min : 0, max : 255\n",
      "data_176   min : 0, max : 255\n",
      "data_177   min : 0, max : 255\n",
      "data_178   min : 0, max : 255\n",
      "data_179   min : 0, max : 255\n",
      "data_180   min : 0, max : 255\n",
      "data_181   min : 0, max : 255\n",
      "data_182   min : 0, max : 255\n",
      "data_183   min : 0, max : 255\n",
      "data_184   min : 0, max : 255\n",
      "data_185   min : 0, max : 255\n",
      "data_186   min : 0, max : 255\n",
      "data_187   min : 0, max : 255\n",
      "data_188   min : 0, max : 255\n",
      "data_189   min : 0, max : 255\n",
      "data_190   min : 0, max : 255\n",
      "data_191   min : 0, max : 255\n",
      "data_192   min : 0, max : 255\n",
      "data_193   min : 0, max : 255\n",
      "data_194   min : 0, max : 254\n",
      "data_195   min : 0, max : 253\n",
      "data_196   min : 0, max : 47\n",
      "data_197   min : 0, max : 191\n",
      "data_198   min : 0, max : 255\n",
      "data_199   min : 0, max : 255\n",
      "data_200   min : 0, max : 255\n",
      "data_201   min : 0, max : 255\n",
      "data_202   min : 0, max : 255\n",
      "data_203   min : 0, max : 255\n",
      "data_204   min : 0, max : 255\n",
      "data_205   min : 0, max : 255\n",
      "data_206   min : 0, max : 255\n",
      "data_207   min : 0, max : 255\n",
      "data_208   min : 0, max : 255\n",
      "data_209   min : 0, max : 255\n",
      "data_210   min : 0, max : 255\n",
      "data_211   min : 0, max : 255\n",
      "data_212   min : 0, max : 255\n",
      "data_213   min : 0, max : 255\n",
      "data_214   min : 0, max : 255\n",
      "data_215   min : 0, max : 255\n",
      "data_216   min : 0, max : 255\n",
      "data_217   min : 0, max : 255\n",
      "data_218   min : 0, max : 255\n",
      "data_219   min : 0, max : 255\n",
      "data_220   min : 0, max : 255\n",
      "data_221   min : 0, max : 255\n",
      "data_222   min : 0, max : 255\n",
      "data_223   min : 0, max : 253\n",
      "data_224   min : 0, max : 191\n",
      "data_225   min : 0, max : 255\n",
      "data_226   min : 0, max : 255\n",
      "data_227   min : 0, max : 255\n",
      "data_228   min : 0, max : 255\n",
      "data_229   min : 0, max : 255\n",
      "data_230   min : 0, max : 255\n",
      "data_231   min : 0, max : 255\n",
      "data_232   min : 0, max : 255\n",
      "data_233   min : 0, max : 255\n",
      "data_234   min : 0, max : 255\n",
      "data_235   min : 0, max : 255\n",
      "data_236   min : 0, max : 255\n",
      "data_237   min : 0, max : 255\n",
      "data_238   min : 0, max : 255\n",
      "data_239   min : 0, max : 255\n",
      "data_240   min : 0, max : 255\n",
      "data_241   min : 0, max : 255\n",
      "data_242   min : 0, max : 255\n",
      "data_243   min : 0, max : 255\n",
      "data_244   min : 0, max : 255\n",
      "data_245   min : 0, max : 255\n",
      "data_246   min : 0, max : 255\n",
      "data_247   min : 0, max : 255\n",
      "data_248   min : 0, max : 255\n",
      "data_249   min : 0, max : 255\n",
      "data_250   min : 0, max : 254\n",
      "data_251   min : 0, max : 221\n",
      "data_252   min : 0, max : 184\n",
      "data_253   min : 0, max : 254\n",
      "data_254   min : 0, max : 255\n",
      "data_255   min : 0, max : 255\n",
      "data_256   min : 0, max : 255\n",
      "data_257   min : 0, max : 255\n",
      "data_258   min : 0, max : 255\n",
      "data_259   min : 0, max : 255\n",
      "data_260   min : 0, max : 255\n",
      "data_261   min : 0, max : 255\n",
      "data_262   min : 0, max : 255\n",
      "data_263   min : 0, max : 255\n",
      "data_264   min : 0, max : 255\n",
      "data_265   min : 0, max : 255\n",
      "data_266   min : 0, max : 255\n",
      "data_267   min : 0, max : 255\n",
      "data_268   min : 0, max : 255\n",
      "data_269   min : 0, max : 255\n",
      "data_270   min : 0, max : 255\n",
      "data_271   min : 0, max : 255\n",
      "data_272   min : 0, max : 255\n",
      "data_273   min : 0, max : 255\n",
      "data_274   min : 0, max : 255\n",
      "data_275   min : 0, max : 255\n",
      "data_276   min : 0, max : 255\n",
      "data_277   min : 0, max : 255\n",
      "data_278   min : 0, max : 255\n",
      "data_279   min : 0, max : 220\n",
      "data_280   min : 0, max : 226\n",
      "data_281   min : 0, max : 255\n",
      "data_282   min : 0, max : 255\n",
      "data_283   min : 0, max : 255\n",
      "data_284   min : 0, max : 255\n",
      "data_285   min : 0, max : 255\n",
      "data_286   min : 0, max : 255\n",
      "data_287   min : 0, max : 255\n",
      "data_288   min : 0, max : 255\n",
      "data_289   min : 0, max : 255\n",
      "data_290   min : 0, max : 255\n",
      "data_291   min : 0, max : 255\n",
      "data_292   min : 0, max : 255\n",
      "data_293   min : 0, max : 255\n",
      "data_294   min : 0, max : 255\n",
      "data_295   min : 0, max : 255\n",
      "data_296   min : 0, max : 255\n",
      "data_297   min : 0, max : 255\n",
      "data_298   min : 0, max : 255\n",
      "data_299   min : 0, max : 255\n",
      "data_300   min : 0, max : 255\n",
      "data_301   min : 0, max : 255\n",
      "data_302   min : 0, max : 255\n",
      "data_303   min : 0, max : 255\n",
      "data_304   min : 0, max : 255\n"
     ]
    },
    {
     "name": "stdout",
     "output_type": "stream",
     "text": [
      "data_305   min : 0, max : 255\n",
      "data_306   min : 0, max : 254\n",
      "data_307   min : 0, max : 243\n",
      "data_308   min : 0, max : 150\n",
      "data_309   min : 0, max : 255\n",
      "data_310   min : 0, max : 255\n",
      "data_311   min : 0, max : 255\n",
      "data_312   min : 0, max : 255\n",
      "data_313   min : 0, max : 255\n",
      "data_314   min : 0, max : 255\n",
      "data_315   min : 0, max : 255\n",
      "data_316   min : 0, max : 255\n",
      "data_317   min : 0, max : 255\n",
      "data_318   min : 0, max : 255\n",
      "data_319   min : 0, max : 255\n",
      "data_320   min : 0, max : 255\n",
      "data_321   min : 0, max : 255\n",
      "data_322   min : 0, max : 255\n",
      "data_323   min : 0, max : 255\n",
      "data_324   min : 0, max : 255\n",
      "data_325   min : 0, max : 255\n",
      "data_326   min : 0, max : 255\n",
      "data_327   min : 0, max : 255\n",
      "data_328   min : 0, max : 255\n",
      "data_329   min : 0, max : 255\n",
      "data_330   min : 0, max : 255\n",
      "data_331   min : 0, max : 255\n",
      "data_332   min : 0, max : 255\n",
      "data_333   min : 0, max : 255\n",
      "data_334   min : 0, max : 253\n",
      "data_335   min : 0, max : 156\n",
      "data_336   min : 0, max : 163\n",
      "data_337   min : 0, max : 255\n",
      "data_338   min : 0, max : 255\n",
      "data_339   min : 0, max : 255\n",
      "data_340   min : 0, max : 255\n",
      "data_341   min : 0, max : 255\n",
      "data_342   min : 0, max : 255\n",
      "data_343   min : 0, max : 255\n",
      "data_344   min : 0, max : 255\n",
      "data_345   min : 0, max : 255\n",
      "data_346   min : 0, max : 255\n",
      "data_347   min : 0, max : 255\n",
      "data_348   min : 0, max : 255\n",
      "data_349   min : 0, max : 255\n",
      "data_350   min : 0, max : 255\n",
      "data_351   min : 0, max : 255\n",
      "data_352   min : 0, max : 255\n",
      "data_353   min : 0, max : 255\n",
      "data_354   min : 0, max : 255\n",
      "data_355   min : 0, max : 255\n",
      "data_356   min : 0, max : 255\n",
      "data_357   min : 0, max : 255\n",
      "data_358   min : 0, max : 255\n",
      "data_359   min : 0, max : 255\n",
      "data_360   min : 0, max : 255\n",
      "data_361   min : 0, max : 255\n",
      "data_362   min : 0, max : 252\n",
      "data_363   min : 0, max : 152\n",
      "data_364   min : 0, max : 32\n",
      "data_365   min : 0, max : 253\n",
      "data_366   min : 0, max : 255\n",
      "data_367   min : 0, max : 255\n",
      "data_368   min : 0, max : 255\n",
      "data_369   min : 0, max : 255\n",
      "data_370   min : 0, max : 255\n",
      "data_371   min : 0, max : 255\n",
      "data_372   min : 0, max : 255\n",
      "data_373   min : 0, max : 255\n",
      "data_374   min : 0, max : 255\n",
      "data_375   min : 0, max : 255\n",
      "data_376   min : 0, max : 255\n",
      "data_377   min : 0, max : 255\n",
      "data_378   min : 0, max : 255\n",
      "data_379   min : 0, max : 255\n",
      "data_380   min : 0, max : 255\n",
      "data_381   min : 0, max : 255\n",
      "data_382   min : 0, max : 255\n",
      "data_383   min : 0, max : 255\n",
      "data_384   min : 0, max : 255\n",
      "data_385   min : 0, max : 255\n",
      "data_386   min : 0, max : 255\n",
      "data_387   min : 0, max : 255\n",
      "data_388   min : 0, max : 255\n",
      "data_389   min : 0, max : 255\n",
      "data_390   min : 0, max : 252\n",
      "data_391   min : 0, max : 247\n",
      "data_392   min : 0, max : 113\n",
      "data_393   min : 0, max : 188\n",
      "data_394   min : 0, max : 254\n",
      "data_395   min : 0, max : 255\n",
      "data_396   min : 0, max : 255\n",
      "data_397   min : 0, max : 255\n",
      "data_398   min : 0, max : 255\n",
      "data_399   min : 0, max : 255\n",
      "data_400   min : 0, max : 255\n",
      "data_401   min : 0, max : 255\n",
      "data_402   min : 0, max : 255\n",
      "data_403   min : 0, max : 255\n",
      "data_404   min : 0, max : 255\n",
      "data_405   min : 0, max : 255\n",
      "data_406   min : 0, max : 255\n",
      "data_407   min : 0, max : 255\n",
      "data_408   min : 0, max : 255\n",
      "data_409   min : 0, max : 255\n",
      "data_410   min : 0, max : 255\n",
      "data_411   min : 0, max : 255\n",
      "data_412   min : 0, max : 255\n",
      "data_413   min : 0, max : 255\n",
      "data_414   min : 0, max : 255\n",
      "data_415   min : 0, max : 255\n",
      "data_416   min : 0, max : 255\n",
      "data_417   min : 0, max : 255\n",
      "data_418   min : 0, max : 254\n",
      "data_419   min : 0, max : 52\n",
      "data_420   min : 0, max : 37\n",
      "data_421   min : 0, max : 226\n",
      "data_422   min : 0, max : 254\n",
      "data_423   min : 0, max : 255\n",
      "data_424   min : 0, max : 255\n",
      "data_425   min : 0, max : 255\n",
      "data_426   min : 0, max : 255\n",
      "data_427   min : 0, max : 255\n",
      "data_428   min : 0, max : 255\n",
      "data_429   min : 0, max : 255\n",
      "data_430   min : 0, max : 255\n",
      "data_431   min : 0, max : 255\n",
      "data_432   min : 0, max : 255\n",
      "data_433   min : 0, max : 255\n",
      "data_434   min : 0, max : 255\n",
      "data_435   min : 0, max : 255\n",
      "data_436   min : 0, max : 255\n",
      "data_437   min : 0, max : 255\n",
      "data_438   min : 0, max : 255\n",
      "data_439   min : 0, max : 255\n",
      "data_440   min : 0, max : 255\n",
      "data_441   min : 0, max : 255\n",
      "data_442   min : 0, max : 255\n",
      "data_443   min : 0, max : 255\n",
      "data_444   min : 0, max : 255\n",
      "data_445   min : 0, max : 255\n",
      "data_446   min : 0, max : 255\n",
      "data_447   min : 0, max : 190\n",
      "data_448   min : 0, max : 40\n",
      "data_449   min : 0, max : 107\n",
      "data_450   min : 0, max : 254\n",
      "data_451   min : 0, max : 255\n",
      "data_452   min : 0, max : 255\n",
      "data_453   min : 0, max : 255\n",
      "data_454   min : 0, max : 255\n",
      "data_455   min : 0, max : 255\n",
      "data_456   min : 0, max : 255\n",
      "data_457   min : 0, max : 255\n",
      "data_458   min : 0, max : 255\n",
      "data_459   min : 0, max : 255\n",
      "data_460   min : 0, max : 255\n",
      "data_461   min : 0, max : 255\n",
      "data_462   min : 0, max : 255\n",
      "data_463   min : 0, max : 255\n",
      "data_464   min : 0, max : 255\n",
      "data_465   min : 0, max : 255\n",
      "data_466   min : 0, max : 255\n",
      "data_467   min : 0, max : 255\n",
      "data_468   min : 0, max : 255\n",
      "data_469   min : 0, max : 255\n",
      "data_470   min : 0, max : 255\n",
      "data_471   min : 0, max : 255\n",
      "data_472   min : 0, max : 255\n",
      "data_473   min : 0, max : 255\n",
      "data_474   min : 0, max : 254\n",
      "data_475   min : 0, max : 223\n",
      "data_476   min : 0, max : 0\n",
      "data_477   min : 0, max : 133\n",
      "data_478   min : 0, max : 254\n",
      "data_479   min : 0, max : 255\n",
      "data_480   min : 0, max : 255\n",
      "data_481   min : 0, max : 255\n",
      "data_482   min : 0, max : 255\n",
      "data_483   min : 0, max : 255\n",
      "data_484   min : 0, max : 255\n",
      "data_485   min : 0, max : 255\n",
      "data_486   min : 0, max : 255\n",
      "data_487   min : 0, max : 255\n",
      "data_488   min : 0, max : 255\n",
      "data_489   min : 0, max : 255\n",
      "data_490   min : 0, max : 255\n",
      "data_491   min : 0, max : 255\n",
      "data_492   min : 0, max : 255\n",
      "data_493   min : 0, max : 255\n",
      "data_494   min : 0, max : 255\n",
      "data_495   min : 0, max : 255\n",
      "data_496   min : 0, max : 255\n",
      "data_497   min : 0, max : 255\n",
      "data_498   min : 0, max : 255\n",
      "data_499   min : 0, max : 255\n",
      "data_500   min : 0, max : 255\n",
      "data_501   min : 0, max : 255\n",
      "data_502   min : 0, max : 253\n",
      "data_503   min : 0, max : 121\n",
      "data_504   min : 0, max : 60\n",
      "data_505   min : 0, max : 197\n",
      "data_506   min : 0, max : 255\n",
      "data_507   min : 0, max : 255\n",
      "data_508   min : 0, max : 255\n",
      "data_509   min : 0, max : 255\n",
      "data_510   min : 0, max : 255\n",
      "data_511   min : 0, max : 255\n",
      "data_512   min : 0, max : 255\n",
      "data_513   min : 0, max : 255\n",
      "data_514   min : 0, max : 255\n",
      "data_515   min : 0, max : 255\n",
      "data_516   min : 0, max : 255\n",
      "data_517   min : 0, max : 255\n",
      "data_518   min : 0, max : 255\n",
      "data_519   min : 0, max : 255\n",
      "data_520   min : 0, max : 255\n",
      "data_521   min : 0, max : 255\n",
      "data_522   min : 0, max : 255\n",
      "data_523   min : 0, max : 255\n",
      "data_524   min : 0, max : 255\n",
      "data_525   min : 0, max : 255\n",
      "data_526   min : 0, max : 255\n",
      "data_527   min : 0, max : 255\n",
      "data_528   min : 0, max : 255\n",
      "data_529   min : 0, max : 255\n",
      "data_530   min : 0, max : 255\n",
      "data_531   min : 0, max : 153\n",
      "data_532   min : 0, max : 15\n",
      "data_533   min : 0, max : 255\n",
      "data_534   min : 0, max : 255\n",
      "data_535   min : 0, max : 255\n",
      "data_536   min : 0, max : 255\n",
      "data_537   min : 0, max : 255\n",
      "data_538   min : 0, max : 255\n",
      "data_539   min : 0, max : 255\n",
      "data_540   min : 0, max : 255\n",
      "data_541   min : 0, max : 255\n",
      "data_542   min : 0, max : 255\n",
      "data_543   min : 0, max : 255\n",
      "data_544   min : 0, max : 255\n",
      "data_545   min : 0, max : 255\n",
      "data_546   min : 0, max : 255\n",
      "data_547   min : 0, max : 255\n",
      "data_548   min : 0, max : 255\n",
      "data_549   min : 0, max : 255\n",
      "data_550   min : 0, max : 255\n",
      "data_551   min : 0, max : 255\n",
      "data_552   min : 0, max : 255\n",
      "data_553   min : 0, max : 255\n",
      "data_554   min : 0, max : 255\n",
      "data_555   min : 0, max : 255\n",
      "data_556   min : 0, max : 255\n",
      "data_557   min : 0, max : 255\n",
      "data_558   min : 0, max : 253\n",
      "data_559   min : 0, max : 128\n",
      "data_560   min : 0, max : 0\n",
      "data_561   min : 0, max : 185\n",
      "data_562   min : 0, max : 255\n",
      "data_563   min : 0, max : 255\n",
      "data_564   min : 0, max : 255\n",
      "data_565   min : 0, max : 255\n",
      "data_566   min : 0, max : 255\n",
      "data_567   min : 0, max : 255\n",
      "data_568   min : 0, max : 255\n",
      "data_569   min : 0, max : 255\n",
      "data_570   min : 0, max : 255\n",
      "data_571   min : 0, max : 255\n",
      "data_572   min : 0, max : 255\n",
      "data_573   min : 0, max : 255\n",
      "data_574   min : 0, max : 255\n",
      "data_575   min : 0, max : 255\n",
      "data_576   min : 0, max : 255\n",
      "data_577   min : 0, max : 255\n",
      "data_578   min : 0, max : 255\n",
      "data_579   min : 0, max : 255\n",
      "data_580   min : 0, max : 255\n",
      "data_581   min : 0, max : 255\n",
      "data_582   min : 0, max : 255\n",
      "data_583   min : 0, max : 255\n",
      "data_584   min : 0, max : 255\n",
      "data_585   min : 0, max : 255\n",
      "data_586   min : 0, max : 255\n",
      "data_587   min : 0, max : 51\n",
      "data_588   min : 0, max : 32\n",
      "data_589   min : 0, max : 185\n",
      "data_590   min : 0, max : 255\n",
      "data_591   min : 0, max : 255\n",
      "data_592   min : 0, max : 255\n",
      "data_593   min : 0, max : 255\n",
      "data_594   min : 0, max : 255\n",
      "data_595   min : 0, max : 255\n",
      "data_596   min : 0, max : 255\n",
      "data_597   min : 0, max : 255\n",
      "data_598   min : 0, max : 255\n",
      "data_599   min : 0, max : 255\n",
      "data_600   min : 0, max : 255\n",
      "data_601   min : 0, max : 255\n",
      "data_602   min : 0, max : 255\n",
      "data_603   min : 0, max : 255\n",
      "data_604   min : 0, max : 255\n",
      "data_605   min : 0, max : 255\n"
     ]
    },
    {
     "name": "stdout",
     "output_type": "stream",
     "text": [
      "data_606   min : 0, max : 255\n",
      "data_607   min : 0, max : 255\n",
      "data_608   min : 0, max : 255\n",
      "data_609   min : 0, max : 255\n",
      "data_610   min : 0, max : 255\n",
      "data_611   min : 0, max : 255\n",
      "data_612   min : 0, max : 255\n",
      "data_613   min : 0, max : 255\n",
      "data_614   min : 0, max : 252\n",
      "data_615   min : 0, max : 39\n",
      "data_616   min : 0, max : 31\n",
      "data_617   min : 0, max : 38\n",
      "data_618   min : 0, max : 255\n",
      "data_619   min : 0, max : 255\n",
      "data_620   min : 0, max : 255\n",
      "data_621   min : 0, max : 255\n",
      "data_622   min : 0, max : 255\n",
      "data_623   min : 0, max : 255\n",
      "data_624   min : 0, max : 255\n",
      "data_625   min : 0, max : 255\n",
      "data_626   min : 0, max : 255\n",
      "data_627   min : 0, max : 255\n",
      "data_628   min : 0, max : 255\n",
      "data_629   min : 0, max : 255\n",
      "data_630   min : 0, max : 255\n",
      "data_631   min : 0, max : 255\n",
      "data_632   min : 0, max : 255\n",
      "data_633   min : 0, max : 255\n",
      "data_634   min : 0, max : 255\n",
      "data_635   min : 0, max : 255\n",
      "data_636   min : 0, max : 255\n",
      "data_637   min : 0, max : 255\n",
      "data_638   min : 0, max : 255\n",
      "data_639   min : 0, max : 255\n",
      "data_640   min : 0, max : 255\n",
      "data_641   min : 0, max : 254\n",
      "data_642   min : 0, max : 225\n",
      "data_643   min : 0, max : 72\n",
      "data_644   min : 0, max : 0\n",
      "data_645   min : 0, max : 24\n",
      "data_646   min : 0, max : 217\n",
      "data_647   min : 0, max : 255\n",
      "data_648   min : 0, max : 255\n",
      "data_649   min : 0, max : 255\n",
      "data_650   min : 0, max : 255\n",
      "data_651   min : 0, max : 255\n",
      "data_652   min : 0, max : 255\n",
      "data_653   min : 0, max : 255\n",
      "data_654   min : 0, max : 255\n",
      "data_655   min : 0, max : 255\n",
      "data_656   min : 0, max : 255\n",
      "data_657   min : 0, max : 255\n",
      "data_658   min : 0, max : 255\n",
      "data_659   min : 0, max : 255\n",
      "data_660   min : 0, max : 255\n",
      "data_661   min : 0, max : 255\n",
      "data_662   min : 0, max : 255\n",
      "data_663   min : 0, max : 255\n",
      "data_664   min : 0, max : 255\n",
      "data_665   min : 0, max : 255\n",
      "data_666   min : 0, max : 255\n",
      "data_667   min : 0, max : 255\n",
      "data_668   min : 0, max : 255\n",
      "data_669   min : 0, max : 254\n",
      "data_670   min : 0, max : 150\n",
      "data_671   min : 0, max : 0\n",
      "data_672   min : 0, max : 0\n",
      "data_673   min : 0, max : 0\n",
      "data_674   min : 0, max : 253\n",
      "data_675   min : 0, max : 253\n",
      "data_676   min : 0, max : 255\n",
      "data_677   min : 0, max : 255\n",
      "data_678   min : 0, max : 255\n",
      "data_679   min : 0, max : 255\n",
      "data_680   min : 0, max : 255\n",
      "data_681   min : 0, max : 255\n",
      "data_682   min : 0, max : 255\n",
      "data_683   min : 0, max : 255\n",
      "data_684   min : 0, max : 255\n",
      "data_685   min : 0, max : 255\n",
      "data_686   min : 0, max : 255\n",
      "data_687   min : 0, max : 255\n",
      "data_688   min : 0, max : 255\n",
      "data_689   min : 0, max : 255\n",
      "data_690   min : 0, max : 255\n",
      "data_691   min : 0, max : 255\n",
      "data_692   min : 0, max : 255\n",
      "data_693   min : 0, max : 255\n",
      "data_694   min : 0, max : 255\n",
      "data_695   min : 0, max : 255\n",
      "data_696   min : 0, max : 254\n",
      "data_697   min : 0, max : 252\n",
      "data_698   min : 0, max : 98\n",
      "data_699   min : 0, max : 0\n",
      "data_700   min : 0, max : 0\n",
      "data_701   min : 0, max : 0\n",
      "data_702   min : 0, max : 42\n",
      "data_703   min : 0, max : 254\n",
      "data_704   min : 0, max : 255\n",
      "data_705   min : 0, max : 255\n",
      "data_706   min : 0, max : 255\n",
      "data_707   min : 0, max : 255\n",
      "data_708   min : 0, max : 255\n",
      "data_709   min : 0, max : 255\n",
      "data_710   min : 0, max : 255\n",
      "data_711   min : 0, max : 255\n",
      "data_712   min : 0, max : 255\n",
      "data_713   min : 0, max : 255\n",
      "data_714   min : 0, max : 255\n",
      "data_715   min : 0, max : 255\n",
      "data_716   min : 0, max : 255\n",
      "data_717   min : 0, max : 255\n",
      "data_718   min : 0, max : 255\n",
      "data_719   min : 0, max : 255\n",
      "data_720   min : 0, max : 255\n",
      "data_721   min : 0, max : 255\n",
      "data_722   min : 0, max : 255\n",
      "data_723   min : 0, max : 255\n",
      "data_724   min : 0, max : 253\n",
      "data_725   min : 0, max : 127\n",
      "data_726   min : 0, max : 104\n",
      "data_727   min : 0, max : 0\n",
      "data_728   min : 0, max : 0\n",
      "data_729   min : 0, max : 0\n",
      "data_730   min : 0, max : 0\n",
      "data_731   min : 0, max : 38\n",
      "data_732   min : 0, max : 255\n",
      "data_733   min : 0, max : 255\n",
      "data_734   min : 0, max : 255\n",
      "data_735   min : 0, max : 255\n",
      "data_736   min : 0, max : 255\n",
      "data_737   min : 0, max : 255\n",
      "data_738   min : 0, max : 255\n",
      "data_739   min : 0, max : 255\n",
      "data_740   min : 0, max : 255\n",
      "data_741   min : 0, max : 255\n",
      "data_742   min : 0, max : 255\n",
      "data_743   min : 0, max : 255\n",
      "data_744   min : 0, max : 255\n",
      "data_745   min : 0, max : 255\n",
      "data_746   min : 0, max : 255\n",
      "data_747   min : 0, max : 255\n",
      "data_748   min : 0, max : 255\n",
      "data_749   min : 0, max : 255\n",
      "data_750   min : 0, max : 255\n",
      "data_751   min : 0, max : 253\n",
      "data_752   min : 0, max : 28\n",
      "data_753   min : 0, max : 59\n",
      "data_754   min : 0, max : 0\n",
      "data_755   min : 0, max : 0\n",
      "data_756   min : 0, max : 0\n",
      "data_757   min : 0, max : 0\n",
      "data_758   min : 0, max : 0\n",
      "data_759   min : 0, max : 0\n",
      "data_760   min : 0, max : 94\n",
      "data_761   min : 0, max : 252\n",
      "data_762   min : 0, max : 245\n",
      "data_763   min : 0, max : 254\n",
      "data_764   min : 0, max : 254\n",
      "data_765   min : 0, max : 255\n",
      "data_766   min : 0, max : 255\n",
      "data_767   min : 0, max : 255\n",
      "data_768   min : 0, max : 255\n",
      "data_769   min : 0, max : 255\n",
      "data_770   min : 0, max : 255\n",
      "data_771   min : 0, max : 255\n",
      "data_772   min : 0, max : 255\n",
      "data_773   min : 0, max : 255\n",
      "data_774   min : 0, max : 254\n",
      "data_775   min : 0, max : 254\n",
      "data_776   min : 0, max : 253\n",
      "data_777   min : 0, max : 253\n",
      "data_778   min : 0, max : 254\n",
      "data_779   min : 0, max : 62\n",
      "data_780   min : 0, max : 0\n",
      "data_781   min : 0, max : 0\n",
      "data_782   min : 0, max : 0\n",
      "data_783   min : 0, max : 0\n"
     ]
    }
   ],
   "source": [
    "for i in range(784):\n",
    "    print(\"data_{}   min : {}, max : {}\".format(str(i), df_mnist[\"data_\"+str(i)].min(), df_mnist[\"data_\"+str(i)].max()))"
   ]
  },
  {
   "cell_type": "code",
   "execution_count": 67,
   "metadata": {},
   "outputs": [],
   "source": [
    "X, y = mnist[\"data\"], mnist[\"target\"]"
   ]
  },
  {
   "cell_type": "code",
   "execution_count": 72,
   "metadata": {},
   "outputs": [
    {
     "name": "stdout",
     "output_type": "stream",
     "text": [
      "mnist_data : (70000, 784) \n",
      "mnist_target : (70000,)\n"
     ]
    }
   ],
   "source": [
    "print(\"mnist_data : {} \\nmnist_target : {}\".format(X.shape, y.shape))"
   ]
  },
  {
   "cell_type": "code",
   "execution_count": 8,
   "metadata": {},
   "outputs": [],
   "source": [
    "from mnist_number_human import *yy"
   ]
  },
  {
   "cell_type": "code",
   "execution_count": null,
   "metadata": {},
   "outputs": [
    {
     "name": "stdout",
     "output_type": "stream",
     "text": [
      "2018년 7월 2일 Hands on Machin Learning 세미나 chap.3 mnist 예시 program\n",
      "\n",
      "본 프로그램은 mnist dataset의 숫자들을 유저가 알아맞추는 프로그램입니다.\n",
      "중간에 \"0\"을 눌러 프로그램을 종료할 수 있습니다.\n",
      "본 프로그램의 오더에 따라 알맞은 값을 입력해주세요.\n",
      "\n",
      "1~70000까지의 숫자를 입력하세요 : 5\n"
     ]
    },
    {
     "data": {
      "image/png": "[encoded data removed]",
      "text/plain": [
       "<matplotlib.figure.Figure at 0x2b08622c940>"
      ]
     },
     "metadata": {},
     "output_type": "display_data"
    },
    {
     "name": "stdout",
     "output_type": "stream",
     "text": [
      "다음 그림의 숫자는 무엇일까요? [0~9] :0\n",
      "맞았습니다! 재도전?(Y/N) :y\n",
      "숫자를 한번 섞을까요? (Y/N) : y\n",
      "1~70000까지의 숫자를 입력하세요 : 9999\n"
     ]
    },
    {
     "data": {
      "image/png": "[encoded data removed]",
      "text/plain": [
       "<matplotlib.figure.Figure at 0x2b08641d470>"
      ]
     },
     "metadata": {},
     "output_type": "display_data"
    }
   ],
   "source": [
    "main()"
   ]
  },
  {
   "cell_type": "code",
   "execution_count": 149,
   "metadata": {},
   "outputs": [
    {
     "data": {
      "image/png": "[encoded data removed]",
      "text/plain": [
       "<matplotlib.figure.Figure at 0x260808994e0>"
      ]
     },
     "metadata": {},
     "output_type": "display_data"
    },
    {
     "name": "stdout",
     "output_type": "stream",
     "text": [
      "The answer is 5\n"
     ]
    }
   ],
   "source": [
    "user_input = 65555\n",
    "\n",
    "some_digit = X[user_input]\n",
    "some_digit_image = some_digit.reshape(28,28)\n",
    "plt.imshow(some_digit_image, cmap = matplotlib.cm.binary, interpolation = 'nearest')\n",
    "# plt.axis(\"off\")\n",
    "plt.show()\n",
    "print(\"The answer is {}\".format(y[user_input].astype(np.int)))"
   ]
  },
  {
   "cell_type": "code",
   "execution_count": 100,
   "metadata": {},
   "outputs": [],
   "source": [
    "X_train, X_test, y_train, y_test = X[:60000], X[60000:], y[:60000], y[60000:]"
   ]
  },
  {
   "cell_type": "code",
   "execution_count": 133,
   "metadata": {},
   "outputs": [],
   "source": [
    "shuffle_index = np.random.permutation(60000)"
   ]
  },
  {
   "cell_type": "code",
   "execution_count": 137,
   "metadata": {},
   "outputs": [],
   "source": [
    "X_train, y_train = X_train[shuffle_index], y_train[shuffle_index]"
   ]
  },
  {
   "cell_type": "code",
   "execution_count": 142,
   "metadata": {},
   "outputs": [],
   "source": [
    "y_train_5 = (y_train == 5)\n",
    "y_test_5 = (y_test == 5)"
   ]
  },
  {
   "cell_type": "code",
   "execution_count": 146,
   "metadata": {},
   "outputs": [
    {
     "data": {
      "text/plain": [
       "SGDClassifier(alpha=0.0001, average=False, class_weight=None, epsilon=0.1,\n",
       "       eta0=0.0, fit_intercept=True, l1_ratio=0.15,\n",
       "       learning_rate='optimal', loss='hinge', max_iter=5, n_iter=None,\n",
       "       n_jobs=1, penalty='l2', power_t=0.5, random_state=42, shuffle=True,\n",
       "       tol=None, verbose=0, warm_start=False)"
      ]
     },
     "execution_count": 146,
     "metadata": {},
     "output_type": "execute_result"
    }
   ],
   "source": [
    "from sklearn.linear_model import SGDClassifier\n",
    "\n",
    "sgd_clf = SGDClassifier(max_iter=5, random_state=42)\n",
    "sgd_clf.fit(X_train, y_train_5)"
   ]
  },
  {
   "cell_type": "code",
   "execution_count": 150,
   "metadata": {},
   "outputs": [
    {
     "data": {
      "text/plain": [
       "array([ True])"
      ]
     },
     "execution_count": 150,
     "metadata": {},
     "output_type": "execute_result"
    }
   ],
   "source": [
    "sgd_clf.predict([some_digit])"
   ]
  },
  {
   "cell_type": "code",
   "execution_count": 152,
   "metadata": {},
   "outputs": [
    {
     "data": {
      "text/plain": [
       "array([0.95867011, 0.96216667, 0.96675   , 0.96683333, 0.96433036])"
      ]
     },
     "execution_count": 152,
     "metadata": {},
     "output_type": "execute_result"
    }
   ],
   "source": [
    "from sklearn.model_selection import cross_val_score\n",
    "cross_val_score(sgd_clf, X_train, y_train_5, cv=5, scoring = \"accuracy\")"
   ]
  },
  {
   "cell_type": "code",
   "execution_count": 185,
   "metadata": {},
   "outputs": [
    {
     "name": "stdout",
     "output_type": "stream",
     "text": [
      "0.958670110824098\n",
      "0.9621666666666666\n",
      "0.96675\n",
      "0.9668333333333333\n",
      "0.9643303608634053\n"
     ]
    }
   ],
   "source": [
    "from sklearn.model_selection import StratifiedKFold\n",
    "from sklearn.base import clone\n",
    "\n",
    "skfolds = StratifiedKFold(n_splits=5, random_state=42)\n",
    "\n",
    "for train_index, test_index in skfolds.split(X_train, y_train_5):\n",
    "    clone_clf = clone(sgd_clf)\n",
    "    X_train_folds = X_train[train_index]\n",
    "    y_train_folds = y_train_5[train_index]\n",
    "    X_test_fold = X_train[test_index]\n",
    "    y_test_fold = y_train_5[test_index]\n",
    "    \n",
    "    clone_clf.fit(X_train_folds, y_train_folds)\n",
    "    y_pred = clone_clf.predict(X_test_fold)\n",
    "    n_correct = sum(y_pred == y_test_fold)\n",
    "    print(n_correct / len(y_pred))"
   ]
  },
  {
   "cell_type": "code",
   "execution_count": 186,
   "metadata": {},
   "outputs": [],
   "source": [
    "from sklearn.base import BaseEstimator\n",
    "\n",
    "class Never5Classifier(BaseEstimator):\n",
    "    def fit(self, X, y=None):\n",
    "        pass\n",
    "    def predict(self, X):\n",
    "        return np.zeros((len(X), 1), dtype=bool)"
   ]
  },
  {
   "cell_type": "code",
   "execution_count": 187,
   "metadata": {},
   "outputs": [
    {
     "data": {
      "text/plain": [
       "array([0.90658333, 0.90925   , 0.90941667, 0.91091667, 0.91208333])"
      ]
     },
     "execution_count": 187,
     "metadata": {},
     "output_type": "execute_result"
    }
   ],
   "source": [
    "never_5_clf = Never5Classifier()\n",
    "cross_val_score(never_5_clf, X_train, y_train_5, cv=5, scoring=\"accuracy\")"
   ]
  },
  {
   "cell_type": "code",
   "execution_count": 188,
   "metadata": {},
   "outputs": [],
   "source": [
    "from sklearn.model_selection import cross_val_predict\n",
    "\n",
    "y_train_pred = cross_val_predict(sgd_clf, X_train, y_train_5, cv=3)"
   ]
  },
  {
   "cell_type": "code",
   "execution_count": 193,
   "metadata": {},
   "outputs": [],
   "source": [
    "from sklearn.metrics import confusion_matrix\n",
    "confusion_array = confusion_matrix(y_train_5, y_train_pred)\n",
    "confu_matrix = pd.DataFrame(confusion_array, columns = [\"pred_negative\", \"pred_positive\"], index = [\"real_negative\", \"real_positive\"])"
   ]
  },
  {
   "cell_type": "code",
   "execution_count": 194,
   "metadata": {},
   "outputs": [
    {
     "data": {
      "text/html": [
       "<div>\n",
       "<style scoped>\n",
       "    .dataframe tbody tr th:only-of-type {\n",
       "        vertical-align: middle;\n",
       "    }\n",
       "\n",
       "    .dataframe tbody tr th {\n",
       "        vertical-align: top;\n",
       "    }\n",
       "\n",
       "    .dataframe thead th {\n",
       "        text-align: right;\n",
       "    }\n",
       "</style>\n",
       "<table border=\"1\" class=\"dataframe\">\n",
       "  <thead>\n",
       "    <tr style=\"text-align: right;\">\n",
       "      <th></th>\n",
       "      <th>pred_negative</th>\n",
       "      <th>pred_positive</th>\n",
       "    </tr>\n",
       "  </thead>\n",
       "  <tbody>\n",
       "    <tr>\n",
       "      <th>real_negative</th>\n",
       "      <td>53511</td>\n",
       "      <td>1068</td>\n",
       "    </tr>\n",
       "    <tr>\n",
       "      <th>real_positive</th>\n",
       "      <td>1237</td>\n",
       "      <td>4184</td>\n",
       "    </tr>\n",
       "  </tbody>\n",
       "</table>\n",
       "</div>"
      ],
      "text/plain": [
       "               pred_negative  pred_positive\n",
       "real_negative          53511           1068\n",
       "real_positive           1237           4184"
      ]
     },
     "execution_count": 194,
     "metadata": {},
     "output_type": "execute_result"
    }
   ],
   "source": [
    "confu_matrix"
   ]
  },
  {
   "cell_type": "code",
   "execution_count": 272,
   "metadata": {},
   "outputs": [
    {
     "name": "stdout",
     "output_type": "stream",
     "text": [
      "             |        <예측>\n",
      "             |  음성         양성\n",
      "ㅡㅡㅡㅡㅡㅡㅡㅡㅡㅡㅡㅡㅡㅡㅡㅡㅡㅡ\n",
      "        음성 |   TN           FP\n",
      "<실제>       |\n",
      "        양성 |   FN           TP \n",
      "\n",
      " TN : True Negative\t5가 아니라고 예측(Negative) 정답(True)\n",
      " FP : False Positive\t5가 맞다고   예측(Positive) 오답(False)\n",
      " FN : False Negative\t5가 아니라고 예측(Negative) 오답(False)\n",
      " TP : True Positive\t5가 맞다고   예측(Positive) 정답(True) \n"
     ]
    }
   ],
   "source": [
    "TN = confu_matrix.iloc[0,0]\n",
    "FP = confu_matrix.iloc[0,1]\n",
    "FN = confu_matrix.iloc[1,0]\n",
    "TP = confu_matrix.iloc[1,1]\n",
    "\n",
    "print(\"             |        <예측>\"        )\n",
    "print(\"             |  음성         양성\"   )\n",
    "print(\"ㅡㅡㅡㅡㅡㅡㅡㅡㅡㅡㅡㅡㅡㅡㅡㅡㅡㅡ\")\n",
    "print(\"        음성 |   TN           FP\"    )\n",
    "print(\"<실제>       |\"                      )\n",
    "print(\"        양성 |   FN           TP \\n\"    )\n",
    "print(\" TN : True Negative\\t5가 아니라고 예측(Negative) 정답(True)\")\n",
    "print(\" FP : False Positive\\t5가 맞다고   예측(Positive) 오답(False)\")\n",
    "print(\" FN : False Negative\\t5가 아니라고 예측(Negative) 오답(False)\")\n",
    "print(\" TP : True Positive\\t5가 맞다고   예측(Positive) 정답(True) \")\n"
   ]
  },
  {
   "cell_type": "code",
   "execution_count": 252,
   "metadata": {},
   "outputs": [
    {
     "name": "stdout",
     "output_type": "stream",
     "text": [
      "정밀도(Precision) = TP / (TP + FP)\n",
      "재현율(Recall)    = TP / (TP + FN), 민감도(sensitiviy) 혹은 진짜 양성 비율(true positive rate, TPR)이라고도 불림\n"
     ]
    }
   ],
   "source": [
    "print(\"정밀도(Precision) = TP / (TP + FP)\")\n",
    "print(\"재현율(Recall)    = TP / (TP + FN), 민감도(sensitiviy) 혹은 진짜 양성 비율(true positive rate, TPR)이라고도 불림\")"
   ]
  },
  {
   "cell_type": "code",
   "execution_count": 253,
   "metadata": {},
   "outputs": [
    {
     "data": {
      "text/plain": [
       "0.7966488956587966"
      ]
     },
     "execution_count": 253,
     "metadata": {},
     "output_type": "execute_result"
    }
   ],
   "source": [
    "from sklearn.metrics import precision_score, recall_score\n",
    "\n",
    "precision_score(y_train_5, y_train_pred)"
   ]
  },
  {
   "cell_type": "code",
   "execution_count": 254,
   "metadata": {},
   "outputs": [
    {
     "data": {
      "text/plain": [
       "0.7718133185759085"
      ]
     },
     "execution_count": 254,
     "metadata": {},
     "output_type": "execute_result"
    }
   ],
   "source": [
    "recall_score(y_train_5, y_train_pred)"
   ]
  },
  {
   "cell_type": "code",
   "execution_count": 271,
   "metadata": {},
   "outputs": [
    {
     "name": "stdout",
     "output_type": "stream",
     "text": [
      "F1 score = 2*정밀도*재현율/(정밀도+재현율)\n",
      "\t               2\n",
      "\t =   -------------------\n",
      "\t          1         1\n",
      "\t       ------  +  ------\n",
      "\t       정밀도     재현율\n"
     ]
    }
   ],
   "source": [
    "print(\"F1 score = 2*정밀도*재현율/(정밀도+재현율)\")\n",
    "print(\"\\t               2\")\n",
    "print(\"\\t =   -------------------\")\n",
    "print(\"\\t          1         1\")\n",
    "print(\"\\t       ------  +  ------\")\n",
    "print(\"\\t       정밀도     재현율\")\n",
    "\n",
    "# 정밀도는 양성이라고 예측한 것 중에 맞은 것의 갯수를 세는 지표\n",
    "# 재현율, 민감도는 실제로 양성인 것중에서 예측한 결과가 맞은 것의 갯수를 세는 지표"
   ]
  },
  {
   "cell_type": "code",
   "execution_count": 273,
   "metadata": {},
   "outputs": [
    {
     "data": {
      "text/plain": [
       "0.7840344795277804"
      ]
     },
     "execution_count": 273,
     "metadata": {},
     "output_type": "execute_result"
    }
   ],
   "source": [
    "from sklearn.metrics import f1_score\n",
    "f1_score(y_train_5, y_train_pred)"
   ]
  },
  {
   "cell_type": "code",
   "execution_count": 274,
   "metadata": {},
   "outputs": [
    {
     "data": {
      "text/plain": [
       "array([88005.17618199])"
      ]
     },
     "execution_count": 274,
     "metadata": {},
     "output_type": "execute_result"
    }
   ],
   "source": [
    "y_scores = sgd_clf.decision_function([some_digit])\n",
    "y_scores"
   ]
  },
  {
   "cell_type": "code",
   "execution_count": 275,
   "metadata": {},
   "outputs": [],
   "source": [
    "threshold = 0\n",
    "y_some_digit_pred = (y_scores > threshold)"
   ]
  },
  {
   "cell_type": "code",
   "execution_count": 276,
   "metadata": {},
   "outputs": [
    {
     "data": {
      "text/plain": [
       "array([ True])"
      ]
     },
     "execution_count": 276,
     "metadata": {},
     "output_type": "execute_result"
    }
   ],
   "source": [
    "y_some_digit_pred"
   ]
  },
  {
   "cell_type": "code",
   "execution_count": 277,
   "metadata": {},
   "outputs": [
    {
     "data": {
      "text/plain": [
       "array([False])"
      ]
     },
     "execution_count": 277,
     "metadata": {},
     "output_type": "execute_result"
    }
   ],
   "source": [
    "threshold = 200000\n",
    "y_some_digit_pred = (y_scores > threshold)\n",
    "y_some_digit_pred"
   ]
  },
  {
   "cell_type": "code",
   "execution_count": 278,
   "metadata": {},
   "outputs": [],
   "source": [
    "y_scores = cross_val_predict(sgd_clf, X_train, y_train_5, cv=3, method=\"decision_function\")"
   ]
  },
  {
   "cell_type": "code",
   "execution_count": 279,
   "metadata": {},
   "outputs": [
    {
     "data": {
      "text/plain": [
       "(60000,)"
      ]
     },
     "execution_count": 279,
     "metadata": {},
     "output_type": "execute_result"
    }
   ],
   "source": [
    "y_scores.shape"
   ]
  },
  {
   "cell_type": "code",
   "execution_count": 280,
   "metadata": {},
   "outputs": [],
   "source": [
    "from sklearn.metrics import precision_recall_curve\n",
    "\n",
    "precisions, recalls, thresholds = precision_recall_curve(y_train_5, y_scores)"
   ]
  },
  {
   "cell_type": "code",
   "execution_count": 289,
   "metadata": {},
   "outputs": [
    {
     "data": {
      "image/png": "[encoded data removed]",
      "text/plain": [
       "<matplotlib.figure.Figure at 0x26081bc0400>"
      ]
     },
     "metadata": {},
     "output_type": "display_data"
    }
   ],
   "source": [
    "def plot_precision_recall_vs_threshold(precisions, recalls, thresholds):\n",
    "    plt.plot(thresholds, precisions[:-1], \"b--\", label=\"정밀도\", linewidth=2)\n",
    "    plt.plot(thresholds, recalls[:-1], \"g-\", label=\"재현율\", linewidth=2)\n",
    "    plt.xlabel(\"임계값\", fontsize=16)\n",
    "    plt.legend(loc=\"upper left\", fontsize=16)\n",
    "    plt.ylim([0, 1])\n",
    "\n",
    "plt.figure(figsize=(8, 4))\n",
    "plot_precision_recall_vs_threshold(precisions, recalls, thresholds)\n",
    "plt.xlim([-700000, 700000])\n",
    "plt.show()"
   ]
  },
  {
   "cell_type": "code",
   "execution_count": 296,
   "metadata": {},
   "outputs": [
    {
     "data": {
      "image/png": "[encoded data removed]",
      "text/plain": [
       "<matplotlib.figure.Figure at 0x26083046748>"
      ]
     },
     "metadata": {},
     "output_type": "display_data"
    }
   ],
   "source": [
    "def plot_precision_recall_vs_threshold2(precisions, recalls, thresholds):\n",
    "    plt.plot(thresholds, precisions[:-1], \"b--\", label=\"정밀도\", linewidth=2)\n",
    "    plt.plot(thresholds, recalls[:-1], \"g-\", label=\"재현율\", linewidth=2)\n",
    "    plt.xlabel(\"임계값\", fontsize=16)\n",
    "\n",
    "plt.figure(figsize=(8, 4))\n",
    "plot_precision_recall_vs_threshold2(precisions, recalls, thresholds)\n",
    "plt.xlim([0, 900000])\n",
    "plt.ylim([0.9, 1])\n",
    "plt.show()"
   ]
  },
  {
   "cell_type": "code",
   "execution_count": 304,
   "metadata": {},
   "outputs": [
    {
     "data": {
      "image/png": "[encoded data removed]",
      "text/plain": [
       "<matplotlib.figure.Figure at 0x26081c03160>"
      ]
     },
     "metadata": {},
     "output_type": "display_data"
    }
   ],
   "source": [
    "def plot_precision_recall_vs_threshold3(precisions, recalls, thresholds):\n",
    "    plt.plot(thresholds, precisions[:-1], \"b--\", label=\"정밀도\", linewidth=2)\n",
    "    plt.plot(thresholds, recalls[:-1], \"g-\", label=\"재현율\", linewidth=2)\n",
    "    plt.xlabel(\"임계값\", fontsize=16)\n",
    "\n",
    "plt.figure(figsize=(8, 4))\n",
    "plot_precision_recall_vs_threshold2(precisions, recalls, thresholds)\n",
    "plt.xlim([-2000000,0])\n",
    "plt.ylim([0, 0.2])\n",
    "plt.show()"
   ]
  },
  {
   "cell_type": "code",
   "execution_count": 311,
   "metadata": {},
   "outputs": [
    {
     "data": {
      "image/png": "[encoded data removed]",
      "text/plain": [
       "<matplotlib.figure.Figure at 0x26081bed198>"
      ]
     },
     "metadata": {},
     "output_type": "display_data"
    }
   ],
   "source": [
    "def plot_precision_vs_recall(precisions, recalls):\n",
    "    plt.plot(recalls, precisions, \"r-\", linewidth=2)\n",
    "    plt.xlabel(\"재현율\", fontsize=16)\n",
    "    plt.ylabel(\"정밀도\", fontsize=16)\n",
    "    plt.axis([0, 1, 0, 1])\n",
    "\n",
    "plt.figure(figsize=(8, 6))\n",
    "plot_precision_vs_recall(precisions, recalls)\n",
    "plt.show()"
   ]
  },
  {
   "cell_type": "code",
   "execution_count": 305,
   "metadata": {},
   "outputs": [
    {
     "data": {
      "text/plain": [
       "True"
      ]
     },
     "execution_count": 305,
     "metadata": {},
     "output_type": "execute_result"
    }
   ],
   "source": [
    "(y_train_pred == (y_scores > 0)).all()"
   ]
  },
  {
   "cell_type": "code",
   "execution_count": 306,
   "metadata": {},
   "outputs": [],
   "source": [
    "y_train_pred_90 = (y_scores > 70000)"
   ]
  },
  {
   "cell_type": "code",
   "execution_count": 307,
   "metadata": {},
   "outputs": [
    {
     "data": {
      "text/plain": [
       "0.8852173913043478"
      ]
     },
     "execution_count": 307,
     "metadata": {},
     "output_type": "execute_result"
    }
   ],
   "source": [
    "precision_score(y_train_5, y_train_pred_90)"
   ]
  },
  {
   "cell_type": "code",
   "execution_count": 308,
   "metadata": {},
   "outputs": [
    {
     "data": {
      "text/plain": [
       "0.657258808337945"
      ]
     },
     "execution_count": 308,
     "metadata": {},
     "output_type": "execute_result"
    }
   ],
   "source": [
    "recall_score(y_train_5, y_train_pred_90)"
   ]
  },
  {
   "cell_type": "code",
   "execution_count": 312,
   "metadata": {},
   "outputs": [],
   "source": [
    "from sklearn.metrics import roc_curve\n",
    "\n",
    "fpr, tpr, thresholds = roc_curve(y_train_5, y_scores)"
   ]
  },
  {
   "cell_type": "code",
   "execution_count": 315,
   "metadata": {},
   "outputs": [
    {
     "data": {
      "image/png": "[encoded data removed]",
      "text/plain": [
       "<matplotlib.figure.Figure at 0x26082cb3550>"
      ]
     },
     "metadata": {},
     "output_type": "display_data"
    }
   ],
   "source": [
    "def plot_roc_curve(fpr, tpr, label=None):\n",
    "    plt.plot(fpr, tpr, linewidth=2, label=label)\n",
    "    plt.plot([0, 1], [0, 1], 'k--')\n",
    "    plt.axis([0, 1, 0, 1])\n",
    "    plt.xlabel('거짓 양성 비율 (FPR)', fontsize=16)\n",
    "    plt.ylabel('진짜 양성 비율 (TPR)', fontsize=16)\n",
    "\n",
    "plt.figure(figsize=(8, 6))\n",
    "plot_roc_curve(fpr, tpr)\n",
    "plt.show()"
   ]
  },
  {
   "cell_type": "code",
   "execution_count": null,
   "metadata": {},
   "outputs": [],
   "source": []
  }
 ],
 "metadata": {
  "kernelspec": {
   "display_name": "Python 3",
   "language": "python",
   "name": "python3"
  },
  "language_info": {
   "codemirror_mode": {
    "name": "ipython",
    "version": 3
   },
   "file_extension": ".py",
   "mimetype": "text/x-python",
   "name": "python",
   "nbconvert_exporter": "python",
   "pygments_lexer": "ipython3",
   "version": "3.6.5"
  }
 },
 "nbformat": 4,
 "nbformat_minor": 2
}
