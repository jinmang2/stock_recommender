{
 "cells": [
  {
   "cell_type": "markdown",
   "metadata": {},
   "source": [
    "# Another Issues:\n",
    "- Trading Using Machine Learning In Python PART 1\n",
    "- https://www.quantinsti.com/blog/trading-using-machine-learning-python"
   ]
  },
  {
   "cell_type": "code",
   "execution_count": 1,
   "metadata": {},
   "outputs": [],
   "source": [
    "from pandas_datareader import data as web\n",
    "import numpy as np\n",
    "from sklearn.linear_model import Lasso\n",
    "from sklearn.preprocessing import StandardScaler\n",
    "from sklearn.model_selection import RandomizedSearchCV as rcv\n",
    "from sklearn.pipeline import Pipeline\n",
    "from sklearn.preprocessing import Imputer\n",
    "import matplotlib.pyplot as plt"
   ]
  },
  {
   "cell_type": "code",
   "execution_count": 3,
   "metadata": {},
   "outputs": [
    {
     "name": "stdout",
     "output_type": "stream",
     "text": [
      "[*********************100%***********************]  1 of 1 downloaded\n"
     ]
    }
   ],
   "source": [
    "from pandas_datareader import data as pdr\n",
    "import fix_yahoo_finance\n",
    "df = fix_yahoo_finance.download(\"^GSPC\", start=\"2012-01-01\", end=\"2017-10-01\")\n",
    "df = df[['Open','High','Low','Close']]"
   ]
  },
  {
   "cell_type": "code",
   "execution_count": 4,
   "metadata": {},
   "outputs": [
    {
     "data": {
      "text/html": [
       "<div>\n",
       "<style scoped>\n",
       "    .dataframe tbody tr th:only-of-type {\n",
       "        vertical-align: middle;\n",
       "    }\n",
       "\n",
       "    .dataframe tbody tr th {\n",
       "        vertical-align: top;\n",
       "    }\n",
       "\n",
       "    .dataframe thead th {\n",
       "        text-align: right;\n",
       "    }\n",
       "</style>\n",
       "<table border=\"1\" class=\"dataframe\">\n",
       "  <thead>\n",
       "    <tr style=\"text-align: right;\">\n",
       "      <th></th>\n",
       "      <th>Open</th>\n",
       "      <th>High</th>\n",
       "      <th>Low</th>\n",
       "      <th>Close</th>\n",
       "    </tr>\n",
       "    <tr>\n",
       "      <th>Date</th>\n",
       "      <th></th>\n",
       "      <th></th>\n",
       "      <th></th>\n",
       "      <th></th>\n",
       "    </tr>\n",
       "  </thead>\n",
       "  <tbody>\n",
       "    <tr>\n",
       "      <th>2012-01-03</th>\n",
       "      <td>1258.859985</td>\n",
       "      <td>1284.619995</td>\n",
       "      <td>1258.859985</td>\n",
       "      <td>1277.060059</td>\n",
       "    </tr>\n",
       "    <tr>\n",
       "      <th>2012-01-04</th>\n",
       "      <td>1277.030029</td>\n",
       "      <td>1278.729980</td>\n",
       "      <td>1268.099976</td>\n",
       "      <td>1277.300049</td>\n",
       "    </tr>\n",
       "    <tr>\n",
       "      <th>2012-01-05</th>\n",
       "      <td>1277.300049</td>\n",
       "      <td>1283.050049</td>\n",
       "      <td>1265.260010</td>\n",
       "      <td>1281.060059</td>\n",
       "    </tr>\n",
       "    <tr>\n",
       "      <th>2012-01-06</th>\n",
       "      <td>1280.930054</td>\n",
       "      <td>1281.839966</td>\n",
       "      <td>1273.339966</td>\n",
       "      <td>1277.810059</td>\n",
       "    </tr>\n",
       "    <tr>\n",
       "      <th>2012-01-09</th>\n",
       "      <td>1277.829956</td>\n",
       "      <td>1281.989990</td>\n",
       "      <td>1274.550049</td>\n",
       "      <td>1280.699951</td>\n",
       "    </tr>\n",
       "  </tbody>\n",
       "</table>\n",
       "</div>"
      ],
      "text/plain": [
       "                   Open         High          Low        Close\n",
       "Date                                                          \n",
       "2012-01-03  1258.859985  1284.619995  1258.859985  1277.060059\n",
       "2012-01-04  1277.030029  1278.729980  1268.099976  1277.300049\n",
       "2012-01-05  1277.300049  1283.050049  1265.260010  1281.060059\n",
       "2012-01-06  1280.930054  1281.839966  1273.339966  1277.810059\n",
       "2012-01-09  1277.829956  1281.989990  1274.550049  1280.699951"
      ]
     },
     "execution_count": 4,
     "metadata": {},
     "output_type": "execute_result"
    }
   ],
   "source": [
    "df.head()"
   ]
  },
  {
   "cell_type": "code",
   "execution_count": 5,
   "metadata": {},
   "outputs": [],
   "source": [
    "df['open'] = df['Open'].shift(1)\n",
    "df['high'] = df['High'].shift(1)\n",
    "df['low'] = df['Low'].shift(1)\n",
    "df['close'] = df['Close'].shift(1)"
   ]
  },
  {
   "cell_type": "code",
   "execution_count": 6,
   "metadata": {},
   "outputs": [],
   "source": [
    "imp = Imputer(missing_values='NaN', strategy='mean', axis=0)\n",
    "steps = [\n",
    "    ('imputation', imp),\n",
    "    ('scaler', StandardScaler()),\n",
    "    ('lasso', Lasso())\n",
    "]\n",
    "pipeline = Pipeline(steps)\n",
    "parameters = {\n",
    "    'lasso__alpha':np.arange(0.0001, 10, 0.0001),\n",
    "    'lasso__max_iter':np.random.uniform(100, 100000, 4)\n",
    "}\n",
    "reg = rcv(pipeline, parameters, cv=5)"
   ]
  },
  {
   "cell_type": "code",
   "execution_count": 7,
   "metadata": {},
   "outputs": [],
   "source": [
    "X = df[['open','high','low','close']]\n",
    "y = df['Close']"
   ]
  },
  {
   "cell_type": "code",
   "execution_count": 8,
   "metadata": {},
   "outputs": [
    {
     "name": "stderr",
     "output_type": "stream",
     "text": [
      "C:\\Users\\JinMyungHun\\Anaconda3\\envs\\ds\\lib\\site-packages\\sklearn\\linear_model\\coordinate_descent.py:491: ConvergenceWarning: Objective did not converge. You might want to increase the number of iterations. Fitting data with very small alpha may cause precision problems.\n",
      "  ConvergenceWarning)\n",
      "C:\\Users\\JinMyungHun\\Anaconda3\\envs\\ds\\lib\\site-packages\\sklearn\\linear_model\\coordinate_descent.py:491: ConvergenceWarning: Objective did not converge. You might want to increase the number of iterations. Fitting data with very small alpha may cause precision problems.\n",
      "  ConvergenceWarning)\n",
      "C:\\Users\\JinMyungHun\\Anaconda3\\envs\\ds\\lib\\site-packages\\sklearn\\linear_model\\coordinate_descent.py:491: ConvergenceWarning: Objective did not converge. You might want to increase the number of iterations. Fitting data with very small alpha may cause precision problems.\n",
      "  ConvergenceWarning)\n",
      "C:\\Users\\JinMyungHun\\Anaconda3\\envs\\ds\\lib\\site-packages\\sklearn\\linear_model\\coordinate_descent.py:491: ConvergenceWarning: Objective did not converge. You might want to increase the number of iterations. Fitting data with very small alpha may cause precision problems.\n",
      "  ConvergenceWarning)\n"
     ]
    }
   ],
   "source": [
    "avg_err = {}\n",
    "for t in np.arange(50, 97, 3):\n",
    "    split = int(t*len(X)/100)\n",
    "    reg.fit(X[:split], y[:split])\n",
    "    best_alpha = reg.best_params_['lasso__alpha']\n",
    "    best_iter = reg.best_params_['lasso__max_iter']\n",
    "    reg1 = Lasso(alpha=best_alpha, max_iter=best_iter)\n",
    "    X = imp.fit_transform(X, y)\n",
    "    reg1.fit(X[:split], y[:split])\n",
    "    df['P_C_{}'.format(t)] = 0\n",
    "    df.iloc[split:, df.columns.get_loc('P_C_{}'.format(t))]=reg1.predict(X[split:])\n",
    "    df['Error_{}'.format(t)] = np.abs(df['P_C_{}'.format(t)]-df['Close'])\n",
    "    e = np.mean(df['Error_{}'.format(t)][split:])\n",
    "    avg_err[t] = e"
   ]
  },
  {
   "cell_type": "code",
   "execution_count": 9,
   "metadata": {},
   "outputs": [
    {
     "data": {
      "text/plain": [
       "{50: 12.120152987461697,\n",
       " 53: 12.169327541265117,\n",
       " 56: 11.715980929072872,\n",
       " 59: 11.696088458521274,\n",
       " 62: 11.749684425906581,\n",
       " 65: 11.177578311683476,\n",
       " 68: 10.93475758857823,\n",
       " 71: 9.811814270862218,\n",
       " 74: 9.205103931599512,\n",
       " 77: 8.900522629024856,\n",
       " 80: 8.293455869015835,\n",
       " 83: 8.033472211046494,\n",
       " 86: 7.71776846300745,\n",
       " 89: 7.61303592590443,\n",
       " 92: 7.589021124609962,\n",
       " 95: 7.869708629261318}"
      ]
     },
     "execution_count": 9,
     "metadata": {},
     "output_type": "execute_result"
    }
   ],
   "source": [
    "avg_err"
   ]
  },
  {
   "cell_type": "code",
   "execution_count": 10,
   "metadata": {},
   "outputs": [
    {
     "name": "stdout",
     "output_type": "stream",
     "text": [
      "\n",
      "Average Range of the Day: 12.26863160273975\n"
     ]
    },
    {
     "data": {
      "image/png": "[encoded data removed]",
      "text/plain": [
       "<matplotlib.figure.Figure at 0x2af5be93668>"
      ]
     },
     "metadata": {},
     "output_type": "display_data"
    }
   ],
   "source": [
    "Range = df['high'][split:]-df['low'][split:]\n",
    "plt.scatter(avg_err.keys(), avg_err.values())\n",
    "print('\\nAverage Range of the Day:', np.average(Range))"
   ]
  },
  {
   "cell_type": "code",
   "execution_count": null,
   "metadata": {},
   "outputs": [],
   "source": []
  }
 ],
 "metadata": {
  "kernelspec": {
   "display_name": "Python 3",
   "language": "python",
   "name": "python3"
  },
  "language_info": {
   "codemirror_mode": {
    "name": "ipython",
    "version": 3
   },
   "file_extension": ".py",
   "mimetype": "text/x-python",
   "name": "python",
   "nbconvert_exporter": "python",
   "pygments_lexer": "ipython3",
   "version": "3.6.5"
  }
 },
 "nbformat": 4,
 "nbformat_minor": 2
}
