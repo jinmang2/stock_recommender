{
 "cells": [
  {
   "cell_type": "code",
   "execution_count": 145,
   "metadata": {},
   "outputs": [],
   "source": [
    "import pandas as pd\n",
    "import numpy as np\n",
    "import matplotlib.pyplot as plt\n",
    "import time\n",
    "from sklearn.metrics import accuracy_score\n",
    "from sklearn.model_selection import train_test_split\n",
    "from xgboost import XGBClassifier\n",
    "from catboost import CatBoostClassifier\n",
    "\n",
    "import matplotlib\n",
    "matplotlib.rcParams['axes.unicode_minus'] = False\n",
    "\n",
    "from matplotlib import font_manager, rc\n",
    "font_name = font_manager.FontProperties(fname=\"c:/Windows/Fonts/malgun.ttf\").get_name()\n",
    "rc('font', family=font_name)\n",
    "\n",
    "stock_code = pd.read_csv('./data/data.csv', encoding='cp949')\n",
    "stock_code = {i:j for i,j in zip(stock_code.종목코드.map(lambda x : '{:06d}'.format(x)), stock_code.종목명)}\n",
    "\n",
    "import warnings\n",
    "warnings.filterwarnings('ignore')\n",
    "\n",
    "import pickle\n",
    "with open('raw_data_20190115.pickle', 'rb') as handle:\n",
    "    raw_data = pickle.load(handle)"
   ]
  },
  {
   "cell_type": "code",
   "execution_count": 146,
   "metadata": {
    "collapsed": true
   },
   "outputs": [
    {
     "name": "stdout",
     "output_type": "stream",
     "text": [
      "BGF\n",
      "BGF리테일\n",
      "BNK금융지주\n",
      "GS리테일\n",
      "HDC현대산업개발\n",
      "LIG넥스원\n",
      "SK케미칼\n",
      "넷마블\n",
      "동아에스티\n",
      "두산밥캣\n",
      "락앤락\n",
      "롯데하이마트\n",
      "만도\n",
      "삼성물산\n",
      "삼성바이오로직스\n",
      "삼성생명\n",
      "삼성에스디에스\n",
      "오리온\n",
      "이노션\n",
      "이마트\n",
      "일진머티리얼즈\n",
      "종근당\n",
      "코스맥스\n",
      "코오롱인더\n",
      "쿠쿠홀딩스\n",
      "한국콜마\n",
      "한국타이어\n",
      "한국항공우주\n",
      "한라홀딩스\n",
      "한미약품\n",
      "한화생명\n",
      "현대로템\n",
      "현대위아\n",
      "현대중공업지주\n",
      "현대홈쇼핑\n",
      "효성중공업\n"
     ]
    }
   ],
   "source": [
    "copy_keys = list(raw_data.keys())\n",
    "for stock in copy_keys:\n",
    "    if len(raw_data[stock].loc[:'2010-01-01']) < 1:\n",
    "        del raw_data[stock]\n",
    "        print(stock)"
   ]
  },
  {
   "cell_type": "code",
   "execution_count": 9,
   "metadata": {},
   "outputs": [
    {
     "data": {
      "text/plain": [
       "166"
      ]
     },
     "execution_count": 9,
     "metadata": {},
     "output_type": "execute_result"
    }
   ],
   "source": [
    "len(raw_data)"
   ]
  },
  {
   "cell_type": "code",
   "execution_count": 147,
   "metadata": {},
   "outputs": [],
   "source": [
    "# stock에서 Volume==0인 index, stock에서 제외\n",
    "for key, df in raw_data.items():\n",
    "    raw_data[key] = df.drop(df.index[np.where(df.Volume==0)[0]], axis=0)\n",
    "    del raw_data[key]['Adj Close']"
   ]
  },
  {
   "cell_type": "code",
   "execution_count": 148,
   "metadata": {},
   "outputs": [],
   "source": [
    "import gc\n",
    "import os\n",
    "import tqdm\n",
    "import logging\n",
    "import datetime\n",
    "import seaborn as sns\n",
    "import lightgbm as lgb\n",
    "from tqdm import tqdm\n",
    "from sklearn.metrics import mean_squared_error\n",
    "from sklearn.preprocessing import StandardScaler\n",
    "from sklearn.model_selection import KFold,StratifiedKFold"
   ]
  },
  {
   "cell_type": "code",
   "execution_count": 149,
   "metadata": {},
   "outputs": [],
   "source": [
    "def get_MACD(df, short_ma=12, long_ma=26, signal_period=9):\n",
    "    ewm_12 = df['Close'].ewm(span = short_ma, min_periods = short_ma - 1).mean()\n",
    "    ewm_26 = df['Close'].ewm(span = long_ma, min_periods = long_ma - 1).mean()\n",
    "    df['MACD'] = ewm_12 - ewm_26\n",
    "    df['MACDSignal'] = df['MACD'].ewm(span = signal_period, min_periods = signal_period-1).mean()\n",
    "    df['MACDDiff'] = df['MACD'] - df['MACDSignal']\n",
    "    return df\n",
    "\n",
    "def get_Stochastic(df, n=14):\n",
    "    df['sto_K_{}'.format(n)] = 100 * ((df.Close - df.Low.rolling(n).min()) / \n",
    "                                      (df.High.rolling(n).max() - df.Low.rolling(n).min()))\n",
    "    df['sto_D_{}'.format(n)] = df['sto_K_{}'.format(n)].rolling(3).mean()\n",
    "    return df\n",
    "    \n",
    "def get_RSI(df, n=14):\n",
    "    U = np.where(df['Close'].diff(1)>0, df['Close'].diff(1), 0)\n",
    "    D = np.where(df['Close'].diff(1)<0, df['Close'].diff(1)*(-1), 0)\n",
    "    \n",
    "    AU = pd.Series(U).rolling(window=n, min_periods=n).mean()\n",
    "    AD = pd.Series(D).rolling(window=n, min_periods=n).mean()\n",
    "    \n",
    "    RSI = AU.div(AD+AU) * 100\n",
    "    df['RSI_{}'.format(n)] = RSI.values\n",
    "    return df\n",
    "    \n",
    "def get_BolingerBand(df, n=20, k=2):\n",
    "    df = df.assign(BolingerCenter = df['Close'].rolling(window=n).mean())\n",
    "    df = df.assign(Bol_upper = df['Close'].rolling(window=n).mean() + k*df['Close'].rolling(window=n).std())\n",
    "    df = df.assign(Bol_lower = df['Close'].rolling(window=n).mean() - k*df['Close'].rolling(window=n).std())\n",
    "    return df\n",
    "\n",
    "def get_SMA(df, window):\n",
    "    df['close_ma_{}'.format(window)] = df['Close'].rolling(window).mean()\n",
    "    return df\n",
    "    \n",
    "def get_EMA(df, window):\n",
    "    df['close_ema_{}'.format(window)] = df['Close'].ewm(span=window).mean()\n",
    "    return df\n",
    "    \n",
    "def get_RoC(df, periods):\n",
    "    df['roc_{}'.format(periods)] = df['Close'].pct_change(periods=periods)\n",
    "    return df\n",
    "    \n",
    "def get_CV(df, window):\n",
    "    df['his_vol_{}'.format(window)] = np.log(df['Close'] / df['Close'].shift(1)).rolling(window).std()*(252**0.5)\n",
    "    return df\n",
    "    \n",
    "def get_WilliamR(df, n):\n",
    "    W_R = -100 * ((df.High.rolling(n).max() - df.Close) / (df.High.rolling(n).max() - df.Low.rolling(n).min()))\n",
    "    df['WR_{}'.format(n)] = W_R\n",
    "    return df\n",
    "    \n",
    "def get_CCI(df, window):\n",
    "    TP = (df.Close + df.Low + df.High) / 3\n",
    "    dataX = []\n",
    "    for i in range(len(TP) - window+1):\n",
    "        a = TP.values[i:(i+window)]\n",
    "        dataX.append(a)\n",
    "    dataMean = [i.mean() for i in dataX]\n",
    "    AVEDEV = [abs(x - mean).mean() for x, mean \n",
    "              in zip(dataX, dataMean)]\n",
    "    for i in range(window-1):\n",
    "        AVEDEV.insert(0,np.nan)\n",
    "    AVEDEV = pd.Series(AVEDEV, index = TP.index)\n",
    "    CCI = (TP - TP.rolling(20).mean()) / (0.015 * AVEDEV)\n",
    "    df['CCI_{}'.format(window)] = CCI\n",
    "    return df\n",
    "    \n",
    "def get_DI(df, window):\n",
    "    df['DI_{}'.format(window)] = 100 * ((df.Close - df.Close.rolling(window).mean()) / df.Close.rolling(window).mean())\n",
    "    return df\n",
    "\n",
    "def get_VPT(df):\n",
    "    df['VPT'] = ((test.Close.diff(1) / test.Close) * test.Volume).cumsum()\n",
    "    return df\n",
    "    \n",
    "def get_MA_diff(df, window):\n",
    "    df['ma_diff_{}'.format(window)] = df['Close'].rolling(window).mean() - df['Close'].shift(window).rolling(window).mean()\n",
    "    return df\n",
    "\n",
    "def get_MA_n_diff(df, n, window):\n",
    "    df['ma_{}_diff_{}'.format(n, window)] = df['Close'].rolling(window).mean() - df['Close'].rolling(window+n).mean()\n",
    "    return df\n",
    "    \n",
    "def get_OBV(df):\n",
    "    df['OBV'] = (np.sign(df['Close'].diff(1).fillna(0)) * df['Volume']).cumsum()\n",
    "    return df\n",
    "\n",
    "def get_VolMA(df, window):\n",
    "    df['volume_ma_{}'.format(window)] = df['Volume'].rolling(window).mean()\n",
    "    return df\n",
    "\n",
    "def get_LogReturns(df, window, Prev, Next):\n",
    "    text = Prev[0] + Next[0]\n",
    "    df['returns{}{}'.format(text, window) ]= np.log(df[Next] /\n",
    "                                                    df[Prev].shift(window))"
   ]
  },
  {
   "cell_type": "code",
   "execution_count": 150,
   "metadata": {},
   "outputs": [],
   "source": [
    "from tqdm import tqdm_notebook"
   ]
  },
  {
   "cell_type": "code",
   "execution_count": 151,
   "metadata": {},
   "outputs": [
    {
     "data": {
      "application/vnd.jupyter.widget-view+json": {
       "model_id": "7416028670fe4e50bd6189768d4c079b",
       "version_major": 2,
       "version_minor": 0
      },
      "text/plain": [
       "HBox(children=(IntProgress(value=0, max=166), HTML(value='')))"
      ]
     },
     "metadata": {},
     "output_type": "display_data"
    }
   ],
   "source": [
    "for key, df in tqdm_notebook(raw_data.items()):\n",
    "    for window in range(1, 91,3):\n",
    "        raw_data[key] = get_SMA(df, window)\n",
    "        raw_data[key] = get_VolMA(df, window)\n",
    "        raw_data[key] = get_EMA(df, window)\n",
    "    n = 10\n",
    "    for window in range(1, 91,3):\n",
    "        raw_data[key] = get_MA_diff(df, window)\n",
    "        raw_data[key] = get_MA_n_diff(df, n, window)\n",
    "    for window in range(1, 91,3):\n",
    "        raw_data[key] = get_CV(df, window)\n",
    "    for window in range(1, 91,3):\n",
    "        raw_data[key] = get_LogReturns(df, window, 'Close', 'Open')\n",
    "        raw_data[key] = get_LogReturns(df, window, 'Close', 'Close')\n",
    "        raw_data[key] = get_LogReturns(df, window, 'Open', 'Close')\n",
    "        raw_data[key] = get_LogReturns(df, window, 'Open', 'Open')\n",
    "    raw_data[key] = get_RSI(df, 14)\n",
    "    raw_data[key] = get_Stochastic(df, 14)\n",
    "    raw_data[key] = get_WilliamR(df, 14)\n",
    "    raw_data[key] = get_CCI(df, 20)\n",
    "    for window in [5,10]:\n",
    "        raw_data[key] = get_DI(df, window)\n",
    "    raw_data[key] = get_MACD(df)\n",
    "    raw_data[key] = get_OBV(df)"
   ]
  },
  {
   "cell_type": "code",
   "execution_count": 153,
   "metadata": {},
   "outputs": [],
   "source": [
    "stock_ = ['KCC', 'KT', 'LG생활건강', 'NAVER', 'NH투자증권', 'S-Oil', '삼성전자', '엔씨소프트', '오뚜기', '한국전력']\n",
    "x = list(raw_data.keys())\n",
    "for stock in x:\n",
    "    if stock not in stock_:\n",
    "        del raw_data[stock]"
   ]
  },
  {
   "cell_type": "code",
   "execution_count": 155,
   "metadata": {},
   "outputs": [
    {
     "data": {
      "application/vnd.jupyter.widget-view+json": {
       "model_id": "c9cdc660cd754769a87c12be81a0acee",
       "version_major": 2,
       "version_minor": 0
      },
      "text/plain": [
       "HBox(children=(IntProgress(value=0, max=10), HTML(value='')))"
      ]
     },
     "metadata": {},
     "output_type": "display_data"
    }
   ],
   "source": [
    "for key, df in tqdm_notebook(raw_data.items()):\n",
    "    for i in range(1, 91, 3):\n",
    "        df['Y1_{:03}'.format(i)] = df['Close'].shift(-1*i) - df['Close']\n",
    "        for shift in range(1, 91, 3):\n",
    "            df['sh{:03}_Y2_{:03}'.format(shift, i)] = df['Close'].shift(-1*shift) - df['Close'].rolling(i).mean()\n",
    "            df['sh{:03}_Y3_{:03}'.format(shift, i)] = df['Close'].shift(-1*shift).rolling(i).mean() - df['Close'].rolling(i).mean()"
   ]
  },
  {
   "cell_type": "code",
   "execution_count": 86,
   "metadata": {},
   "outputs": [],
   "source": [
    "import copy\n",
    "import xgboost as xgb\n",
    "\n",
    "def modelfit(alg, train, test, X, y):\n",
    "    alg = XGBClassifier(\n",
    "         learning_rate =0.15,\n",
    "         n_estimators=1000,\n",
    "         max_depth=5,\n",
    "         min_child_weight=2,\n",
    "         gamma=0,\n",
    "         subsample=0.8,\n",
    "         colsample_bytree=0.8,\n",
    "         objective= 'binary:logistic',\n",
    "         nthread=4,\n",
    "         scale_pos_weight=1,\n",
    "         seed=27)\n",
    "    xgb_params = alg.get_xgb_params()\n",
    "    xgtrain = xgb.DMatrix(train[X].values, label=np.where(train[y].values>=0, 1,0))\n",
    "    cvresult=xgb.cv(xgb_params, xgtrain,\n",
    "                    num_boost_round=alg.get_params()['n_estimators'],\n",
    "                    nfold=5, early_stopping_rounds=50,\n",
    "                    show_stdv=False)\n",
    "    alg.set_params(n_estimators=cvresult.shape[0])\n",
    "    alg.fit(train[X].values, np.where(train[y].values>=0, 1,0), eval_metric='auc')\n",
    "    dtrain_predictions = alg.predict(train[X].values)\n",
    "    dtrain_predprob = alg.predict_proba(train[X].values)[:,1]\n",
    "    dtest_predictions = alg.predict(test[X].values)\n",
    "    dtest_predprob = alg.predict_proba(test[X].values)[:,1]\n",
    "    print(\"Train Accuracy : {:.4f}\".format(metrics.accuracy_score(\n",
    "                            np.where(train[y].values>=0, 1,0), dtrain_predictions)))\n",
    "    print(\"Train AUC Score : {:.4f}\".format(metrics.roc_auc_score(\n",
    "                            np.where(train[y].values>=0, 1,0), dtrain_predprob)))\n",
    "    print(\"Valid  Accuracy : {:.4f}\".format(metrics.accuracy_score(\n",
    "                            np.where(test[y].values>=0, 1,0), dtest_predictions)))\n",
    "    print(\"Valid  AUC Score : {:.4f}\".format(metrics.roc_auc_score(\n",
    "                            np.where(test[y].values>=0, 1,0), dtest_predprob)))\n",
    "    return alg"
   ]
  },
  {
   "cell_type": "code",
   "execution_count": 156,
   "metadata": {},
   "outputs": [],
   "source": [
    "Y1 = [i for i in raw_data['삼성전자'].columns if (i.find('Y1_') != -1)&(len(i)>5)]\n",
    "Y2 = [i for i in raw_data['삼성전자'].columns if (i.find('Y2_') != -1)&(len(i)>5)]\n",
    "Y3 = [i for i in raw_data['삼성전자'].columns if (i.find('Y3_') != -1)&(len(i)>5)]"
   ]
  },
  {
   "cell_type": "code",
   "execution_count": 173,
   "metadata": {},
   "outputs": [],
   "source": [
    "def modelfit(train, X, y):\n",
    "    alg = XGBClassifier(\n",
    "         learning_rate =0.15,\n",
    "         n_estimators=1000,\n",
    "         max_depth=5,\n",
    "         min_child_weight=2,\n",
    "         gamma=0,\n",
    "         subsample=0.8,\n",
    "         colsample_bytree=0.8,\n",
    "         objective= 'binary:logistic',\n",
    "         nthread=4,\n",
    "         scale_pos_weight=1,\n",
    "         seed=27)\n",
    "    xgb_params = alg.get_xgb_params()\n",
    "    xgtrain = xgb.DMatrix(train[X].values, label=np.where(train[y].values>=0, 1,0))\n",
    "    cvresult=xgb.cv(xgb_params, xgtrain,\n",
    "                    num_boost_round=alg.get_params()['n_estimators'],\n",
    "                    nfold=5, early_stopping_rounds=50,\n",
    "                    show_stdv=False)\n",
    "    alg.set_params(n_estimators=cvresult.shape[0])\n",
    "    alg.fit(train[X].values, np.where(train[y].values>=0, 1,0), eval_metric='auc')\n",
    "    return alg"
   ]
  },
  {
   "cell_type": "code",
   "execution_count": 174,
   "metadata": {},
   "outputs": [],
   "source": [
    "X = [i for i in raw_data['삼성전자'].columns if (i.find('Y') == -1)]"
   ]
  },
  {
   "cell_type": "code",
   "execution_count": 175,
   "metadata": {},
   "outputs": [
    {
     "data": {
      "application/vnd.jupyter.widget-view+json": {
       "model_id": "b9256b88124f478682a07d41e3e474a5",
       "version_major": 2,
       "version_minor": 0
      },
      "text/plain": [
       "HBox(children=(IntProgress(value=0, max=1830), HTML(value='')))"
      ]
     },
     "metadata": {},
     "output_type": "display_data"
    }
   ],
   "source": [
    "stock_2 = ['KT', 'LG생활건강', 'NAVER', 'NH투자증권', 'S-Oil', '삼성전자']\n",
    "y1_model_set = {}\n",
    "y2_model_set = {}\n",
    "y3_model_set = {}\n",
    "Y = np.hstack((Y1, Y2, Y3))\n",
    "for stock, df in raw_data.items():\n",
    "    if stock != '삼성전자':\n",
    "        continue\n",
    "    res1 = {}\n",
    "    res2 = {}\n",
    "    res3 = {}\n",
    "    for y in tqdm_notebook(Y):\n",
    "        train = df.loc['2013-01-01':'2017-12-31']\n",
    "        model = modelfit(train, X, y)\n",
    "        if 'Y1_' in y:\n",
    "            res1[y] = model\n",
    "        elif 'Y2_' in y:\n",
    "            res2[y] = model\n",
    "        else:\n",
    "            res3[y] = model\n",
    "    y1_model_set[stock] = res1\n",
    "    y2_model_set[stock] = res2\n",
    "    y3_model_set[stock] = res3"
   ]
  },
  {
   "cell_type": "code",
   "execution_count": 177,
   "metadata": {},
   "outputs": [
    {
     "data": {
      "text/plain": [
       "XGBClassifier(base_score=0.5, booster='gbtree', colsample_bylevel=1,\n",
       "       colsample_bytree=0.8, gamma=0, learning_rate=0.15, max_delta_step=0,\n",
       "       max_depth=5, min_child_weight=2, missing=None, n_estimators=6,\n",
       "       n_jobs=1, nthread=4, objective='binary:logistic', random_state=0,\n",
       "       reg_alpha=0, reg_lambda=1, scale_pos_weight=1, seed=27, silent=True,\n",
       "       subsample=0.8)"
      ]
     },
     "execution_count": 177,
     "metadata": {},
     "output_type": "execute_result"
    }
   ],
   "source": [
    "y1_model_set['삼성전자']['Y1_001']"
   ]
  },
  {
   "cell_type": "code",
   "execution_count": 185,
   "metadata": {},
   "outputs": [],
   "source": [
    "from sklearn import metrics\n",
    "test = df.loc['2018-01-01':'2018-05-01']\n",
    "y1_result = {}\n",
    "y2_result = {}\n",
    "y3_result = {}\n",
    "\n",
    "for y, alg in y1_model_set['삼성전자'].items():\n",
    "    dtest_predictions = alg.predict(test[X].values)\n",
    "    acc = metrics.accuracy_score(np.where(test[y].values>=0, 1,0), dtest_predictions)\n",
    "    y1_result[y] = acc\n",
    "for y, alg in y2_model_set['삼성전자'].items():\n",
    "    dtest_predictions = alg.predict(test[X].values)\n",
    "    acc = metrics.accuracy_score(np.where(test[y].values>=0, 1,0), dtest_predictions)\n",
    "    y2_result[y] = acc\n",
    "for y, alg in y3_model_set['삼성전자'].items():\n",
    "    dtest_predictions = alg.predict(test[X].values)\n",
    "    acc = metrics.accuracy_score(np.where(test[y].values>=0, 1,0), dtest_predictions)\n",
    "    y3_result[y] = acc"
   ]
  },
  {
   "cell_type": "code",
   "execution_count": 193,
   "metadata": {
    "scrolled": true
   },
   "outputs": [
    {
     "data": {
      "text/plain": [
       "'001'"
      ]
     },
     "execution_count": 193,
     "metadata": {},
     "output_type": "execute_result"
    }
   ],
   "source": [
    "'sh001_Y2_001'[-3:]"
   ]
  },
  {
   "cell_type": "code",
   "execution_count": 198,
   "metadata": {},
   "outputs": [],
   "source": [
    "p = pd.DataFrame(index = [i for i in range(1, 90, 3)], columns = [i for i in range(1, 90, 3)])\n",
    "for i,j in y2_result.items():\n",
    "    shift = int(i[2:5])\n",
    "    ma = int(i[-3:])\n",
    "    p.loc[shift, ma] = j"
   ]
  },
  {
   "cell_type": "code",
   "execution_count": 205,
   "metadata": {},
   "outputs": [
    {
     "data": {
      "text/plain": [
       "[<matplotlib.lines.Line2D at 0x179015f9470>]"
      ]
     },
     "execution_count": 205,
     "metadata": {},
     "output_type": "execute_result"
    },
    {
     "data": {
      "image/png": "[encoded data removed]",
      "text/plain": [
       "<matplotlib.figure.Figure at 0x17901b5b0f0>"
      ]
     },
     "metadata": {},
     "output_type": "display_data"
    }
   ],
   "source": [
    "plt.plot(np.diag(p.T))"
   ]
  },
  {
   "cell_type": "code",
   "execution_count": null,
   "metadata": {},
   "outputs": [],
   "source": []
  }
 ],
 "metadata": {
  "kernelspec": {
   "display_name": "Python 3",
   "language": "python",
   "name": "python3"
  },
  "language_info": {
   "codemirror_mode": {
    "name": "ipython",
    "version": 3
   },
   "file_extension": ".py",
   "mimetype": "text/x-python",
   "name": "python",
   "nbconvert_exporter": "python",
   "pygments_lexer": "ipython3",
   "version": "3.6.5"
  }
 },
 "nbformat": 4,
 "nbformat_minor": 2
}
