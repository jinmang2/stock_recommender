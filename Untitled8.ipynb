{
 "cells": [
  {
   "cell_type": "code",
   "execution_count": 1,
   "metadata": {},
   "outputs": [],
   "source": [
    "from mnist_user import *"
   ]
  },
  {
   "cell_type": "code",
   "execution_count": 4,
   "metadata": {},
   "outputs": [
    {
     "name": "stdout",
     "output_type": "stream",
     "text": [
      "<2018년 7월 2일 Hands on Machin Learning 세미나 chap.3 mnist 예시 program>\n",
      "\n",
      "본 프로그램은 mnist dataset의 숫자들을 유저가 알아맞추는 프로그램입니다.\n",
      "중간에 \"0\"을 눌러 프로그램을 종료할 수 있습니다.\n",
      "본 프로그램의 오더에 따라 알맞은 값을 입력해주세요.\n",
      "\n",
      "1~70000까지의 숫자를 입력하세요 : 70000\n"
     ]
    },
    {
     "data": {
      "image/png": "[encoded data removed]",
      "text/plain": [
       "<matplotlib.figure.Figure at 0x16f71263518>"
      ]
     },
     "metadata": {},
     "output_type": "display_data"
    },
    {
     "name": "stdout",
     "output_type": "stream",
     "text": [
      "다음 그림의 숫자는 무엇일까요? [0~9] :9\n",
      "맞았습니다! 재도전? (Y/N) :y\n",
      "숫자를 한번 섞을까요? (Y/N) : y\n",
      "1~70000까지의 숫자를 입력하세요 : 70000\n"
     ]
    },
    {
     "data": {
      "image/png": "[encoded data removed]",
      "text/plain": [
       "<matplotlib.figure.Figure at 0x16f7ae0b4a8>"
      ]
     },
     "metadata": {},
     "output_type": "display_data"
    },
    {
     "name": "stdout",
     "output_type": "stream",
     "text": [
      "다음 그림의 숫자는 무엇일까요? [0~9] :7\n",
      "맞았습니다! 재도전? (Y/N) :y\n",
      "숫자를 한번 섞을까요? (Y/N) : y\n",
      "1~70000까지의 숫자를 입력하세요 : 70000\n"
     ]
    },
    {
     "data": {
      "image/png": "[encoded data removed]",
      "text/plain": [
       "<matplotlib.figure.Figure at 0x16f7ae23630>"
      ]
     },
     "metadata": {},
     "output_type": "display_data"
    },
    {
     "name": "stdout",
     "output_type": "stream",
     "text": [
      "다음 그림의 숫자는 무엇일까요? [0~9] :4\n",
      "맞았습니다! 재도전? (Y/N) :y\n",
      "숫자를 한번 섞을까요? (Y/N) : n\n",
      "1~70000까지의 숫자를 입력하세요 : 70000\n"
     ]
    },
    {
     "data": {
      "image/png": "[encoded data removed]",
      "text/plain": [
       "<matplotlib.figure.Figure at 0x16f779e6e48>"
      ]
     },
     "metadata": {},
     "output_type": "display_data"
    },
    {
     "name": "stdout",
     "output_type": "stream",
     "text": [
      "다음 그림의 숫자는 무엇일까요? [0~9] :4\n",
      "맞았습니다! 재도전? (Y/N) :y\n",
      "숫자를 한번 섞을까요? (Y/N) : y\n",
      "1~70000까지의 숫자를 입력하세요 : 70000\n"
     ]
    },
    {
     "data": {
      "image/png": "[encoded data removed]",
      "text/plain": [
       "<matplotlib.figure.Figure at 0x16f77a6d2e8>"
      ]
     },
     "metadata": {},
     "output_type": "display_data"
    },
    {
     "name": "stdout",
     "output_type": "stream",
     "text": [
      "다음 그림의 숫자는 무엇일까요? [0~9] :5\n",
      "틀렸습니다. 다시 입력하세요\n",
      "다음 그림의 숫자는 무엇일까요? [0~9] :6\n",
      "틀렸습니다. 다시 입력하세요\n",
      "다음 그림의 숫자는 무엇일까요? [0~9] :4\n",
      "틀렸습니다. 다시 입력하세요\n",
      "다음 그림의 숫자는 무엇일까요? [0~9] :8\n",
      "틀렸습니다. 다시 입력하세요\n",
      "다음 그림의 숫자는 무엇일까요? [0~9] :2\n",
      "맞았습니다! 재도전? (Y/N) :n\n",
      "프로그램을 종료합니다.\n"
     ]
    }
   ],
   "source": [
    "main()"
   ]
  },
  {
   "cell_type": "code",
   "execution_count": null,
   "metadata": {},
   "outputs": [],
   "source": []
  }
 ],
 "metadata": {
  "kernelspec": {
   "display_name": "Python 3",
   "language": "python",
   "name": "python3"
  },
  "language_info": {
   "codemirror_mode": {
    "name": "ipython",
    "version": 3
   },
   "file_extension": ".py",
   "mimetype": "text/x-python",
   "name": "python",
   "nbconvert_exporter": "python",
   "pygments_lexer": "ipython3",
   "version": "3.6.5"
  }
 },
 "nbformat": 4,
 "nbformat_minor": 2
}
