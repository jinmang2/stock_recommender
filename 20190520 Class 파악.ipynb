{
 "cells": [
  {
   "cell_type": "markdown",
   "metadata": {},
   "source": [
    "# Environment"
   ]
  },
  {
   "cell_type": "code",
   "execution_count": 1,
   "metadata": {},
   "outputs": [],
   "source": [
    "class Environment:\n",
    "\n",
    "    PRICE_IDX = 4  # 종가의 위치\n",
    "\n",
    "    def __init__(self, chart_data=None):\n",
    "        self.chart_data = chart_data\n",
    "        self.observation = None\n",
    "        self.idx = -1\n",
    "\n",
    "    def reset(self):\n",
    "        self.observation = None\n",
    "        self.idx = -1\n",
    "\n",
    "    def observe(self):\n",
    "        if len(self.chart_data) > self.idx + 1:\n",
    "            self.idx += 1\n",
    "            self.observation = self.chart_data.iloc[self.idx]\n",
    "            return self.observation\n",
    "        return None\n",
    "\n",
    "    def get_price(self):\n",
    "        if self.observation is not None:\n",
    "            return self.observation[self.PRICE_IDX]\n",
    "        return None\n",
    "\n",
    "    def set_chart_data(self, chart_data):\n",
    "        self.chart_data = chart_data\n"
   ]
  },
  {
   "cell_type": "code",
   "execution_count": 3,
   "metadata": {},
   "outputs": [],
   "source": [
    "import numpy as np\n",
    "import pandas as pd\n",
    "import matplotlib.pyplot as plt\n",
    "%matplotlib inline"
   ]
  },
  {
   "cell_type": "code",
   "execution_count": 6,
   "metadata": {},
   "outputs": [],
   "source": [
    "df = pd.read_csv('./data/chart_data/005930_col.csv', )"
   ]
  },
  {
   "cell_type": "code",
   "execution_count": 7,
   "metadata": {},
   "outputs": [
    {
     "data": {
      "text/html": [
       "<div>\n",
       "<style scoped>\n",
       "    .dataframe tbody tr th:only-of-type {\n",
       "        vertical-align: middle;\n",
       "    }\n",
       "\n",
       "    .dataframe tbody tr th {\n",
       "        vertical-align: top;\n",
       "    }\n",
       "\n",
       "    .dataframe thead th {\n",
       "        text-align: right;\n",
       "    }\n",
       "</style>\n",
       "<table border=\"1\" class=\"dataframe\">\n",
       "  <thead>\n",
       "    <tr style=\"text-align: right;\">\n",
       "      <th></th>\n",
       "      <th>date</th>\n",
       "      <th>open</th>\n",
       "      <th>high</th>\n",
       "      <th>low</th>\n",
       "      <th>close</th>\n",
       "      <th>volume</th>\n",
       "    </tr>\n",
       "  </thead>\n",
       "  <tbody>\n",
       "    <tr>\n",
       "      <th>0</th>\n",
       "      <td>1985-01-04</td>\n",
       "      <td>6,511</td>\n",
       "      <td>6,511</td>\n",
       "      <td>6,473</td>\n",
       "      <td>6,473</td>\n",
       "      <td>2,232</td>\n",
       "    </tr>\n",
       "    <tr>\n",
       "      <th>1</th>\n",
       "      <td>1985-01-05</td>\n",
       "      <td>6,434</td>\n",
       "      <td>6,465</td>\n",
       "      <td>6,427</td>\n",
       "      <td>6,427</td>\n",
       "      <td>2,167</td>\n",
       "    </tr>\n",
       "    <tr>\n",
       "      <th>2</th>\n",
       "      <td>1985-01-07</td>\n",
       "      <td>6,434</td>\n",
       "      <td>6,511</td>\n",
       "      <td>6,427</td>\n",
       "      <td>6,442</td>\n",
       "      <td>15,417</td>\n",
       "    </tr>\n",
       "    <tr>\n",
       "      <th>3</th>\n",
       "      <td>1985-01-08</td>\n",
       "      <td>6,434</td>\n",
       "      <td>6,434</td>\n",
       "      <td>6,358</td>\n",
       "      <td>6,358</td>\n",
       "      <td>16,879</td>\n",
       "    </tr>\n",
       "    <tr>\n",
       "      <th>4</th>\n",
       "      <td>1985-01-09</td>\n",
       "      <td>6,312</td>\n",
       "      <td>6,312</td>\n",
       "      <td>6,090</td>\n",
       "      <td>6,136</td>\n",
       "      <td>6,488</td>\n",
       "    </tr>\n",
       "  </tbody>\n",
       "</table>\n",
       "</div>"
      ],
      "text/plain": [
       "         date   open   high    low  close  volume\n",
       "0  1985-01-04  6,511  6,511  6,473  6,473   2,232\n",
       "1  1985-01-05  6,434  6,465  6,427  6,427   2,167\n",
       "2  1985-01-07  6,434  6,511  6,427  6,442  15,417\n",
       "3  1985-01-08  6,434  6,434  6,358  6,358  16,879\n",
       "4  1985-01-09  6,312  6,312  6,090  6,136   6,488"
      ]
     },
     "execution_count": 7,
     "metadata": {},
     "output_type": "execute_result"
    }
   ],
   "source": [
    "df.head()"
   ]
  },
  {
   "cell_type": "code",
   "execution_count": 8,
   "metadata": {},
   "outputs": [],
   "source": [
    "env = Environment(chart_data = df)"
   ]
  },
  {
   "cell_type": "code",
   "execution_count": 11,
   "metadata": {},
   "outputs": [
    {
     "data": {
      "text/plain": [
       "4"
      ]
     },
     "execution_count": 11,
     "metadata": {},
     "output_type": "execute_result"
    }
   ],
   "source": [
    "env.PRICE_IDX"
   ]
  },
  {
   "cell_type": "code",
   "execution_count": 13,
   "metadata": {},
   "outputs": [
    {
     "data": {
      "text/plain": [
       "date      1985-01-04\n",
       "open           6,511\n",
       "high           6,511\n",
       "low            6,473\n",
       "close          6,473\n",
       "volume         2,232\n",
       "Name: 0, dtype: object"
      ]
     },
     "execution_count": 13,
     "metadata": {},
     "output_type": "execute_result"
    }
   ],
   "source": [
    "env.observe()"
   ]
  },
  {
   "cell_type": "code",
   "execution_count": 14,
   "metadata": {},
   "outputs": [
    {
     "data": {
      "text/plain": [
       "0"
      ]
     },
     "execution_count": 14,
     "metadata": {},
     "output_type": "execute_result"
    }
   ],
   "source": [
    "env.idx"
   ]
  },
  {
   "cell_type": "code",
   "execution_count": 60,
   "metadata": {},
   "outputs": [
    {
     "data": {
      "text/plain": [
       "date      1985-03-02\n",
       "open           6,411\n",
       "high           6,473\n",
       "low            6,411\n",
       "close          6,434\n",
       "volume        15,195\n",
       "Name: 46, dtype: object"
      ]
     },
     "execution_count": 60,
     "metadata": {},
     "output_type": "execute_result"
    }
   ],
   "source": [
    "env.observe()"
   ]
  },
  {
   "cell_type": "code",
   "execution_count": 61,
   "metadata": {},
   "outputs": [
    {
     "data": {
      "text/plain": [
       "'6,434'"
      ]
     },
     "execution_count": 61,
     "metadata": {},
     "output_type": "execute_result"
    }
   ],
   "source": [
    "env.get_price()"
   ]
  },
  {
   "cell_type": "markdown",
   "metadata": {},
   "source": [
    "# Agent"
   ]
  },
  {
   "cell_type": "code",
   "execution_count": null,
   "metadata": {},
   "outputs": [],
   "source": [
    "import numpy as np\n",
    "\n",
    "\n",
    "class Agent:\n",
    "    # 에이전트 상태가 구성하는 값 개수\n",
    "    STATE_DIM = 2  # 주식 보유 비율, 포트폴리오 가치 비율\n",
    "\n",
    "    # 매매 수수료 및 세금\n",
    "    TRADING_CHARGE = 0  # 거래 수수료 미고려 (일반적으로 0.015%)\n",
    "    TRADING_TAX = 0  # 거래세 미고려 (실제 0.3%)\n",
    "\n",
    "    # 행동\n",
    "    ACTION_BUY = 0  # 매수\n",
    "    ACTION_SELL = 1  # 매도\n",
    "    ACTION_HOLD = 2  # 홀딩\n",
    "    ACTIONS = [ACTION_BUY, ACTION_SELL]  # 인공 신경망에서 확률을 구할 행동들\n",
    "    NUM_ACTIONS = len(ACTIONS)  # 인공 신경망에서 고려할 출력값의 개수\n",
    "\n",
    "    def __init__(\n",
    "        self, environment, min_trading_unit=1, max_trading_unit=2, \n",
    "        delayed_reward_threshold=.05):\n",
    "        # Environment 객체\n",
    "        self.environment = environment  # 현재 주식 가격을 가져오기 위해 환경 참조\n",
    "\n",
    "        # 최소 매매 단위, 최대 매매 단위, 지연보상 임계치\n",
    "        self.min_trading_unit = min_trading_unit  # 최소 단일 거래 단위\n",
    "        self.max_trading_unit = max_trading_unit  # 최대 단일 거래 단위\n",
    "        self.delayed_reward_threshold = delayed_reward_threshold  # 지연보상 임계치\n",
    "\n",
    "        # Agent 클래스의 속성\n",
    "        self.initial_balance = 0  # 초기 자본금\n",
    "        self.balance = 0  # 현재 현금 잔고\n",
    "        self.num_stocks = 0  # 보유 주식 수\n",
    "        self.portfolio_value = 0  # balance + num_stocks * {현재 주식 가격}\n",
    "        self.base_portfolio_value = 0  # 직전 학습 시점의 PV\n",
    "        self.num_buy = 0  # 매수 횟수\n",
    "        self.num_sell = 0  # 매도 횟수\n",
    "        self.num_hold = 0  # 홀딩 횟수\n",
    "        self.immediate_reward = 0  # 즉시 보상\n",
    "\n",
    "        # Agent 클래스의 상태\n",
    "        self.ratio_hold = 0  # 주식 보유 비율\n",
    "        self.ratio_portfolio_value = 0  # 포트폴리오 가치 비율\n",
    "\n",
    "    def reset(self):\n",
    "        self.balance = self.initial_balance\n",
    "        self.num_stocks = 0\n",
    "        self.portfolio_value = self.initial_balance\n",
    "        self.base_portfolio_value = self.initial_balance\n",
    "        self.num_buy = 0\n",
    "        self.num_sell = 0\n",
    "        self.num_hold = 0\n",
    "        self.immediate_reward = 0\n",
    "        self.ratio_hold = 0\n",
    "        self.ratio_portfolio_value = 0\n",
    "\n",
    "    def set_balance(self, balance):\n",
    "        self.initial_balance = balance\n",
    "\n",
    "    def get_states(self):\n",
    "        self.ratio_hold = self.num_stocks / int(\n",
    "            self.portfolio_value / self.environment.get_price())\n",
    "        self.ratio_portfolio_value = self.portfolio_value / self.base_portfolio_value\n",
    "        return (\n",
    "            self.ratio_hold,\n",
    "            self.ratio_portfolio_value\n",
    "        )\n",
    "\n",
    "    def decide_action(self, policy_network, sample, epsilon):\n",
    "        confidence = 0.\n",
    "        # 탐험 결정\n",
    "        if np.random.rand() < epsilon:\n",
    "            exploration = True\n",
    "            action = np.random.randint(self.NUM_ACTIONS)  # 무작위로 행동 결정\n",
    "        else:\n",
    "            exploration = False\n",
    "            probs = policy_network.predict(sample)  # 각 행동에 대한 확률\n",
    "            action = np.argmax(probs)\n",
    "            confidence = probs[action]\n",
    "        return action, confidence, exploration\n",
    "\n",
    "    def validate_action(self, action):\n",
    "        validity = True\n",
    "        if action == Agent.ACTION_BUY:\n",
    "            # 적어도 1주를 살 수 있는지 확인\n",
    "            if self.balance < self.environment.get_price() * (\n",
    "                1 + self.TRADING_CHARGE) * self.min_trading_unit:\n",
    "                validity = False\n",
    "        elif action == Agent.ACTION_SELL:\n",
    "            # 주식 잔고가 있는지 확인 \n",
    "            if self.num_stocks <= 0:\n",
    "                validity = False\n",
    "        return validity\n",
    "\n",
    "    def decide_trading_unit(self, confidence):\n",
    "        if np.isnan(confidence):\n",
    "            return self.min_trading_unit\n",
    "        added_traiding = max(min(\n",
    "            int(confidence * (self.max_trading_unit - self.min_trading_unit)),\n",
    "            self.max_trading_unit-self.min_trading_unit\n",
    "        ), 0)\n",
    "        return self.min_trading_unit + added_traiding\n",
    "\n",
    "    def act(self, action, confidence):\n",
    "        if not self.validate_action(action):\n",
    "            action = Agent.ACTION_HOLD\n",
    "\n",
    "        # 환경에서 현재 가격 얻기\n",
    "        curr_price = self.environment.get_price()\n",
    "\n",
    "        # 즉시 보상 초기화\n",
    "        self.immediate_reward = 0\n",
    "\n",
    "        # 매수\n",
    "        if action == Agent.ACTION_BUY:\n",
    "            # 매수할 단위를 판단\n",
    "            trading_unit = self.decide_trading_unit(confidence)\n",
    "            balance = self.balance - curr_price * (1 + self.TRADING_CHARGE) * trading_unit\n",
    "            # 보유 현금이 모자랄 경우 보유 현금으로 가능한 만큼 최대한 매수\n",
    "            if balance < 0:\n",
    "                trading_unit = max(min(\n",
    "                    int(self.balance / (\n",
    "                        curr_price * (1 + self.TRADING_CHARGE))), self.max_trading_unit),\n",
    "                    self.min_trading_unit\n",
    "                )\n",
    "            # 수수료를 적용하여 총 매수 금액 산정\n",
    "            invest_amount = curr_price * (1 + self.TRADING_CHARGE) * trading_unit\n",
    "            self.balance -= invest_amount  # 보유 현금을 갱신\n",
    "            self.num_stocks += trading_unit  # 보유 주식 수를 갱신\n",
    "            self.num_buy += 1  # 매수 횟수 증가\n",
    "\n",
    "        # 매도\n",
    "        elif action == Agent.ACTION_SELL:\n",
    "            # 매도할 단위를 판단\n",
    "            trading_unit = self.decide_trading_unit(confidence)\n",
    "            # 보유 주식이 모자랄 경우 가능한 만큼 최대한 매도\n",
    "            trading_unit = min(trading_unit, self.num_stocks)\n",
    "            # 매도\n",
    "            invest_amount = curr_price * (\n",
    "                1 - (self.TRADING_TAX + self.TRADING_CHARGE)) * trading_unit\n",
    "            self.num_stocks -= trading_unit  # 보유 주식 수를 갱신\n",
    "            self.balance += invest_amount  # 보유 현금을 갱신\n",
    "            self.num_sell += 1  # 매도 횟수 증가\n",
    "\n",
    "        # 홀딩\n",
    "        elif action == Agent.ACTION_HOLD:\n",
    "            self.num_hold += 1  # 홀딩 횟수 증가\n",
    "\n",
    "        # 포트폴리오 가치 갱신\n",
    "        self.portfolio_value = self.balance + curr_price * self.num_stocks\n",
    "        profitloss = (\n",
    "            (self.portfolio_value - self.base_portfolio_value) / self.base_portfolio_value)\n",
    "\n",
    "        # 즉시 보상 판단\n",
    "        self.immediate_reward = 1 if profitloss >= 0 else -1\n",
    "\n",
    "        # 지연 보상 판단\n",
    "        if profitloss > self.delayed_reward_threshold:\n",
    "            delayed_reward = 1\n",
    "            # 목표 수익률 달성하여 기준 포트폴리오 가치 갱신\n",
    "            self.base_portfolio_value = self.portfolio_value\n",
    "        elif profitloss < -self.delayed_reward_threshold:\n",
    "            delayed_reward = -1\n",
    "            # 손실 기준치를 초과하여 기준 포트폴리오 가치 갱신\n",
    "            self.base_portfolio_value = self.portfolio_value\n",
    "        else:\n",
    "            delayed_reward = 0\n",
    "        return self.immediate_reward, delayed_reward\n"
   ]
  }
 ],
 "metadata": {
  "kernelspec": {
   "display_name": "Python 3",
   "language": "python",
   "name": "python3"
  },
  "language_info": {
   "codemirror_mode": {
    "name": "ipython",
    "version": 3
   },
   "file_extension": ".py",
   "mimetype": "text/x-python",
   "name": "python",
   "nbconvert_exporter": "python",
   "pygments_lexer": "ipython3",
   "version": "3.6.5"
  }
 },
 "nbformat": 4,
 "nbformat_minor": 2
}
