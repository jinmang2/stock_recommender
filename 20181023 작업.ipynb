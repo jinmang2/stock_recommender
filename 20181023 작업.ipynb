{
 "cells": [
  {
   "cell_type": "code",
   "execution_count": 1,
   "metadata": {},
   "outputs": [],
   "source": [
    "%run moon_code\n",
    "%run xgb_modelfit"
   ]
  },
  {
   "cell_type": "code",
   "execution_count": 2,
   "metadata": {},
   "outputs": [],
   "source": [
    "import matplotlib\n",
    "matplotlib.rcParams['axes.unicode_minus'] = False"
   ]
  },
  {
   "cell_type": "code",
   "execution_count": 139,
   "metadata": {},
   "outputs": [],
   "source": [
    "with open('raw_data_20181008.pickle', 'rb') as handle:\n",
    "    raw_data = pickle.load(handle)\n",
    "with open('ks11_20181008.pickle', 'rb') as handle:\n",
    "    ks11 = pickle.load(handle)"
   ]
  },
  {
   "cell_type": "code",
   "execution_count": 140,
   "metadata": {},
   "outputs": [],
   "source": [
    "nan_li = ['BGF', 'BGF리테일', 'HDC현대산업개발', 'LIG넥스원', 'SK케미칼', '넷마블', '두산밥캣',\n",
    "         '만도', '삼성물산', '삼성바이오로직스', '삼성에스디에스', '오리온', '이노션', '종근당',\n",
    "         '코스맥스', '쿠쿠홀딩스', '현대로템', '현대중공업지주', '효성중공업', '동아에스티']\n",
    "for stock in nan_li:\n",
    "    del raw_data[stock]"
   ]
  },
  {
   "cell_type": "code",
   "execution_count": 141,
   "metadata": {},
   "outputs": [],
   "source": [
    "def get_multi_index(col_name):\n",
    "    return pd.MultiIndex.from_product([[col_name],list(raw_data.keys())])\n",
    "def add_feature(q, col_name, expr):\n",
    "    ind = get_multi_index(col_name)\n",
    "    try:\n",
    "        df = pd.DataFrame(expr.values, columns=ind, index=q.index)\n",
    "    except AttributeError:\n",
    "        df = pd.DataFrame(expr, columns=ind, index=q.index)\n",
    "    q = pd.concat((q, df), axis=1)\n",
    "    return q"
   ]
  },
  {
   "cell_type": "code",
   "execution_count": 142,
   "metadata": {},
   "outputs": [],
   "source": [
    "data = {}\n",
    "for stock, df in raw_data.items():\n",
    "    dff = df.copy()\n",
    "    dff.columns = pd.MultiIndex.from_arrays([[stock]*6, df.columns])\n",
    "    data[stock] = dff"
   ]
  },
  {
   "cell_type": "code",
   "execution_count": 205,
   "metadata": {},
   "outputs": [],
   "source": [
    "with open('raw_data_20181023.pickle', 'wb') as handle:\n",
    "    pickle.dump(data, handle, protocol=pickle.HIGHEST_PROTOCOL)"
   ]
  },
  {
   "cell_type": "code",
   "execution_count": 143,
   "metadata": {},
   "outputs": [],
   "source": [
    "p = pd.DataFrame()\n",
    "for stock, df in data.items():\n",
    "    p = pd.concat((p, df), axis=1)"
   ]
  },
  {
   "cell_type": "code",
   "execution_count": 144,
   "metadata": {},
   "outputs": [],
   "source": [
    "q = p.T.swaplevel().sortlevel().T"
   ]
  },
  {
   "cell_type": "code",
   "execution_count": 145,
   "metadata": {},
   "outputs": [
    {
     "data": {
      "text/html": [
       "<div>\n",
       "<style scoped>\n",
       "    .dataframe tbody tr th:only-of-type {\n",
       "        vertical-align: middle;\n",
       "    }\n",
       "\n",
       "    .dataframe tbody tr th {\n",
       "        vertical-align: top;\n",
       "    }\n",
       "\n",
       "    .dataframe thead tr th {\n",
       "        text-align: left;\n",
       "    }\n",
       "\n",
       "    .dataframe thead tr:last-of-type th {\n",
       "        text-align: right;\n",
       "    }\n",
       "</style>\n",
       "<table border=\"1\" class=\"dataframe\">\n",
       "  <thead>\n",
       "    <tr>\n",
       "      <th></th>\n",
       "      <th colspan=\"10\" halign=\"left\">Adj Close</th>\n",
       "      <th>...</th>\n",
       "      <th colspan=\"10\" halign=\"left\">Volume</th>\n",
       "    </tr>\n",
       "    <tr>\n",
       "      <th></th>\n",
       "      <th>AK홀딩스</th>\n",
       "      <th>BNK금융지주</th>\n",
       "      <th>CJ</th>\n",
       "      <th>CJ CGV</th>\n",
       "      <th>CJ대한통운</th>\n",
       "      <th>CJ제일제당</th>\n",
       "      <th>DB손해보험</th>\n",
       "      <th>DB하이텍</th>\n",
       "      <th>GKL</th>\n",
       "      <th>GS</th>\n",
       "      <th>...</th>\n",
       "      <th>현대위아</th>\n",
       "      <th>현대제철</th>\n",
       "      <th>현대중공업</th>\n",
       "      <th>현대차</th>\n",
       "      <th>현대해상</th>\n",
       "      <th>현대홈쇼핑</th>\n",
       "      <th>호텔신라</th>\n",
       "      <th>효성</th>\n",
       "      <th>후성</th>\n",
       "      <th>휴켐스</th>\n",
       "    </tr>\n",
       "    <tr>\n",
       "      <th>Date</th>\n",
       "      <th></th>\n",
       "      <th></th>\n",
       "      <th></th>\n",
       "      <th></th>\n",
       "      <th></th>\n",
       "      <th></th>\n",
       "      <th></th>\n",
       "      <th></th>\n",
       "      <th></th>\n",
       "      <th></th>\n",
       "      <th></th>\n",
       "      <th></th>\n",
       "      <th></th>\n",
       "      <th></th>\n",
       "      <th></th>\n",
       "      <th></th>\n",
       "      <th></th>\n",
       "      <th></th>\n",
       "      <th></th>\n",
       "      <th></th>\n",
       "      <th></th>\n",
       "    </tr>\n",
       "  </thead>\n",
       "  <tbody>\n",
       "    <tr>\n",
       "      <th>2010-01-04</th>\n",
       "      <td>5778.959961</td>\n",
       "      <td>NaN</td>\n",
       "      <td>62200.0</td>\n",
       "      <td>19882.162109</td>\n",
       "      <td>54500.0</td>\n",
       "      <td>193995.484375</td>\n",
       "      <td>27523.703125</td>\n",
       "      <td>7500.0</td>\n",
       "      <td>15079.077148</td>\n",
       "      <td>27447.957031</td>\n",
       "      <td>...</td>\n",
       "      <td>NaN</td>\n",
       "      <td>1422792.0</td>\n",
       "      <td>327580.0</td>\n",
       "      <td>1602697.0</td>\n",
       "      <td>1317347.0</td>\n",
       "      <td>NaN</td>\n",
       "      <td>494447.0</td>\n",
       "      <td>590567.0</td>\n",
       "      <td>784870.0</td>\n",
       "      <td>344720.0</td>\n",
       "    </tr>\n",
       "    <tr>\n",
       "      <th>2010-01-05</th>\n",
       "      <td>5708.910156</td>\n",
       "      <td>NaN</td>\n",
       "      <td>63200.0</td>\n",
       "      <td>19976.390625</td>\n",
       "      <td>54400.0</td>\n",
       "      <td>206178.765625</td>\n",
       "      <td>27040.828125</td>\n",
       "      <td>7550.0</td>\n",
       "      <td>15842.575195</td>\n",
       "      <td>27569.951172</td>\n",
       "      <td>...</td>\n",
       "      <td>NaN</td>\n",
       "      <td>1946501.0</td>\n",
       "      <td>362845.0</td>\n",
       "      <td>3045198.0</td>\n",
       "      <td>1057926.0</td>\n",
       "      <td>NaN</td>\n",
       "      <td>591959.0</td>\n",
       "      <td>1716465.0</td>\n",
       "      <td>1010749.0</td>\n",
       "      <td>671702.0</td>\n",
       "    </tr>\n",
       "    <tr>\n",
       "      <th>2010-01-06</th>\n",
       "      <td>5708.910156</td>\n",
       "      <td>NaN</td>\n",
       "      <td>63200.0</td>\n",
       "      <td>20353.304688</td>\n",
       "      <td>56400.0</td>\n",
       "      <td>206647.375000</td>\n",
       "      <td>28529.683594</td>\n",
       "      <td>7410.0</td>\n",
       "      <td>15804.404297</td>\n",
       "      <td>27854.591797</td>\n",
       "      <td>...</td>\n",
       "      <td>NaN</td>\n",
       "      <td>1238290.0</td>\n",
       "      <td>694478.0</td>\n",
       "      <td>1681152.0</td>\n",
       "      <td>1292660.0</td>\n",
       "      <td>NaN</td>\n",
       "      <td>511434.0</td>\n",
       "      <td>2139316.0</td>\n",
       "      <td>1064106.0</td>\n",
       "      <td>276467.0</td>\n",
       "    </tr>\n",
       "    <tr>\n",
       "      <th>2010-01-07</th>\n",
       "      <td>5761.450195</td>\n",
       "      <td>NaN</td>\n",
       "      <td>64100.0</td>\n",
       "      <td>20494.646484</td>\n",
       "      <td>56600.0</td>\n",
       "      <td>204304.437500</td>\n",
       "      <td>28690.644531</td>\n",
       "      <td>7460.0</td>\n",
       "      <td>15613.526367</td>\n",
       "      <td>28139.236328</td>\n",
       "      <td>...</td>\n",
       "      <td>NaN</td>\n",
       "      <td>1290509.0</td>\n",
       "      <td>2941116.0</td>\n",
       "      <td>1736811.0</td>\n",
       "      <td>950092.0</td>\n",
       "      <td>NaN</td>\n",
       "      <td>366978.0</td>\n",
       "      <td>1056023.0</td>\n",
       "      <td>2206727.0</td>\n",
       "      <td>232912.0</td>\n",
       "    </tr>\n",
       "    <tr>\n",
       "      <th>2010-01-08</th>\n",
       "      <td>5796.470215</td>\n",
       "      <td>NaN</td>\n",
       "      <td>67400.0</td>\n",
       "      <td>21484.044922</td>\n",
       "      <td>57600.0</td>\n",
       "      <td>204304.437500</td>\n",
       "      <td>28408.968750</td>\n",
       "      <td>7510.0</td>\n",
       "      <td>17331.396484</td>\n",
       "      <td>28017.250000</td>\n",
       "      <td>...</td>\n",
       "      <td>NaN</td>\n",
       "      <td>997631.0</td>\n",
       "      <td>1834213.0</td>\n",
       "      <td>2175189.0</td>\n",
       "      <td>951793.0</td>\n",
       "      <td>NaN</td>\n",
       "      <td>343782.0</td>\n",
       "      <td>1409472.0</td>\n",
       "      <td>996558.0</td>\n",
       "      <td>181563.0</td>\n",
       "    </tr>\n",
       "  </tbody>\n",
       "</table>\n",
       "<p>5 rows × 1092 columns</p>\n",
       "</div>"
      ],
      "text/plain": [
       "              Adj Close                                          \\\n",
       "                  AK홀딩스 BNK금융지주       CJ        CJ CGV   CJ대한통운   \n",
       "Date                                                              \n",
       "2010-01-04  5778.959961     NaN  62200.0  19882.162109  54500.0   \n",
       "2010-01-05  5708.910156     NaN  63200.0  19976.390625  54400.0   \n",
       "2010-01-06  5708.910156     NaN  63200.0  20353.304688  56400.0   \n",
       "2010-01-07  5761.450195     NaN  64100.0  20494.646484  56600.0   \n",
       "2010-01-08  5796.470215     NaN  67400.0  21484.044922  57600.0   \n",
       "\n",
       "                                                                             \\\n",
       "                   CJ제일제당        DB손해보험   DB하이텍           GKL            GS   \n",
       "Date                                                                          \n",
       "2010-01-04  193995.484375  27523.703125  7500.0  15079.077148  27447.957031   \n",
       "2010-01-05  206178.765625  27040.828125  7550.0  15842.575195  27569.951172   \n",
       "2010-01-06  206647.375000  28529.683594  7410.0  15804.404297  27854.591797   \n",
       "2010-01-07  204304.437500  28690.644531  7460.0  15613.526367  28139.236328   \n",
       "2010-01-08  204304.437500  28408.968750  7510.0  17331.396484  28017.250000   \n",
       "\n",
       "              ...    Volume                                                    \\\n",
       "              ...      현대위아       현대제철      현대중공업        현대차       현대해상 현대홈쇼핑   \n",
       "Date          ...                                                               \n",
       "2010-01-04    ...       NaN  1422792.0   327580.0  1602697.0  1317347.0   NaN   \n",
       "2010-01-05    ...       NaN  1946501.0   362845.0  3045198.0  1057926.0   NaN   \n",
       "2010-01-06    ...       NaN  1238290.0   694478.0  1681152.0  1292660.0   NaN   \n",
       "2010-01-07    ...       NaN  1290509.0  2941116.0  1736811.0   950092.0   NaN   \n",
       "2010-01-08    ...       NaN   997631.0  1834213.0  2175189.0   951793.0   NaN   \n",
       "\n",
       "                                                      \n",
       "                호텔신라         효성         후성       휴켐스  \n",
       "Date                                                  \n",
       "2010-01-04  494447.0   590567.0   784870.0  344720.0  \n",
       "2010-01-05  591959.0  1716465.0  1010749.0  671702.0  \n",
       "2010-01-06  511434.0  2139316.0  1064106.0  276467.0  \n",
       "2010-01-07  366978.0  1056023.0  2206727.0  232912.0  \n",
       "2010-01-08  343782.0  1409472.0   996558.0  181563.0  \n",
       "\n",
       "[5 rows x 1092 columns]"
      ]
     },
     "execution_count": 145,
     "metadata": {},
     "output_type": "execute_result"
    }
   ],
   "source": [
    "q.head()"
   ]
  },
  {
   "cell_type": "code",
   "execution_count": 146,
   "metadata": {},
   "outputs": [],
   "source": [
    "import time\n",
    "start = time.time()\n",
    "q = add_feature(q, 'pct_change', q.Close.pct_change())\n",
    "for i in range(3, 31, 2):\n",
    "    q = add_feature(q, \"close_ma_{}\".format(i), q.Close.rolling(window=i).mean())\n",
    "    q = add_feature(q, \"volume_ma_{}\".format(i), q.Volume.rolling(window=i).mean())\n",
    "for i in [7, 21, 30, 60, 90, 91, 100, 120]:\n",
    "    q = add_feature(q, \"his_vol_{}\".format(i), q['pct_change'].rolling(window=i).std()*(252**0.5))\n",
    "for i in [1, 3, 5, 7, 10, 12, 14, 16]:\n",
    "    q = add_feature(q, 'returnsClosePrevRaw{}'.format(i), np.log(q.Open / q.Close.shift(1)))\n",
    "    q = add_feature(q, 'returnsOpenPrevRaw{}'.format(i), np.log(q.Open / q.Open.shift(1)))\n",
    "for i in [1, 3, 5, 7, 10]:\n",
    "    q = add_feature(q, 'Y3_{}'.format(i), \n",
    "                    np.where(q.Close.rolling(5).mean() - q.Close.shift(1).rolling(10).mean() >=0, 1, 0))\n",
    "    for shift in [1, 2, 3, 4, 5]:\n",
    "        q = add_feature(q, 'sh{}_Y3_{}'.format(shift, i), \n",
    "                    q['Y3_{}'.format(i)].shift(-1*shift))\n",
    "elapse = time.time() - start"
   ]
  },
  {
   "cell_type": "code",
   "execution_count": 147,
   "metadata": {},
   "outputs": [
    {
     "name": "stdout",
     "output_type": "stream",
     "text": [
      "23.961437940597534\n"
     ]
    }
   ],
   "source": [
    "print(elapse)"
   ]
  },
  {
   "cell_type": "code",
   "execution_count": 148,
   "metadata": {},
   "outputs": [],
   "source": [
    "# Adjust Time Period\n",
    "q2 = q.loc['2013-07-01':'2018-07-01'].copy()"
   ]
  },
  {
   "cell_type": "code",
   "execution_count": 149,
   "metadata": {},
   "outputs": [
    {
     "data": {
      "text/html": [
       "<div>\n",
       "<style scoped>\n",
       "    .dataframe tbody tr th:only-of-type {\n",
       "        vertical-align: middle;\n",
       "    }\n",
       "\n",
       "    .dataframe tbody tr th {\n",
       "        vertical-align: top;\n",
       "    }\n",
       "\n",
       "    .dataframe thead tr th {\n",
       "        text-align: left;\n",
       "    }\n",
       "\n",
       "    .dataframe thead tr:last-of-type th {\n",
       "        text-align: right;\n",
       "    }\n",
       "</style>\n",
       "<table border=\"1\" class=\"dataframe\">\n",
       "  <thead>\n",
       "    <tr>\n",
       "      <th></th>\n",
       "      <th colspan=\"10\" halign=\"left\">Adj Close</th>\n",
       "      <th>...</th>\n",
       "      <th colspan=\"10\" halign=\"left\">sh5_Y3_10</th>\n",
       "    </tr>\n",
       "    <tr>\n",
       "      <th></th>\n",
       "      <th>AK홀딩스</th>\n",
       "      <th>BNK금융지주</th>\n",
       "      <th>CJ</th>\n",
       "      <th>CJ CGV</th>\n",
       "      <th>CJ대한통운</th>\n",
       "      <th>CJ제일제당</th>\n",
       "      <th>DB손해보험</th>\n",
       "      <th>DB하이텍</th>\n",
       "      <th>GKL</th>\n",
       "      <th>GS</th>\n",
       "      <th>...</th>\n",
       "      <th>현대위아</th>\n",
       "      <th>현대제철</th>\n",
       "      <th>현대중공업</th>\n",
       "      <th>현대차</th>\n",
       "      <th>현대해상</th>\n",
       "      <th>현대홈쇼핑</th>\n",
       "      <th>호텔신라</th>\n",
       "      <th>효성</th>\n",
       "      <th>후성</th>\n",
       "      <th>휴켐스</th>\n",
       "    </tr>\n",
       "    <tr>\n",
       "      <th>Date</th>\n",
       "      <th></th>\n",
       "      <th></th>\n",
       "      <th></th>\n",
       "      <th></th>\n",
       "      <th></th>\n",
       "      <th></th>\n",
       "      <th></th>\n",
       "      <th></th>\n",
       "      <th></th>\n",
       "      <th></th>\n",
       "      <th></th>\n",
       "      <th></th>\n",
       "      <th></th>\n",
       "      <th></th>\n",
       "      <th></th>\n",
       "      <th></th>\n",
       "      <th></th>\n",
       "      <th></th>\n",
       "      <th></th>\n",
       "      <th></th>\n",
       "      <th></th>\n",
       "    </tr>\n",
       "  </thead>\n",
       "  <tbody>\n",
       "    <tr>\n",
       "      <th>2013-07-01</th>\n",
       "      <td>26722.099609</td>\n",
       "      <td>12409.956055</td>\n",
       "      <td>117000.0</td>\n",
       "      <td>49895.128906</td>\n",
       "      <td>98200.0</td>\n",
       "      <td>246251.718750</td>\n",
       "      <td>41898.656250</td>\n",
       "      <td>6860.0</td>\n",
       "      <td>28783.619141</td>\n",
       "      <td>44063.058594</td>\n",
       "      <td>...</td>\n",
       "      <td>0.0</td>\n",
       "      <td>0.0</td>\n",
       "      <td>1.0</td>\n",
       "      <td>1.0</td>\n",
       "      <td>1.0</td>\n",
       "      <td>1.0</td>\n",
       "      <td>1.0</td>\n",
       "      <td>1.0</td>\n",
       "      <td>1.0</td>\n",
       "      <td>0.0</td>\n",
       "    </tr>\n",
       "    <tr>\n",
       "      <th>2013-07-02</th>\n",
       "      <td>27397.300781</td>\n",
       "      <td>12705.503906</td>\n",
       "      <td>119500.0</td>\n",
       "      <td>49895.128906</td>\n",
       "      <td>101500.0</td>\n",
       "      <td>260737.062500</td>\n",
       "      <td>42340.625000</td>\n",
       "      <td>6700.0</td>\n",
       "      <td>29079.919922</td>\n",
       "      <td>43802.839844</td>\n",
       "      <td>...</td>\n",
       "      <td>1.0</td>\n",
       "      <td>0.0</td>\n",
       "      <td>1.0</td>\n",
       "      <td>0.0</td>\n",
       "      <td>1.0</td>\n",
       "      <td>1.0</td>\n",
       "      <td>1.0</td>\n",
       "      <td>1.0</td>\n",
       "      <td>1.0</td>\n",
       "      <td>1.0</td>\n",
       "    </tr>\n",
       "    <tr>\n",
       "      <th>2013-07-03</th>\n",
       "      <td>27686.699219</td>\n",
       "      <td>12578.802734</td>\n",
       "      <td>118000.0</td>\n",
       "      <td>49506.082031</td>\n",
       "      <td>98000.0</td>\n",
       "      <td>253977.250000</td>\n",
       "      <td>42650.003906</td>\n",
       "      <td>6450.0</td>\n",
       "      <td>27894.708984</td>\n",
       "      <td>43152.300781</td>\n",
       "      <td>...</td>\n",
       "      <td>0.0</td>\n",
       "      <td>0.0</td>\n",
       "      <td>1.0</td>\n",
       "      <td>0.0</td>\n",
       "      <td>1.0</td>\n",
       "      <td>1.0</td>\n",
       "      <td>1.0</td>\n",
       "      <td>1.0</td>\n",
       "      <td>1.0</td>\n",
       "      <td>1.0</td>\n",
       "    </tr>\n",
       "    <tr>\n",
       "      <th>2013-07-04</th>\n",
       "      <td>27976.199219</td>\n",
       "      <td>12832.117188</td>\n",
       "      <td>117000.0</td>\n",
       "      <td>50381.433594</td>\n",
       "      <td>98000.0</td>\n",
       "      <td>256874.328125</td>\n",
       "      <td>42031.250000</td>\n",
       "      <td>6520.0</td>\n",
       "      <td>28402.658203</td>\n",
       "      <td>43976.320313</td>\n",
       "      <td>...</td>\n",
       "      <td>0.0</td>\n",
       "      <td>1.0</td>\n",
       "      <td>1.0</td>\n",
       "      <td>0.0</td>\n",
       "      <td>1.0</td>\n",
       "      <td>1.0</td>\n",
       "      <td>0.0</td>\n",
       "      <td>1.0</td>\n",
       "      <td>1.0</td>\n",
       "      <td>1.0</td>\n",
       "    </tr>\n",
       "    <tr>\n",
       "      <th>2013-07-05</th>\n",
       "      <td>28651.400391</td>\n",
       "      <td>12958.727539</td>\n",
       "      <td>118000.0</td>\n",
       "      <td>48144.421875</td>\n",
       "      <td>99100.0</td>\n",
       "      <td>255908.609375</td>\n",
       "      <td>43224.566406</td>\n",
       "      <td>7490.0</td>\n",
       "      <td>28402.658203</td>\n",
       "      <td>44670.222656</td>\n",
       "      <td>...</td>\n",
       "      <td>0.0</td>\n",
       "      <td>1.0</td>\n",
       "      <td>1.0</td>\n",
       "      <td>0.0</td>\n",
       "      <td>1.0</td>\n",
       "      <td>1.0</td>\n",
       "      <td>0.0</td>\n",
       "      <td>1.0</td>\n",
       "      <td>1.0</td>\n",
       "      <td>1.0</td>\n",
       "    </tr>\n",
       "  </tbody>\n",
       "</table>\n",
       "<p>5 rows × 16198 columns</p>\n",
       "</div>"
      ],
      "text/plain": [
       "               Adj Close                                                  \\\n",
       "                   AK홀딩스       BNK금융지주        CJ        CJ CGV    CJ대한통운   \n",
       "Date                                                                       \n",
       "2013-07-01  26722.099609  12409.956055  117000.0  49895.128906   98200.0   \n",
       "2013-07-02  27397.300781  12705.503906  119500.0  49895.128906  101500.0   \n",
       "2013-07-03  27686.699219  12578.802734  118000.0  49506.082031   98000.0   \n",
       "2013-07-04  27976.199219  12832.117188  117000.0  50381.433594   98000.0   \n",
       "2013-07-05  28651.400391  12958.727539  118000.0  48144.421875   99100.0   \n",
       "\n",
       "                                                                             \\\n",
       "                   CJ제일제당        DB손해보험   DB하이텍           GKL            GS   \n",
       "Date                                                                          \n",
       "2013-07-01  246251.718750  41898.656250  6860.0  28783.619141  44063.058594   \n",
       "2013-07-02  260737.062500  42340.625000  6700.0  29079.919922  43802.839844   \n",
       "2013-07-03  253977.250000  42650.003906  6450.0  27894.708984  43152.300781   \n",
       "2013-07-04  256874.328125  42031.250000  6520.0  28402.658203  43976.320313   \n",
       "2013-07-05  255908.609375  43224.566406  7490.0  28402.658203  44670.222656   \n",
       "\n",
       "           ...  sh5_Y3_10                                                 \n",
       "           ...       현대위아 현대제철 현대중공업  현대차 현대해상 현대홈쇼핑 호텔신라   효성   후성  휴켐스  \n",
       "Date       ...                                                            \n",
       "2013-07-01 ...        0.0  0.0   1.0  1.0  1.0   1.0  1.0  1.0  1.0  0.0  \n",
       "2013-07-02 ...        1.0  0.0   1.0  0.0  1.0   1.0  1.0  1.0  1.0  1.0  \n",
       "2013-07-03 ...        0.0  0.0   1.0  0.0  1.0   1.0  1.0  1.0  1.0  1.0  \n",
       "2013-07-04 ...        0.0  1.0   1.0  0.0  1.0   1.0  0.0  1.0  1.0  1.0  \n",
       "2013-07-05 ...        0.0  1.0   1.0  0.0  1.0   1.0  0.0  1.0  1.0  1.0  \n",
       "\n",
       "[5 rows x 16198 columns]"
      ]
     },
     "execution_count": 149,
     "metadata": {},
     "output_type": "execute_result"
    }
   ],
   "source": [
    "q2.head()"
   ]
  },
  {
   "cell_type": "code",
   "execution_count": 150,
   "metadata": {},
   "outputs": [
    {
     "data": {
      "text/plain": [
       "0"
      ]
     },
     "execution_count": 150,
     "metadata": {},
     "output_type": "execute_result"
    }
   ],
   "source": [
    "q2.isnull().sum().sum()"
   ]
  },
  {
   "cell_type": "code",
   "execution_count": 151,
   "metadata": {},
   "outputs": [],
   "source": [
    "total_col = list(q2.columns.get_level_values(0).unique())\n",
    "target_li = [col for col in total_col if col.find('Y') != -1]\n",
    "X_li = [col for col in total_col if col.find('Y') == -1]"
   ]
  },
  {
   "cell_type": "code",
   "execution_count": 152,
   "metadata": {},
   "outputs": [],
   "source": [
    "scl_q = q2.copy()"
   ]
  },
  {
   "cell_type": "code",
   "execution_count": 153,
   "metadata": {},
   "outputs": [],
   "source": [
    "scl_col = pd.MultiIndex.from_product([['scl_'+i for i in list(scl_q.columns.get_level_values(0).unique())], \n",
    "                            list(scl_q.columns.get_level_values(1).unique())])\n",
    "scl_q.columns = scl_col"
   ]
  },
  {
   "cell_type": "code",
   "execution_count": 163,
   "metadata": {},
   "outputs": [],
   "source": [
    "scl_X_li = list(scl_q.columns.get_level_values(0).unique())\n",
    "scl_li = scl_X_li.copy()\n",
    "del_li = []\n",
    "for ix, i in enumerate(scl_X_li):\n",
    "    if (i.find('returns') != -1) or (i.find('his') != -1) or (i.find('pct') != -1):\n",
    "        scl_li[ix] = scl_X_li[ix][4:]\n",
    "    elif (i.find('Y') != -1):\n",
    "        del_li.append(i)\n",
    "scl_X_li = sorted(list(set(scl_X_li) - set(del_li)))\n",
    "scl_li = sorted(list(set(scl_li) - set(del_li)))"
   ]
  },
  {
   "cell_type": "code",
   "execution_count": 164,
   "metadata": {},
   "outputs": [],
   "source": [
    "origin_X_li = [i for i in X_li if i.find('returns') != 0]\n",
    "origin_scl_X_li = [i for i in scl_li if i.find('returns') != 0]"
   ]
  },
  {
   "cell_type": "code",
   "execution_count": 169,
   "metadata": {},
   "outputs": [],
   "source": [
    "scl_q = scl_q[scl_X_li]"
   ]
  },
  {
   "cell_type": "code",
   "execution_count": 219,
   "metadata": {},
   "outputs": [],
   "source": [
    "train1, test1 = train_test_split(q2, 0.8, dtrain=True)\n",
    "train2, test2 = train_test_split(scl_q, 0.8, dtrain=True)"
   ]
  },
  {
   "cell_type": "code",
   "execution_count": 220,
   "metadata": {},
   "outputs": [],
   "source": [
    "def apply_standard_scale(train, test, predictors):\n",
    "    std_scaler = StandardScaler()\n",
    "    std_scaler.fit(train[predictors].values)\n",
    "    sub_train = std_scaler.transform(train[predictors].values)\n",
    "    sub_test = std_scaler.transform(test[predictors].values)\n",
    "    sub_train = pd.DataFrame(sub_train, columns = train.columns, index = train.index)\n",
    "    sub_test = pd.DataFrame(sub_test, columns = test.columns, index = test.index)\n",
    "    return sub_train, sub_test"
   ]
  },
  {
   "cell_type": "code",
   "execution_count": 221,
   "metadata": {},
   "outputs": [],
   "source": [
    "train2, test2 = apply_standard_scale(train2, test2, scl_X_li)"
   ]
  },
  {
   "cell_type": "code",
   "execution_count": 222,
   "metadata": {},
   "outputs": [],
   "source": [
    "train, test = pd.concat((train1, train2), axis=1), pd.concat((test1, test2), axis=1)"
   ]
  },
  {
   "cell_type": "code",
   "execution_count": 224,
   "metadata": {},
   "outputs": [],
   "source": [
    "store = (train, test, target_li, X_li, scl_X_li, scl_li)\n",
    "\n",
    "with open(\"store_학습준비파일_20181023.pickle\", 'wb') as handle:\n",
    "    pickle.dump(store, handle, protocol=pickle.HIGHEST_PROTOCOL)"
   ]
  },
  {
   "cell_type": "code",
   "execution_count": 225,
   "metadata": {},
   "outputs": [],
   "source": [
    "with open(\"store_학습준비파일_20181023.pickle\", 'rb') as handle:\n",
    "    store = pickle.load(handle)"
   ]
  },
  {
   "cell_type": "code",
   "execution_count": 227,
   "metadata": {},
   "outputs": [
    {
     "data": {
      "text/plain": [
       "['Adj Close',\n",
       " 'Close',\n",
       " 'High',\n",
       " 'Low',\n",
       " 'Open',\n",
       " 'Volume',\n",
       " 'pct_change',\n",
       " 'close_ma_3',\n",
       " 'volume_ma_3',\n",
       " 'close_ma_5',\n",
       " 'volume_ma_5',\n",
       " 'close_ma_7',\n",
       " 'volume_ma_7',\n",
       " 'close_ma_9',\n",
       " 'volume_ma_9',\n",
       " 'close_ma_11',\n",
       " 'volume_ma_11',\n",
       " 'close_ma_13',\n",
       " 'volume_ma_13',\n",
       " 'close_ma_15',\n",
       " 'volume_ma_15',\n",
       " 'close_ma_17',\n",
       " 'volume_ma_17',\n",
       " 'close_ma_19',\n",
       " 'volume_ma_19',\n",
       " 'close_ma_21',\n",
       " 'volume_ma_21',\n",
       " 'close_ma_23',\n",
       " 'volume_ma_23',\n",
       " 'close_ma_25',\n",
       " 'volume_ma_25',\n",
       " 'close_ma_27',\n",
       " 'volume_ma_27',\n",
       " 'close_ma_29',\n",
       " 'volume_ma_29',\n",
       " 'his_vol_7',\n",
       " 'his_vol_21',\n",
       " 'his_vol_30',\n",
       " 'his_vol_60',\n",
       " 'his_vol_90',\n",
       " 'his_vol_91',\n",
       " 'his_vol_100',\n",
       " 'his_vol_120',\n",
       " 'returnsClosePrevRaw1',\n",
       " 'returnsOpenPrevRaw1',\n",
       " 'returnsClosePrevRaw3',\n",
       " 'returnsOpenPrevRaw3',\n",
       " 'returnsClosePrevRaw5',\n",
       " 'returnsOpenPrevRaw5',\n",
       " 'returnsClosePrevRaw7',\n",
       " 'returnsOpenPrevRaw7',\n",
       " 'returnsClosePrevRaw10',\n",
       " 'returnsOpenPrevRaw10',\n",
       " 'returnsClosePrevRaw12',\n",
       " 'returnsOpenPrevRaw12',\n",
       " 'returnsClosePrevRaw14',\n",
       " 'returnsOpenPrevRaw14',\n",
       " 'returnsClosePrevRaw16',\n",
       " 'returnsOpenPrevRaw16']"
      ]
     },
     "execution_count": 227,
     "metadata": {},
     "output_type": "execute_result"
    }
   ],
   "source": [
    "store[3]"
   ]
  },
  {
   "cell_type": "code",
   "execution_count": 209,
   "metadata": {},
   "outputs": [],
   "source": [
    "train = train.T.swaplevel().sortlevel().T\n",
    "test = test.T.swaplevel().sortlevel().T"
   ]
  },
  {
   "cell_type": "code",
   "execution_count": 211,
   "metadata": {},
   "outputs": [],
   "source": [
    "train_df = train.copy()\n",
    "test_df = test.copy()"
   ]
  },
  {
   "cell_type": "code",
   "execution_count": 218,
   "metadata": {},
   "outputs": [
    {
     "data": {
      "text/plain": [
       "['scl_Y3_1',\n",
       " 'scl_sh1_Y3_1',\n",
       " 'scl_sh2_Y3_1',\n",
       " 'scl_sh3_Y3_1',\n",
       " 'scl_sh4_Y3_1',\n",
       " 'scl_sh5_Y3_1',\n",
       " 'scl_Y3_3',\n",
       " 'scl_sh1_Y3_3',\n",
       " 'scl_sh2_Y3_3',\n",
       " 'scl_sh3_Y3_3',\n",
       " 'scl_sh4_Y3_3',\n",
       " 'scl_sh5_Y3_3',\n",
       " 'scl_Y3_5',\n",
       " 'scl_sh1_Y3_5',\n",
       " 'scl_sh2_Y3_5',\n",
       " 'scl_sh3_Y3_5',\n",
       " 'scl_sh4_Y3_5',\n",
       " 'scl_sh5_Y3_5',\n",
       " 'scl_Y3_7',\n",
       " 'scl_sh1_Y3_7',\n",
       " 'scl_sh2_Y3_7',\n",
       " 'scl_sh3_Y3_7',\n",
       " 'scl_sh4_Y3_7',\n",
       " 'scl_sh5_Y3_7',\n",
       " 'scl_Y3_10',\n",
       " 'scl_sh1_Y3_10',\n",
       " 'scl_sh2_Y3_10',\n",
       " 'scl_sh3_Y3_10',\n",
       " 'scl_sh4_Y3_10',\n",
       " 'scl_sh5_Y3_10']"
      ]
     },
     "execution_count": 218,
     "metadata": {},
     "output_type": "execute_result"
    }
   ],
   "source": [
    "del_li"
   ]
  },
  {
   "cell_type": "markdown",
   "metadata": {},
   "source": [
    "# 부록"
   ]
  },
  {
   "cell_type": "code",
   "execution_count": 191,
   "metadata": {},
   "outputs": [
    {
     "name": "stdout",
     "output_type": "stream",
     "text": [
      "[[-0.93078392 -1.74493187 -1.2367011   1.33134267 -0.19785804]\n",
      " [-1.06270605  0.58618805  0.53996809 -0.27519374 -0.81969758]\n",
      " [ 0.12459312 -0.92699505 -0.50513144  0.48344846 -0.59357411]\n",
      " [ 0.56433356  0.29991016 -0.97542622 -1.52472205 -0.76316672]\n",
      " [-0.53501753  0.70887857  0.53996809  0.88508256  2.06337667]\n",
      " [ 1.83958082  1.07695014  1.63732258 -0.8999579   0.31091977]]\n"
     ]
    }
   ],
   "source": [
    "test = np.random.randint(1,100,(6,5))\n",
    "std = StandardScaler()\n",
    "std.fit(test)\n",
    "print(std.transform(test))"
   ]
  },
  {
   "cell_type": "code",
   "execution_count": 192,
   "metadata": {},
   "outputs": [
    {
     "data": {
      "text/plain": [
       "array([[ 4,  3, 31, 98, 53],\n",
       "       [ 1, 60, 65, 62, 42],\n",
       "       [28, 23, 45, 79, 46],\n",
       "       [38, 53, 36, 34, 43],\n",
       "       [13, 63, 65, 88, 93],\n",
       "       [67, 72, 86, 48, 62]])"
      ]
     },
     "execution_count": 192,
     "metadata": {},
     "output_type": "execute_result"
    }
   ],
   "source": [
    "test"
   ]
  },
  {
   "cell_type": "code",
   "execution_count": null,
   "metadata": {},
   "outputs": [],
   "source": [
    "t"
   ]
  }
 ],
 "metadata": {
  "kernelspec": {
   "display_name": "Python 3",
   "language": "python",
   "name": "python3"
  },
  "language_info": {
   "codemirror_mode": {
    "name": "ipython",
    "version": 3
   },
   "file_extension": ".py",
   "mimetype": "text/x-python",
   "name": "python",
   "nbconvert_exporter": "python",
   "pygments_lexer": "ipython3",
   "version": "3.6.5"
  }
 },
 "nbformat": 4,
 "nbformat_minor": 2
}
