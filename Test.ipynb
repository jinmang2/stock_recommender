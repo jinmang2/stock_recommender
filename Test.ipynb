{
 "cells": [
  {
   "cell_type": "code",
   "execution_count": 1,
   "metadata": {},
   "outputs": [],
   "source": [
    "import numpy as np\n",
    "import pandas as pd\n",
    "import matplotlib.pyplot as plt\n",
    "%matplotlib inline\n",
    "import matplotlib\n",
    "matplotlib.rc('font', family='Hancom Gothic')\n",
    "plt.rcParams['axes.unicode_minus'] = False\n",
    "plt.rcParams['axes.labelsize'] = 14\n",
    "plt.rcParams['xtick.labelsize'] = 12\n",
    "plt.rcParams['ytick.labelsize'] = 12"
   ]
  },
  {
   "cell_type": "code",
   "execution_count": 2,
   "metadata": {},
   "outputs": [
    {
     "data": {
      "text/html": [
       "<div>\n",
       "<style scoped>\n",
       "    .dataframe tbody tr th:only-of-type {\n",
       "        vertical-align: middle;\n",
       "    }\n",
       "\n",
       "    .dataframe tbody tr th {\n",
       "        vertical-align: top;\n",
       "    }\n",
       "\n",
       "    .dataframe thead th {\n",
       "        text-align: right;\n",
       "    }\n",
       "</style>\n",
       "<table border=\"1\" class=\"dataframe\">\n",
       "  <thead>\n",
       "    <tr style=\"text-align: right;\">\n",
       "      <th></th>\n",
       "      <th>종목코드</th>\n",
       "      <th>종목명</th>\n",
       "    </tr>\n",
       "  </thead>\n",
       "  <tbody>\n",
       "    <tr>\n",
       "      <th>0</th>\n",
       "      <td>006840</td>\n",
       "      <td>AK홀딩스</td>\n",
       "    </tr>\n",
       "    <tr>\n",
       "      <th>1</th>\n",
       "      <td>027410</td>\n",
       "      <td>BGF</td>\n",
       "    </tr>\n",
       "    <tr>\n",
       "      <th>2</th>\n",
       "      <td>282330</td>\n",
       "      <td>BGF리테일</td>\n",
       "    </tr>\n",
       "    <tr>\n",
       "      <th>3</th>\n",
       "      <td>138930</td>\n",
       "      <td>BNK금융지주</td>\n",
       "    </tr>\n",
       "    <tr>\n",
       "      <th>4</th>\n",
       "      <td>001040</td>\n",
       "      <td>CJ</td>\n",
       "    </tr>\n",
       "  </tbody>\n",
       "</table>\n",
       "</div>"
      ],
      "text/plain": [
       "     종목코드      종목명\n",
       "0  006840    AK홀딩스\n",
       "1  027410      BGF\n",
       "2  282330   BGF리테일\n",
       "3  138930  BNK금융지주\n",
       "4  001040       CJ"
      ]
     },
     "execution_count": 2,
     "metadata": {},
     "output_type": "execute_result"
    }
   ],
   "source": [
    "kospi200 = pd.read_csv(\"./data/data.csv\", encoding=\"cp949\")\n",
    "kospi200 = kospi200[kospi200.columns[:2]]\n",
    "kospi200[\"종목코드\"] = kospi200[\"종목코드\"].map('{:06d}'.format)\n",
    "kospi200.head()"
   ]
  },
  {
   "cell_type": "code",
   "execution_count": 3,
   "metadata": {},
   "outputs": [],
   "source": [
    "code_dict = { i : j for i, j in zip(kospi200[\"종목명\"], kospi200[\"종목코드\"]) }\n",
    "name_dict = { j : i for i, j in zip(kospi200[\"종목명\"], kospi200[\"종목코드\"]) }\n",
    "\n",
    "import pickle\n",
    "\n",
    "with open('raw_data_20180811.pickle', 'rb') as handle:\n",
    "    raw_data = pickle.load(handle)"
   ]
  },
  {
   "cell_type": "code",
   "execution_count": 4,
   "metadata": {},
   "outputs": [
    {
     "name": "stdout",
     "output_type": "stream",
     "text": [
      "['BGF리테일', 'HDC현대산업개발', 'SK케미칼', '효성중공업'] 4\n"
     ]
    }
   ],
   "source": [
    "del_list = []\n",
    "for key, df in raw_data.items():\n",
    "    if len(df) < 252:\n",
    "        del_list.append(key)\n",
    "for code in del_list:\n",
    "    del raw_data[code]\n",
    "print([name_dict[i] for i in del_list], len([name_dict[i] for i in del_list]))"
   ]
  },
  {
   "cell_type": "code",
   "execution_count": 5,
   "metadata": {},
   "outputs": [],
   "source": [
    "for i in raw_data.keys():\n",
    "    raw_data[i] = raw_data[i].assign(sum_close_7 = raw_data[i].Close.rolling(window =7).sum())\n",
    "    raw_data[i] = raw_data[i].assign(ma_3 = raw_data[i].Close.rolling(window = 3).mean())\n",
    "    raw_data[i] = raw_data[i].assign(ma_5 = raw_data[i].Close.rolling(window = 5).mean())\n",
    "    raw_data[i] = raw_data[i].assign(ma_10 = raw_data[i].Close.rolling(window = 10).mean())\n",
    "    raw_data[i] = raw_data[i].assign(ma_15 = raw_data[i].Close.rolling(window = 15).mean())\n",
    "\n",
    "for i in raw_data.keys():\n",
    "    raw_data[i] = raw_data[i].assign(pct_change7 = raw_data[i].sum_close_7.pct_change().fillna(0))\n",
    "    raw_data[i] = raw_data[i].assign(sum_7_Y = np.where(raw_data[i][\"pct_change7\"].fillna(0)>=0, 1,0))\n",
    "    \n",
    "for i in raw_data.keys():\n",
    "    raw_data[i] = raw_data[i].dropna(axis=0)"
   ]
  },
  {
   "cell_type": "code",
   "execution_count": 6,
   "metadata": {},
   "outputs": [],
   "source": [
    "train6 = {}\n",
    "train_idx6 = {}\n",
    "test6 = {}\n",
    "test_idx6 = {}\n",
    "for code, df in raw_data.items():\n",
    "    train6[code] = df.iloc[:int(len(df)*0.8)][[\"Open\",\"ma_3\",\"ma_5\", \"ma_10\"]]\n",
    "    train_idx6[code] = df.iloc[:int(len(df)*0.8)][\"sum_7_Y\"]\n",
    "    test6[code] = df.iloc[int(len(df)*0.8):][[\"Open\",\"ma_3\",\"ma_5\", \"ma_10\"]]\n",
    "    test_idx6[code] = df.iloc[int(len(df)*0.8):][\"sum_7_Y\"]"
   ]
  },
  {
   "cell_type": "code",
   "execution_count": 7,
   "metadata": {},
   "outputs": [],
   "source": [
    "from sklearn.preprocessing import StandardScaler\n",
    "\n",
    "std_scaler = StandardScaler()\n",
    "li6 = [\"Open\",\"ma_3\",\"ma_5\", \"ma_10\"]\n",
    "for code in raw_data.keys():\n",
    "    train6[code][li6] = std_scaler.fit_transform(train6[code][li6].values)\n",
    "    test6[code][li6] = std_scaler.fit_transform(test6[code][li6].values)"
   ]
  },
  {
   "cell_type": "code",
   "execution_count": 8,
   "metadata": {},
   "outputs": [],
   "source": [
    "from sklearn.linear_model import LogisticRegression\n",
    "from sklearn.tree import DecisionTreeClassifier\n",
    "from sklearn.svm import SVC\n",
    "from sklearn.metrics import accuracy_score\n",
    "\n",
    "log_clf = LogisticRegression()\n",
    "DTC_clf = DecisionTreeClassifier()\n",
    "svm_clf = SVC()"
   ]
  },
  {
   "cell_type": "code",
   "execution_count": 9,
   "metadata": {},
   "outputs": [],
   "source": [
    "from sklearn.metrics import accuracy_score\n",
    "\n",
    "score_list6 = pd.DataFrame(columns=('LR','DT','SVM'))\n",
    "\n",
    "\n",
    "for i in raw_data.keys():\n",
    "    a6=[]\n",
    "    X_train6 = train6[i].values\n",
    "    y_train6 = train_idx6[i].values\n",
    "    X_test6 = test6[i].values\n",
    "    y_test6 = test_idx6[i].values\n",
    "    for clf in (log_clf, DTC_clf, svm_clf):\n",
    "        clf.fit(X_train6, y_train6)\n",
    "        y_pred6 = clf.predict(X_test6)\n",
    "        a6.append(accuracy_score(y_test6, y_pred6))\n",
    "    score_list6.loc[i] = a6"
   ]
  },
  {
   "cell_type": "code",
   "execution_count": 10,
   "metadata": {},
   "outputs": [],
   "source": [
    "from sklearn.model_selection import cross_val_predict\n",
    "from sklearn.metrics import confusion_matrix\n",
    "from sklearn.metrics import roc_curve\n",
    "from sklearn.metrics import auc\n",
    "\n",
    "CM = pd.DataFrame(columns=('LR','DT','SVM'))\n",
    "roc_auc_score = pd.DataFrame(columns=('LR','SVM','DT'))\n",
    "y_train_5 = np.array([])\n",
    "y_scores1 = np.array([])\n",
    "y_scores2 = np.array([])\n",
    "y_scores3 = np.array([])\n",
    "\n",
    "for i in raw_data.keys():\n",
    "    b1=[]\n",
    "    b2=[]\n",
    "    X_train = train6[i].values\n",
    "    y_train = train_idx6[i].values\n",
    "    X_test = test6[i].values\n",
    "    y_test = test_idx6[i].values\n",
    "    score1=cross_val_predict(log_clf, X_train, y_train, cv=3,method=\"decision_function\")\n",
    "    score2=cross_val_predict(svm_clf, X_train, y_train, cv=3,method=\"decision_function\")\n",
    "    score3=cross_val_predict(DTC_clf, X_train, y_train, cv=3,method=\"predict_proba\")\n",
    "    fpr, tpr, thresholds = roc_curve(y_train, score1)\n",
    "    b2.append([auc(fpr, tpr)])\n",
    "    fpr, tpr, thresholds = roc_curve(y_train, score2)\n",
    "    b2.append([auc(fpr, tpr)])\n",
    "    fpr, tpr, thresholds = roc_curve(y_train, score3[:,1])\n",
    "    b2.append([auc(fpr, tpr)])\n",
    "    for clf in (log_clf, DTC_clf, svm_clf):\n",
    "        y_train_pred = cross_val_predict(clf, X_train, y_train, cv=3)\n",
    "        b1.append([confusion_matrix(y_train, y_train_pred)])\n",
    "    CM.loc[i] = b1\n",
    "    roc_auc_score.loc[i] = b2\n",
    "    y_train_5 = np.concatenate((y_train_5,y_train),axis=0)\n",
    "    y_scores1 = np.concatenate((y_scores1,score1),axis=0)\n",
    "    y_scores2 = np.concatenate((y_scores2,score2),axis=0)\n",
    "    y_scores3 = np.concatenate((y_scores3,score3[:,1]),axis=0)"
   ]
  },
  {
   "cell_type": "code",
   "execution_count": 15,
   "metadata": {},
   "outputs": [
    {
     "data": {
      "text/plain": [
       "array([-0.16855581, -0.08172658,  1.02473578, ...,  1.34734406,\n",
       "        1.00228911,  1.01792859])"
      ]
     },
     "execution_count": 15,
     "metadata": {},
     "output_type": "execute_result"
    }
   ],
   "source": [
    "score1\n"
   ]
  },
  {
   "cell_type": "code",
   "execution_count": null,
   "metadata": {},
   "outputs": [],
   "source": []
  }
 ],
 "metadata": {
  "kernelspec": {
   "display_name": "Python 3",
   "language": "python",
   "name": "python3"
  },
  "language_info": {
   "codemirror_mode": {
    "name": "ipython",
    "version": 3
   },
   "file_extension": ".py",
   "mimetype": "text/x-python",
   "name": "python",
   "nbconvert_exporter": "python",
   "pygments_lexer": "ipython3",
   "version": "3.6.5"
  }
 },
 "nbformat": 4,
 "nbformat_minor": 2
}
