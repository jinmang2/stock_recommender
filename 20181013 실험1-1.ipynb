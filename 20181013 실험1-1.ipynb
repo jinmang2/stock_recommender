{
 "cells": [
  {
   "cell_type": "code",
   "execution_count": 1,
   "metadata": {},
   "outputs": [],
   "source": [
    "%run moon_code\n",
    "with open('학습준비파일_20181013.pickle', 'rb') as handle:\n",
    "    store = pickle.load(handle)\n",
    "train, test, X_li, scl_X_li, target_li = store\n",
    "%run xgb_modelfit\n",
    "scl_li = scl_X_li.copy()\n",
    "for ix, i in enumerate(scl_X_li):\n",
    "    if (i.find('returns') != -1) or (i.find('his') != -1) or (i.find('pct') != -1):\n",
    "        scl_li[ix] = scl_X_li[ix][4:]\n",
    "origin_X = [i for i in X_li if i.find('returns') != 0]\n",
    "origin_scl_X = [i for i in scl_li if i.find('returns') != 0]"
   ]
  },
  {
   "cell_type": "code",
   "execution_count": 2,
   "metadata": {},
   "outputs": [],
   "source": [
    "import warnings\n",
    "warnings.filterwarnings(action='ignore')"
   ]
  },
  {
   "cell_type": "markdown",
   "metadata": {},
   "source": [
    "# 실험 1-1\n",
    "- Predictors : Scaled\n",
    "- Target : Y1"
   ]
  },
  {
   "cell_type": "code",
   "execution_count": 3,
   "metadata": {},
   "outputs": [],
   "source": [
    "predictors = scl_li.copy()\n",
    "target = 'Y1'"
   ]
  },
  {
   "cell_type": "code",
   "execution_count": 4,
   "metadata": {},
   "outputs": [],
   "source": [
    "result, fi_dict = temp_calc_feature_importance(alg, train, test, predictors, target)"
   ]
  },
  {
   "cell_type": "code",
   "execution_count": 5,
   "metadata": {},
   "outputs": [
    {
     "data": {
      "text/html": [
       "<div>\n",
       "<style scoped>\n",
       "    .dataframe tbody tr th:only-of-type {\n",
       "        vertical-align: middle;\n",
       "    }\n",
       "\n",
       "    .dataframe tbody tr th {\n",
       "        vertical-align: top;\n",
       "    }\n",
       "\n",
       "    .dataframe thead th {\n",
       "        text-align: right;\n",
       "    }\n",
       "</style>\n",
       "<table border=\"1\" class=\"dataframe\">\n",
       "  <thead>\n",
       "    <tr style=\"text-align: right;\">\n",
       "      <th></th>\n",
       "      <th>KB금융</th>\n",
       "      <th>LG화학</th>\n",
       "      <th>NAVER</th>\n",
       "      <th>POSCO</th>\n",
       "      <th>SK텔레콤</th>\n",
       "      <th>SK하이닉스</th>\n",
       "      <th>삼성전자</th>\n",
       "      <th>삼성중공업</th>\n",
       "      <th>셀트리온</th>\n",
       "      <th>현대건설</th>\n",
       "      <th>현대글로비스</th>\n",
       "      <th>현대차</th>\n",
       "    </tr>\n",
       "  </thead>\n",
       "  <tbody>\n",
       "    <tr>\n",
       "      <th>acc</th>\n",
       "      <td>0.524793</td>\n",
       "      <td>0.475207</td>\n",
       "      <td>0.504202</td>\n",
       "      <td>0.520661</td>\n",
       "      <td>0.417355</td>\n",
       "      <td>0.582645</td>\n",
       "      <td>0.539419</td>\n",
       "      <td>0.533058</td>\n",
       "      <td>0.413223</td>\n",
       "      <td>0.533058</td>\n",
       "      <td>0.479339</td>\n",
       "      <td>0.454545</td>\n",
       "    </tr>\n",
       "    <tr>\n",
       "      <th>f1</th>\n",
       "      <td>0.610169</td>\n",
       "      <td>0.099291</td>\n",
       "      <td>0.581560</td>\n",
       "      <td>0.340909</td>\n",
       "      <td>0.475836</td>\n",
       "      <td>0.652921</td>\n",
       "      <td>0.574713</td>\n",
       "      <td>0.198582</td>\n",
       "      <td>0.053333</td>\n",
       "      <td>0.523207</td>\n",
       "      <td>0.585526</td>\n",
       "      <td>0.312500</td>\n",
       "    </tr>\n",
       "    <tr>\n",
       "      <th>pre</th>\n",
       "      <td>0.762712</td>\n",
       "      <td>0.055118</td>\n",
       "      <td>0.780952</td>\n",
       "      <td>0.234375</td>\n",
       "      <td>0.598131</td>\n",
       "      <td>0.725191</td>\n",
       "      <td>0.663717</td>\n",
       "      <td>0.133333</td>\n",
       "      <td>0.028571</td>\n",
       "      <td>0.500000</td>\n",
       "      <td>0.908163</td>\n",
       "      <td>0.306122</td>\n",
       "    </tr>\n",
       "    <tr>\n",
       "      <th>rec</th>\n",
       "      <td>0.508475</td>\n",
       "      <td>0.500000</td>\n",
       "      <td>0.463277</td>\n",
       "      <td>0.625000</td>\n",
       "      <td>0.395062</td>\n",
       "      <td>0.593750</td>\n",
       "      <td>0.506757</td>\n",
       "      <td>0.388889</td>\n",
       "      <td>0.400000</td>\n",
       "      <td>0.548673</td>\n",
       "      <td>0.432039</td>\n",
       "      <td>0.319149</td>\n",
       "    </tr>\n",
       "    <tr>\n",
       "      <th>auc</th>\n",
       "      <td>0.538853</td>\n",
       "      <td>0.486842</td>\n",
       "      <td>0.543114</td>\n",
       "      <td>0.559923</td>\n",
       "      <td>0.428781</td>\n",
       "      <td>0.577363</td>\n",
       "      <td>0.549077</td>\n",
       "      <td>0.473571</td>\n",
       "      <td>0.406897</td>\n",
       "      <td>0.534026</td>\n",
       "      <td>0.591019</td>\n",
       "      <td>0.429845</td>\n",
       "    </tr>\n",
       "  </tbody>\n",
       "</table>\n",
       "</div>"
      ],
      "text/plain": [
       "         KB금융      LG화학     NAVER     POSCO     SK텔레콤    SK하이닉스      삼성전자  \\\n",
       "acc  0.524793  0.475207  0.504202  0.520661  0.417355  0.582645  0.539419   \n",
       "f1   0.610169  0.099291  0.581560  0.340909  0.475836  0.652921  0.574713   \n",
       "pre  0.762712  0.055118  0.780952  0.234375  0.598131  0.725191  0.663717   \n",
       "rec  0.508475  0.500000  0.463277  0.625000  0.395062  0.593750  0.506757   \n",
       "auc  0.538853  0.486842  0.543114  0.559923  0.428781  0.577363  0.549077   \n",
       "\n",
       "        삼성중공업      셀트리온      현대건설    현대글로비스       현대차  \n",
       "acc  0.533058  0.413223  0.533058  0.479339  0.454545  \n",
       "f1   0.198582  0.053333  0.523207  0.585526  0.312500  \n",
       "pre  0.133333  0.028571  0.500000  0.908163  0.306122  \n",
       "rec  0.388889  0.400000  0.548673  0.432039  0.319149  \n",
       "auc  0.473571  0.406897  0.534026  0.591019  0.429845  "
      ]
     },
     "execution_count": 5,
     "metadata": {},
     "output_type": "execute_result"
    }
   ],
   "source": [
    "pd.DataFrame(result, index=['acc','f1','pre','rec','auc'])"
   ]
  },
  {
   "cell_type": "code",
   "execution_count": 6,
   "metadata": {},
   "outputs": [
    {
     "data": {
      "text/plain": [
       "acc    0.498125\n",
       "f1     0.417379\n",
       "pre    0.474699\n",
       "rec    0.473422\n",
       "auc    0.509942\n",
       "dtype: float64"
      ]
     },
     "execution_count": 6,
     "metadata": {},
     "output_type": "execute_result"
    }
   ],
   "source": [
    "pd.DataFrame(result, index=['acc','f1','pre','rec','auc']).mean(1)"
   ]
  },
  {
   "cell_type": "code",
   "execution_count": 7,
   "metadata": {},
   "outputs": [
    {
     "data": {
      "text/plain": [
       "his_vol_7                  10\n",
       "his_vol_120                 9\n",
       "his_vol_60                  9\n",
       "his_vol_21                  8\n",
       "scl_Volume                  8\n",
       "returnsClosePrevMktres1     8\n",
       "returnsOpenPrevMktres1      7\n",
       "his_vol_100                 6\n",
       "returnsOpenPrevRaw10        6\n",
       "returnsOpenPrevRaw1         6\n",
       "dtype: int64"
      ]
     },
     "execution_count": 7,
     "metadata": {},
     "output_type": "execute_result"
    }
   ],
   "source": [
    "pd.DataFrame(fi_dict).count(1).sort_values(ascending=False)[:10]"
   ]
  },
  {
   "cell_type": "code",
   "execution_count": null,
   "metadata": {},
   "outputs": [],
   "source": []
  }
 ],
 "metadata": {
  "kernelspec": {
   "display_name": "Python 3",
   "language": "python",
   "name": "python3"
  },
  "language_info": {
   "codemirror_mode": {
    "name": "ipython",
    "version": 3
   },
   "file_extension": ".py",
   "mimetype": "text/x-python",
   "name": "python",
   "nbconvert_exporter": "python",
   "pygments_lexer": "ipython3",
   "version": "3.6.5"
  }
 },
 "nbformat": 4,
 "nbformat_minor": 2
}
