{
 "cells": [
  {
   "cell_type": "code",
   "execution_count": 1,
   "metadata": {},
   "outputs": [],
   "source": [
    "import numpy as np\n",
    "import pandas as pd\n",
    "import matplotlib.pyplot as plt\n",
    "%matplotlib inline\n",
    "\n",
    "import matplotlib\n",
    "matplotlib.rcParams['axes.unicode_minus'] = False\n",
    "\n",
    "from matplotlib import font_manager, rc\n",
    "font_name = font_manager.FontProperties(fname=\"c:/Windows/Fonts/malgun.ttf\").get_name()\n",
    "rc('font', family=font_name)"
   ]
  },
  {
   "cell_type": "code",
   "execution_count": 44,
   "metadata": {},
   "outputs": [],
   "source": [
    "import pickle\n",
    "with open('raw_data_20181008.pickle', 'rb') as handle:\n",
    "    raw_data = pickle.load(handle)\n",
    "    \n",
    "copy_keys = list(raw_data.keys())\n",
    "for stock in copy_keys:\n",
    "    if len(raw_data[stock].loc[:'2013-01-01']) < 1:\n",
    "        del raw_data[stock]\n",
    "del copy_keys\n",
    "\n",
    "# stock에서 Volume==0인 index, stock에서 제외\n",
    "for key, df in raw_data.items():\n",
    "    raw_data[key] = df.drop(df.index[np.where(df.Volume==0)[0]], axis=0)\n",
    "    del df['Adj Close']\n",
    "    df.Volume = df.Volume / 1e7"
   ]
  },
  {
   "cell_type": "code",
   "execution_count": 54,
   "metadata": {
    "scrolled": true
   },
   "outputs": [
    {
     "name": "stdout",
     "output_type": "stream",
     "text": [
      "삼성전자\n"
     ]
    }
   ],
   "source": [
    "for key, df in raw_data.items():\n",
    "    if key != '삼성전자':\n",
    "        continue\n",
    "    print(key)\n",
    "    for i in range(1, 91):\n",
    "        df['Y{}'.format(i)] = df['Close'].shift(-1*i) - df['Close']\n",
    "\n",
    "    # RSI\n",
    "    U = np.where(df.Close.diff(1) > 0, df.Close.diff(1), 0)\n",
    "    D = np.where(df.Close.diff(1) < 0, df.Close.diff(1)*(-1), 0)\n",
    "    m_N = 14\n",
    "    AU = pd.DataFrame(U).rolling(window=m_N, min_periods=m_N).mean()\n",
    "    AD = pd.DataFrame(D).rolling(window=m_N, min_periods=m_N).mean()\n",
    "    RSI = AU.div(AD+AU)*100\n",
    "    df['rsi'] = RSI.values\n",
    "\n",
    "    # William%R\n",
    "    n = 14\n",
    "    W_R = -100 * ((df.High.rolling(n).max() - df.Close) / \n",
    "       (df.High.rolling(n).max() - df.Low.rolling(n).min()))\n",
    "    df['w_r'] = W_R\n",
    "\n",
    "    # Stochastic Oscillator\n",
    "    percent_K = 100 * ((df.Close - df.Low.rolling(n).min()) / \n",
    "       (df.High.rolling(n).max() - df.Low.rolling(n).min()))\n",
    "    df['sto_K'] = percent_K\n",
    "\n",
    "    # Commodity Channel Index\n",
    "    TP = (df.Close + df.Low + df.High) / 3\n",
    "    window = 20\n",
    "    dataX = []\n",
    "    for i in range(len(TP) - window+1):\n",
    "        a = TP.values[i:(i+window)]\n",
    "        dataX.append(a)\n",
    "    dataMean = [i.mean() for i in dataX]\n",
    "    AVEDEV = [abs(x - mean).mean() for x, mean \n",
    "              in zip(dataX, dataMean)]\n",
    "    for i in range(window-1):\n",
    "        AVEDEV.insert(0,np.nan)\n",
    "    AVEDEV = pd.Series(AVEDEV, index = TP.index)\n",
    "    CCI = (TP - TP.rolling(20).mean()) / (0.015 * AVEDEV)\n",
    "    df['cci'] = CCI\n",
    "\n",
    "    # Disparity Index\n",
    "    DI5 = 100 * ((df.Close - df.Close.rolling(5).mean()) / \n",
    "                df.Close.rolling(5).mean())\n",
    "    DI10 = 100 * ((df.Close - df.Close.rolling(10).mean()) / \n",
    "                df.Close.rolling(10).mean())\n",
    "    df['di5'] = DI5\n",
    "    df['di10'] = DI10\n",
    "\n",
    "    # Volume Prce Trend\n",
    "    VPT = pd.Series(index=df.index)\n",
    "    VPT.iloc[0] = 0\n",
    "    for n in range(1, len(VPT)):\n",
    "        VPT.iloc[n] = VPT.iloc[n-1] + ((df.Close.diff(1) / df.Close) * df.Volume).iloc[n]\n",
    "    df['vpt'] = VPT"
   ]
  },
  {
   "cell_type": "code",
   "execution_count": 55,
   "metadata": {},
   "outputs": [],
   "source": [
    "for key, df in raw_data.items():\n",
    "    raw_data[key] = df.dropna()"
   ]
  },
  {
   "cell_type": "code",
   "execution_count": 56,
   "metadata": {},
   "outputs": [],
   "source": [
    "y_li = [col for col in raw_data['삼성전자'].columns if col.find('Y') != -1]\n",
    "X_li = [col for col in raw_data['삼성전자'].columns if col.find('Y') == -1]"
   ]
  },
  {
   "cell_type": "code",
   "execution_count": 57,
   "metadata": {},
   "outputs": [],
   "source": [
    "from sklearn.ensemble import RandomForestClassifier\n",
    "from sklearn import metrics\n",
    "import time\n",
    "from xgboost import XGBRegressor"
   ]
  },
  {
   "cell_type": "code",
   "execution_count": 68,
   "metadata": {},
   "outputs": [
    {
     "name": "stderr",
     "output_type": "stream",
     "text": [
      "C:\\Users\\JinMyungHun\\Anaconda3\\envs\\ds\\lib\\site-packages\\sklearn\\ensemble\\forest.py:246: FutureWarning: The default value of n_estimators will change from 10 in version 0.20 to 100 in 0.22.\n",
      "  \"10 in version 0.20 to 100 in 0.22.\", FutureWarning)\n",
      "C:\\Users\\JinMyungHun\\Anaconda3\\envs\\ds\\lib\\site-packages\\sklearn\\ensemble\\forest.py:246: FutureWarning: The default value of n_estimators will change from 10 in version 0.20 to 100 in 0.22.\n",
      "  \"10 in version 0.20 to 100 in 0.22.\", FutureWarning)\n",
      "C:\\Users\\JinMyungHun\\Anaconda3\\envs\\ds\\lib\\site-packages\\sklearn\\ensemble\\forest.py:246: FutureWarning: The default value of n_estimators will change from 10 in version 0.20 to 100 in 0.22.\n",
      "  \"10 in version 0.20 to 100 in 0.22.\", FutureWarning)\n",
      "C:\\Users\\JinMyungHun\\Anaconda3\\envs\\ds\\lib\\site-packages\\sklearn\\ensemble\\forest.py:246: FutureWarning: The default value of n_estimators will change from 10 in version 0.20 to 100 in 0.22.\n",
      "  \"10 in version 0.20 to 100 in 0.22.\", FutureWarning)\n",
      "C:\\Users\\JinMyungHun\\Anaconda3\\envs\\ds\\lib\\site-packages\\sklearn\\ensemble\\forest.py:246: FutureWarning: The default value of n_estimators will change from 10 in version 0.20 to 100 in 0.22.\n",
      "  \"10 in version 0.20 to 100 in 0.22.\", FutureWarning)\n"
     ]
    },
    {
     "name": "stdout",
     "output_type": "stream",
     "text": [
      "Done : 삼성전자 \n",
      "\t0.0489 sec\n",
      "Done : 삼성전자 \n",
      "\t0.0678 sec\n",
      "Done : 삼성전자 \n",
      "\t0.0419 sec\n",
      "Done : 삼성전자 \n",
      "\t0.0409 sec\n",
      "Done : 삼성전자 \n",
      "\t0.0488 sec\n",
      "Done : 삼성전자 \n",
      "\t0.0529 sec\n",
      "Done : 삼성전자 \n",
      "\t0.0399 sec\n",
      "Done : 삼성전자 \n",
      "\t0.0379 sec\n",
      "Done : 삼성전자 \n",
      "\t0.0369 sec\n"
     ]
    },
    {
     "name": "stderr",
     "output_type": "stream",
     "text": [
      "C:\\Users\\JinMyungHun\\Anaconda3\\envs\\ds\\lib\\site-packages\\sklearn\\ensemble\\forest.py:246: FutureWarning: The default value of n_estimators will change from 10 in version 0.20 to 100 in 0.22.\n",
      "  \"10 in version 0.20 to 100 in 0.22.\", FutureWarning)\n",
      "C:\\Users\\JinMyungHun\\Anaconda3\\envs\\ds\\lib\\site-packages\\sklearn\\ensemble\\forest.py:246: FutureWarning: The default value of n_estimators will change from 10 in version 0.20 to 100 in 0.22.\n",
      "  \"10 in version 0.20 to 100 in 0.22.\", FutureWarning)\n",
      "C:\\Users\\JinMyungHun\\Anaconda3\\envs\\ds\\lib\\site-packages\\sklearn\\ensemble\\forest.py:246: FutureWarning: The default value of n_estimators will change from 10 in version 0.20 to 100 in 0.22.\n",
      "  \"10 in version 0.20 to 100 in 0.22.\", FutureWarning)\n",
      "C:\\Users\\JinMyungHun\\Anaconda3\\envs\\ds\\lib\\site-packages\\sklearn\\ensemble\\forest.py:246: FutureWarning: The default value of n_estimators will change from 10 in version 0.20 to 100 in 0.22.\n",
      "  \"10 in version 0.20 to 100 in 0.22.\", FutureWarning)\n",
      "C:\\Users\\JinMyungHun\\Anaconda3\\envs\\ds\\lib\\site-packages\\sklearn\\ensemble\\forest.py:246: FutureWarning: The default value of n_estimators will change from 10 in version 0.20 to 100 in 0.22.\n",
      "  \"10 in version 0.20 to 100 in 0.22.\", FutureWarning)\n"
     ]
    },
    {
     "name": "stdout",
     "output_type": "stream",
     "text": [
      "Done : 삼성전자 \n",
      "\t0.0409 sec\n",
      "Done : 삼성전자 \n",
      "\t0.0409 sec\n",
      "Done : 삼성전자 \n",
      "\t0.0389 sec\n",
      "Done : 삼성전자 \n",
      "\t0.0369 sec\n",
      "Done : 삼성전자 \n",
      "\t0.0369 sec\n",
      "Done : 삼성전자 \n",
      "\t0.0379 sec"
     ]
    },
    {
     "name": "stderr",
     "output_type": "stream",
     "text": [
      "C:\\Users\\JinMyungHun\\Anaconda3\\envs\\ds\\lib\\site-packages\\sklearn\\ensemble\\forest.py:246: FutureWarning: The default value of n_estimators will change from 10 in version 0.20 to 100 in 0.22.\n",
      "  \"10 in version 0.20 to 100 in 0.22.\", FutureWarning)\n",
      "C:\\Users\\JinMyungHun\\Anaconda3\\envs\\ds\\lib\\site-packages\\sklearn\\ensemble\\forest.py:246: FutureWarning: The default value of n_estimators will change from 10 in version 0.20 to 100 in 0.22.\n",
      "  \"10 in version 0.20 to 100 in 0.22.\", FutureWarning)\n",
      "C:\\Users\\JinMyungHun\\Anaconda3\\envs\\ds\\lib\\site-packages\\sklearn\\ensemble\\forest.py:246: FutureWarning: The default value of n_estimators will change from 10 in version 0.20 to 100 in 0.22.\n",
      "  \"10 in version 0.20 to 100 in 0.22.\", FutureWarning)\n",
      "C:\\Users\\JinMyungHun\\Anaconda3\\envs\\ds\\lib\\site-packages\\sklearn\\ensemble\\forest.py:246: FutureWarning: The default value of n_estimators will change from 10 in version 0.20 to 100 in 0.22.\n",
      "  \"10 in version 0.20 to 100 in 0.22.\", FutureWarning)\n",
      "C:\\Users\\JinMyungHun\\Anaconda3\\envs\\ds\\lib\\site-packages\\sklearn\\ensemble\\forest.py:246: FutureWarning: The default value of n_estimators will change from 10 in version 0.20 to 100 in 0.22.\n",
      "  \"10 in version 0.20 to 100 in 0.22.\", FutureWarning)\n",
      "C:\\Users\\JinMyungHun\\Anaconda3\\envs\\ds\\lib\\site-packages\\sklearn\\ensemble\\forest.py:246: FutureWarning: The default value of n_estimators will change from 10 in version 0.20 to 100 in 0.22.\n",
      "  \"10 in version 0.20 to 100 in 0.22.\", FutureWarning)\n",
      "C:\\Users\\JinMyungHun\\Anaconda3\\envs\\ds\\lib\\site-packages\\sklearn\\ensemble\\forest.py:246: FutureWarning: The default value of n_estimators will change from 10 in version 0.20 to 100 in 0.22.\n",
      "  \"10 in version 0.20 to 100 in 0.22.\", FutureWarning)\n",
      "C:\\Users\\JinMyungHun\\Anaconda3\\envs\\ds\\lib\\site-packages\\sklearn\\ensemble\\forest.py:246: FutureWarning: The default value of n_estimators will change from 10 in version 0.20 to 100 in 0.22.\n",
      "  \"10 in version 0.20 to 100 in 0.22.\", FutureWarning)\n",
      "C:\\Users\\JinMyungHun\\Anaconda3\\envs\\ds\\lib\\site-packages\\sklearn\\ensemble\\forest.py:246: FutureWarning: The default value of n_estimators will change from 10 in version 0.20 to 100 in 0.22.\n",
      "  \"10 in version 0.20 to 100 in 0.22.\", FutureWarning)\n"
     ]
    },
    {
     "name": "stdout",
     "output_type": "stream",
     "text": [
      "\n",
      "Done : 삼성전자 \n",
      "\t0.0468 sec\n",
      "Done : 삼성전자 \n",
      "\t0.0409 sec\n",
      "Done : 삼성전자 \n",
      "\t0.0499 sec\n",
      "Done : 삼성전자 \n",
      "\t0.0469 sec\n",
      "Done :"
     ]
    },
    {
     "name": "stderr",
     "output_type": "stream",
     "text": [
      "C:\\Users\\JinMyungHun\\Anaconda3\\envs\\ds\\lib\\site-packages\\sklearn\\ensemble\\forest.py:246: FutureWarning: The default value of n_estimators will change from 10 in version 0.20 to 100 in 0.22.\n",
      "  \"10 in version 0.20 to 100 in 0.22.\", FutureWarning)\n",
      "C:\\Users\\JinMyungHun\\Anaconda3\\envs\\ds\\lib\\site-packages\\sklearn\\ensemble\\forest.py:246: FutureWarning: The default value of n_estimators will change from 10 in version 0.20 to 100 in 0.22.\n",
      "  \"10 in version 0.20 to 100 in 0.22.\", FutureWarning)\n",
      "C:\\Users\\JinMyungHun\\Anaconda3\\envs\\ds\\lib\\site-packages\\sklearn\\ensemble\\forest.py:246: FutureWarning: The default value of n_estimators will change from 10 in version 0.20 to 100 in 0.22.\n",
      "  \"10 in version 0.20 to 100 in 0.22.\", FutureWarning)\n",
      "C:\\Users\\JinMyungHun\\Anaconda3\\envs\\ds\\lib\\site-packages\\sklearn\\ensemble\\forest.py:246: FutureWarning: The default value of n_estimators will change from 10 in version 0.20 to 100 in 0.22.\n",
      "  \"10 in version 0.20 to 100 in 0.22.\", FutureWarning)\n"
     ]
    },
    {
     "name": "stdout",
     "output_type": "stream",
     "text": [
      " 삼성전자 \n",
      "\t0.0539 sec\n",
      "Done : 삼성전자 \n",
      "\t0.0499 sec\n",
      "Done : 삼성전자 \n",
      "\t0.0469 sec\n",
      "Done : 삼성전자 \n",
      "\t0.0449 sec\n"
     ]
    },
    {
     "name": "stderr",
     "output_type": "stream",
     "text": [
      "C:\\Users\\JinMyungHun\\Anaconda3\\envs\\ds\\lib\\site-packages\\sklearn\\ensemble\\forest.py:246: FutureWarning: The default value of n_estimators will change from 10 in version 0.20 to 100 in 0.22.\n",
      "  \"10 in version 0.20 to 100 in 0.22.\", FutureWarning)\n",
      "C:\\Users\\JinMyungHun\\Anaconda3\\envs\\ds\\lib\\site-packages\\sklearn\\ensemble\\forest.py:246: FutureWarning: The default value of n_estimators will change from 10 in version 0.20 to 100 in 0.22.\n",
      "  \"10 in version 0.20 to 100 in 0.22.\", FutureWarning)\n",
      "C:\\Users\\JinMyungHun\\Anaconda3\\envs\\ds\\lib\\site-packages\\sklearn\\ensemble\\forest.py:246: FutureWarning: The default value of n_estimators will change from 10 in version 0.20 to 100 in 0.22.\n",
      "  \"10 in version 0.20 to 100 in 0.22.\", FutureWarning)\n",
      "C:\\Users\\JinMyungHun\\Anaconda3\\envs\\ds\\lib\\site-packages\\sklearn\\ensemble\\forest.py:246: FutureWarning: The default value of n_estimators will change from 10 in version 0.20 to 100 in 0.22.\n",
      "  \"10 in version 0.20 to 100 in 0.22.\", FutureWarning)\n",
      "C:\\Users\\JinMyungHun\\Anaconda3\\envs\\ds\\lib\\site-packages\\sklearn\\ensemble\\forest.py:246: FutureWarning: The default value of n_estimators will change from 10 in version 0.20 to 100 in 0.22.\n",
      "  \"10 in version 0.20 to 100 in 0.22.\", FutureWarning)\n"
     ]
    },
    {
     "name": "stdout",
     "output_type": "stream",
     "text": [
      "Done : 삼성전자 \n",
      "\t0.0578 sec\n",
      "Done : 삼성전자 \n",
      "\t0.0459 sec\n",
      "Done : 삼성전자 \n",
      "\t0.0429 sec\n",
      "Done : 삼성전자 \n",
      "\t0.0359 sec\n",
      "Done : 삼성전자 \n",
      "\t0.0399 sec\n"
     ]
    },
    {
     "name": "stderr",
     "output_type": "stream",
     "text": [
      "C:\\Users\\JinMyungHun\\Anaconda3\\envs\\ds\\lib\\site-packages\\sklearn\\ensemble\\forest.py:246: FutureWarning: The default value of n_estimators will change from 10 in version 0.20 to 100 in 0.22.\n",
      "  \"10 in version 0.20 to 100 in 0.22.\", FutureWarning)\n",
      "C:\\Users\\JinMyungHun\\Anaconda3\\envs\\ds\\lib\\site-packages\\sklearn\\ensemble\\forest.py:246: FutureWarning: The default value of n_estimators will change from 10 in version 0.20 to 100 in 0.22.\n",
      "  \"10 in version 0.20 to 100 in 0.22.\", FutureWarning)\n",
      "C:\\Users\\JinMyungHun\\Anaconda3\\envs\\ds\\lib\\site-packages\\sklearn\\ensemble\\forest.py:246: FutureWarning: The default value of n_estimators will change from 10 in version 0.20 to 100 in 0.22.\n",
      "  \"10 in version 0.20 to 100 in 0.22.\", FutureWarning)\n",
      "C:\\Users\\JinMyungHun\\Anaconda3\\envs\\ds\\lib\\site-packages\\sklearn\\ensemble\\forest.py:246: FutureWarning: The default value of n_estimators will change from 10 in version 0.20 to 100 in 0.22.\n",
      "  \"10 in version 0.20 to 100 in 0.22.\", FutureWarning)\n"
     ]
    },
    {
     "name": "stdout",
     "output_type": "stream",
     "text": [
      "Done : 삼성전자 \n",
      "\t0.0499 sec\n",
      "Done : 삼성전자 \n",
      "\t0.0349 sec\n",
      "Done : 삼성전자 \n",
      "\t0.0339 sec\n",
      "Done : 삼성전자 \n",
      "\t0.0339 sec\n",
      "Done : 삼성전자 \n",
      "\t0.0389 sec\n",
      "Done :"
     ]
    },
    {
     "name": "stderr",
     "output_type": "stream",
     "text": [
      "C:\\Users\\JinMyungHun\\Anaconda3\\envs\\ds\\lib\\site-packages\\sklearn\\ensemble\\forest.py:246: FutureWarning: The default value of n_estimators will change from 10 in version 0.20 to 100 in 0.22.\n",
      "  \"10 in version 0.20 to 100 in 0.22.\", FutureWarning)\n",
      "C:\\Users\\JinMyungHun\\Anaconda3\\envs\\ds\\lib\\site-packages\\sklearn\\ensemble\\forest.py:246: FutureWarning: The default value of n_estimators will change from 10 in version 0.20 to 100 in 0.22.\n",
      "  \"10 in version 0.20 to 100 in 0.22.\", FutureWarning)\n",
      "C:\\Users\\JinMyungHun\\Anaconda3\\envs\\ds\\lib\\site-packages\\sklearn\\ensemble\\forest.py:246: FutureWarning: The default value of n_estimators will change from 10 in version 0.20 to 100 in 0.22.\n",
      "  \"10 in version 0.20 to 100 in 0.22.\", FutureWarning)\n",
      "C:\\Users\\JinMyungHun\\Anaconda3\\envs\\ds\\lib\\site-packages\\sklearn\\ensemble\\forest.py:246: FutureWarning: The default value of n_estimators will change from 10 in version 0.20 to 100 in 0.22.\n",
      "  \"10 in version 0.20 to 100 in 0.22.\", FutureWarning)\n",
      "C:\\Users\\JinMyungHun\\Anaconda3\\envs\\ds\\lib\\site-packages\\sklearn\\ensemble\\forest.py:246: FutureWarning: The default value of n_estimators will change from 10 in version 0.20 to 100 in 0.22.\n",
      "  \"10 in version 0.20 to 100 in 0.22.\", FutureWarning)\n"
     ]
    },
    {
     "name": "stdout",
     "output_type": "stream",
     "text": [
      " 삼성전자 \n",
      "\t0.0349 sec\n",
      "Done : 삼성전자 \n",
      "\t0.0389 sec\n",
      "Done : 삼성전자 \n",
      "\t0.0339 sec\n",
      "Done : 삼성전자 \n",
      "\t0.0339 sec\n",
      "Done : 삼성전자 \n",
      "\t0.0399 sec\n",
      "Done : 삼성전자 \n",
      "\t0.0349 sec\n"
     ]
    },
    {
     "name": "stderr",
     "output_type": "stream",
     "text": [
      "C:\\Users\\JinMyungHun\\Anaconda3\\envs\\ds\\lib\\site-packages\\sklearn\\ensemble\\forest.py:246: FutureWarning: The default value of n_estimators will change from 10 in version 0.20 to 100 in 0.22.\n",
      "  \"10 in version 0.20 to 100 in 0.22.\", FutureWarning)\n",
      "C:\\Users\\JinMyungHun\\Anaconda3\\envs\\ds\\lib\\site-packages\\sklearn\\ensemble\\forest.py:246: FutureWarning: The default value of n_estimators will change from 10 in version 0.20 to 100 in 0.22.\n",
      "  \"10 in version 0.20 to 100 in 0.22.\", FutureWarning)\n",
      "C:\\Users\\JinMyungHun\\Anaconda3\\envs\\ds\\lib\\site-packages\\sklearn\\ensemble\\forest.py:246: FutureWarning: The default value of n_estimators will change from 10 in version 0.20 to 100 in 0.22.\n",
      "  \"10 in version 0.20 to 100 in 0.22.\", FutureWarning)\n",
      "C:\\Users\\JinMyungHun\\Anaconda3\\envs\\ds\\lib\\site-packages\\sklearn\\ensemble\\forest.py:246: FutureWarning: The default value of n_estimators will change from 10 in version 0.20 to 100 in 0.22.\n",
      "  \"10 in version 0.20 to 100 in 0.22.\", FutureWarning)\n",
      "C:\\Users\\JinMyungHun\\Anaconda3\\envs\\ds\\lib\\site-packages\\sklearn\\ensemble\\forest.py:246: FutureWarning: The default value of n_estimators will change from 10 in version 0.20 to 100 in 0.22.\n",
      "  \"10 in version 0.20 to 100 in 0.22.\", FutureWarning)\n"
     ]
    },
    {
     "name": "stdout",
     "output_type": "stream",
     "text": [
      "Done : 삼성전자 \n",
      "\t0.0409 sec\n",
      "Done : 삼성전자 \n",
      "\t0.0360 sec\n",
      "Done : 삼성전자 \n",
      "\t0.0349 sec\n",
      "Done : 삼성전자 \n",
      "\t0.0399 sec\n",
      "Done : 삼성전자 \n",
      "\t0.0349 sec\n",
      "Done :"
     ]
    },
    {
     "name": "stderr",
     "output_type": "stream",
     "text": [
      "C:\\Users\\JinMyungHun\\Anaconda3\\envs\\ds\\lib\\site-packages\\sklearn\\ensemble\\forest.py:246: FutureWarning: The default value of n_estimators will change from 10 in version 0.20 to 100 in 0.22.\n",
      "  \"10 in version 0.20 to 100 in 0.22.\", FutureWarning)\n",
      "C:\\Users\\JinMyungHun\\Anaconda3\\envs\\ds\\lib\\site-packages\\sklearn\\ensemble\\forest.py:246: FutureWarning: The default value of n_estimators will change from 10 in version 0.20 to 100 in 0.22.\n",
      "  \"10 in version 0.20 to 100 in 0.22.\", FutureWarning)\n",
      "C:\\Users\\JinMyungHun\\Anaconda3\\envs\\ds\\lib\\site-packages\\sklearn\\ensemble\\forest.py:246: FutureWarning: The default value of n_estimators will change from 10 in version 0.20 to 100 in 0.22.\n",
      "  \"10 in version 0.20 to 100 in 0.22.\", FutureWarning)\n",
      "C:\\Users\\JinMyungHun\\Anaconda3\\envs\\ds\\lib\\site-packages\\sklearn\\ensemble\\forest.py:246: FutureWarning: The default value of n_estimators will change from 10 in version 0.20 to 100 in 0.22.\n",
      "  \"10 in version 0.20 to 100 in 0.22.\", FutureWarning)\n",
      "C:\\Users\\JinMyungHun\\Anaconda3\\envs\\ds\\lib\\site-packages\\sklearn\\ensemble\\forest.py:246: FutureWarning: The default value of n_estimators will change from 10 in version 0.20 to 100 in 0.22.\n",
      "  \"10 in version 0.20 to 100 in 0.22.\", FutureWarning)\n",
      "C:\\Users\\JinMyungHun\\Anaconda3\\envs\\ds\\lib\\site-packages\\sklearn\\ensemble\\forest.py:246: FutureWarning: The default value of n_estimators will change from 10 in version 0.20 to 100 in 0.22.\n",
      "  \"10 in version 0.20 to 100 in 0.22.\", FutureWarning)\n"
     ]
    },
    {
     "name": "stdout",
     "output_type": "stream",
     "text": [
      " 삼성전자 \n",
      "\t0.0329 sec\n",
      "Done : 삼성전자 \n",
      "\t0.0379 sec\n",
      "Done : 삼성전자 \n",
      "\t0.0329 sec\n",
      "Done : 삼성전자 \n",
      "\t0.0339 sec\n",
      "Done : 삼성전자 \n",
      "\t0.0329 sec\n",
      "Done : 삼성전자 \n",
      "\t0.0319 sec\n"
     ]
    },
    {
     "name": "stderr",
     "output_type": "stream",
     "text": [
      "C:\\Users\\JinMyungHun\\Anaconda3\\envs\\ds\\lib\\site-packages\\sklearn\\ensemble\\forest.py:246: FutureWarning: The default value of n_estimators will change from 10 in version 0.20 to 100 in 0.22.\n",
      "  \"10 in version 0.20 to 100 in 0.22.\", FutureWarning)\n",
      "C:\\Users\\JinMyungHun\\Anaconda3\\envs\\ds\\lib\\site-packages\\sklearn\\ensemble\\forest.py:246: FutureWarning: The default value of n_estimators will change from 10 in version 0.20 to 100 in 0.22.\n",
      "  \"10 in version 0.20 to 100 in 0.22.\", FutureWarning)\n",
      "C:\\Users\\JinMyungHun\\Anaconda3\\envs\\ds\\lib\\site-packages\\sklearn\\ensemble\\forest.py:246: FutureWarning: The default value of n_estimators will change from 10 in version 0.20 to 100 in 0.22.\n",
      "  \"10 in version 0.20 to 100 in 0.22.\", FutureWarning)\n",
      "C:\\Users\\JinMyungHun\\Anaconda3\\envs\\ds\\lib\\site-packages\\sklearn\\ensemble\\forest.py:246: FutureWarning: The default value of n_estimators will change from 10 in version 0.20 to 100 in 0.22.\n",
      "  \"10 in version 0.20 to 100 in 0.22.\", FutureWarning)\n",
      "C:\\Users\\JinMyungHun\\Anaconda3\\envs\\ds\\lib\\site-packages\\sklearn\\ensemble\\forest.py:246: FutureWarning: The default value of n_estimators will change from 10 in version 0.20 to 100 in 0.22.\n",
      "  \"10 in version 0.20 to 100 in 0.22.\", FutureWarning)\n"
     ]
    },
    {
     "name": "stdout",
     "output_type": "stream",
     "text": [
      "Done : 삼성전자 \n",
      "\t0.0329 sec\n",
      "Done : 삼성전자 \n",
      "\t0.0359 sec\n",
      "Done : 삼성전자 \n",
      "\t0.0339 sec\n",
      "Done : 삼성전자 \n",
      "\t0.0379 sec\n",
      "Done : 삼성전자 \n",
      "\t0.0319 sec\n",
      "Done :"
     ]
    },
    {
     "name": "stderr",
     "output_type": "stream",
     "text": [
      "C:\\Users\\JinMyungHun\\Anaconda3\\envs\\ds\\lib\\site-packages\\sklearn\\ensemble\\forest.py:246: FutureWarning: The default value of n_estimators will change from 10 in version 0.20 to 100 in 0.22.\n",
      "  \"10 in version 0.20 to 100 in 0.22.\", FutureWarning)\n",
      "C:\\Users\\JinMyungHun\\Anaconda3\\envs\\ds\\lib\\site-packages\\sklearn\\ensemble\\forest.py:246: FutureWarning: The default value of n_estimators will change from 10 in version 0.20 to 100 in 0.22.\n",
      "  \"10 in version 0.20 to 100 in 0.22.\", FutureWarning)\n",
      "C:\\Users\\JinMyungHun\\Anaconda3\\envs\\ds\\lib\\site-packages\\sklearn\\ensemble\\forest.py:246: FutureWarning: The default value of n_estimators will change from 10 in version 0.20 to 100 in 0.22.\n",
      "  \"10 in version 0.20 to 100 in 0.22.\", FutureWarning)\n",
      "C:\\Users\\JinMyungHun\\Anaconda3\\envs\\ds\\lib\\site-packages\\sklearn\\ensemble\\forest.py:246: FutureWarning: The default value of n_estimators will change from 10 in version 0.20 to 100 in 0.22.\n",
      "  \"10 in version 0.20 to 100 in 0.22.\", FutureWarning)\n",
      "C:\\Users\\JinMyungHun\\Anaconda3\\envs\\ds\\lib\\site-packages\\sklearn\\ensemble\\forest.py:246: FutureWarning: The default value of n_estimators will change from 10 in version 0.20 to 100 in 0.22.\n",
      "  \"10 in version 0.20 to 100 in 0.22.\", FutureWarning)\n"
     ]
    },
    {
     "name": "stdout",
     "output_type": "stream",
     "text": [
      " 삼성전자 \n",
      "\t0.0319 sec\n",
      "Done : 삼성전자 \n",
      "\t0.0468 sec\n",
      "Done : 삼성전자 \n",
      "\t0.0329 sec\n",
      "Done : 삼성전자 \n",
      "\t0.0359 sec\n",
      "Done : 삼성전자 \n",
      "\t0.0329 sec\n",
      "Done : 삼성전자 \n",
      "\t0.0349 sec\n"
     ]
    },
    {
     "name": "stderr",
     "output_type": "stream",
     "text": [
      "C:\\Users\\JinMyungHun\\Anaconda3\\envs\\ds\\lib\\site-packages\\sklearn\\ensemble\\forest.py:246: FutureWarning: The default value of n_estimators will change from 10 in version 0.20 to 100 in 0.22.\n",
      "  \"10 in version 0.20 to 100 in 0.22.\", FutureWarning)\n",
      "C:\\Users\\JinMyungHun\\Anaconda3\\envs\\ds\\lib\\site-packages\\sklearn\\ensemble\\forest.py:246: FutureWarning: The default value of n_estimators will change from 10 in version 0.20 to 100 in 0.22.\n",
      "  \"10 in version 0.20 to 100 in 0.22.\", FutureWarning)\n",
      "C:\\Users\\JinMyungHun\\Anaconda3\\envs\\ds\\lib\\site-packages\\sklearn\\ensemble\\forest.py:246: FutureWarning: The default value of n_estimators will change from 10 in version 0.20 to 100 in 0.22.\n",
      "  \"10 in version 0.20 to 100 in 0.22.\", FutureWarning)\n",
      "C:\\Users\\JinMyungHun\\Anaconda3\\envs\\ds\\lib\\site-packages\\sklearn\\ensemble\\forest.py:246: FutureWarning: The default value of n_estimators will change from 10 in version 0.20 to 100 in 0.22.\n",
      "  \"10 in version 0.20 to 100 in 0.22.\", FutureWarning)\n",
      "C:\\Users\\JinMyungHun\\Anaconda3\\envs\\ds\\lib\\site-packages\\sklearn\\ensemble\\forest.py:246: FutureWarning: The default value of n_estimators will change from 10 in version 0.20 to 100 in 0.22.\n",
      "  \"10 in version 0.20 to 100 in 0.22.\", FutureWarning)\n",
      "C:\\Users\\JinMyungHun\\Anaconda3\\envs\\ds\\lib\\site-packages\\sklearn\\ensemble\\forest.py:246: FutureWarning: The default value of n_estimators will change from 10 in version 0.20 to 100 in 0.22.\n",
      "  \"10 in version 0.20 to 100 in 0.22.\", FutureWarning)\n",
      "C:\\Users\\JinMyungHun\\Anaconda3\\envs\\ds\\lib\\site-packages\\sklearn\\ensemble\\forest.py:246: FutureWarning: The default value of n_estimators will change from 10 in version 0.20 to 100 in 0.22.\n",
      "  \"10 in version 0.20 to 100 in 0.22.\", FutureWarning)\n",
      "C:\\Users\\JinMyungHun\\Anaconda3\\envs\\ds\\lib\\site-packages\\sklearn\\ensemble\\forest.py:246: FutureWarning: The default value of n_estimators will change from 10 in version 0.20 to 100 in 0.22.\n",
      "  \"10 in version 0.20 to 100 in 0.22.\", FutureWarning)\n"
     ]
    },
    {
     "name": "stdout",
     "output_type": "stream",
     "text": [
      "Done : 삼성전자 \n",
      "\t0.0369 sec\n",
      "Done : 삼성전자 \n",
      "\t0.0329 sec\n",
      "Done : 삼성전자 \n",
      "\t0.0319 sec\n",
      "Done : 삼성전자 \n",
      "\t0.0319 sec\n",
      "Done : 삼성전자 \n",
      "\t0.0358 sec\n",
      "Done : 삼성전자 \n",
      "\t0.0330 sec\n"
     ]
    },
    {
     "name": "stderr",
     "output_type": "stream",
     "text": [
      "C:\\Users\\JinMyungHun\\Anaconda3\\envs\\ds\\lib\\site-packages\\sklearn\\ensemble\\forest.py:246: FutureWarning: The default value of n_estimators will change from 10 in version 0.20 to 100 in 0.22.\n",
      "  \"10 in version 0.20 to 100 in 0.22.\", FutureWarning)\n",
      "C:\\Users\\JinMyungHun\\Anaconda3\\envs\\ds\\lib\\site-packages\\sklearn\\ensemble\\forest.py:246: FutureWarning: The default value of n_estimators will change from 10 in version 0.20 to 100 in 0.22.\n",
      "  \"10 in version 0.20 to 100 in 0.22.\", FutureWarning)\n",
      "C:\\Users\\JinMyungHun\\Anaconda3\\envs\\ds\\lib\\site-packages\\sklearn\\ensemble\\forest.py:246: FutureWarning: The default value of n_estimators will change from 10 in version 0.20 to 100 in 0.22.\n",
      "  \"10 in version 0.20 to 100 in 0.22.\", FutureWarning)\n",
      "C:\\Users\\JinMyungHun\\Anaconda3\\envs\\ds\\lib\\site-packages\\sklearn\\ensemble\\forest.py:246: FutureWarning: The default value of n_estimators will change from 10 in version 0.20 to 100 in 0.22.\n",
      "  \"10 in version 0.20 to 100 in 0.22.\", FutureWarning)\n",
      "C:\\Users\\JinMyungHun\\Anaconda3\\envs\\ds\\lib\\site-packages\\sklearn\\ensemble\\forest.py:246: FutureWarning: The default value of n_estimators will change from 10 in version 0.20 to 100 in 0.22.\n",
      "  \"10 in version 0.20 to 100 in 0.22.\", FutureWarning)\n",
      "C:\\Users\\JinMyungHun\\Anaconda3\\envs\\ds\\lib\\site-packages\\sklearn\\ensemble\\forest.py:246: FutureWarning: The default value of n_estimators will change from 10 in version 0.20 to 100 in 0.22.\n",
      "  \"10 in version 0.20 to 100 in 0.22.\", FutureWarning)\n",
      "C:\\Users\\JinMyungHun\\Anaconda3\\envs\\ds\\lib\\site-packages\\sklearn\\ensemble\\forest.py:246: FutureWarning: The default value of n_estimators will change from 10 in version 0.20 to 100 in 0.22.\n",
      "  \"10 in version 0.20 to 100 in 0.22.\", FutureWarning)\n"
     ]
    },
    {
     "name": "stdout",
     "output_type": "stream",
     "text": [
      "Done : 삼성전자 \n",
      "\t0.0329 sec\n",
      "Done : 삼성전자 \n",
      "\t0.0339 sec\n",
      "Done : 삼성전자 \n",
      "\t0.0339 sec\n",
      "Done : 삼성전자 \n",
      "\t0.0319 sec\n",
      "Done : 삼성전자 \n",
      "\t0.0329 sec\n",
      "Done : 삼성전자 \n",
      "\t0.0389 sec\n",
      "Done :"
     ]
    },
    {
     "name": "stderr",
     "output_type": "stream",
     "text": [
      "C:\\Users\\JinMyungHun\\Anaconda3\\envs\\ds\\lib\\site-packages\\sklearn\\ensemble\\forest.py:246: FutureWarning: The default value of n_estimators will change from 10 in version 0.20 to 100 in 0.22.\n",
      "  \"10 in version 0.20 to 100 in 0.22.\", FutureWarning)\n",
      "C:\\Users\\JinMyungHun\\Anaconda3\\envs\\ds\\lib\\site-packages\\sklearn\\ensemble\\forest.py:246: FutureWarning: The default value of n_estimators will change from 10 in version 0.20 to 100 in 0.22.\n",
      "  \"10 in version 0.20 to 100 in 0.22.\", FutureWarning)\n",
      "C:\\Users\\JinMyungHun\\Anaconda3\\envs\\ds\\lib\\site-packages\\sklearn\\ensemble\\forest.py:246: FutureWarning: The default value of n_estimators will change from 10 in version 0.20 to 100 in 0.22.\n",
      "  \"10 in version 0.20 to 100 in 0.22.\", FutureWarning)\n",
      "C:\\Users\\JinMyungHun\\Anaconda3\\envs\\ds\\lib\\site-packages\\sklearn\\ensemble\\forest.py:246: FutureWarning: The default value of n_estimators will change from 10 in version 0.20 to 100 in 0.22.\n",
      "  \"10 in version 0.20 to 100 in 0.22.\", FutureWarning)\n",
      "C:\\Users\\JinMyungHun\\Anaconda3\\envs\\ds\\lib\\site-packages\\sklearn\\ensemble\\forest.py:246: FutureWarning: The default value of n_estimators will change from 10 in version 0.20 to 100 in 0.22.\n",
      "  \"10 in version 0.20 to 100 in 0.22.\", FutureWarning)\n",
      "C:\\Users\\JinMyungHun\\Anaconda3\\envs\\ds\\lib\\site-packages\\sklearn\\ensemble\\forest.py:246: FutureWarning: The default value of n_estimators will change from 10 in version 0.20 to 100 in 0.22.\n",
      "  \"10 in version 0.20 to 100 in 0.22.\", FutureWarning)\n"
     ]
    },
    {
     "name": "stdout",
     "output_type": "stream",
     "text": [
      " 삼성전자 \n",
      "\t0.0329 sec\n",
      "Done : 삼성전자 \n",
      "\t0.0379 sec\n",
      "Done : 삼성전자 \n",
      "\t0.0319 sec\n",
      "Done : 삼성전자 \n",
      "\t0.0309 sec\n",
      "Done : 삼성전자 \n",
      "\t0.0319 sec\n",
      "Done : 삼성전자 \n",
      "\t0.0300 sec\n",
      "Done : 삼성전자 \n",
      "\t0.0359 sec\n"
     ]
    },
    {
     "name": "stderr",
     "output_type": "stream",
     "text": [
      "C:\\Users\\JinMyungHun\\Anaconda3\\envs\\ds\\lib\\site-packages\\sklearn\\ensemble\\forest.py:246: FutureWarning: The default value of n_estimators will change from 10 in version 0.20 to 100 in 0.22.\n",
      "  \"10 in version 0.20 to 100 in 0.22.\", FutureWarning)\n",
      "C:\\Users\\JinMyungHun\\Anaconda3\\envs\\ds\\lib\\site-packages\\sklearn\\ensemble\\forest.py:246: FutureWarning: The default value of n_estimators will change from 10 in version 0.20 to 100 in 0.22.\n",
      "  \"10 in version 0.20 to 100 in 0.22.\", FutureWarning)\n",
      "C:\\Users\\JinMyungHun\\Anaconda3\\envs\\ds\\lib\\site-packages\\sklearn\\ensemble\\forest.py:246: FutureWarning: The default value of n_estimators will change from 10 in version 0.20 to 100 in 0.22.\n",
      "  \"10 in version 0.20 to 100 in 0.22.\", FutureWarning)\n",
      "C:\\Users\\JinMyungHun\\Anaconda3\\envs\\ds\\lib\\site-packages\\sklearn\\ensemble\\forest.py:246: FutureWarning: The default value of n_estimators will change from 10 in version 0.20 to 100 in 0.22.\n",
      "  \"10 in version 0.20 to 100 in 0.22.\", FutureWarning)\n",
      "C:\\Users\\JinMyungHun\\Anaconda3\\envs\\ds\\lib\\site-packages\\sklearn\\ensemble\\forest.py:246: FutureWarning: The default value of n_estimators will change from 10 in version 0.20 to 100 in 0.22.\n",
      "  \"10 in version 0.20 to 100 in 0.22.\", FutureWarning)\n",
      "C:\\Users\\JinMyungHun\\Anaconda3\\envs\\ds\\lib\\site-packages\\sklearn\\ensemble\\forest.py:246: FutureWarning: The default value of n_estimators will change from 10 in version 0.20 to 100 in 0.22.\n",
      "  \"10 in version 0.20 to 100 in 0.22.\", FutureWarning)\n",
      "C:\\Users\\JinMyungHun\\Anaconda3\\envs\\ds\\lib\\site-packages\\sklearn\\ensemble\\forest.py:246: FutureWarning: The default value of n_estimators will change from 10 in version 0.20 to 100 in 0.22.\n",
      "  \"10 in version 0.20 to 100 in 0.22.\", FutureWarning)\n",
      "C:\\Users\\JinMyungHun\\Anaconda3\\envs\\ds\\lib\\site-packages\\sklearn\\ensemble\\forest.py:246: FutureWarning: The default value of n_estimators will change from 10 in version 0.20 to 100 in 0.22.\n",
      "  \"10 in version 0.20 to 100 in 0.22.\", FutureWarning)\n"
     ]
    },
    {
     "name": "stdout",
     "output_type": "stream",
     "text": [
      "Done : 삼성전자 \n",
      "\t0.0349 sec\n",
      "Done : 삼성전자 \n",
      "\t0.0300 sec\n",
      "Done : 삼성전자 \n",
      "\t0.0319 sec\n",
      "Done : 삼성전자 \n",
      "\t0.0310 sec\n",
      "Done : 삼성전자 \n",
      "\t0.0309 sec\n",
      "Done : 삼성전자 \n",
      "\t0.0329 sec\n",
      "Done : 삼성전자 \n",
      "\t0.0548 sec\n",
      "Done : 삼성전자 \n",
      "\t0.0349 sec\n",
      "Done : 삼성전자 \n",
      "\t0.0309 sec\n",
      "Done : 삼성전자 \n",
      "\t0.0319 sec\n"
     ]
    },
    {
     "name": "stderr",
     "output_type": "stream",
     "text": [
      "C:\\Users\\JinMyungHun\\Anaconda3\\envs\\ds\\lib\\site-packages\\sklearn\\ensemble\\forest.py:246: FutureWarning: The default value of n_estimators will change from 10 in version 0.20 to 100 in 0.22.\n",
      "  \"10 in version 0.20 to 100 in 0.22.\", FutureWarning)\n",
      "C:\\Users\\JinMyungHun\\Anaconda3\\envs\\ds\\lib\\site-packages\\sklearn\\ensemble\\forest.py:246: FutureWarning: The default value of n_estimators will change from 10 in version 0.20 to 100 in 0.22.\n",
      "  \"10 in version 0.20 to 100 in 0.22.\", FutureWarning)\n",
      "C:\\Users\\JinMyungHun\\Anaconda3\\envs\\ds\\lib\\site-packages\\sklearn\\ensemble\\forest.py:246: FutureWarning: The default value of n_estimators will change from 10 in version 0.20 to 100 in 0.22.\n",
      "  \"10 in version 0.20 to 100 in 0.22.\", FutureWarning)\n"
     ]
    }
   ],
   "source": [
    "result = {}\n",
    "start = time.time()\n",
    "\n",
    "df_y = df[y_li].apply(np.sign).replace(0,-1)\n",
    "df_X = df[X_li]\n",
    "\n",
    "for y in y_li:\n",
    "    semi_start = time.time()\n",
    "    \n",
    "    train_data = df_X.iloc[:int(0.8*len(df))].values\n",
    "    train_label = df_y.iloc[:int(0.8*len(df))][y].values\n",
    "    test_data = df_X.iloc[int(0.8*len(df)):].values\n",
    "    test_label = df_y.iloc[int(0.8*len(df)):][y]\n",
    "    rf_clf = RandomForestClassifier()\n",
    "    rf_clf.fit(train_data, train_label)\n",
    "    pred = pd.Series(rf_clf.predict(test_data), index=test_label.index)    \n",
    "    accuracy = metrics.accuracy_score(test_label.values, pred.values)\n",
    "    auc = metrics.roc_auc_score(test_label.values, pred.values)\n",
    "    result[y] = [accuracy, auc, pred]\n",
    "    \n",
    "    semi_elapse = time.time() - semi_start\n",
    "    print('Done :', key, '\\n\\t{:.4f} sec'.format(semi_elapse))"
   ]
  },
  {
   "cell_type": "code",
   "execution_count": 69,
   "metadata": {},
   "outputs": [],
   "source": [
    "acc = [data[0] for key, data in result.items()]\n",
    "auc = [data[1] for key, data in result.items()]"
   ]
  },
  {
   "cell_type": "code",
   "execution_count": 71,
   "metadata": {},
   "outputs": [
    {
     "data": {
      "text/plain": [
       "[<matplotlib.lines.Line2D at 0x164e3dbb5f8>]"
      ]
     },
     "execution_count": 71,
     "metadata": {},
     "output_type": "execute_result"
    },
    {
     "data": {
      "image/png": "[encoded data removed]",
      "text/plain": [
       "<matplotlib.figure.Figure at 0x164e6e66a58>"
      ]
     },
     "metadata": {},
     "output_type": "display_data"
    }
   ],
   "source": [
    "plt.plot(acc)"
   ]
  },
  {
   "cell_type": "code",
   "execution_count": null,
   "metadata": {},
   "outputs": [],
   "source": []
  },
  {
   "cell_type": "code",
   "execution_count": null,
   "metadata": {},
   "outputs": [],
   "source": []
  },
  {
   "cell_type": "code",
   "execution_count": null,
   "metadata": {},
   "outputs": [],
   "source": []
  },
  {
   "cell_type": "code",
   "execution_count": 58,
   "metadata": {
    "scrolled": true
   },
   "outputs": [
    {
     "name": "stdout",
     "output_type": "stream",
     "text": [
      "Done : 삼성전자 \n",
      "\t0.1436 sec\n",
      "Done : 삼성전자 \n",
      "\t0.1347 sec\n",
      "Done : 삼성전자 \n",
      "\t0.1496 sec\n",
      "Done : 삼성전자 \n",
      "\t0.1316 sec\n",
      "Done : 삼성전자 \n",
      "\t0.1406 sec\n",
      "Done : 삼성전자 \n",
      "\t0.1326 sec\n",
      "Done : 삼성전자 \n",
      "\t0.1416 sec\n",
      "Done : 삼성전자 \n",
      "\t0.1377 sec\n",
      "Done : 삼성전자 \n",
      "\t0.1476 sec\n",
      "Done : 삼성전자 \n",
      "\t0.1396 sec\n",
      "Done : 삼성전자 \n",
      "\t0.1406 sec\n",
      "Done : 삼성전자 \n",
      "\t0.1526 sec\n",
      "Done : 삼성전자 \n",
      "\t0.1735 sec\n",
      "Done : 삼성전자 \n",
      "\t0.1356 sec\n",
      "Done : 삼성전자 \n",
      "\t0.1356 sec\n",
      "Done : 삼성전자 \n",
      "\t0.1366 sec\n",
      "Done : 삼성전자 \n",
      "\t0.1426 sec\n",
      "Done : 삼성전자 \n",
      "\t0.1536 sec\n",
      "Done : 삼성전자 \n",
      "\t0.1476 sec\n",
      "Done : 삼성전자 \n",
      "\t0.1347 sec\n",
      "Done : 삼성전자 \n",
      "\t0.1416 sec\n",
      "Done : 삼성전자 \n",
      "\t0.1336 sec\n",
      "Done : 삼성전자 \n",
      "\t0.1376 sec\n",
      "Done : 삼성전자 \n",
      "\t0.1297 sec\n",
      "Done : 삼성전자 \n",
      "\t0.1446 sec\n",
      "Done : 삼성전자 \n",
      "\t0.1316 sec\n",
      "Done : 삼성전자 \n",
      "\t0.1566 sec\n",
      "Done : 삼성전자 \n",
      "\t0.1925 sec\n",
      "Done : 삼성전자 \n",
      "\t0.1417 sec\n",
      "Done : 삼성전자 \n",
      "\t0.1406 sec\n",
      "Done : 삼성전자 \n",
      "\t0.1316 sec\n",
      "Done : 삼성전자 \n",
      "\t0.1426 sec\n",
      "Done : 삼성전자 \n",
      "\t0.1336 sec\n",
      "Done : 삼성전자 \n",
      "\t0.1376 sec\n",
      "Done : 삼성전자 \n",
      "\t0.1306 sec\n",
      "Done : 삼성전자 \n",
      "\t0.1376 sec\n",
      "Done : 삼성전자 \n",
      "\t0.1456 sec\n",
      "Done : 삼성전자 \n",
      "\t0.1376 sec\n",
      "Done : 삼성전자 \n",
      "\t0.1366 sec\n",
      "Done : 삼성전자 \n",
      "\t0.1346 sec\n",
      "Done : 삼성전자 \n",
      "\t0.1326 sec\n",
      "Done : 삼성전자 \n",
      "\t0.1386 sec\n",
      "Done : 삼성전자 \n",
      "\t0.1307 sec\n",
      "Done : 삼성전자 \n",
      "\t0.1436 sec\n",
      "Done : 삼성전자 \n",
      "\t0.1337 sec\n",
      "Done : 삼성전자 \n",
      "\t0.1366 sec\n",
      "Done : 삼성전자 \n",
      "\t0.1376 sec\n",
      "Done : 삼성전자 \n",
      "\t0.1486 sec\n",
      "Done : 삼성전자 \n",
      "\t0.1417 sec\n",
      "Done : 삼성전자 \n",
      "\t0.1386 sec\n",
      "Done : 삼성전자 \n",
      "\t0.1446 sec\n",
      "Done : 삼성전자 \n",
      "\t0.1596 sec\n",
      "Done : 삼성전자 \n",
      "\t0.1307 sec\n",
      "Done : 삼성전자 \n",
      "\t0.1456 sec\n",
      "Done : 삼성전자 \n",
      "\t0.1546 sec\n",
      "Done : 삼성전자 \n",
      "\t0.1556 sec\n",
      "Done : 삼성전자 \n",
      "\t0.1346 sec\n",
      "Done : 삼성전자 \n",
      "\t0.1397 sec\n",
      "Done : 삼성전자 \n",
      "\t0.1346 sec\n",
      "Done : 삼성전자 \n",
      "\t0.1347 sec\n",
      "Done : 삼성전자 \n",
      "\t0.1366 sec\n",
      "Done : 삼성전자 \n",
      "\t0.1386 sec\n",
      "Done : 삼성전자 \n",
      "\t0.1366 sec\n",
      "Done : 삼성전자 \n",
      "\t0.1356 sec\n",
      "Done : 삼성전자 \n",
      "\t0.1336 sec\n",
      "Done : 삼성전자 \n",
      "\t0.1366 sec\n",
      "Done : 삼성전자 \n",
      "\t0.1316 sec\n",
      "Done : 삼성전자 \n",
      "\t0.1427 sec\n",
      "Done : 삼성전자 \n",
      "\t0.1566 sec\n",
      "Done : 삼성전자 \n",
      "\t0.1436 sec\n",
      "Done : 삼성전자 \n",
      "\t0.1326 sec\n",
      "Done : 삼성전자 \n",
      "\t0.1407 sec\n",
      "Done : 삼성전자 \n",
      "\t0.1387 sec\n",
      "Done : 삼성전자 \n",
      "\t0.1575 sec\n",
      "Done : 삼성전자 \n",
      "\t0.1616 sec\n",
      "Done : 삼성전자 \n",
      "\t0.1466 sec\n",
      "Done : 삼성전자 \n",
      "\t0.1317 sec\n",
      "Done : 삼성전자 \n",
      "\t0.1356 sec\n",
      "Done : 삼성전자 \n",
      "\t0.1366 sec\n",
      "Done : 삼성전자 \n",
      "\t0.1496 sec\n",
      "Done : 삼성전자 \n",
      "\t0.1336 sec\n",
      "Done : 삼성전자 \n",
      "\t0.1417 sec\n",
      "Done : 삼성전자 \n",
      "\t0.1436 sec\n",
      "Done : 삼성전자 \n",
      "\t0.1386 sec\n",
      "Done : 삼성전자 \n",
      "\t0.1306 sec\n",
      "Done : 삼성전자 \n",
      "\t0.1356 sec\n",
      "Done : 삼성전자 \n",
      "\t0.1386 sec\n",
      "Done : 삼성전자 \n",
      "\t0.1337 sec\n",
      "Done : 삼성전자 \n",
      "\t0.1316 sec\n",
      "Done : 삼성전자 \n",
      "\t0.1346 sec\n"
     ]
    }
   ],
   "source": [
    "result = {}\n",
    "start = time.time()\n",
    "\n",
    "for y in y_li:\n",
    "    key = '삼성전자'\n",
    "    df = raw_data[key]\n",
    "    semi_start = time.time()\n",
    "    \n",
    "    train_data = df.iloc[:int(0.8*len(df))][X_li].values\n",
    "    train_label = df.iloc[:int(0.8*len(df))][y].values\n",
    "    test_data = df.iloc[int(0.8*len(df)):][X_li].values\n",
    "    test_label = df.iloc[int(0.8*len(df)):][y]\n",
    "    xgb_reg = XGBRegressor()\n",
    "    xgb_reg.fit(train_data, train_label)\n",
    "    pred = pd.Series(xgb_reg.predict(test_data), index=test_label.index)\n",
    "    rmse = metrics.mean_squared_error(test_label.values, pred.values) ** .5\n",
    "    accuracy = metrics.accuracy_score(np.where(test_label.values>0, 1, 0), \n",
    "                       np.where(pred.values>0, 1, 0))\n",
    "    result[y] = [rmse, accuracy, pred]\n",
    "    \n",
    "    semi_elapse = time.time() - semi_start\n",
    "    print('Done :', key, '\\n\\t{:.4f} sec'.format(semi_elapse))"
   ]
  },
  {
   "cell_type": "code",
   "execution_count": 59,
   "metadata": {},
   "outputs": [],
   "source": [
    "rmse = [data[0] for key, data in result.items()]\n",
    "acc = [data[1] for key, data in result.items()]"
   ]
  },
  {
   "cell_type": "code",
   "execution_count": 61,
   "metadata": {},
   "outputs": [
    {
     "data": {
      "text/plain": [
       "[<matplotlib.lines.Line2D at 0x164e7e5bf98>]"
      ]
     },
     "execution_count": 61,
     "metadata": {},
     "output_type": "execute_result"
    },
    {
     "data": {
      "image/png": "[encoded data removed]",
      "text/plain": [
       "<matplotlib.figure.Figure at 0x164e5de8eb8>"
      ]
     },
     "metadata": {},
     "output_type": "display_data"
    }
   ],
   "source": [
    "plt.plot(acc)"
   ]
  },
  {
   "cell_type": "code",
   "execution_count": null,
   "metadata": {},
   "outputs": [],
   "source": []
  }
 ],
 "metadata": {
  "kernelspec": {
   "display_name": "Python 3",
   "language": "python",
   "name": "python3"
  },
  "language_info": {
   "codemirror_mode": {
    "name": "ipython",
    "version": 3
   },
   "file_extension": ".py",
   "mimetype": "text/x-python",
   "name": "python",
   "nbconvert_exporter": "python",
   "pygments_lexer": "ipython3",
   "version": "3.6.5"
  }
 },
 "nbformat": 4,
 "nbformat_minor": 2
}
